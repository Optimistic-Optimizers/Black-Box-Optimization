{
 "cells": [
  {
   "cell_type": "markdown",
   "metadata": {},
   "source": [
    "@Misc{,\n",
    "    author = {Fernando Nogueira},\n",
    "    title = {{Bayesian Optimization}: Open source constrained global optimization tool for {Python}},\n",
    "    year = {2014--},\n",
    "    url = \" https://github.com/fmfn/BayesianOptimization\"\n",
    "}"
   ]
  },
  {
   "cell_type": "markdown",
   "metadata": {},
   "source": [
    "### pip install bayesian-optimization (in terminal)"
   ]
  },
  {
   "cell_type": "markdown",
   "metadata": {},
   "source": [
    "### Specifying the function to be optimized:"
   ]
  },
  {
   "cell_type": "markdown",
   "metadata": {},
   "source": [
    "Define the function to be optimized:"
   ]
  },
  {
   "cell_type": "code",
   "execution_count": 1,
   "metadata": {},
   "outputs": [],
   "source": [
    "import numpy as np\n",
    "def black_box_function(x, y):\n",
    "    \"\"\"Function with unknown internals we wish to maximize.\n",
    "\n",
    "    This is just serving as an example, for all intents and\n",
    "    purposes think of the internals of this function, i.e.: the process\n",
    "    which generates its output values, as unknown.\n",
    "    \"\"\"\n",
    "    return np.sin(x**2) + 3*y"
   ]
  },
  {
   "cell_type": "markdown",
   "metadata": {},
   "source": [
    "### Getting started:"
   ]
  },
  {
   "cell_type": "markdown",
   "metadata": {},
   "source": [
    "1. Import the \"BayesianOptimization\" object.\n",
    "2. Specify a function to be optimized, f. \n",
    "3. Specify its parameters with their corresponding bounds, pbounds. (This is a constrained optimization technique, so you must specify the minimum and maximum values that can be probed for each parameter in order for it to work.)"
   ]
  },
  {
   "cell_type": "code",
   "execution_count": 2,
   "metadata": {},
   "outputs": [],
   "source": [
    "from bayes_opt import BayesianOptimization\n",
    "\n",
    "# Bounded region of parameter space\n",
    "pbounds = {'x': (-100, 100), 'y': (-100, 100)}\n",
    "\n",
    "optimizer = BayesianOptimization(\n",
    "    f=black_box_function,\n",
    "    pbounds=pbounds,\n",
    "    random_state=1)"
   ]
  },
  {
   "cell_type": "markdown",
   "metadata": {},
   "source": [
    "Parameters to maximized:\n",
    "\n",
    "<strong>n_iter</strong>: Specifies the number of steps of the Bayesian optimization to perform. Iterating over more steps will increase the liklihood of finding the maximum.\n",
    "\n",
    "<strong>init_points</strong>: Specifies the number of steps of random exploration to perform. Random exploration can help by diversifying the exploration space."
   ]
  },
  {
   "cell_type": "code",
   "execution_count": 10,
   "metadata": {},
   "outputs": [
    {
     "name": "stdout",
     "output_type": "stream",
     "text": [
      "|   iter    |  target   |     x     |     y     |\n",
      "-------------------------------------------------\n",
      "| \u001b[0m 123     \u001b[0m | \u001b[0m 236.1   \u001b[0m | \u001b[0m 75.28   \u001b[0m | \u001b[0m 78.92   \u001b[0m |\n",
      "| \u001b[0m 124     \u001b[0m | \u001b[0m-275.6   \u001b[0m | \u001b[0m-82.99   \u001b[0m | \u001b[0m-92.19   \u001b[0m |\n",
      "| \u001b[0m 125     \u001b[0m | \u001b[0m 226.8   \u001b[0m | \u001b[0m-66.03   \u001b[0m | \u001b[0m 75.63   \u001b[0m |\n",
      "| \u001b[0m 126     \u001b[0m | \u001b[0m-47.16   \u001b[0m | \u001b[0m-80.33   \u001b[0m | \u001b[0m-15.78   \u001b[0m |\n",
      "| \u001b[0m 127     \u001b[0m | \u001b[0m 18.9    \u001b[0m | \u001b[0m 91.58   \u001b[0m | \u001b[0m 6.633   \u001b[0m |\n",
      "| \u001b[0m 128     \u001b[0m | \u001b[0m-110.0   \u001b[0m | \u001b[0m 38.38   \u001b[0m | \u001b[0m-36.9    \u001b[0m |\n",
      "| \u001b[0m 129     \u001b[0m | \u001b[0m 201.2   \u001b[0m | \u001b[0m 37.3    \u001b[0m | \u001b[0m 66.93   \u001b[0m |\n",
      "| \u001b[0m 130     \u001b[0m | \u001b[0m 151.1   \u001b[0m | \u001b[0m-96.34   \u001b[0m | \u001b[0m 50.03   \u001b[0m |\n",
      "| \u001b[0m 131     \u001b[0m | \u001b[0m 149.3   \u001b[0m | \u001b[0m 97.77   \u001b[0m | \u001b[0m 49.63   \u001b[0m |\n",
      "| \u001b[0m 132     \u001b[0m | \u001b[0m 172.9   \u001b[0m | \u001b[0m-43.91   \u001b[0m | \u001b[0m 57.86   \u001b[0m |\n",
      "| \u001b[0m 133     \u001b[0m | \u001b[0m 299.0   \u001b[0m | \u001b[0m 12.23   \u001b[0m | \u001b[0m 99.97   \u001b[0m |\n",
      "| \u001b[0m 134     \u001b[0m | \u001b[0m 300.8   \u001b[0m | \u001b[0m-89.62   \u001b[0m | \u001b[0m 99.93   \u001b[0m |\n",
      "| \u001b[0m 135     \u001b[0m | \u001b[0m 299.5   \u001b[0m | \u001b[0m 52.31   \u001b[0m | \u001b[0m 99.91   \u001b[0m |\n",
      "| \u001b[0m 136     \u001b[0m | \u001b[0m 300.6   \u001b[0m | \u001b[0m 1.572   \u001b[0m | \u001b[0m 99.98   \u001b[0m |\n",
      "| \u001b[0m 137     \u001b[0m | \u001b[0m 299.7   \u001b[0m | \u001b[0m-100.0   \u001b[0m | \u001b[0m 100.0   \u001b[0m |\n",
      "| \u001b[0m 138     \u001b[0m | \u001b[0m 299.1   \u001b[0m | \u001b[0m 5.949   \u001b[0m | \u001b[0m 99.94   \u001b[0m |\n",
      "| \u001b[0m 139     \u001b[0m | \u001b[0m 299.3   \u001b[0m | \u001b[0m-80.31   \u001b[0m | \u001b[0m 99.86   \u001b[0m |\n",
      "| \u001b[0m 140     \u001b[0m | \u001b[0m 154.8   \u001b[0m | \u001b[0m-70.19   \u001b[0m | \u001b[0m 51.51   \u001b[0m |\n",
      "| \u001b[0m 141     \u001b[0m | \u001b[0m 135.4   \u001b[0m | \u001b[0m 74.97   \u001b[0m | \u001b[0m 44.97   \u001b[0m |\n",
      "| \u001b[0m 142     \u001b[0m | \u001b[0m 10.28   \u001b[0m | \u001b[0m-53.94   \u001b[0m | \u001b[0m 3.254   \u001b[0m |\n",
      "=================================================\n"
     ]
    }
   ],
   "source": [
    "optimizer.maximize(\n",
    "    init_points=10,\n",
    "    n_iter=10,\n",
    ")"
   ]
  },
  {
   "cell_type": "markdown",
   "metadata": {},
   "source": [
    "The property <strong>optimizer.max</strong> returns the best combination of parameters and target value found."
   ]
  },
  {
   "cell_type": "code",
   "execution_count": 23,
   "metadata": {},
   "outputs": [
    {
     "name": "stdout",
     "output_type": "stream",
     "text": [
      "{'target': 300.97375288560113, 'params': {'x': 40.903883779290425, 'y': 99.99999999113209}}\n"
     ]
    }
   ],
   "source": [
    "print(optimizer.max)"
   ]
  },
  {
   "cell_type": "markdown",
   "metadata": {},
   "source": [
    "The property <strong>optimizer.res</strong> returns the list of all parameters probed and their corresponding target values."
   ]
  },
  {
   "cell_type": "code",
   "execution_count": 8,
   "metadata": {},
   "outputs": [
    {
     "name": "stdout",
     "output_type": "stream",
     "text": [
      "Iteration 0: \n",
      "\t{'target': 131.32914714326708, 'params': {'x': -16.595599059485195, 'y': 44.06489868843161}}\n",
      "Iteration 1: \n",
      "\t{'target': -119.50155358190621, 'params': {'x': -99.97712503653102, 'y': -39.53348547363205}}\n",
      "Iteration 2: \n",
      "\t{'target': 134.13424610037518, 'params': {'x': -15.620084795114494, 'y': 45.00173950030185}}\n",
      "Iteration 3: \n",
      "\t{'target': 299.4537228867224, 'params': {'x': 95.92863386624244, 'y': 100.0}}\n",
      "Iteration 4: \n",
      "\t{'target': -117.56856367367455, 'params': {'x': 100.0, 'y': -39.08764976159543}}\n",
      "Iteration 5: \n",
      "\t{'target': 299.6943856111117, 'params': {'x': -100.0, 'y': 100.0}}\n",
      "Iteration 6: \n",
      "\t{'target': 300.68410524927066, 'params': {'x': -36.09719622034377, 'y': 100.0}}\n",
      "Iteration 7: \n",
      "\t{'target': 299.49150277502, 'params': {'x': 41.91281107240906, 'y': 100.0}}\n",
      "Iteration 8: \n",
      "\t{'target': 298.56200715166403, 'params': {'x': -70.88656898108036, 'y': 99.85314384498253}}\n",
      "Iteration 9: \n",
      "\t{'target': 300.19653252423603, 'params': {'x': 2.5622900765289103, 'y': 99.9727053083675}}\n",
      "Iteration 10: \n",
      "\t{'target': 298.7273234794015, 'params': {'x': 68.86536512588327, 'y': 99.90216858419103}}\n",
      "Iteration 11: \n",
      "\t{'target': 299.2243395492675, 'params': {'x': -13.696999612771135, 'y': 99.99999999501311}}\n"
     ]
    }
   ],
   "source": [
    "for i, res in enumerate(optimizer.res):\n",
    "    print(\"Iteration {}: \\n\\t{}\".format(i, res))"
   ]
  },
  {
   "cell_type": "markdown",
   "metadata": {},
   "source": [
    "The function <strong>set_bounds</strong> can be used to modify the bounds, which allows for any combination of existing parameters and their associated new bounds to be passed."
   ]
  },
  {
   "cell_type": "code",
   "execution_count": 6,
   "metadata": {},
   "outputs": [
    {
     "name": "stdout",
     "output_type": "stream",
     "text": [
      "|   iter    |  target   |     x     |     y     |\n",
      "-------------------------------------------------\n",
      "| \u001b[95m 6       \u001b[0m | \u001b[95m-2.942   \u001b[0m | \u001b[95m 1.98    \u001b[0m | \u001b[95m 0.8567  \u001b[0m |\n",
      "| \u001b[95m 7       \u001b[0m | \u001b[95m-0.4597  \u001b[0m | \u001b[95m 1.096   \u001b[0m | \u001b[95m 1.508   \u001b[0m |\n",
      "| \u001b[95m 8       \u001b[0m | \u001b[95m 0.5304  \u001b[0m | \u001b[95m-0.6807  \u001b[0m | \u001b[95m 1.079   \u001b[0m |\n",
      "| \u001b[0m 9       \u001b[0m | \u001b[0m-5.33    \u001b[0m | \u001b[0m-1.526   \u001b[0m | \u001b[0m 3.0     \u001b[0m |\n",
      "| \u001b[0m 10      \u001b[0m | \u001b[0m-5.419   \u001b[0m | \u001b[0m-2.0     \u001b[0m | \u001b[0m-0.5552  \u001b[0m |\n",
      "=================================================\n"
     ]
    }
   ],
   "source": [
    "optimizer.set_bounds(new_bounds={\"x\": (-2, 3)})\n",
    "\n",
    "optimizer.maximize(\n",
    "    init_points=0,\n",
    "    n_iter=5,\n",
    ")"
   ]
  },
  {
   "cell_type": "markdown",
   "metadata": {},
   "source": [
    "### Guiding the probe:"
   ]
  },
  {
   "cell_type": "markdown",
   "metadata": {},
   "source": [
    "If the user has an idea as to where the maxima/minima may occur, specific points can be selected for probing. The default is to explore lazily (lazy=True), meaning these points will be evaluated only the next time you call <strong>maximize</strong>. This probing process happens before the Gaussian Process takes over.\n",
    "\n",
    "Parameters can be passed as dictionaries or as an iterable."
   ]
  },
  {
   "cell_type": "code",
   "execution_count": 7,
   "metadata": {},
   "outputs": [
    {
     "name": "stdout",
     "output_type": "stream",
     "text": [
      "|   iter    |  target   |     x     |     y     |\n",
      "-------------------------------------------------\n",
      "| \u001b[95m 11      \u001b[0m | \u001b[95m 0.66    \u001b[0m | \u001b[95m 0.5     \u001b[0m | \u001b[95m 0.7     \u001b[0m |\n",
      "| \u001b[0m 12      \u001b[0m | \u001b[0m 0.1     \u001b[0m | \u001b[0m-0.3     \u001b[0m | \u001b[0m 0.1     \u001b[0m |\n",
      "=================================================\n"
     ]
    }
   ],
   "source": [
    "optimizer.probe(\n",
    "    params={\"x\": 0.5, \"y\": 0.7},\n",
    "    lazy=True,\n",
    ")\n",
    "\n",
    "optimizer.probe(\n",
    "    params=[-0.3, 0.1],\n",
    "    lazy=True,\n",
    ")\n",
    "\n",
    "# Will probe only the two points specified above\n",
    "optimizer.maximize(init_points=0, n_iter=0)"
   ]
  },
  {
   "cell_type": "markdown",
   "metadata": {},
   "source": [
    "### Loop to Test Performance of Optimizer"
   ]
  },
  {
   "cell_type": "code",
   "execution_count": 4,
   "metadata": {},
   "outputs": [
    {
     "name": "stdout",
     "output_type": "stream",
     "text": [
      "|   iter    |  target   |     x     |     y     |\n",
      "-------------------------------------------------\n",
      "| \u001b[0m 2       \u001b[0m | \u001b[0m-119.5   \u001b[0m | \u001b[0m-99.98   \u001b[0m | \u001b[0m-39.53   \u001b[0m |\n",
      "| \u001b[95m 3       \u001b[0m | \u001b[95m 134.1   \u001b[0m | \u001b[95m-15.62   \u001b[0m | \u001b[95m 45.0    \u001b[0m |\n",
      "| \u001b[95m 4       \u001b[0m | \u001b[95m 299.5   \u001b[0m | \u001b[95m 95.93   \u001b[0m | \u001b[95m 100.0   \u001b[0m |\n",
      "| \u001b[0m 5       \u001b[0m | \u001b[0m-117.6   \u001b[0m | \u001b[0m 100.0   \u001b[0m | \u001b[0m-39.09   \u001b[0m |\n",
      "| \u001b[95m 6       \u001b[0m | \u001b[95m 299.7   \u001b[0m | \u001b[95m-100.0   \u001b[0m | \u001b[95m 100.0   \u001b[0m |\n",
      "| \u001b[95m 7       \u001b[0m | \u001b[95m 300.7   \u001b[0m | \u001b[95m-36.1    \u001b[0m | \u001b[95m 100.0   \u001b[0m |\n",
      "| \u001b[0m 8       \u001b[0m | \u001b[0m 299.5   \u001b[0m | \u001b[0m 41.91   \u001b[0m | \u001b[0m 100.0   \u001b[0m |\n",
      "| \u001b[0m 9       \u001b[0m | \u001b[0m 298.6   \u001b[0m | \u001b[0m-70.89   \u001b[0m | \u001b[0m 99.85   \u001b[0m |\n",
      "| \u001b[0m 10      \u001b[0m | \u001b[0m 300.2   \u001b[0m | \u001b[0m 2.562   \u001b[0m | \u001b[0m 99.97   \u001b[0m |\n",
      "| \u001b[0m 11      \u001b[0m | \u001b[0m 298.7   \u001b[0m | \u001b[0m 68.87   \u001b[0m | \u001b[0m 99.9    \u001b[0m |\n",
      "| \u001b[0m 12      \u001b[0m | \u001b[0m 299.2   \u001b[0m | \u001b[0m-13.7    \u001b[0m | \u001b[0m 100.0   \u001b[0m |\n",
      "=================================================\n",
      "|   iter    |  target   |     x     |     y     |\n",
      "-------------------------------------------------\n",
      "| \u001b[0m 13      \u001b[0m | \u001b[0m-243.9   \u001b[0m | \u001b[0m-70.65   \u001b[0m | \u001b[0m-81.53   \u001b[0m |\n",
      "| \u001b[95m 14      \u001b[0m | \u001b[95m 300.9   \u001b[0m | \u001b[95m 21.75   \u001b[0m | \u001b[95m 99.97   \u001b[0m |\n",
      "| \u001b[0m 15      \u001b[0m | \u001b[0m 299.0   \u001b[0m | \u001b[0m-42.22   \u001b[0m | \u001b[0m 100.0   \u001b[0m |\n",
      "| \u001b[0m 16      \u001b[0m | \u001b[0m 299.5   \u001b[0m | \u001b[0m-86.13   \u001b[0m | \u001b[0m 100.0   \u001b[0m |\n",
      "| \u001b[0m 17      \u001b[0m | \u001b[0m 300.6   \u001b[0m | \u001b[0m 27.95   \u001b[0m | \u001b[0m 99.93   \u001b[0m |\n",
      "| \u001b[0m 18      \u001b[0m | \u001b[0m 299.4   \u001b[0m | \u001b[0m 81.55   \u001b[0m | \u001b[0m 99.77   \u001b[0m |\n",
      "| \u001b[0m 19      \u001b[0m | \u001b[0m 299.3   \u001b[0m | \u001b[0m-26.12   \u001b[0m | \u001b[0m 100.0   \u001b[0m |\n",
      "| \u001b[0m 20      \u001b[0m | \u001b[0m 251.0   \u001b[0m | \u001b[0m-99.64   \u001b[0m | \u001b[0m 83.35   \u001b[0m |\n",
      "| \u001b[0m 21      \u001b[0m | \u001b[0m 299.7   \u001b[0m | \u001b[0m 13.72   \u001b[0m | \u001b[0m 99.98   \u001b[0m |\n",
      "| \u001b[0m 22      \u001b[0m | \u001b[0m 252.4   \u001b[0m | \u001b[0m 99.58   \u001b[0m | \u001b[0m 83.81   \u001b[0m |\n",
      "| \u001b[95m 23      \u001b[0m | \u001b[95m 300.9   \u001b[0m | \u001b[95m-4.534   \u001b[0m | \u001b[95m 99.98   \u001b[0m |\n",
      "=================================================\n",
      "|   iter    |  target   |     x     |     y     |\n",
      "-------------------------------------------------\n",
      "| \u001b[0m 24      \u001b[0m | \u001b[0m-93.44   \u001b[0m | \u001b[0m-62.75   \u001b[0m | \u001b[0m-30.89   \u001b[0m |\n",
      "| \u001b[0m 25      \u001b[0m | \u001b[0m 299.7   \u001b[0m | \u001b[0m 100.0   \u001b[0m | \u001b[0m 100.0   \u001b[0m |\n",
      "| \u001b[0m 26      \u001b[0m | \u001b[0m 300.3   \u001b[0m | \u001b[0m 34.47   \u001b[0m | \u001b[0m 99.87   \u001b[0m |\n",
      "| \u001b[0m 27      \u001b[0m | \u001b[0m 299.7   \u001b[0m | \u001b[0m-1.85    \u001b[0m | \u001b[0m 99.99   \u001b[0m |\n",
      "| \u001b[95m 28      \u001b[0m | \u001b[95m 301.0   \u001b[0m | \u001b[95m 34.21   \u001b[0m | \u001b[95m 100.0   \u001b[0m |\n",
      "| \u001b[0m 29      \u001b[0m | \u001b[0m 298.8   \u001b[0m | \u001b[0m 33.7    \u001b[0m | \u001b[0m 99.94   \u001b[0m |\n",
      "| \u001b[0m 30      \u001b[0m | \u001b[0m-300.8   \u001b[0m | \u001b[0m 31.09   \u001b[0m | \u001b[0m-100.0   \u001b[0m |\n",
      "| \u001b[0m 31      \u001b[0m | \u001b[0m 298.6   \u001b[0m | \u001b[0m 25.76   \u001b[0m | \u001b[0m 99.79   \u001b[0m |\n",
      "| \u001b[0m 32      \u001b[0m | \u001b[0m 83.79   \u001b[0m | \u001b[0m 58.0    \u001b[0m | \u001b[0m 27.91   \u001b[0m |\n",
      "| \u001b[0m 33      \u001b[0m | \u001b[0m 96.87   \u001b[0m | \u001b[0m-100.0   \u001b[0m | \u001b[0m 32.39   \u001b[0m |\n",
      "| \u001b[0m 34      \u001b[0m | \u001b[0m-36.57   \u001b[0m | \u001b[0m 10.36   \u001b[0m | \u001b[0m-12.35   \u001b[0m |\n",
      "=================================================\n",
      "|   iter    |  target   |     x     |     y     |\n",
      "-------------------------------------------------\n",
      "| \u001b[0m 35      \u001b[0m | \u001b[0m 22.46   \u001b[0m | \u001b[0m-20.65   \u001b[0m | \u001b[0m 7.763   \u001b[0m |\n",
      "| \u001b[0m 36      \u001b[0m | \u001b[0m 202.9   \u001b[0m | \u001b[0m-55.43   \u001b[0m | \u001b[0m 67.72   \u001b[0m |\n",
      "| \u001b[0m 37      \u001b[0m | \u001b[0m 112.4   \u001b[0m | \u001b[0m 99.66   \u001b[0m | \u001b[0m 37.77   \u001b[0m |\n",
      "| \u001b[0m 38      \u001b[0m | \u001b[0m-300.3   \u001b[0m | \u001b[0m 100.0   \u001b[0m | \u001b[0m-100.0   \u001b[0m |\n",
      "| \u001b[0m 39      \u001b[0m | \u001b[0m 298.9   \u001b[0m | \u001b[0m 34.71   \u001b[0m | \u001b[0m 99.97   \u001b[0m |\n",
      "| \u001b[0m 40      \u001b[0m | \u001b[0m 298.7   \u001b[0m | \u001b[0m 88.79   \u001b[0m | \u001b[0m 99.91   \u001b[0m |\n",
      "| \u001b[0m 41      \u001b[0m | \u001b[0m 299.4   \u001b[0m | \u001b[0m 79.58   \u001b[0m | \u001b[0m 99.93   \u001b[0m |\n",
      "| \u001b[0m 42      \u001b[0m | \u001b[0m 300.7   \u001b[0m | \u001b[0m-92.65   \u001b[0m | \u001b[0m 99.99   \u001b[0m |\n",
      "| \u001b[0m 43      \u001b[0m | \u001b[0m 299.8   \u001b[0m | \u001b[0m-7.518   \u001b[0m | \u001b[0m 99.93   \u001b[0m |\n",
      "| \u001b[0m 44      \u001b[0m | \u001b[0m 299.9   \u001b[0m | \u001b[0m 18.93   \u001b[0m | \u001b[0m 99.92   \u001b[0m |\n",
      "| \u001b[0m 45      \u001b[0m | \u001b[0m 300.0   \u001b[0m | \u001b[0m-95.36   \u001b[0m | \u001b[0m 99.84   \u001b[0m |\n",
      "=================================================\n",
      "|   iter    |  target   |     x     |     y     |\n",
      "-------------------------------------------------\n",
      "| \u001b[0m 46      \u001b[0m | \u001b[0m 110.7   \u001b[0m | \u001b[0m-16.16   \u001b[0m | \u001b[0m 37.04   \u001b[0m |\n",
      "| \u001b[0m 47      \u001b[0m | \u001b[0m 300.6   \u001b[0m | \u001b[0m-89.97   \u001b[0m | \u001b[0m 99.91   \u001b[0m |\n",
      "| \u001b[0m 48      \u001b[0m | \u001b[0m 299.8   \u001b[0m | \u001b[0m-35.1    \u001b[0m | \u001b[0m 99.84   \u001b[0m |\n",
      "| \u001b[0m 49      \u001b[0m | \u001b[0m 300.8   \u001b[0m | \u001b[0m-1.004   \u001b[0m | \u001b[0m 99.98   \u001b[0m |\n",
      "| \u001b[0m 50      \u001b[0m | \u001b[0m 299.9   \u001b[0m | \u001b[0m 31.21   \u001b[0m | \u001b[0m 99.98   \u001b[0m |\n",
      "| \u001b[0m 51      \u001b[0m | \u001b[0m 300.6   \u001b[0m | \u001b[0m-59.06   \u001b[0m | \u001b[0m 100.0   \u001b[0m |\n",
      "| \u001b[0m 52      \u001b[0m | \u001b[0m 299.7   \u001b[0m | \u001b[0m 100.0   \u001b[0m | \u001b[0m 100.0   \u001b[0m |\n",
      "| \u001b[0m 53      \u001b[0m | \u001b[0m 300.0   \u001b[0m | \u001b[0m 50.97   \u001b[0m | \u001b[0m 100.0   \u001b[0m |\n",
      "| \u001b[0m 54      \u001b[0m | \u001b[0m 299.7   \u001b[0m | \u001b[0m-57.51   \u001b[0m | \u001b[0m 99.86   \u001b[0m |\n",
      "| \u001b[0m 55      \u001b[0m | \u001b[0m 299.1   \u001b[0m | \u001b[0m 20.5    \u001b[0m | \u001b[0m 99.96   \u001b[0m |\n",
      "| \u001b[0m 56      \u001b[0m | \u001b[0m 300.8   \u001b[0m | \u001b[0m 52.65   \u001b[0m | \u001b[0m 100.0   \u001b[0m |\n",
      "=================================================\n"
     ]
    }
   ],
   "source": [
    "maxvalue = []\n",
    "for i in range(5):\n",
    "    optimizer.maximize(\n",
    "    init_points=1,\n",
    "    n_iter=10,)\n",
    "    maxvalue.append(optimizer.max['target'])\n"
   ]
  },
  {
   "cell_type": "code",
   "execution_count": 7,
   "metadata": {},
   "outputs": [
    {
     "data": {
      "text/plain": [
       "300.91971596580925"
      ]
     },
     "execution_count": 7,
     "metadata": {},
     "output_type": "execute_result"
    }
   ],
   "source": [
    "np.mean(maxvalue)"
   ]
  },
  {
   "cell_type": "code",
   "execution_count": null,
   "metadata": {},
   "outputs": [],
   "source": []
  },
  {
   "cell_type": "code",
   "execution_count": null,
   "metadata": {},
   "outputs": [],
   "source": []
  },
  {
   "cell_type": "code",
   "execution_count": null,
   "metadata": {},
   "outputs": [],
   "source": []
  },
  {
   "cell_type": "code",
   "execution_count": null,
   "metadata": {},
   "outputs": [],
   "source": []
  }
 ],
 "metadata": {
  "kernelspec": {
   "display_name": "Python 3",
   "language": "python",
   "name": "python3"
  },
  "language_info": {
   "codemirror_mode": {
    "name": "ipython",
    "version": 3
   },
   "file_extension": ".py",
   "mimetype": "text/x-python",
   "name": "python",
   "nbconvert_exporter": "python",
   "pygments_lexer": "ipython3",
   "version": "3.8.5"
  }
 },
 "nbformat": 4,
 "nbformat_minor": 4
}
