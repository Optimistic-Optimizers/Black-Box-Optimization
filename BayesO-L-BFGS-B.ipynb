{
 "cells": [
  {
   "cell_type": "markdown",
   "metadata": {},
   "source": [
    "@misc{KimJ2017bayeso, author={Kim, Jungtaek and Choi, Seungjin}, title={{BayesO}: A {Bayesian} optimization framework in {Python}}, howpublished={\\url{http://bayeso.org}}, year={2017} }"
   ]
  },
  {
   "cell_type": "code",
   "execution_count": 11,
   "metadata": {},
   "outputs": [],
   "source": [
    "import numpy as np\n",
    "from bayeso import bo\n",
    "import pandas as pd\n",
    "# from benchmarks.two_dim_branin import Branin\n",
    "from bayeso.wrappers import wrappers_bo\n",
    "from bayeso.utils import utils_plotting\n",
    "import matplotlib.pyplot as plt\n",
    "import random\n",
    "from bayeso.utils import utils_bo\n",
    "import time"
   ]
  },
  {
   "cell_type": "code",
   "execution_count": 12,
   "metadata": {},
   "outputs": [],
   "source": [
    "xmin = -100\n",
    "xmax = 100\n",
    "ymin = -100\n",
    "ymax = 100\n",
    "amin = -100\n",
    "amax = 100\n",
    "bmin = -100\n",
    "bmax = 100"
   ]
  },
  {
   "cell_type": "code",
   "execution_count": 13,
   "metadata": {},
   "outputs": [],
   "source": [
    "def func(x):\n",
    "    noise = 0 * (np.random.rand(1) - 0.5)\n",
    "    fun = np.sin(x[0]*x[1]*x[2]*x[3]) - np.cos(5*x[0]) + np.tan(x[0]/x[3] + x[1]*x[2])\n",
    "    return -(fun+noise)"
   ]
  },
  {
   "cell_type": "code",
   "execution_count": 14,
   "metadata": {},
   "outputs": [],
   "source": [
    "bounds = np.array([[-100, 100],[-100,100],[-100,100],[-100,100]])"
   ]
  },
  {
   "cell_type": "code",
   "execution_count": 15,
   "metadata": {},
   "outputs": [
    {
     "name": "stderr",
     "output_type": "stream",
     "text": [
      "[INFO-wrappers_bo-03/08/2021-21:07:05] range_X:\n",
      "[[-100, 100],\n",
      "[-100, 100],\n",
      "[-100, 100],\n",
      "[-100, 100]]\n",
      "[INFO-wrappers_bo-03/08/2021-21:07:05] str_cov: matern52\n",
      "[INFO-wrappers_bo-03/08/2021-21:07:05] str_acq: ei\n",
      "[INFO-wrappers_bo-03/08/2021-21:07:05] str_optimizer_method_gp: BFGS\n",
      "[INFO-wrappers_bo-03/08/2021-21:07:05] str_optimizer_method_bo: L-BFGS-B\n",
      "[INFO-wrappers_bo-03/08/2021-21:07:05] str_modelselection_method: ml\n",
      "[INFO-wrappers_bo-03/08/2021-21:07:05] num_init: 10\n",
      "[INFO-wrappers_bo-03/08/2021-21:07:05] num_iter: 10\n",
      "[INFO-wrappers_bo-03/08/2021-21:07:05] str_initial_method_bo: uniform\n",
      "[INFO-wrappers_bo-03/08/2021-21:07:05] str_sampling_method_ao: uniform\n",
      "[INFO-wrappers_bo-03/08/2021-21:07:05] num_samples_ao: 100\n",
      "[INFO-wrappers_bo-03/08/2021-21:07:05] str_mlm_method: regular\n",
      "[INFO-wrappers_bo-03/08/2021-21:07:05] seed: None\n",
      "[INFO-wrappers_bo-03/08/2021-21:07:05] Iteration 1\n"
     ]
    },
    {
     "name": "stdout",
     "output_type": "stream",
     "text": [
      "BO Round 1\n"
     ]
    },
    {
     "name": "stderr",
     "output_type": "stream",
     "text": [
      "[INFO-wrappers_bo-03/08/2021-21:07:05] Iteration 2\n",
      "[INFO-wrappers_bo-03/08/2021-21:07:06] Iteration 3\n",
      "[INFO-wrappers_bo-03/08/2021-21:07:06] Iteration 4\n",
      "[INFO-wrappers_bo-03/08/2021-21:07:06] Iteration 5\n",
      "[INFO-wrappers_bo-03/08/2021-21:07:07] Iteration 6\n",
      "[INFO-wrappers_bo-03/08/2021-21:07:07] Iteration 7\n",
      "[INFO-wrappers_bo-03/08/2021-21:07:07] Iteration 8\n",
      "[INFO-wrappers_bo-03/08/2021-21:07:07] Iteration 9\n",
      "[INFO-wrappers_bo-03/08/2021-21:07:08] Iteration 10\n",
      "[INFO-wrappers_bo-03/08/2021-21:07:08] range_X:\n",
      "[[-100, 100],\n",
      "[-100, 100],\n",
      "[-100, 100],\n",
      "[-100, 100]]\n",
      "[INFO-wrappers_bo-03/08/2021-21:07:08] str_cov: matern52\n",
      "[INFO-wrappers_bo-03/08/2021-21:07:08] str_acq: ei\n",
      "[INFO-wrappers_bo-03/08/2021-21:07:08] str_optimizer_method_gp: BFGS\n",
      "[INFO-wrappers_bo-03/08/2021-21:07:08] str_optimizer_method_bo: L-BFGS-B\n",
      "[INFO-wrappers_bo-03/08/2021-21:07:08] str_modelselection_method: ml\n",
      "[INFO-wrappers_bo-03/08/2021-21:07:08] num_init: 10\n",
      "[INFO-wrappers_bo-03/08/2021-21:07:08] num_iter: 10\n",
      "[INFO-wrappers_bo-03/08/2021-21:07:08] str_initial_method_bo: uniform\n",
      "[INFO-wrappers_bo-03/08/2021-21:07:08] str_sampling_method_ao: uniform\n",
      "[INFO-wrappers_bo-03/08/2021-21:07:08] num_samples_ao: 100\n",
      "[INFO-wrappers_bo-03/08/2021-21:07:08] str_mlm_method: regular\n",
      "[INFO-wrappers_bo-03/08/2021-21:07:08] seed: None\n",
      "[INFO-wrappers_bo-03/08/2021-21:07:08] Iteration 1\n"
     ]
    },
    {
     "name": "stdout",
     "output_type": "stream",
     "text": [
      "BO Round 2\n"
     ]
    },
    {
     "name": "stderr",
     "output_type": "stream",
     "text": [
      "[INFO-wrappers_bo-03/08/2021-21:07:08] Iteration 2\n",
      "[INFO-wrappers_bo-03/08/2021-21:07:09] Iteration 3\n",
      "[INFO-wrappers_bo-03/08/2021-21:07:09] Iteration 4\n",
      "[INFO-wrappers_bo-03/08/2021-21:07:09] Iteration 5\n",
      "[INFO-wrappers_bo-03/08/2021-21:07:10] Iteration 6\n",
      "[INFO-wrappers_bo-03/08/2021-21:07:10] Iteration 7\n",
      "[INFO-wrappers_bo-03/08/2021-21:07:10] Iteration 8\n",
      "[INFO-wrappers_bo-03/08/2021-21:07:10] Iteration 9\n",
      "[INFO-wrappers_bo-03/08/2021-21:07:11] Iteration 10\n",
      "[INFO-wrappers_bo-03/08/2021-21:07:11] range_X:\n",
      "[[-100, 100],\n",
      "[-100, 100],\n",
      "[-100, 100],\n",
      "[-100, 100]]\n",
      "[INFO-wrappers_bo-03/08/2021-21:07:11] str_cov: matern52\n",
      "[INFO-wrappers_bo-03/08/2021-21:07:11] str_acq: ei\n",
      "[INFO-wrappers_bo-03/08/2021-21:07:11] str_optimizer_method_gp: BFGS\n",
      "[INFO-wrappers_bo-03/08/2021-21:07:11] str_optimizer_method_bo: L-BFGS-B\n",
      "[INFO-wrappers_bo-03/08/2021-21:07:11] str_modelselection_method: ml\n",
      "[INFO-wrappers_bo-03/08/2021-21:07:11] num_init: 10\n",
      "[INFO-wrappers_bo-03/08/2021-21:07:11] num_iter: 10\n",
      "[INFO-wrappers_bo-03/08/2021-21:07:11] str_initial_method_bo: uniform\n",
      "[INFO-wrappers_bo-03/08/2021-21:07:11] str_sampling_method_ao: uniform\n",
      "[INFO-wrappers_bo-03/08/2021-21:07:11] num_samples_ao: 100\n",
      "[INFO-wrappers_bo-03/08/2021-21:07:11] str_mlm_method: regular\n",
      "[INFO-wrappers_bo-03/08/2021-21:07:11] seed: None\n",
      "[INFO-wrappers_bo-03/08/2021-21:07:11] Iteration 1\n"
     ]
    },
    {
     "name": "stdout",
     "output_type": "stream",
     "text": [
      "BO Round 3\n"
     ]
    },
    {
     "name": "stderr",
     "output_type": "stream",
     "text": [
      "[INFO-wrappers_bo-03/08/2021-21:07:11] Iteration 2\n",
      "[INFO-wrappers_bo-03/08/2021-21:07:12] Iteration 3\n",
      "[INFO-wrappers_bo-03/08/2021-21:07:12] Iteration 4\n",
      "[INFO-wrappers_bo-03/08/2021-21:07:12] Iteration 5\n",
      "[INFO-wrappers_bo-03/08/2021-21:07:12] Iteration 6\n",
      "[INFO-wrappers_bo-03/08/2021-21:07:13] Iteration 7\n",
      "[INFO-wrappers_bo-03/08/2021-21:07:13] Iteration 8\n",
      "[INFO-wrappers_bo-03/08/2021-21:07:13] Iteration 9\n",
      "[INFO-wrappers_bo-03/08/2021-21:07:14] Iteration 10\n",
      "[INFO-wrappers_bo-03/08/2021-21:07:14] range_X:\n",
      "[[-100, 100],\n",
      "[-100, 100],\n",
      "[-100, 100],\n",
      "[-100, 100]]\n",
      "[INFO-wrappers_bo-03/08/2021-21:07:14] str_cov: matern52\n",
      "[INFO-wrappers_bo-03/08/2021-21:07:14] str_acq: ei\n",
      "[INFO-wrappers_bo-03/08/2021-21:07:14] str_optimizer_method_gp: BFGS\n",
      "[INFO-wrappers_bo-03/08/2021-21:07:14] str_optimizer_method_bo: L-BFGS-B\n",
      "[INFO-wrappers_bo-03/08/2021-21:07:14] str_modelselection_method: ml\n",
      "[INFO-wrappers_bo-03/08/2021-21:07:14] num_init: 10\n",
      "[INFO-wrappers_bo-03/08/2021-21:07:14] num_iter: 10\n",
      "[INFO-wrappers_bo-03/08/2021-21:07:14] str_initial_method_bo: uniform\n",
      "[INFO-wrappers_bo-03/08/2021-21:07:14] str_sampling_method_ao: uniform\n",
      "[INFO-wrappers_bo-03/08/2021-21:07:14] num_samples_ao: 100\n",
      "[INFO-wrappers_bo-03/08/2021-21:07:14] str_mlm_method: regular\n",
      "[INFO-wrappers_bo-03/08/2021-21:07:14] seed: None\n",
      "[INFO-wrappers_bo-03/08/2021-21:07:14] Iteration 1\n"
     ]
    },
    {
     "name": "stdout",
     "output_type": "stream",
     "text": [
      "BO Round 4\n"
     ]
    },
    {
     "name": "stderr",
     "output_type": "stream",
     "text": [
      "[INFO-wrappers_bo-03/08/2021-21:07:14] Iteration 2\n",
      "[INFO-wrappers_bo-03/08/2021-21:07:14] Iteration 3\n",
      "[INFO-wrappers_bo-03/08/2021-21:07:15] Iteration 4\n",
      "[INFO-wrappers_bo-03/08/2021-21:07:15] Iteration 5\n",
      "[INFO-wrappers_bo-03/08/2021-21:07:15] Iteration 6\n",
      "[INFO-wrappers_bo-03/08/2021-21:07:15] Iteration 7\n",
      "[INFO-wrappers_bo-03/08/2021-21:07:16] Iteration 8\n",
      "[INFO-wrappers_bo-03/08/2021-21:07:16] Iteration 9\n",
      "[INFO-wrappers_bo-03/08/2021-21:07:16] Iteration 10\n",
      "[INFO-wrappers_bo-03/08/2021-21:07:17] range_X:\n",
      "[[-100, 100],\n",
      "[-100, 100],\n",
      "[-100, 100],\n",
      "[-100, 100]]\n",
      "[INFO-wrappers_bo-03/08/2021-21:07:17] str_cov: matern52\n",
      "[INFO-wrappers_bo-03/08/2021-21:07:17] str_acq: ei\n",
      "[INFO-wrappers_bo-03/08/2021-21:07:17] str_optimizer_method_gp: BFGS\n",
      "[INFO-wrappers_bo-03/08/2021-21:07:17] str_optimizer_method_bo: L-BFGS-B\n",
      "[INFO-wrappers_bo-03/08/2021-21:07:17] str_modelselection_method: ml\n",
      "[INFO-wrappers_bo-03/08/2021-21:07:17] num_init: 10\n",
      "[INFO-wrappers_bo-03/08/2021-21:07:17] num_iter: 10\n",
      "[INFO-wrappers_bo-03/08/2021-21:07:17] str_initial_method_bo: uniform\n",
      "[INFO-wrappers_bo-03/08/2021-21:07:17] str_sampling_method_ao: uniform\n",
      "[INFO-wrappers_bo-03/08/2021-21:07:17] num_samples_ao: 100\n",
      "[INFO-wrappers_bo-03/08/2021-21:07:17] str_mlm_method: regular\n",
      "[INFO-wrappers_bo-03/08/2021-21:07:17] seed: None\n",
      "[INFO-wrappers_bo-03/08/2021-21:07:17] Iteration 1\n"
     ]
    },
    {
     "name": "stdout",
     "output_type": "stream",
     "text": [
      "BO Round 5\n"
     ]
    },
    {
     "name": "stderr",
     "output_type": "stream",
     "text": [
      "[INFO-wrappers_bo-03/08/2021-21:07:17] Iteration 2\n",
      "[INFO-wrappers_bo-03/08/2021-21:07:17] Iteration 3\n",
      "[INFO-wrappers_bo-03/08/2021-21:07:17] Iteration 4\n",
      "[INFO-wrappers_bo-03/08/2021-21:07:18] Iteration 5\n",
      "[INFO-wrappers_bo-03/08/2021-21:07:18] Iteration 6\n",
      "[INFO-wrappers_bo-03/08/2021-21:07:18] Iteration 7\n",
      "[INFO-wrappers_bo-03/08/2021-21:07:19] Iteration 8\n",
      "[INFO-wrappers_bo-03/08/2021-21:07:19] Iteration 9\n",
      "[INFO-wrappers_bo-03/08/2021-21:07:19] Iteration 10\n",
      "[INFO-wrappers_bo-03/08/2021-21:07:19] range_X:\n",
      "[[-100, 100],\n",
      "[-100, 100],\n",
      "[-100, 100],\n",
      "[-100, 100]]\n",
      "[INFO-wrappers_bo-03/08/2021-21:07:19] str_cov: matern52\n",
      "[INFO-wrappers_bo-03/08/2021-21:07:19] str_acq: ei\n",
      "[INFO-wrappers_bo-03/08/2021-21:07:19] str_optimizer_method_gp: BFGS\n",
      "[INFO-wrappers_bo-03/08/2021-21:07:19] str_optimizer_method_bo: L-BFGS-B\n",
      "[INFO-wrappers_bo-03/08/2021-21:07:19] str_modelselection_method: ml\n",
      "[INFO-wrappers_bo-03/08/2021-21:07:19] num_init: 10\n",
      "[INFO-wrappers_bo-03/08/2021-21:07:19] num_iter: 10\n",
      "[INFO-wrappers_bo-03/08/2021-21:07:19] str_initial_method_bo: uniform\n",
      "[INFO-wrappers_bo-03/08/2021-21:07:19] str_sampling_method_ao: uniform\n",
      "[INFO-wrappers_bo-03/08/2021-21:07:19] num_samples_ao: 100\n",
      "[INFO-wrappers_bo-03/08/2021-21:07:19] str_mlm_method: regular\n",
      "[INFO-wrappers_bo-03/08/2021-21:07:19] seed: None\n",
      "[INFO-wrappers_bo-03/08/2021-21:07:19] Iteration 1\n"
     ]
    },
    {
     "name": "stdout",
     "output_type": "stream",
     "text": [
      "BO Round 6\n"
     ]
    },
    {
     "name": "stderr",
     "output_type": "stream",
     "text": [
      "[INFO-wrappers_bo-03/08/2021-21:07:20] Iteration 2\n",
      "[INFO-wrappers_bo-03/08/2021-21:07:20] Iteration 3\n",
      "[INFO-wrappers_bo-03/08/2021-21:07:20] Iteration 4\n",
      "[INFO-wrappers_bo-03/08/2021-21:07:20] Iteration 5\n",
      "[INFO-wrappers_bo-03/08/2021-21:07:21] Iteration 6\n",
      "[INFO-wrappers_bo-03/08/2021-21:07:21] Iteration 7\n",
      "[INFO-wrappers_bo-03/08/2021-21:07:21] Iteration 8\n",
      "[INFO-wrappers_bo-03/08/2021-21:07:22] Iteration 9\n",
      "[INFO-wrappers_bo-03/08/2021-21:07:22] Iteration 10\n",
      "[INFO-wrappers_bo-03/08/2021-21:07:22] range_X:\n",
      "[[-100, 100],\n",
      "[-100, 100],\n",
      "[-100, 100],\n",
      "[-100, 100]]\n",
      "[INFO-wrappers_bo-03/08/2021-21:07:22] str_cov: matern52\n",
      "[INFO-wrappers_bo-03/08/2021-21:07:22] str_acq: ei\n",
      "[INFO-wrappers_bo-03/08/2021-21:07:22] str_optimizer_method_gp: BFGS\n",
      "[INFO-wrappers_bo-03/08/2021-21:07:22] str_optimizer_method_bo: L-BFGS-B\n",
      "[INFO-wrappers_bo-03/08/2021-21:07:22] str_modelselection_method: ml\n",
      "[INFO-wrappers_bo-03/08/2021-21:07:22] num_init: 10\n",
      "[INFO-wrappers_bo-03/08/2021-21:07:22] num_iter: 10\n",
      "[INFO-wrappers_bo-03/08/2021-21:07:22] str_initial_method_bo: uniform\n",
      "[INFO-wrappers_bo-03/08/2021-21:07:22] str_sampling_method_ao: uniform\n",
      "[INFO-wrappers_bo-03/08/2021-21:07:22] num_samples_ao: 100\n",
      "[INFO-wrappers_bo-03/08/2021-21:07:22] str_mlm_method: regular\n",
      "[INFO-wrappers_bo-03/08/2021-21:07:22] seed: None\n",
      "[INFO-wrappers_bo-03/08/2021-21:07:22] Iteration 1\n"
     ]
    },
    {
     "name": "stdout",
     "output_type": "stream",
     "text": [
      "BO Round 7\n"
     ]
    },
    {
     "name": "stderr",
     "output_type": "stream",
     "text": [
      "[INFO-wrappers_bo-03/08/2021-21:07:22] Iteration 2\n",
      "[INFO-wrappers_bo-03/08/2021-21:07:23] Iteration 3\n",
      "[INFO-wrappers_bo-03/08/2021-21:07:23] Iteration 4\n",
      "[INFO-wrappers_bo-03/08/2021-21:07:23] Iteration 5\n",
      "[INFO-wrappers_bo-03/08/2021-21:07:24] Iteration 6\n",
      "[INFO-wrappers_bo-03/08/2021-21:07:24] Iteration 7\n",
      "[INFO-wrappers_bo-03/08/2021-21:07:24] Iteration 8\n",
      "[INFO-wrappers_bo-03/08/2021-21:07:24] Iteration 9\n",
      "[INFO-wrappers_bo-03/08/2021-21:07:25] Iteration 10\n",
      "[INFO-wrappers_bo-03/08/2021-21:07:25] range_X:\n",
      "[[-100, 100],\n",
      "[-100, 100],\n",
      "[-100, 100],\n",
      "[-100, 100]]\n",
      "[INFO-wrappers_bo-03/08/2021-21:07:25] str_cov: matern52\n",
      "[INFO-wrappers_bo-03/08/2021-21:07:25] str_acq: ei\n",
      "[INFO-wrappers_bo-03/08/2021-21:07:25] str_optimizer_method_gp: BFGS\n",
      "[INFO-wrappers_bo-03/08/2021-21:07:25] str_optimizer_method_bo: L-BFGS-B\n",
      "[INFO-wrappers_bo-03/08/2021-21:07:25] str_modelselection_method: ml\n",
      "[INFO-wrappers_bo-03/08/2021-21:07:25] num_init: 10\n",
      "[INFO-wrappers_bo-03/08/2021-21:07:25] num_iter: 10\n",
      "[INFO-wrappers_bo-03/08/2021-21:07:25] str_initial_method_bo: uniform\n",
      "[INFO-wrappers_bo-03/08/2021-21:07:25] str_sampling_method_ao: uniform\n",
      "[INFO-wrappers_bo-03/08/2021-21:07:25] num_samples_ao: 100\n",
      "[INFO-wrappers_bo-03/08/2021-21:07:25] str_mlm_method: regular\n",
      "[INFO-wrappers_bo-03/08/2021-21:07:25] seed: None\n",
      "[INFO-wrappers_bo-03/08/2021-21:07:25] Iteration 1\n"
     ]
    },
    {
     "name": "stdout",
     "output_type": "stream",
     "text": [
      "BO Round 8\n"
     ]
    },
    {
     "name": "stderr",
     "output_type": "stream",
     "text": [
      "[INFO-wrappers_bo-03/08/2021-21:07:25] Iteration 2\n",
      "[INFO-wrappers_bo-03/08/2021-21:07:25] Iteration 3\n",
      "[INFO-wrappers_bo-03/08/2021-21:07:26] Iteration 4\n",
      "[INFO-wrappers_bo-03/08/2021-21:07:26] Iteration 5\n",
      "[INFO-wrappers_bo-03/08/2021-21:07:26] Iteration 6\n",
      "[INFO-wrappers_bo-03/08/2021-21:07:27] Iteration 7\n",
      "[INFO-wrappers_bo-03/08/2021-21:07:27] Iteration 8\n",
      "[INFO-wrappers_bo-03/08/2021-21:07:27] Iteration 9\n",
      "[INFO-wrappers_bo-03/08/2021-21:07:27] Iteration 10\n",
      "[INFO-wrappers_bo-03/08/2021-21:07:28] range_X:\n",
      "[[-100, 100],\n",
      "[-100, 100],\n",
      "[-100, 100],\n",
      "[-100, 100]]\n",
      "[INFO-wrappers_bo-03/08/2021-21:07:28] str_cov: matern52\n",
      "[INFO-wrappers_bo-03/08/2021-21:07:28] str_acq: ei\n",
      "[INFO-wrappers_bo-03/08/2021-21:07:28] str_optimizer_method_gp: BFGS\n",
      "[INFO-wrappers_bo-03/08/2021-21:07:28] str_optimizer_method_bo: L-BFGS-B\n",
      "[INFO-wrappers_bo-03/08/2021-21:07:28] str_modelselection_method: ml\n",
      "[INFO-wrappers_bo-03/08/2021-21:07:28] num_init: 10\n",
      "[INFO-wrappers_bo-03/08/2021-21:07:28] num_iter: 10\n",
      "[INFO-wrappers_bo-03/08/2021-21:07:28] str_initial_method_bo: uniform\n",
      "[INFO-wrappers_bo-03/08/2021-21:07:28] str_sampling_method_ao: uniform\n",
      "[INFO-wrappers_bo-03/08/2021-21:07:28] num_samples_ao: 100\n",
      "[INFO-wrappers_bo-03/08/2021-21:07:28] str_mlm_method: regular\n",
      "[INFO-wrappers_bo-03/08/2021-21:07:28] seed: None\n",
      "[INFO-wrappers_bo-03/08/2021-21:07:28] Iteration 1\n"
     ]
    },
    {
     "name": "stdout",
     "output_type": "stream",
     "text": [
      "BO Round 9\n"
     ]
    },
    {
     "name": "stderr",
     "output_type": "stream",
     "text": [
      "[INFO-wrappers_bo-03/08/2021-21:07:28] Iteration 2\n",
      "[INFO-wrappers_bo-03/08/2021-21:07:28] Iteration 3\n",
      "[INFO-wrappers_bo-03/08/2021-21:07:29] Iteration 4\n",
      "[INFO-wrappers_bo-03/08/2021-21:07:29] Iteration 5\n",
      "[INFO-wrappers_bo-03/08/2021-21:07:29] Iteration 6\n",
      "[INFO-wrappers_bo-03/08/2021-21:07:29] Iteration 7\n",
      "[INFO-wrappers_bo-03/08/2021-21:07:30] Iteration 8\n",
      "[INFO-wrappers_bo-03/08/2021-21:07:30] Iteration 9\n",
      "[INFO-wrappers_bo-03/08/2021-21:07:30] Iteration 10\n",
      "[INFO-wrappers_bo-03/08/2021-21:07:31] range_X:\n",
      "[[-100, 100],\n",
      "[-100, 100],\n",
      "[-100, 100],\n",
      "[-100, 100]]\n",
      "[INFO-wrappers_bo-03/08/2021-21:07:31] str_cov: matern52\n",
      "[INFO-wrappers_bo-03/08/2021-21:07:31] str_acq: ei\n",
      "[INFO-wrappers_bo-03/08/2021-21:07:31] str_optimizer_method_gp: BFGS\n",
      "[INFO-wrappers_bo-03/08/2021-21:07:31] str_optimizer_method_bo: L-BFGS-B\n",
      "[INFO-wrappers_bo-03/08/2021-21:07:31] str_modelselection_method: ml\n",
      "[INFO-wrappers_bo-03/08/2021-21:07:31] num_init: 10\n",
      "[INFO-wrappers_bo-03/08/2021-21:07:31] num_iter: 10\n",
      "[INFO-wrappers_bo-03/08/2021-21:07:31] str_initial_method_bo: uniform\n",
      "[INFO-wrappers_bo-03/08/2021-21:07:31] str_sampling_method_ao: uniform\n",
      "[INFO-wrappers_bo-03/08/2021-21:07:31] num_samples_ao: 100\n",
      "[INFO-wrappers_bo-03/08/2021-21:07:31] str_mlm_method: regular\n",
      "[INFO-wrappers_bo-03/08/2021-21:07:31] seed: None\n",
      "[INFO-wrappers_bo-03/08/2021-21:07:31] Iteration 1\n"
     ]
    },
    {
     "name": "stdout",
     "output_type": "stream",
     "text": [
      "BO Round 10\n"
     ]
    },
    {
     "name": "stderr",
     "output_type": "stream",
     "text": [
      "[INFO-wrappers_bo-03/08/2021-21:07:31] Iteration 2\n",
      "[INFO-wrappers_bo-03/08/2021-21:07:31] Iteration 3\n",
      "[INFO-wrappers_bo-03/08/2021-21:07:31] Iteration 4\n",
      "[INFO-wrappers_bo-03/08/2021-21:07:32] Iteration 5\n",
      "[INFO-wrappers_bo-03/08/2021-21:07:32] Iteration 6\n",
      "[INFO-wrappers_bo-03/08/2021-21:07:32] Iteration 7\n",
      "[INFO-wrappers_bo-03/08/2021-21:07:32] Iteration 8\n",
      "[INFO-wrappers_bo-03/08/2021-21:07:33] Iteration 9\n",
      "[INFO-wrappers_bo-03/08/2021-21:07:33] Iteration 10\n",
      "[INFO-wrappers_bo-03/08/2021-21:07:33] range_X:\n",
      "[[-100, 100],\n",
      "[-100, 100],\n",
      "[-100, 100],\n",
      "[-100, 100]]\n",
      "[INFO-wrappers_bo-03/08/2021-21:07:33] str_cov: matern52\n",
      "[INFO-wrappers_bo-03/08/2021-21:07:33] str_acq: ei\n",
      "[INFO-wrappers_bo-03/08/2021-21:07:33] str_optimizer_method_gp: BFGS\n",
      "[INFO-wrappers_bo-03/08/2021-21:07:33] str_optimizer_method_bo: L-BFGS-B\n",
      "[INFO-wrappers_bo-03/08/2021-21:07:33] str_modelselection_method: ml\n",
      "[INFO-wrappers_bo-03/08/2021-21:07:33] num_init: 10\n",
      "[INFO-wrappers_bo-03/08/2021-21:07:33] num_iter: 10\n",
      "[INFO-wrappers_bo-03/08/2021-21:07:33] str_initial_method_bo: uniform\n",
      "[INFO-wrappers_bo-03/08/2021-21:07:33] str_sampling_method_ao: uniform\n",
      "[INFO-wrappers_bo-03/08/2021-21:07:33] num_samples_ao: 100\n",
      "[INFO-wrappers_bo-03/08/2021-21:07:33] str_mlm_method: regular\n",
      "[INFO-wrappers_bo-03/08/2021-21:07:33] seed: None\n",
      "[INFO-wrappers_bo-03/08/2021-21:07:33] Iteration 1\n"
     ]
    },
    {
     "name": "stdout",
     "output_type": "stream",
     "text": [
      "BO Round 11\n"
     ]
    },
    {
     "name": "stderr",
     "output_type": "stream",
     "text": [
      "[INFO-wrappers_bo-03/08/2021-21:07:34] Iteration 2\n",
      "[INFO-wrappers_bo-03/08/2021-21:07:34] Iteration 3\n",
      "[INFO-wrappers_bo-03/08/2021-21:07:34] Iteration 4\n",
      "[INFO-wrappers_bo-03/08/2021-21:07:34] Iteration 5\n",
      "[INFO-wrappers_bo-03/08/2021-21:07:35] Iteration 6\n",
      "[INFO-wrappers_bo-03/08/2021-21:07:35] Iteration 7\n",
      "[INFO-wrappers_bo-03/08/2021-21:07:35] Iteration 8\n",
      "[INFO-wrappers_bo-03/08/2021-21:07:36] Iteration 9\n",
      "[INFO-wrappers_bo-03/08/2021-21:07:36] Iteration 10\n",
      "[INFO-wrappers_bo-03/08/2021-21:07:36] range_X:\n",
      "[[-100, 100],\n",
      "[-100, 100],\n",
      "[-100, 100],\n",
      "[-100, 100]]\n",
      "[INFO-wrappers_bo-03/08/2021-21:07:36] str_cov: matern52\n",
      "[INFO-wrappers_bo-03/08/2021-21:07:36] str_acq: ei\n",
      "[INFO-wrappers_bo-03/08/2021-21:07:36] str_optimizer_method_gp: BFGS\n",
      "[INFO-wrappers_bo-03/08/2021-21:07:36] str_optimizer_method_bo: L-BFGS-B\n",
      "[INFO-wrappers_bo-03/08/2021-21:07:36] str_modelselection_method: ml\n",
      "[INFO-wrappers_bo-03/08/2021-21:07:36] num_init: 10\n",
      "[INFO-wrappers_bo-03/08/2021-21:07:36] num_iter: 10\n",
      "[INFO-wrappers_bo-03/08/2021-21:07:36] str_initial_method_bo: uniform\n",
      "[INFO-wrappers_bo-03/08/2021-21:07:36] str_sampling_method_ao: uniform\n",
      "[INFO-wrappers_bo-03/08/2021-21:07:36] num_samples_ao: 100\n",
      "[INFO-wrappers_bo-03/08/2021-21:07:36] str_mlm_method: regular\n",
      "[INFO-wrappers_bo-03/08/2021-21:07:36] seed: None\n",
      "[INFO-wrappers_bo-03/08/2021-21:07:36] Iteration 1\n"
     ]
    },
    {
     "name": "stdout",
     "output_type": "stream",
     "text": [
      "BO Round 12\n"
     ]
    },
    {
     "name": "stderr",
     "output_type": "stream",
     "text": [
      "[INFO-wrappers_bo-03/08/2021-21:07:36] Iteration 2\n",
      "[INFO-wrappers_bo-03/08/2021-21:07:37] Iteration 3\n",
      "[INFO-wrappers_bo-03/08/2021-21:07:37] Iteration 4\n",
      "[INFO-wrappers_bo-03/08/2021-21:07:37] Iteration 5\n",
      "[INFO-wrappers_bo-03/08/2021-21:07:38] Iteration 6\n",
      "[INFO-wrappers_bo-03/08/2021-21:07:38] Iteration 7\n",
      "[INFO-wrappers_bo-03/08/2021-21:07:38] Iteration 8\n",
      "[INFO-wrappers_bo-03/08/2021-21:07:38] Iteration 9\n",
      "[INFO-wrappers_bo-03/08/2021-21:07:39] Iteration 10\n",
      "[INFO-wrappers_bo-03/08/2021-21:07:39] range_X:\n",
      "[[-100, 100],\n",
      "[-100, 100],\n",
      "[-100, 100],\n",
      "[-100, 100]]\n",
      "[INFO-wrappers_bo-03/08/2021-21:07:39] str_cov: matern52\n",
      "[INFO-wrappers_bo-03/08/2021-21:07:39] str_acq: ei\n",
      "[INFO-wrappers_bo-03/08/2021-21:07:39] str_optimizer_method_gp: BFGS\n",
      "[INFO-wrappers_bo-03/08/2021-21:07:39] str_optimizer_method_bo: L-BFGS-B\n",
      "[INFO-wrappers_bo-03/08/2021-21:07:39] str_modelselection_method: ml\n",
      "[INFO-wrappers_bo-03/08/2021-21:07:39] num_init: 10\n",
      "[INFO-wrappers_bo-03/08/2021-21:07:39] num_iter: 10\n",
      "[INFO-wrappers_bo-03/08/2021-21:07:39] str_initial_method_bo: uniform\n",
      "[INFO-wrappers_bo-03/08/2021-21:07:39] str_sampling_method_ao: uniform\n",
      "[INFO-wrappers_bo-03/08/2021-21:07:39] num_samples_ao: 100\n",
      "[INFO-wrappers_bo-03/08/2021-21:07:39] str_mlm_method: regular\n",
      "[INFO-wrappers_bo-03/08/2021-21:07:39] seed: None\n",
      "[INFO-wrappers_bo-03/08/2021-21:07:39] Iteration 1\n"
     ]
    },
    {
     "name": "stdout",
     "output_type": "stream",
     "text": [
      "BO Round 13\n"
     ]
    },
    {
     "name": "stderr",
     "output_type": "stream",
     "text": [
      "[INFO-wrappers_bo-03/08/2021-21:07:39] Iteration 2\n",
      "[INFO-wrappers_bo-03/08/2021-21:07:40] Iteration 3\n",
      "[INFO-wrappers_bo-03/08/2021-21:07:40] Iteration 4\n",
      "[INFO-wrappers_bo-03/08/2021-21:07:40] Iteration 5\n",
      "[INFO-wrappers_bo-03/08/2021-21:07:40] Iteration 6\n",
      "[INFO-wrappers_bo-03/08/2021-21:07:41] Iteration 7\n",
      "[INFO-wrappers_bo-03/08/2021-21:07:41] Iteration 8\n",
      "[INFO-wrappers_bo-03/08/2021-21:07:41] Iteration 9\n",
      "[INFO-wrappers_bo-03/08/2021-21:07:42] Iteration 10\n",
      "[INFO-wrappers_bo-03/08/2021-21:07:42] range_X:\n",
      "[[-100, 100],\n",
      "[-100, 100],\n",
      "[-100, 100],\n",
      "[-100, 100]]\n",
      "[INFO-wrappers_bo-03/08/2021-21:07:42] str_cov: matern52\n",
      "[INFO-wrappers_bo-03/08/2021-21:07:42] str_acq: ei\n",
      "[INFO-wrappers_bo-03/08/2021-21:07:42] str_optimizer_method_gp: BFGS\n",
      "[INFO-wrappers_bo-03/08/2021-21:07:42] str_optimizer_method_bo: L-BFGS-B\n",
      "[INFO-wrappers_bo-03/08/2021-21:07:42] str_modelselection_method: ml\n",
      "[INFO-wrappers_bo-03/08/2021-21:07:42] num_init: 10\n",
      "[INFO-wrappers_bo-03/08/2021-21:07:42] num_iter: 10\n",
      "[INFO-wrappers_bo-03/08/2021-21:07:42] str_initial_method_bo: uniform\n",
      "[INFO-wrappers_bo-03/08/2021-21:07:42] str_sampling_method_ao: uniform\n",
      "[INFO-wrappers_bo-03/08/2021-21:07:42] num_samples_ao: 100\n",
      "[INFO-wrappers_bo-03/08/2021-21:07:42] str_mlm_method: regular\n",
      "[INFO-wrappers_bo-03/08/2021-21:07:42] seed: None\n",
      "[INFO-wrappers_bo-03/08/2021-21:07:42] Iteration 1\n"
     ]
    },
    {
     "name": "stdout",
     "output_type": "stream",
     "text": [
      "BO Round 14\n"
     ]
    },
    {
     "name": "stderr",
     "output_type": "stream",
     "text": [
      "[INFO-wrappers_bo-03/08/2021-21:07:42] Iteration 2\n",
      "[INFO-wrappers_bo-03/08/2021-21:07:42] Iteration 3\n",
      "[INFO-wrappers_bo-03/08/2021-21:07:43] Iteration 4\n",
      "[INFO-wrappers_bo-03/08/2021-21:07:43] Iteration 5\n",
      "[INFO-wrappers_bo-03/08/2021-21:07:43] Iteration 6\n",
      "[INFO-wrappers_bo-03/08/2021-21:07:44] Iteration 7\n",
      "[INFO-wrappers_bo-03/08/2021-21:07:44] Iteration 8\n",
      "[INFO-wrappers_bo-03/08/2021-21:07:44] Iteration 9\n",
      "[INFO-wrappers_bo-03/08/2021-21:07:44] Iteration 10\n",
      "[INFO-wrappers_bo-03/08/2021-21:07:45] range_X:\n",
      "[[-100, 100],\n",
      "[-100, 100],\n",
      "[-100, 100],\n",
      "[-100, 100]]\n",
      "[INFO-wrappers_bo-03/08/2021-21:07:45] str_cov: matern52\n",
      "[INFO-wrappers_bo-03/08/2021-21:07:45] str_acq: ei\n",
      "[INFO-wrappers_bo-03/08/2021-21:07:45] str_optimizer_method_gp: BFGS\n",
      "[INFO-wrappers_bo-03/08/2021-21:07:45] str_optimizer_method_bo: L-BFGS-B\n",
      "[INFO-wrappers_bo-03/08/2021-21:07:45] str_modelselection_method: ml\n",
      "[INFO-wrappers_bo-03/08/2021-21:07:45] num_init: 10\n",
      "[INFO-wrappers_bo-03/08/2021-21:07:45] num_iter: 10\n",
      "[INFO-wrappers_bo-03/08/2021-21:07:45] str_initial_method_bo: uniform\n",
      "[INFO-wrappers_bo-03/08/2021-21:07:45] str_sampling_method_ao: uniform\n",
      "[INFO-wrappers_bo-03/08/2021-21:07:45] num_samples_ao: 100\n",
      "[INFO-wrappers_bo-03/08/2021-21:07:45] str_mlm_method: regular\n",
      "[INFO-wrappers_bo-03/08/2021-21:07:45] seed: None\n",
      "[INFO-wrappers_bo-03/08/2021-21:07:45] Iteration 1\n"
     ]
    },
    {
     "name": "stdout",
     "output_type": "stream",
     "text": [
      "BO Round 15\n"
     ]
    },
    {
     "name": "stderr",
     "output_type": "stream",
     "text": [
      "[INFO-wrappers_bo-03/08/2021-21:07:45] Iteration 2\n",
      "[INFO-wrappers_bo-03/08/2021-21:07:45] Iteration 3\n",
      "[INFO-wrappers_bo-03/08/2021-21:07:46] Iteration 4\n",
      "[INFO-wrappers_bo-03/08/2021-21:07:46] Iteration 5\n",
      "[INFO-wrappers_bo-03/08/2021-21:07:46] Iteration 6\n",
      "[INFO-wrappers_bo-03/08/2021-21:07:46] Iteration 7\n",
      "[INFO-wrappers_bo-03/08/2021-21:07:47] Iteration 8\n",
      "[INFO-wrappers_bo-03/08/2021-21:07:47] Iteration 9\n",
      "[INFO-wrappers_bo-03/08/2021-21:07:47] Iteration 10\n",
      "[INFO-wrappers_bo-03/08/2021-21:07:48] range_X:\n",
      "[[-100, 100],\n",
      "[-100, 100],\n",
      "[-100, 100],\n",
      "[-100, 100]]\n",
      "[INFO-wrappers_bo-03/08/2021-21:07:48] str_cov: matern52\n",
      "[INFO-wrappers_bo-03/08/2021-21:07:48] str_acq: ei\n",
      "[INFO-wrappers_bo-03/08/2021-21:07:48] str_optimizer_method_gp: BFGS\n",
      "[INFO-wrappers_bo-03/08/2021-21:07:48] str_optimizer_method_bo: L-BFGS-B\n",
      "[INFO-wrappers_bo-03/08/2021-21:07:48] str_modelselection_method: ml\n",
      "[INFO-wrappers_bo-03/08/2021-21:07:48] num_init: 10\n",
      "[INFO-wrappers_bo-03/08/2021-21:07:48] num_iter: 10\n",
      "[INFO-wrappers_bo-03/08/2021-21:07:48] str_initial_method_bo: uniform\n",
      "[INFO-wrappers_bo-03/08/2021-21:07:48] str_sampling_method_ao: uniform\n",
      "[INFO-wrappers_bo-03/08/2021-21:07:48] num_samples_ao: 100\n",
      "[INFO-wrappers_bo-03/08/2021-21:07:48] str_mlm_method: regular\n",
      "[INFO-wrappers_bo-03/08/2021-21:07:48] seed: None\n",
      "[INFO-wrappers_bo-03/08/2021-21:07:48] Iteration 1\n"
     ]
    },
    {
     "name": "stdout",
     "output_type": "stream",
     "text": [
      "BO Round 16\n"
     ]
    },
    {
     "name": "stderr",
     "output_type": "stream",
     "text": [
      "[INFO-wrappers_bo-03/08/2021-21:07:48] Iteration 2\n",
      "[INFO-wrappers_bo-03/08/2021-21:07:48] Iteration 3\n",
      "[INFO-wrappers_bo-03/08/2021-21:07:48] Iteration 4\n",
      "[INFO-wrappers_bo-03/08/2021-21:07:49] Iteration 5\n",
      "[INFO-wrappers_bo-03/08/2021-21:07:49] Iteration 6\n",
      "[INFO-wrappers_bo-03/08/2021-21:07:49] Iteration 7\n",
      "[INFO-wrappers_bo-03/08/2021-21:07:50] Iteration 8\n",
      "[INFO-wrappers_bo-03/08/2021-21:07:50] Iteration 9\n",
      "[INFO-wrappers_bo-03/08/2021-21:07:50] Iteration 10\n",
      "[INFO-wrappers_bo-03/08/2021-21:07:51] range_X:\n",
      "[[-100, 100],\n",
      "[-100, 100],\n",
      "[-100, 100],\n",
      "[-100, 100]]\n",
      "[INFO-wrappers_bo-03/08/2021-21:07:51] str_cov: matern52\n",
      "[INFO-wrappers_bo-03/08/2021-21:07:51] str_acq: ei\n",
      "[INFO-wrappers_bo-03/08/2021-21:07:51] str_optimizer_method_gp: BFGS\n",
      "[INFO-wrappers_bo-03/08/2021-21:07:51] str_optimizer_method_bo: L-BFGS-B\n",
      "[INFO-wrappers_bo-03/08/2021-21:07:51] str_modelselection_method: ml\n",
      "[INFO-wrappers_bo-03/08/2021-21:07:51] num_init: 10\n",
      "[INFO-wrappers_bo-03/08/2021-21:07:51] num_iter: 10\n",
      "[INFO-wrappers_bo-03/08/2021-21:07:51] str_initial_method_bo: uniform\n",
      "[INFO-wrappers_bo-03/08/2021-21:07:51] str_sampling_method_ao: uniform\n",
      "[INFO-wrappers_bo-03/08/2021-21:07:51] num_samples_ao: 100\n",
      "[INFO-wrappers_bo-03/08/2021-21:07:51] str_mlm_method: regular\n",
      "[INFO-wrappers_bo-03/08/2021-21:07:51] seed: None\n",
      "[INFO-wrappers_bo-03/08/2021-21:07:51] Iteration 1\n"
     ]
    },
    {
     "name": "stdout",
     "output_type": "stream",
     "text": [
      "BO Round 17\n"
     ]
    },
    {
     "name": "stderr",
     "output_type": "stream",
     "text": [
      "[INFO-wrappers_bo-03/08/2021-21:07:51] Iteration 2\n",
      "[INFO-wrappers_bo-03/08/2021-21:07:51] Iteration 3\n",
      "[INFO-wrappers_bo-03/08/2021-21:07:51] Iteration 4\n",
      "[INFO-wrappers_bo-03/08/2021-21:07:52] Iteration 5\n",
      "[INFO-wrappers_bo-03/08/2021-21:07:52] Iteration 6\n",
      "[INFO-wrappers_bo-03/08/2021-21:07:52] Iteration 7\n",
      "[INFO-wrappers_bo-03/08/2021-21:07:53] Iteration 8\n",
      "[INFO-wrappers_bo-03/08/2021-21:07:53] Iteration 9\n",
      "[INFO-wrappers_bo-03/08/2021-21:07:53] Iteration 10\n",
      "[INFO-wrappers_bo-03/08/2021-21:07:53] range_X:\n",
      "[[-100, 100],\n",
      "[-100, 100],\n",
      "[-100, 100],\n",
      "[-100, 100]]\n",
      "[INFO-wrappers_bo-03/08/2021-21:07:53] str_cov: matern52\n",
      "[INFO-wrappers_bo-03/08/2021-21:07:53] str_acq: ei\n",
      "[INFO-wrappers_bo-03/08/2021-21:07:53] str_optimizer_method_gp: BFGS\n",
      "[INFO-wrappers_bo-03/08/2021-21:07:53] str_optimizer_method_bo: L-BFGS-B\n",
      "[INFO-wrappers_bo-03/08/2021-21:07:53] str_modelselection_method: ml\n",
      "[INFO-wrappers_bo-03/08/2021-21:07:53] num_init: 10\n",
      "[INFO-wrappers_bo-03/08/2021-21:07:53] num_iter: 10\n",
      "[INFO-wrappers_bo-03/08/2021-21:07:53] str_initial_method_bo: uniform\n",
      "[INFO-wrappers_bo-03/08/2021-21:07:53] str_sampling_method_ao: uniform\n",
      "[INFO-wrappers_bo-03/08/2021-21:07:53] num_samples_ao: 100\n",
      "[INFO-wrappers_bo-03/08/2021-21:07:53] str_mlm_method: regular\n",
      "[INFO-wrappers_bo-03/08/2021-21:07:53] seed: None\n",
      "[INFO-wrappers_bo-03/08/2021-21:07:53] Iteration 1\n"
     ]
    },
    {
     "name": "stdout",
     "output_type": "stream",
     "text": [
      "BO Round 18\n"
     ]
    },
    {
     "name": "stderr",
     "output_type": "stream",
     "text": [
      "[INFO-wrappers_bo-03/08/2021-21:07:54] Iteration 2\n",
      "[INFO-wrappers_bo-03/08/2021-21:07:54] Iteration 3\n",
      "[INFO-wrappers_bo-03/08/2021-21:07:54] Iteration 4\n",
      "[INFO-wrappers_bo-03/08/2021-21:07:55] Iteration 5\n",
      "[INFO-wrappers_bo-03/08/2021-21:07:55] Iteration 6\n",
      "[INFO-wrappers_bo-03/08/2021-21:07:55] Iteration 7\n",
      "[INFO-wrappers_bo-03/08/2021-21:07:56] Iteration 8\n",
      "[INFO-wrappers_bo-03/08/2021-21:07:56] Iteration 9\n",
      "[INFO-wrappers_bo-03/08/2021-21:07:56] Iteration 10\n",
      "[INFO-wrappers_bo-03/08/2021-21:07:56] range_X:\n",
      "[[-100, 100],\n",
      "[-100, 100],\n",
      "[-100, 100],\n",
      "[-100, 100]]\n",
      "[INFO-wrappers_bo-03/08/2021-21:07:56] str_cov: matern52\n",
      "[INFO-wrappers_bo-03/08/2021-21:07:56] str_acq: ei\n",
      "[INFO-wrappers_bo-03/08/2021-21:07:56] str_optimizer_method_gp: BFGS\n",
      "[INFO-wrappers_bo-03/08/2021-21:07:56] str_optimizer_method_bo: L-BFGS-B\n",
      "[INFO-wrappers_bo-03/08/2021-21:07:56] str_modelselection_method: ml\n",
      "[INFO-wrappers_bo-03/08/2021-21:07:56] num_init: 10\n",
      "[INFO-wrappers_bo-03/08/2021-21:07:56] num_iter: 10\n",
      "[INFO-wrappers_bo-03/08/2021-21:07:56] str_initial_method_bo: uniform\n",
      "[INFO-wrappers_bo-03/08/2021-21:07:56] str_sampling_method_ao: uniform\n",
      "[INFO-wrappers_bo-03/08/2021-21:07:56] num_samples_ao: 100\n",
      "[INFO-wrappers_bo-03/08/2021-21:07:56] str_mlm_method: regular\n",
      "[INFO-wrappers_bo-03/08/2021-21:07:56] seed: None\n",
      "[INFO-wrappers_bo-03/08/2021-21:07:56] Iteration 1\n"
     ]
    },
    {
     "name": "stdout",
     "output_type": "stream",
     "text": [
      "BO Round 19\n"
     ]
    },
    {
     "name": "stderr",
     "output_type": "stream",
     "text": [
      "[INFO-wrappers_bo-03/08/2021-21:07:57] Iteration 2\n",
      "[INFO-wrappers_bo-03/08/2021-21:07:57] Iteration 3\n",
      "[INFO-wrappers_bo-03/08/2021-21:07:57] Iteration 4\n",
      "[INFO-wrappers_bo-03/08/2021-21:07:58] Iteration 5\n",
      "[INFO-wrappers_bo-03/08/2021-21:07:58] Iteration 6\n",
      "[INFO-wrappers_bo-03/08/2021-21:07:58] Iteration 7\n",
      "[INFO-wrappers_bo-03/08/2021-21:07:58] Iteration 8\n",
      "[INFO-wrappers_bo-03/08/2021-21:07:59] Iteration 9\n",
      "[INFO-wrappers_bo-03/08/2021-21:07:59] Iteration 10\n",
      "[INFO-wrappers_bo-03/08/2021-21:07:59] range_X:\n",
      "[[-100, 100],\n",
      "[-100, 100],\n",
      "[-100, 100],\n",
      "[-100, 100]]\n",
      "[INFO-wrappers_bo-03/08/2021-21:07:59] str_cov: matern52\n",
      "[INFO-wrappers_bo-03/08/2021-21:07:59] str_acq: ei\n",
      "[INFO-wrappers_bo-03/08/2021-21:07:59] str_optimizer_method_gp: BFGS\n",
      "[INFO-wrappers_bo-03/08/2021-21:07:59] str_optimizer_method_bo: L-BFGS-B\n",
      "[INFO-wrappers_bo-03/08/2021-21:07:59] str_modelselection_method: ml\n",
      "[INFO-wrappers_bo-03/08/2021-21:07:59] num_init: 10\n",
      "[INFO-wrappers_bo-03/08/2021-21:07:59] num_iter: 10\n",
      "[INFO-wrappers_bo-03/08/2021-21:07:59] str_initial_method_bo: uniform\n",
      "[INFO-wrappers_bo-03/08/2021-21:07:59] str_sampling_method_ao: uniform\n",
      "[INFO-wrappers_bo-03/08/2021-21:07:59] num_samples_ao: 100\n",
      "[INFO-wrappers_bo-03/08/2021-21:07:59] str_mlm_method: regular\n",
      "[INFO-wrappers_bo-03/08/2021-21:07:59] seed: None\n",
      "[INFO-wrappers_bo-03/08/2021-21:07:59] Iteration 1\n"
     ]
    },
    {
     "name": "stdout",
     "output_type": "stream",
     "text": [
      "BO Round 20\n"
     ]
    },
    {
     "name": "stderr",
     "output_type": "stream",
     "text": [
      "[INFO-wrappers_bo-03/08/2021-21:08:00] Iteration 2\n",
      "[INFO-wrappers_bo-03/08/2021-21:08:00] Iteration 3\n",
      "[INFO-wrappers_bo-03/08/2021-21:08:00] Iteration 4\n",
      "[INFO-wrappers_bo-03/08/2021-21:08:01] Iteration 5\n",
      "[INFO-wrappers_bo-03/08/2021-21:08:01] Iteration 6\n",
      "[INFO-wrappers_bo-03/08/2021-21:08:01] Iteration 7\n",
      "[INFO-wrappers_bo-03/08/2021-21:08:01] Iteration 8\n",
      "[INFO-wrappers_bo-03/08/2021-21:08:02] Iteration 9\n",
      "[INFO-wrappers_bo-03/08/2021-21:08:02] Iteration 10\n",
      "[INFO-wrappers_bo-03/08/2021-21:08:02] range_X:\n",
      "[[-100, 100],\n",
      "[-100, 100],\n",
      "[-100, 100],\n",
      "[-100, 100]]\n",
      "[INFO-wrappers_bo-03/08/2021-21:08:02] str_cov: matern52\n",
      "[INFO-wrappers_bo-03/08/2021-21:08:02] str_acq: ei\n",
      "[INFO-wrappers_bo-03/08/2021-21:08:02] str_optimizer_method_gp: BFGS\n",
      "[INFO-wrappers_bo-03/08/2021-21:08:02] str_optimizer_method_bo: L-BFGS-B\n",
      "[INFO-wrappers_bo-03/08/2021-21:08:02] str_modelselection_method: ml\n",
      "[INFO-wrappers_bo-03/08/2021-21:08:02] num_init: 10\n",
      "[INFO-wrappers_bo-03/08/2021-21:08:02] num_iter: 10\n",
      "[INFO-wrappers_bo-03/08/2021-21:08:02] str_initial_method_bo: uniform\n",
      "[INFO-wrappers_bo-03/08/2021-21:08:02] str_sampling_method_ao: uniform\n",
      "[INFO-wrappers_bo-03/08/2021-21:08:02] num_samples_ao: 100\n",
      "[INFO-wrappers_bo-03/08/2021-21:08:02] str_mlm_method: regular\n",
      "[INFO-wrappers_bo-03/08/2021-21:08:02] seed: None\n",
      "[INFO-wrappers_bo-03/08/2021-21:08:02] Iteration 1\n"
     ]
    },
    {
     "name": "stdout",
     "output_type": "stream",
     "text": [
      "BO Round 21\n"
     ]
    },
    {
     "name": "stderr",
     "output_type": "stream",
     "text": [
      "[INFO-wrappers_bo-03/08/2021-21:08:03] Iteration 2\n",
      "[INFO-wrappers_bo-03/08/2021-21:08:03] Iteration 3\n",
      "[INFO-wrappers_bo-03/08/2021-21:08:03] Iteration 4\n",
      "[INFO-wrappers_bo-03/08/2021-21:08:04] Iteration 5\n",
      "[INFO-wrappers_bo-03/08/2021-21:08:04] Iteration 6\n",
      "[INFO-wrappers_bo-03/08/2021-21:08:04] Iteration 7\n",
      "[INFO-wrappers_bo-03/08/2021-21:08:04] Iteration 8\n",
      "[INFO-wrappers_bo-03/08/2021-21:08:05] Iteration 9\n",
      "[INFO-wrappers_bo-03/08/2021-21:08:05] Iteration 10\n",
      "[INFO-wrappers_bo-03/08/2021-21:08:05] range_X:\n",
      "[[-100, 100],\n",
      "[-100, 100],\n",
      "[-100, 100],\n",
      "[-100, 100]]\n",
      "[INFO-wrappers_bo-03/08/2021-21:08:05] str_cov: matern52\n",
      "[INFO-wrappers_bo-03/08/2021-21:08:05] str_acq: ei\n",
      "[INFO-wrappers_bo-03/08/2021-21:08:05] str_optimizer_method_gp: BFGS\n",
      "[INFO-wrappers_bo-03/08/2021-21:08:05] str_optimizer_method_bo: L-BFGS-B\n",
      "[INFO-wrappers_bo-03/08/2021-21:08:05] str_modelselection_method: ml\n",
      "[INFO-wrappers_bo-03/08/2021-21:08:05] num_init: 10\n",
      "[INFO-wrappers_bo-03/08/2021-21:08:05] num_iter: 10\n",
      "[INFO-wrappers_bo-03/08/2021-21:08:05] str_initial_method_bo: uniform\n",
      "[INFO-wrappers_bo-03/08/2021-21:08:05] str_sampling_method_ao: uniform\n",
      "[INFO-wrappers_bo-03/08/2021-21:08:05] num_samples_ao: 100\n",
      "[INFO-wrappers_bo-03/08/2021-21:08:05] str_mlm_method: regular\n",
      "[INFO-wrappers_bo-03/08/2021-21:08:05] seed: None\n",
      "[INFO-wrappers_bo-03/08/2021-21:08:05] Iteration 1\n"
     ]
    },
    {
     "name": "stdout",
     "output_type": "stream",
     "text": [
      "BO Round 22\n"
     ]
    },
    {
     "name": "stderr",
     "output_type": "stream",
     "text": [
      "[INFO-wrappers_bo-03/08/2021-21:08:06] Iteration 2\n",
      "[INFO-wrappers_bo-03/08/2021-21:08:06] Iteration 3\n",
      "[INFO-wrappers_bo-03/08/2021-21:08:06] Iteration 4\n",
      "[INFO-wrappers_bo-03/08/2021-21:08:06] Iteration 5\n",
      "[INFO-wrappers_bo-03/08/2021-21:08:07] Iteration 6\n",
      "[INFO-wrappers_bo-03/08/2021-21:08:07] Iteration 7\n",
      "[INFO-wrappers_bo-03/08/2021-21:08:07] Iteration 8\n",
      "[INFO-wrappers_bo-03/08/2021-21:08:08] Iteration 9\n",
      "[INFO-wrappers_bo-03/08/2021-21:08:08] Iteration 10\n",
      "[INFO-wrappers_bo-03/08/2021-21:08:08] range_X:\n",
      "[[-100, 100],\n",
      "[-100, 100],\n",
      "[-100, 100],\n",
      "[-100, 100]]\n",
      "[INFO-wrappers_bo-03/08/2021-21:08:08] str_cov: matern52\n",
      "[INFO-wrappers_bo-03/08/2021-21:08:08] str_acq: ei\n",
      "[INFO-wrappers_bo-03/08/2021-21:08:08] str_optimizer_method_gp: BFGS\n",
      "[INFO-wrappers_bo-03/08/2021-21:08:08] str_optimizer_method_bo: L-BFGS-B\n",
      "[INFO-wrappers_bo-03/08/2021-21:08:08] str_modelselection_method: ml\n",
      "[INFO-wrappers_bo-03/08/2021-21:08:08] num_init: 10\n",
      "[INFO-wrappers_bo-03/08/2021-21:08:08] num_iter: 10\n",
      "[INFO-wrappers_bo-03/08/2021-21:08:08] str_initial_method_bo: uniform\n",
      "[INFO-wrappers_bo-03/08/2021-21:08:08] str_sampling_method_ao: uniform\n",
      "[INFO-wrappers_bo-03/08/2021-21:08:08] num_samples_ao: 100\n",
      "[INFO-wrappers_bo-03/08/2021-21:08:08] str_mlm_method: regular\n",
      "[INFO-wrappers_bo-03/08/2021-21:08:08] seed: None\n",
      "[INFO-wrappers_bo-03/08/2021-21:08:08] Iteration 1\n"
     ]
    },
    {
     "name": "stdout",
     "output_type": "stream",
     "text": [
      "BO Round 23\n"
     ]
    },
    {
     "name": "stderr",
     "output_type": "stream",
     "text": [
      "[INFO-wrappers_bo-03/08/2021-21:08:09] Iteration 2\n",
      "[INFO-wrappers_bo-03/08/2021-21:08:09] Iteration 3\n",
      "[INFO-wrappers_bo-03/08/2021-21:08:09] Iteration 4\n",
      "[INFO-wrappers_bo-03/08/2021-21:08:09] Iteration 5\n",
      "[INFO-wrappers_bo-03/08/2021-21:08:10] Iteration 6\n",
      "[INFO-wrappers_bo-03/08/2021-21:08:10] Iteration 7\n",
      "[INFO-wrappers_bo-03/08/2021-21:08:10] Iteration 8\n",
      "[INFO-wrappers_bo-03/08/2021-21:08:11] Iteration 9\n",
      "[INFO-wrappers_bo-03/08/2021-21:08:11] Iteration 10\n",
      "[INFO-wrappers_bo-03/08/2021-21:08:11] range_X:\n",
      "[[-100, 100],\n",
      "[-100, 100],\n",
      "[-100, 100],\n",
      "[-100, 100]]\n",
      "[INFO-wrappers_bo-03/08/2021-21:08:11] str_cov: matern52\n",
      "[INFO-wrappers_bo-03/08/2021-21:08:11] str_acq: ei\n",
      "[INFO-wrappers_bo-03/08/2021-21:08:11] str_optimizer_method_gp: BFGS\n",
      "[INFO-wrappers_bo-03/08/2021-21:08:11] str_optimizer_method_bo: L-BFGS-B\n",
      "[INFO-wrappers_bo-03/08/2021-21:08:11] str_modelselection_method: ml\n",
      "[INFO-wrappers_bo-03/08/2021-21:08:11] num_init: 10\n",
      "[INFO-wrappers_bo-03/08/2021-21:08:11] num_iter: 10\n",
      "[INFO-wrappers_bo-03/08/2021-21:08:11] str_initial_method_bo: uniform\n",
      "[INFO-wrappers_bo-03/08/2021-21:08:11] str_sampling_method_ao: uniform\n",
      "[INFO-wrappers_bo-03/08/2021-21:08:11] num_samples_ao: 100\n",
      "[INFO-wrappers_bo-03/08/2021-21:08:11] str_mlm_method: regular\n",
      "[INFO-wrappers_bo-03/08/2021-21:08:11] seed: None\n",
      "[INFO-wrappers_bo-03/08/2021-21:08:11] Iteration 1\n"
     ]
    },
    {
     "name": "stdout",
     "output_type": "stream",
     "text": [
      "BO Round 24\n"
     ]
    },
    {
     "name": "stderr",
     "output_type": "stream",
     "text": [
      "[INFO-wrappers_bo-03/08/2021-21:08:12] Iteration 2\n",
      "[INFO-wrappers_bo-03/08/2021-21:08:12] Iteration 3\n",
      "[INFO-wrappers_bo-03/08/2021-21:08:12] Iteration 4\n",
      "[INFO-wrappers_bo-03/08/2021-21:08:13] Iteration 5\n",
      "[INFO-wrappers_bo-03/08/2021-21:08:13] Iteration 6\n",
      "[INFO-wrappers_bo-03/08/2021-21:08:13] Iteration 7\n",
      "[INFO-wrappers_bo-03/08/2021-21:08:13] Iteration 8\n",
      "[INFO-wrappers_bo-03/08/2021-21:08:14] Iteration 9\n",
      "[INFO-wrappers_bo-03/08/2021-21:08:14] Iteration 10\n",
      "[INFO-wrappers_bo-03/08/2021-21:08:14] range_X:\n",
      "[[-100, 100],\n",
      "[-100, 100],\n",
      "[-100, 100],\n",
      "[-100, 100]]\n",
      "[INFO-wrappers_bo-03/08/2021-21:08:14] str_cov: matern52\n",
      "[INFO-wrappers_bo-03/08/2021-21:08:14] str_acq: ei\n",
      "[INFO-wrappers_bo-03/08/2021-21:08:14] str_optimizer_method_gp: BFGS\n",
      "[INFO-wrappers_bo-03/08/2021-21:08:14] str_optimizer_method_bo: L-BFGS-B\n",
      "[INFO-wrappers_bo-03/08/2021-21:08:14] str_modelselection_method: ml\n",
      "[INFO-wrappers_bo-03/08/2021-21:08:14] num_init: 10\n",
      "[INFO-wrappers_bo-03/08/2021-21:08:14] num_iter: 10\n",
      "[INFO-wrappers_bo-03/08/2021-21:08:14] str_initial_method_bo: uniform\n",
      "[INFO-wrappers_bo-03/08/2021-21:08:14] str_sampling_method_ao: uniform\n",
      "[INFO-wrappers_bo-03/08/2021-21:08:14] num_samples_ao: 100\n",
      "[INFO-wrappers_bo-03/08/2021-21:08:14] str_mlm_method: regular\n",
      "[INFO-wrappers_bo-03/08/2021-21:08:14] seed: None\n",
      "[INFO-wrappers_bo-03/08/2021-21:08:14] Iteration 1\n"
     ]
    },
    {
     "name": "stdout",
     "output_type": "stream",
     "text": [
      "BO Round 25\n"
     ]
    },
    {
     "name": "stderr",
     "output_type": "stream",
     "text": [
      "[INFO-wrappers_bo-03/08/2021-21:08:15] Iteration 2\n",
      "[INFO-wrappers_bo-03/08/2021-21:08:15] Iteration 3\n",
      "[INFO-wrappers_bo-03/08/2021-21:08:15] Iteration 4\n",
      "[INFO-wrappers_bo-03/08/2021-21:08:16] Iteration 5\n",
      "[INFO-wrappers_bo-03/08/2021-21:08:16] Iteration 6\n",
      "[INFO-wrappers_bo-03/08/2021-21:08:16] Iteration 7\n",
      "[INFO-wrappers_bo-03/08/2021-21:08:16] Iteration 8\n",
      "[INFO-wrappers_bo-03/08/2021-21:08:17] Iteration 9\n",
      "[INFO-wrappers_bo-03/08/2021-21:08:17] Iteration 10\n",
      "[INFO-wrappers_bo-03/08/2021-21:08:17] range_X:\n",
      "[[-100, 100],\n",
      "[-100, 100],\n",
      "[-100, 100],\n",
      "[-100, 100]]\n",
      "[INFO-wrappers_bo-03/08/2021-21:08:17] str_cov: matern52\n",
      "[INFO-wrappers_bo-03/08/2021-21:08:17] str_acq: ei\n",
      "[INFO-wrappers_bo-03/08/2021-21:08:17] str_optimizer_method_gp: BFGS\n",
      "[INFO-wrappers_bo-03/08/2021-21:08:17] str_optimizer_method_bo: L-BFGS-B\n",
      "[INFO-wrappers_bo-03/08/2021-21:08:17] str_modelselection_method: ml\n",
      "[INFO-wrappers_bo-03/08/2021-21:08:17] num_init: 10\n",
      "[INFO-wrappers_bo-03/08/2021-21:08:17] num_iter: 10\n",
      "[INFO-wrappers_bo-03/08/2021-21:08:17] str_initial_method_bo: uniform\n",
      "[INFO-wrappers_bo-03/08/2021-21:08:17] str_sampling_method_ao: uniform\n",
      "[INFO-wrappers_bo-03/08/2021-21:08:17] num_samples_ao: 100\n",
      "[INFO-wrappers_bo-03/08/2021-21:08:17] str_mlm_method: regular\n",
      "[INFO-wrappers_bo-03/08/2021-21:08:17] seed: None\n",
      "[INFO-wrappers_bo-03/08/2021-21:08:17] Iteration 1\n"
     ]
    },
    {
     "name": "stdout",
     "output_type": "stream",
     "text": [
      "BO Round 26\n"
     ]
    },
    {
     "name": "stderr",
     "output_type": "stream",
     "text": [
      "[INFO-wrappers_bo-03/08/2021-21:08:18] Iteration 2\n",
      "[INFO-wrappers_bo-03/08/2021-21:08:18] Iteration 3\n",
      "[INFO-wrappers_bo-03/08/2021-21:08:18] Iteration 4\n",
      "[INFO-wrappers_bo-03/08/2021-21:08:19] Iteration 5\n",
      "[INFO-wrappers_bo-03/08/2021-21:08:19] Iteration 6\n",
      "[INFO-wrappers_bo-03/08/2021-21:08:19] Iteration 7\n",
      "[INFO-wrappers_bo-03/08/2021-21:08:19] Iteration 8\n",
      "[INFO-wrappers_bo-03/08/2021-21:08:20] Iteration 9\n",
      "[INFO-wrappers_bo-03/08/2021-21:08:20] Iteration 10\n",
      "[INFO-wrappers_bo-03/08/2021-21:08:20] range_X:\n",
      "[[-100, 100],\n",
      "[-100, 100],\n",
      "[-100, 100],\n",
      "[-100, 100]]\n",
      "[INFO-wrappers_bo-03/08/2021-21:08:20] str_cov: matern52\n",
      "[INFO-wrappers_bo-03/08/2021-21:08:20] str_acq: ei\n",
      "[INFO-wrappers_bo-03/08/2021-21:08:20] str_optimizer_method_gp: BFGS\n",
      "[INFO-wrappers_bo-03/08/2021-21:08:20] str_optimizer_method_bo: L-BFGS-B\n",
      "[INFO-wrappers_bo-03/08/2021-21:08:20] str_modelselection_method: ml\n",
      "[INFO-wrappers_bo-03/08/2021-21:08:20] num_init: 10\n",
      "[INFO-wrappers_bo-03/08/2021-21:08:20] num_iter: 10\n",
      "[INFO-wrappers_bo-03/08/2021-21:08:20] str_initial_method_bo: uniform\n",
      "[INFO-wrappers_bo-03/08/2021-21:08:20] str_sampling_method_ao: uniform\n",
      "[INFO-wrappers_bo-03/08/2021-21:08:20] num_samples_ao: 100\n",
      "[INFO-wrappers_bo-03/08/2021-21:08:20] str_mlm_method: regular\n",
      "[INFO-wrappers_bo-03/08/2021-21:08:20] seed: None\n",
      "[INFO-wrappers_bo-03/08/2021-21:08:20] Iteration 1\n"
     ]
    },
    {
     "name": "stdout",
     "output_type": "stream",
     "text": [
      "BO Round 27\n"
     ]
    },
    {
     "name": "stderr",
     "output_type": "stream",
     "text": [
      "[INFO-wrappers_bo-03/08/2021-21:08:21] Iteration 2\n",
      "[INFO-wrappers_bo-03/08/2021-21:08:21] Iteration 3\n",
      "[INFO-wrappers_bo-03/08/2021-21:08:21] Iteration 4\n",
      "[INFO-wrappers_bo-03/08/2021-21:08:22] Iteration 5\n",
      "[INFO-wrappers_bo-03/08/2021-21:08:22] Iteration 6\n",
      "[INFO-wrappers_bo-03/08/2021-21:08:22] Iteration 7\n",
      "[INFO-wrappers_bo-03/08/2021-21:08:22] Iteration 8\n",
      "[INFO-wrappers_bo-03/08/2021-21:08:23] Iteration 9\n",
      "[INFO-wrappers_bo-03/08/2021-21:08:23] Iteration 10\n",
      "[INFO-wrappers_bo-03/08/2021-21:08:23] range_X:\n",
      "[[-100, 100],\n",
      "[-100, 100],\n",
      "[-100, 100],\n",
      "[-100, 100]]\n",
      "[INFO-wrappers_bo-03/08/2021-21:08:23] str_cov: matern52\n",
      "[INFO-wrappers_bo-03/08/2021-21:08:23] str_acq: ei\n",
      "[INFO-wrappers_bo-03/08/2021-21:08:23] str_optimizer_method_gp: BFGS\n",
      "[INFO-wrappers_bo-03/08/2021-21:08:23] str_optimizer_method_bo: L-BFGS-B\n",
      "[INFO-wrappers_bo-03/08/2021-21:08:23] str_modelselection_method: ml\n",
      "[INFO-wrappers_bo-03/08/2021-21:08:23] num_init: 10\n",
      "[INFO-wrappers_bo-03/08/2021-21:08:23] num_iter: 10\n",
      "[INFO-wrappers_bo-03/08/2021-21:08:23] str_initial_method_bo: uniform\n",
      "[INFO-wrappers_bo-03/08/2021-21:08:23] str_sampling_method_ao: uniform\n",
      "[INFO-wrappers_bo-03/08/2021-21:08:23] num_samples_ao: 100\n",
      "[INFO-wrappers_bo-03/08/2021-21:08:23] str_mlm_method: regular\n",
      "[INFO-wrappers_bo-03/08/2021-21:08:23] seed: None\n",
      "[INFO-wrappers_bo-03/08/2021-21:08:23] Iteration 1\n"
     ]
    },
    {
     "name": "stdout",
     "output_type": "stream",
     "text": [
      "BO Round 28\n"
     ]
    },
    {
     "name": "stderr",
     "output_type": "stream",
     "text": [
      "[INFO-wrappers_bo-03/08/2021-21:08:24] Iteration 2\n",
      "[INFO-wrappers_bo-03/08/2021-21:08:24] Iteration 3\n",
      "[INFO-wrappers_bo-03/08/2021-21:08:24] Iteration 4\n",
      "[INFO-wrappers_bo-03/08/2021-21:08:25] Iteration 5\n",
      "[INFO-wrappers_bo-03/08/2021-21:08:25] Iteration 6\n",
      "[INFO-wrappers_bo-03/08/2021-21:08:25] Iteration 7\n",
      "[INFO-wrappers_bo-03/08/2021-21:08:26] Iteration 8\n",
      "[INFO-wrappers_bo-03/08/2021-21:08:26] Iteration 9\n",
      "[INFO-wrappers_bo-03/08/2021-21:08:26] Iteration 10\n",
      "[INFO-wrappers_bo-03/08/2021-21:08:26] range_X:\n",
      "[[-100, 100],\n",
      "[-100, 100],\n",
      "[-100, 100],\n",
      "[-100, 100]]\n",
      "[INFO-wrappers_bo-03/08/2021-21:08:26] str_cov: matern52\n",
      "[INFO-wrappers_bo-03/08/2021-21:08:26] str_acq: ei\n",
      "[INFO-wrappers_bo-03/08/2021-21:08:26] str_optimizer_method_gp: BFGS\n",
      "[INFO-wrappers_bo-03/08/2021-21:08:26] str_optimizer_method_bo: L-BFGS-B\n",
      "[INFO-wrappers_bo-03/08/2021-21:08:26] str_modelselection_method: ml\n",
      "[INFO-wrappers_bo-03/08/2021-21:08:26] num_init: 10\n",
      "[INFO-wrappers_bo-03/08/2021-21:08:26] num_iter: 10\n",
      "[INFO-wrappers_bo-03/08/2021-21:08:26] str_initial_method_bo: uniform\n",
      "[INFO-wrappers_bo-03/08/2021-21:08:26] str_sampling_method_ao: uniform\n",
      "[INFO-wrappers_bo-03/08/2021-21:08:26] num_samples_ao: 100\n",
      "[INFO-wrappers_bo-03/08/2021-21:08:26] str_mlm_method: regular\n",
      "[INFO-wrappers_bo-03/08/2021-21:08:26] seed: None\n",
      "[INFO-wrappers_bo-03/08/2021-21:08:26] Iteration 1\n"
     ]
    },
    {
     "name": "stdout",
     "output_type": "stream",
     "text": [
      "BO Round 29\n"
     ]
    },
    {
     "name": "stderr",
     "output_type": "stream",
     "text": [
      "[INFO-wrappers_bo-03/08/2021-21:08:27] Iteration 2\n",
      "[INFO-wrappers_bo-03/08/2021-21:08:27] Iteration 3\n",
      "[INFO-wrappers_bo-03/08/2021-21:08:27] Iteration 4\n",
      "[INFO-wrappers_bo-03/08/2021-21:08:28] Iteration 5\n",
      "[INFO-wrappers_bo-03/08/2021-21:08:28] Iteration 6\n",
      "[INFO-wrappers_bo-03/08/2021-21:08:28] Iteration 7\n",
      "[INFO-wrappers_bo-03/08/2021-21:08:29] Iteration 8\n",
      "[INFO-wrappers_bo-03/08/2021-21:08:29] Iteration 9\n",
      "[INFO-wrappers_bo-03/08/2021-21:08:29] Iteration 10\n",
      "[INFO-wrappers_bo-03/08/2021-21:08:29] range_X:\n",
      "[[-100, 100],\n",
      "[-100, 100],\n",
      "[-100, 100],\n",
      "[-100, 100]]\n",
      "[INFO-wrappers_bo-03/08/2021-21:08:29] str_cov: matern52\n",
      "[INFO-wrappers_bo-03/08/2021-21:08:29] str_acq: ei\n",
      "[INFO-wrappers_bo-03/08/2021-21:08:29] str_optimizer_method_gp: BFGS\n",
      "[INFO-wrappers_bo-03/08/2021-21:08:29] str_optimizer_method_bo: L-BFGS-B\n",
      "[INFO-wrappers_bo-03/08/2021-21:08:29] str_modelselection_method: ml\n",
      "[INFO-wrappers_bo-03/08/2021-21:08:29] num_init: 10\n",
      "[INFO-wrappers_bo-03/08/2021-21:08:29] num_iter: 10\n",
      "[INFO-wrappers_bo-03/08/2021-21:08:29] str_initial_method_bo: uniform\n",
      "[INFO-wrappers_bo-03/08/2021-21:08:29] str_sampling_method_ao: uniform\n",
      "[INFO-wrappers_bo-03/08/2021-21:08:29] num_samples_ao: 100\n",
      "[INFO-wrappers_bo-03/08/2021-21:08:29] str_mlm_method: regular\n",
      "[INFO-wrappers_bo-03/08/2021-21:08:29] seed: None\n",
      "[INFO-wrappers_bo-03/08/2021-21:08:29] Iteration 1\n"
     ]
    },
    {
     "name": "stdout",
     "output_type": "stream",
     "text": [
      "BO Round 30\n"
     ]
    },
    {
     "name": "stderr",
     "output_type": "stream",
     "text": [
      "[INFO-wrappers_bo-03/08/2021-21:08:30] Iteration 2\n",
      "[INFO-wrappers_bo-03/08/2021-21:08:30] Iteration 3\n",
      "[INFO-wrappers_bo-03/08/2021-21:08:30] Iteration 4\n",
      "[INFO-wrappers_bo-03/08/2021-21:08:31] Iteration 5\n",
      "[INFO-wrappers_bo-03/08/2021-21:08:31] Iteration 6\n",
      "[INFO-wrappers_bo-03/08/2021-21:08:31] Iteration 7\n",
      "[INFO-wrappers_bo-03/08/2021-21:08:32] Iteration 8\n",
      "[INFO-wrappers_bo-03/08/2021-21:08:32] Iteration 9\n",
      "[INFO-wrappers_bo-03/08/2021-21:08:32] Iteration 10\n",
      "[INFO-wrappers_bo-03/08/2021-21:08:33] range_X:\n",
      "[[-100, 100],\n",
      "[-100, 100],\n",
      "[-100, 100],\n",
      "[-100, 100]]\n",
      "[INFO-wrappers_bo-03/08/2021-21:08:33] str_cov: matern52\n",
      "[INFO-wrappers_bo-03/08/2021-21:08:33] str_acq: ei\n",
      "[INFO-wrappers_bo-03/08/2021-21:08:33] str_optimizer_method_gp: BFGS\n",
      "[INFO-wrappers_bo-03/08/2021-21:08:33] str_optimizer_method_bo: L-BFGS-B\n",
      "[INFO-wrappers_bo-03/08/2021-21:08:33] str_modelselection_method: ml\n",
      "[INFO-wrappers_bo-03/08/2021-21:08:33] num_init: 10\n",
      "[INFO-wrappers_bo-03/08/2021-21:08:33] num_iter: 10\n",
      "[INFO-wrappers_bo-03/08/2021-21:08:33] str_initial_method_bo: uniform\n",
      "[INFO-wrappers_bo-03/08/2021-21:08:33] str_sampling_method_ao: uniform\n",
      "[INFO-wrappers_bo-03/08/2021-21:08:33] num_samples_ao: 100\n",
      "[INFO-wrappers_bo-03/08/2021-21:08:33] str_mlm_method: regular\n",
      "[INFO-wrappers_bo-03/08/2021-21:08:33] seed: None\n",
      "[INFO-wrappers_bo-03/08/2021-21:08:33] Iteration 1\n"
     ]
    },
    {
     "name": "stdout",
     "output_type": "stream",
     "text": [
      "BO Round 31\n"
     ]
    },
    {
     "name": "stderr",
     "output_type": "stream",
     "text": [
      "[INFO-wrappers_bo-03/08/2021-21:08:33] Iteration 2\n",
      "[INFO-wrappers_bo-03/08/2021-21:08:33] Iteration 3\n",
      "[INFO-wrappers_bo-03/08/2021-21:08:33] Iteration 4\n",
      "[INFO-wrappers_bo-03/08/2021-21:08:34] Iteration 5\n",
      "[INFO-wrappers_bo-03/08/2021-21:08:34] Iteration 6\n",
      "[INFO-wrappers_bo-03/08/2021-21:08:34] Iteration 7\n",
      "[INFO-wrappers_bo-03/08/2021-21:08:35] Iteration 8\n",
      "[INFO-wrappers_bo-03/08/2021-21:08:35] Iteration 9\n",
      "[INFO-wrappers_bo-03/08/2021-21:08:35] Iteration 10\n",
      "[INFO-wrappers_bo-03/08/2021-21:08:35] range_X:\n",
      "[[-100, 100],\n",
      "[-100, 100],\n",
      "[-100, 100],\n",
      "[-100, 100]]\n",
      "[INFO-wrappers_bo-03/08/2021-21:08:35] str_cov: matern52\n",
      "[INFO-wrappers_bo-03/08/2021-21:08:35] str_acq: ei\n",
      "[INFO-wrappers_bo-03/08/2021-21:08:35] str_optimizer_method_gp: BFGS\n",
      "[INFO-wrappers_bo-03/08/2021-21:08:35] str_optimizer_method_bo: L-BFGS-B\n",
      "[INFO-wrappers_bo-03/08/2021-21:08:35] str_modelselection_method: ml\n",
      "[INFO-wrappers_bo-03/08/2021-21:08:35] num_init: 10\n",
      "[INFO-wrappers_bo-03/08/2021-21:08:35] num_iter: 10\n",
      "[INFO-wrappers_bo-03/08/2021-21:08:35] str_initial_method_bo: uniform\n",
      "[INFO-wrappers_bo-03/08/2021-21:08:36] str_sampling_method_ao: uniform\n",
      "[INFO-wrappers_bo-03/08/2021-21:08:36] num_samples_ao: 100\n",
      "[INFO-wrappers_bo-03/08/2021-21:08:36] str_mlm_method: regular\n",
      "[INFO-wrappers_bo-03/08/2021-21:08:36] seed: None\n",
      "[INFO-wrappers_bo-03/08/2021-21:08:36] Iteration 1\n"
     ]
    },
    {
     "name": "stdout",
     "output_type": "stream",
     "text": [
      "BO Round 32\n"
     ]
    },
    {
     "name": "stderr",
     "output_type": "stream",
     "text": [
      "[INFO-wrappers_bo-03/08/2021-21:08:36] Iteration 2\n",
      "[INFO-wrappers_bo-03/08/2021-21:08:36] Iteration 3\n",
      "[INFO-wrappers_bo-03/08/2021-21:08:36] Iteration 4\n",
      "[INFO-wrappers_bo-03/08/2021-21:08:37] Iteration 5\n",
      "[INFO-wrappers_bo-03/08/2021-21:08:37] Iteration 6\n",
      "[INFO-wrappers_bo-03/08/2021-21:08:37] Iteration 7\n",
      "[INFO-wrappers_bo-03/08/2021-21:08:38] Iteration 8\n",
      "[INFO-wrappers_bo-03/08/2021-21:08:38] Iteration 9\n",
      "[INFO-wrappers_bo-03/08/2021-21:08:38] Iteration 10\n",
      "[INFO-wrappers_bo-03/08/2021-21:08:39] range_X:\n",
      "[[-100, 100],\n",
      "[-100, 100],\n",
      "[-100, 100],\n",
      "[-100, 100]]\n",
      "[INFO-wrappers_bo-03/08/2021-21:08:39] str_cov: matern52\n",
      "[INFO-wrappers_bo-03/08/2021-21:08:39] str_acq: ei\n",
      "[INFO-wrappers_bo-03/08/2021-21:08:39] str_optimizer_method_gp: BFGS\n",
      "[INFO-wrappers_bo-03/08/2021-21:08:39] str_optimizer_method_bo: L-BFGS-B\n",
      "[INFO-wrappers_bo-03/08/2021-21:08:39] str_modelselection_method: ml\n",
      "[INFO-wrappers_bo-03/08/2021-21:08:39] num_init: 10\n",
      "[INFO-wrappers_bo-03/08/2021-21:08:39] num_iter: 10\n",
      "[INFO-wrappers_bo-03/08/2021-21:08:39] str_initial_method_bo: uniform\n",
      "[INFO-wrappers_bo-03/08/2021-21:08:39] str_sampling_method_ao: uniform\n",
      "[INFO-wrappers_bo-03/08/2021-21:08:39] num_samples_ao: 100\n",
      "[INFO-wrappers_bo-03/08/2021-21:08:39] str_mlm_method: regular\n",
      "[INFO-wrappers_bo-03/08/2021-21:08:39] seed: None\n",
      "[INFO-wrappers_bo-03/08/2021-21:08:39] Iteration 1\n"
     ]
    },
    {
     "name": "stdout",
     "output_type": "stream",
     "text": [
      "BO Round 33\n"
     ]
    },
    {
     "name": "stderr",
     "output_type": "stream",
     "text": [
      "[INFO-wrappers_bo-03/08/2021-21:08:39] Iteration 2\n",
      "[INFO-wrappers_bo-03/08/2021-21:08:39] Iteration 3\n",
      "[INFO-wrappers_bo-03/08/2021-21:08:39] Iteration 4\n",
      "[INFO-wrappers_bo-03/08/2021-21:08:40] Iteration 5\n",
      "[INFO-wrappers_bo-03/08/2021-21:08:40] Iteration 6\n",
      "[INFO-wrappers_bo-03/08/2021-21:08:40] Iteration 7\n",
      "[INFO-wrappers_bo-03/08/2021-21:08:41] Iteration 8\n",
      "[INFO-wrappers_bo-03/08/2021-21:08:41] Iteration 9\n",
      "[INFO-wrappers_bo-03/08/2021-21:08:41] Iteration 10\n",
      "[INFO-wrappers_bo-03/08/2021-21:08:42] range_X:\n",
      "[[-100, 100],\n",
      "[-100, 100],\n",
      "[-100, 100],\n",
      "[-100, 100]]\n",
      "[INFO-wrappers_bo-03/08/2021-21:08:42] str_cov: matern52\n",
      "[INFO-wrappers_bo-03/08/2021-21:08:42] str_acq: ei\n",
      "[INFO-wrappers_bo-03/08/2021-21:08:42] str_optimizer_method_gp: BFGS\n",
      "[INFO-wrappers_bo-03/08/2021-21:08:42] str_optimizer_method_bo: L-BFGS-B\n",
      "[INFO-wrappers_bo-03/08/2021-21:08:42] str_modelselection_method: ml\n",
      "[INFO-wrappers_bo-03/08/2021-21:08:42] num_init: 10\n",
      "[INFO-wrappers_bo-03/08/2021-21:08:42] num_iter: 10\n",
      "[INFO-wrappers_bo-03/08/2021-21:08:42] str_initial_method_bo: uniform\n",
      "[INFO-wrappers_bo-03/08/2021-21:08:42] str_sampling_method_ao: uniform\n",
      "[INFO-wrappers_bo-03/08/2021-21:08:42] num_samples_ao: 100\n",
      "[INFO-wrappers_bo-03/08/2021-21:08:42] str_mlm_method: regular\n",
      "[INFO-wrappers_bo-03/08/2021-21:08:42] seed: None\n",
      "[INFO-wrappers_bo-03/08/2021-21:08:42] Iteration 1\n"
     ]
    },
    {
     "name": "stdout",
     "output_type": "stream",
     "text": [
      "BO Round 34\n"
     ]
    },
    {
     "name": "stderr",
     "output_type": "stream",
     "text": [
      "[INFO-wrappers_bo-03/08/2021-21:08:42] Iteration 2\n",
      "[INFO-wrappers_bo-03/08/2021-21:08:42] Iteration 3\n",
      "[INFO-wrappers_bo-03/08/2021-21:08:42] Iteration 4\n",
      "[INFO-wrappers_bo-03/08/2021-21:08:43] Iteration 5\n",
      "[INFO-wrappers_bo-03/08/2021-21:08:43] Iteration 6\n",
      "[INFO-wrappers_bo-03/08/2021-21:08:43] Iteration 7\n",
      "[INFO-wrappers_bo-03/08/2021-21:08:44] Iteration 8\n",
      "[INFO-wrappers_bo-03/08/2021-21:08:44] Iteration 9\n",
      "[INFO-wrappers_bo-03/08/2021-21:08:44] Iteration 10\n",
      "[INFO-wrappers_bo-03/08/2021-21:08:44] range_X:\n",
      "[[-100, 100],\n",
      "[-100, 100],\n",
      "[-100, 100],\n",
      "[-100, 100]]\n",
      "[INFO-wrappers_bo-03/08/2021-21:08:44] str_cov: matern52\n",
      "[INFO-wrappers_bo-03/08/2021-21:08:44] str_acq: ei\n",
      "[INFO-wrappers_bo-03/08/2021-21:08:44] str_optimizer_method_gp: BFGS\n",
      "[INFO-wrappers_bo-03/08/2021-21:08:44] str_optimizer_method_bo: L-BFGS-B\n",
      "[INFO-wrappers_bo-03/08/2021-21:08:44] str_modelselection_method: ml\n",
      "[INFO-wrappers_bo-03/08/2021-21:08:44] num_init: 10\n",
      "[INFO-wrappers_bo-03/08/2021-21:08:44] num_iter: 10\n",
      "[INFO-wrappers_bo-03/08/2021-21:08:44] str_initial_method_bo: uniform\n",
      "[INFO-wrappers_bo-03/08/2021-21:08:44] str_sampling_method_ao: uniform\n",
      "[INFO-wrappers_bo-03/08/2021-21:08:44] num_samples_ao: 100\n",
      "[INFO-wrappers_bo-03/08/2021-21:08:44] str_mlm_method: regular\n",
      "[INFO-wrappers_bo-03/08/2021-21:08:44] seed: None\n",
      "[INFO-wrappers_bo-03/08/2021-21:08:44] Iteration 1\n"
     ]
    },
    {
     "name": "stdout",
     "output_type": "stream",
     "text": [
      "BO Round 35\n"
     ]
    },
    {
     "name": "stderr",
     "output_type": "stream",
     "text": [
      "[INFO-wrappers_bo-03/08/2021-21:08:45] Iteration 2\n",
      "[INFO-wrappers_bo-03/08/2021-21:08:45] Iteration 3\n",
      "[INFO-wrappers_bo-03/08/2021-21:08:45] Iteration 4\n",
      "[INFO-wrappers_bo-03/08/2021-21:08:46] Iteration 5\n",
      "[INFO-wrappers_bo-03/08/2021-21:08:46] Iteration 6\n",
      "[INFO-wrappers_bo-03/08/2021-21:08:46] Iteration 7\n",
      "[INFO-wrappers_bo-03/08/2021-21:08:47] Iteration 8\n",
      "[INFO-wrappers_bo-03/08/2021-21:08:47] Iteration 9\n",
      "[INFO-wrappers_bo-03/08/2021-21:08:47] Iteration 10\n",
      "[INFO-wrappers_bo-03/08/2021-21:08:47] range_X:\n",
      "[[-100, 100],\n",
      "[-100, 100],\n",
      "[-100, 100],\n",
      "[-100, 100]]\n",
      "[INFO-wrappers_bo-03/08/2021-21:08:47] str_cov: matern52\n",
      "[INFO-wrappers_bo-03/08/2021-21:08:47] str_acq: ei\n",
      "[INFO-wrappers_bo-03/08/2021-21:08:47] str_optimizer_method_gp: BFGS\n",
      "[INFO-wrappers_bo-03/08/2021-21:08:47] str_optimizer_method_bo: L-BFGS-B\n",
      "[INFO-wrappers_bo-03/08/2021-21:08:47] str_modelselection_method: ml\n",
      "[INFO-wrappers_bo-03/08/2021-21:08:47] num_init: 10\n",
      "[INFO-wrappers_bo-03/08/2021-21:08:47] num_iter: 10\n",
      "[INFO-wrappers_bo-03/08/2021-21:08:47] str_initial_method_bo: uniform\n",
      "[INFO-wrappers_bo-03/08/2021-21:08:47] str_sampling_method_ao: uniform\n",
      "[INFO-wrappers_bo-03/08/2021-21:08:47] num_samples_ao: 100\n",
      "[INFO-wrappers_bo-03/08/2021-21:08:48] str_mlm_method: regular\n",
      "[INFO-wrappers_bo-03/08/2021-21:08:48] seed: None\n",
      "[INFO-wrappers_bo-03/08/2021-21:08:48] Iteration 1\n"
     ]
    },
    {
     "name": "stdout",
     "output_type": "stream",
     "text": [
      "BO Round 36\n"
     ]
    },
    {
     "name": "stderr",
     "output_type": "stream",
     "text": [
      "[INFO-wrappers_bo-03/08/2021-21:08:48] Iteration 2\n",
      "[INFO-wrappers_bo-03/08/2021-21:08:48] Iteration 3\n",
      "[INFO-wrappers_bo-03/08/2021-21:08:48] Iteration 4\n",
      "[INFO-wrappers_bo-03/08/2021-21:08:49] Iteration 5\n",
      "[INFO-wrappers_bo-03/08/2021-21:08:49] Iteration 6\n",
      "[INFO-wrappers_bo-03/08/2021-21:08:49] Iteration 7\n",
      "[INFO-wrappers_bo-03/08/2021-21:08:50] Iteration 8\n",
      "[INFO-wrappers_bo-03/08/2021-21:08:50] Iteration 9\n",
      "[INFO-wrappers_bo-03/08/2021-21:08:50] Iteration 10\n",
      "[INFO-wrappers_bo-03/08/2021-21:08:50] range_X:\n",
      "[[-100, 100],\n",
      "[-100, 100],\n",
      "[-100, 100],\n",
      "[-100, 100]]\n",
      "[INFO-wrappers_bo-03/08/2021-21:08:50] str_cov: matern52\n",
      "[INFO-wrappers_bo-03/08/2021-21:08:50] str_acq: ei\n",
      "[INFO-wrappers_bo-03/08/2021-21:08:50] str_optimizer_method_gp: BFGS\n",
      "[INFO-wrappers_bo-03/08/2021-21:08:50] str_optimizer_method_bo: L-BFGS-B\n",
      "[INFO-wrappers_bo-03/08/2021-21:08:50] str_modelselection_method: ml\n",
      "[INFO-wrappers_bo-03/08/2021-21:08:50] num_init: 10\n",
      "[INFO-wrappers_bo-03/08/2021-21:08:50] num_iter: 10\n",
      "[INFO-wrappers_bo-03/08/2021-21:08:50] str_initial_method_bo: uniform\n",
      "[INFO-wrappers_bo-03/08/2021-21:08:50] str_sampling_method_ao: uniform\n",
      "[INFO-wrappers_bo-03/08/2021-21:08:50] num_samples_ao: 100\n",
      "[INFO-wrappers_bo-03/08/2021-21:08:50] str_mlm_method: regular\n",
      "[INFO-wrappers_bo-03/08/2021-21:08:50] seed: None\n",
      "[INFO-wrappers_bo-03/08/2021-21:08:50] Iteration 1\n"
     ]
    },
    {
     "name": "stdout",
     "output_type": "stream",
     "text": [
      "BO Round 37\n"
     ]
    },
    {
     "name": "stderr",
     "output_type": "stream",
     "text": [
      "[INFO-wrappers_bo-03/08/2021-21:08:51] Iteration 2\n",
      "[INFO-wrappers_bo-03/08/2021-21:08:51] Iteration 3\n",
      "[INFO-wrappers_bo-03/08/2021-21:08:51] Iteration 4\n",
      "[INFO-wrappers_bo-03/08/2021-21:08:52] Iteration 5\n",
      "[INFO-wrappers_bo-03/08/2021-21:08:52] Iteration 6\n",
      "[INFO-wrappers_bo-03/08/2021-21:08:52] Iteration 7\n",
      "[INFO-wrappers_bo-03/08/2021-21:08:53] Iteration 8\n",
      "[INFO-wrappers_bo-03/08/2021-21:08:53] Iteration 9\n",
      "[INFO-wrappers_bo-03/08/2021-21:08:53] Iteration 10\n",
      "[INFO-wrappers_bo-03/08/2021-21:08:53] range_X:\n",
      "[[-100, 100],\n",
      "[-100, 100],\n",
      "[-100, 100],\n",
      "[-100, 100]]\n",
      "[INFO-wrappers_bo-03/08/2021-21:08:53] str_cov: matern52\n",
      "[INFO-wrappers_bo-03/08/2021-21:08:53] str_acq: ei\n",
      "[INFO-wrappers_bo-03/08/2021-21:08:53] str_optimizer_method_gp: BFGS\n",
      "[INFO-wrappers_bo-03/08/2021-21:08:53] str_optimizer_method_bo: L-BFGS-B\n",
      "[INFO-wrappers_bo-03/08/2021-21:08:53] str_modelselection_method: ml\n",
      "[INFO-wrappers_bo-03/08/2021-21:08:53] num_init: 10\n",
      "[INFO-wrappers_bo-03/08/2021-21:08:53] num_iter: 10\n",
      "[INFO-wrappers_bo-03/08/2021-21:08:53] str_initial_method_bo: uniform\n",
      "[INFO-wrappers_bo-03/08/2021-21:08:53] str_sampling_method_ao: uniform\n",
      "[INFO-wrappers_bo-03/08/2021-21:08:53] num_samples_ao: 100\n",
      "[INFO-wrappers_bo-03/08/2021-21:08:53] str_mlm_method: regular\n",
      "[INFO-wrappers_bo-03/08/2021-21:08:53] seed: None\n",
      "[INFO-wrappers_bo-03/08/2021-21:08:53] Iteration 1\n"
     ]
    },
    {
     "name": "stdout",
     "output_type": "stream",
     "text": [
      "BO Round 38\n"
     ]
    },
    {
     "name": "stderr",
     "output_type": "stream",
     "text": [
      "[INFO-wrappers_bo-03/08/2021-21:08:54] Iteration 2\n",
      "[INFO-wrappers_bo-03/08/2021-21:08:54] Iteration 3\n",
      "[INFO-wrappers_bo-03/08/2021-21:08:54] Iteration 4\n",
      "[INFO-wrappers_bo-03/08/2021-21:08:55] Iteration 5\n",
      "[INFO-wrappers_bo-03/08/2021-21:08:55] Iteration 6\n",
      "[INFO-wrappers_bo-03/08/2021-21:08:55] Iteration 7\n",
      "[INFO-wrappers_bo-03/08/2021-21:08:55] Iteration 8\n",
      "[INFO-wrappers_bo-03/08/2021-21:08:56] Iteration 9\n",
      "[INFO-wrappers_bo-03/08/2021-21:08:56] Iteration 10\n",
      "[INFO-wrappers_bo-03/08/2021-21:08:56] range_X:\n",
      "[[-100, 100],\n",
      "[-100, 100],\n",
      "[-100, 100],\n",
      "[-100, 100]]\n",
      "[INFO-wrappers_bo-03/08/2021-21:08:56] str_cov: matern52\n",
      "[INFO-wrappers_bo-03/08/2021-21:08:56] str_acq: ei\n",
      "[INFO-wrappers_bo-03/08/2021-21:08:56] str_optimizer_method_gp: BFGS\n",
      "[INFO-wrappers_bo-03/08/2021-21:08:56] str_optimizer_method_bo: L-BFGS-B\n",
      "[INFO-wrappers_bo-03/08/2021-21:08:56] str_modelselection_method: ml\n",
      "[INFO-wrappers_bo-03/08/2021-21:08:56] num_init: 10\n",
      "[INFO-wrappers_bo-03/08/2021-21:08:56] num_iter: 10\n",
      "[INFO-wrappers_bo-03/08/2021-21:08:56] str_initial_method_bo: uniform\n",
      "[INFO-wrappers_bo-03/08/2021-21:08:56] str_sampling_method_ao: uniform\n",
      "[INFO-wrappers_bo-03/08/2021-21:08:56] num_samples_ao: 100\n",
      "[INFO-wrappers_bo-03/08/2021-21:08:56] str_mlm_method: regular\n",
      "[INFO-wrappers_bo-03/08/2021-21:08:56] seed: None\n",
      "[INFO-wrappers_bo-03/08/2021-21:08:56] Iteration 1\n"
     ]
    },
    {
     "name": "stdout",
     "output_type": "stream",
     "text": [
      "BO Round 39\n"
     ]
    },
    {
     "name": "stderr",
     "output_type": "stream",
     "text": [
      "[INFO-wrappers_bo-03/08/2021-21:08:57] Iteration 2\n",
      "[INFO-wrappers_bo-03/08/2021-21:08:57] Iteration 3\n",
      "[INFO-wrappers_bo-03/08/2021-21:08:57] Iteration 4\n",
      "[INFO-wrappers_bo-03/08/2021-21:08:58] Iteration 5\n",
      "[INFO-wrappers_bo-03/08/2021-21:08:58] Iteration 6\n",
      "[INFO-wrappers_bo-03/08/2021-21:08:58] Iteration 7\n",
      "[INFO-wrappers_bo-03/08/2021-21:08:58] Iteration 8\n",
      "[INFO-wrappers_bo-03/08/2021-21:08:59] Iteration 9\n",
      "[INFO-wrappers_bo-03/08/2021-21:08:59] Iteration 10\n",
      "[INFO-wrappers_bo-03/08/2021-21:08:59] range_X:\n",
      "[[-100, 100],\n",
      "[-100, 100],\n",
      "[-100, 100],\n",
      "[-100, 100]]\n",
      "[INFO-wrappers_bo-03/08/2021-21:08:59] str_cov: matern52\n",
      "[INFO-wrappers_bo-03/08/2021-21:08:59] str_acq: ei\n",
      "[INFO-wrappers_bo-03/08/2021-21:08:59] str_optimizer_method_gp: BFGS\n",
      "[INFO-wrappers_bo-03/08/2021-21:08:59] str_optimizer_method_bo: L-BFGS-B\n",
      "[INFO-wrappers_bo-03/08/2021-21:08:59] str_modelselection_method: ml\n",
      "[INFO-wrappers_bo-03/08/2021-21:08:59] num_init: 10\n",
      "[INFO-wrappers_bo-03/08/2021-21:08:59] num_iter: 10\n",
      "[INFO-wrappers_bo-03/08/2021-21:08:59] str_initial_method_bo: uniform\n",
      "[INFO-wrappers_bo-03/08/2021-21:08:59] str_sampling_method_ao: uniform\n",
      "[INFO-wrappers_bo-03/08/2021-21:08:59] num_samples_ao: 100\n",
      "[INFO-wrappers_bo-03/08/2021-21:08:59] str_mlm_method: regular\n",
      "[INFO-wrappers_bo-03/08/2021-21:08:59] seed: None\n",
      "[INFO-wrappers_bo-03/08/2021-21:08:59] Iteration 1\n"
     ]
    },
    {
     "name": "stdout",
     "output_type": "stream",
     "text": [
      "BO Round 40\n"
     ]
    },
    {
     "name": "stderr",
     "output_type": "stream",
     "text": [
      "[INFO-wrappers_bo-03/08/2021-21:09:00] Iteration 2\n",
      "[INFO-wrappers_bo-03/08/2021-21:09:00] Iteration 3\n",
      "[INFO-wrappers_bo-03/08/2021-21:09:00] Iteration 4\n",
      "[INFO-wrappers_bo-03/08/2021-21:09:01] Iteration 5\n",
      "[INFO-wrappers_bo-03/08/2021-21:09:01] Iteration 6\n",
      "[INFO-wrappers_bo-03/08/2021-21:09:01] Iteration 7\n",
      "[INFO-wrappers_bo-03/08/2021-21:09:01] Iteration 8\n",
      "[INFO-wrappers_bo-03/08/2021-21:09:02] Iteration 9\n",
      "[INFO-wrappers_bo-03/08/2021-21:09:02] Iteration 10\n",
      "[INFO-wrappers_bo-03/08/2021-21:09:02] range_X:\n",
      "[[-100, 100],\n",
      "[-100, 100],\n",
      "[-100, 100],\n",
      "[-100, 100]]\n",
      "[INFO-wrappers_bo-03/08/2021-21:09:02] str_cov: matern52\n",
      "[INFO-wrappers_bo-03/08/2021-21:09:02] str_acq: ei\n",
      "[INFO-wrappers_bo-03/08/2021-21:09:02] str_optimizer_method_gp: BFGS\n",
      "[INFO-wrappers_bo-03/08/2021-21:09:02] str_optimizer_method_bo: L-BFGS-B\n",
      "[INFO-wrappers_bo-03/08/2021-21:09:02] str_modelselection_method: ml\n",
      "[INFO-wrappers_bo-03/08/2021-21:09:02] num_init: 10\n",
      "[INFO-wrappers_bo-03/08/2021-21:09:02] num_iter: 10\n",
      "[INFO-wrappers_bo-03/08/2021-21:09:02] str_initial_method_bo: uniform\n",
      "[INFO-wrappers_bo-03/08/2021-21:09:02] str_sampling_method_ao: uniform\n",
      "[INFO-wrappers_bo-03/08/2021-21:09:02] num_samples_ao: 100\n",
      "[INFO-wrappers_bo-03/08/2021-21:09:02] str_mlm_method: regular\n",
      "[INFO-wrappers_bo-03/08/2021-21:09:02] seed: None\n",
      "[INFO-wrappers_bo-03/08/2021-21:09:02] Iteration 1\n"
     ]
    },
    {
     "name": "stdout",
     "output_type": "stream",
     "text": [
      "BO Round 41\n"
     ]
    },
    {
     "name": "stderr",
     "output_type": "stream",
     "text": [
      "[INFO-wrappers_bo-03/08/2021-21:09:03] Iteration 2\n",
      "[INFO-wrappers_bo-03/08/2021-21:09:03] Iteration 3\n",
      "[INFO-wrappers_bo-03/08/2021-21:09:03] Iteration 4\n",
      "[INFO-wrappers_bo-03/08/2021-21:09:03] Iteration 5\n",
      "[INFO-wrappers_bo-03/08/2021-21:09:04] Iteration 6\n",
      "[INFO-wrappers_bo-03/08/2021-21:09:04] Iteration 7\n",
      "[INFO-wrappers_bo-03/08/2021-21:09:04] Iteration 8\n",
      "[INFO-wrappers_bo-03/08/2021-21:09:05] Iteration 9\n",
      "[INFO-wrappers_bo-03/08/2021-21:09:05] Iteration 10\n",
      "[INFO-wrappers_bo-03/08/2021-21:09:05] range_X:\n",
      "[[-100, 100],\n",
      "[-100, 100],\n",
      "[-100, 100],\n",
      "[-100, 100]]\n",
      "[INFO-wrappers_bo-03/08/2021-21:09:05] str_cov: matern52\n",
      "[INFO-wrappers_bo-03/08/2021-21:09:05] str_acq: ei\n",
      "[INFO-wrappers_bo-03/08/2021-21:09:05] str_optimizer_method_gp: BFGS\n",
      "[INFO-wrappers_bo-03/08/2021-21:09:05] str_optimizer_method_bo: L-BFGS-B\n",
      "[INFO-wrappers_bo-03/08/2021-21:09:05] str_modelselection_method: ml\n",
      "[INFO-wrappers_bo-03/08/2021-21:09:05] num_init: 10\n",
      "[INFO-wrappers_bo-03/08/2021-21:09:05] num_iter: 10\n",
      "[INFO-wrappers_bo-03/08/2021-21:09:05] str_initial_method_bo: uniform\n",
      "[INFO-wrappers_bo-03/08/2021-21:09:05] str_sampling_method_ao: uniform\n",
      "[INFO-wrappers_bo-03/08/2021-21:09:05] num_samples_ao: 100\n",
      "[INFO-wrappers_bo-03/08/2021-21:09:05] str_mlm_method: regular\n",
      "[INFO-wrappers_bo-03/08/2021-21:09:05] seed: None\n",
      "[INFO-wrappers_bo-03/08/2021-21:09:05] Iteration 1\n"
     ]
    },
    {
     "name": "stdout",
     "output_type": "stream",
     "text": [
      "BO Round 42\n"
     ]
    },
    {
     "name": "stderr",
     "output_type": "stream",
     "text": [
      "[INFO-wrappers_bo-03/08/2021-21:09:06] Iteration 2\n",
      "[INFO-wrappers_bo-03/08/2021-21:09:06] Iteration 3\n",
      "[INFO-wrappers_bo-03/08/2021-21:09:06] Iteration 4\n",
      "[INFO-wrappers_bo-03/08/2021-21:09:06] Iteration 5\n",
      "[INFO-wrappers_bo-03/08/2021-21:09:07] Iteration 6\n",
      "[INFO-wrappers_bo-03/08/2021-21:09:07] Iteration 7\n",
      "[INFO-wrappers_bo-03/08/2021-21:09:07] Iteration 8\n",
      "[INFO-wrappers_bo-03/08/2021-21:09:08] Iteration 9\n",
      "[INFO-wrappers_bo-03/08/2021-21:09:08] Iteration 10\n",
      "[INFO-wrappers_bo-03/08/2021-21:09:08] range_X:\n",
      "[[-100, 100],\n",
      "[-100, 100],\n",
      "[-100, 100],\n",
      "[-100, 100]]\n",
      "[INFO-wrappers_bo-03/08/2021-21:09:08] str_cov: matern52\n",
      "[INFO-wrappers_bo-03/08/2021-21:09:08] str_acq: ei\n",
      "[INFO-wrappers_bo-03/08/2021-21:09:08] str_optimizer_method_gp: BFGS\n",
      "[INFO-wrappers_bo-03/08/2021-21:09:08] str_optimizer_method_bo: L-BFGS-B\n",
      "[INFO-wrappers_bo-03/08/2021-21:09:08] str_modelselection_method: ml\n",
      "[INFO-wrappers_bo-03/08/2021-21:09:08] num_init: 10\n",
      "[INFO-wrappers_bo-03/08/2021-21:09:08] num_iter: 10\n",
      "[INFO-wrappers_bo-03/08/2021-21:09:08] str_initial_method_bo: uniform\n",
      "[INFO-wrappers_bo-03/08/2021-21:09:08] str_sampling_method_ao: uniform\n",
      "[INFO-wrappers_bo-03/08/2021-21:09:08] num_samples_ao: 100\n",
      "[INFO-wrappers_bo-03/08/2021-21:09:08] str_mlm_method: regular\n",
      "[INFO-wrappers_bo-03/08/2021-21:09:08] seed: None\n",
      "[INFO-wrappers_bo-03/08/2021-21:09:08] Iteration 1\n"
     ]
    },
    {
     "name": "stdout",
     "output_type": "stream",
     "text": [
      "BO Round 43\n"
     ]
    },
    {
     "name": "stderr",
     "output_type": "stream",
     "text": [
      "[INFO-wrappers_bo-03/08/2021-21:09:09] Iteration 2\n",
      "[INFO-wrappers_bo-03/08/2021-21:09:09] Iteration 3\n",
      "[INFO-wrappers_bo-03/08/2021-21:09:09] Iteration 4\n",
      "[INFO-wrappers_bo-03/08/2021-21:09:09] Iteration 5\n",
      "[INFO-wrappers_bo-03/08/2021-21:09:10] Iteration 6\n",
      "[INFO-wrappers_bo-03/08/2021-21:09:10] Iteration 7\n",
      "[INFO-wrappers_bo-03/08/2021-21:09:10] Iteration 8\n",
      "[INFO-wrappers_bo-03/08/2021-21:09:11] Iteration 9\n",
      "[INFO-wrappers_bo-03/08/2021-21:09:11] Iteration 10\n",
      "[INFO-wrappers_bo-03/08/2021-21:09:11] range_X:\n",
      "[[-100, 100],\n",
      "[-100, 100],\n",
      "[-100, 100],\n",
      "[-100, 100]]\n",
      "[INFO-wrappers_bo-03/08/2021-21:09:11] str_cov: matern52\n",
      "[INFO-wrappers_bo-03/08/2021-21:09:11] str_acq: ei\n",
      "[INFO-wrappers_bo-03/08/2021-21:09:11] str_optimizer_method_gp: BFGS\n",
      "[INFO-wrappers_bo-03/08/2021-21:09:11] str_optimizer_method_bo: L-BFGS-B\n",
      "[INFO-wrappers_bo-03/08/2021-21:09:11] str_modelselection_method: ml\n",
      "[INFO-wrappers_bo-03/08/2021-21:09:11] num_init: 10\n",
      "[INFO-wrappers_bo-03/08/2021-21:09:11] num_iter: 10\n",
      "[INFO-wrappers_bo-03/08/2021-21:09:11] str_initial_method_bo: uniform\n",
      "[INFO-wrappers_bo-03/08/2021-21:09:11] str_sampling_method_ao: uniform\n",
      "[INFO-wrappers_bo-03/08/2021-21:09:11] num_samples_ao: 100\n",
      "[INFO-wrappers_bo-03/08/2021-21:09:11] str_mlm_method: regular\n",
      "[INFO-wrappers_bo-03/08/2021-21:09:11] seed: None\n",
      "[INFO-wrappers_bo-03/08/2021-21:09:11] Iteration 1\n"
     ]
    },
    {
     "name": "stdout",
     "output_type": "stream",
     "text": [
      "BO Round 44\n"
     ]
    },
    {
     "name": "stderr",
     "output_type": "stream",
     "text": [
      "[INFO-wrappers_bo-03/08/2021-21:09:12] Iteration 2\n",
      "[INFO-wrappers_bo-03/08/2021-21:09:12] Iteration 3\n",
      "[INFO-wrappers_bo-03/08/2021-21:09:12] Iteration 4\n",
      "[INFO-wrappers_bo-03/08/2021-21:09:12] Iteration 5\n",
      "[INFO-wrappers_bo-03/08/2021-21:09:13] Iteration 6\n",
      "[INFO-wrappers_bo-03/08/2021-21:09:13] Iteration 7\n",
      "[INFO-wrappers_bo-03/08/2021-21:09:13] Iteration 8\n",
      "[INFO-wrappers_bo-03/08/2021-21:09:14] Iteration 9\n",
      "[INFO-wrappers_bo-03/08/2021-21:09:14] Iteration 10\n",
      "[INFO-wrappers_bo-03/08/2021-21:09:14] range_X:\n",
      "[[-100, 100],\n",
      "[-100, 100],\n",
      "[-100, 100],\n",
      "[-100, 100]]\n",
      "[INFO-wrappers_bo-03/08/2021-21:09:14] str_cov: matern52\n",
      "[INFO-wrappers_bo-03/08/2021-21:09:14] str_acq: ei\n",
      "[INFO-wrappers_bo-03/08/2021-21:09:14] str_optimizer_method_gp: BFGS\n",
      "[INFO-wrappers_bo-03/08/2021-21:09:14] str_optimizer_method_bo: L-BFGS-B\n",
      "[INFO-wrappers_bo-03/08/2021-21:09:14] str_modelselection_method: ml\n",
      "[INFO-wrappers_bo-03/08/2021-21:09:14] num_init: 10\n",
      "[INFO-wrappers_bo-03/08/2021-21:09:14] num_iter: 10\n",
      "[INFO-wrappers_bo-03/08/2021-21:09:14] str_initial_method_bo: uniform\n",
      "[INFO-wrappers_bo-03/08/2021-21:09:14] str_sampling_method_ao: uniform\n",
      "[INFO-wrappers_bo-03/08/2021-21:09:14] num_samples_ao: 100\n",
      "[INFO-wrappers_bo-03/08/2021-21:09:14] str_mlm_method: regular\n",
      "[INFO-wrappers_bo-03/08/2021-21:09:14] seed: None\n",
      "[INFO-wrappers_bo-03/08/2021-21:09:14] Iteration 1\n"
     ]
    },
    {
     "name": "stdout",
     "output_type": "stream",
     "text": [
      "BO Round 45\n"
     ]
    },
    {
     "name": "stderr",
     "output_type": "stream",
     "text": [
      "[INFO-wrappers_bo-03/08/2021-21:09:15] Iteration 2\n",
      "[INFO-wrappers_bo-03/08/2021-21:09:15] Iteration 3\n",
      "[INFO-wrappers_bo-03/08/2021-21:09:15] Iteration 4\n",
      "[INFO-wrappers_bo-03/08/2021-21:09:15] Iteration 5\n",
      "[INFO-wrappers_bo-03/08/2021-21:09:16] Iteration 6\n",
      "[INFO-wrappers_bo-03/08/2021-21:09:16] Iteration 7\n",
      "[INFO-wrappers_bo-03/08/2021-21:09:16] Iteration 8\n",
      "[INFO-wrappers_bo-03/08/2021-21:09:17] Iteration 9\n",
      "[INFO-wrappers_bo-03/08/2021-21:09:17] Iteration 10\n",
      "[INFO-wrappers_bo-03/08/2021-21:09:17] range_X:\n",
      "[[-100, 100],\n",
      "[-100, 100],\n",
      "[-100, 100],\n",
      "[-100, 100]]\n",
      "[INFO-wrappers_bo-03/08/2021-21:09:17] str_cov: matern52\n",
      "[INFO-wrappers_bo-03/08/2021-21:09:17] str_acq: ei\n",
      "[INFO-wrappers_bo-03/08/2021-21:09:17] str_optimizer_method_gp: BFGS\n",
      "[INFO-wrappers_bo-03/08/2021-21:09:17] str_optimizer_method_bo: L-BFGS-B\n",
      "[INFO-wrappers_bo-03/08/2021-21:09:17] str_modelselection_method: ml\n",
      "[INFO-wrappers_bo-03/08/2021-21:09:17] num_init: 10\n",
      "[INFO-wrappers_bo-03/08/2021-21:09:17] num_iter: 10\n",
      "[INFO-wrappers_bo-03/08/2021-21:09:17] str_initial_method_bo: uniform\n",
      "[INFO-wrappers_bo-03/08/2021-21:09:17] str_sampling_method_ao: uniform\n",
      "[INFO-wrappers_bo-03/08/2021-21:09:17] num_samples_ao: 100\n",
      "[INFO-wrappers_bo-03/08/2021-21:09:17] str_mlm_method: regular\n",
      "[INFO-wrappers_bo-03/08/2021-21:09:17] seed: None\n",
      "[INFO-wrappers_bo-03/08/2021-21:09:17] Iteration 1\n"
     ]
    },
    {
     "name": "stdout",
     "output_type": "stream",
     "text": [
      "BO Round 46\n"
     ]
    },
    {
     "name": "stderr",
     "output_type": "stream",
     "text": [
      "[INFO-wrappers_bo-03/08/2021-21:09:18] Iteration 2\n",
      "[INFO-wrappers_bo-03/08/2021-21:09:18] Iteration 3\n",
      "[INFO-wrappers_bo-03/08/2021-21:09:18] Iteration 4\n",
      "[INFO-wrappers_bo-03/08/2021-21:09:18] Iteration 5\n",
      "[INFO-wrappers_bo-03/08/2021-21:09:19] Iteration 6\n",
      "[INFO-wrappers_bo-03/08/2021-21:09:19] Iteration 7\n",
      "[INFO-wrappers_bo-03/08/2021-21:09:19] Iteration 8\n",
      "[INFO-wrappers_bo-03/08/2021-21:09:20] Iteration 9\n",
      "[INFO-wrappers_bo-03/08/2021-21:09:20] Iteration 10\n",
      "[INFO-wrappers_bo-03/08/2021-21:09:20] range_X:\n",
      "[[-100, 100],\n",
      "[-100, 100],\n",
      "[-100, 100],\n",
      "[-100, 100]]\n",
      "[INFO-wrappers_bo-03/08/2021-21:09:20] str_cov: matern52\n",
      "[INFO-wrappers_bo-03/08/2021-21:09:20] str_acq: ei\n",
      "[INFO-wrappers_bo-03/08/2021-21:09:20] str_optimizer_method_gp: BFGS\n",
      "[INFO-wrappers_bo-03/08/2021-21:09:20] str_optimizer_method_bo: L-BFGS-B\n",
      "[INFO-wrappers_bo-03/08/2021-21:09:20] str_modelselection_method: ml\n",
      "[INFO-wrappers_bo-03/08/2021-21:09:20] num_init: 10\n",
      "[INFO-wrappers_bo-03/08/2021-21:09:20] num_iter: 10\n",
      "[INFO-wrappers_bo-03/08/2021-21:09:20] str_initial_method_bo: uniform\n",
      "[INFO-wrappers_bo-03/08/2021-21:09:20] str_sampling_method_ao: uniform\n",
      "[INFO-wrappers_bo-03/08/2021-21:09:20] num_samples_ao: 100\n",
      "[INFO-wrappers_bo-03/08/2021-21:09:20] str_mlm_method: regular\n",
      "[INFO-wrappers_bo-03/08/2021-21:09:20] seed: None\n",
      "[INFO-wrappers_bo-03/08/2021-21:09:20] Iteration 1\n"
     ]
    },
    {
     "name": "stdout",
     "output_type": "stream",
     "text": [
      "BO Round 47\n"
     ]
    },
    {
     "name": "stderr",
     "output_type": "stream",
     "text": [
      "[INFO-wrappers_bo-03/08/2021-21:09:20] Iteration 2\n",
      "[INFO-wrappers_bo-03/08/2021-21:09:21] Iteration 3\n",
      "[INFO-wrappers_bo-03/08/2021-21:09:21] Iteration 4\n",
      "[INFO-wrappers_bo-03/08/2021-21:09:21] Iteration 5\n",
      "[INFO-wrappers_bo-03/08/2021-21:09:22] Iteration 6\n",
      "[INFO-wrappers_bo-03/08/2021-21:09:22] Iteration 7\n",
      "[INFO-wrappers_bo-03/08/2021-21:09:22] Iteration 8\n",
      "[INFO-wrappers_bo-03/08/2021-21:09:23] Iteration 9\n",
      "[INFO-wrappers_bo-03/08/2021-21:09:23] Iteration 10\n",
      "[INFO-wrappers_bo-03/08/2021-21:09:23] range_X:\n",
      "[[-100, 100],\n",
      "[-100, 100],\n",
      "[-100, 100],\n",
      "[-100, 100]]\n",
      "[INFO-wrappers_bo-03/08/2021-21:09:23] str_cov: matern52\n",
      "[INFO-wrappers_bo-03/08/2021-21:09:23] str_acq: ei\n",
      "[INFO-wrappers_bo-03/08/2021-21:09:23] str_optimizer_method_gp: BFGS\n",
      "[INFO-wrappers_bo-03/08/2021-21:09:23] str_optimizer_method_bo: L-BFGS-B\n",
      "[INFO-wrappers_bo-03/08/2021-21:09:23] str_modelselection_method: ml\n",
      "[INFO-wrappers_bo-03/08/2021-21:09:23] num_init: 10\n",
      "[INFO-wrappers_bo-03/08/2021-21:09:23] num_iter: 10\n",
      "[INFO-wrappers_bo-03/08/2021-21:09:23] str_initial_method_bo: uniform\n",
      "[INFO-wrappers_bo-03/08/2021-21:09:23] str_sampling_method_ao: uniform\n",
      "[INFO-wrappers_bo-03/08/2021-21:09:23] num_samples_ao: 100\n",
      "[INFO-wrappers_bo-03/08/2021-21:09:23] str_mlm_method: regular\n",
      "[INFO-wrappers_bo-03/08/2021-21:09:23] seed: None\n",
      "[INFO-wrappers_bo-03/08/2021-21:09:23] Iteration 1\n"
     ]
    },
    {
     "name": "stdout",
     "output_type": "stream",
     "text": [
      "BO Round 48\n"
     ]
    },
    {
     "name": "stderr",
     "output_type": "stream",
     "text": [
      "[INFO-wrappers_bo-03/08/2021-21:09:23] Iteration 2\n",
      "[INFO-wrappers_bo-03/08/2021-21:09:24] Iteration 3\n",
      "[INFO-wrappers_bo-03/08/2021-21:09:24] Iteration 4\n",
      "[INFO-wrappers_bo-03/08/2021-21:09:24] Iteration 5\n",
      "[INFO-wrappers_bo-03/08/2021-21:09:25] Iteration 6\n",
      "[INFO-wrappers_bo-03/08/2021-21:09:25] Iteration 7\n",
      "[INFO-wrappers_bo-03/08/2021-21:09:25] Iteration 8\n",
      "[INFO-wrappers_bo-03/08/2021-21:09:26] Iteration 9\n",
      "[INFO-wrappers_bo-03/08/2021-21:09:26] Iteration 10\n",
      "[INFO-wrappers_bo-03/08/2021-21:09:26] range_X:\n",
      "[[-100, 100],\n",
      "[-100, 100],\n",
      "[-100, 100],\n",
      "[-100, 100]]\n",
      "[INFO-wrappers_bo-03/08/2021-21:09:26] str_cov: matern52\n",
      "[INFO-wrappers_bo-03/08/2021-21:09:26] str_acq: ei\n",
      "[INFO-wrappers_bo-03/08/2021-21:09:26] str_optimizer_method_gp: BFGS\n",
      "[INFO-wrappers_bo-03/08/2021-21:09:26] str_optimizer_method_bo: L-BFGS-B\n",
      "[INFO-wrappers_bo-03/08/2021-21:09:26] str_modelselection_method: ml\n",
      "[INFO-wrappers_bo-03/08/2021-21:09:26] num_init: 10\n",
      "[INFO-wrappers_bo-03/08/2021-21:09:26] num_iter: 10\n",
      "[INFO-wrappers_bo-03/08/2021-21:09:26] str_initial_method_bo: uniform\n",
      "[INFO-wrappers_bo-03/08/2021-21:09:26] str_sampling_method_ao: uniform\n",
      "[INFO-wrappers_bo-03/08/2021-21:09:26] num_samples_ao: 100\n",
      "[INFO-wrappers_bo-03/08/2021-21:09:26] str_mlm_method: regular\n",
      "[INFO-wrappers_bo-03/08/2021-21:09:26] seed: None\n",
      "[INFO-wrappers_bo-03/08/2021-21:09:26] Iteration 1\n"
     ]
    },
    {
     "name": "stdout",
     "output_type": "stream",
     "text": [
      "BO Round 49\n"
     ]
    },
    {
     "name": "stderr",
     "output_type": "stream",
     "text": [
      "[INFO-wrappers_bo-03/08/2021-21:09:26] Iteration 2\n",
      "[INFO-wrappers_bo-03/08/2021-21:09:27] Iteration 3\n",
      "[INFO-wrappers_bo-03/08/2021-21:09:27] Iteration 4\n",
      "[INFO-wrappers_bo-03/08/2021-21:09:27] Iteration 5\n",
      "[INFO-wrappers_bo-03/08/2021-21:09:28] Iteration 6\n",
      "[INFO-wrappers_bo-03/08/2021-21:09:28] Iteration 7\n",
      "[INFO-wrappers_bo-03/08/2021-21:09:28] Iteration 8\n",
      "[INFO-wrappers_bo-03/08/2021-21:09:29] Iteration 9\n",
      "[INFO-wrappers_bo-03/08/2021-21:09:29] Iteration 10\n",
      "[INFO-wrappers_bo-03/08/2021-21:09:29] range_X:\n",
      "[[-100, 100],\n",
      "[-100, 100],\n",
      "[-100, 100],\n",
      "[-100, 100]]\n",
      "[INFO-wrappers_bo-03/08/2021-21:09:29] str_cov: matern52\n",
      "[INFO-wrappers_bo-03/08/2021-21:09:29] str_acq: ei\n",
      "[INFO-wrappers_bo-03/08/2021-21:09:29] str_optimizer_method_gp: BFGS\n",
      "[INFO-wrappers_bo-03/08/2021-21:09:29] str_optimizer_method_bo: L-BFGS-B\n",
      "[INFO-wrappers_bo-03/08/2021-21:09:29] str_modelselection_method: ml\n",
      "[INFO-wrappers_bo-03/08/2021-21:09:29] num_init: 10\n",
      "[INFO-wrappers_bo-03/08/2021-21:09:29] num_iter: 10\n",
      "[INFO-wrappers_bo-03/08/2021-21:09:29] str_initial_method_bo: uniform\n",
      "[INFO-wrappers_bo-03/08/2021-21:09:29] str_sampling_method_ao: uniform\n",
      "[INFO-wrappers_bo-03/08/2021-21:09:29] num_samples_ao: 100\n",
      "[INFO-wrappers_bo-03/08/2021-21:09:29] str_mlm_method: regular\n",
      "[INFO-wrappers_bo-03/08/2021-21:09:29] seed: None\n",
      "[INFO-wrappers_bo-03/08/2021-21:09:29] Iteration 1\n"
     ]
    },
    {
     "name": "stdout",
     "output_type": "stream",
     "text": [
      "BO Round 50\n"
     ]
    },
    {
     "name": "stderr",
     "output_type": "stream",
     "text": [
      "[INFO-wrappers_bo-03/08/2021-21:09:29] Iteration 2\n",
      "[INFO-wrappers_bo-03/08/2021-21:09:30] Iteration 3\n",
      "[INFO-wrappers_bo-03/08/2021-21:09:30] Iteration 4\n",
      "[INFO-wrappers_bo-03/08/2021-21:09:30] Iteration 5\n",
      "[INFO-wrappers_bo-03/08/2021-21:09:31] Iteration 6\n",
      "[INFO-wrappers_bo-03/08/2021-21:09:31] Iteration 7\n",
      "[INFO-wrappers_bo-03/08/2021-21:09:31] Iteration 8\n",
      "[INFO-wrappers_bo-03/08/2021-21:09:32] Iteration 9\n",
      "[INFO-wrappers_bo-03/08/2021-21:09:32] Iteration 10\n"
     ]
    }
   ],
   "source": [
    "num_bo1 = 50\n",
    "study = bo.BO(bounds, debug=False,str_optimizer_method_bo='L-BFGS-B')\n",
    "max_ = []\n",
    "for ind_bo in range(0, num_bo1):\n",
    "    print('BO Round', ind_bo + 1)\n",
    "    X_final, targ, time_final, _, _ = wrappers_bo.run_single_round(\n",
    "        study,func, num_init=10,num_iter=10,num_samples_ao=100)\n",
    "    x_best, target = utils_bo.get_best_acquisition_by_history(X_final, targ)\n",
    "    max_value = max_.append(func(x_best))\n",
    "max_value = np.min(max_)"
   ]
  },
  {
   "cell_type": "code",
   "execution_count": 16,
   "metadata": {},
   "outputs": [],
   "source": [
    "Type_of_optimizer = 'L-BFGS-B'\n",
    "Type_of_function = 'Trig'\n",
    "n_of_params = 4\n",
    "num_bo = 50"
   ]
  },
  {
   "cell_type": "code",
   "execution_count": 17,
   "metadata": {},
   "outputs": [],
   "source": [
    "model_bo = bo.BO(bounds, debug=False,str_optimizer_method_bo='L-BFGS-B') # types: 'DIRECT' or 'L-BFGS-B' or 'CMA-ES'\n",
    "list_X = []\n",
    "list_Y = []\n",
    "list_a = []\n",
    "list_b = []\n",
    "itr_time = []\n",
    "n_of_trials_vector = []\n",
    "z = []"
   ]
  },
  {
   "cell_type": "code",
   "execution_count": 18,
   "metadata": {},
   "outputs": [
    {
     "name": "stderr",
     "output_type": "stream",
     "text": [
      "[INFO-wrappers_bo-03/08/2021-21:09:58] range_X:\n",
      "[[-100, 100],\n",
      "[-100, 100],\n",
      "[-100, 100],\n",
      "[-100, 100]]\n",
      "[INFO-wrappers_bo-03/08/2021-21:09:58] str_cov: matern52\n",
      "[INFO-wrappers_bo-03/08/2021-21:09:58] str_acq: ei\n",
      "[INFO-wrappers_bo-03/08/2021-21:09:58] str_optimizer_method_gp: BFGS\n",
      "[INFO-wrappers_bo-03/08/2021-21:09:58] str_optimizer_method_bo: L-BFGS-B\n",
      "[INFO-wrappers_bo-03/08/2021-21:09:58] str_modelselection_method: ml\n",
      "[INFO-wrappers_bo-03/08/2021-21:09:58] num_init: 7\n",
      "[INFO-wrappers_bo-03/08/2021-21:09:58] num_iter: 5\n",
      "[INFO-wrappers_bo-03/08/2021-21:09:58] str_initial_method_bo: uniform\n",
      "[INFO-wrappers_bo-03/08/2021-21:09:58] str_sampling_method_ao: uniform\n",
      "[INFO-wrappers_bo-03/08/2021-21:09:58] num_samples_ao: 100\n",
      "[INFO-wrappers_bo-03/08/2021-21:09:58] str_mlm_method: regular\n",
      "[INFO-wrappers_bo-03/08/2021-21:09:58] seed: None\n",
      "[INFO-wrappers_bo-03/08/2021-21:09:58] Iteration 1\n"
     ]
    },
    {
     "name": "stdout",
     "output_type": "stream",
     "text": [
      "BO Round 1\n"
     ]
    },
    {
     "name": "stderr",
     "output_type": "stream",
     "text": [
      "[INFO-wrappers_bo-03/08/2021-21:09:58] Iteration 2\n",
      "[INFO-wrappers_bo-03/08/2021-21:09:59] Iteration 3\n",
      "[INFO-wrappers_bo-03/08/2021-21:09:59] Iteration 4\n",
      "[INFO-wrappers_bo-03/08/2021-21:09:59] Iteration 5\n",
      "[INFO-wrappers_bo-03/08/2021-21:09:59] range_X:\n",
      "[[-100, 100],\n",
      "[-100, 100],\n",
      "[-100, 100],\n",
      "[-100, 100]]\n",
      "[INFO-wrappers_bo-03/08/2021-21:09:59] str_cov: matern52\n",
      "[INFO-wrappers_bo-03/08/2021-21:09:59] str_acq: ei\n",
      "[INFO-wrappers_bo-03/08/2021-21:09:59] str_optimizer_method_gp: BFGS\n",
      "[INFO-wrappers_bo-03/08/2021-21:09:59] str_optimizer_method_bo: L-BFGS-B\n",
      "[INFO-wrappers_bo-03/08/2021-21:09:59] str_modelselection_method: ml\n",
      "[INFO-wrappers_bo-03/08/2021-21:09:59] num_init: 2\n",
      "[INFO-wrappers_bo-03/08/2021-21:09:59] num_iter: 6\n",
      "[INFO-wrappers_bo-03/08/2021-21:09:59] str_initial_method_bo: uniform\n",
      "[INFO-wrappers_bo-03/08/2021-21:09:59] str_sampling_method_ao: uniform\n",
      "[INFO-wrappers_bo-03/08/2021-21:09:59] num_samples_ao: 100\n",
      "[INFO-wrappers_bo-03/08/2021-21:09:59] str_mlm_method: regular\n",
      "[INFO-wrappers_bo-03/08/2021-21:09:59] seed: None\n",
      "[INFO-wrappers_bo-03/08/2021-21:09:59] Iteration 1\n"
     ]
    },
    {
     "name": "stdout",
     "output_type": "stream",
     "text": [
      "BO Round 2\n"
     ]
    },
    {
     "name": "stderr",
     "output_type": "stream",
     "text": [
      "[INFO-wrappers_bo-03/08/2021-21:10:00] Iteration 2\n",
      "[INFO-wrappers_bo-03/08/2021-21:10:00] Iteration 3\n",
      "[INFO-wrappers_bo-03/08/2021-21:10:00] Iteration 4\n",
      "[INFO-wrappers_bo-03/08/2021-21:10:00] Iteration 5\n",
      "[INFO-wrappers_bo-03/08/2021-21:10:01] Iteration 6\n",
      "[INFO-wrappers_bo-03/08/2021-21:10:01] range_X:\n",
      "[[-100, 100],\n",
      "[-100, 100],\n",
      "[-100, 100],\n",
      "[-100, 100]]\n",
      "[INFO-wrappers_bo-03/08/2021-21:10:01] str_cov: matern52\n",
      "[INFO-wrappers_bo-03/08/2021-21:10:01] str_acq: ei\n",
      "[INFO-wrappers_bo-03/08/2021-21:10:01] str_optimizer_method_gp: BFGS\n",
      "[INFO-wrappers_bo-03/08/2021-21:10:01] str_optimizer_method_bo: L-BFGS-B\n",
      "[INFO-wrappers_bo-03/08/2021-21:10:01] str_modelselection_method: ml\n",
      "[INFO-wrappers_bo-03/08/2021-21:10:01] num_init: 4\n",
      "[INFO-wrappers_bo-03/08/2021-21:10:01] num_iter: 6\n",
      "[INFO-wrappers_bo-03/08/2021-21:10:01] str_initial_method_bo: uniform\n",
      "[INFO-wrappers_bo-03/08/2021-21:10:01] str_sampling_method_ao: uniform\n",
      "[INFO-wrappers_bo-03/08/2021-21:10:01] num_samples_ao: 100\n",
      "[INFO-wrappers_bo-03/08/2021-21:10:01] str_mlm_method: regular\n",
      "[INFO-wrappers_bo-03/08/2021-21:10:01] seed: None\n",
      "[INFO-wrappers_bo-03/08/2021-21:10:01] Iteration 1\n"
     ]
    },
    {
     "name": "stdout",
     "output_type": "stream",
     "text": [
      "BO Round 3\n"
     ]
    },
    {
     "name": "stderr",
     "output_type": "stream",
     "text": [
      "[INFO-wrappers_bo-03/08/2021-21:10:01] Iteration 2\n",
      "[INFO-wrappers_bo-03/08/2021-21:10:02] Iteration 3\n",
      "[INFO-wrappers_bo-03/08/2021-21:10:02] Iteration 4\n",
      "[INFO-wrappers_bo-03/08/2021-21:10:02] Iteration 5\n",
      "[INFO-wrappers_bo-03/08/2021-21:10:02] Iteration 6\n",
      "[INFO-wrappers_bo-03/08/2021-21:10:03] range_X:\n",
      "[[-100, 100],\n",
      "[-100, 100],\n",
      "[-100, 100],\n",
      "[-100, 100]]\n",
      "[INFO-wrappers_bo-03/08/2021-21:10:03] str_cov: matern52\n",
      "[INFO-wrappers_bo-03/08/2021-21:10:03] str_acq: ei\n",
      "[INFO-wrappers_bo-03/08/2021-21:10:03] str_optimizer_method_gp: BFGS\n",
      "[INFO-wrappers_bo-03/08/2021-21:10:03] str_optimizer_method_bo: L-BFGS-B\n",
      "[INFO-wrappers_bo-03/08/2021-21:10:03] str_modelselection_method: ml\n",
      "[INFO-wrappers_bo-03/08/2021-21:10:03] num_init: 6\n",
      "[INFO-wrappers_bo-03/08/2021-21:10:03] num_iter: 4\n",
      "[INFO-wrappers_bo-03/08/2021-21:10:03] str_initial_method_bo: uniform\n",
      "[INFO-wrappers_bo-03/08/2021-21:10:03] str_sampling_method_ao: uniform\n",
      "[INFO-wrappers_bo-03/08/2021-21:10:03] num_samples_ao: 100\n",
      "[INFO-wrappers_bo-03/08/2021-21:10:03] str_mlm_method: regular\n",
      "[INFO-wrappers_bo-03/08/2021-21:10:03] seed: None\n",
      "[INFO-wrappers_bo-03/08/2021-21:10:03] Iteration 1\n"
     ]
    },
    {
     "name": "stdout",
     "output_type": "stream",
     "text": [
      "BO Round 4\n"
     ]
    },
    {
     "name": "stderr",
     "output_type": "stream",
     "text": [
      "[INFO-wrappers_bo-03/08/2021-21:10:03] Iteration 2\n",
      "[INFO-wrappers_bo-03/08/2021-21:10:03] Iteration 3\n",
      "[INFO-wrappers_bo-03/08/2021-21:10:03] Iteration 4\n",
      "[INFO-wrappers_bo-03/08/2021-21:10:04] range_X:\n",
      "[[-100, 100],\n",
      "[-100, 100],\n",
      "[-100, 100],\n",
      "[-100, 100]]\n",
      "[INFO-wrappers_bo-03/08/2021-21:10:04] str_cov: matern52\n",
      "[INFO-wrappers_bo-03/08/2021-21:10:04] str_acq: ei\n",
      "[INFO-wrappers_bo-03/08/2021-21:10:04] str_optimizer_method_gp: BFGS\n",
      "[INFO-wrappers_bo-03/08/2021-21:10:04] str_optimizer_method_bo: L-BFGS-B\n",
      "[INFO-wrappers_bo-03/08/2021-21:10:04] str_modelselection_method: ml\n",
      "[INFO-wrappers_bo-03/08/2021-21:10:04] num_init: 10\n",
      "[INFO-wrappers_bo-03/08/2021-21:10:04] num_iter: 6\n",
      "[INFO-wrappers_bo-03/08/2021-21:10:04] str_initial_method_bo: uniform\n",
      "[INFO-wrappers_bo-03/08/2021-21:10:04] str_sampling_method_ao: uniform\n",
      "[INFO-wrappers_bo-03/08/2021-21:10:04] num_samples_ao: 100\n",
      "[INFO-wrappers_bo-03/08/2021-21:10:04] str_mlm_method: regular\n",
      "[INFO-wrappers_bo-03/08/2021-21:10:04] seed: None\n",
      "[INFO-wrappers_bo-03/08/2021-21:10:04] Iteration 1\n"
     ]
    },
    {
     "name": "stdout",
     "output_type": "stream",
     "text": [
      "BO Round 5\n"
     ]
    },
    {
     "name": "stderr",
     "output_type": "stream",
     "text": [
      "[INFO-wrappers_bo-03/08/2021-21:10:04] Iteration 2\n",
      "[INFO-wrappers_bo-03/08/2021-21:10:04] Iteration 3\n",
      "[INFO-wrappers_bo-03/08/2021-21:10:05] Iteration 4\n",
      "[INFO-wrappers_bo-03/08/2021-21:10:05] Iteration 5\n",
      "[INFO-wrappers_bo-03/08/2021-21:10:05] Iteration 6\n",
      "[INFO-wrappers_bo-03/08/2021-21:10:05] range_X:\n",
      "[[-100, 100],\n",
      "[-100, 100],\n",
      "[-100, 100],\n",
      "[-100, 100]]\n",
      "[INFO-wrappers_bo-03/08/2021-21:10:05] str_cov: matern52\n",
      "[INFO-wrappers_bo-03/08/2021-21:10:05] str_acq: ei\n",
      "[INFO-wrappers_bo-03/08/2021-21:10:05] str_optimizer_method_gp: BFGS\n",
      "[INFO-wrappers_bo-03/08/2021-21:10:05] str_optimizer_method_bo: L-BFGS-B\n",
      "[INFO-wrappers_bo-03/08/2021-21:10:05] str_modelselection_method: ml\n",
      "[INFO-wrappers_bo-03/08/2021-21:10:05] num_init: 9\n",
      "[INFO-wrappers_bo-03/08/2021-21:10:05] num_iter: 4\n",
      "[INFO-wrappers_bo-03/08/2021-21:10:05] str_initial_method_bo: uniform\n",
      "[INFO-wrappers_bo-03/08/2021-21:10:05] str_sampling_method_ao: uniform\n",
      "[INFO-wrappers_bo-03/08/2021-21:10:05] num_samples_ao: 100\n",
      "[INFO-wrappers_bo-03/08/2021-21:10:05] str_mlm_method: regular\n",
      "[INFO-wrappers_bo-03/08/2021-21:10:05] seed: None\n",
      "[INFO-wrappers_bo-03/08/2021-21:10:05] Iteration 1\n"
     ]
    },
    {
     "name": "stdout",
     "output_type": "stream",
     "text": [
      "BO Round 6\n"
     ]
    },
    {
     "name": "stderr",
     "output_type": "stream",
     "text": [
      "[INFO-wrappers_bo-03/08/2021-21:10:06] Iteration 2\n",
      "[INFO-wrappers_bo-03/08/2021-21:10:06] Iteration 3\n",
      "[INFO-wrappers_bo-03/08/2021-21:10:06] Iteration 4\n",
      "[INFO-wrappers_bo-03/08/2021-21:10:07] range_X:\n",
      "[[-100, 100],\n",
      "[-100, 100],\n",
      "[-100, 100],\n",
      "[-100, 100]]\n",
      "[INFO-wrappers_bo-03/08/2021-21:10:07] str_cov: matern52\n",
      "[INFO-wrappers_bo-03/08/2021-21:10:07] str_acq: ei\n",
      "[INFO-wrappers_bo-03/08/2021-21:10:07] str_optimizer_method_gp: BFGS\n",
      "[INFO-wrappers_bo-03/08/2021-21:10:07] str_optimizer_method_bo: L-BFGS-B\n",
      "[INFO-wrappers_bo-03/08/2021-21:10:07] str_modelselection_method: ml\n",
      "[INFO-wrappers_bo-03/08/2021-21:10:07] num_init: 10\n",
      "[INFO-wrappers_bo-03/08/2021-21:10:07] num_iter: 3\n",
      "[INFO-wrappers_bo-03/08/2021-21:10:07] str_initial_method_bo: uniform\n",
      "[INFO-wrappers_bo-03/08/2021-21:10:07] str_sampling_method_ao: uniform\n",
      "[INFO-wrappers_bo-03/08/2021-21:10:07] num_samples_ao: 100\n",
      "[INFO-wrappers_bo-03/08/2021-21:10:07] str_mlm_method: regular\n",
      "[INFO-wrappers_bo-03/08/2021-21:10:07] seed: None\n",
      "[INFO-wrappers_bo-03/08/2021-21:10:07] Iteration 1\n"
     ]
    },
    {
     "name": "stdout",
     "output_type": "stream",
     "text": [
      "BO Round 7\n"
     ]
    },
    {
     "name": "stderr",
     "output_type": "stream",
     "text": [
      "[INFO-wrappers_bo-03/08/2021-21:10:07] Iteration 2\n",
      "[INFO-wrappers_bo-03/08/2021-21:10:07] Iteration 3\n",
      "[INFO-wrappers_bo-03/08/2021-21:10:07] range_X:\n",
      "[[-100, 100],\n",
      "[-100, 100],\n",
      "[-100, 100],\n",
      "[-100, 100]]\n",
      "[INFO-wrappers_bo-03/08/2021-21:10:07] str_cov: matern52\n",
      "[INFO-wrappers_bo-03/08/2021-21:10:07] str_acq: ei\n",
      "[INFO-wrappers_bo-03/08/2021-21:10:07] str_optimizer_method_gp: BFGS\n",
      "[INFO-wrappers_bo-03/08/2021-21:10:07] str_optimizer_method_bo: L-BFGS-B\n",
      "[INFO-wrappers_bo-03/08/2021-21:10:07] str_modelselection_method: ml\n",
      "[INFO-wrappers_bo-03/08/2021-21:10:07] num_init: 5\n",
      "[INFO-wrappers_bo-03/08/2021-21:10:07] num_iter: 9\n",
      "[INFO-wrappers_bo-03/08/2021-21:10:07] str_initial_method_bo: uniform\n",
      "[INFO-wrappers_bo-03/08/2021-21:10:07] str_sampling_method_ao: uniform\n",
      "[INFO-wrappers_bo-03/08/2021-21:10:07] num_samples_ao: 100\n",
      "[INFO-wrappers_bo-03/08/2021-21:10:07] str_mlm_method: regular\n",
      "[INFO-wrappers_bo-03/08/2021-21:10:07] seed: None\n",
      "[INFO-wrappers_bo-03/08/2021-21:10:07] Iteration 1\n"
     ]
    },
    {
     "name": "stdout",
     "output_type": "stream",
     "text": [
      "BO Round 8\n"
     ]
    },
    {
     "name": "stderr",
     "output_type": "stream",
     "text": [
      "[INFO-wrappers_bo-03/08/2021-21:10:08] Iteration 2\n",
      "[INFO-wrappers_bo-03/08/2021-21:10:08] Iteration 3\n",
      "[INFO-wrappers_bo-03/08/2021-21:10:08] Iteration 4\n",
      "[INFO-wrappers_bo-03/08/2021-21:10:08] Iteration 5\n",
      "[INFO-wrappers_bo-03/08/2021-21:10:09] Iteration 6\n",
      "[INFO-wrappers_bo-03/08/2021-21:10:09] Iteration 7\n",
      "[INFO-wrappers_bo-03/08/2021-21:10:09] Iteration 8\n",
      "[INFO-wrappers_bo-03/08/2021-21:10:10] Iteration 9\n",
      "[INFO-wrappers_bo-03/08/2021-21:10:10] range_X:\n",
      "[[-100, 100],\n",
      "[-100, 100],\n",
      "[-100, 100],\n",
      "[-100, 100]]\n",
      "[INFO-wrappers_bo-03/08/2021-21:10:10] str_cov: matern52\n",
      "[INFO-wrappers_bo-03/08/2021-21:10:10] str_acq: ei\n",
      "[INFO-wrappers_bo-03/08/2021-21:10:10] str_optimizer_method_gp: BFGS\n",
      "[INFO-wrappers_bo-03/08/2021-21:10:10] str_optimizer_method_bo: L-BFGS-B\n",
      "[INFO-wrappers_bo-03/08/2021-21:10:10] str_modelselection_method: ml\n",
      "[INFO-wrappers_bo-03/08/2021-21:10:10] num_init: 6\n",
      "[INFO-wrappers_bo-03/08/2021-21:10:10] num_iter: 6\n",
      "[INFO-wrappers_bo-03/08/2021-21:10:10] str_initial_method_bo: uniform\n",
      "[INFO-wrappers_bo-03/08/2021-21:10:10] str_sampling_method_ao: uniform\n",
      "[INFO-wrappers_bo-03/08/2021-21:10:10] num_samples_ao: 100\n",
      "[INFO-wrappers_bo-03/08/2021-21:10:10] str_mlm_method: regular\n",
      "[INFO-wrappers_bo-03/08/2021-21:10:10] seed: None\n",
      "[INFO-wrappers_bo-03/08/2021-21:10:10] Iteration 1\n"
     ]
    },
    {
     "name": "stdout",
     "output_type": "stream",
     "text": [
      "BO Round 9\n"
     ]
    },
    {
     "name": "stderr",
     "output_type": "stream",
     "text": [
      "[INFO-wrappers_bo-03/08/2021-21:10:10] Iteration 2\n",
      "[INFO-wrappers_bo-03/08/2021-21:10:10] Iteration 3\n",
      "[INFO-wrappers_bo-03/08/2021-21:10:11] Iteration 4\n",
      "[INFO-wrappers_bo-03/08/2021-21:10:11] Iteration 5\n",
      "[INFO-wrappers_bo-03/08/2021-21:10:11] Iteration 6\n",
      "[INFO-wrappers_bo-03/08/2021-21:10:11] range_X:\n",
      "[[-100, 100],\n",
      "[-100, 100],\n",
      "[-100, 100],\n",
      "[-100, 100]]\n",
      "[INFO-wrappers_bo-03/08/2021-21:10:11] str_cov: matern52\n",
      "[INFO-wrappers_bo-03/08/2021-21:10:11] str_acq: ei\n",
      "[INFO-wrappers_bo-03/08/2021-21:10:11] str_optimizer_method_gp: BFGS\n",
      "[INFO-wrappers_bo-03/08/2021-21:10:11] str_optimizer_method_bo: L-BFGS-B\n",
      "[INFO-wrappers_bo-03/08/2021-21:10:11] str_modelselection_method: ml\n",
      "[INFO-wrappers_bo-03/08/2021-21:10:11] num_init: 3\n",
      "[INFO-wrappers_bo-03/08/2021-21:10:11] num_iter: 4\n",
      "[INFO-wrappers_bo-03/08/2021-21:10:11] str_initial_method_bo: uniform\n",
      "[INFO-wrappers_bo-03/08/2021-21:10:11] str_sampling_method_ao: uniform\n",
      "[INFO-wrappers_bo-03/08/2021-21:10:12] num_samples_ao: 100\n",
      "[INFO-wrappers_bo-03/08/2021-21:10:12] str_mlm_method: regular\n",
      "[INFO-wrappers_bo-03/08/2021-21:10:12] seed: None\n",
      "[INFO-wrappers_bo-03/08/2021-21:10:12] Iteration 1\n"
     ]
    },
    {
     "name": "stdout",
     "output_type": "stream",
     "text": [
      "BO Round 10\n"
     ]
    },
    {
     "name": "stderr",
     "output_type": "stream",
     "text": [
      "[INFO-wrappers_bo-03/08/2021-21:10:12] Iteration 2\n",
      "[INFO-wrappers_bo-03/08/2021-21:10:12] Iteration 3\n",
      "[INFO-wrappers_bo-03/08/2021-21:10:12] Iteration 4\n",
      "[INFO-wrappers_bo-03/08/2021-21:10:13] range_X:\n",
      "[[-100, 100],\n",
      "[-100, 100],\n",
      "[-100, 100],\n",
      "[-100, 100]]\n",
      "[INFO-wrappers_bo-03/08/2021-21:10:13] str_cov: matern52\n",
      "[INFO-wrappers_bo-03/08/2021-21:10:13] str_acq: ei\n",
      "[INFO-wrappers_bo-03/08/2021-21:10:13] str_optimizer_method_gp: BFGS\n",
      "[INFO-wrappers_bo-03/08/2021-21:10:13] str_optimizer_method_bo: L-BFGS-B\n",
      "[INFO-wrappers_bo-03/08/2021-21:10:13] str_modelselection_method: ml\n",
      "[INFO-wrappers_bo-03/08/2021-21:10:13] num_init: 3\n",
      "[INFO-wrappers_bo-03/08/2021-21:10:13] num_iter: 3\n",
      "[INFO-wrappers_bo-03/08/2021-21:10:13] str_initial_method_bo: uniform\n",
      "[INFO-wrappers_bo-03/08/2021-21:10:13] str_sampling_method_ao: uniform\n",
      "[INFO-wrappers_bo-03/08/2021-21:10:13] num_samples_ao: 100\n",
      "[INFO-wrappers_bo-03/08/2021-21:10:13] str_mlm_method: regular\n",
      "[INFO-wrappers_bo-03/08/2021-21:10:13] seed: None\n",
      "[INFO-wrappers_bo-03/08/2021-21:10:13] Iteration 1\n"
     ]
    },
    {
     "name": "stdout",
     "output_type": "stream",
     "text": [
      "BO Round 11\n"
     ]
    },
    {
     "name": "stderr",
     "output_type": "stream",
     "text": [
      "[INFO-wrappers_bo-03/08/2021-21:10:13] Iteration 2\n",
      "[INFO-wrappers_bo-03/08/2021-21:10:13] Iteration 3\n",
      "[INFO-wrappers_bo-03/08/2021-21:10:13] range_X:\n",
      "[[-100, 100],\n",
      "[-100, 100],\n",
      "[-100, 100],\n",
      "[-100, 100]]\n",
      "[INFO-wrappers_bo-03/08/2021-21:10:13] str_cov: matern52\n",
      "[INFO-wrappers_bo-03/08/2021-21:10:13] str_acq: ei\n",
      "[INFO-wrappers_bo-03/08/2021-21:10:13] str_optimizer_method_gp: BFGS\n",
      "[INFO-wrappers_bo-03/08/2021-21:10:13] str_optimizer_method_bo: L-BFGS-B\n",
      "[INFO-wrappers_bo-03/08/2021-21:10:13] str_modelselection_method: ml\n",
      "[INFO-wrappers_bo-03/08/2021-21:10:13] num_init: 10\n",
      "[INFO-wrappers_bo-03/08/2021-21:10:13] num_iter: 8\n",
      "[INFO-wrappers_bo-03/08/2021-21:10:13] str_initial_method_bo: uniform\n",
      "[INFO-wrappers_bo-03/08/2021-21:10:13] str_sampling_method_ao: uniform\n",
      "[INFO-wrappers_bo-03/08/2021-21:10:13] num_samples_ao: 100\n",
      "[INFO-wrappers_bo-03/08/2021-21:10:13] str_mlm_method: regular\n",
      "[INFO-wrappers_bo-03/08/2021-21:10:13] seed: None\n",
      "[INFO-wrappers_bo-03/08/2021-21:10:13] Iteration 1\n"
     ]
    },
    {
     "name": "stdout",
     "output_type": "stream",
     "text": [
      "BO Round 12\n"
     ]
    },
    {
     "name": "stderr",
     "output_type": "stream",
     "text": [
      "[INFO-wrappers_bo-03/08/2021-21:10:14] Iteration 2\n",
      "[INFO-wrappers_bo-03/08/2021-21:10:14] Iteration 3\n",
      "[INFO-wrappers_bo-03/08/2021-21:10:14] Iteration 4\n",
      "[INFO-wrappers_bo-03/08/2021-21:10:15] Iteration 5\n",
      "[INFO-wrappers_bo-03/08/2021-21:10:15] Iteration 6\n",
      "[INFO-wrappers_bo-03/08/2021-21:10:15] Iteration 7\n",
      "[INFO-wrappers_bo-03/08/2021-21:10:15] Iteration 8\n",
      "[INFO-wrappers_bo-03/08/2021-21:10:16] range_X:\n",
      "[[-100, 100],\n",
      "[-100, 100],\n",
      "[-100, 100],\n",
      "[-100, 100]]\n",
      "[INFO-wrappers_bo-03/08/2021-21:10:16] str_cov: matern52\n",
      "[INFO-wrappers_bo-03/08/2021-21:10:16] str_acq: ei\n",
      "[INFO-wrappers_bo-03/08/2021-21:10:16] str_optimizer_method_gp: BFGS\n",
      "[INFO-wrappers_bo-03/08/2021-21:10:16] str_optimizer_method_bo: L-BFGS-B\n",
      "[INFO-wrappers_bo-03/08/2021-21:10:16] str_modelselection_method: ml\n",
      "[INFO-wrappers_bo-03/08/2021-21:10:16] num_init: 8\n",
      "[INFO-wrappers_bo-03/08/2021-21:10:16] num_iter: 5\n",
      "[INFO-wrappers_bo-03/08/2021-21:10:16] str_initial_method_bo: uniform\n",
      "[INFO-wrappers_bo-03/08/2021-21:10:16] str_sampling_method_ao: uniform\n",
      "[INFO-wrappers_bo-03/08/2021-21:10:16] num_samples_ao: 100\n",
      "[INFO-wrappers_bo-03/08/2021-21:10:16] str_mlm_method: regular\n",
      "[INFO-wrappers_bo-03/08/2021-21:10:16] seed: None\n",
      "[INFO-wrappers_bo-03/08/2021-21:10:16] Iteration 1\n"
     ]
    },
    {
     "name": "stdout",
     "output_type": "stream",
     "text": [
      "BO Round 13\n"
     ]
    },
    {
     "name": "stderr",
     "output_type": "stream",
     "text": [
      "[INFO-wrappers_bo-03/08/2021-21:10:16] Iteration 2\n",
      "[INFO-wrappers_bo-03/08/2021-21:10:16] Iteration 3\n",
      "[INFO-wrappers_bo-03/08/2021-21:10:17] Iteration 4\n",
      "[INFO-wrappers_bo-03/08/2021-21:10:17] Iteration 5\n",
      "[INFO-wrappers_bo-03/08/2021-21:10:17] range_X:\n",
      "[[-100, 100],\n",
      "[-100, 100],\n",
      "[-100, 100],\n",
      "[-100, 100]]\n",
      "[INFO-wrappers_bo-03/08/2021-21:10:17] str_cov: matern52\n",
      "[INFO-wrappers_bo-03/08/2021-21:10:17] str_acq: ei\n",
      "[INFO-wrappers_bo-03/08/2021-21:10:17] str_optimizer_method_gp: BFGS\n",
      "[INFO-wrappers_bo-03/08/2021-21:10:17] str_optimizer_method_bo: L-BFGS-B\n",
      "[INFO-wrappers_bo-03/08/2021-21:10:17] str_modelselection_method: ml\n",
      "[INFO-wrappers_bo-03/08/2021-21:10:17] num_init: 8\n",
      "[INFO-wrappers_bo-03/08/2021-21:10:17] num_iter: 6\n",
      "[INFO-wrappers_bo-03/08/2021-21:10:17] str_initial_method_bo: uniform\n",
      "[INFO-wrappers_bo-03/08/2021-21:10:17] str_sampling_method_ao: uniform\n",
      "[INFO-wrappers_bo-03/08/2021-21:10:17] num_samples_ao: 100\n",
      "[INFO-wrappers_bo-03/08/2021-21:10:17] str_mlm_method: regular\n",
      "[INFO-wrappers_bo-03/08/2021-21:10:17] seed: None\n",
      "[INFO-wrappers_bo-03/08/2021-21:10:17] Iteration 1\n"
     ]
    },
    {
     "name": "stdout",
     "output_type": "stream",
     "text": [
      "BO Round 14\n"
     ]
    },
    {
     "name": "stderr",
     "output_type": "stream",
     "text": [
      "[INFO-wrappers_bo-03/08/2021-21:10:17] Iteration 2\n",
      "[INFO-wrappers_bo-03/08/2021-21:10:18] Iteration 3\n",
      "[INFO-wrappers_bo-03/08/2021-21:10:18] Iteration 4\n",
      "[INFO-wrappers_bo-03/08/2021-21:10:18] Iteration 5\n",
      "[INFO-wrappers_bo-03/08/2021-21:10:18] Iteration 6\n",
      "[INFO-wrappers_bo-03/08/2021-21:10:19] range_X:\n",
      "[[-100, 100],\n",
      "[-100, 100],\n",
      "[-100, 100],\n",
      "[-100, 100]]\n",
      "[INFO-wrappers_bo-03/08/2021-21:10:19] str_cov: matern52\n",
      "[INFO-wrappers_bo-03/08/2021-21:10:19] str_acq: ei\n",
      "[INFO-wrappers_bo-03/08/2021-21:10:19] str_optimizer_method_gp: BFGS\n",
      "[INFO-wrappers_bo-03/08/2021-21:10:19] str_optimizer_method_bo: L-BFGS-B\n",
      "[INFO-wrappers_bo-03/08/2021-21:10:19] str_modelselection_method: ml\n",
      "[INFO-wrappers_bo-03/08/2021-21:10:19] num_init: 4\n",
      "[INFO-wrappers_bo-03/08/2021-21:10:19] num_iter: 6\n",
      "[INFO-wrappers_bo-03/08/2021-21:10:19] str_initial_method_bo: uniform\n",
      "[INFO-wrappers_bo-03/08/2021-21:10:19] str_sampling_method_ao: uniform\n",
      "[INFO-wrappers_bo-03/08/2021-21:10:19] num_samples_ao: 100\n",
      "[INFO-wrappers_bo-03/08/2021-21:10:19] str_mlm_method: regular\n",
      "[INFO-wrappers_bo-03/08/2021-21:10:19] seed: None\n",
      "[INFO-wrappers_bo-03/08/2021-21:10:19] Iteration 1\n"
     ]
    },
    {
     "name": "stdout",
     "output_type": "stream",
     "text": [
      "BO Round 15\n"
     ]
    },
    {
     "name": "stderr",
     "output_type": "stream",
     "text": [
      "[INFO-wrappers_bo-03/08/2021-21:10:19] Iteration 2\n",
      "[INFO-wrappers_bo-03/08/2021-21:10:19] Iteration 3\n",
      "[INFO-wrappers_bo-03/08/2021-21:10:20] Iteration 4\n",
      "[INFO-wrappers_bo-03/08/2021-21:10:20] Iteration 5\n",
      "[INFO-wrappers_bo-03/08/2021-21:10:20] Iteration 6\n",
      "[INFO-wrappers_bo-03/08/2021-21:10:20] range_X:\n",
      "[[-100, 100],\n",
      "[-100, 100],\n",
      "[-100, 100],\n",
      "[-100, 100]]\n",
      "[INFO-wrappers_bo-03/08/2021-21:10:20] str_cov: matern52\n",
      "[INFO-wrappers_bo-03/08/2021-21:10:20] str_acq: ei\n",
      "[INFO-wrappers_bo-03/08/2021-21:10:20] str_optimizer_method_gp: BFGS\n",
      "[INFO-wrappers_bo-03/08/2021-21:10:20] str_optimizer_method_bo: L-BFGS-B\n",
      "[INFO-wrappers_bo-03/08/2021-21:10:20] str_modelselection_method: ml\n",
      "[INFO-wrappers_bo-03/08/2021-21:10:20] num_init: 7\n",
      "[INFO-wrappers_bo-03/08/2021-21:10:20] num_iter: 3\n",
      "[INFO-wrappers_bo-03/08/2021-21:10:20] str_initial_method_bo: uniform\n",
      "[INFO-wrappers_bo-03/08/2021-21:10:20] str_sampling_method_ao: uniform\n",
      "[INFO-wrappers_bo-03/08/2021-21:10:20] num_samples_ao: 100\n",
      "[INFO-wrappers_bo-03/08/2021-21:10:20] str_mlm_method: regular\n",
      "[INFO-wrappers_bo-03/08/2021-21:10:20] seed: None\n",
      "[INFO-wrappers_bo-03/08/2021-21:10:20] Iteration 1\n"
     ]
    },
    {
     "name": "stdout",
     "output_type": "stream",
     "text": [
      "BO Round 16\n"
     ]
    },
    {
     "name": "stderr",
     "output_type": "stream",
     "text": [
      "[INFO-wrappers_bo-03/08/2021-21:10:21] Iteration 2\n",
      "[INFO-wrappers_bo-03/08/2021-21:10:21] Iteration 3\n",
      "[INFO-wrappers_bo-03/08/2021-21:10:21] range_X:\n",
      "[[-100, 100],\n",
      "[-100, 100],\n",
      "[-100, 100],\n",
      "[-100, 100]]\n",
      "[INFO-wrappers_bo-03/08/2021-21:10:21] str_cov: matern52\n",
      "[INFO-wrappers_bo-03/08/2021-21:10:21] str_acq: ei\n",
      "[INFO-wrappers_bo-03/08/2021-21:10:21] str_optimizer_method_gp: BFGS\n",
      "[INFO-wrappers_bo-03/08/2021-21:10:21] str_optimizer_method_bo: L-BFGS-B\n",
      "[INFO-wrappers_bo-03/08/2021-21:10:21] str_modelselection_method: ml\n",
      "[INFO-wrappers_bo-03/08/2021-21:10:21] num_init: 7\n",
      "[INFO-wrappers_bo-03/08/2021-21:10:21] num_iter: 9\n",
      "[INFO-wrappers_bo-03/08/2021-21:10:21] str_initial_method_bo: uniform\n",
      "[INFO-wrappers_bo-03/08/2021-21:10:21] str_sampling_method_ao: uniform\n",
      "[INFO-wrappers_bo-03/08/2021-21:10:21] num_samples_ao: 100\n",
      "[INFO-wrappers_bo-03/08/2021-21:10:21] str_mlm_method: regular\n",
      "[INFO-wrappers_bo-03/08/2021-21:10:21] seed: None\n",
      "[INFO-wrappers_bo-03/08/2021-21:10:21] Iteration 1\n"
     ]
    },
    {
     "name": "stdout",
     "output_type": "stream",
     "text": [
      "BO Round 17\n"
     ]
    },
    {
     "name": "stderr",
     "output_type": "stream",
     "text": [
      "[INFO-wrappers_bo-03/08/2021-21:10:22] Iteration 2\n",
      "[INFO-wrappers_bo-03/08/2021-21:10:22] Iteration 3\n",
      "[INFO-wrappers_bo-03/08/2021-21:10:22] Iteration 4\n",
      "[INFO-wrappers_bo-03/08/2021-21:10:22] Iteration 5\n",
      "[INFO-wrappers_bo-03/08/2021-21:10:23] Iteration 6\n",
      "[INFO-wrappers_bo-03/08/2021-21:10:23] Iteration 7\n",
      "[INFO-wrappers_bo-03/08/2021-21:10:23] Iteration 8\n",
      "[INFO-wrappers_bo-03/08/2021-21:10:24] Iteration 9\n",
      "[INFO-wrappers_bo-03/08/2021-21:10:24] range_X:\n",
      "[[-100, 100],\n",
      "[-100, 100],\n",
      "[-100, 100],\n",
      "[-100, 100]]\n",
      "[INFO-wrappers_bo-03/08/2021-21:10:24] str_cov: matern52\n",
      "[INFO-wrappers_bo-03/08/2021-21:10:24] str_acq: ei\n",
      "[INFO-wrappers_bo-03/08/2021-21:10:24] str_optimizer_method_gp: BFGS\n",
      "[INFO-wrappers_bo-03/08/2021-21:10:24] str_optimizer_method_bo: L-BFGS-B\n",
      "[INFO-wrappers_bo-03/08/2021-21:10:24] str_modelselection_method: ml\n",
      "[INFO-wrappers_bo-03/08/2021-21:10:24] num_init: 2\n",
      "[INFO-wrappers_bo-03/08/2021-21:10:24] num_iter: 3\n",
      "[INFO-wrappers_bo-03/08/2021-21:10:24] str_initial_method_bo: uniform\n",
      "[INFO-wrappers_bo-03/08/2021-21:10:24] str_sampling_method_ao: uniform\n",
      "[INFO-wrappers_bo-03/08/2021-21:10:24] num_samples_ao: 100\n",
      "[INFO-wrappers_bo-03/08/2021-21:10:24] str_mlm_method: regular\n",
      "[INFO-wrappers_bo-03/08/2021-21:10:24] seed: None\n",
      "[INFO-wrappers_bo-03/08/2021-21:10:24] Iteration 1\n"
     ]
    },
    {
     "name": "stdout",
     "output_type": "stream",
     "text": [
      "BO Round 18\n"
     ]
    },
    {
     "name": "stderr",
     "output_type": "stream",
     "text": [
      "[INFO-wrappers_bo-03/08/2021-21:10:24] Iteration 2\n",
      "[INFO-wrappers_bo-03/08/2021-21:10:24] Iteration 3\n",
      "[INFO-wrappers_bo-03/08/2021-21:10:25] range_X:\n",
      "[[-100, 100],\n",
      "[-100, 100],\n",
      "[-100, 100],\n",
      "[-100, 100]]\n",
      "[INFO-wrappers_bo-03/08/2021-21:10:25] str_cov: matern52\n",
      "[INFO-wrappers_bo-03/08/2021-21:10:25] str_acq: ei\n",
      "[INFO-wrappers_bo-03/08/2021-21:10:25] str_optimizer_method_gp: BFGS\n",
      "[INFO-wrappers_bo-03/08/2021-21:10:25] str_optimizer_method_bo: L-BFGS-B\n",
      "[INFO-wrappers_bo-03/08/2021-21:10:25] str_modelselection_method: ml\n",
      "[INFO-wrappers_bo-03/08/2021-21:10:25] num_init: 2\n",
      "[INFO-wrappers_bo-03/08/2021-21:10:25] num_iter: 5\n",
      "[INFO-wrappers_bo-03/08/2021-21:10:25] str_initial_method_bo: uniform\n",
      "[INFO-wrappers_bo-03/08/2021-21:10:25] str_sampling_method_ao: uniform\n",
      "[INFO-wrappers_bo-03/08/2021-21:10:25] num_samples_ao: 100\n",
      "[INFO-wrappers_bo-03/08/2021-21:10:25] str_mlm_method: regular\n",
      "[INFO-wrappers_bo-03/08/2021-21:10:25] seed: None\n",
      "[INFO-wrappers_bo-03/08/2021-21:10:25] Iteration 1\n"
     ]
    },
    {
     "name": "stdout",
     "output_type": "stream",
     "text": [
      "BO Round 19\n"
     ]
    },
    {
     "name": "stderr",
     "output_type": "stream",
     "text": [
      "[INFO-wrappers_bo-03/08/2021-21:10:25] Iteration 2\n",
      "[INFO-wrappers_bo-03/08/2021-21:10:25] Iteration 3\n",
      "[INFO-wrappers_bo-03/08/2021-21:10:25] Iteration 4\n",
      "[INFO-wrappers_bo-03/08/2021-21:10:26] Iteration 5\n",
      "[INFO-wrappers_bo-03/08/2021-21:10:26] range_X:\n",
      "[[-100, 100],\n",
      "[-100, 100],\n",
      "[-100, 100],\n",
      "[-100, 100]]\n",
      "[INFO-wrappers_bo-03/08/2021-21:10:26] str_cov: matern52\n",
      "[INFO-wrappers_bo-03/08/2021-21:10:26] str_acq: ei\n",
      "[INFO-wrappers_bo-03/08/2021-21:10:26] str_optimizer_method_gp: BFGS\n",
      "[INFO-wrappers_bo-03/08/2021-21:10:26] str_optimizer_method_bo: L-BFGS-B\n",
      "[INFO-wrappers_bo-03/08/2021-21:10:26] str_modelselection_method: ml\n",
      "[INFO-wrappers_bo-03/08/2021-21:10:26] num_init: 9\n",
      "[INFO-wrappers_bo-03/08/2021-21:10:26] num_iter: 8\n",
      "[INFO-wrappers_bo-03/08/2021-21:10:26] str_initial_method_bo: uniform\n",
      "[INFO-wrappers_bo-03/08/2021-21:10:26] str_sampling_method_ao: uniform\n",
      "[INFO-wrappers_bo-03/08/2021-21:10:26] num_samples_ao: 100\n",
      "[INFO-wrappers_bo-03/08/2021-21:10:26] str_mlm_method: regular\n",
      "[INFO-wrappers_bo-03/08/2021-21:10:26] seed: None\n",
      "[INFO-wrappers_bo-03/08/2021-21:10:26] Iteration 1\n"
     ]
    },
    {
     "name": "stdout",
     "output_type": "stream",
     "text": [
      "BO Round 20\n"
     ]
    },
    {
     "name": "stderr",
     "output_type": "stream",
     "text": [
      "[INFO-wrappers_bo-03/08/2021-21:10:26] Iteration 2\n",
      "[INFO-wrappers_bo-03/08/2021-21:10:27] Iteration 3\n",
      "[INFO-wrappers_bo-03/08/2021-21:10:27] Iteration 4\n",
      "[INFO-wrappers_bo-03/08/2021-21:10:27] Iteration 5\n",
      "[INFO-wrappers_bo-03/08/2021-21:10:27] Iteration 6\n",
      "[INFO-wrappers_bo-03/08/2021-21:10:28] Iteration 7\n",
      "[INFO-wrappers_bo-03/08/2021-21:10:28] Iteration 8\n",
      "[INFO-wrappers_bo-03/08/2021-21:10:28] range_X:\n",
      "[[-100, 100],\n",
      "[-100, 100],\n",
      "[-100, 100],\n",
      "[-100, 100]]\n",
      "[INFO-wrappers_bo-03/08/2021-21:10:28] str_cov: matern52\n",
      "[INFO-wrappers_bo-03/08/2021-21:10:28] str_acq: ei\n",
      "[INFO-wrappers_bo-03/08/2021-21:10:28] str_optimizer_method_gp: BFGS\n",
      "[INFO-wrappers_bo-03/08/2021-21:10:28] str_optimizer_method_bo: L-BFGS-B\n",
      "[INFO-wrappers_bo-03/08/2021-21:10:28] str_modelselection_method: ml\n",
      "[INFO-wrappers_bo-03/08/2021-21:10:28] num_init: 10\n",
      "[INFO-wrappers_bo-03/08/2021-21:10:28] num_iter: 8\n",
      "[INFO-wrappers_bo-03/08/2021-21:10:28] str_initial_method_bo: uniform\n",
      "[INFO-wrappers_bo-03/08/2021-21:10:28] str_sampling_method_ao: uniform\n",
      "[INFO-wrappers_bo-03/08/2021-21:10:28] num_samples_ao: 100\n",
      "[INFO-wrappers_bo-03/08/2021-21:10:28] str_mlm_method: regular\n",
      "[INFO-wrappers_bo-03/08/2021-21:10:28] seed: None\n",
      "[INFO-wrappers_bo-03/08/2021-21:10:28] Iteration 1\n"
     ]
    },
    {
     "name": "stdout",
     "output_type": "stream",
     "text": [
      "BO Round 21\n"
     ]
    },
    {
     "name": "stderr",
     "output_type": "stream",
     "text": [
      "[INFO-wrappers_bo-03/08/2021-21:10:29] Iteration 2\n",
      "[INFO-wrappers_bo-03/08/2021-21:10:29] Iteration 3\n",
      "[INFO-wrappers_bo-03/08/2021-21:10:29] Iteration 4\n",
      "[INFO-wrappers_bo-03/08/2021-21:10:29] Iteration 5\n",
      "[INFO-wrappers_bo-03/08/2021-21:10:30] Iteration 6\n",
      "[INFO-wrappers_bo-03/08/2021-21:10:30] Iteration 7\n",
      "[INFO-wrappers_bo-03/08/2021-21:10:30] Iteration 8\n",
      "[INFO-wrappers_bo-03/08/2021-21:10:31] range_X:\n",
      "[[-100, 100],\n",
      "[-100, 100],\n",
      "[-100, 100],\n",
      "[-100, 100]]\n",
      "[INFO-wrappers_bo-03/08/2021-21:10:31] str_cov: matern52\n",
      "[INFO-wrappers_bo-03/08/2021-21:10:31] str_acq: ei\n",
      "[INFO-wrappers_bo-03/08/2021-21:10:31] str_optimizer_method_gp: BFGS\n",
      "[INFO-wrappers_bo-03/08/2021-21:10:31] str_optimizer_method_bo: L-BFGS-B\n",
      "[INFO-wrappers_bo-03/08/2021-21:10:31] str_modelselection_method: ml\n",
      "[INFO-wrappers_bo-03/08/2021-21:10:31] num_init: 4\n",
      "[INFO-wrappers_bo-03/08/2021-21:10:31] num_iter: 7\n",
      "[INFO-wrappers_bo-03/08/2021-21:10:31] str_initial_method_bo: uniform\n",
      "[INFO-wrappers_bo-03/08/2021-21:10:31] str_sampling_method_ao: uniform\n",
      "[INFO-wrappers_bo-03/08/2021-21:10:31] num_samples_ao: 100\n",
      "[INFO-wrappers_bo-03/08/2021-21:10:31] str_mlm_method: regular\n",
      "[INFO-wrappers_bo-03/08/2021-21:10:31] seed: None\n",
      "[INFO-wrappers_bo-03/08/2021-21:10:31] Iteration 1\n"
     ]
    },
    {
     "name": "stdout",
     "output_type": "stream",
     "text": [
      "BO Round 22\n"
     ]
    },
    {
     "name": "stderr",
     "output_type": "stream",
     "text": [
      "[INFO-wrappers_bo-03/08/2021-21:10:31] Iteration 2\n",
      "[INFO-wrappers_bo-03/08/2021-21:10:31] Iteration 3\n",
      "[INFO-wrappers_bo-03/08/2021-21:10:31] Iteration 4\n",
      "[INFO-wrappers_bo-03/08/2021-21:10:32] Iteration 5\n",
      "[INFO-wrappers_bo-03/08/2021-21:10:32] Iteration 6\n",
      "[INFO-wrappers_bo-03/08/2021-21:10:32] Iteration 7\n",
      "[INFO-wrappers_bo-03/08/2021-21:10:33] range_X:\n",
      "[[-100, 100],\n",
      "[-100, 100],\n",
      "[-100, 100],\n",
      "[-100, 100]]\n",
      "[INFO-wrappers_bo-03/08/2021-21:10:33] str_cov: matern52\n",
      "[INFO-wrappers_bo-03/08/2021-21:10:33] str_acq: ei\n",
      "[INFO-wrappers_bo-03/08/2021-21:10:33] str_optimizer_method_gp: BFGS\n",
      "[INFO-wrappers_bo-03/08/2021-21:10:33] str_optimizer_method_bo: L-BFGS-B\n",
      "[INFO-wrappers_bo-03/08/2021-21:10:33] str_modelselection_method: ml\n",
      "[INFO-wrappers_bo-03/08/2021-21:10:33] num_init: 10\n",
      "[INFO-wrappers_bo-03/08/2021-21:10:33] num_iter: 4\n",
      "[INFO-wrappers_bo-03/08/2021-21:10:33] str_initial_method_bo: uniform\n",
      "[INFO-wrappers_bo-03/08/2021-21:10:33] str_sampling_method_ao: uniform\n",
      "[INFO-wrappers_bo-03/08/2021-21:10:33] num_samples_ao: 100\n",
      "[INFO-wrappers_bo-03/08/2021-21:10:33] str_mlm_method: regular\n",
      "[INFO-wrappers_bo-03/08/2021-21:10:33] seed: None\n",
      "[INFO-wrappers_bo-03/08/2021-21:10:33] Iteration 1\n"
     ]
    },
    {
     "name": "stdout",
     "output_type": "stream",
     "text": [
      "BO Round 23\n"
     ]
    },
    {
     "name": "stderr",
     "output_type": "stream",
     "text": [
      "[INFO-wrappers_bo-03/08/2021-21:10:33] Iteration 2\n",
      "[INFO-wrappers_bo-03/08/2021-21:10:33] Iteration 3\n",
      "[INFO-wrappers_bo-03/08/2021-21:10:33] Iteration 4\n",
      "[INFO-wrappers_bo-03/08/2021-21:10:34] range_X:\n",
      "[[-100, 100],\n",
      "[-100, 100],\n",
      "[-100, 100],\n",
      "[-100, 100]]\n",
      "[INFO-wrappers_bo-03/08/2021-21:10:34] str_cov: matern52\n",
      "[INFO-wrappers_bo-03/08/2021-21:10:34] str_acq: ei\n",
      "[INFO-wrappers_bo-03/08/2021-21:10:34] str_optimizer_method_gp: BFGS\n",
      "[INFO-wrappers_bo-03/08/2021-21:10:34] str_optimizer_method_bo: L-BFGS-B\n",
      "[INFO-wrappers_bo-03/08/2021-21:10:34] str_modelselection_method: ml\n",
      "[INFO-wrappers_bo-03/08/2021-21:10:34] num_init: 6\n",
      "[INFO-wrappers_bo-03/08/2021-21:10:34] num_iter: 4\n",
      "[INFO-wrappers_bo-03/08/2021-21:10:34] str_initial_method_bo: uniform\n",
      "[INFO-wrappers_bo-03/08/2021-21:10:34] str_sampling_method_ao: uniform\n",
      "[INFO-wrappers_bo-03/08/2021-21:10:34] num_samples_ao: 100\n",
      "[INFO-wrappers_bo-03/08/2021-21:10:34] str_mlm_method: regular\n",
      "[INFO-wrappers_bo-03/08/2021-21:10:34] seed: None\n",
      "[INFO-wrappers_bo-03/08/2021-21:10:34] Iteration 1\n"
     ]
    },
    {
     "name": "stdout",
     "output_type": "stream",
     "text": [
      "BO Round 24\n"
     ]
    },
    {
     "name": "stderr",
     "output_type": "stream",
     "text": [
      "[INFO-wrappers_bo-03/08/2021-21:10:34] Iteration 2\n",
      "[INFO-wrappers_bo-03/08/2021-21:10:34] Iteration 3\n",
      "[INFO-wrappers_bo-03/08/2021-21:10:35] Iteration 4\n",
      "[INFO-wrappers_bo-03/08/2021-21:10:35] range_X:\n",
      "[[-100, 100],\n",
      "[-100, 100],\n",
      "[-100, 100],\n",
      "[-100, 100]]\n",
      "[INFO-wrappers_bo-03/08/2021-21:10:35] str_cov: matern52\n",
      "[INFO-wrappers_bo-03/08/2021-21:10:35] str_acq: ei\n",
      "[INFO-wrappers_bo-03/08/2021-21:10:35] str_optimizer_method_gp: BFGS\n",
      "[INFO-wrappers_bo-03/08/2021-21:10:35] str_optimizer_method_bo: L-BFGS-B\n",
      "[INFO-wrappers_bo-03/08/2021-21:10:35] str_modelselection_method: ml\n",
      "[INFO-wrappers_bo-03/08/2021-21:10:35] num_init: 2\n",
      "[INFO-wrappers_bo-03/08/2021-21:10:35] num_iter: 10\n",
      "[INFO-wrappers_bo-03/08/2021-21:10:35] str_initial_method_bo: uniform\n",
      "[INFO-wrappers_bo-03/08/2021-21:10:35] str_sampling_method_ao: uniform\n",
      "[INFO-wrappers_bo-03/08/2021-21:10:35] num_samples_ao: 100\n",
      "[INFO-wrappers_bo-03/08/2021-21:10:35] str_mlm_method: regular\n",
      "[INFO-wrappers_bo-03/08/2021-21:10:35] seed: None\n",
      "[INFO-wrappers_bo-03/08/2021-21:10:35] Iteration 1\n"
     ]
    },
    {
     "name": "stdout",
     "output_type": "stream",
     "text": [
      "BO Round 25\n"
     ]
    },
    {
     "name": "stderr",
     "output_type": "stream",
     "text": [
      "[INFO-wrappers_bo-03/08/2021-21:10:35] Iteration 2\n",
      "[INFO-wrappers_bo-03/08/2021-21:10:35] Iteration 3\n",
      "[INFO-wrappers_bo-03/08/2021-21:10:36] Iteration 4\n",
      "[INFO-wrappers_bo-03/08/2021-21:10:36] Iteration 5\n",
      "[INFO-wrappers_bo-03/08/2021-21:10:36] Iteration 6\n",
      "[INFO-wrappers_bo-03/08/2021-21:10:36] Iteration 7\n",
      "[INFO-wrappers_bo-03/08/2021-21:10:37] Iteration 8\n",
      "[INFO-wrappers_bo-03/08/2021-21:10:37] Iteration 9\n",
      "[INFO-wrappers_bo-03/08/2021-21:10:37] Iteration 10\n",
      "[INFO-wrappers_bo-03/08/2021-21:10:38] range_X:\n",
      "[[-100, 100],\n",
      "[-100, 100],\n",
      "[-100, 100],\n",
      "[-100, 100]]\n",
      "[INFO-wrappers_bo-03/08/2021-21:10:38] str_cov: matern52\n",
      "[INFO-wrappers_bo-03/08/2021-21:10:38] str_acq: ei\n",
      "[INFO-wrappers_bo-03/08/2021-21:10:38] str_optimizer_method_gp: BFGS\n",
      "[INFO-wrappers_bo-03/08/2021-21:10:38] str_optimizer_method_bo: L-BFGS-B\n",
      "[INFO-wrappers_bo-03/08/2021-21:10:38] str_modelselection_method: ml\n",
      "[INFO-wrappers_bo-03/08/2021-21:10:38] num_init: 5\n",
      "[INFO-wrappers_bo-03/08/2021-21:10:38] num_iter: 4\n",
      "[INFO-wrappers_bo-03/08/2021-21:10:38] str_initial_method_bo: uniform\n",
      "[INFO-wrappers_bo-03/08/2021-21:10:38] str_sampling_method_ao: uniform\n",
      "[INFO-wrappers_bo-03/08/2021-21:10:38] num_samples_ao: 100\n",
      "[INFO-wrappers_bo-03/08/2021-21:10:38] str_mlm_method: regular\n",
      "[INFO-wrappers_bo-03/08/2021-21:10:38] seed: None\n",
      "[INFO-wrappers_bo-03/08/2021-21:10:38] Iteration 1\n"
     ]
    },
    {
     "name": "stdout",
     "output_type": "stream",
     "text": [
      "BO Round 26\n"
     ]
    },
    {
     "name": "stderr",
     "output_type": "stream",
     "text": [
      "[INFO-wrappers_bo-03/08/2021-21:10:38] Iteration 2\n",
      "[INFO-wrappers_bo-03/08/2021-21:10:38] Iteration 3\n",
      "[INFO-wrappers_bo-03/08/2021-21:10:38] Iteration 4\n",
      "[INFO-wrappers_bo-03/08/2021-21:10:39] range_X:\n",
      "[[-100, 100],\n",
      "[-100, 100],\n",
      "[-100, 100],\n",
      "[-100, 100]]\n",
      "[INFO-wrappers_bo-03/08/2021-21:10:39] str_cov: matern52\n",
      "[INFO-wrappers_bo-03/08/2021-21:10:39] str_acq: ei\n",
      "[INFO-wrappers_bo-03/08/2021-21:10:39] str_optimizer_method_gp: BFGS\n",
      "[INFO-wrappers_bo-03/08/2021-21:10:39] str_optimizer_method_bo: L-BFGS-B\n",
      "[INFO-wrappers_bo-03/08/2021-21:10:39] str_modelselection_method: ml\n",
      "[INFO-wrappers_bo-03/08/2021-21:10:39] num_init: 6\n",
      "[INFO-wrappers_bo-03/08/2021-21:10:39] num_iter: 9\n",
      "[INFO-wrappers_bo-03/08/2021-21:10:39] str_initial_method_bo: uniform\n",
      "[INFO-wrappers_bo-03/08/2021-21:10:39] str_sampling_method_ao: uniform\n",
      "[INFO-wrappers_bo-03/08/2021-21:10:39] num_samples_ao: 100\n",
      "[INFO-wrappers_bo-03/08/2021-21:10:39] str_mlm_method: regular\n",
      "[INFO-wrappers_bo-03/08/2021-21:10:39] seed: None\n",
      "[INFO-wrappers_bo-03/08/2021-21:10:39] Iteration 1\n"
     ]
    },
    {
     "name": "stdout",
     "output_type": "stream",
     "text": [
      "BO Round 27\n"
     ]
    },
    {
     "name": "stderr",
     "output_type": "stream",
     "text": [
      "[INFO-wrappers_bo-03/08/2021-21:10:39] Iteration 2\n",
      "[INFO-wrappers_bo-03/08/2021-21:10:39] Iteration 3\n",
      "[INFO-wrappers_bo-03/08/2021-21:10:40] Iteration 4\n",
      "[INFO-wrappers_bo-03/08/2021-21:10:40] Iteration 5\n",
      "[INFO-wrappers_bo-03/08/2021-21:10:40] Iteration 6\n",
      "[INFO-wrappers_bo-03/08/2021-21:10:40] Iteration 7\n",
      "[INFO-wrappers_bo-03/08/2021-21:10:41] Iteration 8\n",
      "[INFO-wrappers_bo-03/08/2021-21:10:41] Iteration 9\n",
      "[INFO-wrappers_bo-03/08/2021-21:10:41] range_X:\n",
      "[[-100, 100],\n",
      "[-100, 100],\n",
      "[-100, 100],\n",
      "[-100, 100]]\n",
      "[INFO-wrappers_bo-03/08/2021-21:10:41] str_cov: matern52\n",
      "[INFO-wrappers_bo-03/08/2021-21:10:41] str_acq: ei\n",
      "[INFO-wrappers_bo-03/08/2021-21:10:41] str_optimizer_method_gp: BFGS\n",
      "[INFO-wrappers_bo-03/08/2021-21:10:41] str_optimizer_method_bo: L-BFGS-B\n",
      "[INFO-wrappers_bo-03/08/2021-21:10:41] str_modelselection_method: ml\n",
      "[INFO-wrappers_bo-03/08/2021-21:10:41] num_init: 4\n",
      "[INFO-wrappers_bo-03/08/2021-21:10:41] num_iter: 10\n",
      "[INFO-wrappers_bo-03/08/2021-21:10:41] str_initial_method_bo: uniform\n",
      "[INFO-wrappers_bo-03/08/2021-21:10:41] str_sampling_method_ao: uniform\n",
      "[INFO-wrappers_bo-03/08/2021-21:10:41] num_samples_ao: 100\n",
      "[INFO-wrappers_bo-03/08/2021-21:10:41] str_mlm_method: regular\n",
      "[INFO-wrappers_bo-03/08/2021-21:10:41] seed: None\n",
      "[INFO-wrappers_bo-03/08/2021-21:10:41] Iteration 1\n"
     ]
    },
    {
     "name": "stdout",
     "output_type": "stream",
     "text": [
      "BO Round 28\n"
     ]
    },
    {
     "name": "stderr",
     "output_type": "stream",
     "text": [
      "[INFO-wrappers_bo-03/08/2021-21:10:42] Iteration 2\n",
      "[INFO-wrappers_bo-03/08/2021-21:10:42] Iteration 3\n",
      "[INFO-wrappers_bo-03/08/2021-21:10:42] Iteration 4\n",
      "[INFO-wrappers_bo-03/08/2021-21:10:42] Iteration 5\n",
      "[INFO-wrappers_bo-03/08/2021-21:10:43] Iteration 6\n",
      "[INFO-wrappers_bo-03/08/2021-21:10:43] Iteration 7\n",
      "[INFO-wrappers_bo-03/08/2021-21:10:43] Iteration 8\n",
      "[INFO-wrappers_bo-03/08/2021-21:10:43] Iteration 9\n",
      "[INFO-wrappers_bo-03/08/2021-21:10:44] Iteration 10\n",
      "[INFO-wrappers_bo-03/08/2021-21:10:44] range_X:\n",
      "[[-100, 100],\n",
      "[-100, 100],\n",
      "[-100, 100],\n",
      "[-100, 100]]\n",
      "[INFO-wrappers_bo-03/08/2021-21:10:44] str_cov: matern52\n",
      "[INFO-wrappers_bo-03/08/2021-21:10:44] str_acq: ei\n",
      "[INFO-wrappers_bo-03/08/2021-21:10:44] str_optimizer_method_gp: BFGS\n",
      "[INFO-wrappers_bo-03/08/2021-21:10:44] str_optimizer_method_bo: L-BFGS-B\n",
      "[INFO-wrappers_bo-03/08/2021-21:10:44] str_modelselection_method: ml\n",
      "[INFO-wrappers_bo-03/08/2021-21:10:44] num_init: 5\n",
      "[INFO-wrappers_bo-03/08/2021-21:10:44] num_iter: 8\n",
      "[INFO-wrappers_bo-03/08/2021-21:10:44] str_initial_method_bo: uniform\n",
      "[INFO-wrappers_bo-03/08/2021-21:10:44] str_sampling_method_ao: uniform\n",
      "[INFO-wrappers_bo-03/08/2021-21:10:44] num_samples_ao: 100\n",
      "[INFO-wrappers_bo-03/08/2021-21:10:44] str_mlm_method: regular\n",
      "[INFO-wrappers_bo-03/08/2021-21:10:44] seed: None\n",
      "[INFO-wrappers_bo-03/08/2021-21:10:44] Iteration 1\n"
     ]
    },
    {
     "name": "stdout",
     "output_type": "stream",
     "text": [
      "BO Round 29\n"
     ]
    },
    {
     "name": "stderr",
     "output_type": "stream",
     "text": [
      "[INFO-wrappers_bo-03/08/2021-21:10:44] Iteration 2\n",
      "[INFO-wrappers_bo-03/08/2021-21:10:45] Iteration 3\n",
      "[INFO-wrappers_bo-03/08/2021-21:10:45] Iteration 4\n",
      "[INFO-wrappers_bo-03/08/2021-21:10:45] Iteration 5\n",
      "[INFO-wrappers_bo-03/08/2021-21:10:45] Iteration 6\n",
      "[INFO-wrappers_bo-03/08/2021-21:10:46] Iteration 7\n",
      "[INFO-wrappers_bo-03/08/2021-21:10:46] Iteration 8\n",
      "[INFO-wrappers_bo-03/08/2021-21:10:46] range_X:\n",
      "[[-100, 100],\n",
      "[-100, 100],\n",
      "[-100, 100],\n",
      "[-100, 100]]\n",
      "[INFO-wrappers_bo-03/08/2021-21:10:46] str_cov: matern52\n",
      "[INFO-wrappers_bo-03/08/2021-21:10:46] str_acq: ei\n",
      "[INFO-wrappers_bo-03/08/2021-21:10:46] str_optimizer_method_gp: BFGS\n",
      "[INFO-wrappers_bo-03/08/2021-21:10:46] str_optimizer_method_bo: L-BFGS-B\n",
      "[INFO-wrappers_bo-03/08/2021-21:10:46] str_modelselection_method: ml\n",
      "[INFO-wrappers_bo-03/08/2021-21:10:46] num_init: 5\n",
      "[INFO-wrappers_bo-03/08/2021-21:10:46] num_iter: 9\n",
      "[INFO-wrappers_bo-03/08/2021-21:10:46] str_initial_method_bo: uniform\n",
      "[INFO-wrappers_bo-03/08/2021-21:10:46] str_sampling_method_ao: uniform\n",
      "[INFO-wrappers_bo-03/08/2021-21:10:46] num_samples_ao: 100\n",
      "[INFO-wrappers_bo-03/08/2021-21:10:46] str_mlm_method: regular\n",
      "[INFO-wrappers_bo-03/08/2021-21:10:46] seed: None\n",
      "[INFO-wrappers_bo-03/08/2021-21:10:46] Iteration 1\n"
     ]
    },
    {
     "name": "stdout",
     "output_type": "stream",
     "text": [
      "BO Round 30\n"
     ]
    },
    {
     "name": "stderr",
     "output_type": "stream",
     "text": [
      "[INFO-wrappers_bo-03/08/2021-21:10:47] Iteration 2\n",
      "[INFO-wrappers_bo-03/08/2021-21:10:47] Iteration 3\n",
      "[INFO-wrappers_bo-03/08/2021-21:10:47] Iteration 4\n",
      "[INFO-wrappers_bo-03/08/2021-21:10:47] Iteration 5\n",
      "[INFO-wrappers_bo-03/08/2021-21:10:48] Iteration 6\n",
      "[INFO-wrappers_bo-03/08/2021-21:10:48] Iteration 7\n",
      "[INFO-wrappers_bo-03/08/2021-21:10:48] Iteration 8\n",
      "[INFO-wrappers_bo-03/08/2021-21:10:49] Iteration 9\n",
      "[INFO-wrappers_bo-03/08/2021-21:10:49] range_X:\n",
      "[[-100, 100],\n",
      "[-100, 100],\n",
      "[-100, 100],\n",
      "[-100, 100]]\n",
      "[INFO-wrappers_bo-03/08/2021-21:10:49] str_cov: matern52\n",
      "[INFO-wrappers_bo-03/08/2021-21:10:49] str_acq: ei\n",
      "[INFO-wrappers_bo-03/08/2021-21:10:49] str_optimizer_method_gp: BFGS\n",
      "[INFO-wrappers_bo-03/08/2021-21:10:49] str_optimizer_method_bo: L-BFGS-B\n",
      "[INFO-wrappers_bo-03/08/2021-21:10:49] str_modelselection_method: ml\n",
      "[INFO-wrappers_bo-03/08/2021-21:10:49] num_init: 8\n",
      "[INFO-wrappers_bo-03/08/2021-21:10:49] num_iter: 2\n",
      "[INFO-wrappers_bo-03/08/2021-21:10:49] str_initial_method_bo: uniform\n",
      "[INFO-wrappers_bo-03/08/2021-21:10:49] str_sampling_method_ao: uniform\n",
      "[INFO-wrappers_bo-03/08/2021-21:10:49] num_samples_ao: 100\n",
      "[INFO-wrappers_bo-03/08/2021-21:10:49] str_mlm_method: regular\n",
      "[INFO-wrappers_bo-03/08/2021-21:10:49] seed: None\n",
      "[INFO-wrappers_bo-03/08/2021-21:10:49] Iteration 1\n"
     ]
    },
    {
     "name": "stdout",
     "output_type": "stream",
     "text": [
      "BO Round 31\n"
     ]
    },
    {
     "name": "stderr",
     "output_type": "stream",
     "text": [
      "[INFO-wrappers_bo-03/08/2021-21:10:49] Iteration 2\n",
      "[INFO-wrappers_bo-03/08/2021-21:10:49] range_X:\n",
      "[[-100, 100],\n",
      "[-100, 100],\n",
      "[-100, 100],\n",
      "[-100, 100]]\n",
      "[INFO-wrappers_bo-03/08/2021-21:10:49] str_cov: matern52\n",
      "[INFO-wrappers_bo-03/08/2021-21:10:49] str_acq: ei\n",
      "[INFO-wrappers_bo-03/08/2021-21:10:49] str_optimizer_method_gp: BFGS\n",
      "[INFO-wrappers_bo-03/08/2021-21:10:49] str_optimizer_method_bo: L-BFGS-B\n",
      "[INFO-wrappers_bo-03/08/2021-21:10:49] str_modelselection_method: ml\n",
      "[INFO-wrappers_bo-03/08/2021-21:10:49] num_init: 9\n",
      "[INFO-wrappers_bo-03/08/2021-21:10:49] num_iter: 2\n",
      "[INFO-wrappers_bo-03/08/2021-21:10:49] str_initial_method_bo: uniform\n",
      "[INFO-wrappers_bo-03/08/2021-21:10:49] str_sampling_method_ao: uniform\n",
      "[INFO-wrappers_bo-03/08/2021-21:10:49] num_samples_ao: 100\n",
      "[INFO-wrappers_bo-03/08/2021-21:10:49] str_mlm_method: regular\n",
      "[INFO-wrappers_bo-03/08/2021-21:10:49] seed: None\n",
      "[INFO-wrappers_bo-03/08/2021-21:10:49] Iteration 1\n"
     ]
    },
    {
     "name": "stdout",
     "output_type": "stream",
     "text": [
      "BO Round 32\n"
     ]
    },
    {
     "name": "stderr",
     "output_type": "stream",
     "text": [
      "[INFO-wrappers_bo-03/08/2021-21:10:50] Iteration 2\n",
      "[INFO-wrappers_bo-03/08/2021-21:10:50] range_X:\n",
      "[[-100, 100],\n",
      "[-100, 100],\n",
      "[-100, 100],\n",
      "[-100, 100]]\n",
      "[INFO-wrappers_bo-03/08/2021-21:10:50] str_cov: matern52\n",
      "[INFO-wrappers_bo-03/08/2021-21:10:50] str_acq: ei\n",
      "[INFO-wrappers_bo-03/08/2021-21:10:50] str_optimizer_method_gp: BFGS\n",
      "[INFO-wrappers_bo-03/08/2021-21:10:50] str_optimizer_method_bo: L-BFGS-B\n",
      "[INFO-wrappers_bo-03/08/2021-21:10:50] str_modelselection_method: ml\n",
      "[INFO-wrappers_bo-03/08/2021-21:10:50] num_init: 5\n",
      "[INFO-wrappers_bo-03/08/2021-21:10:50] num_iter: 7\n",
      "[INFO-wrappers_bo-03/08/2021-21:10:50] str_initial_method_bo: uniform\n",
      "[INFO-wrappers_bo-03/08/2021-21:10:50] str_sampling_method_ao: uniform\n",
      "[INFO-wrappers_bo-03/08/2021-21:10:50] num_samples_ao: 100\n",
      "[INFO-wrappers_bo-03/08/2021-21:10:50] str_mlm_method: regular\n",
      "[INFO-wrappers_bo-03/08/2021-21:10:50] seed: None\n",
      "[INFO-wrappers_bo-03/08/2021-21:10:50] Iteration 1\n"
     ]
    },
    {
     "name": "stdout",
     "output_type": "stream",
     "text": [
      "BO Round 33\n"
     ]
    },
    {
     "name": "stderr",
     "output_type": "stream",
     "text": [
      "[INFO-wrappers_bo-03/08/2021-21:10:50] Iteration 2\n",
      "[INFO-wrappers_bo-03/08/2021-21:10:51] Iteration 3\n",
      "[INFO-wrappers_bo-03/08/2021-21:10:51] Iteration 4\n",
      "[INFO-wrappers_bo-03/08/2021-21:10:51] Iteration 5\n",
      "[INFO-wrappers_bo-03/08/2021-21:10:51] Iteration 6\n",
      "[INFO-wrappers_bo-03/08/2021-21:10:52] Iteration 7\n",
      "[INFO-wrappers_bo-03/08/2021-21:10:52] range_X:\n",
      "[[-100, 100],\n",
      "[-100, 100],\n",
      "[-100, 100],\n",
      "[-100, 100]]\n",
      "[INFO-wrappers_bo-03/08/2021-21:10:52] str_cov: matern52\n",
      "[INFO-wrappers_bo-03/08/2021-21:10:52] str_acq: ei\n",
      "[INFO-wrappers_bo-03/08/2021-21:10:52] str_optimizer_method_gp: BFGS\n",
      "[INFO-wrappers_bo-03/08/2021-21:10:52] str_optimizer_method_bo: L-BFGS-B\n",
      "[INFO-wrappers_bo-03/08/2021-21:10:52] str_modelselection_method: ml\n",
      "[INFO-wrappers_bo-03/08/2021-21:10:52] num_init: 8\n",
      "[INFO-wrappers_bo-03/08/2021-21:10:52] num_iter: 2\n",
      "[INFO-wrappers_bo-03/08/2021-21:10:52] str_initial_method_bo: uniform\n",
      "[INFO-wrappers_bo-03/08/2021-21:10:52] str_sampling_method_ao: uniform\n",
      "[INFO-wrappers_bo-03/08/2021-21:10:52] num_samples_ao: 100\n",
      "[INFO-wrappers_bo-03/08/2021-21:10:52] str_mlm_method: regular\n",
      "[INFO-wrappers_bo-03/08/2021-21:10:52] seed: None\n",
      "[INFO-wrappers_bo-03/08/2021-21:10:52] Iteration 1\n"
     ]
    },
    {
     "name": "stdout",
     "output_type": "stream",
     "text": [
      "BO Round 34\n"
     ]
    },
    {
     "name": "stderr",
     "output_type": "stream",
     "text": [
      "[INFO-wrappers_bo-03/08/2021-21:10:52] Iteration 2\n",
      "[INFO-wrappers_bo-03/08/2021-21:10:53] range_X:\n",
      "[[-100, 100],\n",
      "[-100, 100],\n",
      "[-100, 100],\n",
      "[-100, 100]]\n",
      "[INFO-wrappers_bo-03/08/2021-21:10:53] str_cov: matern52\n",
      "[INFO-wrappers_bo-03/08/2021-21:10:53] str_acq: ei\n",
      "[INFO-wrappers_bo-03/08/2021-21:10:53] str_optimizer_method_gp: BFGS\n",
      "[INFO-wrappers_bo-03/08/2021-21:10:53] str_optimizer_method_bo: L-BFGS-B\n",
      "[INFO-wrappers_bo-03/08/2021-21:10:53] str_modelselection_method: ml\n",
      "[INFO-wrappers_bo-03/08/2021-21:10:53] num_init: 2\n",
      "[INFO-wrappers_bo-03/08/2021-21:10:53] num_iter: 4\n",
      "[INFO-wrappers_bo-03/08/2021-21:10:53] str_initial_method_bo: uniform\n",
      "[INFO-wrappers_bo-03/08/2021-21:10:53] str_sampling_method_ao: uniform\n",
      "[INFO-wrappers_bo-03/08/2021-21:10:53] num_samples_ao: 100\n",
      "[INFO-wrappers_bo-03/08/2021-21:10:53] str_mlm_method: regular\n",
      "[INFO-wrappers_bo-03/08/2021-21:10:53] seed: None\n",
      "[INFO-wrappers_bo-03/08/2021-21:10:53] Iteration 1\n"
     ]
    },
    {
     "name": "stdout",
     "output_type": "stream",
     "text": [
      "BO Round 35\n"
     ]
    },
    {
     "name": "stderr",
     "output_type": "stream",
     "text": [
      "[INFO-wrappers_bo-03/08/2021-21:10:53] Iteration 2\n",
      "[INFO-wrappers_bo-03/08/2021-21:10:53] Iteration 3\n",
      "[INFO-wrappers_bo-03/08/2021-21:10:53] Iteration 4\n",
      "[INFO-wrappers_bo-03/08/2021-21:10:54] range_X:\n",
      "[[-100, 100],\n",
      "[-100, 100],\n",
      "[-100, 100],\n",
      "[-100, 100]]\n",
      "[INFO-wrappers_bo-03/08/2021-21:10:54] str_cov: matern52\n",
      "[INFO-wrappers_bo-03/08/2021-21:10:54] str_acq: ei\n",
      "[INFO-wrappers_bo-03/08/2021-21:10:54] str_optimizer_method_gp: BFGS\n",
      "[INFO-wrappers_bo-03/08/2021-21:10:54] str_optimizer_method_bo: L-BFGS-B\n",
      "[INFO-wrappers_bo-03/08/2021-21:10:54] str_modelselection_method: ml\n",
      "[INFO-wrappers_bo-03/08/2021-21:10:54] num_init: 4\n",
      "[INFO-wrappers_bo-03/08/2021-21:10:54] num_iter: 7\n",
      "[INFO-wrappers_bo-03/08/2021-21:10:54] str_initial_method_bo: uniform\n",
      "[INFO-wrappers_bo-03/08/2021-21:10:54] str_sampling_method_ao: uniform\n",
      "[INFO-wrappers_bo-03/08/2021-21:10:54] num_samples_ao: 100\n",
      "[INFO-wrappers_bo-03/08/2021-21:10:54] str_mlm_method: regular\n",
      "[INFO-wrappers_bo-03/08/2021-21:10:54] seed: None\n",
      "[INFO-wrappers_bo-03/08/2021-21:10:54] Iteration 1\n"
     ]
    },
    {
     "name": "stdout",
     "output_type": "stream",
     "text": [
      "BO Round 36\n"
     ]
    },
    {
     "name": "stderr",
     "output_type": "stream",
     "text": [
      "[INFO-wrappers_bo-03/08/2021-21:10:54] Iteration 2\n",
      "[INFO-wrappers_bo-03/08/2021-21:10:54] Iteration 3\n",
      "[INFO-wrappers_bo-03/08/2021-21:10:55] Iteration 4\n",
      "[INFO-wrappers_bo-03/08/2021-21:10:55] Iteration 5\n",
      "[INFO-wrappers_bo-03/08/2021-21:10:55] Iteration 6\n",
      "[INFO-wrappers_bo-03/08/2021-21:10:55] Iteration 7\n",
      "[INFO-wrappers_bo-03/08/2021-21:10:56] range_X:\n",
      "[[-100, 100],\n",
      "[-100, 100],\n",
      "[-100, 100],\n",
      "[-100, 100]]\n",
      "[INFO-wrappers_bo-03/08/2021-21:10:56] str_cov: matern52\n",
      "[INFO-wrappers_bo-03/08/2021-21:10:56] str_acq: ei\n",
      "[INFO-wrappers_bo-03/08/2021-21:10:56] str_optimizer_method_gp: BFGS\n",
      "[INFO-wrappers_bo-03/08/2021-21:10:56] str_optimizer_method_bo: L-BFGS-B\n",
      "[INFO-wrappers_bo-03/08/2021-21:10:56] str_modelselection_method: ml\n",
      "[INFO-wrappers_bo-03/08/2021-21:10:56] num_init: 6\n",
      "[INFO-wrappers_bo-03/08/2021-21:10:56] num_iter: 6\n",
      "[INFO-wrappers_bo-03/08/2021-21:10:56] str_initial_method_bo: uniform\n",
      "[INFO-wrappers_bo-03/08/2021-21:10:56] str_sampling_method_ao: uniform\n",
      "[INFO-wrappers_bo-03/08/2021-21:10:56] num_samples_ao: 100\n",
      "[INFO-wrappers_bo-03/08/2021-21:10:56] str_mlm_method: regular\n",
      "[INFO-wrappers_bo-03/08/2021-21:10:56] seed: None\n",
      "[INFO-wrappers_bo-03/08/2021-21:10:56] Iteration 1\n"
     ]
    },
    {
     "name": "stdout",
     "output_type": "stream",
     "text": [
      "BO Round 37\n"
     ]
    },
    {
     "name": "stderr",
     "output_type": "stream",
     "text": [
      "[INFO-wrappers_bo-03/08/2021-21:10:56] Iteration 2\n",
      "[INFO-wrappers_bo-03/08/2021-21:10:56] Iteration 3\n",
      "[INFO-wrappers_bo-03/08/2021-21:10:57] Iteration 4\n",
      "[INFO-wrappers_bo-03/08/2021-21:10:57] Iteration 5\n",
      "[INFO-wrappers_bo-03/08/2021-21:10:57] Iteration 6\n",
      "[INFO-wrappers_bo-03/08/2021-21:10:57] range_X:\n",
      "[[-100, 100],\n",
      "[-100, 100],\n",
      "[-100, 100],\n",
      "[-100, 100]]\n",
      "[INFO-wrappers_bo-03/08/2021-21:10:57] str_cov: matern52\n",
      "[INFO-wrappers_bo-03/08/2021-21:10:57] str_acq: ei\n",
      "[INFO-wrappers_bo-03/08/2021-21:10:57] str_optimizer_method_gp: BFGS\n",
      "[INFO-wrappers_bo-03/08/2021-21:10:57] str_optimizer_method_bo: L-BFGS-B\n",
      "[INFO-wrappers_bo-03/08/2021-21:10:57] str_modelselection_method: ml\n",
      "[INFO-wrappers_bo-03/08/2021-21:10:57] num_init: 5\n",
      "[INFO-wrappers_bo-03/08/2021-21:10:57] num_iter: 5\n",
      "[INFO-wrappers_bo-03/08/2021-21:10:57] str_initial_method_bo: uniform\n",
      "[INFO-wrappers_bo-03/08/2021-21:10:57] str_sampling_method_ao: uniform\n",
      "[INFO-wrappers_bo-03/08/2021-21:10:57] num_samples_ao: 100\n",
      "[INFO-wrappers_bo-03/08/2021-21:10:57] str_mlm_method: regular\n",
      "[INFO-wrappers_bo-03/08/2021-21:10:57] seed: None\n",
      "[INFO-wrappers_bo-03/08/2021-21:10:57] Iteration 1\n"
     ]
    },
    {
     "name": "stdout",
     "output_type": "stream",
     "text": [
      "BO Round 38\n"
     ]
    },
    {
     "name": "stderr",
     "output_type": "stream",
     "text": [
      "[INFO-wrappers_bo-03/08/2021-21:10:58] Iteration 2\n",
      "[INFO-wrappers_bo-03/08/2021-21:10:58] Iteration 3\n",
      "[INFO-wrappers_bo-03/08/2021-21:10:58] Iteration 4\n",
      "[INFO-wrappers_bo-03/08/2021-21:10:59] Iteration 5\n",
      "[INFO-wrappers_bo-03/08/2021-21:10:59] range_X:\n",
      "[[-100, 100],\n",
      "[-100, 100],\n",
      "[-100, 100],\n",
      "[-100, 100]]\n",
      "[INFO-wrappers_bo-03/08/2021-21:10:59] str_cov: matern52\n",
      "[INFO-wrappers_bo-03/08/2021-21:10:59] str_acq: ei\n",
      "[INFO-wrappers_bo-03/08/2021-21:10:59] str_optimizer_method_gp: BFGS\n",
      "[INFO-wrappers_bo-03/08/2021-21:10:59] str_optimizer_method_bo: L-BFGS-B\n",
      "[INFO-wrappers_bo-03/08/2021-21:10:59] str_modelselection_method: ml\n",
      "[INFO-wrappers_bo-03/08/2021-21:10:59] num_init: 9\n",
      "[INFO-wrappers_bo-03/08/2021-21:10:59] num_iter: 8\n",
      "[INFO-wrappers_bo-03/08/2021-21:10:59] str_initial_method_bo: uniform\n",
      "[INFO-wrappers_bo-03/08/2021-21:10:59] str_sampling_method_ao: uniform\n",
      "[INFO-wrappers_bo-03/08/2021-21:10:59] num_samples_ao: 100\n",
      "[INFO-wrappers_bo-03/08/2021-21:10:59] str_mlm_method: regular\n",
      "[INFO-wrappers_bo-03/08/2021-21:10:59] seed: None\n",
      "[INFO-wrappers_bo-03/08/2021-21:10:59] Iteration 1\n"
     ]
    },
    {
     "name": "stdout",
     "output_type": "stream",
     "text": [
      "BO Round 39\n"
     ]
    },
    {
     "name": "stderr",
     "output_type": "stream",
     "text": [
      "[INFO-wrappers_bo-03/08/2021-21:10:59] Iteration 2\n",
      "[INFO-wrappers_bo-03/08/2021-21:10:59] Iteration 3\n",
      "[INFO-wrappers_bo-03/08/2021-21:11:00] Iteration 4\n",
      "[INFO-wrappers_bo-03/08/2021-21:11:00] Iteration 5\n",
      "[INFO-wrappers_bo-03/08/2021-21:11:00] Iteration 6\n",
      "[INFO-wrappers_bo-03/08/2021-21:11:01] Iteration 7\n",
      "[INFO-wrappers_bo-03/08/2021-21:11:01] Iteration 8\n",
      "[INFO-wrappers_bo-03/08/2021-21:11:01] range_X:\n",
      "[[-100, 100],\n",
      "[-100, 100],\n",
      "[-100, 100],\n",
      "[-100, 100]]\n",
      "[INFO-wrappers_bo-03/08/2021-21:11:01] str_cov: matern52\n",
      "[INFO-wrappers_bo-03/08/2021-21:11:01] str_acq: ei\n",
      "[INFO-wrappers_bo-03/08/2021-21:11:01] str_optimizer_method_gp: BFGS\n",
      "[INFO-wrappers_bo-03/08/2021-21:11:01] str_optimizer_method_bo: L-BFGS-B\n",
      "[INFO-wrappers_bo-03/08/2021-21:11:01] str_modelselection_method: ml\n",
      "[INFO-wrappers_bo-03/08/2021-21:11:01] num_init: 3\n",
      "[INFO-wrappers_bo-03/08/2021-21:11:01] num_iter: 2\n",
      "[INFO-wrappers_bo-03/08/2021-21:11:01] str_initial_method_bo: uniform\n",
      "[INFO-wrappers_bo-03/08/2021-21:11:01] str_sampling_method_ao: uniform\n",
      "[INFO-wrappers_bo-03/08/2021-21:11:01] num_samples_ao: 100\n",
      "[INFO-wrappers_bo-03/08/2021-21:11:01] str_mlm_method: regular\n",
      "[INFO-wrappers_bo-03/08/2021-21:11:01] seed: None\n",
      "[INFO-wrappers_bo-03/08/2021-21:11:01] Iteration 1\n"
     ]
    },
    {
     "name": "stdout",
     "output_type": "stream",
     "text": [
      "BO Round 40\n"
     ]
    },
    {
     "name": "stderr",
     "output_type": "stream",
     "text": [
      "[INFO-wrappers_bo-03/08/2021-21:11:01] Iteration 2\n",
      "[INFO-wrappers_bo-03/08/2021-21:11:02] range_X:\n",
      "[[-100, 100],\n",
      "[-100, 100],\n",
      "[-100, 100],\n",
      "[-100, 100]]\n",
      "[INFO-wrappers_bo-03/08/2021-21:11:02] str_cov: matern52\n",
      "[INFO-wrappers_bo-03/08/2021-21:11:02] str_acq: ei\n",
      "[INFO-wrappers_bo-03/08/2021-21:11:02] str_optimizer_method_gp: BFGS\n",
      "[INFO-wrappers_bo-03/08/2021-21:11:02] str_optimizer_method_bo: L-BFGS-B\n",
      "[INFO-wrappers_bo-03/08/2021-21:11:02] str_modelselection_method: ml\n",
      "[INFO-wrappers_bo-03/08/2021-21:11:02] num_init: 5\n",
      "[INFO-wrappers_bo-03/08/2021-21:11:02] num_iter: 10\n",
      "[INFO-wrappers_bo-03/08/2021-21:11:02] str_initial_method_bo: uniform\n",
      "[INFO-wrappers_bo-03/08/2021-21:11:02] str_sampling_method_ao: uniform\n",
      "[INFO-wrappers_bo-03/08/2021-21:11:02] num_samples_ao: 100\n",
      "[INFO-wrappers_bo-03/08/2021-21:11:02] str_mlm_method: regular\n",
      "[INFO-wrappers_bo-03/08/2021-21:11:02] seed: None\n",
      "[INFO-wrappers_bo-03/08/2021-21:11:02] Iteration 1\n"
     ]
    },
    {
     "name": "stdout",
     "output_type": "stream",
     "text": [
      "BO Round 41\n"
     ]
    },
    {
     "name": "stderr",
     "output_type": "stream",
     "text": [
      "[INFO-wrappers_bo-03/08/2021-21:11:02] Iteration 2\n",
      "[INFO-wrappers_bo-03/08/2021-21:11:02] Iteration 3\n",
      "[INFO-wrappers_bo-03/08/2021-21:11:03] Iteration 4\n",
      "[INFO-wrappers_bo-03/08/2021-21:11:03] Iteration 5\n",
      "[INFO-wrappers_bo-03/08/2021-21:11:03] Iteration 6\n",
      "[INFO-wrappers_bo-03/08/2021-21:11:03] Iteration 7\n",
      "[INFO-wrappers_bo-03/08/2021-21:11:04] Iteration 8\n",
      "[INFO-wrappers_bo-03/08/2021-21:11:04] Iteration 9\n",
      "[INFO-wrappers_bo-03/08/2021-21:11:04] Iteration 10\n",
      "[INFO-wrappers_bo-03/08/2021-21:11:05] range_X:\n",
      "[[-100, 100],\n",
      "[-100, 100],\n",
      "[-100, 100],\n",
      "[-100, 100]]\n",
      "[INFO-wrappers_bo-03/08/2021-21:11:05] str_cov: matern52\n",
      "[INFO-wrappers_bo-03/08/2021-21:11:05] str_acq: ei\n",
      "[INFO-wrappers_bo-03/08/2021-21:11:05] str_optimizer_method_gp: BFGS\n",
      "[INFO-wrappers_bo-03/08/2021-21:11:05] str_optimizer_method_bo: L-BFGS-B\n",
      "[INFO-wrappers_bo-03/08/2021-21:11:05] str_modelselection_method: ml\n",
      "[INFO-wrappers_bo-03/08/2021-21:11:05] num_init: 10\n",
      "[INFO-wrappers_bo-03/08/2021-21:11:05] num_iter: 5\n",
      "[INFO-wrappers_bo-03/08/2021-21:11:05] str_initial_method_bo: uniform\n",
      "[INFO-wrappers_bo-03/08/2021-21:11:05] str_sampling_method_ao: uniform\n",
      "[INFO-wrappers_bo-03/08/2021-21:11:05] num_samples_ao: 100\n",
      "[INFO-wrappers_bo-03/08/2021-21:11:05] str_mlm_method: regular\n",
      "[INFO-wrappers_bo-03/08/2021-21:11:05] seed: None\n",
      "[INFO-wrappers_bo-03/08/2021-21:11:05] Iteration 1\n"
     ]
    },
    {
     "name": "stdout",
     "output_type": "stream",
     "text": [
      "BO Round 42\n"
     ]
    },
    {
     "name": "stderr",
     "output_type": "stream",
     "text": [
      "[INFO-wrappers_bo-03/08/2021-21:11:05] Iteration 2\n",
      "[INFO-wrappers_bo-03/08/2021-21:11:05] Iteration 3\n",
      "[INFO-wrappers_bo-03/08/2021-21:11:05] Iteration 4\n",
      "[INFO-wrappers_bo-03/08/2021-21:11:06] Iteration 5\n",
      "[INFO-wrappers_bo-03/08/2021-21:11:06] range_X:\n",
      "[[-100, 100],\n",
      "[-100, 100],\n",
      "[-100, 100],\n",
      "[-100, 100]]\n",
      "[INFO-wrappers_bo-03/08/2021-21:11:06] str_cov: matern52\n",
      "[INFO-wrappers_bo-03/08/2021-21:11:06] str_acq: ei\n",
      "[INFO-wrappers_bo-03/08/2021-21:11:06] str_optimizer_method_gp: BFGS\n",
      "[INFO-wrappers_bo-03/08/2021-21:11:06] str_optimizer_method_bo: L-BFGS-B\n",
      "[INFO-wrappers_bo-03/08/2021-21:11:06] str_modelselection_method: ml\n",
      "[INFO-wrappers_bo-03/08/2021-21:11:06] num_init: 3\n",
      "[INFO-wrappers_bo-03/08/2021-21:11:06] num_iter: 9\n",
      "[INFO-wrappers_bo-03/08/2021-21:11:06] str_initial_method_bo: uniform\n",
      "[INFO-wrappers_bo-03/08/2021-21:11:06] str_sampling_method_ao: uniform\n",
      "[INFO-wrappers_bo-03/08/2021-21:11:06] num_samples_ao: 100\n",
      "[INFO-wrappers_bo-03/08/2021-21:11:06] str_mlm_method: regular\n",
      "[INFO-wrappers_bo-03/08/2021-21:11:06] seed: None\n",
      "[INFO-wrappers_bo-03/08/2021-21:11:06] Iteration 1\n"
     ]
    },
    {
     "name": "stdout",
     "output_type": "stream",
     "text": [
      "BO Round 43\n"
     ]
    },
    {
     "name": "stderr",
     "output_type": "stream",
     "text": [
      "[INFO-wrappers_bo-03/08/2021-21:11:06] Iteration 2\n",
      "[INFO-wrappers_bo-03/08/2021-21:11:07] Iteration 3\n",
      "[INFO-wrappers_bo-03/08/2021-21:11:07] Iteration 4\n",
      "[INFO-wrappers_bo-03/08/2021-21:11:07] Iteration 5\n",
      "[INFO-wrappers_bo-03/08/2021-21:11:07] Iteration 6\n",
      "[INFO-wrappers_bo-03/08/2021-21:11:08] Iteration 7\n",
      "[INFO-wrappers_bo-03/08/2021-21:11:08] Iteration 8\n",
      "[INFO-wrappers_bo-03/08/2021-21:11:08] Iteration 9\n",
      "[INFO-wrappers_bo-03/08/2021-21:11:08] range_X:\n",
      "[[-100, 100],\n",
      "[-100, 100],\n",
      "[-100, 100],\n",
      "[-100, 100]]\n",
      "[INFO-wrappers_bo-03/08/2021-21:11:08] str_cov: matern52\n",
      "[INFO-wrappers_bo-03/08/2021-21:11:08] str_acq: ei\n",
      "[INFO-wrappers_bo-03/08/2021-21:11:08] str_optimizer_method_gp: BFGS\n",
      "[INFO-wrappers_bo-03/08/2021-21:11:08] str_optimizer_method_bo: L-BFGS-B\n",
      "[INFO-wrappers_bo-03/08/2021-21:11:08] str_modelselection_method: ml\n",
      "[INFO-wrappers_bo-03/08/2021-21:11:08] num_init: 8\n",
      "[INFO-wrappers_bo-03/08/2021-21:11:09] num_iter: 7\n",
      "[INFO-wrappers_bo-03/08/2021-21:11:09] str_initial_method_bo: uniform\n",
      "[INFO-wrappers_bo-03/08/2021-21:11:09] str_sampling_method_ao: uniform\n",
      "[INFO-wrappers_bo-03/08/2021-21:11:09] num_samples_ao: 100\n",
      "[INFO-wrappers_bo-03/08/2021-21:11:09] str_mlm_method: regular\n",
      "[INFO-wrappers_bo-03/08/2021-21:11:09] seed: None\n",
      "[INFO-wrappers_bo-03/08/2021-21:11:09] Iteration 1\n"
     ]
    },
    {
     "name": "stdout",
     "output_type": "stream",
     "text": [
      "BO Round 44\n"
     ]
    },
    {
     "name": "stderr",
     "output_type": "stream",
     "text": [
      "[INFO-wrappers_bo-03/08/2021-21:11:09] Iteration 2\n",
      "[INFO-wrappers_bo-03/08/2021-21:11:09] Iteration 3\n",
      "[INFO-wrappers_bo-03/08/2021-21:11:09] Iteration 4\n",
      "[INFO-wrappers_bo-03/08/2021-21:11:10] Iteration 5\n",
      "[INFO-wrappers_bo-03/08/2021-21:11:10] Iteration 6\n",
      "[INFO-wrappers_bo-03/08/2021-21:11:10] Iteration 7\n",
      "[INFO-wrappers_bo-03/08/2021-21:11:10] range_X:\n",
      "[[-100, 100],\n",
      "[-100, 100],\n",
      "[-100, 100],\n",
      "[-100, 100]]\n",
      "[INFO-wrappers_bo-03/08/2021-21:11:10] str_cov: matern52\n",
      "[INFO-wrappers_bo-03/08/2021-21:11:10] str_acq: ei\n",
      "[INFO-wrappers_bo-03/08/2021-21:11:10] str_optimizer_method_gp: BFGS\n",
      "[INFO-wrappers_bo-03/08/2021-21:11:10] str_optimizer_method_bo: L-BFGS-B\n",
      "[INFO-wrappers_bo-03/08/2021-21:11:10] str_modelselection_method: ml\n",
      "[INFO-wrappers_bo-03/08/2021-21:11:10] num_init: 5\n",
      "[INFO-wrappers_bo-03/08/2021-21:11:10] num_iter: 3\n",
      "[INFO-wrappers_bo-03/08/2021-21:11:10] str_initial_method_bo: uniform\n",
      "[INFO-wrappers_bo-03/08/2021-21:11:10] str_sampling_method_ao: uniform\n",
      "[INFO-wrappers_bo-03/08/2021-21:11:10] num_samples_ao: 100\n",
      "[INFO-wrappers_bo-03/08/2021-21:11:10] str_mlm_method: regular\n",
      "[INFO-wrappers_bo-03/08/2021-21:11:10] seed: None\n",
      "[INFO-wrappers_bo-03/08/2021-21:11:10] Iteration 1\n"
     ]
    },
    {
     "name": "stdout",
     "output_type": "stream",
     "text": [
      "BO Round 45\n"
     ]
    },
    {
     "name": "stderr",
     "output_type": "stream",
     "text": [
      "[INFO-wrappers_bo-03/08/2021-21:11:11] Iteration 2\n",
      "[INFO-wrappers_bo-03/08/2021-21:11:11] Iteration 3\n",
      "[INFO-wrappers_bo-03/08/2021-21:11:11] range_X:\n",
      "[[-100, 100],\n",
      "[-100, 100],\n",
      "[-100, 100],\n",
      "[-100, 100]]\n",
      "[INFO-wrappers_bo-03/08/2021-21:11:11] str_cov: matern52\n",
      "[INFO-wrappers_bo-03/08/2021-21:11:11] str_acq: ei\n",
      "[INFO-wrappers_bo-03/08/2021-21:11:11] str_optimizer_method_gp: BFGS\n",
      "[INFO-wrappers_bo-03/08/2021-21:11:11] str_optimizer_method_bo: L-BFGS-B\n",
      "[INFO-wrappers_bo-03/08/2021-21:11:11] str_modelselection_method: ml\n",
      "[INFO-wrappers_bo-03/08/2021-21:11:11] num_init: 2\n",
      "[INFO-wrappers_bo-03/08/2021-21:11:11] num_iter: 7\n",
      "[INFO-wrappers_bo-03/08/2021-21:11:11] str_initial_method_bo: uniform\n",
      "[INFO-wrappers_bo-03/08/2021-21:11:11] str_sampling_method_ao: uniform\n",
      "[INFO-wrappers_bo-03/08/2021-21:11:11] num_samples_ao: 100\n",
      "[INFO-wrappers_bo-03/08/2021-21:11:11] str_mlm_method: regular\n",
      "[INFO-wrappers_bo-03/08/2021-21:11:11] seed: None\n",
      "[INFO-wrappers_bo-03/08/2021-21:11:11] Iteration 1\n"
     ]
    },
    {
     "name": "stdout",
     "output_type": "stream",
     "text": [
      "BO Round 46\n"
     ]
    },
    {
     "name": "stderr",
     "output_type": "stream",
     "text": [
      "[INFO-wrappers_bo-03/08/2021-21:11:12] Iteration 2\n",
      "[INFO-wrappers_bo-03/08/2021-21:11:12] Iteration 3\n",
      "[INFO-wrappers_bo-03/08/2021-21:11:12] Iteration 4\n",
      "[INFO-wrappers_bo-03/08/2021-21:11:12] Iteration 5\n",
      "[INFO-wrappers_bo-03/08/2021-21:11:13] Iteration 6\n",
      "[INFO-wrappers_bo-03/08/2021-21:11:13] Iteration 7\n",
      "[INFO-wrappers_bo-03/08/2021-21:11:13] range_X:\n",
      "[[-100, 100],\n",
      "[-100, 100],\n",
      "[-100, 100],\n",
      "[-100, 100]]\n",
      "[INFO-wrappers_bo-03/08/2021-21:11:13] str_cov: matern52\n",
      "[INFO-wrappers_bo-03/08/2021-21:11:13] str_acq: ei\n",
      "[INFO-wrappers_bo-03/08/2021-21:11:13] str_optimizer_method_gp: BFGS\n",
      "[INFO-wrappers_bo-03/08/2021-21:11:13] str_optimizer_method_bo: L-BFGS-B\n",
      "[INFO-wrappers_bo-03/08/2021-21:11:13] str_modelselection_method: ml\n",
      "[INFO-wrappers_bo-03/08/2021-21:11:13] num_init: 6\n",
      "[INFO-wrappers_bo-03/08/2021-21:11:13] num_iter: 3\n",
      "[INFO-wrappers_bo-03/08/2021-21:11:13] str_initial_method_bo: uniform\n",
      "[INFO-wrappers_bo-03/08/2021-21:11:13] str_sampling_method_ao: uniform\n",
      "[INFO-wrappers_bo-03/08/2021-21:11:13] num_samples_ao: 100\n",
      "[INFO-wrappers_bo-03/08/2021-21:11:13] str_mlm_method: regular\n",
      "[INFO-wrappers_bo-03/08/2021-21:11:13] seed: None\n",
      "[INFO-wrappers_bo-03/08/2021-21:11:13] Iteration 1\n"
     ]
    },
    {
     "name": "stdout",
     "output_type": "stream",
     "text": [
      "BO Round 47\n"
     ]
    },
    {
     "name": "stderr",
     "output_type": "stream",
     "text": [
      "[INFO-wrappers_bo-03/08/2021-21:11:14] Iteration 2\n",
      "[INFO-wrappers_bo-03/08/2021-21:11:14] Iteration 3\n",
      "[INFO-wrappers_bo-03/08/2021-21:11:14] range_X:\n",
      "[[-100, 100],\n",
      "[-100, 100],\n",
      "[-100, 100],\n",
      "[-100, 100]]\n",
      "[INFO-wrappers_bo-03/08/2021-21:11:14] str_cov: matern52\n",
      "[INFO-wrappers_bo-03/08/2021-21:11:14] str_acq: ei\n",
      "[INFO-wrappers_bo-03/08/2021-21:11:14] str_optimizer_method_gp: BFGS\n",
      "[INFO-wrappers_bo-03/08/2021-21:11:14] str_optimizer_method_bo: L-BFGS-B\n",
      "[INFO-wrappers_bo-03/08/2021-21:11:14] str_modelselection_method: ml\n",
      "[INFO-wrappers_bo-03/08/2021-21:11:14] num_init: 4\n",
      "[INFO-wrappers_bo-03/08/2021-21:11:14] num_iter: 10\n",
      "[INFO-wrappers_bo-03/08/2021-21:11:14] str_initial_method_bo: uniform\n",
      "[INFO-wrappers_bo-03/08/2021-21:11:14] str_sampling_method_ao: uniform\n",
      "[INFO-wrappers_bo-03/08/2021-21:11:14] num_samples_ao: 100\n",
      "[INFO-wrappers_bo-03/08/2021-21:11:14] str_mlm_method: regular\n",
      "[INFO-wrappers_bo-03/08/2021-21:11:14] seed: None\n",
      "[INFO-wrappers_bo-03/08/2021-21:11:14] Iteration 1\n"
     ]
    },
    {
     "name": "stdout",
     "output_type": "stream",
     "text": [
      "BO Round 48\n"
     ]
    },
    {
     "name": "stderr",
     "output_type": "stream",
     "text": [
      "[INFO-wrappers_bo-03/08/2021-21:11:14] Iteration 2\n",
      "[INFO-wrappers_bo-03/08/2021-21:11:15] Iteration 3\n",
      "[INFO-wrappers_bo-03/08/2021-21:11:15] Iteration 4\n",
      "[INFO-wrappers_bo-03/08/2021-21:11:15] Iteration 5\n",
      "[INFO-wrappers_bo-03/08/2021-21:11:16] Iteration 6\n",
      "[INFO-wrappers_bo-03/08/2021-21:11:16] Iteration 7\n",
      "[INFO-wrappers_bo-03/08/2021-21:11:16] Iteration 8\n",
      "[INFO-wrappers_bo-03/08/2021-21:11:16] Iteration 9\n",
      "[INFO-wrappers_bo-03/08/2021-21:11:17] Iteration 10\n",
      "[INFO-wrappers_bo-03/08/2021-21:11:17] range_X:\n",
      "[[-100, 100],\n",
      "[-100, 100],\n",
      "[-100, 100],\n",
      "[-100, 100]]\n",
      "[INFO-wrappers_bo-03/08/2021-21:11:17] str_cov: matern52\n",
      "[INFO-wrappers_bo-03/08/2021-21:11:17] str_acq: ei\n",
      "[INFO-wrappers_bo-03/08/2021-21:11:17] str_optimizer_method_gp: BFGS\n",
      "[INFO-wrappers_bo-03/08/2021-21:11:17] str_optimizer_method_bo: L-BFGS-B\n",
      "[INFO-wrappers_bo-03/08/2021-21:11:17] str_modelselection_method: ml\n",
      "[INFO-wrappers_bo-03/08/2021-21:11:17] num_init: 5\n",
      "[INFO-wrappers_bo-03/08/2021-21:11:17] num_iter: 7\n",
      "[INFO-wrappers_bo-03/08/2021-21:11:17] str_initial_method_bo: uniform\n",
      "[INFO-wrappers_bo-03/08/2021-21:11:17] str_sampling_method_ao: uniform\n",
      "[INFO-wrappers_bo-03/08/2021-21:11:17] num_samples_ao: 100\n",
      "[INFO-wrappers_bo-03/08/2021-21:11:17] str_mlm_method: regular\n",
      "[INFO-wrappers_bo-03/08/2021-21:11:17] seed: None\n",
      "[INFO-wrappers_bo-03/08/2021-21:11:17] Iteration 1\n"
     ]
    },
    {
     "name": "stdout",
     "output_type": "stream",
     "text": [
      "BO Round 49\n"
     ]
    },
    {
     "name": "stderr",
     "output_type": "stream",
     "text": [
      "[INFO-wrappers_bo-03/08/2021-21:11:17] Iteration 2\n",
      "[INFO-wrappers_bo-03/08/2021-21:11:17] Iteration 3\n",
      "[INFO-wrappers_bo-03/08/2021-21:11:18] Iteration 4\n",
      "[INFO-wrappers_bo-03/08/2021-21:11:18] Iteration 5\n",
      "[INFO-wrappers_bo-03/08/2021-21:11:18] Iteration 6\n",
      "[INFO-wrappers_bo-03/08/2021-21:11:19] Iteration 7\n",
      "[INFO-wrappers_bo-03/08/2021-21:11:19] range_X:\n",
      "[[-100, 100],\n",
      "[-100, 100],\n",
      "[-100, 100],\n",
      "[-100, 100]]\n",
      "[INFO-wrappers_bo-03/08/2021-21:11:19] str_cov: matern52\n",
      "[INFO-wrappers_bo-03/08/2021-21:11:19] str_acq: ei\n",
      "[INFO-wrappers_bo-03/08/2021-21:11:19] str_optimizer_method_gp: BFGS\n",
      "[INFO-wrappers_bo-03/08/2021-21:11:19] str_optimizer_method_bo: L-BFGS-B\n",
      "[INFO-wrappers_bo-03/08/2021-21:11:19] str_modelselection_method: ml\n",
      "[INFO-wrappers_bo-03/08/2021-21:11:19] num_init: 4\n",
      "[INFO-wrappers_bo-03/08/2021-21:11:19] num_iter: 9\n",
      "[INFO-wrappers_bo-03/08/2021-21:11:19] str_initial_method_bo: uniform\n",
      "[INFO-wrappers_bo-03/08/2021-21:11:19] str_sampling_method_ao: uniform\n",
      "[INFO-wrappers_bo-03/08/2021-21:11:19] num_samples_ao: 100\n",
      "[INFO-wrappers_bo-03/08/2021-21:11:19] str_mlm_method: regular\n",
      "[INFO-wrappers_bo-03/08/2021-21:11:19] seed: None\n",
      "[INFO-wrappers_bo-03/08/2021-21:11:19] Iteration 1\n"
     ]
    },
    {
     "name": "stdout",
     "output_type": "stream",
     "text": [
      "BO Round 50\n"
     ]
    },
    {
     "name": "stderr",
     "output_type": "stream",
     "text": [
      "[INFO-wrappers_bo-03/08/2021-21:11:19] Iteration 2\n",
      "[INFO-wrappers_bo-03/08/2021-21:11:19] Iteration 3\n",
      "[INFO-wrappers_bo-03/08/2021-21:11:20] Iteration 4\n",
      "[INFO-wrappers_bo-03/08/2021-21:11:20] Iteration 5\n",
      "[INFO-wrappers_bo-03/08/2021-21:11:20] Iteration 6\n",
      "[INFO-wrappers_bo-03/08/2021-21:11:21] Iteration 7\n",
      "[INFO-wrappers_bo-03/08/2021-21:11:21] Iteration 8\n",
      "[INFO-wrappers_bo-03/08/2021-21:11:21] Iteration 9\n"
     ]
    }
   ],
   "source": [
    "for ind_bo in range(0, num_bo):\n",
    "    start = time.time()\n",
    "    print('BO Round', ind_bo + 1)\n",
    "    random1 = abs(int(np.round(np.random.randint(1, 10) + 1)))\n",
    "    random2 = abs(int(np.round(np.random.randint(1, 10) + 1)))\n",
    "    X_final, targ, time_final, _, _ = wrappers_bo.run_single_round(\n",
    "        model_bo, func, num_init=random1, num_iter=random2,\n",
    "        str_initial_method_bo='uniform', str_sampling_method_ao='uniform', num_samples_ao=100)\n",
    "    n_of_trials = random1 + random2\n",
    "    bx_best, y_best = utils_bo.get_best_acquisition_by_history(X_final, targ)\n",
    "    list_X.append(bx_best[0])\n",
    "    list_Y.append(bx_best[1])\n",
    "    list_a.append(bx_best[2])\n",
    "    list_a.append(bx_best[3])\n",
    "    z.append((func(bx_best) / max_value))\n",
    "    end = time.time()\n",
    "    timetaken = (end - start) / n_of_trials\n",
    "    itr_time.append(timetaken)\n",
    "    n_of_trials_vector.append(n_of_trials)\n",
    "    accuracy = z\n",
    "    mean_time = itr_time"
   ]
  },
  {
   "cell_type": "code",
   "execution_count": 21,
   "metadata": {},
   "outputs": [],
   "source": [
    "n_of_trials_vector = np.asarray(n_of_trials_vector).reshape(-1,1)\n",
    "accuracy = np.asarray(accuracy).reshape(-1,1)\n",
    "mean_time = np.asarray(mean_time).reshape(-1,1)\n",
    "type_of_opt = np.asarray([Type_of_optimizer]*accuracy.shape[0]).reshape(-1,1)\n",
    "num_of_params = np.asarray([n_of_params]*accuracy.shape[0]).reshape(-1,1)\n",
    "type_of_func = np.asarray([Type_of_function]*accuracy.shape[0]).reshape(-1,1)\n",
    "data1 = np.hstack((n_of_trials_vector, num_of_params, type_of_func,accuracy, mean_time, type_of_opt))\n",
    "df_LBFGSB = pd.DataFrame(data1, columns=['number of trials','number of parameters','type of function','accuracy [calc. max/ actual max]', 'time per trial [s]', 'type_of_opt'])\n",
    "#print(df_L-BFGS-B)\n",
    "df_LBFGSB.to_csv('Data_L-BFGS-B_4P_.csv')"
   ]
  },
  {
   "cell_type": "code",
   "execution_count": null,
   "metadata": {},
   "outputs": [],
   "source": []
  }
 ],
 "metadata": {
  "kernelspec": {
   "display_name": "env_BayesO",
   "language": "python",
   "name": "env_bayeso"
  },
  "language_info": {
   "codemirror_mode": {
    "name": "ipython",
    "version": 3
   },
   "file_extension": ".py",
   "mimetype": "text/x-python",
   "name": "python",
   "nbconvert_exporter": "python",
   "pygments_lexer": "ipython3",
   "version": "3.7.10"
  }
 },
 "nbformat": 4,
 "nbformat_minor": 4
}
