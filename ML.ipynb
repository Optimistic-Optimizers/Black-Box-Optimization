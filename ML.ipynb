{
 "cells": [
  {
   "cell_type": "code",
   "execution_count": 26,
   "id": "moving-haven",
   "metadata": {},
   "outputs": [],
   "source": [
    "import numpy as np\n",
    "import pandas as pd\n",
    "import seaborn as sns\n",
    "\n",
    "import sklearn\n",
    "from sklearn import neighbors, datasets\n",
    "from sklearn.model_selection import train_test_split\n",
    "from sklearn.preprocessing import StandardScaler\n",
    "from sklearn.neighbors import KNeighborsClassifier\n",
    "from sklearn.metrics import confusion_matrix\n",
    "from sklearn.metrics import f1_score\n",
    "from sklearn.metrics import accuracy_score\n",
    "\n",
    "import matplotlib\n",
    "#matplotlib.use('GTKAgg')\n",
    "import matplotlib.pyplot as plt\n",
    "from matplotlib import cm\n",
    "from matplotlib.colors import ListedColormap\n",
    "%matplotlib inline\n",
    "matplotlib.rcParams.update({'font.size': 18})"
   ]
  },
  {
   "cell_type": "markdown",
   "id": "wrong-contribution",
   "metadata": {},
   "source": [
    "pip install xlrd==1.2.0.  (latest version of xlrd only imports .xls "
   ]
  },
  {
   "cell_type": "code",
   "execution_count": 64,
   "id": "political-capture",
   "metadata": {},
   "outputs": [
    {
     "name": "stderr",
     "output_type": "stream",
     "text": [
      "<ipython-input-64-f502af631d9a>:1: FutureWarning: Your version of xlrd is 1.2.0. In xlrd >= 2.0, only the xls format is supported. As a result, the openpyxl engine will be used if it is installed and the engine argument is not specified. Install openpyxl instead.\n",
      "  df = pd.read_excel ('Data4.xlsx')\n"
     ]
    }
   ],
   "source": [
    "df = pd.read_excel ('Data4.xlsx')\n",
    "                  "
   ]
  },
  {
   "cell_type": "code",
   "execution_count": 65,
   "id": "stretch-stuff",
   "metadata": {},
   "outputs": [
    {
     "data": {
      "text/html": [
       "<div>\n",
       "<style scoped>\n",
       "    .dataframe tbody tr th:only-of-type {\n",
       "        vertical-align: middle;\n",
       "    }\n",
       "\n",
       "    .dataframe tbody tr th {\n",
       "        vertical-align: top;\n",
       "    }\n",
       "\n",
       "    .dataframe thead th {\n",
       "        text-align: right;\n",
       "    }\n",
       "</style>\n",
       "<table border=\"1\" class=\"dataframe\">\n",
       "  <thead>\n",
       "    <tr style=\"text-align: right;\">\n",
       "      <th></th>\n",
       "      <th>Unnamed: 0</th>\n",
       "      <th>Unnamed: 0.1</th>\n",
       "      <th>number of parameters</th>\n",
       "      <th>type of function</th>\n",
       "      <th>accuracy [calc. max/ actual max]</th>\n",
       "      <th>time per trial [s]</th>\n",
       "      <th>type_of_opt</th>\n",
       "      <th>assigned_class</th>\n",
       "    </tr>\n",
       "  </thead>\n",
       "  <tbody>\n",
       "    <tr>\n",
       "      <th>0</th>\n",
       "      <td>0</td>\n",
       "      <td>0.0</td>\n",
       "      <td>2</td>\n",
       "      <td>Trig</td>\n",
       "      <td>0.831777</td>\n",
       "      <td>0.010254</td>\n",
       "      <td>TPE</td>\n",
       "      <td>0</td>\n",
       "    </tr>\n",
       "    <tr>\n",
       "      <th>1</th>\n",
       "      <td>1</td>\n",
       "      <td>1.0</td>\n",
       "      <td>2</td>\n",
       "      <td>Trig</td>\n",
       "      <td>0.811150</td>\n",
       "      <td>0.012185</td>\n",
       "      <td>TPE</td>\n",
       "      <td>0</td>\n",
       "    </tr>\n",
       "    <tr>\n",
       "      <th>2</th>\n",
       "      <td>2</td>\n",
       "      <td>2.0</td>\n",
       "      <td>2</td>\n",
       "      <td>Trig</td>\n",
       "      <td>0.821488</td>\n",
       "      <td>0.012809</td>\n",
       "      <td>TPE</td>\n",
       "      <td>0</td>\n",
       "    </tr>\n",
       "    <tr>\n",
       "      <th>3</th>\n",
       "      <td>3</td>\n",
       "      <td>3.0</td>\n",
       "      <td>2</td>\n",
       "      <td>Trig</td>\n",
       "      <td>0.834182</td>\n",
       "      <td>0.013310</td>\n",
       "      <td>TPE</td>\n",
       "      <td>0</td>\n",
       "    </tr>\n",
       "    <tr>\n",
       "      <th>4</th>\n",
       "      <td>4</td>\n",
       "      <td>4.0</td>\n",
       "      <td>2</td>\n",
       "      <td>Trig</td>\n",
       "      <td>0.861318</td>\n",
       "      <td>0.012172</td>\n",
       "      <td>TPE</td>\n",
       "      <td>0</td>\n",
       "    </tr>\n",
       "    <tr>\n",
       "      <th>...</th>\n",
       "      <td>...</td>\n",
       "      <td>...</td>\n",
       "      <td>...</td>\n",
       "      <td>...</td>\n",
       "      <td>...</td>\n",
       "      <td>...</td>\n",
       "      <td>...</td>\n",
       "      <td>...</td>\n",
       "    </tr>\n",
       "    <tr>\n",
       "      <th>115</th>\n",
       "      <td>15</td>\n",
       "      <td>NaN</td>\n",
       "      <td>2</td>\n",
       "      <td>power</td>\n",
       "      <td>0.661894</td>\n",
       "      <td>0.010345</td>\n",
       "      <td>TPE</td>\n",
       "      <td>0</td>\n",
       "    </tr>\n",
       "    <tr>\n",
       "      <th>116</th>\n",
       "      <td>16</td>\n",
       "      <td>NaN</td>\n",
       "      <td>2</td>\n",
       "      <td>power</td>\n",
       "      <td>0.598379</td>\n",
       "      <td>0.009944</td>\n",
       "      <td>TPE</td>\n",
       "      <td>0</td>\n",
       "    </tr>\n",
       "    <tr>\n",
       "      <th>117</th>\n",
       "      <td>17</td>\n",
       "      <td>NaN</td>\n",
       "      <td>2</td>\n",
       "      <td>power</td>\n",
       "      <td>0.575772</td>\n",
       "      <td>0.010296</td>\n",
       "      <td>TPE</td>\n",
       "      <td>0</td>\n",
       "    </tr>\n",
       "    <tr>\n",
       "      <th>118</th>\n",
       "      <td>18</td>\n",
       "      <td>NaN</td>\n",
       "      <td>2</td>\n",
       "      <td>power</td>\n",
       "      <td>0.651042</td>\n",
       "      <td>0.010637</td>\n",
       "      <td>TPE</td>\n",
       "      <td>0</td>\n",
       "    </tr>\n",
       "    <tr>\n",
       "      <th>119</th>\n",
       "      <td>19</td>\n",
       "      <td>NaN</td>\n",
       "      <td>2</td>\n",
       "      <td>power</td>\n",
       "      <td>0.595356</td>\n",
       "      <td>0.010112</td>\n",
       "      <td>TPE</td>\n",
       "      <td>0</td>\n",
       "    </tr>\n",
       "  </tbody>\n",
       "</table>\n",
       "<p>120 rows × 8 columns</p>\n",
       "</div>"
      ],
      "text/plain": [
       "     Unnamed: 0  Unnamed: 0.1  number of parameters type of function  \\\n",
       "0             0           0.0                     2             Trig   \n",
       "1             1           1.0                     2             Trig   \n",
       "2             2           2.0                     2             Trig   \n",
       "3             3           3.0                     2             Trig   \n",
       "4             4           4.0                     2             Trig   \n",
       "..          ...           ...                   ...              ...   \n",
       "115          15           NaN                     2            power   \n",
       "116          16           NaN                     2            power   \n",
       "117          17           NaN                     2            power   \n",
       "118          18           NaN                     2            power   \n",
       "119          19           NaN                     2            power   \n",
       "\n",
       "     accuracy [calc. max/ actual max]  time per trial [s] type_of_opt  \\\n",
       "0                            0.831777            0.010254         TPE   \n",
       "1                            0.811150            0.012185         TPE   \n",
       "2                            0.821488            0.012809         TPE   \n",
       "3                            0.834182            0.013310         TPE   \n",
       "4                            0.861318            0.012172         TPE   \n",
       "..                                ...                 ...         ...   \n",
       "115                          0.661894            0.010345         TPE   \n",
       "116                          0.598379            0.009944         TPE   \n",
       "117                          0.575772            0.010296         TPE   \n",
       "118                          0.651042            0.010637         TPE   \n",
       "119                          0.595356            0.010112         TPE   \n",
       "\n",
       "     assigned_class  \n",
       "0                 0  \n",
       "1                 0  \n",
       "2                 0  \n",
       "3                 0  \n",
       "4                 0  \n",
       "..              ...  \n",
       "115               0  \n",
       "116               0  \n",
       "117               0  \n",
       "118               0  \n",
       "119               0  \n",
       "\n",
       "[120 rows x 8 columns]"
      ]
     },
     "execution_count": 65,
     "metadata": {},
     "output_type": "execute_result"
    }
   ],
   "source": [
    "df"
   ]
  },
  {
   "cell_type": "code",
   "execution_count": 68,
   "id": "unavailable-scholar",
   "metadata": {},
   "outputs": [
    {
     "name": "stdout",
     "output_type": "stream",
     "text": [
      "120\n",
      "   Unnamed: 0  Unnamed: 0.1  number of parameters type of function  \\\n",
      "0           0           0.0                     2             Trig   \n",
      "1           1           1.0                     2             Trig   \n",
      "2           2           2.0                     2             Trig   \n",
      "3           3           3.0                     2             Trig   \n",
      "4           4           4.0                     2             Trig   \n",
      "\n",
      "   accuracy [calc. max/ actual max]  time per trial [s] type_of_opt  \\\n",
      "0                          0.831777            0.010254         TPE   \n",
      "1                          0.811150            0.012185         TPE   \n",
      "2                          0.821488            0.012809         TPE   \n",
      "3                          0.834182            0.013310         TPE   \n",
      "4                          0.861318            0.012172         TPE   \n",
      "\n",
      "   assigned_class  \n",
      "0               0  \n",
      "1               0  \n",
      "2               0  \n",
      "3               0  \n",
      "4               0  \n"
     ]
    }
   ],
   "source": [
    "print(len(df))\n",
    "print(df.head())"
   ]
  },
  {
   "cell_type": "code",
   "execution_count": 69,
   "id": "russian-wildlife",
   "metadata": {},
   "outputs": [],
   "source": [
    "# replace zeroes\n",
    "zero_not_accepted = ['number of parameters', 'type of function', 'accuracy [calc. max/ actual max]', 'time per trial [s]', 'type_of_opt']\n",
    "\n",
    "for column in zero_not_accepted:\n",
    "    df[column] = df[column].replace(0, np.NaN)\n",
    "    "
   ]
  },
  {
   "cell_type": "code",
   "execution_count": null,
   "id": "recent-center",
   "metadata": {},
   "outputs": [],
   "source": []
  },
  {
   "cell_type": "code",
   "execution_count": 31,
   "id": "excess-thinking",
   "metadata": {},
   "outputs": [],
   "source": [
    "# split dataset\n",
    "# X = df.iloc[:,0:6]\n",
    "# y = df.iloc[:,5:6]\n",
    "#X_train, X_test, y_train, y_test = train_test_split(X, y, random_state=0, test_size=0.2)"
   ]
  },
  {
   "cell_type": "code",
   "execution_count": 70,
   "id": "measured-interview",
   "metadata": {},
   "outputs": [
    {
     "name": "stdout",
     "output_type": "stream",
     "text": [
      "120\n"
     ]
    }
   ],
   "source": [
    "X = df[['accuracy [calc. max/ actual max]','time per trial [s]']]\n",
    "y = df['assigned_class']\n",
    "\n",
    "print(len(y))"
   ]
  },
  {
   "cell_type": "code",
   "execution_count": 71,
   "id": "thermal-accessory",
   "metadata": {},
   "outputs": [
    {
     "name": "stdout",
     "output_type": "stream",
     "text": [
      "96 24\n"
     ]
    }
   ],
   "source": [
    "# split the dataset\n",
    "X_train, X_test, y_train, y_test = train_test_split(X, y, test_size=0.2, random_state=14) #14 is seed\n",
    "\n",
    "print(len(y_train), len(y_test))"
   ]
  },
  {
   "cell_type": "code",
   "execution_count": null,
   "id": "suited-advertising",
   "metadata": {},
   "outputs": [],
   "source": []
  },
  {
   "cell_type": "code",
   "execution_count": null,
   "id": "cooked-stanley",
   "metadata": {},
   "outputs": [],
   "source": []
  },
  {
   "cell_type": "code",
   "execution_count": 72,
   "id": "silver-difficulty",
   "metadata": {},
   "outputs": [],
   "source": [
    "#Feature scaling\n",
    "sc_X = StandardScaler()\n",
    "X_train = sc_X.fit_transform(X_train)\n",
    "X_test = sc_X.transform(X_test)"
   ]
  },
  {
   "cell_type": "code",
   "execution_count": 73,
   "id": "consistent-spiritual",
   "metadata": {},
   "outputs": [],
   "source": [
    "K_neighbors = 1"
   ]
  },
  {
   "cell_type": "code",
   "execution_count": 74,
   "id": "meaning-screen",
   "metadata": {},
   "outputs": [
    {
     "data": {
      "text/plain": [
       "KNeighborsClassifier(n_neighbors=1, weights='distance')"
      ]
     },
     "execution_count": 74,
     "metadata": {},
     "output_type": "execute_result"
    }
   ],
   "source": [
    "#Define the model: Init K-NN\n",
    "# We create an instance of Neighbours Classifier and fit it to the training data.\n",
    "# if you set weights = 'distance' here you will have a weighted KNN classifier\n",
    "clf = neighbors.KNeighborsClassifier(K_neighbors, weights='distance')\n",
    "\n",
    "# Here we fit it to the data - it figures out the classes and \n",
    "# which training X points belong to each class in Y \n",
    "clf.fit(X, y)"
   ]
  },
  {
   "cell_type": "code",
   "execution_count": null,
   "id": "sudden-heritage",
   "metadata": {},
   "outputs": [],
   "source": []
  },
  {
   "cell_type": "code",
   "execution_count": 75,
   "id": "based-female",
   "metadata": {},
   "outputs": [
    {
     "name": "stdout",
     "output_type": "stream",
     "text": [
      "[0 1 2] euclidean 120\n"
     ]
    }
   ],
   "source": [
    "print(clf.classes_, clf.effective_metric_, clf.n_samples_fit_)"
   ]
  },
  {
   "cell_type": "code",
   "execution_count": 76,
   "id": "adverse-monroe",
   "metadata": {},
   "outputs": [
    {
     "name": "stdout",
     "output_type": "stream",
     "text": [
      "predicted classes [1 1 2 2 2 2 1 2 2 2 1 2 2 2 2 2 1 1 0 2 1 2 1 2]\n",
      "KNN probability of belonging to class [[0. 1. 0.]\n",
      " [0. 1. 0.]\n",
      " [0. 0. 1.]\n",
      " [0. 0. 1.]\n",
      " [0. 0. 1.]\n",
      " [0. 0. 1.]\n",
      " [0. 1. 0.]\n",
      " [0. 0. 1.]\n",
      " [0. 0. 1.]\n",
      " [0. 0. 1.]\n",
      " [0. 1. 0.]\n",
      " [0. 0. 1.]\n",
      " [0. 0. 1.]\n",
      " [0. 0. 1.]\n",
      " [0. 0. 1.]\n",
      " [0. 0. 1.]\n",
      " [0. 1. 0.]\n",
      " [0. 1. 0.]\n",
      " [1. 0. 0.]\n",
      " [0. 0. 1.]\n",
      " [0. 1. 0.]\n",
      " [0. 0. 1.]\n",
      " [0. 1. 0.]\n",
      " [0. 0. 1.]]\n",
      "Mean accuracy of prediction 0.4166666666666667\n"
     ]
    }
   ],
   "source": [
    "# Predict the test set results\n",
    "y_test_predicted = clf.predict(X_test)\n",
    "y_test_probabilities = clf.predict_proba(X_test)\n",
    "mean_accuracy = clf.score(X_test, y_test)\n",
    "\n",
    "print(\"predicted classes\", y_test_predicted)\n",
    "print(\"KNN probability of belonging to class\",y_test_probabilities)\n",
    "print(\"Mean accuracy of prediction\", mean_accuracy)\n"
   ]
  },
  {
   "cell_type": "code",
   "execution_count": 77,
   "id": "removable-arlington",
   "metadata": {},
   "outputs": [
    {
     "data": {
      "text/plain": [
       "array([ 1.11955334,  0.08322242, -1.9900051 , -0.45740226,  0.19698561,\n",
       "       -0.27178397,  1.32712344, -0.3200028 , -0.07144161, -1.92650388,\n",
       "        0.29982269, -0.20384565, -0.03975201,  1.21241297, -1.64544462,\n",
       "        0.05992275, -1.32321848,  0.39337798,  0.79642641,  0.35762558,\n",
       "        1.1788524 , -1.53834788,  0.10728845,  0.18037587, -1.8602023 ,\n",
       "       -0.27284566, -0.33740942,  1.21955151,  1.18928432, -0.20141747,\n",
       "        0.98640443,  0.93575864,  0.24780493, -0.17876572, -0.31016243,\n",
       "        1.10739711, -0.15526108, -0.27266252,  1.17378013, -0.23165109,\n",
       "       -1.77668512, -1.55803971,  0.2444258 , -0.40088968, -1.60645113,\n",
       "        1.27040387, -0.18206076,  0.59745554,  1.33209533,  0.09023171,\n",
       "       -1.90394855,  1.01757225,  0.71344096, -0.46208041, -0.40871108,\n",
       "       -1.97198197,  0.17140156,  1.05320826,  0.19660978,  1.28744562,\n",
       "       -0.29557716,  1.298197  ,  0.96424961, -0.15237628,  0.75129208,\n",
       "       -0.40669708,  0.76339682, -1.57504931, -1.90094008, -1.68171017,\n",
       "        0.38508773,  1.42875843,  1.13802091, -0.21195847,  0.19274848,\n",
       "        1.17507471, -0.36879454,  0.02540854, -1.19428778,  1.349603  ,\n",
       "        1.38014351, -0.73394502,  0.81637804,  1.2676625 , -1.47770856,\n",
       "       -1.9745713 , -0.18574853,  1.02715461,  1.09350789, -0.0569486 ,\n",
       "       -0.11565719, -1.46991647,  0.94212233,  0.52949523, -0.34397612,\n",
       "       -0.65072609])"
      ]
     },
     "execution_count": 77,
     "metadata": {},
     "output_type": "execute_result"
    }
   ],
   "source": [
    "X_train[:,0]"
   ]
  },
  {
   "cell_type": "code",
   "execution_count": 91,
   "id": "assured-dietary",
   "metadata": {},
   "outputs": [
    {
     "name": "stdout",
     "output_type": "stream",
     "text": [
      "[[0 5 3]\n",
      " [1 3 5]\n",
      " [0 0 7]]\n"
     ]
    }
   ],
   "source": [
    "# Evaluate Model\n",
    "cm = confusion_matrix(y_test, y_test_predicted)\n",
    "print(cm)"
   ]
  },
  {
   "cell_type": "code",
   "execution_count": null,
   "id": "expensive-hudson",
   "metadata": {},
   "outputs": [],
   "source": []
  },
  {
   "cell_type": "code",
   "execution_count": null,
   "id": "ready-seafood",
   "metadata": {},
   "outputs": [],
   "source": []
  },
  {
   "cell_type": "code",
   "execution_count": null,
   "id": "arctic-passage",
   "metadata": {},
   "outputs": [],
   "source": [
    "# classifier = KNeighborsClassifier(n_neighbors=1, p=2, metric='euclidean')"
   ]
  },
  {
   "cell_type": "code",
   "execution_count": null,
   "id": "falling-brazilian",
   "metadata": {},
   "outputs": [],
   "source": []
  },
  {
   "cell_type": "code",
   "execution_count": 61,
   "id": "agricultural-treasurer",
   "metadata": {},
   "outputs": [],
   "source": [
    "# Create color maps\n"
   ]
  },
  {
   "cell_type": "code",
   "execution_count": 82,
   "id": "given-fever",
   "metadata": {},
   "outputs": [],
   "source": [
    "def kneighbors_graph(self):\n",
    "    self.X_train = self.X_train.values\n",
    "    A = neighbors.kneighbors_graph(self.X_train, 9, 'distance')\n",
    "    plt.spy(A)\n",
    "    plt.show"
   ]
  },
  {
   "cell_type": "code",
   "execution_count": null,
   "id": "cleared-brisbane",
   "metadata": {},
   "outputs": [],
   "source": []
  },
  {
   "cell_type": "code",
   "execution_count": 90,
   "id": "hybrid-fireplace",
   "metadata": {},
   "outputs": [
    {
     "name": "stderr",
     "output_type": "stream",
     "text": [
      "<ipython-input-90-93f798e42662>:20: MatplotlibDeprecationWarning: shading='flat' when X and Y have the same dimensions as C is deprecated since 3.3.  Either specify the corners of the quadrilaterals with X and Y, or pass shading='auto', 'nearest' or 'gouraud', or set rcParams['pcolor.shading'].  This will become an error two minor releases later.\n",
      "  plt.pcolormesh(xx, yy, Z, cmap=cmap_light)\n"
     ]
    },
    {
     "data": {
      "image/png": "[encoded data removed]",
      "text/plain": [
       "<Figure size 432x288 with 1 Axes>"
      ]
     },
     "metadata": {
      "needs_background": "light"
     },
     "output_type": "display_data"
    }
   ],
   "source": [
    "X = X\n",
    "y = y\n",
    "h = .02\n",
    "\n",
    "cmap_light = ListedColormap(['#FFAAAA', '#AAFFAA', '#00AAFF'])\n",
    "cmap_bold = ListedColormap(['#FF0000', '#00FF00', '#00AAFF'])\n",
    "\n",
    "clf = neighbors.KNeighborsClassifier(K_neighbors, weights='distance')\n",
    "clf.fit(X, y)\n",
    "\n",
    "x_min, x_max = X[:, 0].min() - 1, X[:, 0].max() + 1\n",
    "y_min, y_max = X[:, 1].min() - 1, X[:, 1].max() + 1\n",
    "xx, yy = np.meshgrid(np.arange(x_min, x_max, h),\n",
    "                     np.arange(y_min, y_max, h))\n",
    "\n",
    "Z = clf.predict(np.c_[xx.ravel(), yy.ravel()])\n",
    "\n",
    "Z = Z.reshape(xx.shape)\n",
    "plt.figure()\n",
    "plt.pcolormesh(xx, yy, Z, cmap=cmap_light)\n",
    "\n",
    "plt.scatter(X[:, 0], X[:, 1], c=y, cmap=cmap_bold)\n",
    "plt.xlim(xx.min(), xx.max())\n",
    "plt.ylim(yy.min(), yy.max())\n",
    "plt.title(\"1-Class classification (k = %i)\" % (K_neighbors))\n",
    "plt.show()"
   ]
  },
  {
   "cell_type": "code",
   "execution_count": null,
   "id": "supposed-cincinnati",
   "metadata": {},
   "outputs": [],
   "source": []
  }
 ],
 "metadata": {
  "kernelspec": {
   "display_name": "Python 3",
   "language": "python",
   "name": "python3"
  },
  "language_info": {
   "codemirror_mode": {
    "name": "ipython",
    "version": 3
   },
   "file_extension": ".py",
   "mimetype": "text/x-python",
   "name": "python",
   "nbconvert_exporter": "python",
   "pygments_lexer": "ipython3",
   "version": "3.8.8"
  }
 },
 "nbformat": 4,
 "nbformat_minor": 5
}
