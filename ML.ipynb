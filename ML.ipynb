{
 "cells": [
  {
   "cell_type": "code",
   "execution_count": 26,
   "id": "moving-haven",
   "metadata": {},
   "outputs": [],
   "source": [
    "import numpy as np\n",
    "import pandas as pd\n",
    "import seaborn as sns\n",
    "\n",
    "import sklearn\n",
    "from sklearn import neighbors, datasets\n",
    "from sklearn.model_selection import train_test_split\n",
    "from sklearn.preprocessing import StandardScaler\n",
    "from sklearn.neighbors import KNeighborsClassifier\n",
    "from sklearn.metrics import confusion_matrix\n",
    "from sklearn.metrics import f1_score\n",
    "from sklearn.metrics import accuracy_score\n",
    "\n",
    "import matplotlib\n",
    "#matplotlib.use('GTKAgg')\n",
    "import matplotlib.pyplot as plt\n",
    "from matplotlib import cm\n",
    "from matplotlib.colors import ListedColormap\n",
    "%matplotlib inline\n",
    "matplotlib.rcParams.update({'font.size': 18})"
   ]
  },
  {
   "cell_type": "code",
   "execution_count": 3,
   "id": "political-capture",
   "metadata": {},
   "outputs": [
    {
     "name": "stderr",
     "output_type": "stream",
     "text": [
      "<ipython-input-3-deb572474427>:1: FutureWarning: Your version of xlrd is 1.2.0. In xlrd >= 2.0, only the xls format is supported. As a result, the openpyxl engine will be used if it is installed and the engine argument is not specified. Install openpyxl instead.\n",
      "  df = pd.read_excel ('Data.xlsx')\n"
     ]
    }
   ],
   "source": [
    "df = pd.read_excel ('Data.xlsx')\n",
    "                  "
   ]
  },
  {
   "cell_type": "code",
   "execution_count": 9,
   "id": "muslim-floating",
   "metadata": {},
   "outputs": [
    {
     "data": {
      "text/html": [
       "<div>\n",
       "<style scoped>\n",
       "    .dataframe tbody tr th:only-of-type {\n",
       "        vertical-align: middle;\n",
       "    }\n",
       "\n",
       "    .dataframe tbody tr th {\n",
       "        vertical-align: top;\n",
       "    }\n",
       "\n",
       "    .dataframe thead th {\n",
       "        text-align: right;\n",
       "    }\n",
       "</style>\n",
       "<table border=\"1\" class=\"dataframe\">\n",
       "  <thead>\n",
       "    <tr style=\"text-align: right;\">\n",
       "      <th></th>\n",
       "      <th>number of parameters</th>\n",
       "      <th>type of function</th>\n",
       "      <th>accuracy [max/mean]</th>\n",
       "      <th>time [s]</th>\n",
       "      <th>type_of_opt</th>\n",
       "      <th>assigned_class</th>\n",
       "    </tr>\n",
       "  </thead>\n",
       "  <tbody>\n",
       "    <tr>\n",
       "      <th>0</th>\n",
       "      <td>2</td>\n",
       "      <td>Trig</td>\n",
       "      <td>0.805239</td>\n",
       "      <td>0.074336</td>\n",
       "      <td>Random</td>\n",
       "      <td>0</td>\n",
       "    </tr>\n",
       "    <tr>\n",
       "      <th>1</th>\n",
       "      <td>2</td>\n",
       "      <td>Trig</td>\n",
       "      <td>0.787891</td>\n",
       "      <td>0.050790</td>\n",
       "      <td>Random</td>\n",
       "      <td>0</td>\n",
       "    </tr>\n",
       "    <tr>\n",
       "      <th>2</th>\n",
       "      <td>2</td>\n",
       "      <td>Trig</td>\n",
       "      <td>0.790462</td>\n",
       "      <td>0.066809</td>\n",
       "      <td>Random</td>\n",
       "      <td>0</td>\n",
       "    </tr>\n",
       "    <tr>\n",
       "      <th>3</th>\n",
       "      <td>2</td>\n",
       "      <td>Trig</td>\n",
       "      <td>0.866317</td>\n",
       "      <td>0.053579</td>\n",
       "      <td>Random</td>\n",
       "      <td>0</td>\n",
       "    </tr>\n",
       "    <tr>\n",
       "      <th>4</th>\n",
       "      <td>2</td>\n",
       "      <td>Trig</td>\n",
       "      <td>0.844411</td>\n",
       "      <td>0.050650</td>\n",
       "      <td>Random</td>\n",
       "      <td>0</td>\n",
       "    </tr>\n",
       "    <tr>\n",
       "      <th>5</th>\n",
       "      <td>2</td>\n",
       "      <td>Trig</td>\n",
       "      <td>0.829250</td>\n",
       "      <td>0.045677</td>\n",
       "      <td>Random</td>\n",
       "      <td>0</td>\n",
       "    </tr>\n",
       "    <tr>\n",
       "      <th>6</th>\n",
       "      <td>2</td>\n",
       "      <td>Trig</td>\n",
       "      <td>0.832084</td>\n",
       "      <td>0.052770</td>\n",
       "      <td>Random</td>\n",
       "      <td>0</td>\n",
       "    </tr>\n",
       "    <tr>\n",
       "      <th>7</th>\n",
       "      <td>2</td>\n",
       "      <td>Trig</td>\n",
       "      <td>0.858530</td>\n",
       "      <td>0.049329</td>\n",
       "      <td>Random</td>\n",
       "      <td>0</td>\n",
       "    </tr>\n",
       "    <tr>\n",
       "      <th>8</th>\n",
       "      <td>2</td>\n",
       "      <td>Trig</td>\n",
       "      <td>0.814655</td>\n",
       "      <td>0.058481</td>\n",
       "      <td>Random</td>\n",
       "      <td>0</td>\n",
       "    </tr>\n",
       "    <tr>\n",
       "      <th>9</th>\n",
       "      <td>2</td>\n",
       "      <td>Trig</td>\n",
       "      <td>0.858295</td>\n",
       "      <td>0.046367</td>\n",
       "      <td>Random</td>\n",
       "      <td>0</td>\n",
       "    </tr>\n",
       "    <tr>\n",
       "      <th>10</th>\n",
       "      <td>2</td>\n",
       "      <td>Trig</td>\n",
       "      <td>0.817984</td>\n",
       "      <td>0.052295</td>\n",
       "      <td>TPE</td>\n",
       "      <td>1</td>\n",
       "    </tr>\n",
       "    <tr>\n",
       "      <th>11</th>\n",
       "      <td>2</td>\n",
       "      <td>Trig</td>\n",
       "      <td>0.802809</td>\n",
       "      <td>0.079555</td>\n",
       "      <td>TPE</td>\n",
       "      <td>1</td>\n",
       "    </tr>\n",
       "    <tr>\n",
       "      <th>12</th>\n",
       "      <td>2</td>\n",
       "      <td>Trig</td>\n",
       "      <td>0.851575</td>\n",
       "      <td>0.074838</td>\n",
       "      <td>TPE</td>\n",
       "      <td>1</td>\n",
       "    </tr>\n",
       "    <tr>\n",
       "      <th>13</th>\n",
       "      <td>2</td>\n",
       "      <td>Trig</td>\n",
       "      <td>0.804834</td>\n",
       "      <td>0.094903</td>\n",
       "      <td>TPE</td>\n",
       "      <td>1</td>\n",
       "    </tr>\n",
       "    <tr>\n",
       "      <th>14</th>\n",
       "      <td>2</td>\n",
       "      <td>Trig</td>\n",
       "      <td>0.820749</td>\n",
       "      <td>0.052341</td>\n",
       "      <td>TPE</td>\n",
       "      <td>1</td>\n",
       "    </tr>\n",
       "    <tr>\n",
       "      <th>15</th>\n",
       "      <td>2</td>\n",
       "      <td>Trig</td>\n",
       "      <td>0.823457</td>\n",
       "      <td>0.057383</td>\n",
       "      <td>TPE</td>\n",
       "      <td>1</td>\n",
       "    </tr>\n",
       "    <tr>\n",
       "      <th>16</th>\n",
       "      <td>2</td>\n",
       "      <td>Trig</td>\n",
       "      <td>0.790944</td>\n",
       "      <td>0.050474</td>\n",
       "      <td>TPE</td>\n",
       "      <td>1</td>\n",
       "    </tr>\n",
       "    <tr>\n",
       "      <th>17</th>\n",
       "      <td>2</td>\n",
       "      <td>Trig</td>\n",
       "      <td>0.823384</td>\n",
       "      <td>0.055666</td>\n",
       "      <td>TPE</td>\n",
       "      <td>1</td>\n",
       "    </tr>\n",
       "    <tr>\n",
       "      <th>18</th>\n",
       "      <td>2</td>\n",
       "      <td>Trig</td>\n",
       "      <td>0.819335</td>\n",
       "      <td>0.053941</td>\n",
       "      <td>TPE</td>\n",
       "      <td>1</td>\n",
       "    </tr>\n",
       "    <tr>\n",
       "      <th>19</th>\n",
       "      <td>2</td>\n",
       "      <td>Trig</td>\n",
       "      <td>0.826783</td>\n",
       "      <td>0.049464</td>\n",
       "      <td>TPE</td>\n",
       "      <td>1</td>\n",
       "    </tr>\n",
       "    <tr>\n",
       "      <th>20</th>\n",
       "      <td>2</td>\n",
       "      <td>Trig</td>\n",
       "      <td>0.653385</td>\n",
       "      <td>0.132363</td>\n",
       "      <td>CmaEs</td>\n",
       "      <td>2</td>\n",
       "    </tr>\n",
       "    <tr>\n",
       "      <th>21</th>\n",
       "      <td>2</td>\n",
       "      <td>Trig</td>\n",
       "      <td>0.636496</td>\n",
       "      <td>0.131555</td>\n",
       "      <td>CmaEs</td>\n",
       "      <td>2</td>\n",
       "    </tr>\n",
       "    <tr>\n",
       "      <th>22</th>\n",
       "      <td>2</td>\n",
       "      <td>Trig</td>\n",
       "      <td>0.669906</td>\n",
       "      <td>0.124535</td>\n",
       "      <td>CmaEs</td>\n",
       "      <td>2</td>\n",
       "    </tr>\n",
       "    <tr>\n",
       "      <th>23</th>\n",
       "      <td>2</td>\n",
       "      <td>Trig</td>\n",
       "      <td>0.683066</td>\n",
       "      <td>0.125591</td>\n",
       "      <td>CmaEs</td>\n",
       "      <td>2</td>\n",
       "    </tr>\n",
       "    <tr>\n",
       "      <th>24</th>\n",
       "      <td>2</td>\n",
       "      <td>Trig</td>\n",
       "      <td>0.618900</td>\n",
       "      <td>0.146528</td>\n",
       "      <td>CmaEs</td>\n",
       "      <td>2</td>\n",
       "    </tr>\n",
       "    <tr>\n",
       "      <th>25</th>\n",
       "      <td>2</td>\n",
       "      <td>Trig</td>\n",
       "      <td>0.680508</td>\n",
       "      <td>0.125825</td>\n",
       "      <td>CmaEs</td>\n",
       "      <td>2</td>\n",
       "    </tr>\n",
       "    <tr>\n",
       "      <th>26</th>\n",
       "      <td>2</td>\n",
       "      <td>Trig</td>\n",
       "      <td>0.644674</td>\n",
       "      <td>0.126229</td>\n",
       "      <td>CmaEs</td>\n",
       "      <td>2</td>\n",
       "    </tr>\n",
       "    <tr>\n",
       "      <th>27</th>\n",
       "      <td>2</td>\n",
       "      <td>Trig</td>\n",
       "      <td>0.644731</td>\n",
       "      <td>0.245624</td>\n",
       "      <td>CmaEs</td>\n",
       "      <td>2</td>\n",
       "    </tr>\n",
       "    <tr>\n",
       "      <th>28</th>\n",
       "      <td>2</td>\n",
       "      <td>Trig</td>\n",
       "      <td>0.647646</td>\n",
       "      <td>0.142910</td>\n",
       "      <td>CmaEs</td>\n",
       "      <td>2</td>\n",
       "    </tr>\n",
       "    <tr>\n",
       "      <th>29</th>\n",
       "      <td>2</td>\n",
       "      <td>Trig</td>\n",
       "      <td>0.638764</td>\n",
       "      <td>0.114715</td>\n",
       "      <td>CmaEs</td>\n",
       "      <td>2</td>\n",
       "    </tr>\n",
       "  </tbody>\n",
       "</table>\n",
       "</div>"
      ],
      "text/plain": [
       "    number of parameters type of function  accuracy [max/mean]  time [s]  \\\n",
       "0                      2             Trig             0.805239  0.074336   \n",
       "1                      2             Trig             0.787891  0.050790   \n",
       "2                      2             Trig             0.790462  0.066809   \n",
       "3                      2             Trig             0.866317  0.053579   \n",
       "4                      2             Trig             0.844411  0.050650   \n",
       "5                      2             Trig             0.829250  0.045677   \n",
       "6                      2             Trig             0.832084  0.052770   \n",
       "7                      2             Trig             0.858530  0.049329   \n",
       "8                      2             Trig             0.814655  0.058481   \n",
       "9                      2             Trig             0.858295  0.046367   \n",
       "10                     2             Trig             0.817984  0.052295   \n",
       "11                     2             Trig             0.802809  0.079555   \n",
       "12                     2             Trig             0.851575  0.074838   \n",
       "13                     2             Trig             0.804834  0.094903   \n",
       "14                     2             Trig             0.820749  0.052341   \n",
       "15                     2             Trig             0.823457  0.057383   \n",
       "16                     2             Trig             0.790944  0.050474   \n",
       "17                     2             Trig             0.823384  0.055666   \n",
       "18                     2             Trig             0.819335  0.053941   \n",
       "19                     2             Trig             0.826783  0.049464   \n",
       "20                     2             Trig             0.653385  0.132363   \n",
       "21                     2             Trig             0.636496  0.131555   \n",
       "22                     2             Trig             0.669906  0.124535   \n",
       "23                     2             Trig             0.683066  0.125591   \n",
       "24                     2             Trig             0.618900  0.146528   \n",
       "25                     2             Trig             0.680508  0.125825   \n",
       "26                     2             Trig             0.644674  0.126229   \n",
       "27                     2             Trig             0.644731  0.245624   \n",
       "28                     2             Trig             0.647646  0.142910   \n",
       "29                     2             Trig             0.638764  0.114715   \n",
       "\n",
       "   type_of_opt  assigned_class  \n",
       "0       Random               0  \n",
       "1       Random               0  \n",
       "2       Random               0  \n",
       "3       Random               0  \n",
       "4       Random               0  \n",
       "5       Random               0  \n",
       "6       Random               0  \n",
       "7       Random               0  \n",
       "8       Random               0  \n",
       "9       Random               0  \n",
       "10         TPE               1  \n",
       "11         TPE               1  \n",
       "12         TPE               1  \n",
       "13         TPE               1  \n",
       "14         TPE               1  \n",
       "15         TPE               1  \n",
       "16         TPE               1  \n",
       "17         TPE               1  \n",
       "18         TPE               1  \n",
       "19         TPE               1  \n",
       "20       CmaEs               2  \n",
       "21       CmaEs               2  \n",
       "22       CmaEs               2  \n",
       "23       CmaEs               2  \n",
       "24       CmaEs               2  \n",
       "25       CmaEs               2  \n",
       "26       CmaEs               2  \n",
       "27       CmaEs               2  \n",
       "28       CmaEs               2  \n",
       "29       CmaEs               2  "
      ]
     },
     "execution_count": 9,
     "metadata": {},
     "output_type": "execute_result"
    }
   ],
   "source": [
    "df"
   ]
  },
  {
   "cell_type": "code",
   "execution_count": 5,
   "id": "unavailable-scholar",
   "metadata": {},
   "outputs": [
    {
     "name": "stdout",
     "output_type": "stream",
     "text": [
      "30\n",
      "   number of parameters type of function  accuracy [max/mean]  time [s]  \\\n",
      "0                     2             Trig             0.805239  0.074336   \n",
      "1                     2             Trig             0.787891  0.050790   \n",
      "2                     2             Trig             0.790462  0.066809   \n",
      "3                     2             Trig             0.866317  0.053579   \n",
      "4                     2             Trig             0.844411  0.050650   \n",
      "\n",
      "  type_of_opt  assigned_class  \n",
      "0      Random               0  \n",
      "1      Random               0  \n",
      "2      Random               0  \n",
      "3      Random               0  \n",
      "4      Random               0  \n"
     ]
    }
   ],
   "source": [
    "print(len(df))\n",
    "print(df.head())"
   ]
  },
  {
   "cell_type": "code",
   "execution_count": 8,
   "id": "returning-hawaiian",
   "metadata": {},
   "outputs": [],
   "source": [
    "# replace zeroes\n",
    "zero_not_accepted = ['number of parameters', 'type of function', 'accuracy [max/mean]', 'time [s]', 'type_of_opt']\n",
    "\n",
    "for column in zero_not_accepted:\n",
    "    df[column] = df[column].replace(0, np.NaN)\n",
    "    "
   ]
  },
  {
   "cell_type": "code",
   "execution_count": null,
   "id": "moving-convenience",
   "metadata": {},
   "outputs": [],
   "source": []
  },
  {
   "cell_type": "code",
   "execution_count": 31,
   "id": "senior-cream",
   "metadata": {},
   "outputs": [],
   "source": [
    "# split dataset\n",
    "# X = df.iloc[:,0:6]\n",
    "# y = df.iloc[:,5:6]\n",
    "#X_train, X_test, y_train, y_test = train_test_split(X, y, random_state=0, test_size=0.2)"
   ]
  },
  {
   "cell_type": "code",
   "execution_count": 28,
   "id": "measured-interview",
   "metadata": {},
   "outputs": [
    {
     "name": "stdout",
     "output_type": "stream",
     "text": [
      "30\n"
     ]
    }
   ],
   "source": [
    "X = df[['accuracy [max/mean]','time [s]']]\n",
    "y = df['assigned_class']\n",
    "\n",
    "print(len(y))"
   ]
  },
  {
   "cell_type": "code",
   "execution_count": 49,
   "id": "parallel-essex",
   "metadata": {},
   "outputs": [
    {
     "name": "stdout",
     "output_type": "stream",
     "text": [
      "24 6\n"
     ]
    }
   ],
   "source": [
    "# split the dataset\n",
    "X_train, X_test, y_train, y_test = train_test_split(X, y, test_size=0.2, random_state=14) #14 is seed\n",
    "\n",
    "print(len(y_train), len(y_test))"
   ]
  },
  {
   "cell_type": "code",
   "execution_count": null,
   "id": "failing-finger",
   "metadata": {},
   "outputs": [],
   "source": []
  },
  {
   "cell_type": "code",
   "execution_count": null,
   "id": "beginning-technology",
   "metadata": {},
   "outputs": [],
   "source": []
  },
  {
   "cell_type": "code",
   "execution_count": 50,
   "id": "corrected-selling",
   "metadata": {},
   "outputs": [],
   "source": [
    "#Feature scaling\n",
    "sc_X = StandardScaler()\n",
    "X_train = sc_X.fit_transform(X_train)\n",
    "X_test = sc_X.transform(X_test)"
   ]
  },
  {
   "cell_type": "code",
   "execution_count": 52,
   "id": "provincial-egyptian",
   "metadata": {},
   "outputs": [],
   "source": [
    "K_neighbors = 1"
   ]
  },
  {
   "cell_type": "code",
   "execution_count": 51,
   "id": "earlier-cooling",
   "metadata": {},
   "outputs": [
    {
     "data": {
      "text/plain": [
       "KNeighborsClassifier(n_neighbors=1, weights='distance')"
      ]
     },
     "execution_count": 51,
     "metadata": {},
     "output_type": "execute_result"
    }
   ],
   "source": [
    "#Define the model: Init K-NN\n",
    "# We create an instance of Neighbours Classifier and fit it to the training data.\n",
    "# if you set weights = 'distance' here you will have a weighted KNN classifier\n",
    "clf = neighbors.KNeighborsClassifier(K_neighbors, weights='distance')\n",
    "\n",
    "# Here we fit it to the data - it figures out the classes and \n",
    "# which training X points belong to each class in Y \n",
    "clf.fit(X, y)"
   ]
  },
  {
   "cell_type": "code",
   "execution_count": null,
   "id": "sudden-heritage",
   "metadata": {},
   "outputs": [],
   "source": []
  },
  {
   "cell_type": "code",
   "execution_count": 43,
   "id": "based-female",
   "metadata": {},
   "outputs": [
    {
     "name": "stdout",
     "output_type": "stream",
     "text": [
      "[0 1 2] euclidean 30\n"
     ]
    }
   ],
   "source": [
    "print(clf.classes_, clf.effective_metric_, clf.n_samples_fit_)"
   ]
  },
  {
   "cell_type": "code",
   "execution_count": 55,
   "id": "adverse-monroe",
   "metadata": {},
   "outputs": [
    {
     "name": "stdout",
     "output_type": "stream",
     "text": [
      "predicted classes [2 0 0 0 2 0]\n",
      "KNN probability of belonging to class [[0. 0. 1.]\n",
      " [1. 0. 0.]\n",
      " [1. 0. 0.]\n",
      " [1. 0. 0.]\n",
      " [0. 0. 1.]\n",
      " [1. 0. 0.]]\n",
      "Mean accuracy of prediction 0.5\n"
     ]
    }
   ],
   "source": [
    "# Predict the test set results\n",
    "y_test_predicted = clf.predict(X_test)\n",
    "y_test_probabilities = clf.predict_proba(X_test)\n",
    "mean_accuracy = clf.score(X_test, y_test)\n",
    "\n",
    "print(\"predicted classes\", y_test_predicted)\n",
    "print(\"KNN probability of belonging to class\",y_test_probabilities)\n",
    "print(\"Mean accuracy of prediction\", mean_accuracy)\n"
   ]
  },
  {
   "cell_type": "code",
   "execution_count": 45,
   "id": "removable-arlington",
   "metadata": {},
   "outputs": [
    {
     "data": {
      "text/plain": [
       "array([-1.66959331,  0.31666277,  0.57519774, -1.3532662 ,  0.64890474,\n",
       "        0.16757952,  0.46550905,  0.54208235, -1.1879093 , -1.56086229,\n",
       "        0.12922297, -1.74457692,  0.68450867,  0.83939896,  0.52431679,\n",
       "        0.61790685,  1.01384948,  1.01680349, -1.22004846,  1.11465092,\n",
       "        0.34719989, -1.77306413,  0.57611641,  0.92941002])"
      ]
     },
     "execution_count": 45,
     "metadata": {},
     "output_type": "execute_result"
    }
   ],
   "source": [
    "X_train[:,0]"
   ]
  },
  {
   "cell_type": "code",
   "execution_count": 54,
   "id": "loaded-round",
   "metadata": {},
   "outputs": [
    {
     "name": "stdout",
     "output_type": "stream",
     "text": [
      "[[1 0 2]\n",
      " [0 0 2]\n",
      " [0 0 1]]\n"
     ]
    }
   ],
   "source": [
    "# Evaluate Model\n",
    "cm = confusion_matrix(y_test, y_test_predicted)\n",
    "print(cm)"
   ]
  },
  {
   "cell_type": "code",
   "execution_count": null,
   "id": "experienced-counter",
   "metadata": {},
   "outputs": [],
   "source": []
  },
  {
   "cell_type": "code",
   "execution_count": 60,
   "id": "stone-ethernet",
   "metadata": {},
   "outputs": [
    {
     "ename": "IndexError",
     "evalue": "only integers, slices (`:`), ellipsis (`...`), numpy.newaxis (`None`) and integer or boolean arrays are valid indices",
     "output_type": "error",
     "traceback": [
      "\u001b[0;31m---------------------------------------------------------------------------\u001b[0m",
      "\u001b[0;31mIndexError\u001b[0m                                Traceback (most recent call last)",
      "\u001b[0;32m<ipython-input-60-e957ec40d940>\u001b[0m in \u001b[0;36m<module>\u001b[0;34m\u001b[0m\n\u001b[1;32m      1\u001b[0m \u001b[0mfig\u001b[0m \u001b[0;34m=\u001b[0m \u001b[0mplt\u001b[0m\u001b[0;34m.\u001b[0m\u001b[0mfigure\u001b[0m\u001b[0;34m(\u001b[0m\u001b[0mfigsize\u001b[0m\u001b[0;34m=\u001b[0m\u001b[0;34m(\u001b[0m\u001b[0;36m8\u001b[0m\u001b[0;34m,\u001b[0m\u001b[0;36m8\u001b[0m\u001b[0;34m)\u001b[0m\u001b[0;34m)\u001b[0m\u001b[0;34m\u001b[0m\u001b[0;34m\u001b[0m\u001b[0m\n\u001b[1;32m      2\u001b[0m \u001b[0max\u001b[0m \u001b[0;34m=\u001b[0m \u001b[0mfig\u001b[0m\u001b[0;34m.\u001b[0m\u001b[0madd_subplot\u001b[0m\u001b[0;34m(\u001b[0m\u001b[0;36m111\u001b[0m\u001b[0;34m,\u001b[0m \u001b[0mprojection\u001b[0m\u001b[0;34m=\u001b[0m\u001b[0;34m'3d'\u001b[0m\u001b[0;34m)\u001b[0m\u001b[0;34m\u001b[0m\u001b[0;34m\u001b[0m\u001b[0m\n\u001b[0;32m----> 3\u001b[0;31m \u001b[0max\u001b[0m\u001b[0;34m.\u001b[0m\u001b[0mscatter\u001b[0m\u001b[0;34m(\u001b[0m\u001b[0mX_train\u001b[0m\u001b[0;34m[\u001b[0m\u001b[0;34m'accuracy [max/mean]'\u001b[0m\u001b[0;34m]\u001b[0m\u001b[0;34m,\u001b[0m\u001b[0mX_train\u001b[0m\u001b[0;34m[\u001b[0m\u001b[0;34m'time [s]'\u001b[0m\u001b[0;34m]\u001b[0m\u001b[0;34m,\u001b[0m\u001b[0my_train\u001b[0m\u001b[0;34m)\u001b[0m\u001b[0;34m\u001b[0m\u001b[0;34m\u001b[0m\u001b[0m\n\u001b[0m",
      "\u001b[0;31mIndexError\u001b[0m: only integers, slices (`:`), ellipsis (`...`), numpy.newaxis (`None`) and integer or boolean arrays are valid indices"
     ]
    },
    {
     "data": {
      "image/png": "[encoded data removed]",
      "text/plain": [
       "<Figure size 576x576 with 1 Axes>"
      ]
     },
     "metadata": {
      "needs_background": "light"
     },
     "output_type": "display_data"
    }
   ],
   "source": [
    "fig = plt.figure(figsize=(8,8))\n",
    "ax = fig.add_subplot(111, projection='3d')\n",
    "ax.scatter(X_train['accuracy [max/mean]'],X_train['time [s]'],y_train)"
   ]
  },
  {
   "cell_type": "code",
   "execution_count": null,
   "id": "sonic-final",
   "metadata": {},
   "outputs": [],
   "source": [
    "# classifier = KNeighborsClassifier(n_neighbors=1, p=2, metric='euclidean')"
   ]
  },
  {
   "cell_type": "code",
   "execution_count": null,
   "id": "suffering-condition",
   "metadata": {},
   "outputs": [],
   "source": []
  },
  {
   "cell_type": "code",
   "execution_count": 61,
   "id": "agricultural-treasurer",
   "metadata": {},
   "outputs": [],
   "source": [
    "# Create color maps\n"
   ]
  },
  {
   "cell_type": "code",
   "execution_count": null,
   "id": "given-fever",
   "metadata": {},
   "outputs": [],
   "source": []
  },
  {
   "cell_type": "code",
   "execution_count": null,
   "id": "supposed-cincinnati",
   "metadata": {},
   "outputs": [],
   "source": []
  }
 ],
 "metadata": {
  "kernelspec": {
   "display_name": "Python 3",
   "language": "python",
   "name": "python3"
  },
  "language_info": {
   "codemirror_mode": {
    "name": "ipython",
    "version": 3
   },
   "file_extension": ".py",
   "mimetype": "text/x-python",
   "name": "python",
   "nbconvert_exporter": "python",
   "pygments_lexer": "ipython3",
   "version": "3.8.8"
  }
 },
 "nbformat": 4,
 "nbformat_minor": 5
}
