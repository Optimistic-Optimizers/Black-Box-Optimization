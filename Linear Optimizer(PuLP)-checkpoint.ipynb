{
 "cells": [
  {
   "cell_type": "code",
   "execution_count": 22,
   "id": "found-combining",
   "metadata": {},
   "outputs": [],
   "source": [
    "from pulp import LpMinimize, LpProblem, LpStatus, lpSum, LpVariable\n",
    "import numpy as np"
   ]
  },
  {
   "cell_type": "code",
   "execution_count": 2,
   "id": "threatened-missouri",
   "metadata": {},
   "outputs": [],
   "source": [
    "#Z = 80*C - 2*8.314*T\n"
   ]
  },
  {
   "cell_type": "code",
   "execution_count": 23,
   "id": "referenced-detective",
   "metadata": {},
   "outputs": [],
   "source": [
    "model = LpProblem(name='small-problem', sense=LpMinimize)"
   ]
  },
  {
   "cell_type": "code",
   "execution_count": 24,
   "id": "respected-belize",
   "metadata": {},
   "outputs": [],
   "source": [
    "T = LpVariable(name=\"T\", lowBound=0)\n",
    "C = LpVariable(name=\"C\", lowBound=0)"
   ]
  },
  {
   "cell_type": "code",
   "execution_count": 25,
   "id": "honey-proportion",
   "metadata": {},
   "outputs": [],
   "source": [
    "model += (2 * T + C <= 20, \"red_constraint\")\n",
    "model += (4 * T - 5 * C >= -10, \"blue_constraint\")\n",
    "model += (-T + 2 * C >= -2, \"yellow_constraint\")\n",
    "model += (-T + 5 * C == 15, \"green_constraint\")"
   ]
  },
  {
   "cell_type": "code",
   "execution_count": 26,
   "id": "biblical-header",
   "metadata": {},
   "outputs": [],
   "source": [
    "obj_func = 80*C - 2*8.314*T\n",
    "model += obj_func"
   ]
  },
  {
   "cell_type": "code",
   "execution_count": 27,
   "id": "chronic-cradle",
   "metadata": {},
   "outputs": [
    {
     "data": {
      "text/plain": [
       "small-problem:\n",
       "MINIMIZE\n",
       "80*C + -16.628*T + 0.0\n",
       "SUBJECT TO\n",
       "red_constraint: C + 2 T <= 20\n",
       "\n",
       "blue_constraint: - 5 C + 4 T >= -10\n",
       "\n",
       "yellow_constraint: 2 C - T >= -2\n",
       "\n",
       "green_constraint: 5 C - T = 15\n",
       "\n",
       "VARIABLES\n",
       "C Continuous\n",
       "T Continuous"
      ]
     },
     "execution_count": 27,
     "metadata": {},
     "output_type": "execute_result"
    }
   ],
   "source": [
    "model"
   ]
  },
  {
   "cell_type": "code",
   "execution_count": 28,
   "id": "spread-couple",
   "metadata": {},
   "outputs": [],
   "source": [
    "status = model.solve()"
   ]
  },
  {
   "cell_type": "code",
   "execution_count": 30,
   "id": "internal-letters",
   "metadata": {},
   "outputs": [
    {
     "name": "stdout",
     "output_type": "stream",
     "text": [
      "status: 1, Optimal\n",
      "objective: 235.14726954439996\n",
      "C: 4.5454545\n",
      "T: 7.7272727\n",
      "red_constraint: -9.99999993922529e-08\n",
      "blue_constraint: 18.181818300000003\n",
      "yellow_constraint: 3.3636362999999996\n",
      "green_constraint: -2.0000000233721948e-07\n"
     ]
    }
   ],
   "source": [
    "print(f\"status: {model.status}, {LpStatus[model.status]}\")\n",
    "\n",
    "print(f\"objective: {model.objective.value()}\")\n",
    "\n",
    "for var in model.variables():\n",
    "    print(f\"{var.name}: {var.value()}\")\n",
    "    \n",
    "for name, constraint in model.constraints.items():\n",
    "    print(f\"{name}: {constraint.value()}\")    "
   ]
  }
 ],
 "metadata": {
  "kernelspec": {
   "display_name": "Python 3",
   "language": "python",
   "name": "python3"
  },
  "language_info": {
   "codemirror_mode": {
    "name": "ipython",
    "version": 3
   },
   "file_extension": ".py",
   "mimetype": "text/x-python",
   "name": "python",
   "nbconvert_exporter": "python",
   "pygments_lexer": "ipython3",
   "version": "3.8.5"
  }
 },
 "nbformat": 4,
 "nbformat_minor": 5
}
