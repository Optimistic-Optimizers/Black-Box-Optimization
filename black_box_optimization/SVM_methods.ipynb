{
 "cells": [
  {
   "cell_type": "code",
   "execution_count": 1,
   "id": "sticky-essay",
   "metadata": {},
   "outputs": [],
   "source": [
    "import numpy as np\n",
    "import pandas as pd\n",
    "import seaborn as sns\n",
    "\n",
    "import sklearn\n",
    "from sklearn import neighbors, datasets, svm\n",
    "from sklearn.model_selection import train_test_split, cross_val_score\n",
    "from sklearn.preprocessing import StandardScaler, MinMaxScaler\n",
    "from sklearn.neighbors import KNeighborsClassifier\n",
    "from sklearn.metrics import confusion_matrix\n",
    "from sklearn.metrics import f1_score\n",
    "from sklearn.metrics import accuracy_score\n",
    "\n",
    "import matplotlib\n",
    "#matplotlib.use('GTKAgg')\n",
    "import matplotlib.pyplot as plt\n",
    "from matplotlib import cm\n",
    "from matplotlib.colors import ListedColormap\n",
    "%matplotlib inline\n",
    "matplotlib.rcParams.update({'font.size': 18})"
   ]
  },
  {
   "cell_type": "markdown",
   "id": "demanding-vermont",
   "metadata": {},
   "source": [
    "Support vector Machine (SVM) algorithm creates a line or a hyperplace which separates the data into classes. "
   ]
  },
  {
   "cell_type": "code",
   "execution_count": 2,
   "id": "surprised-worship",
   "metadata": {},
   "outputs": [
    {
     "name": "stderr",
     "output_type": "stream",
     "text": [
      "<ipython-input-2-36f5b1f1bff7>:1: FutureWarning: Your version of xlrd is 1.2.0. In xlrd >= 2.0, only the xls format is supported. As a result, the openpyxl engine will be used if it is installed and the engine argument is not specified. Install openpyxl instead.\n",
      "  df = pd.read_excel ('data/All Data combined.xlsx')\n"
     ]
    }
   ],
   "source": [
    "df = pd.read_excel ('data/All Data combined.xlsx')"
   ]
  },
  {
   "cell_type": "code",
   "execution_count": 16,
   "id": "fitting-tamil",
   "metadata": {},
   "outputs": [
    {
     "name": "stdout",
     "output_type": "stream",
     "text": [
      "1500\n"
     ]
    }
   ],
   "source": [
    "X = df[['number of trials','accuracy [calc. max/ actual max]','time per trial [s]']]\n",
    "y = df['type_of_opt']\n",
    "\n",
    "print(len(y))"
   ]
  },
  {
   "cell_type": "code",
   "execution_count": 17,
   "id": "technical-stereo",
   "metadata": {},
   "outputs": [
    {
     "name": "stdout",
     "output_type": "stream",
     "text": [
      "1200 300\n"
     ]
    }
   ],
   "source": [
    "# split the dataset\n",
    "X_train, X_test, y_train, y_test = train_test_split(X, y, test_size=0.2, random_state=14) #14 is seed\n",
    "\n",
    "print(len(y_train), len(y_test))"
   ]
  },
  {
   "cell_type": "code",
   "execution_count": null,
   "id": "religious-baptist",
   "metadata": {},
   "outputs": [],
   "source": []
  },
  {
   "cell_type": "code",
   "execution_count": 9,
   "id": "early-bottom",
   "metadata": {},
   "outputs": [
    {
     "data": {
      "text/plain": [
       "{'mean_fit_time': array([ 0.13582444, 10.46857543,  0.1405334 , 11.1163065 ,  0.14903736,\n",
       "        11.97170119,  0.14297781, 12.31560469,  0.16611037, 14.33282175,\n",
       "         0.16724892, 15.40260129,  0.18066616, 15.3027514 ]),\n",
       " 'std_fit_time': array([0.0116499 , 0.7878376 , 0.01071964, 1.74418747, 0.01676827,\n",
       "        1.02258521, 0.01442362, 1.23300106, 0.01684041, 0.64861898,\n",
       "        0.01715262, 1.1608674 , 0.01643952, 1.6129455 ]),\n",
       " 'mean_score_time': array([0.02484527, 0.00756669, 0.02519393, 0.00744367, 0.02397609,\n",
       "        0.00719914, 0.02293544, 0.00724764, 0.025734  , 0.00775943,\n",
       "        0.02617965, 0.00800576, 0.02546148, 0.00767121]),\n",
       " 'std_score_time': array([9.65341636e-04, 8.09658500e-04, 2.16478174e-03, 3.26708381e-04,\n",
       "        1.17183230e-03, 8.11023613e-05, 5.76599911e-04, 5.13514156e-04,\n",
       "        1.05021666e-03, 5.64275453e-04, 1.14756179e-03, 2.53154486e-04,\n",
       "        3.52298781e-04, 2.47042360e-04]),\n",
       " 'param_C': masked_array(data=[700, 700, 800, 800, 900, 900, 1000, 1000, 1100, 1100,\n",
       "                    1200, 1200, 1300, 1300],\n",
       "              mask=[False, False, False, False, False, False, False, False,\n",
       "                    False, False, False, False, False, False],\n",
       "        fill_value='?',\n",
       "             dtype=object),\n",
       " 'param_kernel': masked_array(data=['rbf', 'linear', 'rbf', 'linear', 'rbf', 'linear',\n",
       "                    'rbf', 'linear', 'rbf', 'linear', 'rbf', 'linear',\n",
       "                    'rbf', 'linear'],\n",
       "              mask=[False, False, False, False, False, False, False, False,\n",
       "                    False, False, False, False, False, False],\n",
       "        fill_value='?',\n",
       "             dtype=object),\n",
       " 'params': [{'C': 700, 'kernel': 'rbf'},\n",
       "  {'C': 700, 'kernel': 'linear'},\n",
       "  {'C': 800, 'kernel': 'rbf'},\n",
       "  {'C': 800, 'kernel': 'linear'},\n",
       "  {'C': 900, 'kernel': 'rbf'},\n",
       "  {'C': 900, 'kernel': 'linear'},\n",
       "  {'C': 1000, 'kernel': 'rbf'},\n",
       "  {'C': 1000, 'kernel': 'linear'},\n",
       "  {'C': 1100, 'kernel': 'rbf'},\n",
       "  {'C': 1100, 'kernel': 'linear'},\n",
       "  {'C': 1200, 'kernel': 'rbf'},\n",
       "  {'C': 1200, 'kernel': 'linear'},\n",
       "  {'C': 1300, 'kernel': 'rbf'},\n",
       "  {'C': 1300, 'kernel': 'linear'}],\n",
       " 'split0_test_score': array([0.52      , 0.68333333, 0.52333333, 0.67666667, 0.54333333,\n",
       "        0.68      , 0.55333333, 0.68      , 0.55333333, 0.68333333,\n",
       "        0.55333333, 0.68333333, 0.54666667, 0.68333333]),\n",
       " 'split1_test_score': array([0.58333333, 0.66666667, 0.59      , 0.66333333, 0.59      ,\n",
       "        0.65666667, 0.58      , 0.65666667, 0.58333333, 0.65666667,\n",
       "        0.58      , 0.66      , 0.58666667, 0.66      ]),\n",
       " 'split2_test_score': array([0.52666667, 0.63      , 0.52666667, 0.63666667, 0.53333333,\n",
       "        0.64666667, 0.53333333, 0.64      , 0.53      , 0.64333333,\n",
       "        0.53666667, 0.64333333, 0.54      , 0.64      ]),\n",
       " 'split3_test_score': array([0.57      , 0.60666667, 0.57      , 0.61      , 0.57666667,\n",
       "        0.60666667, 0.58      , 0.61      , 0.58      , 0.61      ,\n",
       "        0.58      , 0.61333333, 0.58333333, 0.61666667]),\n",
       " 'split4_test_score': array([0.53      , 0.60333333, 0.53333333, 0.60666667, 0.53333333,\n",
       "        0.62      , 0.53333333, 0.62      , 0.53666667, 0.63      ,\n",
       "        0.54333333, 0.62666667, 0.54666667, 0.63333333]),\n",
       " 'mean_test_score': array([0.546     , 0.638     , 0.54866667, 0.63866667, 0.55533333,\n",
       "        0.642     , 0.556     , 0.64133333, 0.55666667, 0.64466667,\n",
       "        0.55866667, 0.64533333, 0.56066667, 0.64666667]),\n",
       " 'std_test_score': array([0.02559514, 0.03201389, 0.02654974, 0.02793644, 0.02353248,\n",
       "        0.02612789, 0.02091252, 0.02517494, 0.02180724, 0.02472965,\n",
       "        0.01820867, 0.02463962, 0.0200444 , 0.02299758]),\n",
       " 'rank_test_score': array([14,  7, 13,  6, 12,  4, 11,  5, 10,  3,  9,  2,  8,  1],\n",
       "       dtype=int32),\n",
       " 'split0_train_score': array([0.6725    , 0.6575    , 0.68083333, 0.6575    , 0.68666667,\n",
       "        0.6575    , 0.69083333, 0.66166667, 0.69666667, 0.66583333,\n",
       "        0.69916667, 0.66416667, 0.7       , 0.66833333]),\n",
       " 'split1_train_score': array([0.67583333, 0.67666667, 0.67916667, 0.67916667, 0.68083333,\n",
       "        0.68      , 0.68583333, 0.68416667, 0.685     , 0.68583333,\n",
       "        0.68583333, 0.68666667, 0.68916667, 0.685     ]),\n",
       " 'split2_train_score': array([0.68      , 0.67333333, 0.6875    , 0.6775    , 0.68916667,\n",
       "        0.68      , 0.6975    , 0.68166667, 0.71083333, 0.67916667,\n",
       "        0.71333333, 0.68083333, 0.71166667, 0.68166667]),\n",
       " 'split3_train_score': array([0.665     , 0.68583333, 0.66833333, 0.68833333, 0.67666667,\n",
       "        0.69416667, 0.68083333, 0.6975    , 0.68166667, 0.69666667,\n",
       "        0.68583333, 0.69666667, 0.68833333, 0.695     ]),\n",
       " 'split4_train_score': array([0.67666667, 0.65333333, 0.685     , 0.65833333, 0.6875    ,\n",
       "        0.6575    , 0.69333333, 0.6575    , 0.69916667, 0.65833333,\n",
       "        0.7025    , 0.65833333, 0.70916667, 0.6575    ]),\n",
       " 'mean_train_score': array([0.674     , 0.66933333, 0.68016667, 0.67216667, 0.68416667,\n",
       "        0.67383333, 0.68966667, 0.6765    , 0.69466667, 0.67716667,\n",
       "        0.69733333, 0.67733333, 0.69966667, 0.6775    ]),\n",
       " 'std_train_score': array([0.00509357, 0.01214953, 0.00661228, 0.01220883, 0.00468449,\n",
       "        0.01430423, 0.00581187, 0.01488288, 0.01046953, 0.01372953,\n",
       "        0.01049338, 0.01419507, 0.00972682, 0.0131445 ])}"
      ]
     },
     "execution_count": 9,
     "metadata": {},
     "output_type": "execute_result"
    }
   ],
   "source": [
    "from sklearn.model_selection import GridSearchCV\n",
    "\n",
    "clf = GridSearchCV(svm.SVC(gamma='auto'), {\n",
    "    'C': [700,800,900,1000,1100,1200,1300],\n",
    "    'kernel':['rbf','linear']\n",
    "}, cv=5, return_train_score=True)\n",
    "\n",
    "clf.fit(X,df['type_of_opt'])\n",
    "clf.cv_results_"
   ]
  },
  {
   "cell_type": "code",
   "execution_count": 10,
   "id": "major-belly",
   "metadata": {},
   "outputs": [
    {
     "data": {
      "text/plain": [
       "0.6466666666666667"
      ]
     },
     "execution_count": 10,
     "metadata": {},
     "output_type": "execute_result"
    }
   ],
   "source": [
    "clf.best_score_"
   ]
  },
  {
   "cell_type": "code",
   "execution_count": 11,
   "id": "middle-youth",
   "metadata": {},
   "outputs": [
    {
     "data": {
      "text/plain": [
       "{'C': 1300, 'kernel': 'linear'}"
      ]
     },
     "execution_count": 11,
     "metadata": {},
     "output_type": "execute_result"
    }
   ],
   "source": [
    "clf.best_params_"
   ]
  },
  {
   "cell_type": "code",
   "execution_count": 32,
   "id": "continental-pregnancy",
   "metadata": {},
   "outputs": [],
   "source": [
    "model = svm.SVC(kernel='linear',C=3000,gamma='auto')\n",
    "model.fit(X_train,y_train)\n",
    "model.score(X_test, y_test)\n",
    "y_1_test_predicted = model.predict(X_test)\n"
   ]
  },
  {
   "cell_type": "code",
   "execution_count": 25,
   "id": "primary-gather",
   "metadata": {},
   "outputs": [
    {
     "data": {
      "text/plain": [
       "0.7366666666666667"
      ]
     },
     "execution_count": 25,
     "metadata": {},
     "output_type": "execute_result"
    }
   ],
   "source": [
    "model.score(X_test, y_test)"
   ]
  },
  {
   "cell_type": "code",
   "execution_count": null,
   "id": "distributed-corner",
   "metadata": {},
   "outputs": [],
   "source": []
  },
  {
   "cell_type": "code",
   "execution_count": null,
   "id": "bright-grave",
   "metadata": {},
   "outputs": [
    {
     "name": "stderr",
     "output_type": "stream",
     "text": [
      "/Users/saleksegid/miniconda3/lib/python3.8/site-packages/sklearn/model_selection/_search.py:285: UserWarning: The total space of parameters 8 is smaller than n_iter=21. Running 8 iterations. For exhaustive searches, use GridSearchCV.\n",
      "  warnings.warn(\n"
     ]
    }
   ],
   "source": [
    "from sklearn.model_selection import RandomizedSearchCV\n",
    "rs = RandomizedSearchCV(svm.SVC(gamma='auto'), {\n",
    "        'C': [1000,1500,2000,2500],\n",
    "        'kernel':['rbf','linear']\n",
    "    },\n",
    "    cv=5, #cross validation\n",
    "    return_train_score=False,\n",
    "    n_iter=21\n",
    ")\n",
    "rs.fit(X, df['type_of_opt'])\n",
    "pd.DataFrame(rs.cv_results_)[['param_C','param_kernel','mean_test_score']]"
   ]
  },
  {
   "cell_type": "code",
   "execution_count": 5,
   "id": "classified-database",
   "metadata": {},
   "outputs": [],
   "source": [
    "from sklearn import svm\n",
    "from sklearn.ensemble import RandomForestClassifier\n",
    "from sklearn.linear_model import LogisticRegression"
   ]
  },
  {
   "cell_type": "markdown",
   "id": "utility-tablet",
   "metadata": {},
   "source": [
    "comparing different models"
   ]
  },
  {
   "cell_type": "code",
   "execution_count": 6,
   "id": "surrounded-infection",
   "metadata": {},
   "outputs": [],
   "source": [
    "model_params = {\n",
    "    'svm':{\n",
    "        'model': svm.SVC(gamma='auto'),\n",
    "        'params': {\n",
    "            'C': [50,100,500],\n",
    "            'kernel': ['rbf','linear']\n",
    "        }\n",
    "    },\n",
    "    'random_forest': {\n",
    "        'model': RandomForestClassifier(),\n",
    "        'params' : {\n",
    "            'n_estimators': [0,5,10]\n",
    "        }\n",
    "    },\n",
    "    'logistic_regression': {\n",
    "        'model': LogisticRegression(solver='liblinear',multi_class='auto'),\n",
    "        'params': {\n",
    "            'C': [50,100,500]\n",
    "        }\n",
    "    }\n",
    "}"
   ]
  },
  {
   "cell_type": "code",
   "execution_count": 7,
   "id": "conscious-romance",
   "metadata": {},
   "outputs": [],
   "source": [
    "from sklearn.model_selection import GridSearchCV"
   ]
  },
  {
   "cell_type": "code",
   "execution_count": 8,
   "id": "greatest-suicide",
   "metadata": {},
   "outputs": [
    {
     "name": "stderr",
     "output_type": "stream",
     "text": [
      "/Users/saleksegid/miniconda3/lib/python3.8/site-packages/sklearn/model_selection/_validation.py:610: FitFailedWarning: Estimator fit failed. The score on this train-test partition for these parameters will be set to nan. Details: \n",
      "Traceback (most recent call last):\n",
      "  File \"/Users/saleksegid/miniconda3/lib/python3.8/site-packages/sklearn/model_selection/_validation.py\", line 593, in _fit_and_score\n",
      "    estimator.fit(X_train, y_train, **fit_params)\n",
      "  File \"/Users/saleksegid/miniconda3/lib/python3.8/site-packages/sklearn/ensemble/_forest.py\", line 349, in fit\n",
      "    self._validate_estimator()\n",
      "  File \"/Users/saleksegid/miniconda3/lib/python3.8/site-packages/sklearn/ensemble/_base.py\", line 133, in _validate_estimator\n",
      "    raise ValueError(\"n_estimators must be greater than zero, \"\n",
      "ValueError: n_estimators must be greater than zero, got 0.\n",
      "\n",
      "  warnings.warn(\"Estimator fit failed. The score on this train-test\"\n",
      "/Users/saleksegid/miniconda3/lib/python3.8/site-packages/sklearn/model_selection/_validation.py:610: FitFailedWarning: Estimator fit failed. The score on this train-test partition for these parameters will be set to nan. Details: \n",
      "Traceback (most recent call last):\n",
      "  File \"/Users/saleksegid/miniconda3/lib/python3.8/site-packages/sklearn/model_selection/_validation.py\", line 593, in _fit_and_score\n",
      "    estimator.fit(X_train, y_train, **fit_params)\n",
      "  File \"/Users/saleksegid/miniconda3/lib/python3.8/site-packages/sklearn/ensemble/_forest.py\", line 349, in fit\n",
      "    self._validate_estimator()\n",
      "  File \"/Users/saleksegid/miniconda3/lib/python3.8/site-packages/sklearn/ensemble/_base.py\", line 133, in _validate_estimator\n",
      "    raise ValueError(\"n_estimators must be greater than zero, \"\n",
      "ValueError: n_estimators must be greater than zero, got 0.\n",
      "\n",
      "  warnings.warn(\"Estimator fit failed. The score on this train-test\"\n",
      "/Users/saleksegid/miniconda3/lib/python3.8/site-packages/sklearn/model_selection/_validation.py:610: FitFailedWarning: Estimator fit failed. The score on this train-test partition for these parameters will be set to nan. Details: \n",
      "Traceback (most recent call last):\n",
      "  File \"/Users/saleksegid/miniconda3/lib/python3.8/site-packages/sklearn/model_selection/_validation.py\", line 593, in _fit_and_score\n",
      "    estimator.fit(X_train, y_train, **fit_params)\n",
      "  File \"/Users/saleksegid/miniconda3/lib/python3.8/site-packages/sklearn/ensemble/_forest.py\", line 349, in fit\n",
      "    self._validate_estimator()\n",
      "  File \"/Users/saleksegid/miniconda3/lib/python3.8/site-packages/sklearn/ensemble/_base.py\", line 133, in _validate_estimator\n",
      "    raise ValueError(\"n_estimators must be greater than zero, \"\n",
      "ValueError: n_estimators must be greater than zero, got 0.\n",
      "\n",
      "  warnings.warn(\"Estimator fit failed. The score on this train-test\"\n",
      "/Users/saleksegid/miniconda3/lib/python3.8/site-packages/sklearn/model_selection/_validation.py:610: FitFailedWarning: Estimator fit failed. The score on this train-test partition for these parameters will be set to nan. Details: \n",
      "Traceback (most recent call last):\n",
      "  File \"/Users/saleksegid/miniconda3/lib/python3.8/site-packages/sklearn/model_selection/_validation.py\", line 593, in _fit_and_score\n",
      "    estimator.fit(X_train, y_train, **fit_params)\n",
      "  File \"/Users/saleksegid/miniconda3/lib/python3.8/site-packages/sklearn/ensemble/_forest.py\", line 349, in fit\n",
      "    self._validate_estimator()\n",
      "  File \"/Users/saleksegid/miniconda3/lib/python3.8/site-packages/sklearn/ensemble/_base.py\", line 133, in _validate_estimator\n",
      "    raise ValueError(\"n_estimators must be greater than zero, \"\n",
      "ValueError: n_estimators must be greater than zero, got 0.\n",
      "\n",
      "  warnings.warn(\"Estimator fit failed. The score on this train-test\"\n",
      "/Users/saleksegid/miniconda3/lib/python3.8/site-packages/sklearn/model_selection/_validation.py:610: FitFailedWarning: Estimator fit failed. The score on this train-test partition for these parameters will be set to nan. Details: \n",
      "Traceback (most recent call last):\n",
      "  File \"/Users/saleksegid/miniconda3/lib/python3.8/site-packages/sklearn/model_selection/_validation.py\", line 593, in _fit_and_score\n",
      "    estimator.fit(X_train, y_train, **fit_params)\n",
      "  File \"/Users/saleksegid/miniconda3/lib/python3.8/site-packages/sklearn/ensemble/_forest.py\", line 349, in fit\n",
      "    self._validate_estimator()\n",
      "  File \"/Users/saleksegid/miniconda3/lib/python3.8/site-packages/sklearn/ensemble/_base.py\", line 133, in _validate_estimator\n",
      "    raise ValueError(\"n_estimators must be greater than zero, \"\n",
      "ValueError: n_estimators must be greater than zero, got 0.\n",
      "\n",
      "  warnings.warn(\"Estimator fit failed. The score on this train-test\"\n",
      "/Users/saleksegid/miniconda3/lib/python3.8/site-packages/sklearn/model_selection/_search.py:918: UserWarning: One or more of the test scores are non-finite: [       nan 0.634      0.65933333]\n",
      "  warnings.warn(\n"
     ]
    }
   ],
   "source": [
    "scores = []\n",
    "\n",
    "for model_name, mp in model_params.items():\n",
    "    clf = GridSearchCV(mp['model'], mp['params'], cv=5, return_train_score=False)\n",
    "    clf.fit(X, df['type_of_opt'])\n",
    "    scores.append({\n",
    "        'model': model_name,\n",
    "        'best_score': clf.best_score_,\n",
    "        'best_params': clf.best_params_\n",
    "    })"
   ]
  },
  {
   "cell_type": "code",
   "execution_count": 9,
   "id": "congressional-affairs",
   "metadata": {},
   "outputs": [
    {
     "data": {
      "text/html": [
       "<div>\n",
       "<style scoped>\n",
       "    .dataframe tbody tr th:only-of-type {\n",
       "        vertical-align: middle;\n",
       "    }\n",
       "\n",
       "    .dataframe tbody tr th {\n",
       "        vertical-align: top;\n",
       "    }\n",
       "\n",
       "    .dataframe thead th {\n",
       "        text-align: right;\n",
       "    }\n",
       "</style>\n",
       "<table border=\"1\" class=\"dataframe\">\n",
       "  <thead>\n",
       "    <tr style=\"text-align: right;\">\n",
       "      <th></th>\n",
       "      <th>model</th>\n",
       "      <th>best_score</th>\n",
       "      <th>best_params</th>\n",
       "    </tr>\n",
       "  </thead>\n",
       "  <tbody>\n",
       "    <tr>\n",
       "      <th>0</th>\n",
       "      <td>svm</td>\n",
       "      <td>0.636667</td>\n",
       "      <td>{'C': 500, 'kernel': 'linear'}</td>\n",
       "    </tr>\n",
       "    <tr>\n",
       "      <th>1</th>\n",
       "      <td>random_forest</td>\n",
       "      <td>0.659333</td>\n",
       "      <td>{'n_estimators': 10}</td>\n",
       "    </tr>\n",
       "    <tr>\n",
       "      <th>2</th>\n",
       "      <td>logistic_regression</td>\n",
       "      <td>0.541333</td>\n",
       "      <td>{'C': 500}</td>\n",
       "    </tr>\n",
       "  </tbody>\n",
       "</table>\n",
       "</div>"
      ],
      "text/plain": [
       "                 model  best_score                     best_params\n",
       "0                  svm    0.636667  {'C': 500, 'kernel': 'linear'}\n",
       "1        random_forest    0.659333            {'n_estimators': 10}\n",
       "2  logistic_regression    0.541333                      {'C': 500}"
      ]
     },
     "execution_count": 9,
     "metadata": {},
     "output_type": "execute_result"
    }
   ],
   "source": [
    "df_2 = pd.DataFrame(scores,columns=['model','best_score','best_params'])\n",
    "df_2"
   ]
  },
  {
   "cell_type": "code",
   "execution_count": 18,
   "id": "arctic-change",
   "metadata": {},
   "outputs": [],
   "source": [
    "models = (svm.SVC(kernel='linear', C=1000),\n",
    "        svm.LinearSVC(C=1000, max_iter=100),\n",
    "         svm.SVC(kernel='rbf', gamma=0.8, C=1000),\n",
    "         svm.SVC(kernel='poly', degree=3, gamma='auto', C=1000))\n",
    "\n",
    "models = (clf.fit(X_train, y_train) for clf in models)"
   ]
  },
  {
   "cell_type": "code",
   "execution_count": 21,
   "id": "alpha-racing",
   "metadata": {},
   "outputs": [
    {
     "data": {
      "text/plain": [
       "array(['Bayes_s', 'Random', 'Random', 'Random', 'TPE', 'Random', 'Random',\n",
       "       'CmaEs', 'CmaEs', 'CmaEs', 'Bayes_s', 'Random', 'CmaEs', 'Bayes_s',\n",
       "       'CmaEs', 'CmaEs', 'Bayes_B', 'Bayes_B', 'CmaEs', 'CmaEs',\n",
       "       'Bayes_B', 'Random', 'Bayes_s', 'Random', 'TPE', 'CmaEs', 'Random',\n",
       "       'Random', 'Random', 'Random', 'Bayes_s', 'Bayes_B', 'Random',\n",
       "       'Bayes_s', 'Bayes_s', 'Bayes_s', 'CmaEs', 'Bayes_s', 'Bayes_B',\n",
       "       'Random', 'Bayes_B', 'CmaEs', 'Bayes_B', 'Random', 'Random',\n",
       "       'CmaEs', 'Bayes_s', 'Random', 'Bayes_s', 'Random', 'CmaEs',\n",
       "       'Bayes_s', 'Bayes_s', 'Bayes_s', 'CmaEs', 'CmaEs', 'CmaEs', 'TPE',\n",
       "       'Bayes_s', 'Bayes_s', 'Bayes_s', 'Random', 'TPE', 'Bayes_s',\n",
       "       'Bayes_B', 'Bayes_B', 'Random', 'TPE', 'Bayes_s', 'CmaEs', 'TPE',\n",
       "       'Bayes_s', 'Bayes_B', 'Random', 'Bayes_s', 'Bayes_B', 'Random',\n",
       "       'Bayes_s', 'CmaEs', 'Bayes_s', 'Random', 'Bayes_s', 'Bayes_B',\n",
       "       'CmaEs', 'Bayes_B', 'Bayes_B', 'Bayes_B', 'Bayes_s', 'CmaEs',\n",
       "       'Bayes_B', 'Bayes_s', 'Random', 'CmaEs', 'Random', 'Bayes_B',\n",
       "       'Random', 'Random', 'CmaEs', 'CmaEs', 'Bayes_B', 'Random',\n",
       "       'Bayes_s', 'Random', 'Bayes_s', 'Random', 'Random', 'CmaEs', 'TPE',\n",
       "       'TPE', 'CmaEs', 'TPE', 'CmaEs', 'Bayes_B', 'CmaEs', 'Bayes_B',\n",
       "       'CmaEs', 'Bayes_B', 'CmaEs', 'CmaEs', 'CmaEs', 'TPE', 'Random',\n",
       "       'Random', 'Bayes_s', 'CmaEs', 'Bayes_s', 'Bayes_s', 'TPE',\n",
       "       'Bayes_B', 'Bayes_B', 'Bayes_B', 'TPE', 'CmaEs', 'Bayes_B',\n",
       "       'CmaEs', 'Bayes_B', 'Bayes_s', 'CmaEs', 'Bayes_s', 'CmaEs',\n",
       "       'Bayes_s', 'Bayes_s', 'Bayes_B', 'Bayes_B', 'TPE', 'CmaEs', 'TPE',\n",
       "       'Random', 'CmaEs', 'CmaEs', 'Random', 'Bayes_s', 'TPE', 'Bayes_B',\n",
       "       'TPE', 'Random', 'CmaEs', 'Bayes_B', 'CmaEs', 'Bayes_B', 'Random',\n",
       "       'Bayes_s', 'Random', 'Bayes_s', 'Bayes_s', 'CmaEs', 'Random',\n",
       "       'CmaEs', 'CmaEs', 'CmaEs', 'Bayes_B', 'Random', 'CmaEs', 'CmaEs',\n",
       "       'Bayes_s', 'Bayes_s', 'Bayes_s', 'Bayes_s', 'TPE', 'Bayes_s',\n",
       "       'CmaEs', 'Bayes_B', 'Bayes_s', 'CmaEs', 'Bayes_s', 'CmaEs',\n",
       "       'CmaEs', 'CmaEs', 'Random', 'Random', 'Bayes_B', 'CmaEs', 'CmaEs',\n",
       "       'Random', 'CmaEs', 'Bayes_B', 'Bayes_B', 'CmaEs', 'Bayes_B',\n",
       "       'Bayes_s', 'Bayes_s', 'Random', 'Bayes_s', 'CmaEs', 'CmaEs',\n",
       "       'Random', 'Bayes_B', 'Bayes_B', 'CmaEs', 'CmaEs', 'Bayes_B',\n",
       "       'Bayes_B', 'Random', 'Bayes_s', 'CmaEs', 'CmaEs', 'Random',\n",
       "       'Bayes_B', 'CmaEs', 'Random', 'CmaEs', 'TPE', 'CmaEs', 'CmaEs',\n",
       "       'CmaEs', 'CmaEs', 'Random', 'Bayes_B', 'Bayes_s', 'Random',\n",
       "       'Random', 'CmaEs', 'CmaEs', 'Bayes_B', 'Bayes_s', 'CmaEs', 'TPE',\n",
       "       'CmaEs', 'Random', 'Bayes_B', 'Bayes_B', 'CmaEs', 'Random',\n",
       "       'Random', 'Bayes_s', 'CmaEs', 'Random', 'Bayes_s', 'Bayes_B',\n",
       "       'CmaEs', 'CmaEs', 'TPE', 'Bayes_s', 'Bayes_B', 'Bayes_s',\n",
       "       'Bayes_B', 'Bayes_s', 'Random', 'Bayes_s', 'CmaEs', 'Bayes_s',\n",
       "       'Bayes_s', 'Bayes_B', 'Bayes_s', 'CmaEs', 'TPE', 'Bayes_s',\n",
       "       'Bayes_s', 'Random', 'CmaEs', 'CmaEs', 'Bayes_B', 'Bayes_B',\n",
       "       'Bayes_s', 'Bayes_B', 'Bayes_B', 'Bayes_B', 'Bayes_s', 'Bayes_s',\n",
       "       'CmaEs', 'Bayes_s', 'CmaEs', 'Random', 'Random', 'Random', 'CmaEs',\n",
       "       'Bayes_B', 'Bayes_B', 'Bayes_B', 'Random', 'CmaEs', 'Bayes_B',\n",
       "       'Bayes_B', 'CmaEs', 'CmaEs', 'Random', 'CmaEs', 'CmaEs', 'Bayes_s',\n",
       "       'CmaEs'], dtype=object)"
      ]
     },
     "execution_count": 21,
     "metadata": {},
     "output_type": "execute_result"
    }
   ],
   "source": [
    "y_predicted = clf.predict(X_test)\n",
    "y_predicted"
   ]
  },
  {
   "cell_type": "code",
   "execution_count": null,
   "id": "greenhouse-venue",
   "metadata": {},
   "outputs": [],
   "source": []
  },
  {
   "cell_type": "code",
   "execution_count": null,
   "id": "asian-printing",
   "metadata": {},
   "outputs": [],
   "source": []
  }
 ],
 "metadata": {
  "kernelspec": {
   "display_name": "Python 3",
   "language": "python",
   "name": "python3"
  },
  "language_info": {
   "codemirror_mode": {
    "name": "ipython",
    "version": 3
   },
   "file_extension": ".py",
   "mimetype": "text/x-python",
   "name": "python",
   "nbconvert_exporter": "python",
   "pygments_lexer": "ipython3",
   "version": "3.8.8"
  }
 },
 "nbformat": 4,
 "nbformat_minor": 5
}
