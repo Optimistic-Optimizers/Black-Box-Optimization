{
 "cells": [
  {
   "cell_type": "code",
   "execution_count": 3,
   "metadata": {},
   "outputs": [],
   "source": [
    "import numpy as np\n",
    "import pandas as pd\n",
    "from bayes_opt import BayesianOptimization\n",
    "import sklearn \n",
    "from sklearn.model_selection import train_test_split\n",
    "from sklearn.preprocessing import StandardScaler\n",
    "from sklearn.preprocessing import MinMaxScaler\n",
    "from sklearn.ensemble import BaggingClassifier, RandomForestClassifier, GradientBoostingClassifier\n",
    "from sklearn.metrics import r2_score, mean_squared_error, accuracy_score\n",
    "from sklearn import tree\n",
    "from sklearn.tree import DecisionTreeClassifier\n",
    "import matplotlib.pyplot as plt\n",
    "from ipywidgets import interact, interactive, fixed, interact_manual\n",
    "import ipywidgets as widgets"
   ]
  },
  {
   "cell_type": "code",
   "execution_count": 4,
   "metadata": {},
   "outputs": [],
   "source": [
    "df = pd.read_excel('data/All Data combined.xlsx')"
   ]
  },
  {
   "cell_type": "code",
   "execution_count": 3,
   "metadata": {},
   "outputs": [
    {
     "data": {
      "text/html": [
       "<div>\n",
       "<style scoped>\n",
       "    .dataframe tbody tr th:only-of-type {\n",
       "        vertical-align: middle;\n",
       "    }\n",
       "\n",
       "    .dataframe tbody tr th {\n",
       "        vertical-align: top;\n",
       "    }\n",
       "\n",
       "    .dataframe thead th {\n",
       "        text-align: right;\n",
       "    }\n",
       "</style>\n",
       "<table border=\"1\" class=\"dataframe\">\n",
       "  <thead>\n",
       "    <tr style=\"text-align: right;\">\n",
       "      <th></th>\n",
       "      <th>number of trials</th>\n",
       "      <th>number of parameters</th>\n",
       "      <th>type of function</th>\n",
       "      <th>accuracy [calc. max/ actual max]</th>\n",
       "      <th>time per trial [s]</th>\n",
       "      <th>assigned_class</th>\n",
       "    </tr>\n",
       "  </thead>\n",
       "  <tbody>\n",
       "    <tr>\n",
       "      <th>0</th>\n",
       "      <td>16.0</td>\n",
       "      <td>2.0</td>\n",
       "      <td>Trig</td>\n",
       "      <td>0.732417</td>\n",
       "      <td>0.009824</td>\n",
       "      <td>0.0</td>\n",
       "    </tr>\n",
       "    <tr>\n",
       "      <th>1</th>\n",
       "      <td>13.0</td>\n",
       "      <td>2.0</td>\n",
       "      <td>Trig</td>\n",
       "      <td>0.983980</td>\n",
       "      <td>0.008316</td>\n",
       "      <td>0.0</td>\n",
       "    </tr>\n",
       "    <tr>\n",
       "      <th>2</th>\n",
       "      <td>10.0</td>\n",
       "      <td>2.0</td>\n",
       "      <td>Trig</td>\n",
       "      <td>0.638160</td>\n",
       "      <td>0.007854</td>\n",
       "      <td>0.0</td>\n",
       "    </tr>\n",
       "    <tr>\n",
       "      <th>3</th>\n",
       "      <td>18.0</td>\n",
       "      <td>2.0</td>\n",
       "      <td>Trig</td>\n",
       "      <td>0.952784</td>\n",
       "      <td>0.009196</td>\n",
       "      <td>0.0</td>\n",
       "    </tr>\n",
       "    <tr>\n",
       "      <th>4</th>\n",
       "      <td>11.0</td>\n",
       "      <td>2.0</td>\n",
       "      <td>Trig</td>\n",
       "      <td>0.284646</td>\n",
       "      <td>0.007938</td>\n",
       "      <td>0.0</td>\n",
       "    </tr>\n",
       "    <tr>\n",
       "      <th>...</th>\n",
       "      <td>...</td>\n",
       "      <td>...</td>\n",
       "      <td>...</td>\n",
       "      <td>...</td>\n",
       "      <td>...</td>\n",
       "      <td>...</td>\n",
       "    </tr>\n",
       "    <tr>\n",
       "      <th>1245</th>\n",
       "      <td>9.0</td>\n",
       "      <td>2.0</td>\n",
       "      <td>linear</td>\n",
       "      <td>1.000000</td>\n",
       "      <td>0.052639</td>\n",
       "      <td>3.0</td>\n",
       "    </tr>\n",
       "    <tr>\n",
       "      <th>1246</th>\n",
       "      <td>10.0</td>\n",
       "      <td>2.0</td>\n",
       "      <td>linear</td>\n",
       "      <td>1.000000</td>\n",
       "      <td>0.006312</td>\n",
       "      <td>3.0</td>\n",
       "    </tr>\n",
       "    <tr>\n",
       "      <th>1247</th>\n",
       "      <td>7.0</td>\n",
       "      <td>2.0</td>\n",
       "      <td>linear</td>\n",
       "      <td>1.000000</td>\n",
       "      <td>0.037169</td>\n",
       "      <td>3.0</td>\n",
       "    </tr>\n",
       "    <tr>\n",
       "      <th>1248</th>\n",
       "      <td>17.0</td>\n",
       "      <td>2.0</td>\n",
       "      <td>linear</td>\n",
       "      <td>1.000000</td>\n",
       "      <td>0.116375</td>\n",
       "      <td>3.0</td>\n",
       "    </tr>\n",
       "    <tr>\n",
       "      <th>1249</th>\n",
       "      <td>16.0</td>\n",
       "      <td>2.0</td>\n",
       "      <td>linear</td>\n",
       "      <td>1.000000</td>\n",
       "      <td>0.085693</td>\n",
       "      <td>3.0</td>\n",
       "    </tr>\n",
       "  </tbody>\n",
       "</table>\n",
       "<p>1250 rows × 6 columns</p>\n",
       "</div>"
      ],
      "text/plain": [
       "      number of trials  number of parameters type of function  \\\n",
       "0                 16.0                   2.0             Trig   \n",
       "1                 13.0                   2.0             Trig   \n",
       "2                 10.0                   2.0             Trig   \n",
       "3                 18.0                   2.0             Trig   \n",
       "4                 11.0                   2.0             Trig   \n",
       "...                ...                   ...              ...   \n",
       "1245               9.0                   2.0           linear   \n",
       "1246              10.0                   2.0           linear   \n",
       "1247               7.0                   2.0           linear   \n",
       "1248              17.0                   2.0           linear   \n",
       "1249              16.0                   2.0           linear   \n",
       "\n",
       "      accuracy [calc. max/ actual max]  time per trial [s]  assigned_class  \n",
       "0                             0.732417            0.009824             0.0  \n",
       "1                             0.983980            0.008316             0.0  \n",
       "2                             0.638160            0.007854             0.0  \n",
       "3                             0.952784            0.009196             0.0  \n",
       "4                             0.284646            0.007938             0.0  \n",
       "...                                ...                 ...             ...  \n",
       "1245                          1.000000            0.052639             3.0  \n",
       "1246                          1.000000            0.006312             3.0  \n",
       "1247                          1.000000            0.037169             3.0  \n",
       "1248                          1.000000            0.116375             3.0  \n",
       "1249                          1.000000            0.085693             3.0  \n",
       "\n",
       "[1250 rows x 6 columns]"
      ]
     },
     "execution_count": 3,
     "metadata": {},
     "output_type": "execute_result"
    }
   ],
   "source": [
    "df = df.drop(['Unnamed: 0'], axis=1)\n",
    "df = df.drop(['Unnamed: 8'], axis=1)\n",
    "df = df.drop(['type_of_opt'], axis=1)\n",
    "df.dropna()"
   ]
  },
  {
   "cell_type": "code",
   "execution_count": 4,
   "metadata": {},
   "outputs": [],
   "source": [
    "df = df[df['accuracy [calc. max/ actual max]'] < 1.05]  "
   ]
  },
  {
   "cell_type": "code",
   "execution_count": 5,
   "metadata": {},
   "outputs": [],
   "source": [
    "x = df[['number of trials','number of parameters','accuracy [calc. max/ actual max]', 'time per trial [s]']].values"
   ]
  },
  {
   "cell_type": "code",
   "execution_count": 6,
   "metadata": {},
   "outputs": [],
   "source": [
    "y = df['assigned_class']"
   ]
  },
  {
   "cell_type": "code",
   "execution_count": 7,
   "metadata": {},
   "outputs": [
    {
     "data": {
      "text/html": [
       "<div>\n",
       "<style scoped>\n",
       "    .dataframe tbody tr th:only-of-type {\n",
       "        vertical-align: middle;\n",
       "    }\n",
       "\n",
       "    .dataframe tbody tr th {\n",
       "        vertical-align: top;\n",
       "    }\n",
       "\n",
       "    .dataframe thead th {\n",
       "        text-align: right;\n",
       "    }\n",
       "</style>\n",
       "<table border=\"1\" class=\"dataframe\">\n",
       "  <thead>\n",
       "    <tr style=\"text-align: right;\">\n",
       "      <th></th>\n",
       "      <th>number of trials</th>\n",
       "      <th>number of parameters</th>\n",
       "      <th>accuracy [calc. max/ actual max]</th>\n",
       "      <th>time per trial [s]</th>\n",
       "      <th>assigned_class</th>\n",
       "    </tr>\n",
       "  </thead>\n",
       "  <tbody>\n",
       "    <tr>\n",
       "      <th>count</th>\n",
       "      <td>1249.000000</td>\n",
       "      <td>1249.000000</td>\n",
       "      <td>1249.000000</td>\n",
       "      <td>1249.000000</td>\n",
       "      <td>1249.000000</td>\n",
       "    </tr>\n",
       "    <tr>\n",
       "      <th>mean</th>\n",
       "      <td>10.842274</td>\n",
       "      <td>3.039231</td>\n",
       "      <td>0.502171</td>\n",
       "      <td>0.018106</td>\n",
       "      <td>1.561249</td>\n",
       "    </tr>\n",
       "    <tr>\n",
       "      <th>std</th>\n",
       "      <td>4.441205</td>\n",
       "      <td>0.999630</td>\n",
       "      <td>0.360821</td>\n",
       "      <td>0.019479</td>\n",
       "      <td>1.134244</td>\n",
       "    </tr>\n",
       "    <tr>\n",
       "      <th>min</th>\n",
       "      <td>1.000000</td>\n",
       "      <td>2.000000</td>\n",
       "      <td>0.000000</td>\n",
       "      <td>0.003163</td>\n",
       "      <td>0.000000</td>\n",
       "    </tr>\n",
       "    <tr>\n",
       "      <th>25%</th>\n",
       "      <td>8.000000</td>\n",
       "      <td>2.000000</td>\n",
       "      <td>0.161572</td>\n",
       "      <td>0.007464</td>\n",
       "      <td>1.000000</td>\n",
       "    </tr>\n",
       "    <tr>\n",
       "      <th>50%</th>\n",
       "      <td>11.000000</td>\n",
       "      <td>4.000000</td>\n",
       "      <td>0.469765</td>\n",
       "      <td>0.010050</td>\n",
       "      <td>2.000000</td>\n",
       "    </tr>\n",
       "    <tr>\n",
       "      <th>75%</th>\n",
       "      <td>14.000000</td>\n",
       "      <td>4.000000</td>\n",
       "      <td>0.870366</td>\n",
       "      <td>0.019677</td>\n",
       "      <td>3.000000</td>\n",
       "    </tr>\n",
       "    <tr>\n",
       "      <th>max</th>\n",
       "      <td>25.000000</td>\n",
       "      <td>4.000000</td>\n",
       "      <td>1.000000</td>\n",
       "      <td>0.136035</td>\n",
       "      <td>3.000000</td>\n",
       "    </tr>\n",
       "  </tbody>\n",
       "</table>\n",
       "</div>"
      ],
      "text/plain": [
       "       number of trials  number of parameters  \\\n",
       "count       1249.000000           1249.000000   \n",
       "mean          10.842274              3.039231   \n",
       "std            4.441205              0.999630   \n",
       "min            1.000000              2.000000   \n",
       "25%            8.000000              2.000000   \n",
       "50%           11.000000              4.000000   \n",
       "75%           14.000000              4.000000   \n",
       "max           25.000000              4.000000   \n",
       "\n",
       "       accuracy [calc. max/ actual max]  time per trial [s]  assigned_class  \n",
       "count                       1249.000000         1249.000000     1249.000000  \n",
       "mean                           0.502171            0.018106        1.561249  \n",
       "std                            0.360821            0.019479        1.134244  \n",
       "min                            0.000000            0.003163        0.000000  \n",
       "25%                            0.161572            0.007464        1.000000  \n",
       "50%                            0.469765            0.010050        2.000000  \n",
       "75%                            0.870366            0.019677        3.000000  \n",
       "max                            1.000000            0.136035        3.000000  "
      ]
     },
     "execution_count": 7,
     "metadata": {},
     "output_type": "execute_result"
    }
   ],
   "source": [
    "df.describe()"
   ]
  },
  {
   "cell_type": "code",
   "execution_count": 8,
   "metadata": {},
   "outputs": [],
   "source": [
    "x_train, x_test, y_train, y_test = train_test_split(x, y,test_size=0.30)"
   ]
  },
  {
   "cell_type": "code",
   "execution_count": 9,
   "metadata": {},
   "outputs": [],
   "source": [
    "x_train = StandardScaler().fit(x_train).transform(x_train)\n",
    "x_test = StandardScaler().fit(x_test).transform(x_test)\n",
    "x_train = MinMaxScaler().fit(x_train).transform(x_train)\n",
    "x_test = MinMaxScaler().fit(x_test).transform(x_test)"
   ]
  },
  {
   "cell_type": "code",
   "execution_count": 10,
   "metadata": {},
   "outputs": [],
   "source": [
    "y_train = np.asarray(y_train)"
   ]
  },
  {
   "cell_type": "code",
   "execution_count": 11,
   "metadata": {},
   "outputs": [
    {
     "data": {
      "text/plain": [
       "(874, 4)"
      ]
     },
     "execution_count": 11,
     "metadata": {},
     "output_type": "execute_result"
    }
   ],
   "source": [
    "x_train.shape"
   ]
  },
  {
   "cell_type": "code",
   "execution_count": 12,
   "metadata": {},
   "outputs": [
    {
     "data": {
      "image/png": "[encoded data removed]",
      "text/plain": [
       "<Figure size 1440x288 with 4 Axes>"
      ]
     },
     "metadata": {
      "needs_background": "light"
     },
     "output_type": "display_data"
    }
   ],
   "source": [
    "fig, ax = plt.subplots(figsize=(20,4), ncols = 4)\n",
    "ax[0].hist(x_train[:,0], bins = 20)\n",
    "ax[0].set_title('n_trials')\n",
    "ax[1].hist(x_train[:,1], bins = 20)\n",
    "ax[1].set_title('n_parameters')\n",
    "ax[2].hist(x_train[:,2], bins = 20)\n",
    "ax[2].set_title('accuracy')\n",
    "ax[3].hist(x_train[:,3], bins = 20)\n",
    "ax[3].set_title('time per trial')\n",
    "plt.show()\n"
   ]
  },
  {
   "cell_type": "markdown",
   "metadata": {},
   "source": [
    "## Using a Decision Tree Classifier "
   ]
  },
  {
   "cell_type": "code",
   "execution_count": 13,
   "metadata": {},
   "outputs": [
    {
     "name": "stdout",
     "output_type": "stream",
     "text": [
      "|   iter    |  target   |     x     |     y     |\n",
      "-------------------------------------------------\n",
      "| \u001b[0m 1       \u001b[0m | \u001b[0m 0.6187  \u001b[0m | \u001b[0m 35.68   \u001b[0m | \u001b[0m 18.12   \u001b[0m |\n",
      "| \u001b[95m 2       \u001b[0m | \u001b[95m 0.632   \u001b[0m | \u001b[95m 24.06   \u001b[0m | \u001b[95m 33.98   \u001b[0m |\n",
      "| \u001b[0m 3       \u001b[0m | \u001b[0m 0.6187  \u001b[0m | \u001b[0m 20.74   \u001b[0m | \u001b[0m 48.99   \u001b[0m |\n",
      "| \u001b[0m 4       \u001b[0m | \u001b[0m 0.6213  \u001b[0m | \u001b[0m 16.96   \u001b[0m | \u001b[0m 36.45   \u001b[0m |\n",
      "| \u001b[0m 5       \u001b[0m | \u001b[0m 0.6027  \u001b[0m | \u001b[0m 35.32   \u001b[0m | \u001b[0m 3.252   \u001b[0m |\n",
      "| \u001b[0m 6       \u001b[0m | \u001b[0m 0.624   \u001b[0m | \u001b[0m 38.28   \u001b[0m | \u001b[0m 23.82   \u001b[0m |\n",
      "| \u001b[0m 7       \u001b[0m | \u001b[0m 0.6053  \u001b[0m | \u001b[0m 37.85   \u001b[0m | \u001b[0m 4.58    \u001b[0m |\n",
      "| \u001b[0m 8       \u001b[0m | \u001b[0m 0.616   \u001b[0m | \u001b[0m 21.77   \u001b[0m | \u001b[0m 20.74   \u001b[0m |\n",
      "| \u001b[0m 9       \u001b[0m | \u001b[0m 0.6213  \u001b[0m | \u001b[0m 18.86   \u001b[0m | \u001b[0m 21.28   \u001b[0m |\n",
      "| \u001b[0m 10      \u001b[0m | \u001b[0m 0.632   \u001b[0m | \u001b[0m 47.22   \u001b[0m | \u001b[0m 41.05   \u001b[0m |\n",
      "| \u001b[0m 11      \u001b[0m | \u001b[0m 0.6213  \u001b[0m | \u001b[0m 47.88   \u001b[0m | \u001b[0m 25.51   \u001b[0m |\n",
      "| \u001b[95m 12      \u001b[0m | \u001b[95m 0.6453  \u001b[0m | \u001b[95m 6.566   \u001b[0m | \u001b[95m 26.95   \u001b[0m |\n",
      "| \u001b[0m 13      \u001b[0m | \u001b[0m 0.64    \u001b[0m | \u001b[0m 47.35   \u001b[0m | \u001b[0m 47.03   \u001b[0m |\n",
      "| \u001b[0m 14      \u001b[0m | \u001b[0m 0.6     \u001b[0m | \u001b[0m 47.05   \u001b[0m | \u001b[0m 9.368   \u001b[0m |\n",
      "| \u001b[0m 15      \u001b[0m | \u001b[0m 0.616   \u001b[0m | \u001b[0m 11.74   \u001b[0m | \u001b[0m 21.08   \u001b[0m |\n",
      "| \u001b[0m 16      \u001b[0m | \u001b[0m 0.6133  \u001b[0m | \u001b[0m 18.51   \u001b[0m | \u001b[0m 21.04   \u001b[0m |\n",
      "| \u001b[0m 17      \u001b[0m | \u001b[0m 0.6267  \u001b[0m | \u001b[0m 38.67   \u001b[0m | \u001b[0m 31.37   \u001b[0m |\n",
      "| \u001b[0m 18      \u001b[0m | \u001b[0m 0.6133  \u001b[0m | \u001b[0m 45.24   \u001b[0m | \u001b[0m 25.57   \u001b[0m |\n",
      "| \u001b[0m 19      \u001b[0m | \u001b[0m 0.632   \u001b[0m | \u001b[0m 40.47   \u001b[0m | \u001b[0m 22.33   \u001b[0m |\n",
      "| \u001b[0m 20      \u001b[0m | \u001b[0m 0.6267  \u001b[0m | \u001b[0m 32.08   \u001b[0m | \u001b[0m 49.56   \u001b[0m |\n",
      "| \u001b[0m 21      \u001b[0m | \u001b[0m 0.624   \u001b[0m | \u001b[0m 6.046   \u001b[0m | \u001b[0m 27.11   \u001b[0m |\n",
      "| \u001b[0m 22      \u001b[0m | \u001b[0m 0.608   \u001b[0m | \u001b[0m 36.64   \u001b[0m | \u001b[0m 34.02   \u001b[0m |\n",
      "| \u001b[0m 23      \u001b[0m | \u001b[0m 0.6373  \u001b[0m | \u001b[0m 23.31   \u001b[0m | \u001b[0m 11.88   \u001b[0m |\n",
      "| \u001b[0m 24      \u001b[0m | \u001b[0m 0.576   \u001b[0m | \u001b[0m 1.78    \u001b[0m | \u001b[0m 25.9    \u001b[0m |\n",
      "| \u001b[0m 25      \u001b[0m | \u001b[0m 0.6213  \u001b[0m | \u001b[0m 16.9    \u001b[0m | \u001b[0m 36.36   \u001b[0m |\n",
      "| \u001b[0m 26      \u001b[0m | \u001b[0m 0.6133  \u001b[0m | \u001b[0m 6.867   \u001b[0m | \u001b[0m 26.51   \u001b[0m |\n",
      "| \u001b[0m 27      \u001b[0m | \u001b[0m 0.6347  \u001b[0m | \u001b[0m 6.518   \u001b[0m | \u001b[0m 27.26   \u001b[0m |\n",
      "| \u001b[0m 28      \u001b[0m | \u001b[0m 0.608   \u001b[0m | \u001b[0m 3.03    \u001b[0m | \u001b[0m 27.82   \u001b[0m |\n",
      "| \u001b[0m 29      \u001b[0m | \u001b[0m 0.6187  \u001b[0m | \u001b[0m 44.82   \u001b[0m | \u001b[0m 3.96    \u001b[0m |\n",
      "| \u001b[0m 30      \u001b[0m | \u001b[0m 0.6267  \u001b[0m | \u001b[0m 47.38   \u001b[0m | \u001b[0m 47.41   \u001b[0m |\n",
      "| \u001b[0m 31      \u001b[0m | \u001b[0m 0.616   \u001b[0m | \u001b[0m 23.34   \u001b[0m | \u001b[0m 11.86   \u001b[0m |\n",
      "| \u001b[0m 32      \u001b[0m | \u001b[0m 0.616   \u001b[0m | \u001b[0m 6.097   \u001b[0m | \u001b[0m 32.04   \u001b[0m |\n",
      "| \u001b[0m 33      \u001b[0m | \u001b[0m 0.624   \u001b[0m | \u001b[0m 22.28   \u001b[0m | \u001b[0m 33.95   \u001b[0m |\n",
      "| \u001b[0m 34      \u001b[0m | \u001b[0m 0.6267  \u001b[0m | \u001b[0m 13.93   \u001b[0m | \u001b[0m 10.34   \u001b[0m |\n",
      "| \u001b[0m 35      \u001b[0m | \u001b[0m 0.6213  \u001b[0m | \u001b[0m 10.62   \u001b[0m | \u001b[0m 43.15   \u001b[0m |\n",
      "| \u001b[0m 36      \u001b[0m | \u001b[0m 0.584   \u001b[0m | \u001b[0m 16.59   \u001b[0m | \u001b[0m 4.574   \u001b[0m |\n",
      "| \u001b[0m 37      \u001b[0m | \u001b[0m 0.6027  \u001b[0m | \u001b[0m 15.61   \u001b[0m | \u001b[0m 19.7    \u001b[0m |\n",
      "| \u001b[0m 38      \u001b[0m | \u001b[0m 0.6293  \u001b[0m | \u001b[0m 17.08   \u001b[0m | \u001b[0m 48.01   \u001b[0m |\n",
      "| \u001b[0m 39      \u001b[0m | \u001b[0m 0.584   \u001b[0m | \u001b[0m 14.37   \u001b[0m | \u001b[0m 10.08   \u001b[0m |\n",
      "| \u001b[0m 40      \u001b[0m | \u001b[0m 0.64    \u001b[0m | \u001b[0m 31.58   \u001b[0m | \u001b[0m 15.6    \u001b[0m |\n",
      "| \u001b[0m 41      \u001b[0m | \u001b[0m 0.6107  \u001b[0m | \u001b[0m 41.09   \u001b[0m | \u001b[0m 49.03   \u001b[0m |\n",
      "| \u001b[0m 42      \u001b[0m | \u001b[0m 0.608   \u001b[0m | \u001b[0m 25.41   \u001b[0m | \u001b[0m 27.63   \u001b[0m |\n",
      "| \u001b[0m 43      \u001b[0m | \u001b[0m 0.616   \u001b[0m | \u001b[0m 15.99   \u001b[0m | \u001b[0m 30.94   \u001b[0m |\n",
      "| \u001b[0m 44      \u001b[0m | \u001b[0m 0.632   \u001b[0m | \u001b[0m 45.38   \u001b[0m | \u001b[0m 31.97   \u001b[0m |\n",
      "| \u001b[0m 45      \u001b[0m | \u001b[0m 0.6267  \u001b[0m | \u001b[0m 30.49   \u001b[0m | \u001b[0m 49.95   \u001b[0m |\n",
      "| \u001b[0m 46      \u001b[0m | \u001b[0m 0.5947  \u001b[0m | \u001b[0m 4.357   \u001b[0m | \u001b[0m 30.67   \u001b[0m |\n",
      "| \u001b[0m 47      \u001b[0m | \u001b[0m 0.6293  \u001b[0m | \u001b[0m 37.37   \u001b[0m | \u001b[0m 32.16   \u001b[0m |\n",
      "| \u001b[0m 48      \u001b[0m | \u001b[0m 0.624   \u001b[0m | \u001b[0m 24.36   \u001b[0m | \u001b[0m 11.57   \u001b[0m |\n",
      "| \u001b[0m 49      \u001b[0m | \u001b[0m 0.6187  \u001b[0m | \u001b[0m 23.34   \u001b[0m | \u001b[0m 3.016   \u001b[0m |\n",
      "| \u001b[0m 50      \u001b[0m | \u001b[0m 0.6347  \u001b[0m | \u001b[0m 13.82   \u001b[0m | \u001b[0m 29.87   \u001b[0m |\n",
      "=================================================\n",
      "Found x: 6.566060664882876, f: 0.6186666666666667\n",
      "Found y: 26.946776109429806, f: 0.624\n",
      "Max value found is: 0.6346666666666667\n"
     ]
    }
   ],
   "source": [
    "def func(x,y):\n",
    "    estimator = DecisionTreeClassifier(max_depth= int(np.round(x)))\n",
    "    clf = BaggingClassifier(base_estimator=estimator, n_estimators= int(np.round(y)))\n",
    "    clf = clf.fit(x_train, y_train)\n",
    "    yhat = clf.predict(x_test)\n",
    "    MSE = mean_squared_error(y_test, yhat)\n",
    "    acc = accuracy_score(y_test, yhat)\n",
    "    \n",
    "    return  acc\n",
    "\n",
    "\n",
    "\n",
    "xmin = 1\n",
    "xmax = 50\n",
    "ymin = 1\n",
    "ymax = 50\n",
    "\n",
    "pbounds = {'x': (xmin, xmax), 'y': (ymin, ymax)}\n",
    "\n",
    "optimizer = BayesianOptimization(f=func, pbounds=pbounds, verbose=3)\n",
    "\n",
    "optimizer.maximize(init_points = 20, n_iter = 30)\n",
    "    \n",
    "best_params = optimizer.max[\"params\"]\n",
    "    \n",
    "found_x = best_params['x']\n",
    "found_y = best_params['y']\n",
    "\n",
    "max_value = func(found_x, found_y)\n",
    "    \n",
    "print(\"Found x: {}, f: {}\".format(found_x, (func(found_x, found_y))))\n",
    "print(\"Found y: {}, f: {}\".format(found_y, (func(found_x, found_y))))\n",
    "print(\"Max value found is: {}\".format(max_value))"
   ]
  },
  {
   "cell_type": "code",
   "execution_count": 16,
   "metadata": {},
   "outputs": [],
   "source": [
    "estimator = DecisionTreeClassifier(max_depth=int(np.round(found_x)))\n",
    "clf = BaggingClassifier(base_estimator=estimator, n_estimators= int(np.round(found_y)))\n",
    "clf = clf.fit(x_train, y_train)\n",
    "yhat = clf.predict(x_test)\n",
    "MSE = mean_squared_error(y_test, yhat)\n",
    "acc = accuracy_score(y_test, yhat)"
   ]
  },
  {
   "cell_type": "code",
   "execution_count": 17,
   "metadata": {},
   "outputs": [
    {
     "data": {
      "text/plain": [
       "0.6213333333333333"
      ]
     },
     "execution_count": 17,
     "metadata": {},
     "output_type": "execute_result"
    }
   ],
   "source": [
    "acc"
   ]
  },
  {
   "cell_type": "code",
   "execution_count": 18,
   "metadata": {},
   "outputs": [
    {
     "data": {
      "text/plain": [
       "array([[1. , 0. , 0.4, 0. ]])"
      ]
     },
     "execution_count": 18,
     "metadata": {},
     "output_type": "execute_result"
    }
   ],
   "source": [
    "x = np.array([1,0,0.4,0]).reshape(1,-1)\n",
    "x"
   ]
  },
  {
   "cell_type": "code",
   "execution_count": 19,
   "metadata": {},
   "outputs": [],
   "source": [
    "a = clf.predict(x)"
   ]
  },
  {
   "cell_type": "code",
   "execution_count": 36,
   "metadata": {},
   "outputs": [],
   "source": [
    "category = int(a[0])\n",
    "if category == 1\n",
    "    "
   ]
  },
  {
   "cell_type": "markdown",
   "metadata": {},
   "source": [
    "## Using a Random Forest Classifier "
   ]
  },
  {
   "cell_type": "code",
   "execution_count": 26,
   "metadata": {},
   "outputs": [
    {
     "name": "stdout",
     "output_type": "stream",
     "text": [
      "|   iter    |  target   |     x     |     y     |\n",
      "-------------------------------------------------\n",
      "| \u001b[0m 1       \u001b[0m | \u001b[0m 0.6107  \u001b[0m | \u001b[0m 56.41   \u001b[0m | \u001b[0m 27.0    \u001b[0m |\n",
      "| \u001b[0m 2       \u001b[0m | \u001b[0m 0.6     \u001b[0m | \u001b[0m 46.75   \u001b[0m | \u001b[0m 73.54   \u001b[0m |\n",
      "| \u001b[95m 3       \u001b[0m | \u001b[95m 0.616   \u001b[0m | \u001b[95m 45.85   \u001b[0m | \u001b[95m 72.22   \u001b[0m |\n",
      "| \u001b[0m 4       \u001b[0m | \u001b[0m 0.616   \u001b[0m | \u001b[0m 88.8    \u001b[0m | \u001b[0m 18.67   \u001b[0m |\n",
      "| \u001b[0m 5       \u001b[0m | \u001b[0m 0.6133  \u001b[0m | \u001b[0m 82.33   \u001b[0m | \u001b[0m 50.7    \u001b[0m |\n",
      "| \u001b[0m 6       \u001b[0m | \u001b[0m 0.6133  \u001b[0m | \u001b[0m 31.1    \u001b[0m | \u001b[0m 16.86   \u001b[0m |\n",
      "| \u001b[95m 7       \u001b[0m | \u001b[95m 0.624   \u001b[0m | \u001b[95m 88.93   \u001b[0m | \u001b[95m 70.15   \u001b[0m |\n",
      "| \u001b[0m 8       \u001b[0m | \u001b[0m 0.616   \u001b[0m | \u001b[0m 20.38   \u001b[0m | \u001b[0m 50.99   \u001b[0m |\n",
      "| \u001b[0m 9       \u001b[0m | \u001b[0m 0.624   \u001b[0m | \u001b[0m 45.92   \u001b[0m | \u001b[0m 98.64   \u001b[0m |\n",
      "| \u001b[0m 10      \u001b[0m | \u001b[0m 0.616   \u001b[0m | \u001b[0m 4.87    \u001b[0m | \u001b[0m 44.46   \u001b[0m |\n",
      "| \u001b[0m 11      \u001b[0m | \u001b[0m 0.6187  \u001b[0m | \u001b[0m 59.37   \u001b[0m | \u001b[0m 22.72   \u001b[0m |\n",
      "| \u001b[0m 12      \u001b[0m | \u001b[0m 0.6053  \u001b[0m | \u001b[0m 28.69   \u001b[0m | \u001b[0m 21.88   \u001b[0m |\n",
      "| \u001b[0m 13      \u001b[0m | \u001b[0m 0.5973  \u001b[0m | \u001b[0m 46.71   \u001b[0m | \u001b[0m 90.05   \u001b[0m |\n",
      "| \u001b[0m 14      \u001b[0m | \u001b[0m 0.6213  \u001b[0m | \u001b[0m 27.28   \u001b[0m | \u001b[0m 96.84   \u001b[0m |\n",
      "| \u001b[0m 15      \u001b[0m | \u001b[0m 0.6053  \u001b[0m | \u001b[0m 71.48   \u001b[0m | \u001b[0m 58.2    \u001b[0m |\n",
      "| \u001b[95m 16      \u001b[0m | \u001b[95m 0.6267  \u001b[0m | \u001b[95m 30.83   \u001b[0m | \u001b[95m 22.86   \u001b[0m |\n",
      "| \u001b[0m 17      \u001b[0m | \u001b[0m 0.6107  \u001b[0m | \u001b[0m 23.06   \u001b[0m | \u001b[0m 29.78   \u001b[0m |\n",
      "| \u001b[0m 18      \u001b[0m | \u001b[0m 0.6027  \u001b[0m | \u001b[0m 23.39   \u001b[0m | \u001b[0m 25.05   \u001b[0m |\n",
      "| \u001b[0m 19      \u001b[0m | \u001b[0m 0.624   \u001b[0m | \u001b[0m 82.27   \u001b[0m | \u001b[0m 67.76   \u001b[0m |\n",
      "| \u001b[0m 20      \u001b[0m | \u001b[0m 0.624   \u001b[0m | \u001b[0m 52.43   \u001b[0m | \u001b[0m 80.49   \u001b[0m |\n",
      "| \u001b[0m 21      \u001b[0m | \u001b[0m 0.608   \u001b[0m | \u001b[0m 37.27   \u001b[0m | \u001b[0m 22.28   \u001b[0m |\n",
      "| \u001b[0m 22      \u001b[0m | \u001b[0m 0.6187  \u001b[0m | \u001b[0m 58.19   \u001b[0m | \u001b[0m 63.75   \u001b[0m |\n",
      "| \u001b[0m 23      \u001b[0m | \u001b[0m 0.608   \u001b[0m | \u001b[0m 88.92   \u001b[0m | \u001b[0m 18.71   \u001b[0m |\n",
      "| \u001b[0m 24      \u001b[0m | \u001b[0m 0.592   \u001b[0m | \u001b[0m 41.41   \u001b[0m | \u001b[0m 5.266   \u001b[0m |\n",
      "| \u001b[0m 25      \u001b[0m | \u001b[0m 0.608   \u001b[0m | \u001b[0m 34.16   \u001b[0m | \u001b[0m 7.269   \u001b[0m |\n",
      "| \u001b[0m 26      \u001b[0m | \u001b[0m 0.6133  \u001b[0m | \u001b[0m 10.72   \u001b[0m | \u001b[0m 83.86   \u001b[0m |\n",
      "| \u001b[0m 27      \u001b[0m | \u001b[0m 0.6187  \u001b[0m | \u001b[0m 79.0    \u001b[0m | \u001b[0m 71.33   \u001b[0m |\n",
      "| \u001b[0m 28      \u001b[0m | \u001b[0m 0.616   \u001b[0m | \u001b[0m 4.225   \u001b[0m | \u001b[0m 52.83   \u001b[0m |\n",
      "| \u001b[0m 29      \u001b[0m | \u001b[0m 0.5947  \u001b[0m | \u001b[0m 16.5    \u001b[0m | \u001b[0m 24.06   \u001b[0m |\n",
      "| \u001b[0m 30      \u001b[0m | \u001b[0m 0.6187  \u001b[0m | \u001b[0m 7.063   \u001b[0m | \u001b[0m 17.16   \u001b[0m |\n",
      "| \u001b[0m 31      \u001b[0m | \u001b[0m 0.608   \u001b[0m | \u001b[0m 68.13   \u001b[0m | \u001b[0m 76.3    \u001b[0m |\n",
      "| \u001b[0m 32      \u001b[0m | \u001b[0m 0.616   \u001b[0m | \u001b[0m 79.84   \u001b[0m | \u001b[0m 70.2    \u001b[0m |\n",
      "| \u001b[0m 33      \u001b[0m | \u001b[0m 0.624   \u001b[0m | \u001b[0m 30.48   \u001b[0m | \u001b[0m 96.22   \u001b[0m |\n",
      "| \u001b[0m 34      \u001b[0m | \u001b[0m 0.6133  \u001b[0m | \u001b[0m 22.54   \u001b[0m | \u001b[0m 53.9    \u001b[0m |\n",
      "| \u001b[0m 35      \u001b[0m | \u001b[0m 0.6267  \u001b[0m | \u001b[0m 82.73   \u001b[0m | \u001b[0m 62.02   \u001b[0m |\n",
      "| \u001b[95m 36      \u001b[0m | \u001b[95m 0.6293  \u001b[0m | \u001b[95m 26.86   \u001b[0m | \u001b[95m 84.17   \u001b[0m |\n",
      "| \u001b[0m 37      \u001b[0m | \u001b[0m 0.6267  \u001b[0m | \u001b[0m 84.92   \u001b[0m | \u001b[0m 62.05   \u001b[0m |\n",
      "| \u001b[0m 38      \u001b[0m | \u001b[0m 0.6187  \u001b[0m | \u001b[0m 46.95   \u001b[0m | \u001b[0m 81.16   \u001b[0m |\n",
      "| \u001b[0m 39      \u001b[0m | \u001b[0m 0.6187  \u001b[0m | \u001b[0m 59.33   \u001b[0m | \u001b[0m 47.0    \u001b[0m |\n",
      "| \u001b[0m 40      \u001b[0m | \u001b[0m 0.624   \u001b[0m | \u001b[0m 41.59   \u001b[0m | \u001b[0m 1.823   \u001b[0m |\n",
      "| \u001b[0m 41      \u001b[0m | \u001b[0m 0.6293  \u001b[0m | \u001b[0m 56.07   \u001b[0m | \u001b[0m 38.76   \u001b[0m |\n",
      "| \u001b[0m 42      \u001b[0m | \u001b[0m 0.6053  \u001b[0m | \u001b[0m 57.96   \u001b[0m | \u001b[0m 30.21   \u001b[0m |\n",
      "| \u001b[0m 43      \u001b[0m | \u001b[0m 0.6213  \u001b[0m | \u001b[0m 89.87   \u001b[0m | \u001b[0m 41.79   \u001b[0m |\n",
      "| \u001b[0m 44      \u001b[0m | \u001b[0m 0.6187  \u001b[0m | \u001b[0m 48.95   \u001b[0m | \u001b[0m 60.28   \u001b[0m |\n",
      "| \u001b[0m 45      \u001b[0m | \u001b[0m 0.5813  \u001b[0m | \u001b[0m 5.294   \u001b[0m | \u001b[0m 4.218   \u001b[0m |\n",
      "| \u001b[0m 46      \u001b[0m | \u001b[0m 0.592   \u001b[0m | \u001b[0m 46.2    \u001b[0m | \u001b[0m 13.14   \u001b[0m |\n",
      "| \u001b[95m 47      \u001b[0m | \u001b[95m 0.6373  \u001b[0m | \u001b[95m 7.622   \u001b[0m | \u001b[95m 44.22   \u001b[0m |\n",
      "| \u001b[0m 48      \u001b[0m | \u001b[0m 0.624   \u001b[0m | \u001b[0m 17.81   \u001b[0m | \u001b[0m 70.24   \u001b[0m |\n",
      "| \u001b[0m 49      \u001b[0m | \u001b[0m 0.6213  \u001b[0m | \u001b[0m 31.68   \u001b[0m | \u001b[0m 21.75   \u001b[0m |\n",
      "| \u001b[0m 50      \u001b[0m | \u001b[0m 0.5867  \u001b[0m | \u001b[0m 17.19   \u001b[0m | \u001b[0m 4.733   \u001b[0m |\n",
      "=================================================\n",
      "Found x: 7.622453435977801, f: 0.6106666666666667\n",
      "Found y: 44.22401995812902, f: 0.6133333333333333\n",
      "Max value found is: 0.6373333333333333\n"
     ]
    }
   ],
   "source": [
    "def func(x,y):\n",
    "    rfr = RandomForestClassifier(max_depth = int(np.round(x)), n_estimators = int(np.round(y)), max_features = 4)\n",
    "    rfr = rfr.fit(x_train, y_train.flatten())\n",
    "    yhat = rfr.predict(x_test)\n",
    "    MSE = mean_squared_error(y_test, yhat)\n",
    "    acc = accuracy_score(y_test, yhat)\n",
    "    return  acc\n",
    "\n",
    "from bayes_opt import BayesianOptimization\n",
    "\n",
    "xmin = 1\n",
    "xmax = 100\n",
    "ymin = 1\n",
    "ymax = 100\n",
    "\n",
    "pbounds = {'x': (xmin, xmax), 'y': (ymin, ymax)}\n",
    "\n",
    "optimizer = BayesianOptimization(f=func, pbounds=pbounds, verbose=4)\n",
    "\n",
    "optimizer.maximize(init_points = 20, n_iter = 30)\n",
    "    \n",
    "best_params = optimizer.max[\"params\"]\n",
    "    \n",
    "found_x = best_params['x']\n",
    "found_y = best_params['y']\n",
    "\n",
    "max_value = func(found_x, found_y)\n",
    "    \n",
    "print(\"Found x: {}, f: {}\".format(found_x, (func(found_x, found_y))))\n",
    "print(\"Found y: {}, f: {}\".format(found_y, (func(found_x, found_y))))\n",
    "print(\"Max value found is: {}\".format(max_value))"
   ]
  },
  {
   "cell_type": "code",
   "execution_count": 27,
   "metadata": {},
   "outputs": [],
   "source": [
    "rfr = RandomForestClassifier(max_depth = int(np.round(found_x)), n_estimators = int(np.round(found_y)), max_features = 4)\n",
    "rfr = rfr.fit(x_train, y_train.flatten())\n",
    "yhat = rfr.predict(x_test)\n",
    "MSE = mean_squared_error(y_test, yhat)\n",
    "acc = accuracy_score(y_test, yhat)"
   ]
  },
  {
   "cell_type": "code",
   "execution_count": 29,
   "metadata": {},
   "outputs": [
    {
     "data": {
      "text/plain": [
       "0.6293333333333333"
      ]
     },
     "execution_count": 29,
     "metadata": {},
     "output_type": "execute_result"
    }
   ],
   "source": [
    "acc"
   ]
  },
  {
   "cell_type": "markdown",
   "metadata": {},
   "source": [
    "## Using a Gradient Boosting Classifier "
   ]
  },
  {
   "cell_type": "markdown",
   "metadata": {},
   "source": [
    "def func(x,y):\n",
    "    gbr = GradientBoostingClassifier(n_estimators = int(np.round(x)), max_depth = int(np.round(y)), learning_rate = 0.1)\n",
    "    gbr = gbr.fit(x_train, y_train.flatten())\n",
    "    yhat = gbr.predict(x_test)\n",
    "    MSE = mean_squared_error(y_test, yhat)\n",
    "    acc = accuracy_score(y_test, yhat)\n",
    "    \n",
    "    return  acc\n",
    "\n",
    "xmin = 1\n",
    "xmax = 50\n",
    "ymin = 1\n",
    "ymax = 50\n",
    "\n",
    "pbounds = {'x': (xmin, xmax), 'y': (ymin, ymax)}\n",
    "\n",
    "optimizer = BayesianOptimization(f=func, pbounds=pbounds, verbose=3)\n",
    "\n",
    "optimizer.maximize(init_points = 20, n_iter = 30)\n",
    "    \n",
    "best_params = optimizer.max[\"params\"]\n",
    "    \n",
    "found_x = best_params['x']\n",
    "found_y = best_params['y']\n",
    "\n",
    "max_value = func(found_x, found_y)\n",
    "    \n",
    "print(\"Found x: {}, f: {}\".format(found_x, (func(found_x, found_y))))\n",
    "print(\"Found y: {}, f: {}\".format(found_y, (func(found_x, found_y))))\n",
    "print(\"Max value found is: {}\".format(max_value))"
   ]
  },
  {
   "cell_type": "markdown",
   "metadata": {},
   "source": [
    "gbr = GradientBoostingClassifier(n_estimators = int(np.round(found_x)), max_depth = int(np.round(found_y)), learning_rate = 0.1)\n",
    "gbr = gbr.fit(x_train, y_train.flatten())\n",
    "yhat = gbr.predict(x_test)\n",
    "MSE = mean_squared_error(y_test, yhat)\n",
    "acc = accuracy_score(y_test, yhat)"
   ]
  },
  {
   "cell_type": "markdown",
   "metadata": {},
   "source": [
    "## Visualizing the Data"
   ]
  },
  {
   "cell_type": "markdown",
   "metadata": {},
   "source": [
    "This code will run the predictions from the Ensemble method to generate predictions based on the number of trials, accuracy, and time of iteration"
   ]
  },
  {
   "cell_type": "code",
   "execution_count": 22,
   "metadata": {},
   "outputs": [],
   "source": [
    "def generate_data(b):\n",
    "    n = 11 #Number of points per dimension. Number of trials = n^3\n",
    "    prediction_list = []\n",
    "    prediction_parameters = []\n",
    "    for k in range(n):\n",
    "        for j in range(n):\n",
    "            for i in range(n):\n",
    "                a = k/(n-1)\n",
    "                c = j/(n-1)\n",
    "                d = i/(n-1)\n",
    "                predict_array = np.array([a,b,c,d]).reshape(1,-1)\n",
    "                prediction = clf.predict(predict_array)\n",
    "                prediction_parameters.append([a,c,d])\n",
    "                prediction_list.append(prediction)\n",
    "\n",
    "    p_class = np.asarray(prediction_list)\n",
    "    p_parameters = np.asarray(prediction_parameters)\n",
    "    data = np.hstack((p_parameters, p_class))\n",
    "    return data "
   ]
  },
  {
   "cell_type": "code",
   "execution_count": 23,
   "metadata": {},
   "outputs": [],
   "source": [
    "def plot_data(data, view_angle_h, view_angle_v):\n",
    "    cols = ['Trials', 'Accuracy', 'Time', 'Class']\n",
    "    df = pd.DataFrame(data, columns = cols)\n",
    "    \n",
    "    class_0_data = np.asarray(df[df['Class'] == 0.])\n",
    "    class_1_data = np.asarray(df[df['Class'] == 1.])\n",
    "    class_2_data = np.asarray(df[df['Class'] == 2.])\n",
    "    class_3_data = np.asarray(df[df['Class'] == 3.])\n",
    "    \n",
    "    plt.close()\n",
    "    fig = plt.subplots(figsize=(15,10))\n",
    "    ax = plt.axes(projection='3d')\n",
    "    \n",
    "    xline_0 = class_0_data[:,0]\n",
    "    yline_0 = class_0_data[:,1]\n",
    "    zline_0 = class_0_data[:,2]\n",
    "    ax.scatter3D(xline_0, yline_0, zline_0, color = 'b', marker='o', s=300, alpha = 0.25, label = 'CmaEs')\n",
    "\n",
    "    xline_1 = class_1_data[:,0]\n",
    "    yline_1 = class_1_data[:,1]\n",
    "    zline_1 = class_1_data[:,2]\n",
    "    ax.scatter3D(xline_1, yline_1, zline_1, color = 'y', marker='o', s=300, alpha = 0.25, label = 'Random')\n",
    "\n",
    "    xline_2 = class_2_data[:,0]\n",
    "    yline_2 = class_2_data[:,1]\n",
    "    zline_2 = class_2_data[:,2]\n",
    "    ax.scatter3D(xline_2, yline_2, zline_2, color = 'g', marker='o', s =300, alpha = 0.25, label = 'TPE')\n",
    "\n",
    "    xline_3 = class_3_data[:,0]\n",
    "    yline_3 = class_3_data[:,1]\n",
    "    zline_3 = class_3_data[:,2]\n",
    "    ax.scatter3D(xline_3, yline_3, zline_3, color = 'r', marker='o', s=300, alpha = 0.25, label = 'Bayes')\n",
    "\n",
    "\n",
    "    plt.legend(loc = 'upper right')\n",
    "    ax.set_xlabel('Number of Trials')\n",
    "    ax.set_ylabel('Accuracy')\n",
    "    ax.set_zlabel('Time per Iteration')\n",
    "    ax.view_init(elev= view_angle_v, azim=view_angle_h)\n",
    "    plt.show()"
   ]
  },
  {
   "cell_type": "code",
   "execution_count": 24,
   "metadata": {},
   "outputs": [],
   "source": [
    "data_0 = generate_data(0)\n",
    "data_1 = generate_data(1)"
   ]
  },
  {
   "cell_type": "code",
   "execution_count": 25,
   "metadata": {},
   "outputs": [
    {
     "data": {
      "application/vnd.jupyter.widget-view+json": {
       "model_id": "30007010e402464aaccab8b0e67a6f03",
       "version_major": 2,
       "version_minor": 0
      },
      "text/plain": [
       "interactive(children=(IntSlider(value=40, description='Rotate_View_h', max=360, min=40, step=20), IntSlider(va…"
      ]
     },
     "metadata": {},
     "output_type": "display_data"
    },
    {
     "data": {
      "text/plain": [
       "<function __main__.update(Rotate_View_h=0, Rotate_View_v=0, N_of_Params=0)>"
      ]
     },
     "execution_count": 25,
     "metadata": {},
     "output_type": "execute_result"
    }
   ],
   "source": [
    "%matplotlib inline \n",
    "def update(Rotate_View_h=0, Rotate_View_v=0, N_of_Params=0):\n",
    "    if N_of_Params == 0:\n",
    "        plot_data(data_0, Rotate_View_h, Rotate_View_v)\n",
    "    else:\n",
    "        plot_data(data_1, Rotate_View_h, Rotate_View_v)\n",
    "interact(update, Rotate_View_h = (40,360,20), Rotate_View_v = (10,360,20), N_of_Params = (0,1,1))"
   ]
  },
  {
   "cell_type": "markdown",
   "metadata": {},
   "source": [
    "## Importing from python file"
   ]
  },
  {
   "cell_type": "code",
   "execution_count": 1,
   "metadata": {},
   "outputs": [],
   "source": [
    "from ensemble_methods import decision_tree_classifier"
   ]
  },
  {
   "cell_type": "code",
   "execution_count": 2,
   "metadata": {},
   "outputs": [
    {
     "name": "stdout",
     "output_type": "stream",
     "text": [
      "|   iter    |  target   |     x     |     y     |\n",
      "-------------------------------------------------\n",
      "| \u001b[0m 1       \u001b[0m | \u001b[0m 0.6373  \u001b[0m | \u001b[0m 38.72   \u001b[0m | \u001b[0m 20.01   \u001b[0m |\n",
      "| \u001b[0m 2       \u001b[0m | \u001b[0m 0.6373  \u001b[0m | \u001b[0m 12.35   \u001b[0m | \u001b[0m 19.79   \u001b[0m |\n",
      "| \u001b[95m 3       \u001b[0m | \u001b[95m 0.6453  \u001b[0m | \u001b[95m 20.32   \u001b[0m | \u001b[95m 41.13   \u001b[0m |\n",
      "| \u001b[0m 4       \u001b[0m | \u001b[0m 0.6373  \u001b[0m | \u001b[0m 15.39   \u001b[0m | \u001b[0m 15.38   \u001b[0m |\n",
      "| \u001b[0m 5       \u001b[0m | \u001b[0m 0.584   \u001b[0m | \u001b[0m 5.209   \u001b[0m | \u001b[0m 12.31   \u001b[0m |\n",
      "| \u001b[0m 6       \u001b[0m | \u001b[0m 0.64    \u001b[0m | \u001b[0m 36.58   \u001b[0m | \u001b[0m 12.46   \u001b[0m |\n",
      "| \u001b[95m 7       \u001b[0m | \u001b[95m 0.648   \u001b[0m | \u001b[95m 27.65   \u001b[0m | \u001b[95m 46.55   \u001b[0m |\n",
      "| \u001b[0m 8       \u001b[0m | \u001b[0m 0.6267  \u001b[0m | \u001b[0m 17.44   \u001b[0m | \u001b[0m 12.37   \u001b[0m |\n",
      "| \u001b[0m 9       \u001b[0m | \u001b[0m 0.6427  \u001b[0m | \u001b[0m 29.87   \u001b[0m | \u001b[0m 13.75   \u001b[0m |\n",
      "| \u001b[95m 10      \u001b[0m | \u001b[95m 0.6533  \u001b[0m | \u001b[95m 43.78   \u001b[0m | \u001b[95m 39.97   \u001b[0m |\n",
      "| \u001b[0m 11      \u001b[0m | \u001b[0m 0.64    \u001b[0m | \u001b[0m 27.19   \u001b[0m | \u001b[0m 32.74   \u001b[0m |\n",
      "| \u001b[0m 12      \u001b[0m | \u001b[0m 0.648   \u001b[0m | \u001b[0m 48.29   \u001b[0m | \u001b[0m 40.94   \u001b[0m |\n",
      "| \u001b[0m 13      \u001b[0m | \u001b[0m 0.6453  \u001b[0m | \u001b[0m 35.69   \u001b[0m | \u001b[0m 28.48   \u001b[0m |\n",
      "| \u001b[0m 14      \u001b[0m | \u001b[0m 0.6373  \u001b[0m | \u001b[0m 30.0    \u001b[0m | \u001b[0m 22.34   \u001b[0m |\n",
      "| \u001b[0m 15      \u001b[0m | \u001b[0m 0.5893  \u001b[0m | \u001b[0m 27.73   \u001b[0m | \u001b[0m 2.305   \u001b[0m |\n",
      "| \u001b[0m 16      \u001b[0m | \u001b[0m 0.6427  \u001b[0m | \u001b[0m 48.44   \u001b[0m | \u001b[0m 32.52   \u001b[0m |\n",
      "| \u001b[95m 17      \u001b[0m | \u001b[95m 0.656   \u001b[0m | \u001b[95m 23.12   \u001b[0m | \u001b[95m 33.67   \u001b[0m |\n",
      "| \u001b[0m 18      \u001b[0m | \u001b[0m 0.6453  \u001b[0m | \u001b[0m 35.38   \u001b[0m | \u001b[0m 26.8    \u001b[0m |\n",
      "| \u001b[0m 19      \u001b[0m | \u001b[0m 0.6267  \u001b[0m | \u001b[0m 25.33   \u001b[0m | \u001b[0m 5.286   \u001b[0m |\n",
      "| \u001b[95m 20      \u001b[0m | \u001b[95m 0.6613  \u001b[0m | \u001b[95m 17.5    \u001b[0m | \u001b[95m 4.131   \u001b[0m |\n",
      "| \u001b[0m 21      \u001b[0m | \u001b[0m 0.5947  \u001b[0m | \u001b[0m 14.45   \u001b[0m | \u001b[0m 1.0     \u001b[0m |\n",
      "| \u001b[0m 22      \u001b[0m | \u001b[0m 0.6213  \u001b[0m | \u001b[0m 19.14   \u001b[0m | \u001b[0m 5.285   \u001b[0m |\n",
      "| \u001b[0m 23      \u001b[0m | \u001b[0m 0.632   \u001b[0m | \u001b[0m 17.71   \u001b[0m | \u001b[0m 3.731   \u001b[0m |\n",
      "| \u001b[0m 24      \u001b[0m | \u001b[0m 0.648   \u001b[0m | \u001b[0m 12.36   \u001b[0m | \u001b[0m 19.77   \u001b[0m |\n",
      "| \u001b[0m 25      \u001b[0m | \u001b[0m 0.6507  \u001b[0m | \u001b[0m 12.06   \u001b[0m | \u001b[0m 40.35   \u001b[0m |\n",
      "| \u001b[0m 26      \u001b[0m | \u001b[0m 0.6533  \u001b[0m | \u001b[0m 12.33   \u001b[0m | \u001b[0m 19.75   \u001b[0m |\n",
      "| \u001b[0m 27      \u001b[0m | \u001b[0m 0.624   \u001b[0m | \u001b[0m 42.42   \u001b[0m | \u001b[0m 3.057   \u001b[0m |\n",
      "| \u001b[0m 28      \u001b[0m | \u001b[0m 0.6427  \u001b[0m | \u001b[0m 31.76   \u001b[0m | \u001b[0m 23.56   \u001b[0m |\n",
      "| \u001b[0m 29      \u001b[0m | \u001b[0m 0.6453  \u001b[0m | \u001b[0m 23.03   \u001b[0m | \u001b[0m 33.64   \u001b[0m |\n",
      "| \u001b[0m 30      \u001b[0m | \u001b[0m 0.656   \u001b[0m | \u001b[0m 34.61   \u001b[0m | \u001b[0m 12.4    \u001b[0m |\n",
      "| \u001b[0m 31      \u001b[0m | \u001b[0m 0.632   \u001b[0m | \u001b[0m 34.57   \u001b[0m | \u001b[0m 12.28   \u001b[0m |\n",
      "| \u001b[0m 32      \u001b[0m | \u001b[0m 0.5893  \u001b[0m | \u001b[0m 2.784   \u001b[0m | \u001b[0m 29.29   \u001b[0m |\n",
      "| \u001b[0m 33      \u001b[0m | \u001b[0m 0.632   \u001b[0m | \u001b[0m 35.28   \u001b[0m | \u001b[0m 26.92   \u001b[0m |\n",
      "| \u001b[0m 34      \u001b[0m | \u001b[0m 0.6427  \u001b[0m | \u001b[0m 12.01   \u001b[0m | \u001b[0m 40.24   \u001b[0m |\n",
      "| \u001b[0m 35      \u001b[0m | \u001b[0m 0.6533  \u001b[0m | \u001b[0m 12.29   \u001b[0m | \u001b[0m 19.63   \u001b[0m |\n",
      "| \u001b[95m 36      \u001b[0m | \u001b[95m 0.6667  \u001b[0m | \u001b[95m 11.9    \u001b[0m | \u001b[95m 40.36   \u001b[0m |\n",
      "| \u001b[0m 37      \u001b[0m | \u001b[0m 0.6267  \u001b[0m | \u001b[0m 28.26   \u001b[0m | \u001b[0m 37.71   \u001b[0m |\n",
      "| \u001b[0m 38      \u001b[0m | \u001b[0m 0.6533  \u001b[0m | \u001b[0m 35.36   \u001b[0m | \u001b[0m 35.97   \u001b[0m |\n",
      "| \u001b[0m 39      \u001b[0m | \u001b[0m 0.6533  \u001b[0m | \u001b[0m 9.661   \u001b[0m | \u001b[0m 20.17   \u001b[0m |\n",
      "| \u001b[0m 40      \u001b[0m | \u001b[0m 0.6373  \u001b[0m | \u001b[0m 36.9    \u001b[0m | \u001b[0m 46.55   \u001b[0m |\n",
      "| \u001b[95m 41      \u001b[0m | \u001b[95m 0.6747  \u001b[0m | \u001b[95m 9.579   \u001b[0m | \u001b[95m 20.27   \u001b[0m |\n",
      "| \u001b[0m 42      \u001b[0m | \u001b[0m 0.6453  \u001b[0m | \u001b[0m 8.518   \u001b[0m | \u001b[0m 22.51   \u001b[0m |\n",
      "| \u001b[0m 43      \u001b[0m | \u001b[0m 0.656   \u001b[0m | \u001b[0m 12.4    \u001b[0m | \u001b[0m 19.68   \u001b[0m |\n",
      "| \u001b[0m 44      \u001b[0m | \u001b[0m 0.6267  \u001b[0m | \u001b[0m 17.64   \u001b[0m | \u001b[0m 4.263   \u001b[0m |\n",
      "| \u001b[0m 45      \u001b[0m | \u001b[0m 0.6453  \u001b[0m | \u001b[0m 37.32   \u001b[0m | \u001b[0m 35.87   \u001b[0m |\n",
      "| \u001b[0m 46      \u001b[0m | \u001b[0m 0.6347  \u001b[0m | \u001b[0m 9.737   \u001b[0m | \u001b[0m 20.28   \u001b[0m |\n",
      "| \u001b[0m 47      \u001b[0m | \u001b[0m 0.648   \u001b[0m | \u001b[0m 21.03   \u001b[0m | \u001b[0m 35.33   \u001b[0m |\n",
      "| \u001b[0m 48      \u001b[0m | \u001b[0m 0.6507  \u001b[0m | \u001b[0m 23.16   \u001b[0m | \u001b[0m 33.76   \u001b[0m |\n",
      "| \u001b[0m 49      \u001b[0m | \u001b[0m 0.544   \u001b[0m | \u001b[0m 2.173   \u001b[0m | \u001b[0m 10.88   \u001b[0m |\n",
      "| \u001b[0m 50      \u001b[0m | \u001b[0m 0.5787  \u001b[0m | \u001b[0m 4.754   \u001b[0m | \u001b[0m 2.528   \u001b[0m |\n",
      "=================================================\n",
      "Found x: 9.579322837783078, f: 0.6533333333333333\n",
      "Found y: 20.265925909485215, f: 0.6533333333333333\n",
      "Max value found is: 0.656\n"
     ]
    },
    {
     "data": {
      "text/plain": [
       "'TPE'"
      ]
     },
     "execution_count": 2,
     "metadata": {},
     "output_type": "execute_result"
    }
   ],
   "source": [
    "decision_tree_classifier(1,1,1,1)"
   ]
  },
  {
   "cell_type": "code",
   "execution_count": null,
   "metadata": {},
   "outputs": [],
   "source": []
  }
 ],
 "metadata": {
  "kernelspec": {
   "display_name": "Python 3",
   "language": "python",
   "name": "python3"
  },
  "language_info": {
   "codemirror_mode": {
    "name": "ipython",
    "version": 3
   },
   "file_extension": ".py",
   "mimetype": "text/x-python",
   "name": "python",
   "nbconvert_exporter": "python",
   "pygments_lexer": "ipython3",
   "version": "3.8.5"
  }
 },
 "nbformat": 4,
 "nbformat_minor": 4
}
