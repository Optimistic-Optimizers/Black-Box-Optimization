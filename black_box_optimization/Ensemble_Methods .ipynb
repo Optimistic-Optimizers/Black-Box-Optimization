{
 "cells": [
  {
   "cell_type": "code",
   "execution_count": 165,
   "metadata": {},
   "outputs": [],
   "source": [
    "import numpy as np\n",
    "import pandas as pd\n",
    "\n",
    "import sklearn \n",
    "from sklearn.model_selection import train_test_split\n",
    "from sklearn.preprocessing import StandardScaler\n",
    "from sklearn.preprocessing import MinMaxScaler\n",
    "from sklearn.ensemble import BaggingClassifier, RandomForestClassifier, GradientBoostingClassifier\n",
    "from sklearn.metrics import r2_score, mean_squared_error, accuracy_score\n",
    "from sklearn import tree\n",
    "from sklearn.tree import DecisionTreeClassifier\n",
    "import matplotlib.pyplot as plt"
   ]
  },
  {
   "cell_type": "code",
   "execution_count": 311,
   "metadata": {},
   "outputs": [
    {
     "data": {
      "text/html": [
       "<div>\n",
       "<style scoped>\n",
       "    .dataframe tbody tr th:only-of-type {\n",
       "        vertical-align: middle;\n",
       "    }\n",
       "\n",
       "    .dataframe tbody tr th {\n",
       "        vertical-align: top;\n",
       "    }\n",
       "\n",
       "    .dataframe thead th {\n",
       "        text-align: right;\n",
       "    }\n",
       "</style>\n",
       "<table border=\"1\" class=\"dataframe\">\n",
       "  <thead>\n",
       "    <tr style=\"text-align: right;\">\n",
       "      <th></th>\n",
       "      <th>Unnamed: 0</th>\n",
       "      <th>number of trials</th>\n",
       "      <th>number of parameters</th>\n",
       "      <th>type of function</th>\n",
       "      <th>accuracy [calc. max/ actual max]</th>\n",
       "      <th>time per trial [s]</th>\n",
       "      <th>type_of_opt</th>\n",
       "      <th>assigned_class</th>\n",
       "    </tr>\n",
       "  </thead>\n",
       "  <tbody>\n",
       "    <tr>\n",
       "      <th>0</th>\n",
       "      <td>0.0</td>\n",
       "      <td>16</td>\n",
       "      <td>2</td>\n",
       "      <td>Trig</td>\n",
       "      <td>0.732417</td>\n",
       "      <td>0.009824</td>\n",
       "      <td>CmaEs</td>\n",
       "      <td>0</td>\n",
       "    </tr>\n",
       "    <tr>\n",
       "      <th>1</th>\n",
       "      <td>1.0</td>\n",
       "      <td>13</td>\n",
       "      <td>2</td>\n",
       "      <td>Trig</td>\n",
       "      <td>0.983980</td>\n",
       "      <td>0.008316</td>\n",
       "      <td>CmaEs</td>\n",
       "      <td>0</td>\n",
       "    </tr>\n",
       "    <tr>\n",
       "      <th>2</th>\n",
       "      <td>2.0</td>\n",
       "      <td>10</td>\n",
       "      <td>2</td>\n",
       "      <td>Trig</td>\n",
       "      <td>0.638160</td>\n",
       "      <td>0.007854</td>\n",
       "      <td>CmaEs</td>\n",
       "      <td>0</td>\n",
       "    </tr>\n",
       "    <tr>\n",
       "      <th>3</th>\n",
       "      <td>3.0</td>\n",
       "      <td>18</td>\n",
       "      <td>2</td>\n",
       "      <td>Trig</td>\n",
       "      <td>0.952784</td>\n",
       "      <td>0.009196</td>\n",
       "      <td>CmaEs</td>\n",
       "      <td>0</td>\n",
       "    </tr>\n",
       "    <tr>\n",
       "      <th>4</th>\n",
       "      <td>4.0</td>\n",
       "      <td>11</td>\n",
       "      <td>2</td>\n",
       "      <td>Trig</td>\n",
       "      <td>0.284646</td>\n",
       "      <td>0.007938</td>\n",
       "      <td>CmaEs</td>\n",
       "      <td>0</td>\n",
       "    </tr>\n",
       "    <tr>\n",
       "      <th>...</th>\n",
       "      <td>...</td>\n",
       "      <td>...</td>\n",
       "      <td>...</td>\n",
       "      <td>...</td>\n",
       "      <td>...</td>\n",
       "      <td>...</td>\n",
       "      <td>...</td>\n",
       "      <td>...</td>\n",
       "    </tr>\n",
       "    <tr>\n",
       "      <th>1345</th>\n",
       "      <td>NaN</td>\n",
       "      <td>8</td>\n",
       "      <td>2</td>\n",
       "      <td>Trig</td>\n",
       "      <td>0.034904</td>\n",
       "      <td>0.007662</td>\n",
       "      <td>CMA-ES</td>\n",
       "      <td>5</td>\n",
       "    </tr>\n",
       "    <tr>\n",
       "      <th>1346</th>\n",
       "      <td>NaN</td>\n",
       "      <td>8</td>\n",
       "      <td>2</td>\n",
       "      <td>Trig</td>\n",
       "      <td>0.091423</td>\n",
       "      <td>0.010617</td>\n",
       "      <td>CMA-ES</td>\n",
       "      <td>5</td>\n",
       "    </tr>\n",
       "    <tr>\n",
       "      <th>1347</th>\n",
       "      <td>NaN</td>\n",
       "      <td>14</td>\n",
       "      <td>2</td>\n",
       "      <td>Trig</td>\n",
       "      <td>0.015566</td>\n",
       "      <td>0.019561</td>\n",
       "      <td>CMA-ES</td>\n",
       "      <td>5</td>\n",
       "    </tr>\n",
       "    <tr>\n",
       "      <th>1348</th>\n",
       "      <td>NaN</td>\n",
       "      <td>9</td>\n",
       "      <td>2</td>\n",
       "      <td>Trig</td>\n",
       "      <td>0.076210</td>\n",
       "      <td>0.011982</td>\n",
       "      <td>CMA-ES</td>\n",
       "      <td>5</td>\n",
       "    </tr>\n",
       "    <tr>\n",
       "      <th>1349</th>\n",
       "      <td>NaN</td>\n",
       "      <td>10</td>\n",
       "      <td>2</td>\n",
       "      <td>Trig</td>\n",
       "      <td>0.028620</td>\n",
       "      <td>0.021816</td>\n",
       "      <td>CMA-ES</td>\n",
       "      <td>5</td>\n",
       "    </tr>\n",
       "  </tbody>\n",
       "</table>\n",
       "<p>1350 rows × 8 columns</p>\n",
       "</div>"
      ],
      "text/plain": [
       "      Unnamed: 0  number of trials  number of parameters type of function  \\\n",
       "0            0.0                16                     2             Trig   \n",
       "1            1.0                13                     2             Trig   \n",
       "2            2.0                10                     2             Trig   \n",
       "3            3.0                18                     2             Trig   \n",
       "4            4.0                11                     2             Trig   \n",
       "...          ...               ...                   ...              ...   \n",
       "1345         NaN                 8                     2             Trig   \n",
       "1346         NaN                 8                     2             Trig   \n",
       "1347         NaN                14                     2             Trig   \n",
       "1348         NaN                 9                     2             Trig   \n",
       "1349         NaN                10                     2             Trig   \n",
       "\n",
       "      accuracy [calc. max/ actual max]  time per trial [s] type_of_opt  \\\n",
       "0                             0.732417            0.009824       CmaEs   \n",
       "1                             0.983980            0.008316       CmaEs   \n",
       "2                             0.638160            0.007854       CmaEs   \n",
       "3                             0.952784            0.009196       CmaEs   \n",
       "4                             0.284646            0.007938       CmaEs   \n",
       "...                                ...                 ...         ...   \n",
       "1345                          0.034904            0.007662      CMA-ES   \n",
       "1346                          0.091423            0.010617      CMA-ES   \n",
       "1347                          0.015566            0.019561      CMA-ES   \n",
       "1348                          0.076210            0.011982      CMA-ES   \n",
       "1349                          0.028620            0.021816      CMA-ES   \n",
       "\n",
       "      assigned_class  \n",
       "0                  0  \n",
       "1                  0  \n",
       "2                  0  \n",
       "3                  0  \n",
       "4                  0  \n",
       "...              ...  \n",
       "1345               5  \n",
       "1346               5  \n",
       "1347               5  \n",
       "1348               5  \n",
       "1349               5  \n",
       "\n",
       "[1350 rows x 8 columns]"
      ]
     },
     "execution_count": 311,
     "metadata": {},
     "output_type": "execute_result"
    }
   ],
   "source": [
    "df = pd.read_excel('Data/All Data combined.xlsx')\n",
    "df"
   ]
  },
  {
   "cell_type": "code",
   "execution_count": 312,
   "metadata": {},
   "outputs": [],
   "source": [
    "df = df.drop(['Unnamed: 0'], axis=1)\n",
    "df = df.drop(['type_of_opt'], axis=1)"
   ]
  },
  {
   "cell_type": "code",
   "execution_count": 313,
   "metadata": {},
   "outputs": [],
   "source": [
    "df = df[df['accuracy [calc. max/ actual max]'] < 1.05]  "
   ]
  },
  {
   "cell_type": "code",
   "execution_count": 314,
   "metadata": {},
   "outputs": [],
   "source": [
    "x = df[['number of trials','number of parameters','accuracy [calc. max/ actual max]', 'time per trial [s]']].values"
   ]
  },
  {
   "cell_type": "code",
   "execution_count": 315,
   "metadata": {},
   "outputs": [],
   "source": [
    "#df['type_of_opt'].replace('CmaEs', 1,inplace=True)\n",
    "#df['type_of_opt'].replace('Random', 2,inplace=True)\n",
    "#df['type_of_opt'].replace('TPE', 3,inplace=True)\n",
    "y = df['assigned_class']"
   ]
  },
  {
   "cell_type": "code",
   "execution_count": 316,
   "metadata": {},
   "outputs": [],
   "source": [
    "x_train, x_test, y_train, y_test = train_test_split(x, y,test_size=0.30)"
   ]
  },
  {
   "cell_type": "code",
   "execution_count": 317,
   "metadata": {},
   "outputs": [],
   "source": [
    "x_train = StandardScaler().fit(x_train).transform(x_train)\n",
    "x_test = StandardScaler().fit(x_test).transform(x_test)\n",
    "x_train = MinMaxScaler().fit(x_train).transform(x_train)\n",
    "x_test = MinMaxScaler().fit(x_test).transform(x_test)"
   ]
  },
  {
   "cell_type": "code",
   "execution_count": 318,
   "metadata": {},
   "outputs": [],
   "source": [
    "y_train = np.asarray(y_train)"
   ]
  },
  {
   "cell_type": "code",
   "execution_count": 319,
   "metadata": {},
   "outputs": [
    {
     "data": {
      "text/plain": [
       "(933, 4)"
      ]
     },
     "execution_count": 319,
     "metadata": {},
     "output_type": "execute_result"
    }
   ],
   "source": [
    "x_train.shape"
   ]
  },
  {
   "cell_type": "code",
   "execution_count": 339,
   "metadata": {},
   "outputs": [
    {
     "data": {
      "image/png": "[encoded data removed]",
      "text/plain": [
       "<Figure size 1440x288 with 4 Axes>"
      ]
     },
     "metadata": {
      "needs_background": "light"
     },
     "output_type": "display_data"
    }
   ],
   "source": [
    "fig, ax = plt.subplots(figsize=(20,4), ncols = 4)\n",
    "ax[0].hist(x_train[:,0], bins = 20)\n",
    "ax[0].set_title('n_trials')\n",
    "ax[1].hist(x_train[:,1], bins = 20)\n",
    "ax[1].set_title('n_parameters')\n",
    "ax[2].hist(x_train[:,2], bins = 20)\n",
    "ax[2].set_title('accuracy')\n",
    "ax[3].hist(x_train[:,3], bins = 20)\n",
    "ax[3].set_title('time per trial')\n",
    "plt.show()\n"
   ]
  },
  {
   "cell_type": "markdown",
   "metadata": {},
   "source": [
    "## Using a Decision Tree Classifier "
   ]
  },
  {
   "cell_type": "code",
   "execution_count": 324,
   "metadata": {},
   "outputs": [
    {
     "name": "stdout",
     "output_type": "stream",
     "text": [
      "|   iter    |  target   |     x     |     y     |\n",
      "-------------------------------------------------\n",
      "| \u001b[0m 1       \u001b[0m | \u001b[0m 0.6409  \u001b[0m | \u001b[0m 22.78   \u001b[0m | \u001b[0m 36.65   \u001b[0m |\n",
      "| \u001b[0m 2       \u001b[0m | \u001b[0m 0.6309  \u001b[0m | \u001b[0m 11.59   \u001b[0m | \u001b[0m 22.77   \u001b[0m |\n",
      "| \u001b[95m 3       \u001b[0m | \u001b[95m 0.6633  \u001b[0m | \u001b[95m 7.202   \u001b[0m | \u001b[95m 40.77   \u001b[0m |\n",
      "| \u001b[0m 4       \u001b[0m | \u001b[0m 0.6509  \u001b[0m | \u001b[0m 38.72   \u001b[0m | \u001b[0m 48.54   \u001b[0m |\n",
      "| \u001b[0m 5       \u001b[0m | \u001b[0m 0.6608  \u001b[0m | \u001b[0m 31.14   \u001b[0m | \u001b[0m 34.84   \u001b[0m |\n",
      "| \u001b[95m 6       \u001b[0m | \u001b[95m 0.6858  \u001b[0m | \u001b[95m 6.717   \u001b[0m | \u001b[95m 41.64   \u001b[0m |\n",
      "| \u001b[0m 7       \u001b[0m | \u001b[0m 0.601   \u001b[0m | \u001b[0m 3.414   \u001b[0m | \u001b[0m 16.43   \u001b[0m |\n",
      "| \u001b[0m 8       \u001b[0m | \u001b[0m 0.6484  \u001b[0m | \u001b[0m 21.01   \u001b[0m | \u001b[0m 32.58   \u001b[0m |\n",
      "| \u001b[0m 9       \u001b[0m | \u001b[0m 0.6559  \u001b[0m | \u001b[0m 11.89   \u001b[0m | \u001b[0m 16.46   \u001b[0m |\n",
      "| \u001b[0m 10      \u001b[0m | \u001b[0m 0.6234  \u001b[0m | \u001b[0m 12.29   \u001b[0m | \u001b[0m 19.8    \u001b[0m |\n",
      "| \u001b[0m 11      \u001b[0m | \u001b[0m 0.6459  \u001b[0m | \u001b[0m 5.027   \u001b[0m | \u001b[0m 23.11   \u001b[0m |\n",
      "| \u001b[0m 12      \u001b[0m | \u001b[0m 0.6085  \u001b[0m | \u001b[0m 36.93   \u001b[0m | \u001b[0m 8.95    \u001b[0m |\n",
      "| \u001b[0m 13      \u001b[0m | \u001b[0m 0.6359  \u001b[0m | \u001b[0m 4.637   \u001b[0m | \u001b[0m 49.1    \u001b[0m |\n",
      "| \u001b[0m 14      \u001b[0m | \u001b[0m 0.6384  \u001b[0m | \u001b[0m 37.33   \u001b[0m | \u001b[0m 15.18   \u001b[0m |\n",
      "| \u001b[0m 15      \u001b[0m | \u001b[0m 0.6334  \u001b[0m | \u001b[0m 4.239   \u001b[0m | \u001b[0m 21.38   \u001b[0m |\n",
      "| \u001b[0m 16      \u001b[0m | \u001b[0m 0.6459  \u001b[0m | \u001b[0m 27.44   \u001b[0m | \u001b[0m 21.24   \u001b[0m |\n",
      "| \u001b[0m 17      \u001b[0m | \u001b[0m 0.6209  \u001b[0m | \u001b[0m 26.85   \u001b[0m | \u001b[0m 19.73   \u001b[0m |\n",
      "| \u001b[0m 18      \u001b[0m | \u001b[0m 0.6434  \u001b[0m | \u001b[0m 15.81   \u001b[0m | \u001b[0m 31.75   \u001b[0m |\n",
      "| \u001b[0m 19      \u001b[0m | \u001b[0m 0.6309  \u001b[0m | \u001b[0m 11.64   \u001b[0m | \u001b[0m 44.21   \u001b[0m |\n",
      "| \u001b[0m 20      \u001b[0m | \u001b[0m 0.6234  \u001b[0m | \u001b[0m 8.56    \u001b[0m | \u001b[0m 6.0     \u001b[0m |\n",
      "| \u001b[0m 21      \u001b[0m | \u001b[0m 0.6559  \u001b[0m | \u001b[0m 7.279   \u001b[0m | \u001b[0m 42.16   \u001b[0m |\n",
      "| \u001b[0m 22      \u001b[0m | \u001b[0m 0.6783  \u001b[0m | \u001b[0m 5.884   \u001b[0m | \u001b[0m 41.75   \u001b[0m |\n",
      "| \u001b[0m 23      \u001b[0m | \u001b[0m 0.6434  \u001b[0m | \u001b[0m 6.411   \u001b[0m | \u001b[0m 41.06   \u001b[0m |\n",
      "| \u001b[0m 24      \u001b[0m | \u001b[0m 0.6409  \u001b[0m | \u001b[0m 43.76   \u001b[0m | \u001b[0m 35.43   \u001b[0m |\n",
      "| \u001b[0m 25      \u001b[0m | \u001b[0m 0.6708  \u001b[0m | \u001b[0m 6.329   \u001b[0m | \u001b[0m 41.96   \u001b[0m |\n",
      "| \u001b[0m 26      \u001b[0m | \u001b[0m 0.6534  \u001b[0m | \u001b[0m 7.204   \u001b[0m | \u001b[0m 41.62   \u001b[0m |\n",
      "| \u001b[0m 27      \u001b[0m | \u001b[0m 0.6584  \u001b[0m | \u001b[0m 6.013   \u001b[0m | \u001b[0m 41.5    \u001b[0m |\n",
      "| \u001b[0m 28      \u001b[0m | \u001b[0m 0.6608  \u001b[0m | \u001b[0m 6.685   \u001b[0m | \u001b[0m 42.0    \u001b[0m |\n",
      "| \u001b[0m 29      \u001b[0m | \u001b[0m 0.6309  \u001b[0m | \u001b[0m 43.16   \u001b[0m | \u001b[0m 44.68   \u001b[0m |\n",
      "| \u001b[0m 30      \u001b[0m | \u001b[0m 0.6434  \u001b[0m | \u001b[0m 19.27   \u001b[0m | \u001b[0m 33.32   \u001b[0m |\n",
      "| \u001b[0m 31      \u001b[0m | \u001b[0m 0.5411  \u001b[0m | \u001b[0m 2.204   \u001b[0m | \u001b[0m 31.49   \u001b[0m |\n",
      "| \u001b[0m 32      \u001b[0m | \u001b[0m 0.6309  \u001b[0m | \u001b[0m 41.86   \u001b[0m | \u001b[0m 17.31   \u001b[0m |\n",
      "| \u001b[0m 33      \u001b[0m | \u001b[0m 0.6434  \u001b[0m | \u001b[0m 5.179   \u001b[0m | \u001b[0m 42.06   \u001b[0m |\n",
      "| \u001b[0m 34      \u001b[0m | \u001b[0m 0.6584  \u001b[0m | \u001b[0m 5.968   \u001b[0m | \u001b[0m 42.14   \u001b[0m |\n",
      "| \u001b[0m 35      \u001b[0m | \u001b[0m 0.6683  \u001b[0m | \u001b[0m 7.606   \u001b[0m | \u001b[0m 40.23   \u001b[0m |\n",
      "| \u001b[0m 36      \u001b[0m | \u001b[0m 0.6359  \u001b[0m | \u001b[0m 25.92   \u001b[0m | \u001b[0m 7.613   \u001b[0m |\n",
      "| \u001b[0m 37      \u001b[0m | \u001b[0m 0.6284  \u001b[0m | \u001b[0m 46.76   \u001b[0m | \u001b[0m 35.99   \u001b[0m |\n",
      "| \u001b[0m 38      \u001b[0m | \u001b[0m 0.6584  \u001b[0m | \u001b[0m 7.092   \u001b[0m | \u001b[0m 40.23   \u001b[0m |\n",
      "| \u001b[0m 39      \u001b[0m | \u001b[0m 0.6559  \u001b[0m | \u001b[0m 14.51   \u001b[0m | \u001b[0m 36.68   \u001b[0m |\n",
      "| \u001b[0m 40      \u001b[0m | \u001b[0m 0.6658  \u001b[0m | \u001b[0m 7.929   \u001b[0m | \u001b[0m 39.69   \u001b[0m |\n",
      "| \u001b[0m 41      \u001b[0m | \u001b[0m 0.6334  \u001b[0m | \u001b[0m 7.899   \u001b[0m | \u001b[0m 39.67   \u001b[0m |\n",
      "| \u001b[0m 42      \u001b[0m | \u001b[0m 0.611   \u001b[0m | \u001b[0m 34.84   \u001b[0m | \u001b[0m 3.553   \u001b[0m |\n",
      "| \u001b[0m 43      \u001b[0m | \u001b[0m 0.6259  \u001b[0m | \u001b[0m 19.59   \u001b[0m | \u001b[0m 8.465   \u001b[0m |\n",
      "| \u001b[0m 44      \u001b[0m | \u001b[0m 0.6334  \u001b[0m | \u001b[0m 5.437   \u001b[0m | \u001b[0m 24.23   \u001b[0m |\n",
      "| \u001b[0m 45      \u001b[0m | \u001b[0m 0.596   \u001b[0m | \u001b[0m 18.46   \u001b[0m | \u001b[0m 3.824   \u001b[0m |\n",
      "| \u001b[0m 46      \u001b[0m | \u001b[0m 0.6409  \u001b[0m | \u001b[0m 45.19   \u001b[0m | \u001b[0m 35.72   \u001b[0m |\n",
      "| \u001b[0m 47      \u001b[0m | \u001b[0m 0.6384  \u001b[0m | \u001b[0m 6.635   \u001b[0m | \u001b[0m 4.51    \u001b[0m |\n",
      "| \u001b[0m 48      \u001b[0m | \u001b[0m 0.3641  \u001b[0m | \u001b[0m 1.279   \u001b[0m | \u001b[0m 15.63   \u001b[0m |\n",
      "| \u001b[0m 49      \u001b[0m | \u001b[0m 0.6409  \u001b[0m | \u001b[0m 40.24   \u001b[0m | \u001b[0m 24.25   \u001b[0m |\n",
      "| \u001b[0m 50      \u001b[0m | \u001b[0m 0.6359  \u001b[0m | \u001b[0m 6.741   \u001b[0m | \u001b[0m 41.75   \u001b[0m |\n",
      "=================================================\n",
      "Found x: 6.717497714390575, f: 0.6683291770573566\n",
      "Found y: 41.63592762570041, f: 0.6683291770573566\n",
      "Max value found is: 0.6608478802992519\n"
     ]
    }
   ],
   "source": [
    "def func(x,y):\n",
    "    estimator = DecisionTreeClassifier(max_depth= int(np.round(x)))\n",
    "    clf = BaggingClassifier(base_estimator=estimator, n_estimators= int(np.round(y)))\n",
    "    clf = clf.fit(x_train, y_train)\n",
    "    yhat = clf.predict(x_test)\n",
    "    MSE = mean_squared_error(y_test, yhat)\n",
    "    acc = accuracy_score(y_test, yhat)\n",
    "    \n",
    "    return  acc\n",
    "\n",
    "from bayes_opt import BayesianOptimization\n",
    "\n",
    "xmin = 1\n",
    "xmax = 50\n",
    "ymin = 1\n",
    "ymax = 50\n",
    "\n",
    "pbounds = {'x': (xmin, xmax), 'y': (ymin, ymax)}\n",
    "\n",
    "optimizer = BayesianOptimization(f=func, pbounds=pbounds, verbose=3)\n",
    "\n",
    "optimizer.maximize(init_points = 20, n_iter = 30)\n",
    "    \n",
    "best_params = optimizer.max[\"params\"]\n",
    "    \n",
    "found_x = best_params['x']\n",
    "found_y = best_params['y']\n",
    "\n",
    "max_value = func(found_x, found_y)\n",
    "    \n",
    "print(\"Found x: {}, f: {}\".format(found_x, (func(found_x, found_y))))\n",
    "print(\"Found y: {}, f: {}\".format(found_y, (func(found_x, found_y))))\n",
    "print(\"Max value found is: {}\".format(max_value))"
   ]
  },
  {
   "cell_type": "code",
   "execution_count": 325,
   "metadata": {},
   "outputs": [],
   "source": [
    "estimator = DecisionTreeClassifier(max_depth=int(np.round(found_x)))\n",
    "clf = BaggingClassifier(base_estimator=estimator, n_estimators= int(np.round(found_y)))\n",
    "clf = clf.fit(x_train, y_train)\n",
    "yhat = clf.predict(x_test)\n",
    "MSE = mean_squared_error(y_test, yhat)\n",
    "acc = accuracy_score(y_test, yhat)"
   ]
  },
  {
   "cell_type": "code",
   "execution_count": 326,
   "metadata": {},
   "outputs": [
    {
     "data": {
      "text/plain": [
       "0.655860349127182"
      ]
     },
     "execution_count": 326,
     "metadata": {},
     "output_type": "execute_result"
    }
   ],
   "source": [
    "acc"
   ]
  },
  {
   "cell_type": "code",
   "execution_count": 327,
   "metadata": {},
   "outputs": [
    {
     "data": {
      "text/plain": [
       "array([[1. , 0. , 0.4, 0. ]])"
      ]
     },
     "execution_count": 327,
     "metadata": {},
     "output_type": "execute_result"
    }
   ],
   "source": [
    "x = np.array([1,0,0.4,0]).reshape(1,-1)\n",
    "x"
   ]
  },
  {
   "cell_type": "code",
   "execution_count": 328,
   "metadata": {},
   "outputs": [
    {
     "data": {
      "text/plain": [
       "array([1])"
      ]
     },
     "execution_count": 328,
     "metadata": {},
     "output_type": "execute_result"
    }
   ],
   "source": [
    "clf.predict(x)"
   ]
  },
  {
   "cell_type": "markdown",
   "metadata": {},
   "source": [
    "## Using a Random Forest Classifier "
   ]
  },
  {
   "cell_type": "code",
   "execution_count": 329,
   "metadata": {},
   "outputs": [
    {
     "name": "stdout",
     "output_type": "stream",
     "text": [
      "|   iter    |  target   |     x     |     y     |\n",
      "-------------------------------------------------\n",
      "| \u001b[0m 1       \u001b[0m | \u001b[0m 0.6509  \u001b[0m | \u001b[0m 66.29   \u001b[0m | \u001b[0m 88.38   \u001b[0m |\n",
      "| \u001b[95m 2       \u001b[0m | \u001b[95m 0.6534  \u001b[0m | \u001b[95m 70.73   \u001b[0m | \u001b[95m 10.22   \u001b[0m |\n",
      "| \u001b[0m 3       \u001b[0m | \u001b[0m 0.6209  \u001b[0m | \u001b[0m 75.2    \u001b[0m | \u001b[0m 30.0    \u001b[0m |\n",
      "| \u001b[0m 4       \u001b[0m | \u001b[0m 0.6035  \u001b[0m | \u001b[0m 86.63   \u001b[0m | \u001b[0m 3.527   \u001b[0m |\n",
      "| \u001b[0m 5       \u001b[0m | \u001b[0m 0.6434  \u001b[0m | \u001b[0m 17.59   \u001b[0m | \u001b[0m 87.02   \u001b[0m |\n",
      "| \u001b[0m 6       \u001b[0m | \u001b[0m 0.596   \u001b[0m | \u001b[0m 2.558   \u001b[0m | \u001b[0m 44.02   \u001b[0m |\n",
      "| \u001b[0m 7       \u001b[0m | \u001b[0m 0.6434  \u001b[0m | \u001b[0m 95.92   \u001b[0m | \u001b[0m 85.44   \u001b[0m |\n",
      "| \u001b[0m 8       \u001b[0m | \u001b[0m 0.6334  \u001b[0m | \u001b[0m 97.37   \u001b[0m | \u001b[0m 92.55   \u001b[0m |\n",
      "| \u001b[0m 9       \u001b[0m | \u001b[0m 0.6284  \u001b[0m | \u001b[0m 29.28   \u001b[0m | \u001b[0m 13.81   \u001b[0m |\n",
      "| \u001b[0m 10      \u001b[0m | \u001b[0m 0.6209  \u001b[0m | \u001b[0m 82.16   \u001b[0m | \u001b[0m 5.028   \u001b[0m |\n",
      "| \u001b[95m 11      \u001b[0m | \u001b[95m 0.6608  \u001b[0m | \u001b[95m 9.654   \u001b[0m | \u001b[95m 59.4    \u001b[0m |\n",
      "| \u001b[0m 12      \u001b[0m | \u001b[0m 0.6334  \u001b[0m | \u001b[0m 17.27   \u001b[0m | \u001b[0m 47.67   \u001b[0m |\n",
      "| \u001b[0m 13      \u001b[0m | \u001b[0m 0.6484  \u001b[0m | \u001b[0m 49.99   \u001b[0m | \u001b[0m 87.8    \u001b[0m |\n",
      "| \u001b[0m 14      \u001b[0m | \u001b[0m 0.6484  \u001b[0m | \u001b[0m 32.78   \u001b[0m | \u001b[0m 94.38   \u001b[0m |\n",
      "| \u001b[0m 15      \u001b[0m | \u001b[0m 0.6334  \u001b[0m | \u001b[0m 48.52   \u001b[0m | \u001b[0m 64.54   \u001b[0m |\n",
      "| \u001b[95m 16      \u001b[0m | \u001b[95m 0.6633  \u001b[0m | \u001b[95m 95.83   \u001b[0m | \u001b[95m 59.12   \u001b[0m |\n",
      "| \u001b[0m 17      \u001b[0m | \u001b[0m 0.6434  \u001b[0m | \u001b[0m 24.42   \u001b[0m | \u001b[0m 51.86   \u001b[0m |\n",
      "| \u001b[0m 18      \u001b[0m | \u001b[0m 0.6185  \u001b[0m | \u001b[0m 85.84   \u001b[0m | \u001b[0m 25.66   \u001b[0m |\n",
      "| \u001b[0m 19      \u001b[0m | \u001b[0m 0.6509  \u001b[0m | \u001b[0m 10.26   \u001b[0m | \u001b[0m 89.5    \u001b[0m |\n",
      "| \u001b[0m 20      \u001b[0m | \u001b[0m 0.6309  \u001b[0m | \u001b[0m 63.65   \u001b[0m | \u001b[0m 5.963   \u001b[0m |\n",
      "| \u001b[0m 21      \u001b[0m | \u001b[0m 0.6234  \u001b[0m | \u001b[0m 95.38   \u001b[0m | \u001b[0m 66.32   \u001b[0m |\n",
      "| \u001b[0m 22      \u001b[0m | \u001b[0m 0.6434  \u001b[0m | \u001b[0m 96.17   \u001b[0m | \u001b[0m 55.67   \u001b[0m |\n",
      "| \u001b[0m 23      \u001b[0m | \u001b[0m 0.6434  \u001b[0m | \u001b[0m 92.51   \u001b[0m | \u001b[0m 59.23   \u001b[0m |\n",
      "| \u001b[0m 24      \u001b[0m | \u001b[0m 0.6434  \u001b[0m | \u001b[0m 99.22   \u001b[0m | \u001b[0m 59.5    \u001b[0m |\n",
      "| \u001b[0m 25      \u001b[0m | \u001b[0m 0.6559  \u001b[0m | \u001b[0m 12.68   \u001b[0m | \u001b[0m 59.76   \u001b[0m |\n",
      "| \u001b[0m 26      \u001b[0m | \u001b[0m 0.6434  \u001b[0m | \u001b[0m 10.3    \u001b[0m | \u001b[0m 62.59   \u001b[0m |\n",
      "| \u001b[0m 27      \u001b[0m | \u001b[0m 0.6334  \u001b[0m | \u001b[0m 10.77   \u001b[0m | \u001b[0m 56.43   \u001b[0m |\n",
      "| \u001b[0m 28      \u001b[0m | \u001b[0m 0.6509  \u001b[0m | \u001b[0m 6.591   \u001b[0m | \u001b[0m 60.32   \u001b[0m |\n",
      "| \u001b[0m 29      \u001b[0m | \u001b[0m 0.6185  \u001b[0m | \u001b[0m 71.25   \u001b[0m | \u001b[0m 13.73   \u001b[0m |\n",
      "| \u001b[0m 30      \u001b[0m | \u001b[0m 0.6534  \u001b[0m | \u001b[0m 95.56   \u001b[0m | \u001b[0m 61.44   \u001b[0m |\n",
      "| \u001b[0m 31      \u001b[0m | \u001b[0m 0.6309  \u001b[0m | \u001b[0m 70.62   \u001b[0m | \u001b[0m 7.249   \u001b[0m |\n",
      "| \u001b[0m 32      \u001b[0m | \u001b[0m 0.6633  \u001b[0m | \u001b[0m 7.204   \u001b[0m | \u001b[0m 58.06   \u001b[0m |\n",
      "| \u001b[0m 33      \u001b[0m | \u001b[0m 0.6284  \u001b[0m | \u001b[0m 4.63    \u001b[0m | \u001b[0m 57.53   \u001b[0m |\n",
      "| \u001b[0m 34      \u001b[0m | \u001b[0m 0.6509  \u001b[0m | \u001b[0m 8.543   \u001b[0m | \u001b[0m 58.98   \u001b[0m |\n",
      "| \u001b[0m 35      \u001b[0m | \u001b[0m 0.6409  \u001b[0m | \u001b[0m 11.03   \u001b[0m | \u001b[0m 59.73   \u001b[0m |\n",
      "| \u001b[0m 36      \u001b[0m | \u001b[0m 0.6459  \u001b[0m | \u001b[0m 96.7    \u001b[0m | \u001b[0m 60.26   \u001b[0m |\n",
      "| \u001b[0m 37      \u001b[0m | \u001b[0m 0.6409  \u001b[0m | \u001b[0m 94.82   \u001b[0m | \u001b[0m 59.69   \u001b[0m |\n",
      "| \u001b[0m 38      \u001b[0m | \u001b[0m 0.6484  \u001b[0m | \u001b[0m 96.25   \u001b[0m | \u001b[0m 58.26   \u001b[0m |\n",
      "| \u001b[0m 39      \u001b[0m | \u001b[0m 0.6633  \u001b[0m | \u001b[0m 7.302   \u001b[0m | \u001b[0m 58.94   \u001b[0m |\n",
      "| \u001b[0m 40      \u001b[0m | \u001b[0m 0.6484  \u001b[0m | \u001b[0m 6.732   \u001b[0m | \u001b[0m 58.6    \u001b[0m |\n",
      "| \u001b[0m 41      \u001b[0m | \u001b[0m 0.6459  \u001b[0m | \u001b[0m 7.447   \u001b[0m | \u001b[0m 57.29   \u001b[0m |\n",
      "| \u001b[0m 42      \u001b[0m | \u001b[0m 0.6409  \u001b[0m | \u001b[0m 9.488   \u001b[0m | \u001b[0m 60.59   \u001b[0m |\n",
      "| \u001b[0m 43      \u001b[0m | \u001b[0m 0.6509  \u001b[0m | \u001b[0m 7.877   \u001b[0m | \u001b[0m 58.01   \u001b[0m |\n",
      "| \u001b[0m 44      \u001b[0m | \u001b[0m 0.6509  \u001b[0m | \u001b[0m 9.886   \u001b[0m | \u001b[0m 58.46   \u001b[0m |\n",
      "| \u001b[0m 45      \u001b[0m | \u001b[0m 0.6434  \u001b[0m | \u001b[0m 95.24   \u001b[0m | \u001b[0m 58.42   \u001b[0m |\n",
      "| \u001b[0m 46      \u001b[0m | \u001b[0m 0.6434  \u001b[0m | \u001b[0m 13.12   \u001b[0m | \u001b[0m 58.9    \u001b[0m |\n",
      "| \u001b[95m 47      \u001b[0m | \u001b[95m 0.6683  \u001b[0m | \u001b[95m 7.424   \u001b[0m | \u001b[95m 59.62   \u001b[0m |\n",
      "| \u001b[0m 48      \u001b[0m | \u001b[0m 0.6584  \u001b[0m | \u001b[0m 7.654   \u001b[0m | \u001b[0m 60.62   \u001b[0m |\n",
      "| \u001b[0m 49      \u001b[0m | \u001b[0m 0.6434  \u001b[0m | \u001b[0m 13.19   \u001b[0m | \u001b[0m 60.79   \u001b[0m |\n",
      "| \u001b[0m 50      \u001b[0m | \u001b[0m 0.6584  \u001b[0m | \u001b[0m 8.433   \u001b[0m | \u001b[0m 59.94   \u001b[0m |\n",
      "=================================================\n",
      "Found x: 7.4235167133427336, f: 0.6633416458852868\n",
      "Found y: 59.623936663391646, f: 0.6683291770573566\n",
      "Max value found is: 0.6658354114713217\n"
     ]
    }
   ],
   "source": [
    "def func(x,y):\n",
    "    rfr = RandomForestClassifier(max_depth = int(np.round(x)), n_estimators = int(np.round(y)), max_features = 4)\n",
    "    rfr = rfr.fit(x_train, y_train.flatten())\n",
    "    yhat = rfr.predict(x_test)\n",
    "    MSE = mean_squared_error(y_test, yhat)\n",
    "    acc = accuracy_score(y_test, yhat)\n",
    "    return  acc\n",
    "\n",
    "from bayes_opt import BayesianOptimization\n",
    "\n",
    "xmin = 1\n",
    "xmax = 100\n",
    "ymin = 1\n",
    "ymax = 100\n",
    "\n",
    "pbounds = {'x': (xmin, xmax), 'y': (ymin, ymax)}\n",
    "\n",
    "optimizer = BayesianOptimization(f=func, pbounds=pbounds, verbose=4)\n",
    "\n",
    "optimizer.maximize(init_points = 20, n_iter = 30)\n",
    "    \n",
    "best_params = optimizer.max[\"params\"]\n",
    "    \n",
    "found_x = best_params['x']\n",
    "found_y = best_params['y']\n",
    "\n",
    "max_value = func(found_x, found_y)\n",
    "    \n",
    "print(\"Found x: {}, f: {}\".format(found_x, (func(found_x, found_y))))\n",
    "print(\"Found y: {}, f: {}\".format(found_y, (func(found_x, found_y))))\n",
    "print(\"Max value found is: {}\".format(max_value))"
   ]
  },
  {
   "cell_type": "code",
   "execution_count": 330,
   "metadata": {},
   "outputs": [],
   "source": [
    "rfr = RandomForestClassifier(max_depth = int(np.round(found_x)), n_estimators = int(np.round(found_y)), max_features = 4)\n",
    "rfr = rfr.fit(x_train, y_train.flatten())\n",
    "yhat = rfr.predict(x_test)\n",
    "MSE = mean_squared_error(y_test, yhat)\n",
    "acc = accuracy_score(y_test, yhat)"
   ]
  },
  {
   "cell_type": "code",
   "execution_count": 331,
   "metadata": {},
   "outputs": [
    {
     "data": {
      "text/plain": [
       "1.0773067331670823"
      ]
     },
     "execution_count": 331,
     "metadata": {},
     "output_type": "execute_result"
    }
   ],
   "source": [
    "MSE"
   ]
  },
  {
   "cell_type": "code",
   "execution_count": 285,
   "metadata": {},
   "outputs": [
    {
     "data": {
      "text/plain": [
       "0.6234413965087282"
      ]
     },
     "execution_count": 285,
     "metadata": {},
     "output_type": "execute_result"
    }
   ],
   "source": [
    "acc"
   ]
  },
  {
   "cell_type": "markdown",
   "metadata": {},
   "source": [
    "## Using a Gradient Boosting Classifier "
   ]
  },
  {
   "cell_type": "code",
   "execution_count": 340,
   "metadata": {},
   "outputs": [
    {
     "name": "stdout",
     "output_type": "stream",
     "text": [
      "|   iter    |  target   |     x     |     y     |\n",
      "-------------------------------------------------\n",
      "| \u001b[0m 1       \u001b[0m | \u001b[0m 0.5461  \u001b[0m | \u001b[0m 43.54   \u001b[0m | \u001b[0m 38.76   \u001b[0m |\n",
      "| \u001b[95m 2       \u001b[0m | \u001b[95m 0.6135  \u001b[0m | \u001b[95m 36.1    \u001b[0m | \u001b[95m 7.907   \u001b[0m |\n",
      "| \u001b[0m 3       \u001b[0m | \u001b[0m 0.6035  \u001b[0m | \u001b[0m 27.7    \u001b[0m | \u001b[0m 14.3    \u001b[0m |\n",
      "| \u001b[0m 4       \u001b[0m | \u001b[0m 0.5411  \u001b[0m | \u001b[0m 2.98    \u001b[0m | \u001b[0m 19.92   \u001b[0m |\n",
      "| \u001b[0m 5       \u001b[0m | \u001b[0m 0.5586  \u001b[0m | \u001b[0m 11.01   \u001b[0m | \u001b[0m 18.39   \u001b[0m |\n",
      "| \u001b[0m 6       \u001b[0m | \u001b[0m 0.5486  \u001b[0m | \u001b[0m 17.5    \u001b[0m | \u001b[0m 28.94   \u001b[0m |\n",
      "| \u001b[0m 7       \u001b[0m | \u001b[0m 0.5436  \u001b[0m | \u001b[0m 30.86   \u001b[0m | \u001b[0m 40.26   \u001b[0m |\n",
      "| \u001b[0m 8       \u001b[0m | \u001b[0m 0.5461  \u001b[0m | \u001b[0m 25.1    \u001b[0m | \u001b[0m 28.37   \u001b[0m |\n",
      "| \u001b[0m 9       \u001b[0m | \u001b[0m 0.5711  \u001b[0m | \u001b[0m 36.97   \u001b[0m | \u001b[0m 16.41   \u001b[0m |\n",
      "| \u001b[0m 10      \u001b[0m | \u001b[0m 0.5411  \u001b[0m | \u001b[0m 22.97   \u001b[0m | \u001b[0m 20.89   \u001b[0m |\n",
      "| \u001b[0m 11      \u001b[0m | \u001b[0m 0.5935  \u001b[0m | \u001b[0m 15.54   \u001b[0m | \u001b[0m 12.23   \u001b[0m |\n",
      "| \u001b[0m 12      \u001b[0m | \u001b[0m 0.5461  \u001b[0m | \u001b[0m 36.57   \u001b[0m | \u001b[0m 29.02   \u001b[0m |\n",
      "| \u001b[0m 13      \u001b[0m | \u001b[0m 0.5461  \u001b[0m | \u001b[0m 37.7    \u001b[0m | \u001b[0m 39.65   \u001b[0m |\n",
      "| \u001b[0m 14      \u001b[0m | \u001b[0m 0.5436  \u001b[0m | \u001b[0m 12.36   \u001b[0m | \u001b[0m 45.51   \u001b[0m |\n",
      "| \u001b[0m 15      \u001b[0m | \u001b[0m 0.5461  \u001b[0m | \u001b[0m 24.86   \u001b[0m | \u001b[0m 32.98   \u001b[0m |\n",
      "| \u001b[0m 16      \u001b[0m | \u001b[0m 0.5786  \u001b[0m | \u001b[0m 10.84   \u001b[0m | \u001b[0m 8.138   \u001b[0m |\n",
      "| \u001b[0m 17      \u001b[0m | \u001b[0m 0.5362  \u001b[0m | \u001b[0m 1.773   \u001b[0m | \u001b[0m 27.95   \u001b[0m |\n",
      "| \u001b[0m 18      \u001b[0m | \u001b[0m 0.601   \u001b[0m | \u001b[0m 28.59   \u001b[0m | \u001b[0m 8.707   \u001b[0m |\n",
      "| \u001b[0m 19      \u001b[0m | \u001b[0m 0.6085  \u001b[0m | \u001b[0m 45.89   \u001b[0m | \u001b[0m 13.92   \u001b[0m |\n",
      "| \u001b[95m 20      \u001b[0m | \u001b[95m 0.6185  \u001b[0m | \u001b[95m 5.453   \u001b[0m | \u001b[95m 3.903   \u001b[0m |\n",
      "| \u001b[95m 21      \u001b[0m | \u001b[95m 0.6284  \u001b[0m | \u001b[95m 44.46   \u001b[0m | \u001b[95m 5.567   \u001b[0m |\n",
      "| \u001b[0m 22      \u001b[0m | \u001b[0m 0.5237  \u001b[0m | \u001b[0m 1.0     \u001b[0m | \u001b[0m 1.0     \u001b[0m |\n",
      "| \u001b[0m 23      \u001b[0m | \u001b[0m 0.6135  \u001b[0m | \u001b[0m 42.13   \u001b[0m | \u001b[0m 9.403   \u001b[0m |\n",
      "| \u001b[0m 24      \u001b[0m | \u001b[0m 0.6209  \u001b[0m | \u001b[0m 40.17   \u001b[0m | \u001b[0m 2.959   \u001b[0m |\n",
      "| \u001b[95m 25      \u001b[0m | \u001b[95m 0.6309  \u001b[0m | \u001b[95m 49.63   \u001b[0m | \u001b[95m 8.509   \u001b[0m |\n",
      "| \u001b[0m 26      \u001b[0m | \u001b[0m 0.6135  \u001b[0m | \u001b[0m 49.42   \u001b[0m | \u001b[0m 1.145   \u001b[0m |\n",
      "| \u001b[0m 27      \u001b[0m | \u001b[0m 0.5711  \u001b[0m | \u001b[0m 9.995   \u001b[0m | \u001b[0m 1.0     \u001b[0m |\n",
      "| \u001b[0m 28      \u001b[0m | \u001b[0m 0.611   \u001b[0m | \u001b[0m 33.25   \u001b[0m | \u001b[0m 1.0     \u001b[0m |\n",
      "| \u001b[0m 29      \u001b[0m | \u001b[0m 0.5536  \u001b[0m | \u001b[0m 3.577   \u001b[0m | \u001b[0m 9.104   \u001b[0m |\n",
      "| \u001b[0m 30      \u001b[0m | \u001b[0m 0.6185  \u001b[0m | \u001b[0m 44.04   \u001b[0m | \u001b[0m 1.162   \u001b[0m |\n",
      "| \u001b[0m 31      \u001b[0m | \u001b[0m 0.5436  \u001b[0m | \u001b[0m 50.0    \u001b[0m | \u001b[0m 20.06   \u001b[0m |\n",
      "| \u001b[0m 32      \u001b[0m | \u001b[0m 0.606   \u001b[0m | \u001b[0m 24.89   \u001b[0m | \u001b[0m 1.071   \u001b[0m |\n",
      "| \u001b[0m 33      \u001b[0m | \u001b[0m 0.5985  \u001b[0m | \u001b[0m 21.47   \u001b[0m | \u001b[0m 8.093   \u001b[0m |\n",
      "| \u001b[0m 34      \u001b[0m | \u001b[0m 0.6234  \u001b[0m | \u001b[0m 48.59   \u001b[0m | \u001b[0m 5.062   \u001b[0m |\n",
      "| \u001b[0m 35      \u001b[0m | \u001b[0m 0.5411  \u001b[0m | \u001b[0m 50.0    \u001b[0m | \u001b[0m 50.0    \u001b[0m |\n",
      "| \u001b[0m 36      \u001b[0m | \u001b[0m 0.616   \u001b[0m | \u001b[0m 46.6    \u001b[0m | \u001b[0m 9.29    \u001b[0m |\n",
      "| \u001b[0m 37      \u001b[0m | \u001b[0m 0.5262  \u001b[0m | \u001b[0m 1.0     \u001b[0m | \u001b[0m 50.0    \u001b[0m |\n",
      "| \u001b[0m 38      \u001b[0m | \u001b[0m 0.5436  \u001b[0m | \u001b[0m 24.99   \u001b[0m | \u001b[0m 50.0    \u001b[0m |\n",
      "| \u001b[0m 39      \u001b[0m | \u001b[0m 0.606   \u001b[0m | \u001b[0m 49.91   \u001b[0m | \u001b[0m 12.26   \u001b[0m |\n",
      "| \u001b[95m 40      \u001b[0m | \u001b[95m 0.6359  \u001b[0m | \u001b[95m 29.83   \u001b[0m | \u001b[95m 3.174   \u001b[0m |\n",
      "| \u001b[95m 41      \u001b[0m | \u001b[95m 0.6459  \u001b[0m | \u001b[95m 32.35   \u001b[0m | \u001b[95m 4.809   \u001b[0m |\n",
      "| \u001b[0m 42      \u001b[0m | \u001b[0m 0.6384  \u001b[0m | \u001b[0m 34.81   \u001b[0m | \u001b[0m 4.65    \u001b[0m |\n",
      "| \u001b[0m 43      \u001b[0m | \u001b[0m 0.5461  \u001b[0m | \u001b[0m 37.0    \u001b[0m | \u001b[0m 49.78   \u001b[0m |\n",
      "| \u001b[0m 44      \u001b[0m | \u001b[0m 0.601   \u001b[0m | \u001b[0m 32.67   \u001b[0m | \u001b[0m 6.54    \u001b[0m |\n",
      "| \u001b[0m 45      \u001b[0m | \u001b[0m 0.6384  \u001b[0m | \u001b[0m 39.37   \u001b[0m | \u001b[0m 6.305   \u001b[0m |\n",
      "| \u001b[0m 46      \u001b[0m | \u001b[0m 0.5736  \u001b[0m | \u001b[0m 18.94   \u001b[0m | \u001b[0m 1.0     \u001b[0m |\n",
      "| \u001b[0m 47      \u001b[0m | \u001b[0m 0.6334  \u001b[0m | \u001b[0m 25.99   \u001b[0m | \u001b[0m 5.279   \u001b[0m |\n",
      "| \u001b[0m 48      \u001b[0m | \u001b[0m 0.5461  \u001b[0m | \u001b[0m 50.0    \u001b[0m | \u001b[0m 31.45   \u001b[0m |\n",
      "| \u001b[0m 49      \u001b[0m | \u001b[0m 0.5212  \u001b[0m | \u001b[0m 1.0     \u001b[0m | \u001b[0m 38.43   \u001b[0m |\n",
      "| \u001b[0m 50      \u001b[0m | \u001b[0m 0.5835  \u001b[0m | \u001b[0m 22.59   \u001b[0m | \u001b[0m 13.42   \u001b[0m |\n",
      "=================================================\n",
      "Found x: 32.3499628455739, f: 0.6408977556109726\n",
      "Found y: 4.80912996056861, f: 0.6234413965087282\n",
      "Max value found is: 0.6359102244389028\n"
     ]
    }
   ],
   "source": [
    "def func(x,y):\n",
    "    gbr = GradientBoostingClassifier(n_estimators = int(np.round(x)), max_depth = int(np.round(y)), learning_rate = 0.1)\n",
    "    gbr = gbr.fit(x_train, y_train.flatten())\n",
    "    yhat = gbr.predict(x_test)\n",
    "    MSE = mean_squared_error(y_test, yhat)\n",
    "    acc = accuracy_score(y_test, yhat)\n",
    "    \n",
    "    return  acc\n",
    "\n",
    "from bayes_opt import BayesianOptimization\n",
    "\n",
    "xmin = 1\n",
    "xmax = 50\n",
    "ymin = 1\n",
    "ymax = 50\n",
    "\n",
    "pbounds = {'x': (xmin, xmax), 'y': (ymin, ymax)}\n",
    "\n",
    "optimizer = BayesianOptimization(f=func, pbounds=pbounds, verbose=3)\n",
    "\n",
    "optimizer.maximize(init_points = 20, n_iter = 30)\n",
    "    \n",
    "best_params = optimizer.max[\"params\"]\n",
    "    \n",
    "found_x = best_params['x']\n",
    "found_y = best_params['y']\n",
    "\n",
    "max_value = func(found_x, found_y)\n",
    "    \n",
    "print(\"Found x: {}, f: {}\".format(found_x, (func(found_x, found_y))))\n",
    "print(\"Found y: {}, f: {}\".format(found_y, (func(found_x, found_y))))\n",
    "print(\"Max value found is: {}\".format(max_value))"
   ]
  },
  {
   "cell_type": "code",
   "execution_count": 341,
   "metadata": {},
   "outputs": [],
   "source": [
    "gbr = GradientBoostingClassifier(n_estimators = int(np.round(found_x)), max_depth = int(np.round(found_y)), learning_rate = 0.1)\n",
    "gbr = gbr.fit(x_train, y_train.flatten())\n",
    "yhat = gbr.predict(x_test)\n",
    "MSE = mean_squared_error(y_test, yhat)\n",
    "acc = accuracy_score(y_test, yhat)"
   ]
  },
  {
   "cell_type": "code",
   "execution_count": 342,
   "metadata": {},
   "outputs": [
    {
     "data": {
      "text/plain": [
       "1.3216957605985038"
      ]
     },
     "execution_count": 342,
     "metadata": {},
     "output_type": "execute_result"
    }
   ],
   "source": [
    "MSE"
   ]
  },
  {
   "cell_type": "code",
   "execution_count": 343,
   "metadata": {},
   "outputs": [
    {
     "data": {
      "text/plain": [
       "0.6408977556109726"
      ]
     },
     "execution_count": 343,
     "metadata": {},
     "output_type": "execute_result"
    }
   ],
   "source": [
    "acc"
   ]
  },
  {
   "cell_type": "code",
   "execution_count": null,
   "metadata": {},
   "outputs": [],
   "source": []
  }
 ],
 "metadata": {
  "kernelspec": {
   "display_name": "Python 3",
   "language": "python",
   "name": "python3"
  },
  "language_info": {
   "codemirror_mode": {
    "name": "ipython",
    "version": 3
   },
   "file_extension": ".py",
   "mimetype": "text/x-python",
   "name": "python",
   "nbconvert_exporter": "python",
   "pygments_lexer": "ipython3",
   "version": "3.8.5"
  }
 },
 "nbformat": 4,
 "nbformat_minor": 4
}
