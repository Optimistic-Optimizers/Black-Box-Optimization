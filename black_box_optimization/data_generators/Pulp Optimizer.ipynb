{
 "cells": [
  {
   "cell_type": "markdown",
   "id": "brazilian-tulsa",
   "metadata": {},
   "source": [
    "<br><br><br>\n",
    "<center> <h3 style=\"color:blue\">========================================================</h3> </center>\n",
    "<center> <h3 style=\"color:green\">Pulp Optimization</h3> </center>\n",
    "<center> <h3 style=\"color:blue\">========================================================</h3> </center>\n",
    "<br><br><br>"
   ]
  },
  {
   "cell_type": "markdown",
   "id": "atlantic-affect",
   "metadata": {},
   "source": [
    "# Import Libraries"
   ]
  },
  {
   "cell_type": "code",
   "execution_count": 1,
   "id": "forty-bible",
   "metadata": {},
   "outputs": [],
   "source": [
    "import time\n",
    "from pulp import LpMinimize\n",
    "from pulp import LpMaximize\n",
    "from pulp import LpProblem\n",
    "from pulp import LpStatus\n",
    "from pulp import lpSum\n",
    "from pulp import LpVariable\n",
    "from pulp import *\n",
    "import pandas as pd\n",
    "import numpy as np\n",
    "import random\n",
    "import matplotlib.pyplot as plt\n",
    "from tabulate import tabulate\n",
    "import warnings\n",
    "warnings.filterwarnings(\"ignore\")"
   ]
  },
  {
   "cell_type": "markdown",
   "id": "occasional-explorer",
   "metadata": {},
   "source": [
    "<br><br><br>\n",
    "<center> <h3 style=\"color:blue\">========================================================</h3> </center>\n",
    "<center> <h3 style=\"color:green\">TWO Parameters</h3> </center>\n",
    "<center> <h3 style=\"color:blue\">========================================================</h3> </center>\n",
    "<br><br><br>"
   ]
  },
  {
   "cell_type": "markdown",
   "id": "stuffed-albany",
   "metadata": {},
   "source": [
    "# Build Model"
   ]
  },
  {
   "cell_type": "code",
   "execution_count": 2,
   "id": "binary-housing",
   "metadata": {},
   "outputs": [],
   "source": [
    "model = LpProblem(name='small-problem', sense=LpMinimize)"
   ]
  },
  {
   "cell_type": "code",
   "execution_count": 3,
   "id": "previous-counter",
   "metadata": {},
   "outputs": [],
   "source": [
    "T = LpVariable(name=\"T\", lowBound=0)\n",
    "C = LpVariable(name=\"C\", lowBound=0)"
   ]
  },
  {
   "cell_type": "code",
   "execution_count": 4,
   "id": "treated-start",
   "metadata": {},
   "outputs": [],
   "source": [
    "model += (2 * T + C <= 20, \"first_constraint\")\n",
    "model += (4 * T - 5 * C >= -10, \"second_constraint\")\n",
    "#model += (-T + 2 * C >= -2, \"third_constraint\")\n",
    "#model += (-T + 5 * C == 15, \"fourth_constraint\")"
   ]
  },
  {
   "cell_type": "markdown",
   "id": "heard-disabled",
   "metadata": {},
   "source": [
    "# Objective Function"
   ]
  },
  {
   "cell_type": "code",
   "execution_count": 5,
   "id": "distinguished-attribute",
   "metadata": {},
   "outputs": [],
   "source": [
    "obj_func = 80*T - 2*8.314*C\n",
    "model += obj_func"
   ]
  },
  {
   "cell_type": "code",
   "execution_count": 6,
   "id": "reserved-participant",
   "metadata": {
    "scrolled": false
   },
   "outputs": [],
   "source": [
    "status_id = []\n",
    "status_list = []\n",
    "objective = []\n",
    "itr_time = []\n",
    "n_of_trials_collection = []\n",
    "\n",
    "for n in range(50): \n",
    "    \n",
    "    start = time.time()\n",
    "    \n",
    "    status = model.solve(PULP_CBC_CMD( mip=True) )\n",
    "    \n",
    "    status_id.append(model.status)\n",
    "    status_list.append(LpStatus[model.status])\n",
    "    n_of_trials = abs(int(np.round(np.random.randn(1)*5 + 10))) + 10\n",
    "    n_of_trials_collection.append(n_of_trials)\n",
    "    end = time.time()\n",
    "    timetaken = end - start\n",
    "    itr_time.append(timetaken)\n",
    "    objective.append(model.objective.value())"
   ]
  },
  {
   "cell_type": "code",
   "execution_count": 7,
   "id": "worse-mining",
   "metadata": {
    "scrolled": true
   },
   "outputs": [
    {
     "name": "stdout",
     "output_type": "stream",
     "text": [
      "\n",
      "\n",
      "\n",
      "==========================================\n",
      "status: 1, Optimal\n",
      "objective: -33.256\n",
      "==========================================\n",
      "\n",
      "\n",
      "\n"
     ]
    }
   ],
   "source": [
    "print(\"\\n\\n\\n==========================================\")\n",
    "print(f\"status: {model.status}, {LpStatus[model.status]}\")\n",
    "print(f\"objective: {model.objective.value()}\")\n",
    "print(\"==========================================\\n\\n\\n\")"
   ]
  },
  {
   "cell_type": "markdown",
   "id": "modular-rugby",
   "metadata": {},
   "source": [
    "# Plot Time in Graph"
   ]
  },
  {
   "cell_type": "code",
   "execution_count": 8,
   "id": "introductory-nicaragua",
   "metadata": {},
   "outputs": [
    {
     "data": {
      "image/png": "[encoded data removed]",
      "text/plain": [
       "<Figure size 504x288 with 1 Axes>"
      ]
     },
     "metadata": {
      "needs_background": "light"
     },
     "output_type": "display_data"
    }
   ],
   "source": [
    "data = itr_time\n",
    "fig = plt.figure()\n",
    "fig.set_size_inches(7, 4)\n",
    "ax = fig.add_axes([0,0,1,1])\n",
    "plt.plot(data,color = 'blue')\n",
    "plt.rc('grid', linestyle=\"--\", color='gray')\n",
    "plt.grid(True)\n",
    "plt.show()"
   ]
  },
  {
   "cell_type": "markdown",
   "id": "productive-testimony",
   "metadata": {},
   "source": [
    "# Show Results in Table"
   ]
  },
  {
   "cell_type": "code",
   "execution_count": 9,
   "id": "amateur-consequence",
   "metadata": {
    "scrolled": false
   },
   "outputs": [],
   "source": [
    "df = pd.DataFrame()\n",
    "df[\"number of trials\"] = n_of_trials_collection\n",
    "df[\"number of parameters\"] = '2'\n",
    "df[\"type of function\"] = \"Linear\"\n",
    "df[\"accuracy\"] = '1'\n",
    "df[\"Time (sec)\"] = [round(time, 3) for time in itr_time]\n",
    "df[\"type_of_opt\"] = model.solver.name\n",
    "df[\"assigned_class\"] = 5\n",
    "pd.set_option(\"display.max_rows\", None, \"display.max_columns\", None)\n",
    "table1 = df.copy()"
   ]
  },
  {
   "cell_type": "markdown",
   "id": "illegal-journey",
   "metadata": {},
   "source": [
    "<br><br><br>\n",
    "<center> <h3 style=\"color:blue\">========================================================</h3> </center>\n",
    "<center> <h3 style=\"color:green\"> Four Parameters</h3> </center>\n",
    "<center> <h3 style=\"color:blue\">========================================================</h3> </center>\n",
    "<br><br><br>"
   ]
  },
  {
   "cell_type": "markdown",
   "id": "intelligent-witch",
   "metadata": {},
   "source": [
    "# Build Model"
   ]
  },
  {
   "cell_type": "code",
   "execution_count": 10,
   "id": "vocal-provision",
   "metadata": {},
   "outputs": [],
   "source": [
    "model = LpProblem(name='small-problem', sense=LpMinimize)\n",
    "\n",
    "T = LpVariable(name=\"T\", lowBound=0)\n",
    "C = LpVariable(name=\"C\", lowBound=0)\n",
    "M = LpVariable(name=\"M\", lowBound=0)\n",
    "F = LpVariable(name=\"F\", lowBound=0)\n",
    "\n",
    "model += (2 * T + C + M + F <= 20, \"first_constraintt\")\n",
    "model += (4 * T - 5 * C + M +F >= -10, \"second_constraintt\")\n",
    "#model += (-T + 2 * C >= -2, \"third_constraint\")\n",
    "#model += (-T + 5 * C == 15, \"fourth_constraint\")"
   ]
  },
  {
   "cell_type": "markdown",
   "id": "polished-water",
   "metadata": {},
   "source": [
    "# Objective Function"
   ]
  },
  {
   "cell_type": "code",
   "execution_count": 11,
   "id": "revolutionary-lincoln",
   "metadata": {},
   "outputs": [],
   "source": [
    "obj_funct = 80*T - 2*8.314*C + 3*M - 2*F\n",
    "model += obj_funct\n",
    "\n",
    "status_id = []\n",
    "status_list = []\n",
    "objective = []\n",
    "itr_time = []\n",
    "n_of_trials_collection = []\n",
    "for n in range(50): \n",
    "    start = time.time()\n",
    "    \n",
    "    status = model.solve(PULP_CBC_CMD( mip=True) )\n",
    "    \n",
    "    status_id.append(model.status)\n",
    "    status_list.append(LpStatus[model.status])\n",
    "    n_of_trials = abs(int(np.round(np.random.randn(1)*5 + 10))) + 10\n",
    "    n_of_trials_collection.append(n_of_trials)\n",
    "    end = time.time()\n",
    "    timetaken = end - start\n",
    "    itr_time.append(timetaken)\n",
    "    objective.append(model.objective.value())"
   ]
  },
  {
   "cell_type": "code",
   "execution_count": 12,
   "id": "religious-substance",
   "metadata": {
    "scrolled": true
   },
   "outputs": [
    {
     "name": "stdout",
     "output_type": "stream",
     "text": [
      "\n",
      "\n",
      "\n",
      "==========================================\n",
      "status: 1, Optimal\n",
      "objective: -113.14\n",
      "==========================================\n",
      "\n",
      "\n",
      "\n"
     ]
    }
   ],
   "source": [
    "print(\"\\n\\n\\n==========================================\")\n",
    "print(f\"status: {model.status}, {LpStatus[model.status]}\")\n",
    "print(f\"objective: {model.objective.value()}\")\n",
    "print(\"==========================================\\n\\n\\n\")"
   ]
  },
  {
   "cell_type": "markdown",
   "id": "normal-distributor",
   "metadata": {},
   "source": [
    "# Plot Time in Graph"
   ]
  },
  {
   "cell_type": "code",
   "execution_count": 13,
   "id": "actual-trunk",
   "metadata": {},
   "outputs": [
    {
     "data": {
      "image/png": "[encoded data removed]",
      "text/plain": [
       "<Figure size 504x288 with 1 Axes>"
      ]
     },
     "metadata": {
      "needs_background": "light"
     },
     "output_type": "display_data"
    }
   ],
   "source": [
    "data = itr_time\n",
    "fig = plt.figure()\n",
    "fig.set_size_inches(7, 4)\n",
    "ax = fig.add_axes([0,0,1,1])\n",
    "plt.plot(data,color = 'blue')\n",
    "plt.rc('grid', linestyle=\"--\", color='gray')\n",
    "plt.grid(True)\n",
    "plt.show()"
   ]
  },
  {
   "cell_type": "code",
   "execution_count": 14,
   "id": "sunset-webcam",
   "metadata": {},
   "outputs": [],
   "source": [
    "df = pd.DataFrame()\n",
    "df[\"number of trials\"] = n_of_trials_collection\n",
    "df[\"number of parameters\"] = '4'\n",
    "df[\"type of function\"] = \"Linear\"\n",
    "df[\"accuracy\"] = '1'\n",
    "df[\"Time (sec)\"] = [round(time, 3) for time in itr_time]\n",
    "df[\"type_of_opt\"] = model.solver.name\n",
    "df[\"assigned_class\"] = 5\n",
    "pd.set_option(\"display.max_rows\", None, \"display.max_columns\", None)\n",
    "table2 = df.copy()"
   ]
  },
  {
   "cell_type": "code",
   "execution_count": 16,
   "id": "designing-imperial",
   "metadata": {
    "scrolled": false
   },
   "outputs": [
    {
     "name": "stdout",
     "output_type": "stream",
     "text": [
      "+----+------------------+----------------------+------------------+----------+------------+--------------+----------------+\n",
      "|    | number of trials | number of parameters | type of function | accuracy | Time (sec) | type_of_opt  | assigned_class |\n",
      "+----+------------------+----------------------+------------------+----------+------------+--------------+----------------+\n",
      "| 0  |        26        |          2           |      Linear      |    1     |   0.056    | PULP_CBC_CMD |       5        |\n",
      "| 1  |        15        |          2           |      Linear      |    1     |   0.028    | PULP_CBC_CMD |       5        |\n",
      "| 2  |        23        |          2           |      Linear      |    1     |   0.028    | PULP_CBC_CMD |       5        |\n",
      "| 3  |        32        |          2           |      Linear      |    1     |   0.028    | PULP_CBC_CMD |       5        |\n",
      "| 4  |        18        |          2           |      Linear      |    1     |   0.027    | PULP_CBC_CMD |       5        |\n",
      "| 5  |        22        |          2           |      Linear      |    1     |   0.027    | PULP_CBC_CMD |       5        |\n",
      "| 6  |        16        |          2           |      Linear      |    1     |   0.027    | PULP_CBC_CMD |       5        |\n",
      "| 7  |        26        |          2           |      Linear      |    1     |   0.029    | PULP_CBC_CMD |       5        |\n",
      "| 8  |        21        |          2           |      Linear      |    1     |   0.028    | PULP_CBC_CMD |       5        |\n",
      "| 9  |        22        |          2           |      Linear      |    1     |   0.029    | PULP_CBC_CMD |       5        |\n",
      "| 10 |        33        |          2           |      Linear      |    1     |   0.028    | PULP_CBC_CMD |       5        |\n",
      "| 11 |        22        |          2           |      Linear      |    1     |   0.028    | PULP_CBC_CMD |       5        |\n",
      "| 12 |        25        |          2           |      Linear      |    1     |   0.027    | PULP_CBC_CMD |       5        |\n",
      "| 13 |        11        |          2           |      Linear      |    1     |   0.027    | PULP_CBC_CMD |       5        |\n",
      "| 14 |        21        |          2           |      Linear      |    1     |   0.028    | PULP_CBC_CMD |       5        |\n",
      "| 15 |        13        |          2           |      Linear      |    1     |   0.028    | PULP_CBC_CMD |       5        |\n",
      "| 16 |        25        |          2           |      Linear      |    1     |   0.027    | PULP_CBC_CMD |       5        |\n",
      "| 17 |        19        |          2           |      Linear      |    1     |   0.028    | PULP_CBC_CMD |       5        |\n",
      "| 18 |        24        |          2           |      Linear      |    1     |    0.03    | PULP_CBC_CMD |       5        |\n",
      "| 19 |        27        |          2           |      Linear      |    1     |   0.027    | PULP_CBC_CMD |       5        |\n",
      "| 20 |        29        |          2           |      Linear      |    1     |   0.027    | PULP_CBC_CMD |       5        |\n",
      "| 21 |        32        |          2           |      Linear      |    1     |   0.028    | PULP_CBC_CMD |       5        |\n",
      "| 22 |        24        |          2           |      Linear      |    1     |   0.027    | PULP_CBC_CMD |       5        |\n",
      "| 23 |        16        |          2           |      Linear      |    1     |   0.028    | PULP_CBC_CMD |       5        |\n",
      "| 24 |        15        |          2           |      Linear      |    1     |   0.032    | PULP_CBC_CMD |       5        |\n",
      "| 25 |        23        |          2           |      Linear      |    1     |   0.028    | PULP_CBC_CMD |       5        |\n",
      "| 26 |        24        |          2           |      Linear      |    1     |   0.028    | PULP_CBC_CMD |       5        |\n",
      "| 27 |        21        |          2           |      Linear      |    1     |   0.028    | PULP_CBC_CMD |       5        |\n",
      "| 28 |        19        |          2           |      Linear      |    1     |   0.028    | PULP_CBC_CMD |       5        |\n",
      "| 29 |        18        |          2           |      Linear      |    1     |   0.028    | PULP_CBC_CMD |       5        |\n",
      "| 30 |        20        |          2           |      Linear      |    1     |   0.029    | PULP_CBC_CMD |       5        |\n",
      "| 31 |        21        |          2           |      Linear      |    1     |   0.027    | PULP_CBC_CMD |       5        |\n",
      "| 32 |        15        |          2           |      Linear      |    1     |   0.028    | PULP_CBC_CMD |       5        |\n",
      "| 33 |        13        |          2           |      Linear      |    1     |   0.028    | PULP_CBC_CMD |       5        |\n",
      "| 34 |        20        |          2           |      Linear      |    1     |   0.031    | PULP_CBC_CMD |       5        |\n",
      "| 35 |        15        |          2           |      Linear      |    1     |    0.03    | PULP_CBC_CMD |       5        |\n",
      "| 36 |        24        |          2           |      Linear      |    1     |   0.027    | PULP_CBC_CMD |       5        |\n",
      "| 37 |        15        |          2           |      Linear      |    1     |   0.027    | PULP_CBC_CMD |       5        |\n",
      "| 38 |        27        |          2           |      Linear      |    1     |    0.03    | PULP_CBC_CMD |       5        |\n",
      "| 39 |        18        |          2           |      Linear      |    1     |   0.034    | PULP_CBC_CMD |       5        |\n",
      "| 40 |        24        |          2           |      Linear      |    1     |   0.031    | PULP_CBC_CMD |       5        |\n",
      "| 41 |        18        |          2           |      Linear      |    1     |   0.031    | PULP_CBC_CMD |       5        |\n",
      "| 42 |        18        |          2           |      Linear      |    1     |   0.029    | PULP_CBC_CMD |       5        |\n",
      "| 43 |        23        |          2           |      Linear      |    1     |   0.029    | PULP_CBC_CMD |       5        |\n",
      "| 44 |        16        |          2           |      Linear      |    1     |   0.028    | PULP_CBC_CMD |       5        |\n",
      "| 45 |        19        |          2           |      Linear      |    1     |   0.028    | PULP_CBC_CMD |       5        |\n",
      "| 46 |        20        |          2           |      Linear      |    1     |   0.028    | PULP_CBC_CMD |       5        |\n",
      "| 47 |        20        |          2           |      Linear      |    1     |   0.029    | PULP_CBC_CMD |       5        |\n",
      "| 48 |        22        |          2           |      Linear      |    1     |   0.027    | PULP_CBC_CMD |       5        |\n",
      "| 49 |        25        |          2           |      Linear      |    1     |   0.028    | PULP_CBC_CMD |       5        |\n",
      "| 0  |        16        |          4           |      Linear      |    1     |   0.045    | PULP_CBC_CMD |       5        |\n",
      "| 1  |        19        |          4           |      Linear      |    1     |   0.028    | PULP_CBC_CMD |       5        |\n",
      "| 2  |        25        |          4           |      Linear      |    1     |   0.036    | PULP_CBC_CMD |       5        |\n",
      "| 3  |        21        |          4           |      Linear      |    1     |   0.058    | PULP_CBC_CMD |       5        |\n",
      "| 4  |        21        |          4           |      Linear      |    1     |   0.028    | PULP_CBC_CMD |       5        |\n",
      "| 5  |        17        |          4           |      Linear      |    1     |   0.028    | PULP_CBC_CMD |       5        |\n",
      "| 6  |        26        |          4           |      Linear      |    1     |   0.027    | PULP_CBC_CMD |       5        |\n",
      "| 7  |        12        |          4           |      Linear      |    1     |   0.028    | PULP_CBC_CMD |       5        |\n",
      "| 8  |        19        |          4           |      Linear      |    1     |   0.028    | PULP_CBC_CMD |       5        |\n",
      "| 9  |        21        |          4           |      Linear      |    1     |   0.029    | PULP_CBC_CMD |       5        |\n",
      "| 10 |        21        |          4           |      Linear      |    1     |   0.027    | PULP_CBC_CMD |       5        |\n",
      "| 11 |        32        |          4           |      Linear      |    1     |   0.028    | PULP_CBC_CMD |       5        |\n",
      "| 12 |        22        |          4           |      Linear      |    1     |   0.028    | PULP_CBC_CMD |       5        |\n",
      "| 13 |        16        |          4           |      Linear      |    1     |   0.029    | PULP_CBC_CMD |       5        |\n",
      "| 14 |        17        |          4           |      Linear      |    1     |   0.027    | PULP_CBC_CMD |       5        |\n",
      "| 15 |        22        |          4           |      Linear      |    1     |   0.028    | PULP_CBC_CMD |       5        |\n",
      "| 16 |        13        |          4           |      Linear      |    1     |   0.028    | PULP_CBC_CMD |       5        |\n",
      "| 17 |        22        |          4           |      Linear      |    1     |   0.028    | PULP_CBC_CMD |       5        |\n",
      "| 18 |        15        |          4           |      Linear      |    1     |   0.028    | PULP_CBC_CMD |       5        |\n",
      "| 19 |        28        |          4           |      Linear      |    1     |   0.028    | PULP_CBC_CMD |       5        |\n",
      "| 20 |        20        |          4           |      Linear      |    1     |   0.028    | PULP_CBC_CMD |       5        |\n",
      "| 21 |        24        |          4           |      Linear      |    1     |   0.029    | PULP_CBC_CMD |       5        |\n",
      "| 22 |        10        |          4           |      Linear      |    1     |   0.028    | PULP_CBC_CMD |       5        |\n",
      "| 23 |        20        |          4           |      Linear      |    1     |   0.028    | PULP_CBC_CMD |       5        |\n",
      "| 24 |        16        |          4           |      Linear      |    1     |   0.042    | PULP_CBC_CMD |       5        |\n",
      "| 25 |        18        |          4           |      Linear      |    1     |   0.031    | PULP_CBC_CMD |       5        |\n",
      "| 26 |        22        |          4           |      Linear      |    1     |   0.027    | PULP_CBC_CMD |       5        |\n",
      "| 27 |        17        |          4           |      Linear      |    1     |   0.028    | PULP_CBC_CMD |       5        |\n",
      "| 28 |        24        |          4           |      Linear      |    1     |   0.028    | PULP_CBC_CMD |       5        |\n",
      "| 29 |        18        |          4           |      Linear      |    1     |   0.029    | PULP_CBC_CMD |       5        |\n",
      "| 30 |        22        |          4           |      Linear      |    1     |   0.028    | PULP_CBC_CMD |       5        |\n",
      "| 31 |        12        |          4           |      Linear      |    1     |   0.037    | PULP_CBC_CMD |       5        |\n",
      "| 32 |        20        |          4           |      Linear      |    1     |   0.036    | PULP_CBC_CMD |       5        |\n",
      "| 33 |        21        |          4           |      Linear      |    1     |   0.033    | PULP_CBC_CMD |       5        |\n",
      "| 34 |        14        |          4           |      Linear      |    1     |   0.027    | PULP_CBC_CMD |       5        |\n",
      "| 35 |        28        |          4           |      Linear      |    1     |   0.028    | PULP_CBC_CMD |       5        |\n",
      "| 36 |        20        |          4           |      Linear      |    1     |   0.027    | PULP_CBC_CMD |       5        |\n",
      "| 37 |        15        |          4           |      Linear      |    1     |   0.032    | PULP_CBC_CMD |       5        |\n",
      "| 38 |        18        |          4           |      Linear      |    1     |   0.034    | PULP_CBC_CMD |       5        |\n",
      "| 39 |        12        |          4           |      Linear      |    1     |   0.028    | PULP_CBC_CMD |       5        |\n",
      "| 40 |        28        |          4           |      Linear      |    1     |   0.031    | PULP_CBC_CMD |       5        |\n",
      "| 41 |        22        |          4           |      Linear      |    1     |   0.031    | PULP_CBC_CMD |       5        |\n",
      "| 42 |        17        |          4           |      Linear      |    1     |   0.032    | PULP_CBC_CMD |       5        |\n",
      "| 43 |        27        |          4           |      Linear      |    1     |   0.028    | PULP_CBC_CMD |       5        |\n",
      "| 44 |        18        |          4           |      Linear      |    1     |   0.027    | PULP_CBC_CMD |       5        |\n",
      "| 45 |        20        |          4           |      Linear      |    1     |   0.027    | PULP_CBC_CMD |       5        |\n",
      "| 46 |        20        |          4           |      Linear      |    1     |   0.028    | PULP_CBC_CMD |       5        |\n",
      "| 47 |        23        |          4           |      Linear      |    1     |   0.028    | PULP_CBC_CMD |       5        |\n",
      "| 48 |        23        |          4           |      Linear      |    1     |   0.026    | PULP_CBC_CMD |       5        |\n",
      "| 49 |        22        |          4           |      Linear      |    1     |   0.028    | PULP_CBC_CMD |       5        |\n",
      "+----+------------------+----------------------+------------------+----------+------------+--------------+----------------+\n"
     ]
    }
   ],
   "source": [
    "results = table1.append(table2)\n",
    "results.to_csv('Pulp.csv')\n",
    "print(tabulate(results, results.columns, tablefmt=\"pretty\"))"
   ]
  },
  {
   "cell_type": "markdown",
   "id": "internal-yacht",
   "metadata": {},
   "source": [
    "<br><br><br>\n",
    "<center> <h3 style=\"color:blue\">========================================================</h3> </center>\n",
    "<center> <h3 style=\"color:green\">Thank you so much</h3> </center>\n",
    "<center> <h3 style=\"color:blue\">========================================================</h3> </center>\n",
    "<br><br><br>"
   ]
  }
 ],
 "metadata": {
  "kernelspec": {
   "display_name": "Python 3",
   "language": "python",
   "name": "python3"
  },
  "language_info": {
   "codemirror_mode": {
    "name": "ipython",
    "version": 3
   },
   "file_extension": ".py",
   "mimetype": "text/x-python",
   "name": "python",
   "nbconvert_exporter": "python",
   "pygments_lexer": "ipython3",
   "version": "3.8.5"
  }
 },
 "nbformat": 4,
 "nbformat_minor": 5
}
