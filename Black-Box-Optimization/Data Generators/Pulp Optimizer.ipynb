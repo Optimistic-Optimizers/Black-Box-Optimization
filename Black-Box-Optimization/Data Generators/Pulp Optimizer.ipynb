{
 "cells": [
  {
   "cell_type": "markdown",
   "metadata": {},
   "source": [
    "<br><br><br>\n",
    "<center> <h3 style=\"color:blue\">========================================================</h3> </center>\n",
    "<center> <h3 style=\"color:green\">Pulp Optimization</h3> </center>\n",
    "<center> <h3 style=\"color:blue\">========================================================</h3> </center>\n",
    "<br><br><br>"
   ]
  },
  {
   "cell_type": "markdown",
   "metadata": {},
   "source": [
    "# Import Libraries"
   ]
  },
  {
   "cell_type": "code",
   "execution_count": 1,
   "metadata": {},
   "outputs": [],
   "source": [
    "import time\n",
    "from pulp import LpMinimize\n",
    "from pulp import LpMaximize\n",
    "from pulp import LpProblem\n",
    "from pulp import LpStatus\n",
    "from pulp import lpSum\n",
    "from pulp import LpVariable\n",
    "from pulp import *\n",
    "import pandas as pd\n",
    "import numpy as np\n",
    "import matplotlib.pyplot as plt\n",
    "from tabulate import tabulate\n",
    "import warnings\n",
    "warnings.filterwarnings(\"ignore\")"
   ]
  },
  {
   "cell_type": "markdown",
   "metadata": {},
   "source": [
    "# Build Model"
   ]
  },
  {
   "cell_type": "code",
   "execution_count": 2,
   "metadata": {},
   "outputs": [],
   "source": [
    "model = LpProblem(name='small-problem', sense=LpMinimize)"
   ]
  },
  {
   "cell_type": "code",
   "execution_count": 3,
   "metadata": {},
   "outputs": [],
   "source": [
    "T = LpVariable(name=\"T\", lowBound=0)\n",
    "C = LpVariable(name=\"C\", lowBound=0)"
   ]
  },
  {
   "cell_type": "code",
   "execution_count": 4,
   "metadata": {},
   "outputs": [],
   "source": [
    "model += (2 * T + C <= 20, \"first_constraint\")\n",
    "model += (4 * T - 5 * C >= -10, \"second_constraint\")\n",
    "model += (-T + 2 * C >= -2, \"third_constraint\")\n",
    "model += (-T + 5 * C == 15, \"fourth_constraint\")"
   ]
  },
  {
   "cell_type": "markdown",
   "metadata": {},
   "source": [
    "# Objective Function"
   ]
  },
  {
   "cell_type": "code",
   "execution_count": 5,
   "metadata": {},
   "outputs": [],
   "source": [
    "obj_func = 80*T - 2*8.314*C\n",
    "model += obj_func"
   ]
  },
  {
   "cell_type": "code",
   "execution_count": 6,
   "metadata": {
    "scrolled": false
   },
   "outputs": [],
   "source": [
    "status_id = []\n",
    "status_list = []\n",
    "objective = []\n",
    "itr_time = []\n",
    "for n in range(100): \n",
    "    start = time.time()\n",
    "    \n",
    "    status = model.solve(PULP_CBC_CMD( mip=True) )\n",
    "    \n",
    "    status_id.append(model.status)\n",
    "    status_list.append(LpStatus[model.status])\n",
    "    \n",
    "    end = time.time()\n",
    "    timetaken = end - start\n",
    "    itr_time.append(timetaken)\n",
    "    objective.append(model.objective.value())"
   ]
  },
  {
   "cell_type": "code",
   "execution_count": 7,
   "metadata": {
    "scrolled": true
   },
   "outputs": [
    {
     "name": "stdout",
     "output_type": "stream",
     "text": [
      "\n",
      "\n",
      "\n",
      "==========================================\n",
      "status: 1, Optimal\n",
      "objective: 77.9066698876\n",
      "==========================================\n",
      "\n",
      "\n",
      "\n"
     ]
    }
   ],
   "source": [
    "print(\"\\n\\n\\n==========================================\")\n",
    "print(f\"status: {model.status}, {LpStatus[model.status]}\")\n",
    "print(f\"objective: {model.objective.value()}\")\n",
    "print(\"==========================================\\n\\n\\n\")"
   ]
  },
  {
   "cell_type": "markdown",
   "metadata": {},
   "source": [
    "# Plot Time in Graph"
   ]
  },
  {
   "cell_type": "code",
   "execution_count": 8,
   "metadata": {},
   "outputs": [
    {
     "data": {
      "image/png": "[encoded data removed]",
      "text/plain": [
       "<Figure size 504x288 with 1 Axes>"
      ]
     },
     "metadata": {
      "needs_background": "light"
     },
     "output_type": "display_data"
    }
   ],
   "source": [
    "data = itr_time\n",
    "fig = plt.figure()\n",
    "fig.set_size_inches(7, 4)\n",
    "ax = fig.add_axes([0,0,1,1])\n",
    "plt.plot(data,color = 'blue')\n",
    "plt.rc('grid', linestyle=\"--\", color='gray')\n",
    "plt.grid(True)\n",
    "plt.show()"
   ]
  },
  {
   "cell_type": "markdown",
   "metadata": {},
   "source": [
    "# Show Results in Table"
   ]
  },
  {
   "cell_type": "code",
   "execution_count": 9,
   "metadata": {
    "scrolled": false
   },
   "outputs": [],
   "source": [
    "df = pd.DataFrame()\n",
    "df[\"Status\"] = status_id\n",
    "df[\"LpStatus\"] = status_list\n",
    "df[\"Constraint\"] = \"LpMinimize\"\n",
    "df[\"Solver\"] = model.solver.name\n",
    "df[\"Value\"] = [round(obj, 4) for obj in objective]\n",
    "df[\"Time (sec)\"] = [round(time, 3) for time in itr_time]\n",
    "pd.set_option(\"display.max_rows\", None, \"display.max_columns\", None)\n",
    "table1 = df.copy()"
   ]
  },
  {
   "cell_type": "markdown",
   "metadata": {},
   "source": [
    "# Build Model"
   ]
  },
  {
   "cell_type": "code",
   "execution_count": 10,
   "metadata": {},
   "outputs": [],
   "source": [
    "model = LpProblem(name='small-problem', sense=LpMaximize)\n",
    "\n",
    "T = LpVariable(name=\"T\", lowBound=0)\n",
    "C = LpVariable(name=\"C\", lowBound=0)\n",
    "\n",
    "model += (2 * T + C <= 20, \"first_constraint\")\n",
    "model += (4 * T - 5 * C >= -10, \"second_constraint\")\n",
    "model += (-T + 2 * C >= -2, \"third_constraint\")\n",
    "model += (-T + 5 * C == 15, \"fourth_constraint\")"
   ]
  },
  {
   "cell_type": "markdown",
   "metadata": {},
   "source": [
    "# Objective Function"
   ]
  },
  {
   "cell_type": "code",
   "execution_count": 11,
   "metadata": {},
   "outputs": [],
   "source": [
    "obj_func = 80*T - 2*8.314*C\n",
    "model += obj_func\n",
    "\n",
    "status_id = []\n",
    "status_list = []\n",
    "objective = []\n",
    "itr_time = []\n",
    "for n in range(100): \n",
    "    start = time.time()\n",
    "    \n",
    "    status = model.solve(PULP_CBC_CMD( mip=True) )\n",
    "    \n",
    "    status_id.append(model.status)\n",
    "    status_list.append(LpStatus[model.status])\n",
    "    \n",
    "    end = time.time()\n",
    "    timetaken = end - start\n",
    "    itr_time.append(timetaken)\n",
    "    objective.append(model.objective.value())"
   ]
  },
  {
   "cell_type": "code",
   "execution_count": 12,
   "metadata": {
    "scrolled": true
   },
   "outputs": [
    {
     "name": "stdout",
     "output_type": "stream",
     "text": [
      "\n",
      "\n",
      "\n",
      "==========================================\n",
      "status: 1, Optimal\n",
      "objective: 542.599998574\n",
      "==========================================\n",
      "\n",
      "\n",
      "\n"
     ]
    }
   ],
   "source": [
    "print(\"\\n\\n\\n==========================================\")\n",
    "print(f\"status: {model.status}, {LpStatus[model.status]}\")\n",
    "print(f\"objective: {model.objective.value()}\")\n",
    "print(\"==========================================\\n\\n\\n\")"
   ]
  },
  {
   "cell_type": "markdown",
   "metadata": {},
   "source": [
    "# Plot Time in Graph"
   ]
  },
  {
   "cell_type": "code",
   "execution_count": 13,
   "metadata": {},
   "outputs": [
    {
     "data": {
      "image/png": "[encoded data removed]",
      "text/plain": [
       "<Figure size 504x288 with 1 Axes>"
      ]
     },
     "metadata": {
      "needs_background": "light"
     },
     "output_type": "display_data"
    }
   ],
   "source": [
    "data = itr_time\n",
    "fig = plt.figure()\n",
    "fig.set_size_inches(7, 4)\n",
    "ax = fig.add_axes([0,0,1,1])\n",
    "plt.plot(data,color = 'blue')\n",
    "plt.rc('grid', linestyle=\"--\", color='gray')\n",
    "plt.grid(True)\n",
    "plt.show()"
   ]
  },
  {
   "cell_type": "code",
   "execution_count": 14,
   "metadata": {},
   "outputs": [],
   "source": [
    "df = pd.DataFrame()\n",
    "df[\"Status\"] = status_id\n",
    "df[\"LpStatus\"] = status_list\n",
    "df[\"Constraint\"] = \"LpMaximize\"\n",
    "df[\"Solver\"] = model.solver.name\n",
    "df[\"Value\"] = [round(obj, 4) for obj in objective]\n",
    "df[\"Time (sec)\"] = [round(time, 3) for time in itr_time]\n",
    "pd.set_option(\"display.max_rows\", None, \"display.max_columns\", None)\n",
    "table2 = df.copy()"
   ]
  },
  {
   "cell_type": "code",
   "execution_count": 15,
   "metadata": {
    "scrolled": false
   },
   "outputs": [
    {
     "name": "stdout",
     "output_type": "stream",
     "text": [
      "+--------+----------+------------+--------------+---------+------------+\n",
      "| Status | LpStatus | Constraint |    Solver    |  Value  | Time (sec) |\n",
      "+--------+----------+------------+--------------+---------+------------+\n",
      "|   1    | Optimal  | LpMinimize | PULP_CBC_CMD | 77.9067 |   0.021    |\n",
      "|   1    | Optimal  | LpMinimize | PULP_CBC_CMD | 77.9067 |   0.019    |\n",
      "|   1    | Optimal  | LpMinimize | PULP_CBC_CMD | 77.9067 |   0.019    |\n",
      "|   1    | Optimal  | LpMinimize | PULP_CBC_CMD | 77.9067 |   0.017    |\n",
      "|   1    | Optimal  | LpMinimize | PULP_CBC_CMD | 77.9067 |   0.018    |\n",
      "|   1    | Optimal  | LpMinimize | PULP_CBC_CMD | 77.9067 |   0.018    |\n",
      "|   1    | Optimal  | LpMinimize | PULP_CBC_CMD | 77.9067 |   0.018    |\n",
      "|   1    | Optimal  | LpMinimize | PULP_CBC_CMD | 77.9067 |   0.018    |\n",
      "|   1    | Optimal  | LpMinimize | PULP_CBC_CMD | 77.9067 |   0.018    |\n",
      "|   1    | Optimal  | LpMinimize | PULP_CBC_CMD | 77.9067 |   0.017    |\n",
      "|   1    | Optimal  | LpMinimize | PULP_CBC_CMD | 77.9067 |   0.018    |\n",
      "|   1    | Optimal  | LpMinimize | PULP_CBC_CMD | 77.9067 |   0.019    |\n",
      "|   1    | Optimal  | LpMinimize | PULP_CBC_CMD | 77.9067 |   0.018    |\n",
      "|   1    | Optimal  | LpMinimize | PULP_CBC_CMD | 77.9067 |   0.017    |\n",
      "|   1    | Optimal  | LpMinimize | PULP_CBC_CMD | 77.9067 |   0.019    |\n",
      "|   1    | Optimal  | LpMinimize | PULP_CBC_CMD | 77.9067 |   0.016    |\n",
      "|   1    | Optimal  | LpMinimize | PULP_CBC_CMD | 77.9067 |   0.018    |\n",
      "|   1    | Optimal  | LpMinimize | PULP_CBC_CMD | 77.9067 |   0.018    |\n",
      "|   1    | Optimal  | LpMinimize | PULP_CBC_CMD | 77.9067 |   0.017    |\n",
      "|   1    | Optimal  | LpMinimize | PULP_CBC_CMD | 77.9067 |   0.017    |\n",
      "|   1    | Optimal  | LpMinimize | PULP_CBC_CMD | 77.9067 |   0.017    |\n",
      "|   1    | Optimal  | LpMinimize | PULP_CBC_CMD | 77.9067 |   0.018    |\n",
      "|   1    | Optimal  | LpMinimize | PULP_CBC_CMD | 77.9067 |   0.019    |\n",
      "|   1    | Optimal  | LpMinimize | PULP_CBC_CMD | 77.9067 |   0.017    |\n",
      "|   1    | Optimal  | LpMinimize | PULP_CBC_CMD | 77.9067 |   0.018    |\n",
      "|   1    | Optimal  | LpMinimize | PULP_CBC_CMD | 77.9067 |   0.017    |\n",
      "|   1    | Optimal  | LpMinimize | PULP_CBC_CMD | 77.9067 |   0.017    |\n",
      "|   1    | Optimal  | LpMinimize | PULP_CBC_CMD | 77.9067 |   0.017    |\n",
      "|   1    | Optimal  | LpMinimize | PULP_CBC_CMD | 77.9067 |   0.019    |\n",
      "|   1    | Optimal  | LpMinimize | PULP_CBC_CMD | 77.9067 |   0.018    |\n",
      "|   1    | Optimal  | LpMinimize | PULP_CBC_CMD | 77.9067 |   0.019    |\n",
      "|   1    | Optimal  | LpMinimize | PULP_CBC_CMD | 77.9067 |   0.017    |\n",
      "|   1    | Optimal  | LpMinimize | PULP_CBC_CMD | 77.9067 |   0.018    |\n",
      "|   1    | Optimal  | LpMinimize | PULP_CBC_CMD | 77.9067 |   0.018    |\n",
      "|   1    | Optimal  | LpMinimize | PULP_CBC_CMD | 77.9067 |   0.017    |\n",
      "|   1    | Optimal  | LpMinimize | PULP_CBC_CMD | 77.9067 |   0.018    |\n",
      "|   1    | Optimal  | LpMinimize | PULP_CBC_CMD | 77.9067 |   0.018    |\n",
      "|   1    | Optimal  | LpMinimize | PULP_CBC_CMD | 77.9067 |   0.016    |\n",
      "|   1    | Optimal  | LpMinimize | PULP_CBC_CMD | 77.9067 |   0.017    |\n",
      "|   1    | Optimal  | LpMinimize | PULP_CBC_CMD | 77.9067 |   0.016    |\n",
      "|   1    | Optimal  | LpMinimize | PULP_CBC_CMD | 77.9067 |   0.018    |\n",
      "|   1    | Optimal  | LpMinimize | PULP_CBC_CMD | 77.9067 |   0.018    |\n",
      "|   1    | Optimal  | LpMinimize | PULP_CBC_CMD | 77.9067 |   0.017    |\n",
      "|   1    | Optimal  | LpMinimize | PULP_CBC_CMD | 77.9067 |   0.016    |\n",
      "|   1    | Optimal  | LpMinimize | PULP_CBC_CMD | 77.9067 |   0.016    |\n",
      "|   1    | Optimal  | LpMinimize | PULP_CBC_CMD | 77.9067 |   0.018    |\n",
      "|   1    | Optimal  | LpMinimize | PULP_CBC_CMD | 77.9067 |   0.017    |\n",
      "|   1    | Optimal  | LpMinimize | PULP_CBC_CMD | 77.9067 |   0.017    |\n",
      "|   1    | Optimal  | LpMinimize | PULP_CBC_CMD | 77.9067 |   0.017    |\n",
      "|   1    | Optimal  | LpMinimize | PULP_CBC_CMD | 77.9067 |   0.017    |\n",
      "|   1    | Optimal  | LpMinimize | PULP_CBC_CMD | 77.9067 |   0.018    |\n",
      "|   1    | Optimal  | LpMinimize | PULP_CBC_CMD | 77.9067 |   0.017    |\n",
      "|   1    | Optimal  | LpMinimize | PULP_CBC_CMD | 77.9067 |   0.018    |\n",
      "|   1    | Optimal  | LpMinimize | PULP_CBC_CMD | 77.9067 |   0.018    |\n",
      "|   1    | Optimal  | LpMinimize | PULP_CBC_CMD | 77.9067 |   0.018    |\n",
      "|   1    | Optimal  | LpMinimize | PULP_CBC_CMD | 77.9067 |   0.018    |\n",
      "|   1    | Optimal  | LpMinimize | PULP_CBC_CMD | 77.9067 |   0.018    |\n",
      "|   1    | Optimal  | LpMinimize | PULP_CBC_CMD | 77.9067 |   0.018    |\n",
      "|   1    | Optimal  | LpMinimize | PULP_CBC_CMD | 77.9067 |   0.018    |\n",
      "|   1    | Optimal  | LpMinimize | PULP_CBC_CMD | 77.9067 |   0.018    |\n",
      "|   1    | Optimal  | LpMinimize | PULP_CBC_CMD | 77.9067 |   0.017    |\n",
      "|   1    | Optimal  | LpMinimize | PULP_CBC_CMD | 77.9067 |   0.017    |\n",
      "|   1    | Optimal  | LpMinimize | PULP_CBC_CMD | 77.9067 |   0.019    |\n",
      "|   1    | Optimal  | LpMinimize | PULP_CBC_CMD | 77.9067 |   0.018    |\n",
      "|   1    | Optimal  | LpMinimize | PULP_CBC_CMD | 77.9067 |   0.022    |\n",
      "|   1    | Optimal  | LpMinimize | PULP_CBC_CMD | 77.9067 |   0.018    |\n",
      "|   1    | Optimal  | LpMinimize | PULP_CBC_CMD | 77.9067 |   0.017    |\n",
      "|   1    | Optimal  | LpMinimize | PULP_CBC_CMD | 77.9067 |   0.017    |\n",
      "|   1    | Optimal  | LpMinimize | PULP_CBC_CMD | 77.9067 |   0.018    |\n",
      "|   1    | Optimal  | LpMinimize | PULP_CBC_CMD | 77.9067 |   0.018    |\n",
      "|   1    | Optimal  | LpMinimize | PULP_CBC_CMD | 77.9067 |   0.019    |\n",
      "|   1    | Optimal  | LpMinimize | PULP_CBC_CMD | 77.9067 |   0.017    |\n",
      "|   1    | Optimal  | LpMinimize | PULP_CBC_CMD | 77.9067 |    0.02    |\n",
      "|   1    | Optimal  | LpMinimize | PULP_CBC_CMD | 77.9067 |   0.016    |\n",
      "|   1    | Optimal  | LpMinimize | PULP_CBC_CMD | 77.9067 |   0.018    |\n",
      "|   1    | Optimal  | LpMinimize | PULP_CBC_CMD | 77.9067 |   0.018    |\n",
      "|   1    | Optimal  | LpMinimize | PULP_CBC_CMD | 77.9067 |   0.019    |\n",
      "|   1    | Optimal  | LpMinimize | PULP_CBC_CMD | 77.9067 |   0.023    |\n",
      "|   1    | Optimal  | LpMinimize | PULP_CBC_CMD | 77.9067 |   0.021    |\n",
      "|   1    | Optimal  | LpMinimize | PULP_CBC_CMD | 77.9067 |   0.025    |\n",
      "|   1    | Optimal  | LpMinimize | PULP_CBC_CMD | 77.9067 |   0.024    |\n",
      "|   1    | Optimal  | LpMinimize | PULP_CBC_CMD | 77.9067 |   0.023    |\n",
      "|   1    | Optimal  | LpMinimize | PULP_CBC_CMD | 77.9067 |   0.022    |\n",
      "|   1    | Optimal  | LpMinimize | PULP_CBC_CMD | 77.9067 |   0.028    |\n",
      "|   1    | Optimal  | LpMinimize | PULP_CBC_CMD | 77.9067 |   0.025    |\n",
      "|   1    | Optimal  | LpMinimize | PULP_CBC_CMD | 77.9067 |   0.025    |\n",
      "|   1    | Optimal  | LpMinimize | PULP_CBC_CMD | 77.9067 |   0.023    |\n",
      "|   1    | Optimal  | LpMinimize | PULP_CBC_CMD | 77.9067 |   0.021    |\n",
      "|   1    | Optimal  | LpMinimize | PULP_CBC_CMD | 77.9067 |   0.026    |\n",
      "|   1    | Optimal  | LpMinimize | PULP_CBC_CMD | 77.9067 |   0.025    |\n",
      "|   1    | Optimal  | LpMinimize | PULP_CBC_CMD | 77.9067 |   0.019    |\n",
      "|   1    | Optimal  | LpMinimize | PULP_CBC_CMD | 77.9067 |   0.019    |\n",
      "|   1    | Optimal  | LpMinimize | PULP_CBC_CMD | 77.9067 |   0.018    |\n",
      "|   1    | Optimal  | LpMinimize | PULP_CBC_CMD | 77.9067 |   0.019    |\n",
      "|   1    | Optimal  | LpMinimize | PULP_CBC_CMD | 77.9067 |   0.017    |\n",
      "|   1    | Optimal  | LpMinimize | PULP_CBC_CMD | 77.9067 |   0.017    |\n",
      "|   1    | Optimal  | LpMinimize | PULP_CBC_CMD | 77.9067 |   0.018    |\n",
      "|   1    | Optimal  | LpMinimize | PULP_CBC_CMD | 77.9067 |   0.016    |\n",
      "|   1    | Optimal  | LpMinimize | PULP_CBC_CMD | 77.9067 |   0.017    |\n",
      "|   1    | Optimal  | LpMinimize | PULP_CBC_CMD | 77.9067 |   0.017    |\n",
      "|   1    | Optimal  | LpMaximize | PULP_CBC_CMD |  542.6  |   0.028    |\n",
      "|   1    | Optimal  | LpMaximize | PULP_CBC_CMD |  542.6  |   0.019    |\n",
      "|   1    | Optimal  | LpMaximize | PULP_CBC_CMD |  542.6  |   0.018    |\n",
      "|   1    | Optimal  | LpMaximize | PULP_CBC_CMD |  542.6  |   0.018    |\n",
      "|   1    | Optimal  | LpMaximize | PULP_CBC_CMD |  542.6  |   0.016    |\n",
      "|   1    | Optimal  | LpMaximize | PULP_CBC_CMD |  542.6  |   0.017    |\n",
      "|   1    | Optimal  | LpMaximize | PULP_CBC_CMD |  542.6  |   0.016    |\n",
      "|   1    | Optimal  | LpMaximize | PULP_CBC_CMD |  542.6  |   0.017    |\n",
      "|   1    | Optimal  | LpMaximize | PULP_CBC_CMD |  542.6  |   0.019    |\n",
      "|   1    | Optimal  | LpMaximize | PULP_CBC_CMD |  542.6  |   0.018    |\n",
      "|   1    | Optimal  | LpMaximize | PULP_CBC_CMD |  542.6  |   0.018    |\n",
      "|   1    | Optimal  | LpMaximize | PULP_CBC_CMD |  542.6  |   0.017    |\n",
      "|   1    | Optimal  | LpMaximize | PULP_CBC_CMD |  542.6  |   0.017    |\n",
      "|   1    | Optimal  | LpMaximize | PULP_CBC_CMD |  542.6  |   0.017    |\n",
      "|   1    | Optimal  | LpMaximize | PULP_CBC_CMD |  542.6  |   0.017    |\n",
      "|   1    | Optimal  | LpMaximize | PULP_CBC_CMD |  542.6  |   0.017    |\n",
      "|   1    | Optimal  | LpMaximize | PULP_CBC_CMD |  542.6  |   0.017    |\n",
      "|   1    | Optimal  | LpMaximize | PULP_CBC_CMD |  542.6  |   0.017    |\n",
      "|   1    | Optimal  | LpMaximize | PULP_CBC_CMD |  542.6  |   0.017    |\n",
      "|   1    | Optimal  | LpMaximize | PULP_CBC_CMD |  542.6  |   0.018    |\n",
      "|   1    | Optimal  | LpMaximize | PULP_CBC_CMD |  542.6  |   0.019    |\n",
      "|   1    | Optimal  | LpMaximize | PULP_CBC_CMD |  542.6  |   0.017    |\n",
      "|   1    | Optimal  | LpMaximize | PULP_CBC_CMD |  542.6  |   0.018    |\n",
      "|   1    | Optimal  | LpMaximize | PULP_CBC_CMD |  542.6  |   0.017    |\n",
      "|   1    | Optimal  | LpMaximize | PULP_CBC_CMD |  542.6  |   0.017    |\n",
      "|   1    | Optimal  | LpMaximize | PULP_CBC_CMD |  542.6  |   0.018    |\n",
      "|   1    | Optimal  | LpMaximize | PULP_CBC_CMD |  542.6  |   0.017    |\n",
      "|   1    | Optimal  | LpMaximize | PULP_CBC_CMD |  542.6  |   0.018    |\n",
      "|   1    | Optimal  | LpMaximize | PULP_CBC_CMD |  542.6  |   0.017    |\n",
      "|   1    | Optimal  | LpMaximize | PULP_CBC_CMD |  542.6  |   0.017    |\n",
      "|   1    | Optimal  | LpMaximize | PULP_CBC_CMD |  542.6  |   0.017    |\n",
      "|   1    | Optimal  | LpMaximize | PULP_CBC_CMD |  542.6  |    0.02    |\n",
      "|   1    | Optimal  | LpMaximize | PULP_CBC_CMD |  542.6  |   0.019    |\n",
      "|   1    | Optimal  | LpMaximize | PULP_CBC_CMD |  542.6  |   0.017    |\n",
      "|   1    | Optimal  | LpMaximize | PULP_CBC_CMD |  542.6  |   0.017    |\n",
      "|   1    | Optimal  | LpMaximize | PULP_CBC_CMD |  542.6  |   0.017    |\n",
      "|   1    | Optimal  | LpMaximize | PULP_CBC_CMD |  542.6  |   0.019    |\n",
      "|   1    | Optimal  | LpMaximize | PULP_CBC_CMD |  542.6  |    0.02    |\n",
      "|   1    | Optimal  | LpMaximize | PULP_CBC_CMD |  542.6  |    0.02    |\n",
      "|   1    | Optimal  | LpMaximize | PULP_CBC_CMD |  542.6  |   0.019    |\n",
      "|   1    | Optimal  | LpMaximize | PULP_CBC_CMD |  542.6  |   0.019    |\n",
      "|   1    | Optimal  | LpMaximize | PULP_CBC_CMD |  542.6  |   0.018    |\n",
      "|   1    | Optimal  | LpMaximize | PULP_CBC_CMD |  542.6  |   0.018    |\n",
      "|   1    | Optimal  | LpMaximize | PULP_CBC_CMD |  542.6  |   0.019    |\n",
      "|   1    | Optimal  | LpMaximize | PULP_CBC_CMD |  542.6  |   0.019    |\n",
      "|   1    | Optimal  | LpMaximize | PULP_CBC_CMD |  542.6  |   0.017    |\n",
      "|   1    | Optimal  | LpMaximize | PULP_CBC_CMD |  542.6  |   0.017    |\n",
      "|   1    | Optimal  | LpMaximize | PULP_CBC_CMD |  542.6  |   0.018    |\n",
      "|   1    | Optimal  | LpMaximize | PULP_CBC_CMD |  542.6  |   0.017    |\n",
      "|   1    | Optimal  | LpMaximize | PULP_CBC_CMD |  542.6  |   0.018    |\n",
      "|   1    | Optimal  | LpMaximize | PULP_CBC_CMD |  542.6  |   0.016    |\n",
      "|   1    | Optimal  | LpMaximize | PULP_CBC_CMD |  542.6  |   0.017    |\n",
      "|   1    | Optimal  | LpMaximize | PULP_CBC_CMD |  542.6  |   0.017    |\n",
      "|   1    | Optimal  | LpMaximize | PULP_CBC_CMD |  542.6  |   0.017    |\n",
      "|   1    | Optimal  | LpMaximize | PULP_CBC_CMD |  542.6  |   0.018    |\n",
      "|   1    | Optimal  | LpMaximize | PULP_CBC_CMD |  542.6  |   0.018    |\n",
      "|   1    | Optimal  | LpMaximize | PULP_CBC_CMD |  542.6  |   0.018    |\n",
      "|   1    | Optimal  | LpMaximize | PULP_CBC_CMD |  542.6  |   0.018    |\n",
      "|   1    | Optimal  | LpMaximize | PULP_CBC_CMD |  542.6  |   0.017    |\n",
      "|   1    | Optimal  | LpMaximize | PULP_CBC_CMD |  542.6  |   0.016    |\n",
      "|   1    | Optimal  | LpMaximize | PULP_CBC_CMD |  542.6  |   0.017    |\n",
      "|   1    | Optimal  | LpMaximize | PULP_CBC_CMD |  542.6  |   0.017    |\n",
      "|   1    | Optimal  | LpMaximize | PULP_CBC_CMD |  542.6  |   0.017    |\n",
      "|   1    | Optimal  | LpMaximize | PULP_CBC_CMD |  542.6  |   0.017    |\n",
      "|   1    | Optimal  | LpMaximize | PULP_CBC_CMD |  542.6  |   0.016    |\n",
      "|   1    | Optimal  | LpMaximize | PULP_CBC_CMD |  542.6  |    0.02    |\n",
      "|   1    | Optimal  | LpMaximize | PULP_CBC_CMD |  542.6  |   0.019    |\n",
      "|   1    | Optimal  | LpMaximize | PULP_CBC_CMD |  542.6  |   0.017    |\n",
      "|   1    | Optimal  | LpMaximize | PULP_CBC_CMD |  542.6  |   0.017    |\n",
      "|   1    | Optimal  | LpMaximize | PULP_CBC_CMD |  542.6  |   0.019    |\n",
      "|   1    | Optimal  | LpMaximize | PULP_CBC_CMD |  542.6  |   0.018    |\n",
      "|   1    | Optimal  | LpMaximize | PULP_CBC_CMD |  542.6  |   0.018    |\n",
      "|   1    | Optimal  | LpMaximize | PULP_CBC_CMD |  542.6  |   0.018    |\n",
      "|   1    | Optimal  | LpMaximize | PULP_CBC_CMD |  542.6  |   0.018    |\n",
      "|   1    | Optimal  | LpMaximize | PULP_CBC_CMD |  542.6  |   0.019    |\n",
      "|   1    | Optimal  | LpMaximize | PULP_CBC_CMD |  542.6  |   0.017    |\n",
      "|   1    | Optimal  | LpMaximize | PULP_CBC_CMD |  542.6  |   0.017    |\n",
      "|   1    | Optimal  | LpMaximize | PULP_CBC_CMD |  542.6  |    0.02    |\n",
      "|   1    | Optimal  | LpMaximize | PULP_CBC_CMD |  542.6  |   0.018    |\n",
      "|   1    | Optimal  | LpMaximize | PULP_CBC_CMD |  542.6  |   0.016    |\n",
      "|   1    | Optimal  | LpMaximize | PULP_CBC_CMD |  542.6  |   0.017    |\n",
      "|   1    | Optimal  | LpMaximize | PULP_CBC_CMD |  542.6  |   0.017    |\n",
      "|   1    | Optimal  | LpMaximize | PULP_CBC_CMD |  542.6  |   0.018    |\n",
      "|   1    | Optimal  | LpMaximize | PULP_CBC_CMD |  542.6  |   0.018    |\n",
      "|   1    | Optimal  | LpMaximize | PULP_CBC_CMD |  542.6  |   0.018    |\n",
      "|   1    | Optimal  | LpMaximize | PULP_CBC_CMD |  542.6  |   0.017    |\n",
      "|   1    | Optimal  | LpMaximize | PULP_CBC_CMD |  542.6  |   0.019    |\n",
      "|   1    | Optimal  | LpMaximize | PULP_CBC_CMD |  542.6  |   0.018    |\n",
      "|   1    | Optimal  | LpMaximize | PULP_CBC_CMD |  542.6  |   0.018    |\n",
      "|   1    | Optimal  | LpMaximize | PULP_CBC_CMD |  542.6  |   0.018    |\n",
      "|   1    | Optimal  | LpMaximize | PULP_CBC_CMD |  542.6  |   0.017    |\n",
      "|   1    | Optimal  | LpMaximize | PULP_CBC_CMD |  542.6  |   0.018    |\n",
      "|   1    | Optimal  | LpMaximize | PULP_CBC_CMD |  542.6  |   0.017    |\n",
      "|   1    | Optimal  | LpMaximize | PULP_CBC_CMD |  542.6  |   0.017    |\n",
      "|   1    | Optimal  | LpMaximize | PULP_CBC_CMD |  542.6  |   0.017    |\n",
      "|   1    | Optimal  | LpMaximize | PULP_CBC_CMD |  542.6  |   0.018    |\n",
      "|   1    | Optimal  | LpMaximize | PULP_CBC_CMD |  542.6  |   0.016    |\n",
      "|   1    | Optimal  | LpMaximize | PULP_CBC_CMD |  542.6  |   0.018    |\n",
      "|   1    | Optimal  | LpMaximize | PULP_CBC_CMD |  542.6  |   0.017    |\n",
      "|   1    | Optimal  | LpMaximize | PULP_CBC_CMD |  542.6  |   0.017    |\n",
      "+--------+----------+------------+--------------+---------+------------+\n"
     ]
    }
   ],
   "source": [
    "results = table1.append(table2)\n",
    "results.to_csv('Pulp.csv')\n",
    "print(tabulate(results, results.columns, tablefmt=\"pretty\",showindex=\"never\"))"
   ]
  },
  {
   "cell_type": "markdown",
   "metadata": {},
   "source": [
    "<br><br><br>\n",
    "<center> <h3 style=\"color:blue\">========================================================</h3> </center>\n",
    "<center> <h3 style=\"color:green\">Thank you so much</h3> </center>\n",
    "<center> <h3 style=\"color:blue\">========================================================</h3> </center>\n",
    "<br><br><br>"
   ]
  }
 ],
 "metadata": {
  "kernelspec": {
   "display_name": "Python 3",
   "language": "python",
   "name": "python3"
  },
  "language_info": {
   "codemirror_mode": {
    "name": "ipython",
    "version": 3
   },
   "file_extension": ".py",
   "mimetype": "text/x-python",
   "name": "python",
   "nbconvert_exporter": "python",
   "pygments_lexer": "ipython3",
   "version": "3.8.5"
  }
 },
 "nbformat": 4,
 "nbformat_minor": 5
}
