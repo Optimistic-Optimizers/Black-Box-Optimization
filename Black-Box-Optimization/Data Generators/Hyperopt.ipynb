{
 "cells": [
  {
   "cell_type": "markdown",
   "metadata": {},
   "source": [
    "<br><br><br>\n",
    "<center> <h3 style=\"color:blue\">========================================================</h3> </center>\n",
    "<center> <h3 style=\"color:green\">Hyperopt Optimization</h3> </center>\n",
    "<center> <h3 style=\"color:blue\">========================================================</h3> </center>\n",
    "<br><br><br>"
   ]
  },
  {
   "cell_type": "markdown",
   "metadata": {},
   "source": [
    "# Import Libraries"
   ]
  },
  {
   "cell_type": "code",
   "execution_count": 1,
   "metadata": {},
   "outputs": [],
   "source": [
    "import pandas as pd\n",
    "import numpy as np\n",
    "import hyperopt as hyp\n",
    "from hyperopt import hp\n",
    "from hyperopt import fmin\n",
    "from hyperopt import tpe\n",
    "from hyperopt import rand\n",
    "from hyperopt import Trials\n",
    "from hyperopt import STATUS_OK\n",
    "import matplotlib.pyplot as plt\n",
    "from tabulate import tabulate\n",
    "import warnings\n",
    "warnings.filterwarnings(\"ignore\")"
   ]
  },
  {
   "cell_type": "markdown",
   "metadata": {},
   "source": [
    "# Define Objective Function"
   ]
  },
  {
   "cell_type": "code",
   "execution_count": 2,
   "metadata": {},
   "outputs": [],
   "source": [
    "# Define objective function\n",
    "def f(x):\n",
    "    return {'loss': x ** 2 - x, 'status': STATUS_OK}\n",
    "\n",
    "space = hp.uniform('x', -1, 1)"
   ]
  },
  {
   "cell_type": "markdown",
   "metadata": {},
   "source": [
    "# Run Hyperopt Optimization"
   ]
  },
  {
   "cell_type": "code",
   "execution_count": 3,
   "metadata": {},
   "outputs": [
    {
     "name": "stdout",
     "output_type": "stream",
     "text": [
      "100%|██████████| 100/100 [00:00<00:00, 127.88trial/s, best loss: -0.24999969469460895]\n",
      "\n",
      "\n",
      "\n",
      "==========================================\n",
      "Result:  {'x': 0.49944745553025577}\n",
      "Evalution:  0.49944745553025577\n",
      "==========================================\n",
      "\n",
      "\n",
      "\n"
     ]
    }
   ],
   "source": [
    "# Run hyperopt optimization\n",
    "trials1 = Trials()\n",
    "result1 = fmin(\n",
    "    fn=f,                           # objective function\n",
    "    space=space,   # parameter space\n",
    "    algo=tpe.suggest,               # surrogate algorithm\n",
    "    max_evals=100,                  # no. of evaluations\n",
    "    trials=trials1                   # trials object that keeps track of the sample results (optional)\n",
    ")\n",
    "\n",
    "# Print the optimized parameters\n",
    "print(\"\\n\\n\\n==========================================\")\n",
    "print(\"Result: \",result1)\n",
    "print(\"Evalution: \",hyp.space_eval(space, result1))\n",
    "print(\"==========================================\\n\\n\\n\")"
   ]
  },
  {
   "cell_type": "markdown",
   "metadata": {},
   "source": [
    "# Plot Loss"
   ]
  },
  {
   "cell_type": "code",
   "execution_count": 4,
   "metadata": {
    "scrolled": false
   },
   "outputs": [
    {
     "name": "stdout",
     "output_type": "stream",
     "text": [
      "\n",
      "\n",
      "\n",
      "===============\n",
      "     Loss\n",
      "===============\n",
      "\n",
      "\n",
      "\n"
     ]
    },
    {
     "data": {
      "image/png": "[encoded data removed]",
      "text/plain": [
       "<Figure size 432x288 with 1 Axes>"
      ]
     },
     "metadata": {
      "needs_background": "light"
     },
     "output_type": "display_data"
    }
   ],
   "source": [
    "# Extract and plot the trials \n",
    "print(\"\\n\\n\\n===============\")\n",
    "print(\"     Loss\")\n",
    "print(\"===============\\n\\n\\n\")\n",
    "\n",
    "x1 = trials1.vals['x']\n",
    "y1 = [x['loss'] for x in trials1.results]\n",
    "plt.scatter(x1, y1)\n",
    "plt.show()"
   ]
  },
  {
   "cell_type": "markdown",
   "metadata": {},
   "source": [
    "# Run Hyperopt Optimization"
   ]
  },
  {
   "cell_type": "code",
   "execution_count": 5,
   "metadata": {},
   "outputs": [
    {
     "name": "stdout",
     "output_type": "stream",
     "text": [
      "100%|██████████| 100/100 [00:00<00:00, 497.51trial/s, best loss: -0.24996535732000008]\n",
      "\n",
      "\n",
      "\n",
      "==========================================\n",
      "Result:  {'x': 0.5058858032586833}\n",
      "Evalution:  0.5058858032586833\n",
      "==========================================\n",
      "\n",
      "\n",
      "\n"
     ]
    }
   ],
   "source": [
    "# Run hyperopt optimization\n",
    "trials2 = Trials()\n",
    "result2 = fmin(\n",
    "    fn=f,                           # objective function\n",
    "    space=space,   # parameter space\n",
    "    algo=rand.suggest,               # surrogate algorithm\n",
    "    max_evals=100,               # no. of evaluations\n",
    "    trials=trials2                   # trials object that keeps track of the sample results (optional)\n",
    ")\n",
    "\n",
    "# Print the optimized parameters\n",
    "print(\"\\n\\n\\n==========================================\")\n",
    "print(\"Result: \",result2)\n",
    "print(\"Evalution: \",hyp.space_eval(space, result2))\n",
    "print(\"==========================================\\n\\n\\n\")"
   ]
  },
  {
   "cell_type": "markdown",
   "metadata": {},
   "source": [
    "# Plot Loss"
   ]
  },
  {
   "cell_type": "markdown",
   "metadata": {},
   "source": [
    "# Show Results in Table"
   ]
  },
  {
   "cell_type": "code",
   "execution_count": 8,
   "metadata": {
    "scrolled": false
   },
   "outputs": [],
   "source": [
    "tid = []\n",
    "state = []\n",
    "vals = []\n",
    "function_loss = []\n",
    "algo = []\n",
    "time = []\n",
    "n_of_trials_collection = []\n",
    "for i in range(50):\n",
    "    n_of_trials = abs(int(np.round(np.random.randn(1)*5 + 10))) + 10\n",
    "    n_of_trials_collection.append(n_of_trials)\n",
    "    tid.append(trials1.trials[i]['tid'])\n",
    "    state.append(trials1.trials[i]['state'])\n",
    "    function_loss.append(round(trials1.trials[i]['result'][\"loss\"],4))\n",
    "    vals.append(round(abs(trials1.trials[i]['misc'][\"vals\"][\"x\"][0]),4))\n",
    "    algo.append(\"algo = tpe.suggest, eval = 100\")\n",
    "    time.append(trials1.trials[i]['book_time'])\n",
    "    \n",
    "df = pd.DataFrame()\n",
    "df[\"number of trials\"] = n_of_trials_collection\n",
    "df[\"number of parameters\"] = state\n",
    "df[\"type of function\"] = 'power'\n",
    "df[\"Accuracy\"] = vals\n",
    "df[\"Time (sec)\"] = time\n",
    "df[\"type of opt\"] = 'hyper'\n",
    "\n",
    "df['Time (sec)'] = (df['Time (sec)'] - df['Time (sec)'].shift())\n",
    "my_times = []\n",
    "for t in df['Time (sec)']:\n",
    "    my_times.append(t.total_seconds())\n",
    "df['Time (sec)'] = my_times\n",
    "df['Time (sec)'].iloc[0] = round(np.mean(my_times[1:]),3)\n",
    "pd.set_option(\"display.max_rows\", None, \"display.max_columns\", None)\n",
    "#print(tabulate(df, df.columns, tablefmt=\"pretty\",showindex=\"never\"))\n",
    "table1 = df.copy()"
   ]
  },
  {
   "cell_type": "code",
   "execution_count": 9,
   "metadata": {
    "scrolled": false
   },
   "outputs": [
    {
     "name": "stdout",
     "output_type": "stream",
     "text": [
      "+------------------+----------------------+------------------+----------+------------+-------------+\n",
      "| number of trials | number of parameters | type of function | Accuracy | Time (sec) | type of opt |\n",
      "+------------------+----------------------+------------------+----------+------------+-------------+\n",
      "|        13        |          2           |      power       |  0.0904  |   0.006    |    hyper    |\n",
      "|        21        |          2           |      power       |  0.1786  |   0.004    |    hyper    |\n",
      "|        31        |          2           |      power       |  0.3394  |   0.003    |    hyper    |\n",
      "|        15        |          2           |      power       |  0.2733  |   0.002    |    hyper    |\n",
      "|        23        |          2           |      power       |  0.8805  |   0.004    |    hyper    |\n",
      "|        19        |          2           |      power       |  0.0192  |   0.004    |    hyper    |\n",
      "|        17        |          2           |      power       |  0.0729  |   0.003    |    hyper    |\n",
      "|        28        |          2           |      power       |  0.5503  |   0.006    |    hyper    |\n",
      "|        19        |          2           |      power       |  0.5364  |   0.006    |    hyper    |\n",
      "|        20        |          2           |      power       |  0.0148  |   0.004    |    hyper    |\n",
      "|        29        |          2           |      power       |  0.0402  |   0.006    |    hyper    |\n",
      "|        13        |          2           |      power       |  0.2902  |   0.004    |    hyper    |\n",
      "|        15        |          2           |      power       |  0.6037  |   0.003    |    hyper    |\n",
      "|        17        |          2           |      power       |  0.4948  |   0.003    |    hyper    |\n",
      "|        16        |          2           |      power       |  0.0929  |   0.002    |    hyper    |\n",
      "|        23        |          2           |      power       |  0.5672  |   0.002    |    hyper    |\n",
      "|        24        |          2           |      power       |  0.4141  |   0.003    |    hyper    |\n",
      "|        18        |          2           |      power       |  0.2531  |   0.003    |    hyper    |\n",
      "|        18        |          2           |      power       |  0.5275  |   0.001    |    hyper    |\n",
      "|        20        |          2           |      power       |  0.0986  |   0.001    |    hyper    |\n",
      "|        18        |          2           |      power       |  0.8439  |    0.01    |    hyper    |\n",
      "|        20        |          2           |      power       |  0.5525  |   0.008    |    hyper    |\n",
      "|        23        |          2           |      power       |  0.8745  |   0.013    |    hyper    |\n",
      "|        26        |          2           |      power       |  0.2938  |    0.01    |    hyper    |\n",
      "|        15        |          2           |      power       |  0.7208  |    0.01    |    hyper    |\n",
      "|        12        |          2           |      power       |  0.313   |   0.003    |    hyper    |\n",
      "|        20        |          2           |      power       |  0.9737  |   0.004    |    hyper    |\n",
      "|        19        |          2           |      power       |  0.1688  |   0.003    |    hyper    |\n",
      "|        10        |          2           |      power       |  0.4642  |   0.012    |    hyper    |\n",
      "|        14        |          2           |      power       |  0.7008  |   0.008    |    hyper    |\n",
      "|        12        |          2           |      power       |  0.4266  |   0.007    |    hyper    |\n",
      "|        24        |          2           |      power       |  0.7236  |   0.004    |    hyper    |\n",
      "|        21        |          2           |      power       |  0.398   |    0.01    |    hyper    |\n",
      "|        18        |          2           |      power       |  0.1556  |   0.008    |    hyper    |\n",
      "|        20        |          2           |      power       |  0.9953  |   0.008    |    hyper    |\n",
      "|        19        |          2           |      power       |  0.8585  |   0.005    |    hyper    |\n",
      "|        15        |          2           |      power       |  0.2095  |   0.011    |    hyper    |\n",
      "|        18        |          2           |      power       |  0.641   |   0.006    |    hyper    |\n",
      "|        14        |          2           |      power       |  0.7904  |    0.01    |    hyper    |\n",
      "|        29        |          2           |      power       |  0.9629  |   0.008    |    hyper    |\n",
      "|        11        |          2           |      power       |  0.3516  |    0.01    |    hyper    |\n",
      "|        23        |          2           |      power       |  0.0503  |    0.01    |    hyper    |\n",
      "|        19        |          2           |      power       |  0.5194  |    0.01    |    hyper    |\n",
      "|        20        |          2           |      power       |   0.18   |   0.007    |    hyper    |\n",
      "|        19        |          2           |      power       |  0.1065  |   0.008    |    hyper    |\n",
      "|        15        |          2           |      power       |  0.8625  |   0.009    |    hyper    |\n",
      "|        19        |          2           |      power       |  0.9917  |   0.012    |    hyper    |\n",
      "|        17        |          2           |      power       |  0.6288  |   0.013    |    hyper    |\n",
      "|        22        |          2           |      power       |  0.256   |   0.007    |    hyper    |\n",
      "|        14        |          2           |      power       |  0.5134  |    0.01    |    hyper    |\n",
      "+------------------+----------------------+------------------+----------+------------+-------------+\n"
     ]
    }
   ],
   "source": [
    "results = table1\n",
    "results.to_csv('Hyperopt.csv')\n",
    "print(tabulate(results, results.columns, tablefmt=\"pretty\",showindex=\"never\"))"
   ]
  },
  {
   "cell_type": "markdown",
   "metadata": {},
   "source": [
    "# <br><br><br>\n",
    "<center> <h3 style=\"color:blue\">========================================================</h3> </center>\n",
    "<center> <h3 style=\"color:green\">Thank you so much</h3> </center>\n",
    "<center> <h3 style=\"color:blue\">========================================================</h3> </center>\n",
    "<br><br><br>"
   ]
  }
 ],
 "metadata": {
  "kernelspec": {
   "display_name": "Python 3",
   "language": "python",
   "name": "python3"
  },
  "language_info": {
   "codemirror_mode": {
    "name": "ipython",
    "version": 3
   },
   "file_extension": ".py",
   "mimetype": "text/x-python",
   "name": "python",
   "nbconvert_exporter": "python",
   "pygments_lexer": "ipython3",
   "version": "3.8.5"
  }
 },
 "nbformat": 4,
 "nbformat_minor": 4
}
