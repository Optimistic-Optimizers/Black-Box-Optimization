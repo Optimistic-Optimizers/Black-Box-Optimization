{
 "cells": [
  {
   "cell_type": "markdown",
   "metadata": {},
   "source": [
    "<br><br><br>\n",
    "<center> <h3 style=\"color:blue\">========================================================</h3> </center>\n",
    "<center> <h3 style=\"color:green\">Hyperopt Optimization</h3> </center>\n",
    "<center> <h3 style=\"color:blue\">========================================================</h3> </center>\n",
    "<br><br><br>"
   ]
  },
  {
   "cell_type": "markdown",
   "metadata": {},
   "source": [
    "# Import Libraries"
   ]
  },
  {
   "cell_type": "code",
   "execution_count": 1,
   "metadata": {},
   "outputs": [],
   "source": [
    "import pandas as pd\n",
    "import numpy as np\n",
    "import hyperopt as hyp\n",
    "from hyperopt import hp\n",
    "from hyperopt import fmin\n",
    "from hyperopt import tpe\n",
    "from hyperopt import rand\n",
    "from hyperopt import Trials\n",
    "from hyperopt import STATUS_OK\n",
    "import matplotlib.pyplot as plt\n",
    "from tabulate import tabulate\n",
    "import warnings\n",
    "warnings.filterwarnings(\"ignore\")"
   ]
  },
  {
   "cell_type": "markdown",
   "metadata": {},
   "source": [
    "# Define Objective Function"
   ]
  },
  {
   "cell_type": "code",
   "execution_count": 2,
   "metadata": {},
   "outputs": [],
   "source": [
    "# Define objective function\n",
    "def f(x):\n",
    "    return {'loss': x ** 2 - x, 'status': STATUS_OK}\n",
    "\n",
    "space = hp.uniform('x', -1, 1)"
   ]
  },
  {
   "cell_type": "markdown",
   "metadata": {},
   "source": [
    "# Run Hyperopt Optimization"
   ]
  },
  {
   "cell_type": "code",
   "execution_count": 3,
   "metadata": {},
   "outputs": [
    {
     "name": "stdout",
     "output_type": "stream",
     "text": [
      "100%|███████████████████████████████████████████| 100/100 [00:00<00:00, 270.94trial/s, best loss: -0.24998650406418382]\n",
      "\n",
      "\n",
      "\n",
      "==========================================\n",
      "Result:  {'x': 0.5036736815071778}\n",
      "Evalution:  0.5036736815071778\n",
      "==========================================\n",
      "\n",
      "\n",
      "\n"
     ]
    }
   ],
   "source": [
    "# Run hyperopt optimization\n",
    "trials1 = Trials()\n",
    "result1 = fmin(\n",
    "    fn=f,                           # objective function\n",
    "    space=space,   # parameter space\n",
    "    algo=tpe.suggest,               # surrogate algorithm\n",
    "    max_evals=100,                  # no. of evaluations\n",
    "    trials=trials1                   # trials object that keeps track of the sample results (optional)\n",
    ")\n",
    "\n",
    "# Print the optimized parameters\n",
    "print(\"\\n\\n\\n==========================================\")\n",
    "print(\"Result: \",result1)\n",
    "print(\"Evalution: \",hyp.space_eval(space, result1))\n",
    "print(\"==========================================\\n\\n\\n\")"
   ]
  },
  {
   "cell_type": "markdown",
   "metadata": {},
   "source": [
    "# Plot Loss"
   ]
  },
  {
   "cell_type": "code",
   "execution_count": 4,
   "metadata": {
    "scrolled": false
   },
   "outputs": [
    {
     "name": "stdout",
     "output_type": "stream",
     "text": [
      "\n",
      "\n",
      "\n",
      "===============\n",
      "     Loss\n",
      "===============\n",
      "\n",
      "\n",
      "\n"
     ]
    },
    {
     "data": {
      "image/png": "[encoded data removed]",
      "text/plain": [
       "<Figure size 432x288 with 1 Axes>"
      ]
     },
     "metadata": {
      "needs_background": "light"
     },
     "output_type": "display_data"
    }
   ],
   "source": [
    "# Extract and plot the trials \n",
    "print(\"\\n\\n\\n===============\")\n",
    "print(\"     Loss\")\n",
    "print(\"===============\\n\\n\\n\")\n",
    "\n",
    "x1 = trials1.vals['x']\n",
    "y1 = [x['loss'] for x in trials1.results]\n",
    "plt.scatter(x1, y1)\n",
    "plt.show()"
   ]
  },
  {
   "cell_type": "markdown",
   "metadata": {},
   "source": [
    "# Run Hyperopt Optimization"
   ]
  },
  {
   "cell_type": "code",
   "execution_count": 5,
   "metadata": {},
   "outputs": [
    {
     "name": "stdout",
     "output_type": "stream",
     "text": [
      "100%|███████████████████████████████████████████| 100/100 [00:00<00:00, 1333.26trial/s, best loss: -0.2498618534120891]\n",
      "\n",
      "\n",
      "\n",
      "==========================================\n",
      "Result:  {'x': 0.5117535776643072}\n",
      "Evalution:  0.5117535776643072\n",
      "==========================================\n",
      "\n",
      "\n",
      "\n"
     ]
    }
   ],
   "source": [
    "# Run hyperopt optimization\n",
    "trials2 = Trials()\n",
    "result2 = fmin(\n",
    "    fn=f,                           # objective function\n",
    "    space=space,   # parameter space\n",
    "    algo=rand.suggest,               # surrogate algorithm\n",
    "    max_evals=100,               # no. of evaluations\n",
    "    trials=trials2                   # trials object that keeps track of the sample results (optional)\n",
    ")\n",
    "\n",
    "# Print the optimized parameters\n",
    "print(\"\\n\\n\\n==========================================\")\n",
    "print(\"Result: \",result2)\n",
    "print(\"Evalution: \",hyp.space_eval(space, result2))\n",
    "print(\"==========================================\\n\\n\\n\")"
   ]
  },
  {
   "cell_type": "markdown",
   "metadata": {},
   "source": [
    "# Plot Loss"
   ]
  },
  {
   "cell_type": "code",
   "execution_count": 6,
   "metadata": {},
   "outputs": [
    {
     "name": "stdout",
     "output_type": "stream",
     "text": [
      "\n",
      "\n",
      "\n",
      "===============\n",
      "    Loss\n",
      "===============\n",
      "\n",
      "\n",
      "\n"
     ]
    },
    {
     "data": {
      "image/png": "[encoded data removed]",
      "text/plain": [
       "<Figure size 432x288 with 1 Axes>"
      ]
     },
     "metadata": {
      "needs_background": "light"
     },
     "output_type": "display_data"
    }
   ],
   "source": [
    "# Extract and plot the trials\n",
    "print(\"\\n\\n\\n===============\")\n",
    "print(\"    Loss\")\n",
    "print(\"===============\\n\\n\\n\")\n",
    "\n",
    "x2 = trials2.vals['x']\n",
    "y2 = [x['loss'] for x in trials2.results]\n",
    "plt.scatter(x2, y2)\n",
    "plt.show()"
   ]
  },
  {
   "cell_type": "markdown",
   "metadata": {},
   "source": [
    "# Show Results in Table"
   ]
  },
  {
   "cell_type": "code",
   "execution_count": 7,
   "metadata": {
    "scrolled": false
   },
   "outputs": [],
   "source": [
    "tid = []\n",
    "state = []\n",
    "vals = []\n",
    "function_loss = []\n",
    "algo = []\n",
    "time = []\n",
    "\n",
    "for i in range(len(trials1.trials)):\n",
    "    tid.append(trials1.trials[i]['tid'])\n",
    "    state.append(trials1.trials[i]['state'])\n",
    "    function_loss.append(round(trials1.trials[i]['result'][\"loss\"],4))\n",
    "    vals.append(round(abs(trials1.trials[i]['misc'][\"vals\"][\"x\"][0]),4))\n",
    "    algo.append(\"algo = tpe.suggest, eval = 100\")\n",
    "    time.append(trials1.trials[i]['book_time'])\n",
    "    \n",
    "df = pd.DataFrame()\n",
    "df[\"Id\"] = tid\n",
    "df[\"State\"] = state\n",
    "df[\"Constraints\"] = algo\n",
    "df[\"Function (Loss)\"] = function_loss\n",
    "df[\"Accuracy\"] = vals\n",
    "df[\"Time (sec)\"] = time\n",
    "\n",
    "df['Time (sec)'] = (df['Time (sec)'] - df['Time (sec)'].shift())\n",
    "my_times = []\n",
    "for t in df['Time (sec)']:\n",
    "    my_times.append(t.total_seconds())\n",
    "df['Time (sec)'] = my_times\n",
    "df['Time (sec)'].iloc[0] = round(np.mean(my_times[1:]),3)\n",
    "pd.set_option(\"display.max_rows\", None, \"display.max_columns\", None)\n",
    "#print(tabulate(df, df.columns, tablefmt=\"pretty\",showindex=\"never\"))\n",
    "table1 = df.copy()"
   ]
  },
  {
   "cell_type": "code",
   "execution_count": 8,
   "metadata": {
    "scrolled": false
   },
   "outputs": [],
   "source": [
    "tid = []\n",
    "state = []\n",
    "vals = []\n",
    "function_loss = []\n",
    "algo = []\n",
    "time = []\n",
    "\n",
    "for i in range(len(trials2.trials)):\n",
    "    tid.append(trials2.trials[i]['tid'])\n",
    "    state.append(trials2.trials[i]['state'])\n",
    "    function_loss.append(round(trials2.trials[i]['result'][\"loss\"],4))\n",
    "    vals.append(round(abs(trials2.trials[i]['misc'][\"vals\"][\"x\"][0]),4))\n",
    "    algo.append(\"algo = rand.suggest, eval = 100\")\n",
    "    time.append(trials2.trials[i]['book_time'])\n",
    "    \n",
    "df = pd.DataFrame()\n",
    "df[\"Id\"] = tid\n",
    "df[\"State\"] = state\n",
    "df[\"Constraints\"] = algo\n",
    "df[\"Function (Loss)\"] = function_loss\n",
    "df[\"Accuracy\"] = vals\n",
    "df[\"Time (sec)\"] = time\n",
    "\n",
    "df['Time (sec)'] = (df['Time (sec)'] - df['Time (sec)'].shift())\n",
    "my_times = []\n",
    "for t in df['Time (sec)']:\n",
    "    my_times.append(t.total_seconds())\n",
    "df['Time (sec)'] = my_times\n",
    "df['Time (sec)'].iloc[0] = round(np.mean(my_times[1:]),3)\n",
    "pd.set_option(\"display.max_rows\", None, \"display.max_columns\", None)\n",
    "#print(tabulate(df, df.columns, tablefmt=\"pretty\",showindex=\"never\"))\n",
    "table2 = df.copy()"
   ]
  },
  {
   "cell_type": "code",
   "execution_count": 9,
   "metadata": {
    "scrolled": false
   },
   "outputs": [
    {
     "name": "stdout",
     "output_type": "stream",
     "text": [
      "+----+-------+---------------------------------+-----------------+----------+------------+\n",
      "| Id | State |           Constraints           | Function (Loss) | Accuracy | Time (sec) |\n",
      "+----+-------+---------------------------------+-----------------+----------+------------+\n",
      "| 0  |   2   | algo = tpe.suggest, eval = 100  |     -0.2422     |  0.4118  |   0.004    |\n",
      "| 1  |   2   | algo = tpe.suggest, eval = 100  |     1.4874      |  0.8181  |   0.001    |\n",
      "| 2  |   2   | algo = tpe.suggest, eval = 100  |     -0.1518     |  0.1866  |   0.003    |\n",
      "| 3  |   2   | algo = tpe.suggest, eval = 100  |     -0.2469     |  0.556   |   0.002    |\n",
      "| 4  |   2   | algo = tpe.suggest, eval = 100  |     0.7582      |  0.5041  |   0.002    |\n",
      "| 5  |   2   | algo = tpe.suggest, eval = 100  |     -0.1295     |  0.8471  |   0.002    |\n",
      "| 6  |   2   | algo = tpe.suggest, eval = 100  |     0.0158      |  0.0155  |   0.002    |\n",
      "| 7  |   2   | algo = tpe.suggest, eval = 100  |     1.0438      |  0.6374  |   0.002    |\n",
      "| 8  |   2   | algo = tpe.suggest, eval = 100  |      -0.16      |   0.2    |   0.001    |\n",
      "| 9  |   2   | algo = tpe.suggest, eval = 100  |     -0.1601     |  0.2002  |   0.001    |\n",
      "| 10 |   2   | algo = tpe.suggest, eval = 100  |     -0.1765     |  0.7711  |   0.001    |\n",
      "| 11 |   2   | algo = tpe.suggest, eval = 100  |     -0.1709     |  0.2188  |   0.001    |\n",
      "| 12 |   2   | algo = tpe.suggest, eval = 100  |     -0.0161     |  0.9837  |   0.001    |\n",
      "| 13 |   2   | algo = tpe.suggest, eval = 100  |     0.5577      |  0.3987  |   0.002    |\n",
      "| 14 |   2   | algo = tpe.suggest, eval = 100  |     0.4333      |  0.3266  |   0.001    |\n",
      "| 15 |   2   | algo = tpe.suggest, eval = 100  |     0.7988      |  0.5241  |   0.001    |\n",
      "| 16 |   2   | algo = tpe.suggest, eval = 100  |     -0.1319     |  0.8437  |   0.001    |\n",
      "| 17 |   2   | algo = tpe.suggest, eval = 100  |     -0.0834     |  0.9082  |   0.001    |\n",
      "| 18 |   2   | algo = tpe.suggest, eval = 100  |     -0.2499     |  0.4881  |   0.002    |\n",
      "| 19 |   2   | algo = tpe.suggest, eval = 100  |     0.8017      |  0.5255  |   0.001    |\n",
      "| 20 |   2   | algo = tpe.suggest, eval = 100  |     -0.2449     |  0.5716  |   0.004    |\n",
      "| 21 |   2   | algo = tpe.suggest, eval = 100  |     -0.2457     |  0.5656  |   0.006    |\n",
      "| 22 |   2   | algo = tpe.suggest, eval = 100  |     0.0559      |  0.0531  |   0.006    |\n",
      "| 23 |   2   | algo = tpe.suggest, eval = 100  |     -0.2215     |  0.6689  |   0.004    |\n",
      "| 24 |   2   | algo = tpe.suggest, eval = 100  |     -0.2321     |  0.366   |   0.005    |\n",
      "| 25 |   2   | algo = tpe.suggest, eval = 100  |     0.1809      |  0.1565  |   0.004    |\n",
      "| 26 |   2   | algo = tpe.suggest, eval = 100  |     -0.2485     |  0.4619  |   0.003    |\n",
      "| 27 |   2   | algo = tpe.suggest, eval = 100  |     -0.2473     |  0.4476  |   0.004    |\n",
      "| 28 |   2   | algo = tpe.suggest, eval = 100  |     -0.2362     |  0.3824  |   0.003    |\n",
      "| 29 |   2   | algo = tpe.suggest, eval = 100  |     -0.2038     |  0.715   |   0.003    |\n",
      "| 30 |   2   | algo = tpe.suggest, eval = 100  |     1.8011      |  0.9322  |   0.004    |\n",
      "| 31 |   2   | algo = tpe.suggest, eval = 100  |     0.2308      |  0.1934  |   0.003    |\n",
      "| 32 |   2   | algo = tpe.suggest, eval = 100  |     -0.2131     |  0.3078  |   0.003    |\n",
      "| 33 |   2   | algo = tpe.suggest, eval = 100  |     -0.0754     |  0.0821  |   0.004    |\n",
      "| 34 |   2   | algo = tpe.suggest, eval = 100  |     -0.2497     |  0.4839  |   0.003    |\n",
      "| 35 |   2   | algo = tpe.suggest, eval = 100  |     -0.0099     |   0.99   |   0.006    |\n",
      "| 36 |   2   | algo = tpe.suggest, eval = 100  |     -0.2391     |  0.6043  |   0.005    |\n",
      "| 37 |   2   | algo = tpe.suggest, eval = 100  |     -0.0419     |  0.0438  |   0.007    |\n",
      "| 38 |   2   | algo = tpe.suggest, eval = 100  |     -0.2101     |  0.3001  |   0.006    |\n",
      "| 39 |   2   | algo = tpe.suggest, eval = 100  |     -0.1057     |  0.1201  |   0.004    |\n",
      "| 40 |   2   | algo = tpe.suggest, eval = 100  |     -0.2498     |  0.4857  |   0.004    |\n",
      "| 41 |   2   | algo = tpe.suggest, eval = 100  |     -0.1901     |  0.7448  |   0.004    |\n",
      "| 42 |   2   | algo = tpe.suggest, eval = 100  |     0.1033      |  0.0944  |   0.004    |\n",
      "| 43 |   2   | algo = tpe.suggest, eval = 100  |     -0.1167     |  0.8651  |   0.003    |\n",
      "| 44 |   2   | algo = tpe.suggest, eval = 100  |      1.181      |  0.6962  |   0.004    |\n",
      "| 45 |   2   | algo = tpe.suggest, eval = 100  |     -0.2027     |  0.2824  |   0.003    |\n",
      "| 46 |   2   | algo = tpe.suggest, eval = 100  |     -0.2271     |  0.6512  |   0.004    |\n",
      "| 47 |   2   | algo = tpe.suggest, eval = 100  |     -0.1259     |  0.1478  |   0.006    |\n",
      "| 48 |   2   | algo = tpe.suggest, eval = 100  |     -0.0339     |  0.9649  |   0.006    |\n",
      "| 49 |   2   | algo = tpe.suggest, eval = 100  |     -0.1579     |  0.8035  |   0.004    |\n",
      "| 50 |   2   | algo = tpe.suggest, eval = 100  |     0.3649      |  0.2841  |   0.004    |\n",
      "| 51 |   2   | algo = tpe.suggest, eval = 100  |     -0.1764     |  0.2287  |   0.004    |\n",
      "| 52 |   2   | algo = tpe.suggest, eval = 100  |      -0.25      |  0.5037  |   0.003    |\n",
      "| 53 |   2   | algo = tpe.suggest, eval = 100  |     0.0008      |  0.0008  |   0.003    |\n",
      "| 54 |   2   | algo = tpe.suggest, eval = 100  |     -0.2481     |  0.5437  |   0.004    |\n",
      "| 55 |   2   | algo = tpe.suggest, eval = 100  |     -0.0749     |  0.9184  |   0.003    |\n",
      "| 56 |   2   | algo = tpe.suggest, eval = 100  |     -0.2321     |  0.3663  |   0.004    |\n",
      "| 57 |   2   | algo = tpe.suggest, eval = 100  |     -0.1571     |  0.8048  |   0.003    |\n",
      "| 58 |   2   | algo = tpe.suggest, eval = 100  |     0.5185      |  0.3766  |   0.004    |\n",
      "| 59 |   2   | algo = tpe.suggest, eval = 100  |     -0.2174     |  0.6804  |   0.004    |\n",
      "| 60 |   2   | algo = tpe.suggest, eval = 100  |      1.999      |  0.9997  |   0.004    |\n",
      "| 61 |   2   | algo = tpe.suggest, eval = 100  |     0.2887      |  0.2339  |   0.003    |\n",
      "| 62 |   2   | algo = tpe.suggest, eval = 100  |     0.6729      |  0.4607  |   0.009    |\n",
      "| 63 |   2   | algo = tpe.suggest, eval = 100  |      0.068      |  0.0639  |   0.005    |\n",
      "| 64 |   2   | algo = tpe.suggest, eval = 100  |     -0.2407     |  0.4034  |   0.004    |\n",
      "| 65 |   2   | algo = tpe.suggest, eval = 100  |     -0.2498     |  0.4877  |   0.006    |\n",
      "| 66 |   2   | algo = tpe.suggest, eval = 100  |     -0.2354     |  0.621   |   0.006    |\n",
      "| 67 |   2   | algo = tpe.suggest, eval = 100  |     -0.2498     |  0.514   |   0.003    |\n",
      "| 68 |   2   | algo = tpe.suggest, eval = 100  |     -0.1975     |  0.2709  |   0.004    |\n",
      "| 69 |   2   | algo = tpe.suggest, eval = 100  |     -0.151      |  0.1853  |   0.004    |\n",
      "| 70 |   2   | algo = tpe.suggest, eval = 100  |     -0.2454     |  0.4321  |   0.004    |\n",
      "| 71 |   2   | algo = tpe.suggest, eval = 100  |     -0.2229     |  0.3352  |   0.003    |\n",
      "| 72 |   2   | algo = tpe.suggest, eval = 100  |     -0.2002     |  0.7232  |   0.004    |\n",
      "| 73 |   2   | algo = tpe.suggest, eval = 100  |     -0.0464     |  0.0487  |   0.004    |\n",
      "| 74 |   2   | algo = tpe.suggest, eval = 100  |     -0.2448     |  0.5719  |   0.004    |\n",
      "| 75 |   2   | algo = tpe.suggest, eval = 100  |     -0.0954     |  0.8932  |   0.004    |\n",
      "| 76 |   2   | algo = tpe.suggest, eval = 100  |     -0.0933     |  0.1042  |   0.003    |\n",
      "| 77 |   2   | algo = tpe.suggest, eval = 100  |     -0.1853     |  0.2457  |   0.004    |\n",
      "| 78 |   2   | algo = tpe.suggest, eval = 100  |     0.1707      |  0.1486  |   0.004    |\n",
      "| 79 |   2   | algo = tpe.suggest, eval = 100  |     -0.1422     |  0.1717  |   0.004    |\n",
      "| 80 |   2   | algo = tpe.suggest, eval = 100  |     -0.1743     |  0.7752  |   0.004    |\n",
      "| 81 |   2   | algo = tpe.suggest, eval = 100  |     -0.2357     |  0.6195  |   0.004    |\n",
      "| 82 |   2   | algo = tpe.suggest, eval = 100  |     -0.2493     |  0.5259  |   0.004    |\n",
      "| 83 |   2   | algo = tpe.suggest, eval = 100  |     -0.0467     |  0.9508  |   0.004    |\n",
      "| 84 |   2   | algo = tpe.suggest, eval = 100  |     -0.2455     |  0.4328  |   0.004    |\n",
      "| 85 |   2   | algo = tpe.suggest, eval = 100  |     -0.2184     |  0.6779  |   0.004    |\n",
      "| 86 |   2   | algo = tpe.suggest, eval = 100  |     -0.2497     |  0.4822  |   0.006    |\n",
      "| 87 |   2   | algo = tpe.suggest, eval = 100  |     -0.1506     |  0.8153  |   0.008    |\n",
      "| 88 |   2   | algo = tpe.suggest, eval = 100  |     -0.2267     |  0.3473  |   0.005    |\n",
      "| 89 |   2   | algo = tpe.suggest, eval = 100  |     1.1279      |  0.6738  |   0.004    |\n",
      "| 90 |   2   | algo = tpe.suggest, eval = 100  |     -0.0494     |  0.0521  |   0.004    |\n",
      "| 91 |   2   | algo = tpe.suggest, eval = 100  |     -0.1899     |  0.7452  |   0.004    |\n",
      "| 92 |   2   | algo = tpe.suggest, eval = 100  |     -0.0035     |  0.9964  |   0.004    |\n",
      "| 93 |   2   | algo = tpe.suggest, eval = 100  |     1.4682      |  0.8108  |   0.004    |\n",
      "| 94 |   2   | algo = tpe.suggest, eval = 100  |     0.0434      |  0.0416  |   0.004    |\n",
      "| 95 |   2   | algo = tpe.suggest, eval = 100  |     0.9285      |  0.5856  |   0.004    |\n",
      "| 96 |   2   | algo = tpe.suggest, eval = 100  |     -0.1216     |  0.1416  |   0.004    |\n",
      "| 97 |   2   | algo = tpe.suggest, eval = 100  |     -0.2442     |  0.5764  |   0.004    |\n",
      "| 98 |   2   | algo = tpe.suggest, eval = 100  |     -0.1239     |  0.8552  |   0.004    |\n",
      "| 99 |   2   | algo = tpe.suggest, eval = 100  |     -0.2417     |  0.4089  |   0.004    |\n",
      "| 0  |   2   | algo = rand.suggest, eval = 100 |     0.3056      |  0.2454  |   0.001    |\n",
      "| 1  |   2   | algo = rand.suggest, eval = 100 |     1.1952      |  0.7022  |   0.001    |\n",
      "| 2  |   2   | algo = rand.suggest, eval = 100 |     0.4447      |  0.3335  |   0.001    |\n",
      "| 3  |   2   | algo = rand.suggest, eval = 100 |      0.946      |  0.5936  |   0.001    |\n",
      "| 4  |   2   | algo = rand.suggest, eval = 100 |     -0.2263     |  0.346   |   0.001    |\n",
      "| 5  |   2   | algo = rand.suggest, eval = 100 |     0.8074      |  0.5283  |   0.001    |\n",
      "| 6  |   2   | algo = rand.suggest, eval = 100 |     -0.2196     |  0.6745  |   0.001    |\n",
      "| 7  |   2   | algo = rand.suggest, eval = 100 |     -0.1902     |  0.2556  |   0.001    |\n",
      "| 8  |   2   | algo = rand.suggest, eval = 100 |     -0.0162     |  0.0165  |   0.001    |\n",
      "| 9  |   2   | algo = rand.suggest, eval = 100 |     -0.0416     |  0.0435  |   0.001    |\n",
      "| 10 |   2   | algo = rand.suggest, eval = 100 |     0.7236      |  0.4867  |    0.0     |\n",
      "| 11 |   2   | algo = rand.suggest, eval = 100 |     1.4224      |  0.7932  |   0.001    |\n",
      "| 12 |   2   | algo = rand.suggest, eval = 100 |     1.3622      |  0.7697  |   0.001    |\n",
      "| 13 |   2   | algo = rand.suggest, eval = 100 |     -0.147      |  0.179   |    0.0     |\n",
      "| 14 |   2   | algo = rand.suggest, eval = 100 |     -0.185      |  0.7549  |   0.001    |\n",
      "| 15 |   2   | algo = rand.suggest, eval = 100 |     1.1236      |  0.672   |   0.001    |\n",
      "| 16 |   2   | algo = rand.suggest, eval = 100 |     0.3516      |  0.2756  |    0.0     |\n",
      "| 17 |   2   | algo = rand.suggest, eval = 100 |     1.1396      |  0.6788  |   0.001    |\n",
      "| 18 |   2   | algo = rand.suggest, eval = 100 |     -0.2483     |  0.4583  |   0.001    |\n",
      "| 19 |   2   | algo = rand.suggest, eval = 100 |     0.8226      |  0.5357  |   0.001    |\n",
      "| 20 |   2   | algo = rand.suggest, eval = 100 |      1.409      |  0.788   |   0.001    |\n",
      "| 21 |   2   | algo = rand.suggest, eval = 100 |     0.3649      |  0.2842  |    0.0     |\n",
      "| 22 |   2   | algo = rand.suggest, eval = 100 |     -0.2319     |  0.6346  |   0.001    |\n",
      "| 23 |   2   | algo = rand.suggest, eval = 100 |     -0.2451     |  0.5701  |   0.001    |\n",
      "| 24 |   2   | algo = rand.suggest, eval = 100 |      0.003      |  0.003   |   0.001    |\n",
      "| 25 |   2   | algo = rand.suggest, eval = 100 |     -0.1221     |  0.8576  |    0.0     |\n",
      "| 26 |   2   | algo = rand.suggest, eval = 100 |     -0.2442     |  0.4236  |   0.001    |\n",
      "| 27 |   2   | algo = rand.suggest, eval = 100 |     -0.0282     |  0.0291  |    0.0     |\n",
      "| 28 |   2   | algo = rand.suggest, eval = 100 |     0.0572      |  0.0543  |   0.001    |\n",
      "| 29 |   2   | algo = rand.suggest, eval = 100 |     1.8521      |  0.9499  |   0.001    |\n",
      "| 30 |   2   | algo = rand.suggest, eval = 100 |     -0.1162     |  0.8658  |    0.0     |\n",
      "| 31 |   2   | algo = rand.suggest, eval = 100 |     -0.1641     |  0.793   |   0.001    |\n",
      "| 32 |   2   | algo = rand.suggest, eval = 100 |     -0.1678     |  0.7867  |   0.001    |\n",
      "| 33 |   2   | algo = rand.suggest, eval = 100 |     0.3906      |  0.3004  |    0.0     |\n",
      "| 34 |   2   | algo = rand.suggest, eval = 100 |     -0.245      |  0.5707  |   0.001    |\n",
      "| 35 |   2   | algo = rand.suggest, eval = 100 |     0.0113      |  0.0112  |   0.001    |\n",
      "| 36 |   2   | algo = rand.suggest, eval = 100 |     -0.2444     |  0.575   |    0.0     |\n",
      "| 37 |   2   | algo = rand.suggest, eval = 100 |     0.9372      |  0.5896  |   0.001    |\n",
      "| 38 |   2   | algo = rand.suggest, eval = 100 |     -0.2487     |  0.536   |   0.001    |\n",
      "| 39 |   2   | algo = rand.suggest, eval = 100 |     1.2313      |  0.7171  |   0.001    |\n",
      "| 40 |   2   | algo = rand.suggest, eval = 100 |     -0.1312     |  0.8447  |    0.0     |\n",
      "| 41 |   2   | algo = rand.suggest, eval = 100 |     -0.1317     |  0.844   |   0.001    |\n",
      "| 42 |   2   | algo = rand.suggest, eval = 100 |     -0.2491     |  0.4694  |   0.001    |\n",
      "| 43 |   2   | algo = rand.suggest, eval = 100 |     -0.2042     |  0.714   |   0.001    |\n",
      "| 44 |   2   | algo = rand.suggest, eval = 100 |     0.0751      |  0.0701  |    0.0     |\n",
      "| 45 |   2   | algo = rand.suggest, eval = 100 |     -0.008      |  0.008   |   0.001    |\n",
      "| 46 |   2   | algo = rand.suggest, eval = 100 |     0.4158      |  0.316   |   0.001    |\n",
      "| 47 |   2   | algo = rand.suggest, eval = 100 |     1.0129      |  0.6238  |    0.0     |\n",
      "| 48 |   2   | algo = rand.suggest, eval = 100 |     -0.1819     |  0.239   |   0.001    |\n",
      "| 49 |   2   | algo = rand.suggest, eval = 100 |     -0.0634     |  0.068   |   0.001    |\n",
      "| 50 |   2   | algo = rand.suggest, eval = 100 |     -0.2233     |  0.3367  |    0.0     |\n",
      "| 51 |   2   | algo = rand.suggest, eval = 100 |     1.8025      |  0.9327  |   0.001    |\n",
      "| 52 |   2   | algo = rand.suggest, eval = 100 |     1.8646      |  0.9542  |   0.001    |\n",
      "| 53 |   2   | algo = rand.suggest, eval = 100 |     -0.2403     |  0.4014  |    0.0     |\n",
      "| 54 |   2   | algo = rand.suggest, eval = 100 |     -0.2471     |  0.554   |   0.001    |\n",
      "| 55 |   2   | algo = rand.suggest, eval = 100 |     -0.1624     |  0.2041  |   0.001    |\n",
      "| 56 |   2   | algo = rand.suggest, eval = 100 |     -0.1031     |  0.1167  |    0.0     |\n",
      "| 57 |   2   | algo = rand.suggest, eval = 100 |      1.988      |  0.996   |   0.001    |\n",
      "| 58 |   2   | algo = rand.suggest, eval = 100 |     -0.0225     |  0.023   |   0.001    |\n",
      "| 59 |   2   | algo = rand.suggest, eval = 100 |     -0.0619     |  0.0663  |   0.001    |\n",
      "| 60 |   2   | algo = rand.suggest, eval = 100 |     -0.2195     |  0.3253  |    0.0     |\n",
      "| 61 |   2   | algo = rand.suggest, eval = 100 |     1.1579      |  0.6865  |   0.001    |\n",
      "| 62 |   2   | algo = rand.suggest, eval = 100 |     -0.1711     |  0.2192  |   0.001    |\n",
      "| 63 |   2   | algo = rand.suggest, eval = 100 |     -0.1536     |  0.8104  |   0.001    |\n",
      "| 64 |   2   | algo = rand.suggest, eval = 100 |     -0.0301     |  0.031   |    0.0     |\n",
      "| 65 |   2   | algo = rand.suggest, eval = 100 |     0.9778      |  0.6081  |   0.001    |\n",
      "| 66 |   2   | algo = rand.suggest, eval = 100 |     -0.2422     |  0.5883  |   0.001    |\n",
      "| 67 |   2   | algo = rand.suggest, eval = 100 |     1.1657      |  0.6898  |   0.001    |\n",
      "| 68 |   2   | algo = rand.suggest, eval = 100 |     1.2847      |  0.7388  |    0.0     |\n",
      "| 69 |   2   | algo = rand.suggest, eval = 100 |      1.617      |  0.8664  |   0.001    |\n",
      "| 70 |   2   | algo = rand.suggest, eval = 100 |     -0.2383     |  0.3921  |   0.001    |\n",
      "| 71 |   2   | algo = rand.suggest, eval = 100 |     0.8986      |  0.5717  |    0.0     |\n",
      "| 72 |   2   | algo = rand.suggest, eval = 100 |     -0.0537     |  0.057   |   0.001    |\n",
      "| 73 |   2   | algo = rand.suggest, eval = 100 |     -0.2408     |  0.5962  |   0.001    |\n",
      "| 74 |   2   | algo = rand.suggest, eval = 100 |     1.1643      |  0.6893  |    0.0     |\n",
      "| 75 |   2   | algo = rand.suggest, eval = 100 |     -0.2174     |  0.6805  |   0.001    |\n",
      "| 76 |   2   | algo = rand.suggest, eval = 100 |     0.4443      |  0.3333  |   0.001    |\n",
      "| 77 |   2   | algo = rand.suggest, eval = 100 |      -0.07      |  0.9242  |   0.001    |\n",
      "| 78 |   2   | algo = rand.suggest, eval = 100 |     1.3021      |  0.7458  |   0.001    |\n",
      "| 79 |   2   | algo = rand.suggest, eval = 100 |     1.2713      |  0.7334  |    0.0     |\n",
      "| 80 |   2   | algo = rand.suggest, eval = 100 |     -0.0176     |  0.9821  |   0.001    |\n",
      "| 81 |   2   | algo = rand.suggest, eval = 100 |     -0.2296     |  0.3573  |   0.001    |\n",
      "| 82 |   2   | algo = rand.suggest, eval = 100 |     -0.2318     |  0.6349  |   0.001    |\n",
      "| 83 |   2   | algo = rand.suggest, eval = 100 |     1.5613      |  0.8459  |    0.0     |\n",
      "| 84 |   2   | algo = rand.suggest, eval = 100 |     1.4845      |  0.817   |   0.001    |\n",
      "| 85 |   2   | algo = rand.suggest, eval = 100 |     1.8205      |  0.9389  |   0.001    |\n",
      "| 86 |   2   | algo = rand.suggest, eval = 100 |     -0.0719     |  0.078   |    0.0     |\n",
      "| 87 |   2   | algo = rand.suggest, eval = 100 |     -0.2483     |  0.4584  |   0.001    |\n",
      "| 88 |   2   | algo = rand.suggest, eval = 100 |     0.0471      |  0.0451  |   0.001    |\n",
      "| 89 |   2   | algo = rand.suggest, eval = 100 |     -0.0599     |  0.064   |   0.001    |\n",
      "| 90 |   2   | algo = rand.suggest, eval = 100 |     -0.2108     |  0.302   |   0.001    |\n",
      "| 91 |   2   | algo = rand.suggest, eval = 100 |     -0.1998     |  0.2759  |    0.0     |\n",
      "| 92 |   2   | algo = rand.suggest, eval = 100 |     -0.2453     |  0.4315  |   0.001    |\n",
      "| 93 |   2   | algo = rand.suggest, eval = 100 |     0.4039      |  0.3086  |   0.001    |\n",
      "| 94 |   2   | algo = rand.suggest, eval = 100 |     0.8705      |  0.5585  |   0.001    |\n",
      "| 95 |   2   | algo = rand.suggest, eval = 100 |     -0.2499     |  0.5118  |   0.001    |\n",
      "| 96 |   2   | algo = rand.suggest, eval = 100 |      1.265      |  0.7308  |    0.0     |\n",
      "| 97 |   2   | algo = rand.suggest, eval = 100 |     0.3496      |  0.2744  |   0.001    |\n",
      "| 98 |   2   | algo = rand.suggest, eval = 100 |     -0.2171     |  0.6814  |   0.001    |\n",
      "| 99 |   2   | algo = rand.suggest, eval = 100 |     1.4556      |  0.806   |   0.001    |\n",
      "+----+-------+---------------------------------+-----------------+----------+------------+\n"
     ]
    }
   ],
   "source": [
    "results = table1.append(table2)\n",
    "results.to_csv('Hyperopt.csv')\n",
    "print(tabulate(results, results.columns, tablefmt=\"pretty\",showindex=\"never\"))"
   ]
  },
  {
   "cell_type": "markdown",
   "metadata": {},
   "source": [
    "# <br><br><br>\n",
    "<center> <h3 style=\"color:blue\">========================================================</h3> </center>\n",
    "<center> <h3 style=\"color:green\">Thank you so much</h3> </center>\n",
    "<center> <h3 style=\"color:blue\">========================================================</h3> </center>\n",
    "<br><br><br>"
   ]
  }
 ],
 "metadata": {
  "kernelspec": {
   "display_name": "Python 3",
   "language": "python",
   "name": "python3"
  },
  "language_info": {
   "codemirror_mode": {
    "name": "ipython",
    "version": 3
   },
   "file_extension": ".py",
   "mimetype": "text/x-python",
   "name": "python",
   "nbconvert_exporter": "python",
   "pygments_lexer": "ipython3",
   "version": "3.8.5"
  }
 },
 "nbformat": 4,
 "nbformat_minor": 4
}
