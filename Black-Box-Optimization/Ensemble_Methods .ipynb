{
 "cells": [
  {
   "cell_type": "code",
   "execution_count": 130,
   "metadata": {},
   "outputs": [],
   "source": [
    "import numpy as np\n",
    "import pandas as pd\n",
    "\n",
    "import sklearn \n",
    "from sklearn.model_selection import train_test_split\n",
    "from sklearn.preprocessing import StandardScaler\n",
    "from sklearn.preprocessing import MinMaxScaler\n",
    "from sklearn.ensemble import BaggingClassifier, RandomForestClassifier, GradientBoostingClassifier\n",
    "from sklearn.metrics import r2_score, mean_squared_error, accuracy_score\n",
    "from sklearn import tree\n",
    "from sklearn.tree import DecisionTreeClassifier\n",
    "import matplotlib.pyplot as plt"
   ]
  },
  {
   "cell_type": "code",
   "execution_count": 131,
   "metadata": {},
   "outputs": [
    {
     "data": {
      "text/html": [
       "<div>\n",
       "<style scoped>\n",
       "    .dataframe tbody tr th:only-of-type {\n",
       "        vertical-align: middle;\n",
       "    }\n",
       "\n",
       "    .dataframe tbody tr th {\n",
       "        vertical-align: top;\n",
       "    }\n",
       "\n",
       "    .dataframe thead th {\n",
       "        text-align: right;\n",
       "    }\n",
       "</style>\n",
       "<table border=\"1\" class=\"dataframe\">\n",
       "  <thead>\n",
       "    <tr style=\"text-align: right;\">\n",
       "      <th></th>\n",
       "      <th>Unnamed: 0</th>\n",
       "      <th>number of trials</th>\n",
       "      <th>number of parameters</th>\n",
       "      <th>type of function</th>\n",
       "      <th>accuracy [calc. max/ actual max]</th>\n",
       "      <th>time per trial [s]</th>\n",
       "      <th>type_of_opt</th>\n",
       "      <th>assigned_class</th>\n",
       "    </tr>\n",
       "  </thead>\n",
       "  <tbody>\n",
       "    <tr>\n",
       "      <th>0</th>\n",
       "      <td>0.0</td>\n",
       "      <td>16</td>\n",
       "      <td>2</td>\n",
       "      <td>Trig</td>\n",
       "      <td>0.732417</td>\n",
       "      <td>0.009824</td>\n",
       "      <td>CmaEs</td>\n",
       "      <td>0</td>\n",
       "    </tr>\n",
       "    <tr>\n",
       "      <th>1</th>\n",
       "      <td>1.0</td>\n",
       "      <td>13</td>\n",
       "      <td>2</td>\n",
       "      <td>Trig</td>\n",
       "      <td>0.983980</td>\n",
       "      <td>0.008316</td>\n",
       "      <td>CmaEs</td>\n",
       "      <td>0</td>\n",
       "    </tr>\n",
       "    <tr>\n",
       "      <th>2</th>\n",
       "      <td>2.0</td>\n",
       "      <td>10</td>\n",
       "      <td>2</td>\n",
       "      <td>Trig</td>\n",
       "      <td>0.638160</td>\n",
       "      <td>0.007854</td>\n",
       "      <td>CmaEs</td>\n",
       "      <td>0</td>\n",
       "    </tr>\n",
       "    <tr>\n",
       "      <th>3</th>\n",
       "      <td>3.0</td>\n",
       "      <td>18</td>\n",
       "      <td>2</td>\n",
       "      <td>Trig</td>\n",
       "      <td>0.952784</td>\n",
       "      <td>0.009196</td>\n",
       "      <td>CmaEs</td>\n",
       "      <td>0</td>\n",
       "    </tr>\n",
       "    <tr>\n",
       "      <th>4</th>\n",
       "      <td>4.0</td>\n",
       "      <td>11</td>\n",
       "      <td>2</td>\n",
       "      <td>Trig</td>\n",
       "      <td>0.284646</td>\n",
       "      <td>0.007938</td>\n",
       "      <td>CmaEs</td>\n",
       "      <td>0</td>\n",
       "    </tr>\n",
       "    <tr>\n",
       "      <th>...</th>\n",
       "      <td>...</td>\n",
       "      <td>...</td>\n",
       "      <td>...</td>\n",
       "      <td>...</td>\n",
       "      <td>...</td>\n",
       "      <td>...</td>\n",
       "      <td>...</td>\n",
       "      <td>...</td>\n",
       "    </tr>\n",
       "    <tr>\n",
       "      <th>1345</th>\n",
       "      <td>NaN</td>\n",
       "      <td>8</td>\n",
       "      <td>2</td>\n",
       "      <td>Trig</td>\n",
       "      <td>0.034904</td>\n",
       "      <td>0.007662</td>\n",
       "      <td>CMA-ES</td>\n",
       "      <td>0</td>\n",
       "    </tr>\n",
       "    <tr>\n",
       "      <th>1346</th>\n",
       "      <td>NaN</td>\n",
       "      <td>8</td>\n",
       "      <td>2</td>\n",
       "      <td>Trig</td>\n",
       "      <td>0.091423</td>\n",
       "      <td>0.010617</td>\n",
       "      <td>CMA-ES</td>\n",
       "      <td>0</td>\n",
       "    </tr>\n",
       "    <tr>\n",
       "      <th>1347</th>\n",
       "      <td>NaN</td>\n",
       "      <td>14</td>\n",
       "      <td>2</td>\n",
       "      <td>Trig</td>\n",
       "      <td>0.015566</td>\n",
       "      <td>0.019561</td>\n",
       "      <td>CMA-ES</td>\n",
       "      <td>0</td>\n",
       "    </tr>\n",
       "    <tr>\n",
       "      <th>1348</th>\n",
       "      <td>NaN</td>\n",
       "      <td>9</td>\n",
       "      <td>2</td>\n",
       "      <td>Trig</td>\n",
       "      <td>0.076210</td>\n",
       "      <td>0.011982</td>\n",
       "      <td>CMA-ES</td>\n",
       "      <td>0</td>\n",
       "    </tr>\n",
       "    <tr>\n",
       "      <th>1349</th>\n",
       "      <td>NaN</td>\n",
       "      <td>10</td>\n",
       "      <td>2</td>\n",
       "      <td>Trig</td>\n",
       "      <td>0.028620</td>\n",
       "      <td>0.021816</td>\n",
       "      <td>CMA-ES</td>\n",
       "      <td>0</td>\n",
       "    </tr>\n",
       "  </tbody>\n",
       "</table>\n",
       "<p>1350 rows × 8 columns</p>\n",
       "</div>"
      ],
      "text/plain": [
       "      Unnamed: 0  number of trials  number of parameters type of function  \\\n",
       "0            0.0                16                     2             Trig   \n",
       "1            1.0                13                     2             Trig   \n",
       "2            2.0                10                     2             Trig   \n",
       "3            3.0                18                     2             Trig   \n",
       "4            4.0                11                     2             Trig   \n",
       "...          ...               ...                   ...              ...   \n",
       "1345         NaN                 8                     2             Trig   \n",
       "1346         NaN                 8                     2             Trig   \n",
       "1347         NaN                14                     2             Trig   \n",
       "1348         NaN                 9                     2             Trig   \n",
       "1349         NaN                10                     2             Trig   \n",
       "\n",
       "      accuracy [calc. max/ actual max]  time per trial [s] type_of_opt  \\\n",
       "0                             0.732417            0.009824       CmaEs   \n",
       "1                             0.983980            0.008316       CmaEs   \n",
       "2                             0.638160            0.007854       CmaEs   \n",
       "3                             0.952784            0.009196       CmaEs   \n",
       "4                             0.284646            0.007938       CmaEs   \n",
       "...                                ...                 ...         ...   \n",
       "1345                          0.034904            0.007662      CMA-ES   \n",
       "1346                          0.091423            0.010617      CMA-ES   \n",
       "1347                          0.015566            0.019561      CMA-ES   \n",
       "1348                          0.076210            0.011982      CMA-ES   \n",
       "1349                          0.028620            0.021816      CMA-ES   \n",
       "\n",
       "      assigned_class  \n",
       "0                  0  \n",
       "1                  0  \n",
       "2                  0  \n",
       "3                  0  \n",
       "4                  0  \n",
       "...              ...  \n",
       "1345               0  \n",
       "1346               0  \n",
       "1347               0  \n",
       "1348               0  \n",
       "1349               0  \n",
       "\n",
       "[1350 rows x 8 columns]"
      ]
     },
     "execution_count": 131,
     "metadata": {},
     "output_type": "execute_result"
    }
   ],
   "source": [
    "df = pd.read_excel('Data/All Data combined.xlsx')\n",
    "df"
   ]
  },
  {
   "cell_type": "code",
   "execution_count": 132,
   "metadata": {},
   "outputs": [],
   "source": [
    "df = df.drop(['Unnamed: 0'], axis=1)\n",
    "df = df.drop(['type_of_opt'], axis=1)"
   ]
  },
  {
   "cell_type": "code",
   "execution_count": 133,
   "metadata": {},
   "outputs": [],
   "source": [
    "df = df[df['accuracy [calc. max/ actual max]'] < 1.05]  "
   ]
  },
  {
   "cell_type": "code",
   "execution_count": 134,
   "metadata": {},
   "outputs": [],
   "source": [
    "x = df[['number of trials','number of parameters','accuracy [calc. max/ actual max]', 'time per trial [s]']].values"
   ]
  },
  {
   "cell_type": "code",
   "execution_count": 135,
   "metadata": {},
   "outputs": [],
   "source": [
    "#df['type_of_opt'].replace('CmaEs', 1,inplace=True)\n",
    "#df['type_of_opt'].replace('Random', 2,inplace=True)\n",
    "#df['type_of_opt'].replace('TPE', 3,inplace=True)\n",
    "y = df['assigned_class']"
   ]
  },
  {
   "cell_type": "code",
   "execution_count": 136,
   "metadata": {},
   "outputs": [],
   "source": [
    "x_train, x_test, y_train, y_test = train_test_split(x, y,test_size=0.30)"
   ]
  },
  {
   "cell_type": "code",
   "execution_count": 137,
   "metadata": {},
   "outputs": [],
   "source": [
    "x_train = StandardScaler().fit(x_train).transform(x_train)\n",
    "x_test = StandardScaler().fit(x_test).transform(x_test)\n",
    "x_train = MinMaxScaler().fit(x_train).transform(x_train)\n",
    "x_test = MinMaxScaler().fit(x_test).transform(x_test)"
   ]
  },
  {
   "cell_type": "code",
   "execution_count": 138,
   "metadata": {},
   "outputs": [],
   "source": [
    "y_train = np.asarray(y_train)"
   ]
  },
  {
   "cell_type": "code",
   "execution_count": 139,
   "metadata": {},
   "outputs": [
    {
     "data": {
      "text/plain": [
       "(933, 4)"
      ]
     },
     "execution_count": 139,
     "metadata": {},
     "output_type": "execute_result"
    }
   ],
   "source": [
    "x_train.shape"
   ]
  },
  {
   "cell_type": "code",
   "execution_count": 140,
   "metadata": {},
   "outputs": [
    {
     "data": {
      "image/png": "[encoded data removed]",
      "text/plain": [
       "<Figure size 1440x288 with 4 Axes>"
      ]
     },
     "metadata": {
      "needs_background": "light"
     },
     "output_type": "display_data"
    }
   ],
   "source": [
    "fig, ax = plt.subplots(figsize=(20,4), ncols = 4)\n",
    "ax[0].hist(x_train[:,0], bins = 20)\n",
    "ax[0].set_title('n_trials')\n",
    "ax[1].hist(x_train[:,1], bins = 20)\n",
    "ax[1].set_title('n_parameters')\n",
    "ax[2].hist(x_train[:,2], bins = 20)\n",
    "ax[2].set_title('accuracy')\n",
    "ax[3].hist(x_train[:,3], bins = 20)\n",
    "ax[3].set_title('time per trial')\n",
    "plt.show()\n"
   ]
  },
  {
   "cell_type": "markdown",
   "metadata": {},
   "source": [
    "## Using a Decision Tree Classifier "
   ]
  },
  {
   "cell_type": "code",
   "execution_count": 141,
   "metadata": {},
   "outputs": [
    {
     "name": "stdout",
     "output_type": "stream",
     "text": [
      "|   iter    |  target   |     x     |     y     |\n",
      "-------------------------------------------------\n",
      "| \u001b[0m 1       \u001b[0m | \u001b[0m 0.616   \u001b[0m | \u001b[0m 5.175   \u001b[0m | \u001b[0m 44.04   \u001b[0m |\n",
      "| \u001b[0m 2       \u001b[0m | \u001b[0m 0.611   \u001b[0m | \u001b[0m 45.99   \u001b[0m | \u001b[0m 22.8    \u001b[0m |\n",
      "| \u001b[0m 3       \u001b[0m | \u001b[0m 0.611   \u001b[0m | \u001b[0m 5.191   \u001b[0m | \u001b[0m 22.17   \u001b[0m |\n",
      "| \u001b[95m 4       \u001b[0m | \u001b[95m 0.6409  \u001b[0m | \u001b[95m 47.39   \u001b[0m | \u001b[95m 13.9    \u001b[0m |\n",
      "| \u001b[0m 5       \u001b[0m | \u001b[0m 0.6309  \u001b[0m | \u001b[0m 22.86   \u001b[0m | \u001b[0m 41.86   \u001b[0m |\n",
      "| \u001b[0m 6       \u001b[0m | \u001b[0m 0.6384  \u001b[0m | \u001b[0m 46.53   \u001b[0m | \u001b[0m 47.66   \u001b[0m |\n",
      "| \u001b[0m 7       \u001b[0m | \u001b[0m 0.6284  \u001b[0m | \u001b[0m 41.72   \u001b[0m | \u001b[0m 24.05   \u001b[0m |\n",
      "| \u001b[0m 8       \u001b[0m | \u001b[0m 0.5835  \u001b[0m | \u001b[0m 44.1    \u001b[0m | \u001b[0m 2.801   \u001b[0m |\n",
      "| \u001b[0m 9       \u001b[0m | \u001b[0m 0.6185  \u001b[0m | \u001b[0m 42.53   \u001b[0m | \u001b[0m 26.18   \u001b[0m |\n",
      "| \u001b[0m 10      \u001b[0m | \u001b[0m 0.611   \u001b[0m | \u001b[0m 20.24   \u001b[0m | \u001b[0m 26.72   \u001b[0m |\n",
      "| \u001b[0m 11      \u001b[0m | \u001b[0m 0.6259  \u001b[0m | \u001b[0m 28.59   \u001b[0m | \u001b[0m 48.62   \u001b[0m |\n",
      "| \u001b[0m 12      \u001b[0m | \u001b[0m 0.6309  \u001b[0m | \u001b[0m 43.78   \u001b[0m | \u001b[0m 5.681   \u001b[0m |\n",
      "| \u001b[0m 13      \u001b[0m | \u001b[0m 0.5985  \u001b[0m | \u001b[0m 47.28   \u001b[0m | \u001b[0m 8.359   \u001b[0m |\n",
      "| \u001b[0m 14      \u001b[0m | \u001b[0m 0.6259  \u001b[0m | \u001b[0m 47.92   \u001b[0m | \u001b[0m 20.67   \u001b[0m |\n",
      "| \u001b[0m 15      \u001b[0m | \u001b[0m 0.6135  \u001b[0m | \u001b[0m 3.779   \u001b[0m | \u001b[0m 37.44   \u001b[0m |\n",
      "| \u001b[0m 16      \u001b[0m | \u001b[0m 0.6234  \u001b[0m | \u001b[0m 39.68   \u001b[0m | \u001b[0m 41.57   \u001b[0m |\n",
      "| \u001b[0m 17      \u001b[0m | \u001b[0m 0.6284  \u001b[0m | \u001b[0m 27.14   \u001b[0m | \u001b[0m 30.26   \u001b[0m |\n",
      "| \u001b[0m 18      \u001b[0m | \u001b[0m 0.601   \u001b[0m | \u001b[0m 42.48   \u001b[0m | \u001b[0m 2.42    \u001b[0m |\n",
      "| \u001b[0m 19      \u001b[0m | \u001b[0m 0.6384  \u001b[0m | \u001b[0m 34.09   \u001b[0m | \u001b[0m 29.99   \u001b[0m |\n",
      "| \u001b[0m 20      \u001b[0m | \u001b[0m 0.6185  \u001b[0m | \u001b[0m 10.85   \u001b[0m | \u001b[0m 28.26   \u001b[0m |\n",
      "| \u001b[0m 21      \u001b[0m | \u001b[0m 0.611   \u001b[0m | \u001b[0m 47.01   \u001b[0m | \u001b[0m 15.18   \u001b[0m |\n",
      "| \u001b[0m 22      \u001b[0m | \u001b[0m 0.6259  \u001b[0m | \u001b[0m 47.66   \u001b[0m | \u001b[0m 13.21   \u001b[0m |\n",
      "| \u001b[0m 23      \u001b[0m | \u001b[0m 0.6359  \u001b[0m | \u001b[0m 46.71   \u001b[0m | \u001b[0m 13.88   \u001b[0m |\n",
      "| \u001b[0m 24      \u001b[0m | \u001b[0m 0.6334  \u001b[0m | \u001b[0m 45.63   \u001b[0m | \u001b[0m 47.34   \u001b[0m |\n",
      "| \u001b[0m 25      \u001b[0m | \u001b[0m 0.6334  \u001b[0m | \u001b[0m 47.0    \u001b[0m | \u001b[0m 46.56   \u001b[0m |\n",
      "| \u001b[0m 26      \u001b[0m | \u001b[0m 0.6259  \u001b[0m | \u001b[0m 34.46   \u001b[0m | \u001b[0m 28.91   \u001b[0m |\n",
      "| \u001b[0m 27      \u001b[0m | \u001b[0m 0.6209  \u001b[0m | \u001b[0m 34.8    \u001b[0m | \u001b[0m 30.9    \u001b[0m |\n",
      "| \u001b[0m 28      \u001b[0m | \u001b[0m 0.616   \u001b[0m | \u001b[0m 33.13   \u001b[0m | \u001b[0m 30.05   \u001b[0m |\n",
      "| \u001b[95m 29      \u001b[0m | \u001b[95m 0.6459  \u001b[0m | \u001b[95m 47.44   \u001b[0m | \u001b[95m 47.49   \u001b[0m |\n",
      "| \u001b[95m 30      \u001b[0m | \u001b[95m 0.6484  \u001b[0m | \u001b[95m 47.45   \u001b[0m | \u001b[95m 48.58   \u001b[0m |\n",
      "| \u001b[95m 31      \u001b[0m | \u001b[95m 0.6509  \u001b[0m | \u001b[95m 48.28   \u001b[0m | \u001b[95m 48.16   \u001b[0m |\n",
      "| \u001b[95m 32      \u001b[0m | \u001b[95m 0.6633  \u001b[0m | \u001b[95m 48.3    \u001b[0m | \u001b[95m 49.2    \u001b[0m |\n",
      "| \u001b[0m 33      \u001b[0m | \u001b[0m 0.6234  \u001b[0m | \u001b[0m 49.01   \u001b[0m | \u001b[0m 49.08   \u001b[0m |\n",
      "| \u001b[0m 34      \u001b[0m | \u001b[0m 0.6185  \u001b[0m | \u001b[0m 48.07   \u001b[0m | \u001b[0m 49.7    \u001b[0m |\n",
      "| \u001b[0m 35      \u001b[0m | \u001b[0m 0.611   \u001b[0m | \u001b[0m 12.32   \u001b[0m | \u001b[0m 28.09   \u001b[0m |\n",
      "| \u001b[0m 36      \u001b[0m | \u001b[0m 0.6309  \u001b[0m | \u001b[0m 15.85   \u001b[0m | \u001b[0m 42.2    \u001b[0m |\n",
      "| \u001b[0m 37      \u001b[0m | \u001b[0m 0.6334  \u001b[0m | \u001b[0m 48.2    \u001b[0m | \u001b[0m 48.81   \u001b[0m |\n",
      "| \u001b[0m 38      \u001b[0m | \u001b[0m 0.6309  \u001b[0m | \u001b[0m 47.49   \u001b[0m | \u001b[0m 48.62   \u001b[0m |\n",
      "| \u001b[0m 39      \u001b[0m | \u001b[0m 0.5935  \u001b[0m | \u001b[0m 12.71   \u001b[0m | \u001b[0m 12.11   \u001b[0m |\n",
      "| \u001b[0m 40      \u001b[0m | \u001b[0m 0.6209  \u001b[0m | \u001b[0m 46.49   \u001b[0m | \u001b[0m 47.73   \u001b[0m |\n",
      "| \u001b[0m 41      \u001b[0m | \u001b[0m 0.6384  \u001b[0m | \u001b[0m 48.34   \u001b[0m | \u001b[0m 48.16   \u001b[0m |\n",
      "| \u001b[0m 42      \u001b[0m | \u001b[0m 0.6259  \u001b[0m | \u001b[0m 37.72   \u001b[0m | \u001b[0m 43.3    \u001b[0m |\n",
      "| \u001b[0m 43      \u001b[0m | \u001b[0m 0.6359  \u001b[0m | \u001b[0m 16.14   \u001b[0m | \u001b[0m 42.01   \u001b[0m |\n",
      "| \u001b[0m 44      \u001b[0m | \u001b[0m 0.6135  \u001b[0m | \u001b[0m 33.67   \u001b[0m | \u001b[0m 13.6    \u001b[0m |\n",
      "| \u001b[0m 45      \u001b[0m | \u001b[0m 0.6459  \u001b[0m | \u001b[0m 37.87   \u001b[0m | \u001b[0m 46.22   \u001b[0m |\n",
      "| \u001b[0m 46      \u001b[0m | \u001b[0m 0.6209  \u001b[0m | \u001b[0m 18.87   \u001b[0m | \u001b[0m 13.68   \u001b[0m |\n",
      "| \u001b[0m 47      \u001b[0m | \u001b[0m 0.6384  \u001b[0m | \u001b[0m 38.02   \u001b[0m | \u001b[0m 46.22   \u001b[0m |\n",
      "| \u001b[0m 48      \u001b[0m | \u001b[0m 0.6234  \u001b[0m | \u001b[0m 37.96   \u001b[0m | \u001b[0m 46.34   \u001b[0m |\n",
      "| \u001b[0m 49      \u001b[0m | \u001b[0m 0.6209  \u001b[0m | \u001b[0m 47.93   \u001b[0m | \u001b[0m 20.63   \u001b[0m |\n",
      "| \u001b[0m 50      \u001b[0m | \u001b[0m 0.6334  \u001b[0m | \u001b[0m 20.89   \u001b[0m | \u001b[0m 26.87   \u001b[0m |\n",
      "=================================================\n",
      "Found x: 48.30125452904918, f: 0.6209476309226932\n",
      "Found y: 49.19729969225779, f: 0.6309226932668329\n",
      "Max value found is: 0.6408977556109726\n"
     ]
    }
   ],
   "source": [
    "def func(x,y):\n",
    "    estimator = DecisionTreeClassifier(max_depth= int(np.round(x)))\n",
    "    clf = BaggingClassifier(base_estimator=estimator, n_estimators= int(np.round(y)))\n",
    "    clf = clf.fit(x_train, y_train)\n",
    "    yhat = clf.predict(x_test)\n",
    "    MSE = mean_squared_error(y_test, yhat)\n",
    "    acc = accuracy_score(y_test, yhat)\n",
    "    \n",
    "    return  acc\n",
    "\n",
    "from bayes_opt import BayesianOptimization\n",
    "\n",
    "xmin = 1\n",
    "xmax = 50\n",
    "ymin = 1\n",
    "ymax = 50\n",
    "\n",
    "pbounds = {'x': (xmin, xmax), 'y': (ymin, ymax)}\n",
    "\n",
    "optimizer = BayesianOptimization(f=func, pbounds=pbounds, verbose=3)\n",
    "\n",
    "optimizer.maximize(init_points = 20, n_iter = 30)\n",
    "    \n",
    "best_params = optimizer.max[\"params\"]\n",
    "    \n",
    "found_x = best_params['x']\n",
    "found_y = best_params['y']\n",
    "\n",
    "max_value = func(found_x, found_y)\n",
    "    \n",
    "print(\"Found x: {}, f: {}\".format(found_x, (func(found_x, found_y))))\n",
    "print(\"Found y: {}, f: {}\".format(found_y, (func(found_x, found_y))))\n",
    "print(\"Max value found is: {}\".format(max_value))"
   ]
  },
  {
   "cell_type": "code",
   "execution_count": 142,
   "metadata": {},
   "outputs": [],
   "source": [
    "estimator = DecisionTreeClassifier(max_depth=int(np.round(found_x)))\n",
    "clf = BaggingClassifier(base_estimator=estimator, n_estimators= int(np.round(found_y)))\n",
    "clf = clf.fit(x_train, y_train)\n",
    "yhat = clf.predict(x_test)\n",
    "MSE = mean_squared_error(y_test, yhat)\n",
    "acc = accuracy_score(y_test, yhat)"
   ]
  },
  {
   "cell_type": "code",
   "execution_count": 143,
   "metadata": {},
   "outputs": [
    {
     "data": {
      "text/plain": [
       "0.6408977556109726"
      ]
     },
     "execution_count": 143,
     "metadata": {},
     "output_type": "execute_result"
    }
   ],
   "source": [
    "acc"
   ]
  },
  {
   "cell_type": "code",
   "execution_count": 124,
   "metadata": {},
   "outputs": [
    {
     "data": {
      "text/plain": [
       "array([[1. , 0. , 0.4, 0. ]])"
      ]
     },
     "execution_count": 124,
     "metadata": {},
     "output_type": "execute_result"
    }
   ],
   "source": [
    "x = np.array([1,0,0.4,0]).reshape(1,-1)\n",
    "x"
   ]
  },
  {
   "cell_type": "code",
   "execution_count": 125,
   "metadata": {},
   "outputs": [
    {
     "data": {
      "text/plain": [
       "array([1])"
      ]
     },
     "execution_count": 125,
     "metadata": {},
     "output_type": "execute_result"
    }
   ],
   "source": [
    "clf.predict(x)"
   ]
  },
  {
   "cell_type": "markdown",
   "metadata": {},
   "source": [
    "## Using a Random Forest Classifier "
   ]
  },
  {
   "cell_type": "code",
   "execution_count": 126,
   "metadata": {},
   "outputs": [
    {
     "name": "stdout",
     "output_type": "stream",
     "text": [
      "|   iter    |  target   |     x     |     y     |\n",
      "-------------------------------------------------\n",
      "| \u001b[0m 1       \u001b[0m | \u001b[0m 0.5486  \u001b[0m | \u001b[0m 33.01   \u001b[0m | \u001b[0m 17.52   \u001b[0m |\n",
      "| \u001b[95m 2       \u001b[0m | \u001b[95m 0.586   \u001b[0m | \u001b[95m 96.41   \u001b[0m | \u001b[95m 73.55   \u001b[0m |\n",
      "| \u001b[0m 3       \u001b[0m | \u001b[0m 0.5536  \u001b[0m | \u001b[0m 64.97   \u001b[0m | \u001b[0m 6.881   \u001b[0m |\n",
      "| \u001b[0m 4       \u001b[0m | \u001b[0m 0.5686  \u001b[0m | \u001b[0m 15.86   \u001b[0m | \u001b[0m 98.89   \u001b[0m |\n",
      "| \u001b[0m 5       \u001b[0m | \u001b[0m 0.5786  \u001b[0m | \u001b[0m 89.47   \u001b[0m | \u001b[0m 27.02   \u001b[0m |\n",
      "| \u001b[0m 6       \u001b[0m | \u001b[0m 0.5711  \u001b[0m | \u001b[0m 19.28   \u001b[0m | \u001b[0m 22.15   \u001b[0m |\n",
      "| \u001b[0m 7       \u001b[0m | \u001b[0m 0.5761  \u001b[0m | \u001b[0m 15.22   \u001b[0m | \u001b[0m 59.14   \u001b[0m |\n",
      "| \u001b[0m 8       \u001b[0m | \u001b[0m 0.5686  \u001b[0m | \u001b[0m 62.31   \u001b[0m | \u001b[0m 95.94   \u001b[0m |\n",
      "| \u001b[0m 9       \u001b[0m | \u001b[0m 0.5411  \u001b[0m | \u001b[0m 44.23   \u001b[0m | \u001b[0m 20.45   \u001b[0m |\n",
      "| \u001b[95m 10      \u001b[0m | \u001b[95m 0.5935  \u001b[0m | \u001b[95m 49.15   \u001b[0m | \u001b[95m 34.8    \u001b[0m |\n",
      "| \u001b[0m 11      \u001b[0m | \u001b[0m 0.5736  \u001b[0m | \u001b[0m 59.15   \u001b[0m | \u001b[0m 40.86   \u001b[0m |\n",
      "| \u001b[0m 12      \u001b[0m | \u001b[0m 0.581   \u001b[0m | \u001b[0m 37.07   \u001b[0m | \u001b[0m 36.85   \u001b[0m |\n",
      "| \u001b[0m 13      \u001b[0m | \u001b[0m 0.5686  \u001b[0m | \u001b[0m 94.04   \u001b[0m | \u001b[0m 34.58   \u001b[0m |\n",
      "| \u001b[0m 14      \u001b[0m | \u001b[0m 0.5686  \u001b[0m | \u001b[0m 75.26   \u001b[0m | \u001b[0m 5.944   \u001b[0m |\n",
      "| \u001b[0m 15      \u001b[0m | \u001b[0m 0.5835  \u001b[0m | \u001b[0m 32.09   \u001b[0m | \u001b[0m 88.23   \u001b[0m |\n",
      "| \u001b[0m 16      \u001b[0m | \u001b[0m 0.5686  \u001b[0m | \u001b[0m 12.03   \u001b[0m | \u001b[0m 21.8    \u001b[0m |\n",
      "| \u001b[0m 17      \u001b[0m | \u001b[0m 0.5436  \u001b[0m | \u001b[0m 45.84   \u001b[0m | \u001b[0m 17.02   \u001b[0m |\n",
      "| \u001b[0m 18      \u001b[0m | \u001b[0m 0.5387  \u001b[0m | \u001b[0m 2.095   \u001b[0m | \u001b[0m 53.26   \u001b[0m |\n",
      "| \u001b[0m 19      \u001b[0m | \u001b[0m 0.5636  \u001b[0m | \u001b[0m 20.0    \u001b[0m | \u001b[0m 33.33   \u001b[0m |\n",
      "| \u001b[0m 20      \u001b[0m | \u001b[0m 0.5436  \u001b[0m | \u001b[0m 81.09   \u001b[0m | \u001b[0m 9.12    \u001b[0m |\n",
      "| \u001b[0m 21      \u001b[0m | \u001b[0m 0.5736  \u001b[0m | \u001b[0m 46.0    \u001b[0m | \u001b[0m 39.79   \u001b[0m |\n",
      "| \u001b[0m 22      \u001b[0m | \u001b[0m 0.5686  \u001b[0m | \u001b[0m 54.41   \u001b[0m | \u001b[0m 33.39   \u001b[0m |\n",
      "| \u001b[95m 23      \u001b[0m | \u001b[95m 0.596   \u001b[0m | \u001b[95m 45.54   \u001b[0m | \u001b[95m 33.28   \u001b[0m |\n",
      "| \u001b[0m 24      \u001b[0m | \u001b[0m 0.5761  \u001b[0m | \u001b[0m 47.85   \u001b[0m | \u001b[0m 30.37   \u001b[0m |\n",
      "| \u001b[0m 25      \u001b[0m | \u001b[0m 0.5786  \u001b[0m | \u001b[0m 40.94   \u001b[0m | \u001b[0m 32.65   \u001b[0m |\n",
      "| \u001b[0m 26      \u001b[0m | \u001b[0m 0.586   \u001b[0m | \u001b[0m 97.47   \u001b[0m | \u001b[0m 79.67   \u001b[0m |\n",
      "| \u001b[0m 27      \u001b[0m | \u001b[0m 0.5835  \u001b[0m | \u001b[0m 90.96   \u001b[0m | \u001b[0m 77.68   \u001b[0m |\n",
      "| \u001b[0m 28      \u001b[0m | \u001b[0m 0.5636  \u001b[0m | \u001b[0m 89.83   \u001b[0m | \u001b[0m 69.3    \u001b[0m |\n",
      "| \u001b[0m 29      \u001b[0m | \u001b[0m 0.596   \u001b[0m | \u001b[0m 92.38   \u001b[0m | \u001b[0m 85.2    \u001b[0m |\n",
      "| \u001b[0m 30      \u001b[0m | \u001b[0m 0.5736  \u001b[0m | \u001b[0m 97.18   \u001b[0m | \u001b[0m 88.71   \u001b[0m |\n",
      "| \u001b[0m 31      \u001b[0m | \u001b[0m 0.5711  \u001b[0m | \u001b[0m 87.05   \u001b[0m | \u001b[0m 85.48   \u001b[0m |\n",
      "| \u001b[0m 32      \u001b[0m | \u001b[0m 0.5636  \u001b[0m | \u001b[0m 94.3    \u001b[0m | \u001b[0m 81.66   \u001b[0m |\n",
      "| \u001b[0m 33      \u001b[0m | \u001b[0m 0.5835  \u001b[0m | \u001b[0m 91.74   \u001b[0m | \u001b[0m 87.59   \u001b[0m |\n",
      "| \u001b[0m 34      \u001b[0m | \u001b[0m 0.5885  \u001b[0m | \u001b[0m 46.19   \u001b[0m | \u001b[0m 35.11   \u001b[0m |\n",
      "| \u001b[0m 35      \u001b[0m | \u001b[0m 0.5835  \u001b[0m | \u001b[0m 99.01   \u001b[0m | \u001b[0m 76.58   \u001b[0m |\n",
      "| \u001b[0m 36      \u001b[0m | \u001b[0m 0.5736  \u001b[0m | \u001b[0m 95.14   \u001b[0m | \u001b[0m 76.81   \u001b[0m |\n",
      "| \u001b[0m 37      \u001b[0m | \u001b[0m 0.5436  \u001b[0m | \u001b[0m 50.57   \u001b[0m | \u001b[0m 37.62   \u001b[0m |\n",
      "| \u001b[0m 38      \u001b[0m | \u001b[0m 0.591   \u001b[0m | \u001b[0m 47.78   \u001b[0m | \u001b[0m 32.72   \u001b[0m |\n",
      "| \u001b[0m 39      \u001b[0m | \u001b[0m 0.586   \u001b[0m | \u001b[0m 90.73   \u001b[0m | \u001b[0m 84.21   \u001b[0m |\n",
      "| \u001b[95m 40      \u001b[0m | \u001b[95m 0.5985  \u001b[0m | \u001b[95m 43.97   \u001b[0m | \u001b[95m 31.6    \u001b[0m |\n",
      "| \u001b[0m 41      \u001b[0m | \u001b[0m 0.5835  \u001b[0m | \u001b[0m 43.48   \u001b[0m | \u001b[0m 28.11   \u001b[0m |\n",
      "| \u001b[0m 42      \u001b[0m | \u001b[0m 0.5686  \u001b[0m | \u001b[0m 99.77   \u001b[0m | \u001b[0m 72.12   \u001b[0m |\n",
      "| \u001b[0m 43      \u001b[0m | \u001b[0m 0.5786  \u001b[0m | \u001b[0m 43.48   \u001b[0m | \u001b[0m 33.63   \u001b[0m |\n",
      "| \u001b[0m 44      \u001b[0m | \u001b[0m 0.5786  \u001b[0m | \u001b[0m 45.38   \u001b[0m | \u001b[0m 31.29   \u001b[0m |\n",
      "| \u001b[0m 45      \u001b[0m | \u001b[0m 0.5561  \u001b[0m | \u001b[0m 42.58   \u001b[0m | \u001b[0m 30.53   \u001b[0m |\n",
      "| \u001b[0m 46      \u001b[0m | \u001b[0m 0.5736  \u001b[0m | \u001b[0m 47.88   \u001b[0m | \u001b[0m 34.82   \u001b[0m |\n",
      "| \u001b[0m 47      \u001b[0m | \u001b[0m 0.5885  \u001b[0m | \u001b[0m 44.35   \u001b[0m | \u001b[0m 32.38   \u001b[0m |\n",
      "| \u001b[0m 48      \u001b[0m | \u001b[0m 0.5761  \u001b[0m | \u001b[0m 46.78   \u001b[0m | \u001b[0m 33.47   \u001b[0m |\n",
      "| \u001b[0m 49      \u001b[0m | \u001b[0m 0.591   \u001b[0m | \u001b[0m 45.24   \u001b[0m | \u001b[0m 34.18   \u001b[0m |\n",
      "| \u001b[0m 50      \u001b[0m | \u001b[0m 0.5835  \u001b[0m | \u001b[0m 91.36   \u001b[0m | \u001b[0m 85.59   \u001b[0m |\n",
      "=================================================\n",
      "Found x: 43.966635178925394, f: 0.5561097256857855\n",
      "Found y: 31.598335475671462, f: 0.5935162094763092\n",
      "Max value found is: 0.5411471321695761\n"
     ]
    }
   ],
   "source": [
    "def func(x,y):\n",
    "    rfr = RandomForestClassifier(max_depth = int(np.round(x)), n_estimators = int(np.round(y)), max_features = 4)\n",
    "    rfr = rfr.fit(x_train, y_train.flatten())\n",
    "    yhat = rfr.predict(x_test)\n",
    "    MSE = mean_squared_error(y_test, yhat)\n",
    "    acc = accuracy_score(y_test, yhat)\n",
    "    return  acc\n",
    "\n",
    "from bayes_opt import BayesianOptimization\n",
    "\n",
    "xmin = 1\n",
    "xmax = 100\n",
    "ymin = 1\n",
    "ymax = 100\n",
    "\n",
    "pbounds = {'x': (xmin, xmax), 'y': (ymin, ymax)}\n",
    "\n",
    "optimizer = BayesianOptimization(f=func, pbounds=pbounds, verbose=4)\n",
    "\n",
    "optimizer.maximize(init_points = 20, n_iter = 30)\n",
    "    \n",
    "best_params = optimizer.max[\"params\"]\n",
    "    \n",
    "found_x = best_params['x']\n",
    "found_y = best_params['y']\n",
    "\n",
    "max_value = func(found_x, found_y)\n",
    "    \n",
    "print(\"Found x: {}, f: {}\".format(found_x, (func(found_x, found_y))))\n",
    "print(\"Found y: {}, f: {}\".format(found_y, (func(found_x, found_y))))\n",
    "print(\"Max value found is: {}\".format(max_value))"
   ]
  },
  {
   "cell_type": "code",
   "execution_count": 127,
   "metadata": {},
   "outputs": [],
   "source": [
    "rfr = RandomForestClassifier(max_depth = int(np.round(found_x)), n_estimators = int(np.round(found_y)), max_features = 4)\n",
    "rfr = rfr.fit(x_train, y_train.flatten())\n",
    "yhat = rfr.predict(x_test)\n",
    "MSE = mean_squared_error(y_test, yhat)\n",
    "acc = accuracy_score(y_test, yhat)"
   ]
  },
  {
   "cell_type": "code",
   "execution_count": 128,
   "metadata": {},
   "outputs": [
    {
     "data": {
      "text/plain": [
       "1.2468827930174564"
      ]
     },
     "execution_count": 128,
     "metadata": {},
     "output_type": "execute_result"
    }
   ],
   "source": [
    "MSE"
   ]
  },
  {
   "cell_type": "code",
   "execution_count": 129,
   "metadata": {},
   "outputs": [
    {
     "data": {
      "text/plain": [
       "0.57356608478803"
      ]
     },
     "execution_count": 129,
     "metadata": {},
     "output_type": "execute_result"
    }
   ],
   "source": [
    "acc"
   ]
  },
  {
   "cell_type": "markdown",
   "metadata": {},
   "source": [
    "## Using a Gradient Boosting Classifier "
   ]
  },
  {
   "cell_type": "code",
   "execution_count": 340,
   "metadata": {},
   "outputs": [
    {
     "name": "stdout",
     "output_type": "stream",
     "text": [
      "|   iter    |  target   |     x     |     y     |\n",
      "-------------------------------------------------\n",
      "| \u001b[0m 1       \u001b[0m | \u001b[0m 0.5461  \u001b[0m | \u001b[0m 43.54   \u001b[0m | \u001b[0m 38.76   \u001b[0m |\n",
      "| \u001b[95m 2       \u001b[0m | \u001b[95m 0.6135  \u001b[0m | \u001b[95m 36.1    \u001b[0m | \u001b[95m 7.907   \u001b[0m |\n",
      "| \u001b[0m 3       \u001b[0m | \u001b[0m 0.6035  \u001b[0m | \u001b[0m 27.7    \u001b[0m | \u001b[0m 14.3    \u001b[0m |\n",
      "| \u001b[0m 4       \u001b[0m | \u001b[0m 0.5411  \u001b[0m | \u001b[0m 2.98    \u001b[0m | \u001b[0m 19.92   \u001b[0m |\n",
      "| \u001b[0m 5       \u001b[0m | \u001b[0m 0.5586  \u001b[0m | \u001b[0m 11.01   \u001b[0m | \u001b[0m 18.39   \u001b[0m |\n",
      "| \u001b[0m 6       \u001b[0m | \u001b[0m 0.5486  \u001b[0m | \u001b[0m 17.5    \u001b[0m | \u001b[0m 28.94   \u001b[0m |\n",
      "| \u001b[0m 7       \u001b[0m | \u001b[0m 0.5436  \u001b[0m | \u001b[0m 30.86   \u001b[0m | \u001b[0m 40.26   \u001b[0m |\n",
      "| \u001b[0m 8       \u001b[0m | \u001b[0m 0.5461  \u001b[0m | \u001b[0m 25.1    \u001b[0m | \u001b[0m 28.37   \u001b[0m |\n",
      "| \u001b[0m 9       \u001b[0m | \u001b[0m 0.5711  \u001b[0m | \u001b[0m 36.97   \u001b[0m | \u001b[0m 16.41   \u001b[0m |\n",
      "| \u001b[0m 10      \u001b[0m | \u001b[0m 0.5411  \u001b[0m | \u001b[0m 22.97   \u001b[0m | \u001b[0m 20.89   \u001b[0m |\n",
      "| \u001b[0m 11      \u001b[0m | \u001b[0m 0.5935  \u001b[0m | \u001b[0m 15.54   \u001b[0m | \u001b[0m 12.23   \u001b[0m |\n",
      "| \u001b[0m 12      \u001b[0m | \u001b[0m 0.5461  \u001b[0m | \u001b[0m 36.57   \u001b[0m | \u001b[0m 29.02   \u001b[0m |\n",
      "| \u001b[0m 13      \u001b[0m | \u001b[0m 0.5461  \u001b[0m | \u001b[0m 37.7    \u001b[0m | \u001b[0m 39.65   \u001b[0m |\n",
      "| \u001b[0m 14      \u001b[0m | \u001b[0m 0.5436  \u001b[0m | \u001b[0m 12.36   \u001b[0m | \u001b[0m 45.51   \u001b[0m |\n",
      "| \u001b[0m 15      \u001b[0m | \u001b[0m 0.5461  \u001b[0m | \u001b[0m 24.86   \u001b[0m | \u001b[0m 32.98   \u001b[0m |\n",
      "| \u001b[0m 16      \u001b[0m | \u001b[0m 0.5786  \u001b[0m | \u001b[0m 10.84   \u001b[0m | \u001b[0m 8.138   \u001b[0m |\n",
      "| \u001b[0m 17      \u001b[0m | \u001b[0m 0.5362  \u001b[0m | \u001b[0m 1.773   \u001b[0m | \u001b[0m 27.95   \u001b[0m |\n",
      "| \u001b[0m 18      \u001b[0m | \u001b[0m 0.601   \u001b[0m | \u001b[0m 28.59   \u001b[0m | \u001b[0m 8.707   \u001b[0m |\n",
      "| \u001b[0m 19      \u001b[0m | \u001b[0m 0.6085  \u001b[0m | \u001b[0m 45.89   \u001b[0m | \u001b[0m 13.92   \u001b[0m |\n",
      "| \u001b[95m 20      \u001b[0m | \u001b[95m 0.6185  \u001b[0m | \u001b[95m 5.453   \u001b[0m | \u001b[95m 3.903   \u001b[0m |\n",
      "| \u001b[95m 21      \u001b[0m | \u001b[95m 0.6284  \u001b[0m | \u001b[95m 44.46   \u001b[0m | \u001b[95m 5.567   \u001b[0m |\n",
      "| \u001b[0m 22      \u001b[0m | \u001b[0m 0.5237  \u001b[0m | \u001b[0m 1.0     \u001b[0m | \u001b[0m 1.0     \u001b[0m |\n",
      "| \u001b[0m 23      \u001b[0m | \u001b[0m 0.6135  \u001b[0m | \u001b[0m 42.13   \u001b[0m | \u001b[0m 9.403   \u001b[0m |\n",
      "| \u001b[0m 24      \u001b[0m | \u001b[0m 0.6209  \u001b[0m | \u001b[0m 40.17   \u001b[0m | \u001b[0m 2.959   \u001b[0m |\n",
      "| \u001b[95m 25      \u001b[0m | \u001b[95m 0.6309  \u001b[0m | \u001b[95m 49.63   \u001b[0m | \u001b[95m 8.509   \u001b[0m |\n",
      "| \u001b[0m 26      \u001b[0m | \u001b[0m 0.6135  \u001b[0m | \u001b[0m 49.42   \u001b[0m | \u001b[0m 1.145   \u001b[0m |\n",
      "| \u001b[0m 27      \u001b[0m | \u001b[0m 0.5711  \u001b[0m | \u001b[0m 9.995   \u001b[0m | \u001b[0m 1.0     \u001b[0m |\n",
      "| \u001b[0m 28      \u001b[0m | \u001b[0m 0.611   \u001b[0m | \u001b[0m 33.25   \u001b[0m | \u001b[0m 1.0     \u001b[0m |\n",
      "| \u001b[0m 29      \u001b[0m | \u001b[0m 0.5536  \u001b[0m | \u001b[0m 3.577   \u001b[0m | \u001b[0m 9.104   \u001b[0m |\n",
      "| \u001b[0m 30      \u001b[0m | \u001b[0m 0.6185  \u001b[0m | \u001b[0m 44.04   \u001b[0m | \u001b[0m 1.162   \u001b[0m |\n",
      "| \u001b[0m 31      \u001b[0m | \u001b[0m 0.5436  \u001b[0m | \u001b[0m 50.0    \u001b[0m | \u001b[0m 20.06   \u001b[0m |\n",
      "| \u001b[0m 32      \u001b[0m | \u001b[0m 0.606   \u001b[0m | \u001b[0m 24.89   \u001b[0m | \u001b[0m 1.071   \u001b[0m |\n",
      "| \u001b[0m 33      \u001b[0m | \u001b[0m 0.5985  \u001b[0m | \u001b[0m 21.47   \u001b[0m | \u001b[0m 8.093   \u001b[0m |\n",
      "| \u001b[0m 34      \u001b[0m | \u001b[0m 0.6234  \u001b[0m | \u001b[0m 48.59   \u001b[0m | \u001b[0m 5.062   \u001b[0m |\n",
      "| \u001b[0m 35      \u001b[0m | \u001b[0m 0.5411  \u001b[0m | \u001b[0m 50.0    \u001b[0m | \u001b[0m 50.0    \u001b[0m |\n",
      "| \u001b[0m 36      \u001b[0m | \u001b[0m 0.616   \u001b[0m | \u001b[0m 46.6    \u001b[0m | \u001b[0m 9.29    \u001b[0m |\n",
      "| \u001b[0m 37      \u001b[0m | \u001b[0m 0.5262  \u001b[0m | \u001b[0m 1.0     \u001b[0m | \u001b[0m 50.0    \u001b[0m |\n",
      "| \u001b[0m 38      \u001b[0m | \u001b[0m 0.5436  \u001b[0m | \u001b[0m 24.99   \u001b[0m | \u001b[0m 50.0    \u001b[0m |\n",
      "| \u001b[0m 39      \u001b[0m | \u001b[0m 0.606   \u001b[0m | \u001b[0m 49.91   \u001b[0m | \u001b[0m 12.26   \u001b[0m |\n",
      "| \u001b[95m 40      \u001b[0m | \u001b[95m 0.6359  \u001b[0m | \u001b[95m 29.83   \u001b[0m | \u001b[95m 3.174   \u001b[0m |\n",
      "| \u001b[95m 41      \u001b[0m | \u001b[95m 0.6459  \u001b[0m | \u001b[95m 32.35   \u001b[0m | \u001b[95m 4.809   \u001b[0m |\n",
      "| \u001b[0m 42      \u001b[0m | \u001b[0m 0.6384  \u001b[0m | \u001b[0m 34.81   \u001b[0m | \u001b[0m 4.65    \u001b[0m |\n",
      "| \u001b[0m 43      \u001b[0m | \u001b[0m 0.5461  \u001b[0m | \u001b[0m 37.0    \u001b[0m | \u001b[0m 49.78   \u001b[0m |\n",
      "| \u001b[0m 44      \u001b[0m | \u001b[0m 0.601   \u001b[0m | \u001b[0m 32.67   \u001b[0m | \u001b[0m 6.54    \u001b[0m |\n",
      "| \u001b[0m 45      \u001b[0m | \u001b[0m 0.6384  \u001b[0m | \u001b[0m 39.37   \u001b[0m | \u001b[0m 6.305   \u001b[0m |\n",
      "| \u001b[0m 46      \u001b[0m | \u001b[0m 0.5736  \u001b[0m | \u001b[0m 18.94   \u001b[0m | \u001b[0m 1.0     \u001b[0m |\n",
      "| \u001b[0m 47      \u001b[0m | \u001b[0m 0.6334  \u001b[0m | \u001b[0m 25.99   \u001b[0m | \u001b[0m 5.279   \u001b[0m |\n",
      "| \u001b[0m 48      \u001b[0m | \u001b[0m 0.5461  \u001b[0m | \u001b[0m 50.0    \u001b[0m | \u001b[0m 31.45   \u001b[0m |\n",
      "| \u001b[0m 49      \u001b[0m | \u001b[0m 0.5212  \u001b[0m | \u001b[0m 1.0     \u001b[0m | \u001b[0m 38.43   \u001b[0m |\n",
      "| \u001b[0m 50      \u001b[0m | \u001b[0m 0.5835  \u001b[0m | \u001b[0m 22.59   \u001b[0m | \u001b[0m 13.42   \u001b[0m |\n",
      "=================================================\n",
      "Found x: 32.3499628455739, f: 0.6408977556109726\n",
      "Found y: 4.80912996056861, f: 0.6234413965087282\n",
      "Max value found is: 0.6359102244389028\n"
     ]
    }
   ],
   "source": [
    "def func(x,y):\n",
    "    gbr = GradientBoostingClassifier(n_estimators = int(np.round(x)), max_depth = int(np.round(y)), learning_rate = 0.1)\n",
    "    gbr = gbr.fit(x_train, y_train.flatten())\n",
    "    yhat = gbr.predict(x_test)\n",
    "    MSE = mean_squared_error(y_test, yhat)\n",
    "    acc = accuracy_score(y_test, yhat)\n",
    "    \n",
    "    return  acc\n",
    "\n",
    "from bayes_opt import BayesianOptimization\n",
    "\n",
    "xmin = 1\n",
    "xmax = 50\n",
    "ymin = 1\n",
    "ymax = 50\n",
    "\n",
    "pbounds = {'x': (xmin, xmax), 'y': (ymin, ymax)}\n",
    "\n",
    "optimizer = BayesianOptimization(f=func, pbounds=pbounds, verbose=3)\n",
    "\n",
    "optimizer.maximize(init_points = 20, n_iter = 30)\n",
    "    \n",
    "best_params = optimizer.max[\"params\"]\n",
    "    \n",
    "found_x = best_params['x']\n",
    "found_y = best_params['y']\n",
    "\n",
    "max_value = func(found_x, found_y)\n",
    "    \n",
    "print(\"Found x: {}, f: {}\".format(found_x, (func(found_x, found_y))))\n",
    "print(\"Found y: {}, f: {}\".format(found_y, (func(found_x, found_y))))\n",
    "print(\"Max value found is: {}\".format(max_value))"
   ]
  },
  {
   "cell_type": "code",
   "execution_count": 341,
   "metadata": {},
   "outputs": [],
   "source": [
    "gbr = GradientBoostingClassifier(n_estimators = int(np.round(found_x)), max_depth = int(np.round(found_y)), learning_rate = 0.1)\n",
    "gbr = gbr.fit(x_train, y_train.flatten())\n",
    "yhat = gbr.predict(x_test)\n",
    "MSE = mean_squared_error(y_test, yhat)\n",
    "acc = accuracy_score(y_test, yhat)"
   ]
  },
  {
   "cell_type": "code",
   "execution_count": 342,
   "metadata": {},
   "outputs": [
    {
     "data": {
      "text/plain": [
       "1.3216957605985038"
      ]
     },
     "execution_count": 342,
     "metadata": {},
     "output_type": "execute_result"
    }
   ],
   "source": [
    "MSE"
   ]
  },
  {
   "cell_type": "code",
   "execution_count": 343,
   "metadata": {},
   "outputs": [
    {
     "data": {
      "text/plain": [
       "0.6408977556109726"
      ]
     },
     "execution_count": 343,
     "metadata": {},
     "output_type": "execute_result"
    }
   ],
   "source": [
    "acc"
   ]
  },
  {
   "cell_type": "code",
   "execution_count": 1,
   "metadata": {},
   "outputs": [],
   "source": [
    "from Ensemble_methods import Decision_Tree_Classifier "
   ]
  },
  {
   "cell_type": "code",
   "execution_count": 82,
   "metadata": {},
   "outputs": [
    {
     "name": "stdout",
     "output_type": "stream",
     "text": [
      "Bayes\n"
     ]
    },
    {
     "data": {
      "text/plain": [
       "0.6608478802992519"
      ]
     },
     "execution_count": 82,
     "metadata": {},
     "output_type": "execute_result"
    }
   ],
   "source": [
    "Decision_Tree_Classifier(0.8,1,1,0.5)"
   ]
  },
  {
   "cell_type": "markdown",
   "metadata": {},
   "source": [
    "## Visualizing the Data"
   ]
  },
  {
   "cell_type": "markdown",
   "metadata": {},
   "source": [
    "This code will run the predictions from the Ensemble method to generate predictions based on the number of trials, accuracy, and time of iteration"
   ]
  },
  {
   "cell_type": "code",
   "execution_count": 284,
   "metadata": {},
   "outputs": [],
   "source": [
    "def generate_data(b):\n",
    "    n = 11 #Number of points per dimension. Number of trials = n^3\n",
    "    prediction_list = []\n",
    "    prediction_parameters = []\n",
    "    for k in range(n):\n",
    "        for j in range(n):\n",
    "            for i in range(n):\n",
    "                a = k/(n-1)\n",
    "                c = j/(n-1)\n",
    "                d = i/(n-1)\n",
    "                predict_array = np.array([a,b,c,d]).reshape(1,-1)\n",
    "                prediction = clf.predict(predict_array)\n",
    "                prediction_parameters.append([a,c,d])\n",
    "                prediction_list.append(prediction)\n",
    "\n",
    "    p_class = np.asarray(prediction_list)\n",
    "    p_parameters = np.asarray(prediction_parameters)\n",
    "    data = np.hstack((p_parameters, p_class))\n",
    "    return data "
   ]
  },
  {
   "cell_type": "code",
   "execution_count": 329,
   "metadata": {},
   "outputs": [],
   "source": [
    "def plot_data(data, view_angle_h, view_angle_v):\n",
    "    cols = ['Trials', 'Accuracy', 'Time', 'Class']\n",
    "    df = pd.DataFrame(data, columns = cols)\n",
    "    \n",
    "    class_0_data = np.asarray(df[df['Class'] == 0.])\n",
    "    class_1_data = np.asarray(df[df['Class'] == 1.])\n",
    "    class_2_data = np.asarray(df[df['Class'] == 2.])\n",
    "    class_3_data = np.asarray(df[df['Class'] == 3.])\n",
    "    class_4_data = np.asarray(df[df['Class'] == 4.])\n",
    "    \n",
    "    plt.close()\n",
    "    fig = plt.subplots(figsize=(15,10))\n",
    "    ax = plt.axes(projection='3d')\n",
    "    \n",
    "    xline_0 = class_0_data[:,0]\n",
    "    yline_0 = class_0_data[:,1]\n",
    "    zline_0 = class_0_data[:,2]\n",
    "    ax.scatter3D(xline_0, yline_0, zline_0, color = 'b', marker='o', s=300, alpha = 0.25, label = 'CmaEs')\n",
    "\n",
    "    xline_1 = class_1_data[:,0]\n",
    "    yline_1 = class_1_data[:,1]\n",
    "    zline_1 = class_1_data[:,2]\n",
    "    ax.scatter3D(xline_1, yline_1, zline_1, color = 'm', marker='o', s=300, alpha = 0.25, label = 'Random')\n",
    "\n",
    "    xline_2 = class_2_data[:,0]\n",
    "    yline_2 = class_2_data[:,1]\n",
    "    zline_2 = class_2_data[:,2]\n",
    "    ax.scatter3D(xline_2, yline_2, zline_2, color = 'g', marker='o', s =300, alpha = 0.25, label = 'TPE')\n",
    "\n",
    "    xline_3 = class_3_data[:,0]\n",
    "    yline_3 = class_3_data[:,1]\n",
    "    zline_3 = class_3_data[:,2]\n",
    "    ax.scatter3D(xline_3, yline_3, zline_3, color = 'r', marker='o', s=300, alpha = 0.25, label = 'Bayes')\n",
    "\n",
    "    xline_4 = class_4_data[:,0]\n",
    "    yline_4 = class_4_data[:,1]\n",
    "    zline_4 = class_4_data[:,2]\n",
    "    ax.scatter3D(xline_4, yline_4, zline_4, color = 'y', marker='o', s=300, alpha = 0.25, label = 'L-BFGS-B')\n",
    "    plt.legend(loc = 'upper right')\n",
    "    ax.set_xlabel('Number of Trials')\n",
    "    ax.set_ylabel('Accuracy')\n",
    "    ax.set_zlabel('Time per Iteration')\n",
    "    ax.view_init(elev= view_angle_v, azim=view_angle_h)\n",
    "    plt.show()"
   ]
  },
  {
   "cell_type": "code",
   "execution_count": 323,
   "metadata": {},
   "outputs": [],
   "source": [
    "data_0 = generate_data(0)\n",
    "data_1 = generate_data(1)"
   ]
  },
  {
   "cell_type": "code",
   "execution_count": 330,
   "metadata": {},
   "outputs": [
    {
     "data": {
      "application/vnd.jupyter.widget-view+json": {
       "model_id": "e3c27e02b38b46fe815c6e8dfe2b2aa6",
       "version_major": 2,
       "version_minor": 0
      },
      "text/plain": [
       "interactive(children=(IntSlider(value=40, description='Rotate_View_h', max=360, min=40, step=20), IntSlider(va…"
      ]
     },
     "metadata": {},
     "output_type": "display_data"
    },
    {
     "data": {
      "text/plain": [
       "<function __main__.update(Rotate_View_h=0, Rotate_View_v=0, N_of_Params=0)>"
      ]
     },
     "execution_count": 330,
     "metadata": {},
     "output_type": "execute_result"
    }
   ],
   "source": [
    "%matplotlib inline \n",
    "def update(Rotate_View_h=0, Rotate_View_v=0, N_of_Params=0):\n",
    "    if N_of_Params == 0:\n",
    "        plot_data(data_0, Rotate_View_h, Rotate_View_v)\n",
    "    else:\n",
    "        plot_data(data_1, Rotate_View_h, Rotate_View_v)\n",
    "interact(update, Rotate_View_h = (40,360,20), Rotate_View_v = (10,360,20), N_of_Params = (0,1,1))"
   ]
  },
  {
   "cell_type": "code",
   "execution_count": 333,
   "metadata": {},
   "outputs": [
    {
     "data": {
      "text/plain": [
       "array([2., 1., 1., ..., 4., 4., 4.])"
      ]
     },
     "execution_count": 333,
     "metadata": {},
     "output_type": "execute_result"
    }
   ],
   "source": []
  },
  {
   "cell_type": "code",
   "execution_count": null,
   "metadata": {},
   "outputs": [],
   "source": []
  }
 ],
 "metadata": {
  "kernelspec": {
   "display_name": "Python 3",
   "language": "python",
   "name": "python3"
  },
  "language_info": {
   "codemirror_mode": {
    "name": "ipython",
    "version": 3
   },
   "file_extension": ".py",
   "mimetype": "text/x-python",
   "name": "python",
   "nbconvert_exporter": "python",
   "pygments_lexer": "ipython3",
   "version": "3.8.5"
  }
 },
 "nbformat": 4,
 "nbformat_minor": 4
}
