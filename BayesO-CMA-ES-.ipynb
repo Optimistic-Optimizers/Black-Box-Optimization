{
 "cells": [
  {
   "cell_type": "markdown",
   "metadata": {},
   "source": [
    "@misc{KimJ2017bayeso, author={Kim, Jungtaek and Choi, Seungjin}, title={{BayesO}: A {Bayesian} optimization framework in {Python}}, howpublished={\\url{http://bayeso.org}}, year={2017} }"
   ]
  },
  {
   "cell_type": "markdown",
   "metadata": {},
   "source": [
    "import numpy as np\n",
    "from bayeso import bo\n",
    "import pandas as pd"
   ]
  },
  {
   "cell_type": "code",
   "execution_count": 2,
   "metadata": {},
   "outputs": [],
   "source": [
    "from bayeso.wrappers import wrappers_bo\n",
    "from bayeso.utils import utils_plotting\n",
    "import matplotlib.pyplot as plt\n",
    "from bayeso.utils import utils_bo\n",
    "import time"
   ]
  },
  {
   "cell_type": "code",
   "execution_count": 3,
   "metadata": {},
   "outputs": [],
   "source": [
    "xmin = -100\n",
    "xmax = 100\n",
    "ymin = -100\n",
    "ymax = 100"
   ]
  },
  {
   "cell_type": "code",
   "execution_count": 4,
   "metadata": {},
   "outputs": [],
   "source": [
    "def func(x):\n",
    "    orig = np.sin(x[0] ** 2) + (3 * x[1])\n",
    "    trig = (np.sin(x[0] * x[1]) - np.cos(5 * x[0]) + np.tan(x[0] + x[1]))\n",
    "    power = x[0] ** 3 - x[1] ** 2 + x[0] ** 2 - x[1] + 4\n",
    "    linear = x[0] - x[1]\n",
    "    return trig"
   ]
  },
  {
   "cell_type": "code",
   "execution_count": 5,
   "metadata": {},
   "outputs": [],
   "source": [
    "bounds = np.array([[-100, 100],[-100,100]])"
   ]
  },
  {
   "cell_type": "code",
   "execution_count": 6,
   "metadata": {},
   "outputs": [
    {
     "name": "stderr",
     "output_type": "stream",
     "text": [
      "[INFO-wrappers_bo-03/08/2021-14:35:03] range_X:\n",
      "[[-100, 100],\n",
      "[-100, 100]]\n",
      "[INFO-wrappers_bo-03/08/2021-14:35:03] str_cov: matern52\n",
      "[INFO-wrappers_bo-03/08/2021-14:35:03] str_acq: ei\n",
      "[INFO-wrappers_bo-03/08/2021-14:35:03] str_optimizer_method_gp: BFGS\n",
      "[INFO-wrappers_bo-03/08/2021-14:35:03] str_optimizer_method_bo: L-BFGS-B\n",
      "[INFO-wrappers_bo-03/08/2021-14:35:03] str_modelselection_method: ml\n",
      "[INFO-wrappers_bo-03/08/2021-14:35:03] num_init: 10\n",
      "[INFO-wrappers_bo-03/08/2021-14:35:03] num_iter: 10\n",
      "[INFO-wrappers_bo-03/08/2021-14:35:03] str_initial_method_bo: uniform\n",
      "[INFO-wrappers_bo-03/08/2021-14:35:03] str_sampling_method_ao: uniform\n",
      "[INFO-wrappers_bo-03/08/2021-14:35:03] num_samples_ao: 100\n",
      "[INFO-wrappers_bo-03/08/2021-14:35:03] str_mlm_method: regular\n",
      "[INFO-wrappers_bo-03/08/2021-14:35:03] seed: None\n",
      "[INFO-wrappers_bo-03/08/2021-14:35:03] Iteration 1\n"
     ]
    },
    {
     "name": "stdout",
     "output_type": "stream",
     "text": [
      "BO Round 1\n"
     ]
    },
    {
     "name": "stderr",
     "output_type": "stream",
     "text": [
      "[INFO-wrappers_bo-03/08/2021-14:35:03] Iteration 2\n",
      "[INFO-wrappers_bo-03/08/2021-14:35:04] Iteration 3\n",
      "[INFO-wrappers_bo-03/08/2021-14:35:04] Iteration 4\n",
      "[INFO-wrappers_bo-03/08/2021-14:35:04] Iteration 5\n",
      "[INFO-wrappers_bo-03/08/2021-14:35:04] Iteration 6\n",
      "[INFO-wrappers_bo-03/08/2021-14:35:05] Iteration 7\n",
      "[INFO-wrappers_bo-03/08/2021-14:35:05] Iteration 8\n",
      "[INFO-wrappers_bo-03/08/2021-14:35:05] Iteration 9\n",
      "[INFO-wrappers_bo-03/08/2021-14:35:06] Iteration 10\n",
      "[INFO-wrappers_bo-03/08/2021-14:35:06] range_X:\n",
      "[[-100, 100],\n",
      "[-100, 100]]\n",
      "[INFO-wrappers_bo-03/08/2021-14:35:06] str_cov: matern52\n",
      "[INFO-wrappers_bo-03/08/2021-14:35:06] str_acq: ei\n",
      "[INFO-wrappers_bo-03/08/2021-14:35:06] str_optimizer_method_gp: BFGS\n",
      "[INFO-wrappers_bo-03/08/2021-14:35:06] str_optimizer_method_bo: L-BFGS-B\n",
      "[INFO-wrappers_bo-03/08/2021-14:35:06] str_modelselection_method: ml\n",
      "[INFO-wrappers_bo-03/08/2021-14:35:06] num_init: 10\n",
      "[INFO-wrappers_bo-03/08/2021-14:35:06] num_iter: 10\n",
      "[INFO-wrappers_bo-03/08/2021-14:35:06] str_initial_method_bo: uniform\n",
      "[INFO-wrappers_bo-03/08/2021-14:35:06] str_sampling_method_ao: uniform\n",
      "[INFO-wrappers_bo-03/08/2021-14:35:06] num_samples_ao: 100\n",
      "[INFO-wrappers_bo-03/08/2021-14:35:06] str_mlm_method: regular\n",
      "[INFO-wrappers_bo-03/08/2021-14:35:06] seed: None\n",
      "[INFO-wrappers_bo-03/08/2021-14:35:06] Iteration 1\n"
     ]
    },
    {
     "name": "stdout",
     "output_type": "stream",
     "text": [
      "BO Round 2\n"
     ]
    },
    {
     "name": "stderr",
     "output_type": "stream",
     "text": [
      "[INFO-wrappers_bo-03/08/2021-14:35:06] Iteration 2\n",
      "[INFO-wrappers_bo-03/08/2021-14:35:06] Iteration 3\n",
      "[INFO-wrappers_bo-03/08/2021-14:35:07] Iteration 4\n",
      "[INFO-wrappers_bo-03/08/2021-14:35:07] Iteration 5\n",
      "[INFO-wrappers_bo-03/08/2021-14:35:07] Iteration 6\n",
      "[INFO-wrappers_bo-03/08/2021-14:35:08] Iteration 7\n",
      "[INFO-wrappers_bo-03/08/2021-14:35:08] Iteration 8\n",
      "[INFO-wrappers_bo-03/08/2021-14:35:08] Iteration 9\n",
      "[INFO-wrappers_bo-03/08/2021-14:35:08] Iteration 10\n",
      "[INFO-wrappers_bo-03/08/2021-14:35:09] range_X:\n",
      "[[-100, 100],\n",
      "[-100, 100]]\n",
      "[INFO-wrappers_bo-03/08/2021-14:35:09] str_cov: matern52\n",
      "[INFO-wrappers_bo-03/08/2021-14:35:09] str_acq: ei\n",
      "[INFO-wrappers_bo-03/08/2021-14:35:09] str_optimizer_method_gp: BFGS\n",
      "[INFO-wrappers_bo-03/08/2021-14:35:09] str_optimizer_method_bo: L-BFGS-B\n",
      "[INFO-wrappers_bo-03/08/2021-14:35:09] str_modelselection_method: ml\n",
      "[INFO-wrappers_bo-03/08/2021-14:35:09] num_init: 10\n",
      "[INFO-wrappers_bo-03/08/2021-14:35:09] num_iter: 10\n",
      "[INFO-wrappers_bo-03/08/2021-14:35:09] str_initial_method_bo: uniform\n",
      "[INFO-wrappers_bo-03/08/2021-14:35:09] str_sampling_method_ao: uniform\n",
      "[INFO-wrappers_bo-03/08/2021-14:35:09] num_samples_ao: 100\n",
      "[INFO-wrappers_bo-03/08/2021-14:35:09] str_mlm_method: regular\n",
      "[INFO-wrappers_bo-03/08/2021-14:35:09] seed: None\n",
      "[INFO-wrappers_bo-03/08/2021-14:35:09] Iteration 1\n"
     ]
    },
    {
     "name": "stdout",
     "output_type": "stream",
     "text": [
      "BO Round 3\n"
     ]
    },
    {
     "name": "stderr",
     "output_type": "stream",
     "text": [
      "[INFO-wrappers_bo-03/08/2021-14:35:09] Iteration 2\n",
      "[INFO-wrappers_bo-03/08/2021-14:35:09] Iteration 3\n",
      "[INFO-wrappers_bo-03/08/2021-14:35:10] Iteration 4\n",
      "[INFO-wrappers_bo-03/08/2021-14:35:10] Iteration 5\n",
      "[INFO-wrappers_bo-03/08/2021-14:35:10] Iteration 6\n",
      "[INFO-wrappers_bo-03/08/2021-14:35:10] Iteration 7\n",
      "[INFO-wrappers_bo-03/08/2021-14:35:11] Iteration 8\n",
      "[INFO-wrappers_bo-03/08/2021-14:35:11] Iteration 9\n",
      "[INFO-wrappers_bo-03/08/2021-14:35:11] Iteration 10\n",
      "[INFO-wrappers_bo-03/08/2021-14:35:12] range_X:\n",
      "[[-100, 100],\n",
      "[-100, 100]]\n",
      "[INFO-wrappers_bo-03/08/2021-14:35:12] str_cov: matern52\n",
      "[INFO-wrappers_bo-03/08/2021-14:35:12] str_acq: ei\n",
      "[INFO-wrappers_bo-03/08/2021-14:35:12] str_optimizer_method_gp: BFGS\n",
      "[INFO-wrappers_bo-03/08/2021-14:35:12] str_optimizer_method_bo: L-BFGS-B\n",
      "[INFO-wrappers_bo-03/08/2021-14:35:12] str_modelselection_method: ml\n",
      "[INFO-wrappers_bo-03/08/2021-14:35:12] num_init: 10\n",
      "[INFO-wrappers_bo-03/08/2021-14:35:12] num_iter: 10\n",
      "[INFO-wrappers_bo-03/08/2021-14:35:12] str_initial_method_bo: uniform\n",
      "[INFO-wrappers_bo-03/08/2021-14:35:12] str_sampling_method_ao: uniform\n",
      "[INFO-wrappers_bo-03/08/2021-14:35:12] num_samples_ao: 100\n",
      "[INFO-wrappers_bo-03/08/2021-14:35:12] str_mlm_method: regular\n",
      "[INFO-wrappers_bo-03/08/2021-14:35:12] seed: None\n",
      "[INFO-wrappers_bo-03/08/2021-14:35:12] Iteration 1\n"
     ]
    },
    {
     "name": "stdout",
     "output_type": "stream",
     "text": [
      "BO Round 4\n"
     ]
    },
    {
     "name": "stderr",
     "output_type": "stream",
     "text": [
      "[INFO-wrappers_bo-03/08/2021-14:35:12] Iteration 2\n",
      "[INFO-wrappers_bo-03/08/2021-14:35:12] Iteration 3\n",
      "[INFO-wrappers_bo-03/08/2021-14:35:12] Iteration 4\n",
      "[INFO-wrappers_bo-03/08/2021-14:35:13] Iteration 5\n",
      "[INFO-wrappers_bo-03/08/2021-14:35:13] Iteration 6\n",
      "[INFO-wrappers_bo-03/08/2021-14:35:13] Iteration 7\n",
      "[INFO-wrappers_bo-03/08/2021-14:35:13] Iteration 8\n",
      "[INFO-wrappers_bo-03/08/2021-14:35:14] Iteration 9\n",
      "[INFO-wrappers_bo-03/08/2021-14:35:14] Iteration 10\n",
      "[INFO-wrappers_bo-03/08/2021-14:35:15] range_X:\n",
      "[[-100, 100],\n",
      "[-100, 100]]\n",
      "[INFO-wrappers_bo-03/08/2021-14:35:15] str_cov: matern52\n",
      "[INFO-wrappers_bo-03/08/2021-14:35:15] str_acq: ei\n",
      "[INFO-wrappers_bo-03/08/2021-14:35:15] str_optimizer_method_gp: BFGS\n",
      "[INFO-wrappers_bo-03/08/2021-14:35:15] str_optimizer_method_bo: L-BFGS-B\n",
      "[INFO-wrappers_bo-03/08/2021-14:35:15] str_modelselection_method: ml\n",
      "[INFO-wrappers_bo-03/08/2021-14:35:15] num_init: 10\n",
      "[INFO-wrappers_bo-03/08/2021-14:35:15] num_iter: 10\n",
      "[INFO-wrappers_bo-03/08/2021-14:35:15] str_initial_method_bo: uniform\n",
      "[INFO-wrappers_bo-03/08/2021-14:35:15] str_sampling_method_ao: uniform\n",
      "[INFO-wrappers_bo-03/08/2021-14:35:15] num_samples_ao: 100\n",
      "[INFO-wrappers_bo-03/08/2021-14:35:15] str_mlm_method: regular\n",
      "[INFO-wrappers_bo-03/08/2021-14:35:15] seed: None\n",
      "[INFO-wrappers_bo-03/08/2021-14:35:15] Iteration 1\n"
     ]
    },
    {
     "name": "stdout",
     "output_type": "stream",
     "text": [
      "BO Round 5\n"
     ]
    },
    {
     "name": "stderr",
     "output_type": "stream",
     "text": [
      "[INFO-wrappers_bo-03/08/2021-14:35:15] Iteration 2\n",
      "[INFO-wrappers_bo-03/08/2021-14:35:15] Iteration 3\n",
      "[INFO-wrappers_bo-03/08/2021-14:35:15] Iteration 4\n",
      "[INFO-wrappers_bo-03/08/2021-14:35:16] Iteration 5\n",
      "[INFO-wrappers_bo-03/08/2021-14:35:16] Iteration 6\n",
      "[INFO-wrappers_bo-03/08/2021-14:35:16] Iteration 7\n",
      "[INFO-wrappers_bo-03/08/2021-14:35:16] Iteration 8\n",
      "[INFO-wrappers_bo-03/08/2021-14:35:17] Iteration 9\n",
      "[INFO-wrappers_bo-03/08/2021-14:35:17] Iteration 10\n",
      "[INFO-wrappers_bo-03/08/2021-14:35:17] range_X:\n",
      "[[-100, 100],\n",
      "[-100, 100]]\n",
      "[INFO-wrappers_bo-03/08/2021-14:35:17] str_cov: matern52\n",
      "[INFO-wrappers_bo-03/08/2021-14:35:17] str_acq: ei\n",
      "[INFO-wrappers_bo-03/08/2021-14:35:17] str_optimizer_method_gp: BFGS\n",
      "[INFO-wrappers_bo-03/08/2021-14:35:17] str_optimizer_method_bo: L-BFGS-B\n",
      "[INFO-wrappers_bo-03/08/2021-14:35:17] str_modelselection_method: ml\n",
      "[INFO-wrappers_bo-03/08/2021-14:35:17] num_init: 10\n",
      "[INFO-wrappers_bo-03/08/2021-14:35:17] num_iter: 10\n",
      "[INFO-wrappers_bo-03/08/2021-14:35:17] str_initial_method_bo: uniform\n",
      "[INFO-wrappers_bo-03/08/2021-14:35:17] str_sampling_method_ao: uniform\n",
      "[INFO-wrappers_bo-03/08/2021-14:35:17] num_samples_ao: 100\n",
      "[INFO-wrappers_bo-03/08/2021-14:35:17] str_mlm_method: regular\n",
      "[INFO-wrappers_bo-03/08/2021-14:35:17] seed: None\n",
      "[INFO-wrappers_bo-03/08/2021-14:35:17] Iteration 1\n"
     ]
    },
    {
     "name": "stdout",
     "output_type": "stream",
     "text": [
      "BO Round 6\n"
     ]
    },
    {
     "name": "stderr",
     "output_type": "stream",
     "text": [
      "[INFO-wrappers_bo-03/08/2021-14:35:18] Iteration 2\n",
      "[INFO-wrappers_bo-03/08/2021-14:35:18] Iteration 3\n",
      "[INFO-wrappers_bo-03/08/2021-14:35:18] Iteration 4\n",
      "[INFO-wrappers_bo-03/08/2021-14:35:18] Iteration 5\n",
      "[INFO-wrappers_bo-03/08/2021-14:35:19] Iteration 6\n",
      "[INFO-wrappers_bo-03/08/2021-14:35:19] Iteration 7\n",
      "[INFO-wrappers_bo-03/08/2021-14:35:20] Iteration 8\n",
      "[INFO-wrappers_bo-03/08/2021-14:35:20] Iteration 9\n",
      "[INFO-wrappers_bo-03/08/2021-14:35:20] Iteration 10\n",
      "[INFO-wrappers_bo-03/08/2021-14:35:21] range_X:\n",
      "[[-100, 100],\n",
      "[-100, 100]]\n",
      "[INFO-wrappers_bo-03/08/2021-14:35:21] str_cov: matern52\n",
      "[INFO-wrappers_bo-03/08/2021-14:35:21] str_acq: ei\n",
      "[INFO-wrappers_bo-03/08/2021-14:35:21] str_optimizer_method_gp: BFGS\n",
      "[INFO-wrappers_bo-03/08/2021-14:35:21] str_optimizer_method_bo: L-BFGS-B\n",
      "[INFO-wrappers_bo-03/08/2021-14:35:21] str_modelselection_method: ml\n",
      "[INFO-wrappers_bo-03/08/2021-14:35:21] num_init: 10\n",
      "[INFO-wrappers_bo-03/08/2021-14:35:21] num_iter: 10\n",
      "[INFO-wrappers_bo-03/08/2021-14:35:21] str_initial_method_bo: uniform\n",
      "[INFO-wrappers_bo-03/08/2021-14:35:21] str_sampling_method_ao: uniform\n",
      "[INFO-wrappers_bo-03/08/2021-14:35:21] num_samples_ao: 100\n",
      "[INFO-wrappers_bo-03/08/2021-14:35:21] str_mlm_method: regular\n",
      "[INFO-wrappers_bo-03/08/2021-14:35:21] seed: None\n",
      "[INFO-wrappers_bo-03/08/2021-14:35:21] Iteration 1\n"
     ]
    },
    {
     "name": "stdout",
     "output_type": "stream",
     "text": [
      "BO Round 7\n"
     ]
    },
    {
     "name": "stderr",
     "output_type": "stream",
     "text": [
      "[INFO-wrappers_bo-03/08/2021-14:35:21] Iteration 2\n",
      "[INFO-wrappers_bo-03/08/2021-14:35:21] Iteration 3\n",
      "[INFO-wrappers_bo-03/08/2021-14:35:21] Iteration 4\n",
      "[INFO-wrappers_bo-03/08/2021-14:35:22] Iteration 5\n",
      "[INFO-wrappers_bo-03/08/2021-14:35:22] Iteration 6\n",
      "[INFO-wrappers_bo-03/08/2021-14:35:22] Iteration 7\n",
      "[INFO-wrappers_bo-03/08/2021-14:35:22] Iteration 8\n",
      "[INFO-wrappers_bo-03/08/2021-14:35:23] Iteration 9\n",
      "[INFO-wrappers_bo-03/08/2021-14:35:23] Iteration 10\n",
      "[INFO-wrappers_bo-03/08/2021-14:35:23] range_X:\n",
      "[[-100, 100],\n",
      "[-100, 100]]\n",
      "[INFO-wrappers_bo-03/08/2021-14:35:23] str_cov: matern52\n",
      "[INFO-wrappers_bo-03/08/2021-14:35:23] str_acq: ei\n",
      "[INFO-wrappers_bo-03/08/2021-14:35:23] str_optimizer_method_gp: BFGS\n",
      "[INFO-wrappers_bo-03/08/2021-14:35:23] str_optimizer_method_bo: L-BFGS-B\n",
      "[INFO-wrappers_bo-03/08/2021-14:35:23] str_modelselection_method: ml\n",
      "[INFO-wrappers_bo-03/08/2021-14:35:23] num_init: 10\n",
      "[INFO-wrappers_bo-03/08/2021-14:35:23] num_iter: 10\n",
      "[INFO-wrappers_bo-03/08/2021-14:35:23] str_initial_method_bo: uniform\n",
      "[INFO-wrappers_bo-03/08/2021-14:35:23] str_sampling_method_ao: uniform\n",
      "[INFO-wrappers_bo-03/08/2021-14:35:23] num_samples_ao: 100\n",
      "[INFO-wrappers_bo-03/08/2021-14:35:23] str_mlm_method: regular\n",
      "[INFO-wrappers_bo-03/08/2021-14:35:23] seed: None\n",
      "[INFO-wrappers_bo-03/08/2021-14:35:23] Iteration 1\n"
     ]
    },
    {
     "name": "stdout",
     "output_type": "stream",
     "text": [
      "BO Round 8\n"
     ]
    },
    {
     "name": "stderr",
     "output_type": "stream",
     "text": [
      "[INFO-wrappers_bo-03/08/2021-14:35:23] Iteration 2\n",
      "[INFO-wrappers_bo-03/08/2021-14:35:24] Iteration 3\n",
      "[INFO-wrappers_bo-03/08/2021-14:35:24] Iteration 4\n",
      "[INFO-wrappers_bo-03/08/2021-14:35:24] Iteration 5\n",
      "[INFO-wrappers_bo-03/08/2021-14:35:24] Iteration 6\n",
      "[INFO-wrappers_bo-03/08/2021-14:35:25] Iteration 7\n",
      "[INFO-wrappers_bo-03/08/2021-14:35:25] Iteration 8\n",
      "[INFO-wrappers_bo-03/08/2021-14:35:25] Iteration 9\n",
      "[INFO-wrappers_bo-03/08/2021-14:35:26] Iteration 10\n",
      "[INFO-wrappers_bo-03/08/2021-14:35:26] range_X:\n",
      "[[-100, 100],\n",
      "[-100, 100]]\n",
      "[INFO-wrappers_bo-03/08/2021-14:35:26] str_cov: matern52\n",
      "[INFO-wrappers_bo-03/08/2021-14:35:26] str_acq: ei\n",
      "[INFO-wrappers_bo-03/08/2021-14:35:26] str_optimizer_method_gp: BFGS\n",
      "[INFO-wrappers_bo-03/08/2021-14:35:26] str_optimizer_method_bo: L-BFGS-B\n",
      "[INFO-wrappers_bo-03/08/2021-14:35:26] str_modelselection_method: ml\n",
      "[INFO-wrappers_bo-03/08/2021-14:35:26] num_init: 10\n",
      "[INFO-wrappers_bo-03/08/2021-14:35:26] num_iter: 10\n",
      "[INFO-wrappers_bo-03/08/2021-14:35:26] str_initial_method_bo: uniform\n",
      "[INFO-wrappers_bo-03/08/2021-14:35:26] str_sampling_method_ao: uniform\n",
      "[INFO-wrappers_bo-03/08/2021-14:35:26] num_samples_ao: 100\n",
      "[INFO-wrappers_bo-03/08/2021-14:35:26] str_mlm_method: regular\n",
      "[INFO-wrappers_bo-03/08/2021-14:35:26] seed: None\n",
      "[INFO-wrappers_bo-03/08/2021-14:35:26] Iteration 1\n"
     ]
    },
    {
     "name": "stdout",
     "output_type": "stream",
     "text": [
      "BO Round 9\n"
     ]
    },
    {
     "name": "stderr",
     "output_type": "stream",
     "text": [
      "[INFO-wrappers_bo-03/08/2021-14:35:26] Iteration 2\n",
      "[INFO-wrappers_bo-03/08/2021-14:35:26] Iteration 3\n",
      "[INFO-wrappers_bo-03/08/2021-14:35:27] Iteration 4\n",
      "[INFO-wrappers_bo-03/08/2021-14:35:27] Iteration 5\n",
      "[INFO-wrappers_bo-03/08/2021-14:35:27] Iteration 6\n",
      "[INFO-wrappers_bo-03/08/2021-14:35:28] Iteration 7\n",
      "[INFO-wrappers_bo-03/08/2021-14:35:28] Iteration 8\n",
      "[INFO-wrappers_bo-03/08/2021-14:35:28] Iteration 9\n",
      "[INFO-wrappers_bo-03/08/2021-14:35:28] Iteration 10\n",
      "[INFO-wrappers_bo-03/08/2021-14:35:29] range_X:\n",
      "[[-100, 100],\n",
      "[-100, 100]]\n",
      "[INFO-wrappers_bo-03/08/2021-14:35:29] str_cov: matern52\n",
      "[INFO-wrappers_bo-03/08/2021-14:35:29] str_acq: ei\n",
      "[INFO-wrappers_bo-03/08/2021-14:35:29] str_optimizer_method_gp: BFGS\n",
      "[INFO-wrappers_bo-03/08/2021-14:35:29] str_optimizer_method_bo: L-BFGS-B\n",
      "[INFO-wrappers_bo-03/08/2021-14:35:29] str_modelselection_method: ml\n",
      "[INFO-wrappers_bo-03/08/2021-14:35:29] num_init: 10\n",
      "[INFO-wrappers_bo-03/08/2021-14:35:29] num_iter: 10\n",
      "[INFO-wrappers_bo-03/08/2021-14:35:29] str_initial_method_bo: uniform\n",
      "[INFO-wrappers_bo-03/08/2021-14:35:29] str_sampling_method_ao: uniform\n",
      "[INFO-wrappers_bo-03/08/2021-14:35:29] num_samples_ao: 100\n",
      "[INFO-wrappers_bo-03/08/2021-14:35:29] str_mlm_method: regular\n",
      "[INFO-wrappers_bo-03/08/2021-14:35:29] seed: None\n",
      "[INFO-wrappers_bo-03/08/2021-14:35:29] Iteration 1\n"
     ]
    },
    {
     "name": "stdout",
     "output_type": "stream",
     "text": [
      "BO Round 10\n"
     ]
    },
    {
     "name": "stderr",
     "output_type": "stream",
     "text": [
      "[INFO-wrappers_bo-03/08/2021-14:35:29] Iteration 2\n",
      "[INFO-wrappers_bo-03/08/2021-14:35:29] Iteration 3\n",
      "[INFO-wrappers_bo-03/08/2021-14:35:30] Iteration 4\n",
      "[INFO-wrappers_bo-03/08/2021-14:35:30] Iteration 5\n",
      "[INFO-wrappers_bo-03/08/2021-14:35:30] Iteration 6\n",
      "[INFO-wrappers_bo-03/08/2021-14:35:30] Iteration 7\n",
      "[INFO-wrappers_bo-03/08/2021-14:35:31] Iteration 8\n",
      "[INFO-wrappers_bo-03/08/2021-14:35:31] Iteration 9\n",
      "[INFO-wrappers_bo-03/08/2021-14:35:31] Iteration 10\n",
      "[INFO-wrappers_bo-03/08/2021-14:35:32] range_X:\n",
      "[[-100, 100],\n",
      "[-100, 100]]\n",
      "[INFO-wrappers_bo-03/08/2021-14:35:32] str_cov: matern52\n",
      "[INFO-wrappers_bo-03/08/2021-14:35:32] str_acq: ei\n",
      "[INFO-wrappers_bo-03/08/2021-14:35:32] str_optimizer_method_gp: BFGS\n",
      "[INFO-wrappers_bo-03/08/2021-14:35:32] str_optimizer_method_bo: L-BFGS-B\n",
      "[INFO-wrappers_bo-03/08/2021-14:35:32] str_modelselection_method: ml\n",
      "[INFO-wrappers_bo-03/08/2021-14:35:32] num_init: 10\n",
      "[INFO-wrappers_bo-03/08/2021-14:35:32] num_iter: 10\n",
      "[INFO-wrappers_bo-03/08/2021-14:35:32] str_initial_method_bo: uniform\n",
      "[INFO-wrappers_bo-03/08/2021-14:35:32] str_sampling_method_ao: uniform\n",
      "[INFO-wrappers_bo-03/08/2021-14:35:32] num_samples_ao: 100\n",
      "[INFO-wrappers_bo-03/08/2021-14:35:32] str_mlm_method: regular\n",
      "[INFO-wrappers_bo-03/08/2021-14:35:32] seed: None\n",
      "[INFO-wrappers_bo-03/08/2021-14:35:32] Iteration 1\n"
     ]
    },
    {
     "name": "stdout",
     "output_type": "stream",
     "text": [
      "BO Round 11\n"
     ]
    },
    {
     "name": "stderr",
     "output_type": "stream",
     "text": [
      "[INFO-wrappers_bo-03/08/2021-14:35:32] Iteration 2\n",
      "[INFO-wrappers_bo-03/08/2021-14:35:32] Iteration 3\n",
      "[INFO-wrappers_bo-03/08/2021-14:35:33] Iteration 4\n",
      "[INFO-wrappers_bo-03/08/2021-14:35:33] Iteration 5\n",
      "[INFO-wrappers_bo-03/08/2021-14:35:33] Iteration 6\n",
      "[INFO-wrappers_bo-03/08/2021-14:35:34] Iteration 7\n",
      "[INFO-wrappers_bo-03/08/2021-14:35:34] Iteration 8\n",
      "[INFO-wrappers_bo-03/08/2021-14:35:34] Iteration 9\n",
      "[INFO-wrappers_bo-03/08/2021-14:35:34] Iteration 10\n",
      "[INFO-wrappers_bo-03/08/2021-14:35:35] range_X:\n",
      "[[-100, 100],\n",
      "[-100, 100]]\n",
      "[INFO-wrappers_bo-03/08/2021-14:35:35] str_cov: matern52\n",
      "[INFO-wrappers_bo-03/08/2021-14:35:35] str_acq: ei\n",
      "[INFO-wrappers_bo-03/08/2021-14:35:35] str_optimizer_method_gp: BFGS\n",
      "[INFO-wrappers_bo-03/08/2021-14:35:35] str_optimizer_method_bo: L-BFGS-B\n",
      "[INFO-wrappers_bo-03/08/2021-14:35:35] str_modelselection_method: ml\n",
      "[INFO-wrappers_bo-03/08/2021-14:35:35] num_init: 10\n",
      "[INFO-wrappers_bo-03/08/2021-14:35:35] num_iter: 10\n",
      "[INFO-wrappers_bo-03/08/2021-14:35:35] str_initial_method_bo: uniform\n",
      "[INFO-wrappers_bo-03/08/2021-14:35:35] str_sampling_method_ao: uniform\n",
      "[INFO-wrappers_bo-03/08/2021-14:35:35] num_samples_ao: 100\n",
      "[INFO-wrappers_bo-03/08/2021-14:35:35] str_mlm_method: regular\n",
      "[INFO-wrappers_bo-03/08/2021-14:35:35] seed: None\n",
      "[INFO-wrappers_bo-03/08/2021-14:35:35] Iteration 1\n"
     ]
    },
    {
     "name": "stdout",
     "output_type": "stream",
     "text": [
      "BO Round 12\n"
     ]
    },
    {
     "name": "stderr",
     "output_type": "stream",
     "text": [
      "[INFO-wrappers_bo-03/08/2021-14:35:35] Iteration 2\n",
      "[INFO-wrappers_bo-03/08/2021-14:35:35] Iteration 3\n",
      "[INFO-wrappers_bo-03/08/2021-14:35:36] Iteration 4\n",
      "[INFO-wrappers_bo-03/08/2021-14:35:36] Iteration 5\n",
      "[INFO-wrappers_bo-03/08/2021-14:35:36] Iteration 6\n",
      "[INFO-wrappers_bo-03/08/2021-14:35:37] Iteration 7\n",
      "[INFO-wrappers_bo-03/08/2021-14:35:37] Iteration 8\n",
      "[INFO-wrappers_bo-03/08/2021-14:35:37] Iteration 9\n",
      "[INFO-wrappers_bo-03/08/2021-14:35:38] Iteration 10\n",
      "[INFO-wrappers_bo-03/08/2021-14:35:38] range_X:\n",
      "[[-100, 100],\n",
      "[-100, 100]]\n",
      "[INFO-wrappers_bo-03/08/2021-14:35:38] str_cov: matern52\n",
      "[INFO-wrappers_bo-03/08/2021-14:35:38] str_acq: ei\n",
      "[INFO-wrappers_bo-03/08/2021-14:35:38] str_optimizer_method_gp: BFGS\n",
      "[INFO-wrappers_bo-03/08/2021-14:35:38] str_optimizer_method_bo: L-BFGS-B\n",
      "[INFO-wrappers_bo-03/08/2021-14:35:38] str_modelselection_method: ml\n",
      "[INFO-wrappers_bo-03/08/2021-14:35:38] num_init: 10\n",
      "[INFO-wrappers_bo-03/08/2021-14:35:38] num_iter: 10\n",
      "[INFO-wrappers_bo-03/08/2021-14:35:38] str_initial_method_bo: uniform\n",
      "[INFO-wrappers_bo-03/08/2021-14:35:38] str_sampling_method_ao: uniform\n",
      "[INFO-wrappers_bo-03/08/2021-14:35:38] num_samples_ao: 100\n",
      "[INFO-wrappers_bo-03/08/2021-14:35:38] str_mlm_method: regular\n",
      "[INFO-wrappers_bo-03/08/2021-14:35:38] seed: None\n",
      "[INFO-wrappers_bo-03/08/2021-14:35:38] Iteration 1\n"
     ]
    },
    {
     "name": "stdout",
     "output_type": "stream",
     "text": [
      "BO Round 13\n"
     ]
    },
    {
     "name": "stderr",
     "output_type": "stream",
     "text": [
      "[INFO-wrappers_bo-03/08/2021-14:35:38] Iteration 2\n",
      "[INFO-wrappers_bo-03/08/2021-14:35:38] Iteration 3\n",
      "[INFO-wrappers_bo-03/08/2021-14:35:39] Iteration 4\n",
      "[INFO-wrappers_bo-03/08/2021-14:35:39] Iteration 5\n",
      "[INFO-wrappers_bo-03/08/2021-14:35:39] Iteration 6\n",
      "[INFO-wrappers_bo-03/08/2021-14:35:39] Iteration 7\n",
      "[INFO-wrappers_bo-03/08/2021-14:35:40] Iteration 8\n",
      "[INFO-wrappers_bo-03/08/2021-14:35:40] Iteration 9\n",
      "[INFO-wrappers_bo-03/08/2021-14:35:40] Iteration 10\n",
      "[INFO-wrappers_bo-03/08/2021-14:35:40] range_X:\n",
      "[[-100, 100],\n",
      "[-100, 100]]\n",
      "[INFO-wrappers_bo-03/08/2021-14:35:40] str_cov: matern52\n",
      "[INFO-wrappers_bo-03/08/2021-14:35:40] str_acq: ei\n",
      "[INFO-wrappers_bo-03/08/2021-14:35:40] str_optimizer_method_gp: BFGS\n",
      "[INFO-wrappers_bo-03/08/2021-14:35:40] str_optimizer_method_bo: L-BFGS-B\n",
      "[INFO-wrappers_bo-03/08/2021-14:35:40] str_modelselection_method: ml\n",
      "[INFO-wrappers_bo-03/08/2021-14:35:40] num_init: 10\n",
      "[INFO-wrappers_bo-03/08/2021-14:35:40] num_iter: 10\n",
      "[INFO-wrappers_bo-03/08/2021-14:35:40] str_initial_method_bo: uniform\n",
      "[INFO-wrappers_bo-03/08/2021-14:35:40] str_sampling_method_ao: uniform\n",
      "[INFO-wrappers_bo-03/08/2021-14:35:40] num_samples_ao: 100\n",
      "[INFO-wrappers_bo-03/08/2021-14:35:40] str_mlm_method: regular\n",
      "[INFO-wrappers_bo-03/08/2021-14:35:40] seed: None\n",
      "[INFO-wrappers_bo-03/08/2021-14:35:40] Iteration 1\n"
     ]
    },
    {
     "name": "stdout",
     "output_type": "stream",
     "text": [
      "BO Round 14\n"
     ]
    },
    {
     "name": "stderr",
     "output_type": "stream",
     "text": [
      "[INFO-wrappers_bo-03/08/2021-14:35:41] Iteration 2\n",
      "[INFO-wrappers_bo-03/08/2021-14:35:41] Iteration 3\n",
      "[INFO-wrappers_bo-03/08/2021-14:35:41] Iteration 4\n",
      "[INFO-wrappers_bo-03/08/2021-14:35:41] Iteration 5\n",
      "[INFO-wrappers_bo-03/08/2021-14:35:42] Iteration 6\n",
      "[INFO-wrappers_bo-03/08/2021-14:35:42] Iteration 7\n",
      "[INFO-wrappers_bo-03/08/2021-14:35:42] Iteration 8\n",
      "[INFO-wrappers_bo-03/08/2021-14:35:43] Iteration 9\n",
      "[INFO-wrappers_bo-03/08/2021-14:35:43] Iteration 10\n",
      "[INFO-wrappers_bo-03/08/2021-14:35:43] range_X:\n",
      "[[-100, 100],\n",
      "[-100, 100]]\n",
      "[INFO-wrappers_bo-03/08/2021-14:35:43] str_cov: matern52\n",
      "[INFO-wrappers_bo-03/08/2021-14:35:43] str_acq: ei\n",
      "[INFO-wrappers_bo-03/08/2021-14:35:43] str_optimizer_method_gp: BFGS\n",
      "[INFO-wrappers_bo-03/08/2021-14:35:43] str_optimizer_method_bo: L-BFGS-B\n",
      "[INFO-wrappers_bo-03/08/2021-14:35:43] str_modelselection_method: ml\n",
      "[INFO-wrappers_bo-03/08/2021-14:35:43] num_init: 10\n",
      "[INFO-wrappers_bo-03/08/2021-14:35:43] num_iter: 10\n",
      "[INFO-wrappers_bo-03/08/2021-14:35:43] str_initial_method_bo: uniform\n",
      "[INFO-wrappers_bo-03/08/2021-14:35:43] str_sampling_method_ao: uniform\n",
      "[INFO-wrappers_bo-03/08/2021-14:35:43] num_samples_ao: 100\n",
      "[INFO-wrappers_bo-03/08/2021-14:35:43] str_mlm_method: regular\n",
      "[INFO-wrappers_bo-03/08/2021-14:35:43] seed: None\n",
      "[INFO-wrappers_bo-03/08/2021-14:35:43] Iteration 1\n"
     ]
    },
    {
     "name": "stdout",
     "output_type": "stream",
     "text": [
      "BO Round 15\n"
     ]
    },
    {
     "name": "stderr",
     "output_type": "stream",
     "text": [
      "[INFO-wrappers_bo-03/08/2021-14:35:45] Iteration 2\n",
      "[INFO-wrappers_bo-03/08/2021-14:35:47] Iteration 3\n",
      "[INFO-wrappers_bo-03/08/2021-14:35:48] Iteration 4\n",
      "[INFO-wrappers_bo-03/08/2021-14:35:50] Iteration 5\n",
      "[INFO-wrappers_bo-03/08/2021-14:35:52] Iteration 6\n",
      "[INFO-wrappers_bo-03/08/2021-14:35:54] Iteration 7\n",
      "[INFO-wrappers_bo-03/08/2021-14:35:56] Iteration 8\n",
      "[INFO-wrappers_bo-03/08/2021-14:35:58] Iteration 9\n",
      "[INFO-wrappers_bo-03/08/2021-14:35:59] Iteration 10\n",
      "[INFO-wrappers_bo-03/08/2021-14:36:02] range_X:\n",
      "[[-100, 100],\n",
      "[-100, 100]]\n",
      "[INFO-wrappers_bo-03/08/2021-14:36:02] str_cov: matern52\n",
      "[INFO-wrappers_bo-03/08/2021-14:36:02] str_acq: ei\n",
      "[INFO-wrappers_bo-03/08/2021-14:36:02] str_optimizer_method_gp: BFGS\n",
      "[INFO-wrappers_bo-03/08/2021-14:36:02] str_optimizer_method_bo: L-BFGS-B\n",
      "[INFO-wrappers_bo-03/08/2021-14:36:02] str_modelselection_method: ml\n",
      "[INFO-wrappers_bo-03/08/2021-14:36:02] num_init: 10\n",
      "[INFO-wrappers_bo-03/08/2021-14:36:02] num_iter: 10\n",
      "[INFO-wrappers_bo-03/08/2021-14:36:02] str_initial_method_bo: uniform\n",
      "[INFO-wrappers_bo-03/08/2021-14:36:02] str_sampling_method_ao: uniform\n",
      "[INFO-wrappers_bo-03/08/2021-14:36:02] num_samples_ao: 100\n",
      "[INFO-wrappers_bo-03/08/2021-14:36:02] str_mlm_method: regular\n",
      "[INFO-wrappers_bo-03/08/2021-14:36:02] seed: None\n",
      "[INFO-wrappers_bo-03/08/2021-14:36:02] Iteration 1\n"
     ]
    },
    {
     "name": "stdout",
     "output_type": "stream",
     "text": [
      "BO Round 16\n"
     ]
    },
    {
     "name": "stderr",
     "output_type": "stream",
     "text": [
      "[INFO-wrappers_bo-03/08/2021-14:36:02] Iteration 2\n",
      "[INFO-wrappers_bo-03/08/2021-14:36:02] Iteration 3\n",
      "[INFO-wrappers_bo-03/08/2021-14:36:02] Iteration 4\n",
      "[INFO-wrappers_bo-03/08/2021-14:36:03] Iteration 5\n",
      "[INFO-wrappers_bo-03/08/2021-14:36:03] Iteration 6\n",
      "[INFO-wrappers_bo-03/08/2021-14:36:03] Iteration 7\n",
      "[INFO-wrappers_bo-03/08/2021-14:36:04] Iteration 8\n",
      "[INFO-wrappers_bo-03/08/2021-14:36:04] Iteration 9\n",
      "[INFO-wrappers_bo-03/08/2021-14:36:04] Iteration 10\n",
      "[INFO-wrappers_bo-03/08/2021-14:36:05] range_X:\n",
      "[[-100, 100],\n",
      "[-100, 100]]\n",
      "[INFO-wrappers_bo-03/08/2021-14:36:05] str_cov: matern52\n",
      "[INFO-wrappers_bo-03/08/2021-14:36:05] str_acq: ei\n",
      "[INFO-wrappers_bo-03/08/2021-14:36:05] str_optimizer_method_gp: BFGS\n",
      "[INFO-wrappers_bo-03/08/2021-14:36:05] str_optimizer_method_bo: L-BFGS-B\n",
      "[INFO-wrappers_bo-03/08/2021-14:36:05] str_modelselection_method: ml\n",
      "[INFO-wrappers_bo-03/08/2021-14:36:05] num_init: 10\n",
      "[INFO-wrappers_bo-03/08/2021-14:36:05] num_iter: 10\n",
      "[INFO-wrappers_bo-03/08/2021-14:36:05] str_initial_method_bo: uniform\n",
      "[INFO-wrappers_bo-03/08/2021-14:36:05] str_sampling_method_ao: uniform\n",
      "[INFO-wrappers_bo-03/08/2021-14:36:05] num_samples_ao: 100\n",
      "[INFO-wrappers_bo-03/08/2021-14:36:05] str_mlm_method: regular\n",
      "[INFO-wrappers_bo-03/08/2021-14:36:05] seed: None\n",
      "[INFO-wrappers_bo-03/08/2021-14:36:05] Iteration 1\n"
     ]
    },
    {
     "name": "stdout",
     "output_type": "stream",
     "text": [
      "BO Round 17\n"
     ]
    },
    {
     "name": "stderr",
     "output_type": "stream",
     "text": [
      "[INFO-wrappers_bo-03/08/2021-14:36:05] Iteration 2\n",
      "[INFO-wrappers_bo-03/08/2021-14:36:05] Iteration 3\n",
      "[INFO-wrappers_bo-03/08/2021-14:36:05] Iteration 4\n",
      "[INFO-wrappers_bo-03/08/2021-14:36:06] Iteration 5\n",
      "[INFO-wrappers_bo-03/08/2021-14:36:06] Iteration 6\n",
      "[INFO-wrappers_bo-03/08/2021-14:36:07] Iteration 7\n",
      "[INFO-wrappers_bo-03/08/2021-14:36:07] Iteration 8\n",
      "[INFO-wrappers_bo-03/08/2021-14:36:07] Iteration 9\n",
      "[INFO-wrappers_bo-03/08/2021-14:36:07] Iteration 10\n",
      "[INFO-wrappers_bo-03/08/2021-14:36:08] range_X:\n",
      "[[-100, 100],\n",
      "[-100, 100]]\n",
      "[INFO-wrappers_bo-03/08/2021-14:36:08] str_cov: matern52\n",
      "[INFO-wrappers_bo-03/08/2021-14:36:08] str_acq: ei\n",
      "[INFO-wrappers_bo-03/08/2021-14:36:08] str_optimizer_method_gp: BFGS\n",
      "[INFO-wrappers_bo-03/08/2021-14:36:08] str_optimizer_method_bo: L-BFGS-B\n",
      "[INFO-wrappers_bo-03/08/2021-14:36:08] str_modelselection_method: ml\n",
      "[INFO-wrappers_bo-03/08/2021-14:36:08] num_init: 10\n",
      "[INFO-wrappers_bo-03/08/2021-14:36:08] num_iter: 10\n",
      "[INFO-wrappers_bo-03/08/2021-14:36:08] str_initial_method_bo: uniform\n",
      "[INFO-wrappers_bo-03/08/2021-14:36:08] str_sampling_method_ao: uniform\n",
      "[INFO-wrappers_bo-03/08/2021-14:36:08] num_samples_ao: 100\n",
      "[INFO-wrappers_bo-03/08/2021-14:36:08] str_mlm_method: regular\n",
      "[INFO-wrappers_bo-03/08/2021-14:36:08] seed: None\n",
      "[INFO-wrappers_bo-03/08/2021-14:36:08] Iteration 1\n"
     ]
    },
    {
     "name": "stdout",
     "output_type": "stream",
     "text": [
      "BO Round 18\n"
     ]
    },
    {
     "name": "stderr",
     "output_type": "stream",
     "text": [
      "[INFO-wrappers_bo-03/08/2021-14:36:08] Iteration 2\n",
      "[INFO-wrappers_bo-03/08/2021-14:36:08] Iteration 3\n",
      "[INFO-wrappers_bo-03/08/2021-14:36:09] Iteration 4\n",
      "[INFO-wrappers_bo-03/08/2021-14:36:09] Iteration 5\n",
      "[INFO-wrappers_bo-03/08/2021-14:36:09] Iteration 6\n",
      "[INFO-wrappers_bo-03/08/2021-14:36:10] Iteration 7\n",
      "[INFO-wrappers_bo-03/08/2021-14:36:10] Iteration 8\n",
      "[INFO-wrappers_bo-03/08/2021-14:36:10] Iteration 9\n",
      "[INFO-wrappers_bo-03/08/2021-14:36:11] Iteration 10\n",
      "[INFO-wrappers_bo-03/08/2021-14:36:11] range_X:\n",
      "[[-100, 100],\n",
      "[-100, 100]]\n",
      "[INFO-wrappers_bo-03/08/2021-14:36:11] str_cov: matern52\n",
      "[INFO-wrappers_bo-03/08/2021-14:36:11] str_acq: ei\n",
      "[INFO-wrappers_bo-03/08/2021-14:36:11] str_optimizer_method_gp: BFGS\n",
      "[INFO-wrappers_bo-03/08/2021-14:36:11] str_optimizer_method_bo: L-BFGS-B\n",
      "[INFO-wrappers_bo-03/08/2021-14:36:11] str_modelselection_method: ml\n",
      "[INFO-wrappers_bo-03/08/2021-14:36:11] num_init: 10\n",
      "[INFO-wrappers_bo-03/08/2021-14:36:11] num_iter: 10\n",
      "[INFO-wrappers_bo-03/08/2021-14:36:11] str_initial_method_bo: uniform\n",
      "[INFO-wrappers_bo-03/08/2021-14:36:11] str_sampling_method_ao: uniform\n",
      "[INFO-wrappers_bo-03/08/2021-14:36:11] num_samples_ao: 100\n",
      "[INFO-wrappers_bo-03/08/2021-14:36:11] str_mlm_method: regular\n",
      "[INFO-wrappers_bo-03/08/2021-14:36:11] seed: None\n",
      "[INFO-wrappers_bo-03/08/2021-14:36:11] Iteration 1\n"
     ]
    },
    {
     "name": "stdout",
     "output_type": "stream",
     "text": [
      "BO Round 19\n"
     ]
    },
    {
     "name": "stderr",
     "output_type": "stream",
     "text": [
      "[INFO-wrappers_bo-03/08/2021-14:36:11] Iteration 2\n",
      "[INFO-wrappers_bo-03/08/2021-14:36:12] Iteration 3\n",
      "[INFO-wrappers_bo-03/08/2021-14:36:12] Iteration 4\n",
      "[INFO-wrappers_bo-03/08/2021-14:36:12] Iteration 5\n",
      "[INFO-wrappers_bo-03/08/2021-14:36:13] Iteration 6\n",
      "[INFO-wrappers_bo-03/08/2021-14:36:13] Iteration 7\n",
      "[INFO-wrappers_bo-03/08/2021-14:36:13] Iteration 8\n",
      "[INFO-wrappers_bo-03/08/2021-14:36:13] Iteration 9\n",
      "[INFO-wrappers_bo-03/08/2021-14:36:14] Iteration 10\n",
      "[INFO-wrappers_bo-03/08/2021-14:36:14] range_X:\n",
      "[[-100, 100],\n",
      "[-100, 100]]\n",
      "[INFO-wrappers_bo-03/08/2021-14:36:14] str_cov: matern52\n",
      "[INFO-wrappers_bo-03/08/2021-14:36:14] str_acq: ei\n",
      "[INFO-wrappers_bo-03/08/2021-14:36:14] str_optimizer_method_gp: BFGS\n",
      "[INFO-wrappers_bo-03/08/2021-14:36:14] str_optimizer_method_bo: L-BFGS-B\n",
      "[INFO-wrappers_bo-03/08/2021-14:36:14] str_modelselection_method: ml\n",
      "[INFO-wrappers_bo-03/08/2021-14:36:14] num_init: 10\n",
      "[INFO-wrappers_bo-03/08/2021-14:36:14] num_iter: 10\n",
      "[INFO-wrappers_bo-03/08/2021-14:36:14] str_initial_method_bo: uniform\n",
      "[INFO-wrappers_bo-03/08/2021-14:36:14] str_sampling_method_ao: uniform\n",
      "[INFO-wrappers_bo-03/08/2021-14:36:14] num_samples_ao: 100\n",
      "[INFO-wrappers_bo-03/08/2021-14:36:14] str_mlm_method: regular\n",
      "[INFO-wrappers_bo-03/08/2021-14:36:14] seed: None\n",
      "[INFO-wrappers_bo-03/08/2021-14:36:14] Iteration 1\n"
     ]
    },
    {
     "name": "stdout",
     "output_type": "stream",
     "text": [
      "BO Round 20\n"
     ]
    },
    {
     "name": "stderr",
     "output_type": "stream",
     "text": [
      "[INFO-wrappers_bo-03/08/2021-14:36:14] Iteration 2\n",
      "[INFO-wrappers_bo-03/08/2021-14:36:15] Iteration 3\n",
      "[INFO-wrappers_bo-03/08/2021-14:36:15] Iteration 4\n",
      "[INFO-wrappers_bo-03/08/2021-14:36:15] Iteration 5\n",
      "[INFO-wrappers_bo-03/08/2021-14:36:15] Iteration 6\n",
      "[INFO-wrappers_bo-03/08/2021-14:36:16] Iteration 7\n",
      "[INFO-wrappers_bo-03/08/2021-14:36:16] Iteration 8\n",
      "[INFO-wrappers_bo-03/08/2021-14:36:16] Iteration 9\n",
      "[INFO-wrappers_bo-03/08/2021-14:36:17] Iteration 10\n",
      "[INFO-wrappers_bo-03/08/2021-14:36:17] range_X:\n",
      "[[-100, 100],\n",
      "[-100, 100]]\n",
      "[INFO-wrappers_bo-03/08/2021-14:36:17] str_cov: matern52\n",
      "[INFO-wrappers_bo-03/08/2021-14:36:17] str_acq: ei\n",
      "[INFO-wrappers_bo-03/08/2021-14:36:17] str_optimizer_method_gp: BFGS\n",
      "[INFO-wrappers_bo-03/08/2021-14:36:17] str_optimizer_method_bo: L-BFGS-B\n",
      "[INFO-wrappers_bo-03/08/2021-14:36:17] str_modelselection_method: ml\n",
      "[INFO-wrappers_bo-03/08/2021-14:36:17] num_init: 10\n",
      "[INFO-wrappers_bo-03/08/2021-14:36:17] num_iter: 10\n",
      "[INFO-wrappers_bo-03/08/2021-14:36:17] str_initial_method_bo: uniform\n",
      "[INFO-wrappers_bo-03/08/2021-14:36:17] str_sampling_method_ao: uniform\n",
      "[INFO-wrappers_bo-03/08/2021-14:36:17] num_samples_ao: 100\n",
      "[INFO-wrappers_bo-03/08/2021-14:36:17] str_mlm_method: regular\n",
      "[INFO-wrappers_bo-03/08/2021-14:36:17] seed: None\n",
      "[INFO-wrappers_bo-03/08/2021-14:36:17] Iteration 1\n"
     ]
    },
    {
     "name": "stdout",
     "output_type": "stream",
     "text": [
      "BO Round 21\n"
     ]
    },
    {
     "name": "stderr",
     "output_type": "stream",
     "text": [
      "[INFO-wrappers_bo-03/08/2021-14:36:17] Iteration 2\n",
      "[INFO-wrappers_bo-03/08/2021-14:36:17] Iteration 3\n",
      "[INFO-wrappers_bo-03/08/2021-14:36:18] Iteration 4\n",
      "[INFO-wrappers_bo-03/08/2021-14:36:18] Iteration 5\n",
      "[INFO-wrappers_bo-03/08/2021-14:36:18] Iteration 6\n",
      "[INFO-wrappers_bo-03/08/2021-14:36:18] Iteration 7\n",
      "[INFO-wrappers_bo-03/08/2021-14:36:19] Iteration 8\n",
      "[INFO-wrappers_bo-03/08/2021-14:36:19] Iteration 9\n",
      "[INFO-wrappers_bo-03/08/2021-14:36:19] Iteration 10\n",
      "[INFO-wrappers_bo-03/08/2021-14:36:20] range_X:\n",
      "[[-100, 100],\n",
      "[-100, 100]]\n",
      "[INFO-wrappers_bo-03/08/2021-14:36:20] str_cov: matern52\n",
      "[INFO-wrappers_bo-03/08/2021-14:36:20] str_acq: ei\n",
      "[INFO-wrappers_bo-03/08/2021-14:36:20] str_optimizer_method_gp: BFGS\n",
      "[INFO-wrappers_bo-03/08/2021-14:36:20] str_optimizer_method_bo: L-BFGS-B\n",
      "[INFO-wrappers_bo-03/08/2021-14:36:20] str_modelselection_method: ml\n",
      "[INFO-wrappers_bo-03/08/2021-14:36:20] num_init: 10\n",
      "[INFO-wrappers_bo-03/08/2021-14:36:20] num_iter: 10\n",
      "[INFO-wrappers_bo-03/08/2021-14:36:20] str_initial_method_bo: uniform\n",
      "[INFO-wrappers_bo-03/08/2021-14:36:20] str_sampling_method_ao: uniform\n",
      "[INFO-wrappers_bo-03/08/2021-14:36:20] num_samples_ao: 100\n",
      "[INFO-wrappers_bo-03/08/2021-14:36:20] str_mlm_method: regular\n",
      "[INFO-wrappers_bo-03/08/2021-14:36:20] seed: None\n",
      "[INFO-wrappers_bo-03/08/2021-14:36:20] Iteration 1\n"
     ]
    },
    {
     "name": "stdout",
     "output_type": "stream",
     "text": [
      "BO Round 22\n"
     ]
    },
    {
     "name": "stderr",
     "output_type": "stream",
     "text": [
      "[INFO-wrappers_bo-03/08/2021-14:36:20] Iteration 2\n",
      "[INFO-wrappers_bo-03/08/2021-14:36:20] Iteration 3\n",
      "[INFO-wrappers_bo-03/08/2021-14:36:21] Iteration 4\n",
      "[INFO-wrappers_bo-03/08/2021-14:36:21] Iteration 5\n",
      "[INFO-wrappers_bo-03/08/2021-14:36:22] Iteration 6\n",
      "[INFO-wrappers_bo-03/08/2021-14:36:22] Iteration 7\n",
      "[INFO-wrappers_bo-03/08/2021-14:36:23] Iteration 8\n",
      "[INFO-wrappers_bo-03/08/2021-14:36:23] Iteration 9\n",
      "[INFO-wrappers_bo-03/08/2021-14:36:23] Iteration 10\n",
      "[INFO-wrappers_bo-03/08/2021-14:36:24] range_X:\n",
      "[[-100, 100],\n",
      "[-100, 100]]\n",
      "[INFO-wrappers_bo-03/08/2021-14:36:24] str_cov: matern52\n",
      "[INFO-wrappers_bo-03/08/2021-14:36:24] str_acq: ei\n",
      "[INFO-wrappers_bo-03/08/2021-14:36:24] str_optimizer_method_gp: BFGS\n",
      "[INFO-wrappers_bo-03/08/2021-14:36:24] str_optimizer_method_bo: L-BFGS-B\n",
      "[INFO-wrappers_bo-03/08/2021-14:36:24] str_modelselection_method: ml\n",
      "[INFO-wrappers_bo-03/08/2021-14:36:24] num_init: 10\n",
      "[INFO-wrappers_bo-03/08/2021-14:36:24] num_iter: 10\n",
      "[INFO-wrappers_bo-03/08/2021-14:36:24] str_initial_method_bo: uniform\n",
      "[INFO-wrappers_bo-03/08/2021-14:36:24] str_sampling_method_ao: uniform\n",
      "[INFO-wrappers_bo-03/08/2021-14:36:24] num_samples_ao: 100\n",
      "[INFO-wrappers_bo-03/08/2021-14:36:24] str_mlm_method: regular\n",
      "[INFO-wrappers_bo-03/08/2021-14:36:24] seed: None\n",
      "[INFO-wrappers_bo-03/08/2021-14:36:24] Iteration 1\n"
     ]
    },
    {
     "name": "stdout",
     "output_type": "stream",
     "text": [
      "BO Round 23\n"
     ]
    },
    {
     "name": "stderr",
     "output_type": "stream",
     "text": [
      "[INFO-wrappers_bo-03/08/2021-14:36:24] Iteration 2\n",
      "[INFO-wrappers_bo-03/08/2021-14:36:24] Iteration 3\n",
      "[INFO-wrappers_bo-03/08/2021-14:36:25] Iteration 4\n",
      "[INFO-wrappers_bo-03/08/2021-14:36:25] Iteration 5\n",
      "[INFO-wrappers_bo-03/08/2021-14:36:25] Iteration 6\n",
      "[INFO-wrappers_bo-03/08/2021-14:36:26] Iteration 7\n",
      "[INFO-wrappers_bo-03/08/2021-14:36:26] Iteration 8\n",
      "[INFO-wrappers_bo-03/08/2021-14:36:26] Iteration 9\n",
      "[INFO-wrappers_bo-03/08/2021-14:36:26] Iteration 10\n",
      "[INFO-wrappers_bo-03/08/2021-14:36:27] range_X:\n",
      "[[-100, 100],\n",
      "[-100, 100]]\n",
      "[INFO-wrappers_bo-03/08/2021-14:36:27] str_cov: matern52\n",
      "[INFO-wrappers_bo-03/08/2021-14:36:27] str_acq: ei\n",
      "[INFO-wrappers_bo-03/08/2021-14:36:27] str_optimizer_method_gp: BFGS\n",
      "[INFO-wrappers_bo-03/08/2021-14:36:27] str_optimizer_method_bo: L-BFGS-B\n",
      "[INFO-wrappers_bo-03/08/2021-14:36:27] str_modelselection_method: ml\n",
      "[INFO-wrappers_bo-03/08/2021-14:36:27] num_init: 10\n",
      "[INFO-wrappers_bo-03/08/2021-14:36:27] num_iter: 10\n",
      "[INFO-wrappers_bo-03/08/2021-14:36:27] str_initial_method_bo: uniform\n",
      "[INFO-wrappers_bo-03/08/2021-14:36:27] str_sampling_method_ao: uniform\n",
      "[INFO-wrappers_bo-03/08/2021-14:36:27] num_samples_ao: 100\n",
      "[INFO-wrappers_bo-03/08/2021-14:36:27] str_mlm_method: regular\n",
      "[INFO-wrappers_bo-03/08/2021-14:36:27] seed: None\n",
      "[INFO-wrappers_bo-03/08/2021-14:36:27] Iteration 1\n"
     ]
    },
    {
     "name": "stdout",
     "output_type": "stream",
     "text": [
      "BO Round 24\n"
     ]
    },
    {
     "name": "stderr",
     "output_type": "stream",
     "text": [
      "[INFO-wrappers_bo-03/08/2021-14:36:27] Iteration 2\n",
      "[INFO-wrappers_bo-03/08/2021-14:36:27] Iteration 3\n",
      "[INFO-wrappers_bo-03/08/2021-14:36:28] Iteration 4\n",
      "[INFO-wrappers_bo-03/08/2021-14:36:28] Iteration 5\n",
      "[INFO-wrappers_bo-03/08/2021-14:36:28] Iteration 6\n",
      "[INFO-wrappers_bo-03/08/2021-14:36:28] Iteration 7\n",
      "[INFO-wrappers_bo-03/08/2021-14:36:29] Iteration 8\n",
      "[INFO-wrappers_bo-03/08/2021-14:36:29] Iteration 9\n",
      "[INFO-wrappers_bo-03/08/2021-14:36:29] Iteration 10\n",
      "[INFO-wrappers_bo-03/08/2021-14:36:30] range_X:\n",
      "[[-100, 100],\n",
      "[-100, 100]]\n",
      "[INFO-wrappers_bo-03/08/2021-14:36:30] str_cov: matern52\n",
      "[INFO-wrappers_bo-03/08/2021-14:36:30] str_acq: ei\n",
      "[INFO-wrappers_bo-03/08/2021-14:36:30] str_optimizer_method_gp: BFGS\n",
      "[INFO-wrappers_bo-03/08/2021-14:36:30] str_optimizer_method_bo: L-BFGS-B\n",
      "[INFO-wrappers_bo-03/08/2021-14:36:30] str_modelselection_method: ml\n",
      "[INFO-wrappers_bo-03/08/2021-14:36:30] num_init: 10\n",
      "[INFO-wrappers_bo-03/08/2021-14:36:30] num_iter: 10\n",
      "[INFO-wrappers_bo-03/08/2021-14:36:30] str_initial_method_bo: uniform\n",
      "[INFO-wrappers_bo-03/08/2021-14:36:30] str_sampling_method_ao: uniform\n",
      "[INFO-wrappers_bo-03/08/2021-14:36:30] num_samples_ao: 100\n",
      "[INFO-wrappers_bo-03/08/2021-14:36:30] str_mlm_method: regular\n",
      "[INFO-wrappers_bo-03/08/2021-14:36:30] seed: None\n",
      "[INFO-wrappers_bo-03/08/2021-14:36:30] Iteration 1\n"
     ]
    },
    {
     "name": "stdout",
     "output_type": "stream",
     "text": [
      "BO Round 25\n"
     ]
    },
    {
     "name": "stderr",
     "output_type": "stream",
     "text": [
      "[INFO-wrappers_bo-03/08/2021-14:36:30] Iteration 2\n",
      "[INFO-wrappers_bo-03/08/2021-14:36:30] Iteration 3\n",
      "[INFO-wrappers_bo-03/08/2021-14:36:30] Iteration 4\n",
      "[INFO-wrappers_bo-03/08/2021-14:36:31] Iteration 5\n",
      "[INFO-wrappers_bo-03/08/2021-14:36:31] Iteration 6\n",
      "[INFO-wrappers_bo-03/08/2021-14:36:31] Iteration 7\n",
      "[INFO-wrappers_bo-03/08/2021-14:36:31] Iteration 8\n",
      "[INFO-wrappers_bo-03/08/2021-14:36:32] Iteration 9\n",
      "[INFO-wrappers_bo-03/08/2021-14:36:32] Iteration 10\n",
      "[INFO-wrappers_bo-03/08/2021-14:36:33] range_X:\n",
      "[[-100, 100],\n",
      "[-100, 100]]\n",
      "[INFO-wrappers_bo-03/08/2021-14:36:33] str_cov: matern52\n",
      "[INFO-wrappers_bo-03/08/2021-14:36:33] str_acq: ei\n",
      "[INFO-wrappers_bo-03/08/2021-14:36:33] str_optimizer_method_gp: BFGS\n",
      "[INFO-wrappers_bo-03/08/2021-14:36:33] str_optimizer_method_bo: L-BFGS-B\n",
      "[INFO-wrappers_bo-03/08/2021-14:36:33] str_modelselection_method: ml\n",
      "[INFO-wrappers_bo-03/08/2021-14:36:33] num_init: 10\n",
      "[INFO-wrappers_bo-03/08/2021-14:36:33] num_iter: 10\n",
      "[INFO-wrappers_bo-03/08/2021-14:36:33] str_initial_method_bo: uniform\n",
      "[INFO-wrappers_bo-03/08/2021-14:36:33] str_sampling_method_ao: uniform\n",
      "[INFO-wrappers_bo-03/08/2021-14:36:33] num_samples_ao: 100\n",
      "[INFO-wrappers_bo-03/08/2021-14:36:33] str_mlm_method: regular\n",
      "[INFO-wrappers_bo-03/08/2021-14:36:33] seed: None\n",
      "[INFO-wrappers_bo-03/08/2021-14:36:33] Iteration 1\n"
     ]
    },
    {
     "name": "stdout",
     "output_type": "stream",
     "text": [
      "BO Round 26\n"
     ]
    },
    {
     "name": "stderr",
     "output_type": "stream",
     "text": [
      "[INFO-wrappers_bo-03/08/2021-14:36:33] Iteration 2\n",
      "[INFO-wrappers_bo-03/08/2021-14:36:33] Iteration 3\n",
      "[INFO-wrappers_bo-03/08/2021-14:36:34] Iteration 4\n",
      "[INFO-wrappers_bo-03/08/2021-14:36:34] Iteration 5\n",
      "[INFO-wrappers_bo-03/08/2021-14:36:34] Iteration 6\n",
      "[INFO-wrappers_bo-03/08/2021-14:36:34] Iteration 7\n",
      "[INFO-wrappers_bo-03/08/2021-14:36:35] Iteration 8\n",
      "[INFO-wrappers_bo-03/08/2021-14:36:35] Iteration 9\n",
      "[INFO-wrappers_bo-03/08/2021-14:36:35] Iteration 10\n",
      "[INFO-wrappers_bo-03/08/2021-14:36:36] range_X:\n",
      "[[-100, 100],\n",
      "[-100, 100]]\n",
      "[INFO-wrappers_bo-03/08/2021-14:36:36] str_cov: matern52\n",
      "[INFO-wrappers_bo-03/08/2021-14:36:36] str_acq: ei\n",
      "[INFO-wrappers_bo-03/08/2021-14:36:36] str_optimizer_method_gp: BFGS\n",
      "[INFO-wrappers_bo-03/08/2021-14:36:36] str_optimizer_method_bo: L-BFGS-B\n",
      "[INFO-wrappers_bo-03/08/2021-14:36:36] str_modelselection_method: ml\n",
      "[INFO-wrappers_bo-03/08/2021-14:36:36] num_init: 10\n",
      "[INFO-wrappers_bo-03/08/2021-14:36:36] num_iter: 10\n",
      "[INFO-wrappers_bo-03/08/2021-14:36:36] str_initial_method_bo: uniform\n",
      "[INFO-wrappers_bo-03/08/2021-14:36:36] str_sampling_method_ao: uniform\n",
      "[INFO-wrappers_bo-03/08/2021-14:36:36] num_samples_ao: 100\n",
      "[INFO-wrappers_bo-03/08/2021-14:36:36] str_mlm_method: regular\n",
      "[INFO-wrappers_bo-03/08/2021-14:36:36] seed: None\n",
      "[INFO-wrappers_bo-03/08/2021-14:36:36] Iteration 1\n",
      "[INFO-wrappers_bo-03/08/2021-14:36:36] Iteration 2\n"
     ]
    },
    {
     "name": "stdout",
     "output_type": "stream",
     "text": [
      "BO Round 27\n"
     ]
    },
    {
     "name": "stderr",
     "output_type": "stream",
     "text": [
      "[INFO-wrappers_bo-03/08/2021-14:36:36] Iteration 3\n",
      "[INFO-wrappers_bo-03/08/2021-14:36:36] Iteration 4\n",
      "[INFO-wrappers_bo-03/08/2021-14:36:37] Iteration 5\n",
      "[INFO-wrappers_bo-03/08/2021-14:36:37] Iteration 6\n",
      "[INFO-wrappers_bo-03/08/2021-14:36:37] Iteration 7\n",
      "[INFO-wrappers_bo-03/08/2021-14:36:37] Iteration 8\n",
      "[INFO-wrappers_bo-03/08/2021-14:36:38] Iteration 9\n",
      "[INFO-wrappers_bo-03/08/2021-14:36:38] Iteration 10\n",
      "[INFO-wrappers_bo-03/08/2021-14:36:38] range_X:\n",
      "[[-100, 100],\n",
      "[-100, 100]]\n",
      "[INFO-wrappers_bo-03/08/2021-14:36:38] str_cov: matern52\n",
      "[INFO-wrappers_bo-03/08/2021-14:36:38] str_acq: ei\n",
      "[INFO-wrappers_bo-03/08/2021-14:36:38] str_optimizer_method_gp: BFGS\n",
      "[INFO-wrappers_bo-03/08/2021-14:36:38] str_optimizer_method_bo: L-BFGS-B\n",
      "[INFO-wrappers_bo-03/08/2021-14:36:38] str_modelselection_method: ml\n",
      "[INFO-wrappers_bo-03/08/2021-14:36:38] num_init: 10\n",
      "[INFO-wrappers_bo-03/08/2021-14:36:38] num_iter: 10\n",
      "[INFO-wrappers_bo-03/08/2021-14:36:38] str_initial_method_bo: uniform\n",
      "[INFO-wrappers_bo-03/08/2021-14:36:38] str_sampling_method_ao: uniform\n",
      "[INFO-wrappers_bo-03/08/2021-14:36:38] num_samples_ao: 100\n",
      "[INFO-wrappers_bo-03/08/2021-14:36:38] str_mlm_method: regular\n",
      "[INFO-wrappers_bo-03/08/2021-14:36:38] seed: None\n",
      "[INFO-wrappers_bo-03/08/2021-14:36:38] Iteration 1\n"
     ]
    },
    {
     "name": "stdout",
     "output_type": "stream",
     "text": [
      "BO Round 28\n"
     ]
    },
    {
     "name": "stderr",
     "output_type": "stream",
     "text": [
      "[INFO-wrappers_bo-03/08/2021-14:36:38] Iteration 2\n",
      "[INFO-wrappers_bo-03/08/2021-14:36:39] Iteration 3\n",
      "[INFO-wrappers_bo-03/08/2021-14:36:39] Iteration 4\n",
      "[INFO-wrappers_bo-03/08/2021-14:36:39] Iteration 5\n",
      "[INFO-wrappers_bo-03/08/2021-14:36:39] Iteration 6\n",
      "[INFO-wrappers_bo-03/08/2021-14:36:40] Iteration 7\n",
      "[INFO-wrappers_bo-03/08/2021-14:36:40] Iteration 8\n",
      "[INFO-wrappers_bo-03/08/2021-14:36:40] Iteration 9\n",
      "[INFO-wrappers_bo-03/08/2021-14:36:40] Iteration 10\n",
      "[INFO-wrappers_bo-03/08/2021-14:36:41] range_X:\n",
      "[[-100, 100],\n",
      "[-100, 100]]\n",
      "[INFO-wrappers_bo-03/08/2021-14:36:41] str_cov: matern52\n",
      "[INFO-wrappers_bo-03/08/2021-14:36:41] str_acq: ei\n",
      "[INFO-wrappers_bo-03/08/2021-14:36:41] str_optimizer_method_gp: BFGS\n",
      "[INFO-wrappers_bo-03/08/2021-14:36:41] str_optimizer_method_bo: L-BFGS-B\n",
      "[INFO-wrappers_bo-03/08/2021-14:36:41] str_modelselection_method: ml\n",
      "[INFO-wrappers_bo-03/08/2021-14:36:41] num_init: 10\n",
      "[INFO-wrappers_bo-03/08/2021-14:36:41] num_iter: 10\n",
      "[INFO-wrappers_bo-03/08/2021-14:36:41] str_initial_method_bo: uniform\n",
      "[INFO-wrappers_bo-03/08/2021-14:36:41] str_sampling_method_ao: uniform\n",
      "[INFO-wrappers_bo-03/08/2021-14:36:41] num_samples_ao: 100\n",
      "[INFO-wrappers_bo-03/08/2021-14:36:41] str_mlm_method: regular\n",
      "[INFO-wrappers_bo-03/08/2021-14:36:41] seed: None\n",
      "[INFO-wrappers_bo-03/08/2021-14:36:41] Iteration 1\n"
     ]
    },
    {
     "name": "stdout",
     "output_type": "stream",
     "text": [
      "BO Round 29\n"
     ]
    },
    {
     "name": "stderr",
     "output_type": "stream",
     "text": [
      "[INFO-wrappers_bo-03/08/2021-14:36:41] Iteration 2\n",
      "[INFO-wrappers_bo-03/08/2021-14:36:41] Iteration 3\n",
      "[INFO-wrappers_bo-03/08/2021-14:36:42] Iteration 4\n",
      "[INFO-wrappers_bo-03/08/2021-14:36:42] Iteration 5\n",
      "[INFO-wrappers_bo-03/08/2021-14:36:42] Iteration 6\n",
      "[INFO-wrappers_bo-03/08/2021-14:36:43] Iteration 7\n",
      "[INFO-wrappers_bo-03/08/2021-14:36:43] Iteration 8\n",
      "[INFO-wrappers_bo-03/08/2021-14:36:43] Iteration 9\n",
      "[INFO-wrappers_bo-03/08/2021-14:36:43] Iteration 10\n",
      "[INFO-wrappers_bo-03/08/2021-14:36:44] range_X:\n",
      "[[-100, 100],\n",
      "[-100, 100]]\n",
      "[INFO-wrappers_bo-03/08/2021-14:36:44] str_cov: matern52\n",
      "[INFO-wrappers_bo-03/08/2021-14:36:44] str_acq: ei\n",
      "[INFO-wrappers_bo-03/08/2021-14:36:44] str_optimizer_method_gp: BFGS\n",
      "[INFO-wrappers_bo-03/08/2021-14:36:44] str_optimizer_method_bo: L-BFGS-B\n",
      "[INFO-wrappers_bo-03/08/2021-14:36:44] str_modelselection_method: ml\n",
      "[INFO-wrappers_bo-03/08/2021-14:36:44] num_init: 10\n",
      "[INFO-wrappers_bo-03/08/2021-14:36:44] num_iter: 10\n",
      "[INFO-wrappers_bo-03/08/2021-14:36:44] str_initial_method_bo: uniform\n",
      "[INFO-wrappers_bo-03/08/2021-14:36:44] str_sampling_method_ao: uniform\n",
      "[INFO-wrappers_bo-03/08/2021-14:36:44] num_samples_ao: 100\n",
      "[INFO-wrappers_bo-03/08/2021-14:36:44] str_mlm_method: regular\n",
      "[INFO-wrappers_bo-03/08/2021-14:36:44] seed: None\n",
      "[INFO-wrappers_bo-03/08/2021-14:36:44] Iteration 1\n"
     ]
    },
    {
     "name": "stdout",
     "output_type": "stream",
     "text": [
      "BO Round 30\n"
     ]
    },
    {
     "name": "stderr",
     "output_type": "stream",
     "text": [
      "[INFO-wrappers_bo-03/08/2021-14:36:44] Iteration 2\n",
      "[INFO-wrappers_bo-03/08/2021-14:36:44] Iteration 3\n",
      "[INFO-wrappers_bo-03/08/2021-14:36:44] Iteration 4\n",
      "[INFO-wrappers_bo-03/08/2021-14:36:45] Iteration 5\n",
      "[INFO-wrappers_bo-03/08/2021-14:36:45] Iteration 6\n",
      "[INFO-wrappers_bo-03/08/2021-14:36:45] Iteration 7\n",
      "[INFO-wrappers_bo-03/08/2021-14:36:46] Iteration 8\n",
      "[INFO-wrappers_bo-03/08/2021-14:36:46] Iteration 9\n",
      "[INFO-wrappers_bo-03/08/2021-14:36:46] Iteration 10\n",
      "[INFO-wrappers_bo-03/08/2021-14:36:46] range_X:\n",
      "[[-100, 100],\n",
      "[-100, 100]]\n",
      "[INFO-wrappers_bo-03/08/2021-14:36:46] str_cov: matern52\n",
      "[INFO-wrappers_bo-03/08/2021-14:36:46] str_acq: ei\n",
      "[INFO-wrappers_bo-03/08/2021-14:36:46] str_optimizer_method_gp: BFGS\n",
      "[INFO-wrappers_bo-03/08/2021-14:36:46] str_optimizer_method_bo: L-BFGS-B\n",
      "[INFO-wrappers_bo-03/08/2021-14:36:46] str_modelselection_method: ml\n",
      "[INFO-wrappers_bo-03/08/2021-14:36:46] num_init: 10\n",
      "[INFO-wrappers_bo-03/08/2021-14:36:46] num_iter: 10\n",
      "[INFO-wrappers_bo-03/08/2021-14:36:46] str_initial_method_bo: uniform\n",
      "[INFO-wrappers_bo-03/08/2021-14:36:46] str_sampling_method_ao: uniform\n",
      "[INFO-wrappers_bo-03/08/2021-14:36:46] num_samples_ao: 100\n",
      "[INFO-wrappers_bo-03/08/2021-14:36:46] str_mlm_method: regular\n",
      "[INFO-wrappers_bo-03/08/2021-14:36:46] seed: None\n",
      "[INFO-wrappers_bo-03/08/2021-14:36:46] Iteration 1\n"
     ]
    },
    {
     "name": "stdout",
     "output_type": "stream",
     "text": [
      "BO Round 31\n"
     ]
    },
    {
     "name": "stderr",
     "output_type": "stream",
     "text": [
      "[INFO-wrappers_bo-03/08/2021-14:36:47] Iteration 2\n",
      "[INFO-wrappers_bo-03/08/2021-14:36:47] Iteration 3\n",
      "[INFO-wrappers_bo-03/08/2021-14:36:47] Iteration 4\n",
      "[INFO-wrappers_bo-03/08/2021-14:36:47] Iteration 5\n",
      "[INFO-wrappers_bo-03/08/2021-14:36:48] Iteration 6\n",
      "[INFO-wrappers_bo-03/08/2021-14:36:48] Iteration 7\n",
      "[INFO-wrappers_bo-03/08/2021-14:36:48] Iteration 8\n",
      "[INFO-wrappers_bo-03/08/2021-14:36:49] Iteration 9\n",
      "[INFO-wrappers_bo-03/08/2021-14:36:49] Iteration 10\n",
      "[INFO-wrappers_bo-03/08/2021-14:36:49] range_X:\n",
      "[[-100, 100],\n",
      "[-100, 100]]\n",
      "[INFO-wrappers_bo-03/08/2021-14:36:49] str_cov: matern52\n",
      "[INFO-wrappers_bo-03/08/2021-14:36:49] str_acq: ei\n",
      "[INFO-wrappers_bo-03/08/2021-14:36:49] str_optimizer_method_gp: BFGS\n",
      "[INFO-wrappers_bo-03/08/2021-14:36:49] str_optimizer_method_bo: L-BFGS-B\n",
      "[INFO-wrappers_bo-03/08/2021-14:36:49] str_modelselection_method: ml\n",
      "[INFO-wrappers_bo-03/08/2021-14:36:49] num_init: 10\n",
      "[INFO-wrappers_bo-03/08/2021-14:36:49] num_iter: 10\n",
      "[INFO-wrappers_bo-03/08/2021-14:36:49] str_initial_method_bo: uniform\n",
      "[INFO-wrappers_bo-03/08/2021-14:36:49] str_sampling_method_ao: uniform\n",
      "[INFO-wrappers_bo-03/08/2021-14:36:49] num_samples_ao: 100\n",
      "[INFO-wrappers_bo-03/08/2021-14:36:49] str_mlm_method: regular\n",
      "[INFO-wrappers_bo-03/08/2021-14:36:49] seed: None\n",
      "[INFO-wrappers_bo-03/08/2021-14:36:49] Iteration 1\n"
     ]
    },
    {
     "name": "stdout",
     "output_type": "stream",
     "text": [
      "BO Round 32\n"
     ]
    },
    {
     "name": "stderr",
     "output_type": "stream",
     "text": [
      "[INFO-wrappers_bo-03/08/2021-14:36:50] Iteration 2\n",
      "[INFO-wrappers_bo-03/08/2021-14:36:50] Iteration 3\n",
      "[INFO-wrappers_bo-03/08/2021-14:36:50] Iteration 4\n",
      "[INFO-wrappers_bo-03/08/2021-14:36:50] Iteration 5\n",
      "[INFO-wrappers_bo-03/08/2021-14:36:51] Iteration 6\n",
      "[INFO-wrappers_bo-03/08/2021-14:36:51] Iteration 7\n",
      "[INFO-wrappers_bo-03/08/2021-14:36:51] Iteration 8\n",
      "[INFO-wrappers_bo-03/08/2021-14:36:52] Iteration 9\n",
      "[INFO-wrappers_bo-03/08/2021-14:36:52] Iteration 10\n",
      "[INFO-wrappers_bo-03/08/2021-14:36:52] range_X:\n",
      "[[-100, 100],\n",
      "[-100, 100]]\n",
      "[INFO-wrappers_bo-03/08/2021-14:36:52] str_cov: matern52\n",
      "[INFO-wrappers_bo-03/08/2021-14:36:52] str_acq: ei\n",
      "[INFO-wrappers_bo-03/08/2021-14:36:52] str_optimizer_method_gp: BFGS\n",
      "[INFO-wrappers_bo-03/08/2021-14:36:52] str_optimizer_method_bo: L-BFGS-B\n",
      "[INFO-wrappers_bo-03/08/2021-14:36:52] str_modelselection_method: ml\n",
      "[INFO-wrappers_bo-03/08/2021-14:36:52] num_init: 10\n",
      "[INFO-wrappers_bo-03/08/2021-14:36:52] num_iter: 10\n",
      "[INFO-wrappers_bo-03/08/2021-14:36:52] str_initial_method_bo: uniform\n",
      "[INFO-wrappers_bo-03/08/2021-14:36:52] str_sampling_method_ao: uniform\n",
      "[INFO-wrappers_bo-03/08/2021-14:36:52] num_samples_ao: 100\n",
      "[INFO-wrappers_bo-03/08/2021-14:36:52] str_mlm_method: regular\n",
      "[INFO-wrappers_bo-03/08/2021-14:36:52] seed: None\n",
      "[INFO-wrappers_bo-03/08/2021-14:36:52] Iteration 1\n"
     ]
    },
    {
     "name": "stdout",
     "output_type": "stream",
     "text": [
      "BO Round 33\n"
     ]
    },
    {
     "name": "stderr",
     "output_type": "stream",
     "text": [
      "[INFO-wrappers_bo-03/08/2021-14:36:52] Iteration 2\n",
      "[INFO-wrappers_bo-03/08/2021-14:36:53] Iteration 3\n",
      "[INFO-wrappers_bo-03/08/2021-14:36:53] Iteration 4\n",
      "[INFO-wrappers_bo-03/08/2021-14:36:53] Iteration 5\n",
      "[INFO-wrappers_bo-03/08/2021-14:36:53] Iteration 6\n",
      "[INFO-wrappers_bo-03/08/2021-14:36:54] Iteration 7\n",
      "[INFO-wrappers_bo-03/08/2021-14:36:54] Iteration 8\n",
      "[INFO-wrappers_bo-03/08/2021-14:36:54] Iteration 9\n",
      "[INFO-wrappers_bo-03/08/2021-14:36:55] Iteration 10\n",
      "[INFO-wrappers_bo-03/08/2021-14:36:55] range_X:\n",
      "[[-100, 100],\n",
      "[-100, 100]]\n",
      "[INFO-wrappers_bo-03/08/2021-14:36:55] str_cov: matern52\n",
      "[INFO-wrappers_bo-03/08/2021-14:36:55] str_acq: ei\n",
      "[INFO-wrappers_bo-03/08/2021-14:36:55] str_optimizer_method_gp: BFGS\n",
      "[INFO-wrappers_bo-03/08/2021-14:36:55] str_optimizer_method_bo: L-BFGS-B\n",
      "[INFO-wrappers_bo-03/08/2021-14:36:55] str_modelselection_method: ml\n",
      "[INFO-wrappers_bo-03/08/2021-14:36:55] num_init: 10\n",
      "[INFO-wrappers_bo-03/08/2021-14:36:55] num_iter: 10\n",
      "[INFO-wrappers_bo-03/08/2021-14:36:55] str_initial_method_bo: uniform\n",
      "[INFO-wrappers_bo-03/08/2021-14:36:55] str_sampling_method_ao: uniform\n",
      "[INFO-wrappers_bo-03/08/2021-14:36:55] num_samples_ao: 100\n",
      "[INFO-wrappers_bo-03/08/2021-14:36:55] str_mlm_method: regular\n",
      "[INFO-wrappers_bo-03/08/2021-14:36:55] seed: None\n",
      "[INFO-wrappers_bo-03/08/2021-14:36:55] Iteration 1\n"
     ]
    },
    {
     "name": "stdout",
     "output_type": "stream",
     "text": [
      "BO Round 34\n"
     ]
    },
    {
     "name": "stderr",
     "output_type": "stream",
     "text": [
      "[INFO-wrappers_bo-03/08/2021-14:36:55] Iteration 2\n",
      "[INFO-wrappers_bo-03/08/2021-14:36:55] Iteration 3\n",
      "[INFO-wrappers_bo-03/08/2021-14:36:56] Iteration 4\n",
      "[INFO-wrappers_bo-03/08/2021-14:36:56] Iteration 5\n",
      "[INFO-wrappers_bo-03/08/2021-14:36:56] Iteration 6\n",
      "[INFO-wrappers_bo-03/08/2021-14:36:57] Iteration 7\n",
      "[INFO-wrappers_bo-03/08/2021-14:36:57] Iteration 8\n",
      "[INFO-wrappers_bo-03/08/2021-14:36:57] Iteration 9\n",
      "[INFO-wrappers_bo-03/08/2021-14:36:58] Iteration 10\n",
      "[INFO-wrappers_bo-03/08/2021-14:36:58] range_X:\n",
      "[[-100, 100],\n",
      "[-100, 100]]\n",
      "[INFO-wrappers_bo-03/08/2021-14:36:58] str_cov: matern52\n",
      "[INFO-wrappers_bo-03/08/2021-14:36:58] str_acq: ei\n",
      "[INFO-wrappers_bo-03/08/2021-14:36:58] str_optimizer_method_gp: BFGS\n",
      "[INFO-wrappers_bo-03/08/2021-14:36:58] str_optimizer_method_bo: L-BFGS-B\n",
      "[INFO-wrappers_bo-03/08/2021-14:36:58] str_modelselection_method: ml\n",
      "[INFO-wrappers_bo-03/08/2021-14:36:58] num_init: 10\n",
      "[INFO-wrappers_bo-03/08/2021-14:36:58] num_iter: 10\n",
      "[INFO-wrappers_bo-03/08/2021-14:36:58] str_initial_method_bo: uniform\n",
      "[INFO-wrappers_bo-03/08/2021-14:36:58] str_sampling_method_ao: uniform\n",
      "[INFO-wrappers_bo-03/08/2021-14:36:58] num_samples_ao: 100\n",
      "[INFO-wrappers_bo-03/08/2021-14:36:58] str_mlm_method: regular\n",
      "[INFO-wrappers_bo-03/08/2021-14:36:58] seed: None\n",
      "[INFO-wrappers_bo-03/08/2021-14:36:58] Iteration 1\n"
     ]
    },
    {
     "name": "stdout",
     "output_type": "stream",
     "text": [
      "BO Round 35\n"
     ]
    },
    {
     "name": "stderr",
     "output_type": "stream",
     "text": [
      "[INFO-wrappers_bo-03/08/2021-14:36:58] Iteration 2\n",
      "[INFO-wrappers_bo-03/08/2021-14:36:59] Iteration 3\n",
      "[INFO-wrappers_bo-03/08/2021-14:36:59] Iteration 4\n",
      "[INFO-wrappers_bo-03/08/2021-14:36:59] Iteration 5\n",
      "[INFO-wrappers_bo-03/08/2021-14:36:59] Iteration 6\n",
      "[INFO-wrappers_bo-03/08/2021-14:37:00] Iteration 7\n",
      "[INFO-wrappers_bo-03/08/2021-14:37:00] Iteration 8\n",
      "[INFO-wrappers_bo-03/08/2021-14:37:00] Iteration 9\n",
      "[INFO-wrappers_bo-03/08/2021-14:37:01] Iteration 10\n",
      "[INFO-wrappers_bo-03/08/2021-14:37:01] range_X:\n",
      "[[-100, 100],\n",
      "[-100, 100]]\n",
      "[INFO-wrappers_bo-03/08/2021-14:37:01] str_cov: matern52\n",
      "[INFO-wrappers_bo-03/08/2021-14:37:01] str_acq: ei\n",
      "[INFO-wrappers_bo-03/08/2021-14:37:01] str_optimizer_method_gp: BFGS\n",
      "[INFO-wrappers_bo-03/08/2021-14:37:01] str_optimizer_method_bo: L-BFGS-B\n",
      "[INFO-wrappers_bo-03/08/2021-14:37:01] str_modelselection_method: ml\n",
      "[INFO-wrappers_bo-03/08/2021-14:37:01] num_init: 10\n",
      "[INFO-wrappers_bo-03/08/2021-14:37:01] num_iter: 10\n",
      "[INFO-wrappers_bo-03/08/2021-14:37:01] str_initial_method_bo: uniform\n",
      "[INFO-wrappers_bo-03/08/2021-14:37:01] str_sampling_method_ao: uniform\n",
      "[INFO-wrappers_bo-03/08/2021-14:37:01] num_samples_ao: 100\n",
      "[INFO-wrappers_bo-03/08/2021-14:37:01] str_mlm_method: regular\n",
      "[INFO-wrappers_bo-03/08/2021-14:37:01] seed: None\n",
      "[INFO-wrappers_bo-03/08/2021-14:37:01] Iteration 1\n"
     ]
    },
    {
     "name": "stdout",
     "output_type": "stream",
     "text": [
      "BO Round 36\n"
     ]
    },
    {
     "name": "stderr",
     "output_type": "stream",
     "text": [
      "[INFO-wrappers_bo-03/08/2021-14:37:01] Iteration 2\n",
      "[INFO-wrappers_bo-03/08/2021-14:37:01] Iteration 3\n",
      "[INFO-wrappers_bo-03/08/2021-14:37:02] Iteration 4\n",
      "[INFO-wrappers_bo-03/08/2021-14:37:02] Iteration 5\n",
      "[INFO-wrappers_bo-03/08/2021-14:37:02] Iteration 6\n",
      "[INFO-wrappers_bo-03/08/2021-14:37:03] Iteration 7\n",
      "[INFO-wrappers_bo-03/08/2021-14:37:03] Iteration 8\n",
      "[INFO-wrappers_bo-03/08/2021-14:37:03] Iteration 9\n",
      "[INFO-wrappers_bo-03/08/2021-14:37:03] Iteration 10\n",
      "[INFO-wrappers_bo-03/08/2021-14:37:04] range_X:\n",
      "[[-100, 100],\n",
      "[-100, 100]]\n",
      "[INFO-wrappers_bo-03/08/2021-14:37:04] str_cov: matern52\n",
      "[INFO-wrappers_bo-03/08/2021-14:37:04] str_acq: ei\n",
      "[INFO-wrappers_bo-03/08/2021-14:37:04] str_optimizer_method_gp: BFGS\n",
      "[INFO-wrappers_bo-03/08/2021-14:37:04] str_optimizer_method_bo: L-BFGS-B\n",
      "[INFO-wrappers_bo-03/08/2021-14:37:04] str_modelselection_method: ml\n",
      "[INFO-wrappers_bo-03/08/2021-14:37:04] num_init: 10\n",
      "[INFO-wrappers_bo-03/08/2021-14:37:04] num_iter: 10\n",
      "[INFO-wrappers_bo-03/08/2021-14:37:04] str_initial_method_bo: uniform\n",
      "[INFO-wrappers_bo-03/08/2021-14:37:04] str_sampling_method_ao: uniform\n",
      "[INFO-wrappers_bo-03/08/2021-14:37:04] num_samples_ao: 100\n",
      "[INFO-wrappers_bo-03/08/2021-14:37:04] str_mlm_method: regular\n",
      "[INFO-wrappers_bo-03/08/2021-14:37:04] seed: None\n",
      "[INFO-wrappers_bo-03/08/2021-14:37:04] Iteration 1\n"
     ]
    },
    {
     "name": "stdout",
     "output_type": "stream",
     "text": [
      "BO Round 37\n"
     ]
    },
    {
     "name": "stderr",
     "output_type": "stream",
     "text": [
      "[INFO-wrappers_bo-03/08/2021-14:37:04] Iteration 2\n",
      "[INFO-wrappers_bo-03/08/2021-14:37:04] Iteration 3\n",
      "[INFO-wrappers_bo-03/08/2021-14:37:04] Iteration 4\n",
      "[INFO-wrappers_bo-03/08/2021-14:37:05] Iteration 5\n",
      "[INFO-wrappers_bo-03/08/2021-14:37:05] Iteration 6\n",
      "[INFO-wrappers_bo-03/08/2021-14:37:05] Iteration 7\n",
      "[INFO-wrappers_bo-03/08/2021-14:37:06] Iteration 8\n",
      "[INFO-wrappers_bo-03/08/2021-14:37:06] Iteration 9\n",
      "[INFO-wrappers_bo-03/08/2021-14:37:06] Iteration 10\n",
      "[INFO-wrappers_bo-03/08/2021-14:37:06] range_X:\n",
      "[[-100, 100],\n",
      "[-100, 100]]\n",
      "[INFO-wrappers_bo-03/08/2021-14:37:06] str_cov: matern52\n",
      "[INFO-wrappers_bo-03/08/2021-14:37:06] str_acq: ei\n",
      "[INFO-wrappers_bo-03/08/2021-14:37:06] str_optimizer_method_gp: BFGS\n",
      "[INFO-wrappers_bo-03/08/2021-14:37:06] str_optimizer_method_bo: L-BFGS-B\n",
      "[INFO-wrappers_bo-03/08/2021-14:37:06] str_modelselection_method: ml\n",
      "[INFO-wrappers_bo-03/08/2021-14:37:06] num_init: 10\n",
      "[INFO-wrappers_bo-03/08/2021-14:37:06] num_iter: 10\n",
      "[INFO-wrappers_bo-03/08/2021-14:37:06] str_initial_method_bo: uniform\n",
      "[INFO-wrappers_bo-03/08/2021-14:37:06] str_sampling_method_ao: uniform\n",
      "[INFO-wrappers_bo-03/08/2021-14:37:06] num_samples_ao: 100\n",
      "[INFO-wrappers_bo-03/08/2021-14:37:06] str_mlm_method: regular\n",
      "[INFO-wrappers_bo-03/08/2021-14:37:06] seed: None\n",
      "[INFO-wrappers_bo-03/08/2021-14:37:06] Iteration 1\n"
     ]
    },
    {
     "name": "stdout",
     "output_type": "stream",
     "text": [
      "BO Round 38\n"
     ]
    },
    {
     "name": "stderr",
     "output_type": "stream",
     "text": [
      "[INFO-wrappers_bo-03/08/2021-14:37:07] Iteration 2\n",
      "[INFO-wrappers_bo-03/08/2021-14:37:07] Iteration 3\n",
      "[INFO-wrappers_bo-03/08/2021-14:37:07] Iteration 4\n",
      "[INFO-wrappers_bo-03/08/2021-14:37:07] Iteration 5\n",
      "[INFO-wrappers_bo-03/08/2021-14:37:08] Iteration 6\n",
      "[INFO-wrappers_bo-03/08/2021-14:37:08] Iteration 7\n",
      "[INFO-wrappers_bo-03/08/2021-14:37:08] Iteration 8\n",
      "[INFO-wrappers_bo-03/08/2021-14:37:08] Iteration 9\n",
      "[INFO-wrappers_bo-03/08/2021-14:37:09] Iteration 10\n",
      "[INFO-wrappers_bo-03/08/2021-14:37:09] range_X:\n",
      "[[-100, 100],\n",
      "[-100, 100]]\n",
      "[INFO-wrappers_bo-03/08/2021-14:37:09] str_cov: matern52\n",
      "[INFO-wrappers_bo-03/08/2021-14:37:09] str_acq: ei\n",
      "[INFO-wrappers_bo-03/08/2021-14:37:09] str_optimizer_method_gp: BFGS\n",
      "[INFO-wrappers_bo-03/08/2021-14:37:09] str_optimizer_method_bo: L-BFGS-B\n",
      "[INFO-wrappers_bo-03/08/2021-14:37:09] str_modelselection_method: ml\n",
      "[INFO-wrappers_bo-03/08/2021-14:37:09] num_init: 10\n",
      "[INFO-wrappers_bo-03/08/2021-14:37:09] num_iter: 10\n",
      "[INFO-wrappers_bo-03/08/2021-14:37:09] str_initial_method_bo: uniform\n",
      "[INFO-wrappers_bo-03/08/2021-14:37:09] str_sampling_method_ao: uniform\n",
      "[INFO-wrappers_bo-03/08/2021-14:37:09] num_samples_ao: 100\n",
      "[INFO-wrappers_bo-03/08/2021-14:37:09] str_mlm_method: regular\n",
      "[INFO-wrappers_bo-03/08/2021-14:37:09] seed: None\n",
      "[INFO-wrappers_bo-03/08/2021-14:37:09] Iteration 1\n"
     ]
    },
    {
     "name": "stdout",
     "output_type": "stream",
     "text": [
      "BO Round 39\n"
     ]
    },
    {
     "name": "stderr",
     "output_type": "stream",
     "text": [
      "[INFO-wrappers_bo-03/08/2021-14:37:09] Iteration 2\n",
      "[INFO-wrappers_bo-03/08/2021-14:37:09] Iteration 3\n",
      "[INFO-wrappers_bo-03/08/2021-14:37:10] Iteration 4\n",
      "[INFO-wrappers_bo-03/08/2021-14:37:10] Iteration 5\n",
      "[INFO-wrappers_bo-03/08/2021-14:37:10] Iteration 6\n",
      "[INFO-wrappers_bo-03/08/2021-14:37:11] Iteration 7\n",
      "[INFO-wrappers_bo-03/08/2021-14:37:11] Iteration 8\n",
      "[INFO-wrappers_bo-03/08/2021-14:37:11] Iteration 9\n",
      "[INFO-wrappers_bo-03/08/2021-14:37:11] Iteration 10\n",
      "[INFO-wrappers_bo-03/08/2021-14:37:12] range_X:\n",
      "[[-100, 100],\n",
      "[-100, 100]]\n",
      "[INFO-wrappers_bo-03/08/2021-14:37:12] str_cov: matern52\n",
      "[INFO-wrappers_bo-03/08/2021-14:37:12] str_acq: ei\n",
      "[INFO-wrappers_bo-03/08/2021-14:37:12] str_optimizer_method_gp: BFGS\n",
      "[INFO-wrappers_bo-03/08/2021-14:37:12] str_optimizer_method_bo: L-BFGS-B\n",
      "[INFO-wrappers_bo-03/08/2021-14:37:12] str_modelselection_method: ml\n",
      "[INFO-wrappers_bo-03/08/2021-14:37:12] num_init: 10\n",
      "[INFO-wrappers_bo-03/08/2021-14:37:12] num_iter: 10\n",
      "[INFO-wrappers_bo-03/08/2021-14:37:12] str_initial_method_bo: uniform\n",
      "[INFO-wrappers_bo-03/08/2021-14:37:12] str_sampling_method_ao: uniform\n",
      "[INFO-wrappers_bo-03/08/2021-14:37:12] num_samples_ao: 100\n",
      "[INFO-wrappers_bo-03/08/2021-14:37:12] str_mlm_method: regular\n",
      "[INFO-wrappers_bo-03/08/2021-14:37:12] seed: None\n",
      "[INFO-wrappers_bo-03/08/2021-14:37:12] Iteration 1\n"
     ]
    },
    {
     "name": "stdout",
     "output_type": "stream",
     "text": [
      "BO Round 40\n"
     ]
    },
    {
     "name": "stderr",
     "output_type": "stream",
     "text": [
      "[INFO-wrappers_bo-03/08/2021-14:37:12] Iteration 2\n",
      "[INFO-wrappers_bo-03/08/2021-14:37:12] Iteration 3\n",
      "[INFO-wrappers_bo-03/08/2021-14:37:13] Iteration 4\n",
      "[INFO-wrappers_bo-03/08/2021-14:37:13] Iteration 5\n",
      "[INFO-wrappers_bo-03/08/2021-14:37:13] Iteration 6\n",
      "[INFO-wrappers_bo-03/08/2021-14:37:13] Iteration 7\n",
      "[INFO-wrappers_bo-03/08/2021-14:37:14] Iteration 8\n",
      "[INFO-wrappers_bo-03/08/2021-14:37:14] Iteration 9\n",
      "[INFO-wrappers_bo-03/08/2021-14:37:14] Iteration 10\n",
      "[INFO-wrappers_bo-03/08/2021-14:37:14] range_X:\n",
      "[[-100, 100],\n",
      "[-100, 100]]\n",
      "[INFO-wrappers_bo-03/08/2021-14:37:14] str_cov: matern52\n",
      "[INFO-wrappers_bo-03/08/2021-14:37:14] str_acq: ei\n",
      "[INFO-wrappers_bo-03/08/2021-14:37:14] str_optimizer_method_gp: BFGS\n",
      "[INFO-wrappers_bo-03/08/2021-14:37:14] str_optimizer_method_bo: L-BFGS-B\n",
      "[INFO-wrappers_bo-03/08/2021-14:37:14] str_modelselection_method: ml\n",
      "[INFO-wrappers_bo-03/08/2021-14:37:14] num_init: 10\n",
      "[INFO-wrappers_bo-03/08/2021-14:37:14] num_iter: 10\n",
      "[INFO-wrappers_bo-03/08/2021-14:37:14] str_initial_method_bo: uniform\n",
      "[INFO-wrappers_bo-03/08/2021-14:37:14] str_sampling_method_ao: uniform\n",
      "[INFO-wrappers_bo-03/08/2021-14:37:14] num_samples_ao: 100\n",
      "[INFO-wrappers_bo-03/08/2021-14:37:14] str_mlm_method: regular\n",
      "[INFO-wrappers_bo-03/08/2021-14:37:14] seed: None\n",
      "[INFO-wrappers_bo-03/08/2021-14:37:14] Iteration 1\n"
     ]
    },
    {
     "name": "stdout",
     "output_type": "stream",
     "text": [
      "BO Round 41\n"
     ]
    },
    {
     "name": "stderr",
     "output_type": "stream",
     "text": [
      "[INFO-wrappers_bo-03/08/2021-14:37:15] Iteration 2\n",
      "[INFO-wrappers_bo-03/08/2021-14:37:15] Iteration 3\n",
      "[INFO-wrappers_bo-03/08/2021-14:37:15] Iteration 4\n",
      "[INFO-wrappers_bo-03/08/2021-14:37:16] Iteration 5\n",
      "[INFO-wrappers_bo-03/08/2021-14:37:16] Iteration 6\n",
      "[INFO-wrappers_bo-03/08/2021-14:37:16] Iteration 7\n",
      "[INFO-wrappers_bo-03/08/2021-14:37:16] Iteration 8\n",
      "[INFO-wrappers_bo-03/08/2021-14:37:17] Iteration 9\n",
      "[INFO-wrappers_bo-03/08/2021-14:37:17] Iteration 10\n",
      "[INFO-wrappers_bo-03/08/2021-14:37:17] range_X:\n",
      "[[-100, 100],\n",
      "[-100, 100]]\n",
      "[INFO-wrappers_bo-03/08/2021-14:37:17] str_cov: matern52\n",
      "[INFO-wrappers_bo-03/08/2021-14:37:17] str_acq: ei\n",
      "[INFO-wrappers_bo-03/08/2021-14:37:17] str_optimizer_method_gp: BFGS\n",
      "[INFO-wrappers_bo-03/08/2021-14:37:17] str_optimizer_method_bo: L-BFGS-B\n",
      "[INFO-wrappers_bo-03/08/2021-14:37:17] str_modelselection_method: ml\n",
      "[INFO-wrappers_bo-03/08/2021-14:37:17] num_init: 10\n",
      "[INFO-wrappers_bo-03/08/2021-14:37:17] num_iter: 10\n",
      "[INFO-wrappers_bo-03/08/2021-14:37:17] str_initial_method_bo: uniform\n",
      "[INFO-wrappers_bo-03/08/2021-14:37:17] str_sampling_method_ao: uniform\n",
      "[INFO-wrappers_bo-03/08/2021-14:37:17] num_samples_ao: 100\n",
      "[INFO-wrappers_bo-03/08/2021-14:37:17] str_mlm_method: regular\n",
      "[INFO-wrappers_bo-03/08/2021-14:37:17] seed: None\n",
      "[INFO-wrappers_bo-03/08/2021-14:37:17] Iteration 1\n"
     ]
    },
    {
     "name": "stdout",
     "output_type": "stream",
     "text": [
      "BO Round 42\n"
     ]
    },
    {
     "name": "stderr",
     "output_type": "stream",
     "text": [
      "[INFO-wrappers_bo-03/08/2021-14:37:18] Iteration 2\n",
      "[INFO-wrappers_bo-03/08/2021-14:37:18] Iteration 3\n",
      "[INFO-wrappers_bo-03/08/2021-14:37:18] Iteration 4\n",
      "[INFO-wrappers_bo-03/08/2021-14:37:18] Iteration 5\n",
      "[INFO-wrappers_bo-03/08/2021-14:37:19] Iteration 6\n",
      "[INFO-wrappers_bo-03/08/2021-14:37:19] Iteration 7\n",
      "[INFO-wrappers_bo-03/08/2021-14:37:19] Iteration 8\n",
      "[INFO-wrappers_bo-03/08/2021-14:37:20] Iteration 9\n",
      "[INFO-wrappers_bo-03/08/2021-14:37:20] Iteration 10\n",
      "[INFO-wrappers_bo-03/08/2021-14:37:20] range_X:\n",
      "[[-100, 100],\n",
      "[-100, 100]]\n",
      "[INFO-wrappers_bo-03/08/2021-14:37:20] str_cov: matern52\n",
      "[INFO-wrappers_bo-03/08/2021-14:37:20] str_acq: ei\n",
      "[INFO-wrappers_bo-03/08/2021-14:37:20] str_optimizer_method_gp: BFGS\n",
      "[INFO-wrappers_bo-03/08/2021-14:37:20] str_optimizer_method_bo: L-BFGS-B\n",
      "[INFO-wrappers_bo-03/08/2021-14:37:20] str_modelselection_method: ml\n",
      "[INFO-wrappers_bo-03/08/2021-14:37:20] num_init: 10\n",
      "[INFO-wrappers_bo-03/08/2021-14:37:20] num_iter: 10\n",
      "[INFO-wrappers_bo-03/08/2021-14:37:20] str_initial_method_bo: uniform\n",
      "[INFO-wrappers_bo-03/08/2021-14:37:20] str_sampling_method_ao: uniform\n",
      "[INFO-wrappers_bo-03/08/2021-14:37:20] num_samples_ao: 100\n",
      "[INFO-wrappers_bo-03/08/2021-14:37:20] str_mlm_method: regular\n",
      "[INFO-wrappers_bo-03/08/2021-14:37:20] seed: None\n",
      "[INFO-wrappers_bo-03/08/2021-14:37:20] Iteration 1\n"
     ]
    },
    {
     "name": "stdout",
     "output_type": "stream",
     "text": [
      "BO Round 43\n"
     ]
    },
    {
     "name": "stderr",
     "output_type": "stream",
     "text": [
      "[INFO-wrappers_bo-03/08/2021-14:37:21] Iteration 2\n",
      "[INFO-wrappers_bo-03/08/2021-14:37:21] Iteration 3\n",
      "[INFO-wrappers_bo-03/08/2021-14:37:21] Iteration 4\n",
      "[INFO-wrappers_bo-03/08/2021-14:37:21] Iteration 5\n",
      "[INFO-wrappers_bo-03/08/2021-14:37:22] Iteration 6\n",
      "[INFO-wrappers_bo-03/08/2021-14:37:22] Iteration 7\n",
      "[INFO-wrappers_bo-03/08/2021-14:37:22] Iteration 8\n",
      "[INFO-wrappers_bo-03/08/2021-14:37:23] Iteration 9\n",
      "[INFO-wrappers_bo-03/08/2021-14:37:23] Iteration 10\n",
      "[INFO-wrappers_bo-03/08/2021-14:37:23] range_X:\n",
      "[[-100, 100],\n",
      "[-100, 100]]\n",
      "[INFO-wrappers_bo-03/08/2021-14:37:23] str_cov: matern52\n",
      "[INFO-wrappers_bo-03/08/2021-14:37:23] str_acq: ei\n",
      "[INFO-wrappers_bo-03/08/2021-14:37:23] str_optimizer_method_gp: BFGS\n",
      "[INFO-wrappers_bo-03/08/2021-14:37:23] str_optimizer_method_bo: L-BFGS-B\n",
      "[INFO-wrappers_bo-03/08/2021-14:37:23] str_modelselection_method: ml\n",
      "[INFO-wrappers_bo-03/08/2021-14:37:23] num_init: 10\n",
      "[INFO-wrappers_bo-03/08/2021-14:37:23] num_iter: 10\n",
      "[INFO-wrappers_bo-03/08/2021-14:37:23] str_initial_method_bo: uniform\n",
      "[INFO-wrappers_bo-03/08/2021-14:37:23] str_sampling_method_ao: uniform\n",
      "[INFO-wrappers_bo-03/08/2021-14:37:23] num_samples_ao: 100\n",
      "[INFO-wrappers_bo-03/08/2021-14:37:23] str_mlm_method: regular\n",
      "[INFO-wrappers_bo-03/08/2021-14:37:23] seed: None\n",
      "[INFO-wrappers_bo-03/08/2021-14:37:23] Iteration 1\n"
     ]
    },
    {
     "name": "stdout",
     "output_type": "stream",
     "text": [
      "BO Round 44\n"
     ]
    },
    {
     "name": "stderr",
     "output_type": "stream",
     "text": [
      "[INFO-wrappers_bo-03/08/2021-14:37:24] Iteration 2\n",
      "[INFO-wrappers_bo-03/08/2021-14:37:24] Iteration 3\n",
      "[INFO-wrappers_bo-03/08/2021-14:37:24] Iteration 4\n",
      "[INFO-wrappers_bo-03/08/2021-14:37:24] Iteration 5\n",
      "[INFO-wrappers_bo-03/08/2021-14:37:25] Iteration 6\n",
      "[INFO-wrappers_bo-03/08/2021-14:37:25] Iteration 7\n",
      "[INFO-wrappers_bo-03/08/2021-14:37:25] Iteration 8\n",
      "[INFO-wrappers_bo-03/08/2021-14:37:25] Iteration 9\n",
      "[INFO-wrappers_bo-03/08/2021-14:37:26] Iteration 10\n",
      "[INFO-wrappers_bo-03/08/2021-14:37:26] range_X:\n",
      "[[-100, 100],\n",
      "[-100, 100]]\n",
      "[INFO-wrappers_bo-03/08/2021-14:37:26] str_cov: matern52\n",
      "[INFO-wrappers_bo-03/08/2021-14:37:26] str_acq: ei\n",
      "[INFO-wrappers_bo-03/08/2021-14:37:26] str_optimizer_method_gp: BFGS\n",
      "[INFO-wrappers_bo-03/08/2021-14:37:26] str_optimizer_method_bo: L-BFGS-B\n",
      "[INFO-wrappers_bo-03/08/2021-14:37:26] str_modelselection_method: ml\n",
      "[INFO-wrappers_bo-03/08/2021-14:37:26] num_init: 10\n",
      "[INFO-wrappers_bo-03/08/2021-14:37:26] num_iter: 10\n",
      "[INFO-wrappers_bo-03/08/2021-14:37:26] str_initial_method_bo: uniform\n",
      "[INFO-wrappers_bo-03/08/2021-14:37:26] str_sampling_method_ao: uniform\n",
      "[INFO-wrappers_bo-03/08/2021-14:37:26] num_samples_ao: 100\n",
      "[INFO-wrappers_bo-03/08/2021-14:37:26] str_mlm_method: regular\n",
      "[INFO-wrappers_bo-03/08/2021-14:37:26] seed: None\n",
      "[INFO-wrappers_bo-03/08/2021-14:37:26] Iteration 1\n"
     ]
    },
    {
     "name": "stdout",
     "output_type": "stream",
     "text": [
      "BO Round 45\n"
     ]
    },
    {
     "name": "stderr",
     "output_type": "stream",
     "text": [
      "[INFO-wrappers_bo-03/08/2021-14:37:27] Iteration 2\n",
      "[INFO-wrappers_bo-03/08/2021-14:37:29] Iteration 3\n",
      "[INFO-wrappers_bo-03/08/2021-14:37:30] Iteration 4\n",
      "[INFO-wrappers_bo-03/08/2021-14:37:32] Iteration 5\n",
      "[INFO-wrappers_bo-03/08/2021-14:37:33] Iteration 6\n",
      "[INFO-wrappers_bo-03/08/2021-14:37:35] Iteration 7\n",
      "[INFO-wrappers_bo-03/08/2021-14:37:36] Iteration 8\n",
      "[INFO-wrappers_bo-03/08/2021-14:37:38] Iteration 9\n",
      "[INFO-wrappers_bo-03/08/2021-14:37:40] Iteration 10\n",
      "[INFO-wrappers_bo-03/08/2021-14:37:41] range_X:\n",
      "[[-100, 100],\n",
      "[-100, 100]]\n",
      "[INFO-wrappers_bo-03/08/2021-14:37:41] str_cov: matern52\n",
      "[INFO-wrappers_bo-03/08/2021-14:37:41] str_acq: ei\n",
      "[INFO-wrappers_bo-03/08/2021-14:37:41] str_optimizer_method_gp: BFGS\n",
      "[INFO-wrappers_bo-03/08/2021-14:37:41] str_optimizer_method_bo: L-BFGS-B\n",
      "[INFO-wrappers_bo-03/08/2021-14:37:41] str_modelselection_method: ml\n",
      "[INFO-wrappers_bo-03/08/2021-14:37:41] num_init: 10\n",
      "[INFO-wrappers_bo-03/08/2021-14:37:41] num_iter: 10\n",
      "[INFO-wrappers_bo-03/08/2021-14:37:41] str_initial_method_bo: uniform\n",
      "[INFO-wrappers_bo-03/08/2021-14:37:41] str_sampling_method_ao: uniform\n",
      "[INFO-wrappers_bo-03/08/2021-14:37:41] num_samples_ao: 100\n",
      "[INFO-wrappers_bo-03/08/2021-14:37:41] str_mlm_method: regular\n",
      "[INFO-wrappers_bo-03/08/2021-14:37:41] seed: None\n",
      "[INFO-wrappers_bo-03/08/2021-14:37:41] Iteration 1\n"
     ]
    },
    {
     "name": "stdout",
     "output_type": "stream",
     "text": [
      "BO Round 46\n"
     ]
    },
    {
     "name": "stderr",
     "output_type": "stream",
     "text": [
      "[INFO-wrappers_bo-03/08/2021-14:37:42] Iteration 2\n",
      "[INFO-wrappers_bo-03/08/2021-14:37:42] Iteration 3\n",
      "[INFO-wrappers_bo-03/08/2021-14:37:42] Iteration 4\n",
      "[INFO-wrappers_bo-03/08/2021-14:37:42] Iteration 5\n",
      "[INFO-wrappers_bo-03/08/2021-14:37:43] Iteration 6\n",
      "[INFO-wrappers_bo-03/08/2021-14:37:43] Iteration 7\n",
      "[INFO-wrappers_bo-03/08/2021-14:37:43] Iteration 8\n",
      "[INFO-wrappers_bo-03/08/2021-14:37:44] Iteration 9\n",
      "[INFO-wrappers_bo-03/08/2021-14:37:44] Iteration 10\n",
      "[INFO-wrappers_bo-03/08/2021-14:37:44] range_X:\n",
      "[[-100, 100],\n",
      "[-100, 100]]\n",
      "[INFO-wrappers_bo-03/08/2021-14:37:44] str_cov: matern52\n",
      "[INFO-wrappers_bo-03/08/2021-14:37:44] str_acq: ei\n",
      "[INFO-wrappers_bo-03/08/2021-14:37:44] str_optimizer_method_gp: BFGS\n",
      "[INFO-wrappers_bo-03/08/2021-14:37:44] str_optimizer_method_bo: L-BFGS-B\n",
      "[INFO-wrappers_bo-03/08/2021-14:37:44] str_modelselection_method: ml\n",
      "[INFO-wrappers_bo-03/08/2021-14:37:44] num_init: 10\n",
      "[INFO-wrappers_bo-03/08/2021-14:37:44] num_iter: 10\n",
      "[INFO-wrappers_bo-03/08/2021-14:37:44] str_initial_method_bo: uniform\n",
      "[INFO-wrappers_bo-03/08/2021-14:37:44] str_sampling_method_ao: uniform\n",
      "[INFO-wrappers_bo-03/08/2021-14:37:44] num_samples_ao: 100\n",
      "[INFO-wrappers_bo-03/08/2021-14:37:44] str_mlm_method: regular\n",
      "[INFO-wrappers_bo-03/08/2021-14:37:44] seed: None\n",
      "[INFO-wrappers_bo-03/08/2021-14:37:44] Iteration 1\n"
     ]
    },
    {
     "name": "stdout",
     "output_type": "stream",
     "text": [
      "BO Round 47\n"
     ]
    },
    {
     "name": "stderr",
     "output_type": "stream",
     "text": [
      "[INFO-wrappers_bo-03/08/2021-14:37:45] Iteration 2\n",
      "[INFO-wrappers_bo-03/08/2021-14:37:45] Iteration 3\n",
      "[INFO-wrappers_bo-03/08/2021-14:37:45] Iteration 4\n",
      "[INFO-wrappers_bo-03/08/2021-14:37:45] Iteration 5\n",
      "[INFO-wrappers_bo-03/08/2021-14:37:46] Iteration 6\n",
      "[INFO-wrappers_bo-03/08/2021-14:37:46] Iteration 7\n",
      "[INFO-wrappers_bo-03/08/2021-14:37:46] Iteration 8\n",
      "[INFO-wrappers_bo-03/08/2021-14:37:46] Iteration 9\n",
      "[INFO-wrappers_bo-03/08/2021-14:37:47] Iteration 10\n",
      "[INFO-wrappers_bo-03/08/2021-14:37:47] range_X:\n",
      "[[-100, 100],\n",
      "[-100, 100]]\n",
      "[INFO-wrappers_bo-03/08/2021-14:37:47] str_cov: matern52\n",
      "[INFO-wrappers_bo-03/08/2021-14:37:47] str_acq: ei\n",
      "[INFO-wrappers_bo-03/08/2021-14:37:47] str_optimizer_method_gp: BFGS\n",
      "[INFO-wrappers_bo-03/08/2021-14:37:47] str_optimizer_method_bo: L-BFGS-B\n",
      "[INFO-wrappers_bo-03/08/2021-14:37:47] str_modelselection_method: ml\n",
      "[INFO-wrappers_bo-03/08/2021-14:37:47] num_init: 10\n",
      "[INFO-wrappers_bo-03/08/2021-14:37:47] num_iter: 10\n",
      "[INFO-wrappers_bo-03/08/2021-14:37:47] str_initial_method_bo: uniform\n",
      "[INFO-wrappers_bo-03/08/2021-14:37:47] str_sampling_method_ao: uniform\n",
      "[INFO-wrappers_bo-03/08/2021-14:37:47] num_samples_ao: 100\n",
      "[INFO-wrappers_bo-03/08/2021-14:37:47] str_mlm_method: regular\n",
      "[INFO-wrappers_bo-03/08/2021-14:37:47] seed: None\n",
      "[INFO-wrappers_bo-03/08/2021-14:37:47] Iteration 1\n"
     ]
    },
    {
     "name": "stdout",
     "output_type": "stream",
     "text": [
      "BO Round 48\n"
     ]
    },
    {
     "name": "stderr",
     "output_type": "stream",
     "text": [
      "[INFO-wrappers_bo-03/08/2021-14:37:47] Iteration 2\n",
      "[INFO-wrappers_bo-03/08/2021-14:37:48] Iteration 3\n",
      "[INFO-wrappers_bo-03/08/2021-14:37:48] Iteration 4\n",
      "[INFO-wrappers_bo-03/08/2021-14:37:48] Iteration 5\n",
      "[INFO-wrappers_bo-03/08/2021-14:37:48] Iteration 6\n",
      "[INFO-wrappers_bo-03/08/2021-14:37:49] Iteration 7\n",
      "[INFO-wrappers_bo-03/08/2021-14:37:49] Iteration 8\n",
      "[INFO-wrappers_bo-03/08/2021-14:37:49] Iteration 9\n",
      "[INFO-wrappers_bo-03/08/2021-14:37:49] Iteration 10\n",
      "[INFO-wrappers_bo-03/08/2021-14:37:50] range_X:\n",
      "[[-100, 100],\n",
      "[-100, 100]]\n",
      "[INFO-wrappers_bo-03/08/2021-14:37:50] str_cov: matern52\n",
      "[INFO-wrappers_bo-03/08/2021-14:37:50] str_acq: ei\n",
      "[INFO-wrappers_bo-03/08/2021-14:37:50] str_optimizer_method_gp: BFGS\n",
      "[INFO-wrappers_bo-03/08/2021-14:37:50] str_optimizer_method_bo: L-BFGS-B\n",
      "[INFO-wrappers_bo-03/08/2021-14:37:50] str_modelselection_method: ml\n",
      "[INFO-wrappers_bo-03/08/2021-14:37:50] num_init: 10\n",
      "[INFO-wrappers_bo-03/08/2021-14:37:50] num_iter: 10\n",
      "[INFO-wrappers_bo-03/08/2021-14:37:50] str_initial_method_bo: uniform\n",
      "[INFO-wrappers_bo-03/08/2021-14:37:50] str_sampling_method_ao: uniform\n",
      "[INFO-wrappers_bo-03/08/2021-14:37:50] num_samples_ao: 100\n",
      "[INFO-wrappers_bo-03/08/2021-14:37:50] str_mlm_method: regular\n",
      "[INFO-wrappers_bo-03/08/2021-14:37:50] seed: None\n",
      "[INFO-wrappers_bo-03/08/2021-14:37:50] Iteration 1\n"
     ]
    },
    {
     "name": "stdout",
     "output_type": "stream",
     "text": [
      "BO Round 49\n"
     ]
    },
    {
     "name": "stderr",
     "output_type": "stream",
     "text": [
      "[INFO-wrappers_bo-03/08/2021-14:37:50] Iteration 2\n",
      "[INFO-wrappers_bo-03/08/2021-14:37:50] Iteration 3\n",
      "[INFO-wrappers_bo-03/08/2021-14:37:51] Iteration 4\n",
      "[INFO-wrappers_bo-03/08/2021-14:37:51] Iteration 5\n",
      "[INFO-wrappers_bo-03/08/2021-14:37:51] Iteration 6\n",
      "[INFO-wrappers_bo-03/08/2021-14:37:51] Iteration 7\n",
      "[INFO-wrappers_bo-03/08/2021-14:37:52] Iteration 8\n",
      "[INFO-wrappers_bo-03/08/2021-14:37:52] Iteration 9\n",
      "[INFO-wrappers_bo-03/08/2021-14:37:52] Iteration 10\n",
      "[INFO-wrappers_bo-03/08/2021-14:37:53] range_X:\n",
      "[[-100, 100],\n",
      "[-100, 100]]\n",
      "[INFO-wrappers_bo-03/08/2021-14:37:53] str_cov: matern52\n",
      "[INFO-wrappers_bo-03/08/2021-14:37:53] str_acq: ei\n",
      "[INFO-wrappers_bo-03/08/2021-14:37:53] str_optimizer_method_gp: BFGS\n",
      "[INFO-wrappers_bo-03/08/2021-14:37:53] str_optimizer_method_bo: L-BFGS-B\n",
      "[INFO-wrappers_bo-03/08/2021-14:37:53] str_modelselection_method: ml\n",
      "[INFO-wrappers_bo-03/08/2021-14:37:53] num_init: 10\n",
      "[INFO-wrappers_bo-03/08/2021-14:37:53] num_iter: 10\n",
      "[INFO-wrappers_bo-03/08/2021-14:37:53] str_initial_method_bo: uniform\n",
      "[INFO-wrappers_bo-03/08/2021-14:37:53] str_sampling_method_ao: uniform\n",
      "[INFO-wrappers_bo-03/08/2021-14:37:53] num_samples_ao: 100\n",
      "[INFO-wrappers_bo-03/08/2021-14:37:53] str_mlm_method: regular\n",
      "[INFO-wrappers_bo-03/08/2021-14:37:53] seed: None\n",
      "[INFO-wrappers_bo-03/08/2021-14:37:53] Iteration 1\n"
     ]
    },
    {
     "name": "stdout",
     "output_type": "stream",
     "text": [
      "BO Round 50\n"
     ]
    },
    {
     "name": "stderr",
     "output_type": "stream",
     "text": [
      "[INFO-wrappers_bo-03/08/2021-14:37:53] Iteration 2\n",
      "[INFO-wrappers_bo-03/08/2021-14:37:53] Iteration 3\n",
      "[INFO-wrappers_bo-03/08/2021-14:37:53] Iteration 4\n",
      "[INFO-wrappers_bo-03/08/2021-14:37:54] Iteration 5\n",
      "[INFO-wrappers_bo-03/08/2021-14:37:54] Iteration 6\n",
      "[INFO-wrappers_bo-03/08/2021-14:37:54] Iteration 7\n",
      "[INFO-wrappers_bo-03/08/2021-14:37:54] Iteration 8\n",
      "[INFO-wrappers_bo-03/08/2021-14:37:55] Iteration 9\n",
      "[INFO-wrappers_bo-03/08/2021-14:37:55] Iteration 10\n"
     ]
    },
    {
     "name": "stdout",
     "output_type": "stream",
     "text": [
      "-234.41610826906924\n"
     ]
    }
   ],
   "source": [
    "num_bo1 = 50\n",
    "study = bo.BO(bounds, debug=False)\n",
    "max_ = []\n",
    "for ind_bo in range(0, num_bo1):\n",
    "    print('BO Round', ind_bo + 1)\n",
    "    X_final, Y_final, time_final, _, _ = wrappers_bo.run_single_round(\n",
    "        study,func, num_init=10,num_iter=10,num_samples_ao=100)\n",
    "    x_best, target = utils_bo.get_best_acquisition_by_history(X_final, Y_final)\n",
    "    max_value = max_.append(func(x_best))\n",
    "max_value = np.min(max_)\n",
    "print(max_value)"
   ]
  },
  {
   "cell_type": "code",
   "execution_count": 12,
   "metadata": {},
   "outputs": [
    {
     "name": "stderr",
     "output_type": "stream",
     "text": [
      "[INFO-wrappers_bo-03/08/2021-16:19:57] range_X:\n",
      "[[-100, 100],\n",
      "[-100, 100]]\n",
      "[INFO-wrappers_bo-03/08/2021-16:19:57] str_cov: matern52\n",
      "[INFO-wrappers_bo-03/08/2021-16:19:57] str_acq: ei\n",
      "[INFO-wrappers_bo-03/08/2021-16:19:57] str_optimizer_method_gp: BFGS\n",
      "[INFO-wrappers_bo-03/08/2021-16:19:57] str_optimizer_method_bo: L-BFGS-B\n",
      "[INFO-wrappers_bo-03/08/2021-16:19:57] str_modelselection_method: ml\n",
      "[INFO-wrappers_bo-03/08/2021-16:19:57] num_init: 10\n",
      "[INFO-wrappers_bo-03/08/2021-16:19:57] num_iter: 10\n",
      "[INFO-wrappers_bo-03/08/2021-16:19:57] str_initial_method_bo: uniform\n",
      "[INFO-wrappers_bo-03/08/2021-16:19:57] str_sampling_method_ao: uniform\n",
      "[INFO-wrappers_bo-03/08/2021-16:19:57] num_samples_ao: 100\n",
      "[INFO-wrappers_bo-03/08/2021-16:19:57] str_mlm_method: regular\n",
      "[INFO-wrappers_bo-03/08/2021-16:19:57] seed: None\n",
      "[INFO-wrappers_bo-03/08/2021-16:19:57] Iteration 1\n"
     ]
    },
    {
     "name": "stdout",
     "output_type": "stream",
     "text": [
      "BO Round 1\n"
     ]
    },
    {
     "name": "stderr",
     "output_type": "stream",
     "text": [
      "[INFO-wrappers_bo-03/08/2021-16:19:57] Iteration 2\n",
      "[INFO-wrappers_bo-03/08/2021-16:19:57] Iteration 3\n",
      "[INFO-wrappers_bo-03/08/2021-16:19:57] Iteration 4\n",
      "[INFO-wrappers_bo-03/08/2021-16:19:58] Iteration 5\n",
      "[INFO-wrappers_bo-03/08/2021-16:19:58] Iteration 6\n",
      "[INFO-wrappers_bo-03/08/2021-16:19:58] Iteration 7\n",
      "[INFO-wrappers_bo-03/08/2021-16:19:59] Iteration 8\n",
      "[INFO-wrappers_bo-03/08/2021-16:19:59] Iteration 9\n",
      "[INFO-wrappers_bo-03/08/2021-16:19:59] Iteration 10\n",
      "[INFO-wrappers_bo-03/08/2021-16:20:00] range_X:\n",
      "[[-100, 100],\n",
      "[-100, 100]]\n",
      "[INFO-wrappers_bo-03/08/2021-16:20:00] str_cov: matern52\n",
      "[INFO-wrappers_bo-03/08/2021-16:20:00] str_acq: ei\n",
      "[INFO-wrappers_bo-03/08/2021-16:20:00] str_optimizer_method_gp: BFGS\n",
      "[INFO-wrappers_bo-03/08/2021-16:20:00] str_optimizer_method_bo: L-BFGS-B\n",
      "[INFO-wrappers_bo-03/08/2021-16:20:00] str_modelselection_method: ml\n",
      "[INFO-wrappers_bo-03/08/2021-16:20:00] num_init: 10\n",
      "[INFO-wrappers_bo-03/08/2021-16:20:00] num_iter: 10\n",
      "[INFO-wrappers_bo-03/08/2021-16:20:00] str_initial_method_bo: uniform\n",
      "[INFO-wrappers_bo-03/08/2021-16:20:00] str_sampling_method_ao: uniform\n",
      "[INFO-wrappers_bo-03/08/2021-16:20:00] num_samples_ao: 100\n",
      "[INFO-wrappers_bo-03/08/2021-16:20:00] str_mlm_method: regular\n",
      "[INFO-wrappers_bo-03/08/2021-16:20:00] seed: None\n",
      "[INFO-wrappers_bo-03/08/2021-16:20:00] Iteration 1\n"
     ]
    },
    {
     "name": "stdout",
     "output_type": "stream",
     "text": [
      "BO Round 2\n"
     ]
    },
    {
     "name": "stderr",
     "output_type": "stream",
     "text": [
      "[INFO-wrappers_bo-03/08/2021-16:20:00] Iteration 2\n",
      "[INFO-wrappers_bo-03/08/2021-16:20:00] Iteration 3\n",
      "[INFO-wrappers_bo-03/08/2021-16:20:00] Iteration 4\n",
      "[INFO-wrappers_bo-03/08/2021-16:20:01] Iteration 5\n",
      "[INFO-wrappers_bo-03/08/2021-16:20:01] Iteration 6\n",
      "[INFO-wrappers_bo-03/08/2021-16:20:01] Iteration 7\n",
      "[INFO-wrappers_bo-03/08/2021-16:20:02] Iteration 8\n",
      "[INFO-wrappers_bo-03/08/2021-16:20:02] Iteration 9\n",
      "[INFO-wrappers_bo-03/08/2021-16:20:02] Iteration 10\n",
      "[INFO-wrappers_bo-03/08/2021-16:20:03] range_X:\n",
      "[[-100, 100],\n",
      "[-100, 100]]\n",
      "[INFO-wrappers_bo-03/08/2021-16:20:03] str_cov: matern52\n",
      "[INFO-wrappers_bo-03/08/2021-16:20:03] str_acq: ei\n",
      "[INFO-wrappers_bo-03/08/2021-16:20:03] str_optimizer_method_gp: BFGS\n",
      "[INFO-wrappers_bo-03/08/2021-16:20:03] str_optimizer_method_bo: L-BFGS-B\n",
      "[INFO-wrappers_bo-03/08/2021-16:20:03] str_modelselection_method: ml\n",
      "[INFO-wrappers_bo-03/08/2021-16:20:03] num_init: 10\n",
      "[INFO-wrappers_bo-03/08/2021-16:20:03] num_iter: 10\n",
      "[INFO-wrappers_bo-03/08/2021-16:20:03] str_initial_method_bo: uniform\n",
      "[INFO-wrappers_bo-03/08/2021-16:20:03] str_sampling_method_ao: uniform\n",
      "[INFO-wrappers_bo-03/08/2021-16:20:03] num_samples_ao: 100\n",
      "[INFO-wrappers_bo-03/08/2021-16:20:03] str_mlm_method: regular\n",
      "[INFO-wrappers_bo-03/08/2021-16:20:03] seed: None\n",
      "[INFO-wrappers_bo-03/08/2021-16:20:03] Iteration 1\n"
     ]
    },
    {
     "name": "stdout",
     "output_type": "stream",
     "text": [
      "BO Round 3\n"
     ]
    },
    {
     "name": "stderr",
     "output_type": "stream",
     "text": [
      "[INFO-wrappers_bo-03/08/2021-16:20:03] Iteration 2\n",
      "[INFO-wrappers_bo-03/08/2021-16:20:03] Iteration 3\n",
      "[INFO-wrappers_bo-03/08/2021-16:20:03] Iteration 4\n",
      "[INFO-wrappers_bo-03/08/2021-16:20:04] Iteration 5\n",
      "[INFO-wrappers_bo-03/08/2021-16:20:04] Iteration 6\n",
      "[INFO-wrappers_bo-03/08/2021-16:20:04] Iteration 7\n",
      "[INFO-wrappers_bo-03/08/2021-16:20:04] Iteration 8\n",
      "[INFO-wrappers_bo-03/08/2021-16:20:05] Iteration 9\n",
      "[INFO-wrappers_bo-03/08/2021-16:20:05] Iteration 10\n",
      "[INFO-wrappers_bo-03/08/2021-16:20:05] range_X:\n",
      "[[-100, 100],\n",
      "[-100, 100]]\n",
      "[INFO-wrappers_bo-03/08/2021-16:20:05] str_cov: matern52\n",
      "[INFO-wrappers_bo-03/08/2021-16:20:05] str_acq: ei\n",
      "[INFO-wrappers_bo-03/08/2021-16:20:05] str_optimizer_method_gp: BFGS\n",
      "[INFO-wrappers_bo-03/08/2021-16:20:05] str_optimizer_method_bo: L-BFGS-B\n",
      "[INFO-wrappers_bo-03/08/2021-16:20:05] str_modelselection_method: ml\n",
      "[INFO-wrappers_bo-03/08/2021-16:20:05] num_init: 10\n",
      "[INFO-wrappers_bo-03/08/2021-16:20:05] num_iter: 10\n",
      "[INFO-wrappers_bo-03/08/2021-16:20:05] str_initial_method_bo: uniform\n",
      "[INFO-wrappers_bo-03/08/2021-16:20:05] str_sampling_method_ao: uniform\n",
      "[INFO-wrappers_bo-03/08/2021-16:20:05] num_samples_ao: 100\n",
      "[INFO-wrappers_bo-03/08/2021-16:20:05] str_mlm_method: regular\n",
      "[INFO-wrappers_bo-03/08/2021-16:20:05] seed: None\n",
      "[INFO-wrappers_bo-03/08/2021-16:20:05] Iteration 1\n"
     ]
    },
    {
     "name": "stdout",
     "output_type": "stream",
     "text": [
      "BO Round 4\n"
     ]
    },
    {
     "name": "stderr",
     "output_type": "stream",
     "text": [
      "[INFO-wrappers_bo-03/08/2021-16:20:06] Iteration 2\n",
      "[INFO-wrappers_bo-03/08/2021-16:20:06] Iteration 3\n",
      "[INFO-wrappers_bo-03/08/2021-16:20:06] Iteration 4\n",
      "[INFO-wrappers_bo-03/08/2021-16:20:06] Iteration 5\n",
      "[INFO-wrappers_bo-03/08/2021-16:20:07] Iteration 6\n",
      "[INFO-wrappers_bo-03/08/2021-16:20:07] Iteration 7\n",
      "[INFO-wrappers_bo-03/08/2021-16:20:08] Iteration 8\n",
      "[INFO-wrappers_bo-03/08/2021-16:20:08] Iteration 9\n",
      "[INFO-wrappers_bo-03/08/2021-16:20:08] Iteration 10\n",
      "[INFO-wrappers_bo-03/08/2021-16:20:08] range_X:\n",
      "[[-100, 100],\n",
      "[-100, 100]]\n",
      "[INFO-wrappers_bo-03/08/2021-16:20:08] str_cov: matern52\n",
      "[INFO-wrappers_bo-03/08/2021-16:20:08] str_acq: ei\n",
      "[INFO-wrappers_bo-03/08/2021-16:20:08] str_optimizer_method_gp: BFGS\n",
      "[INFO-wrappers_bo-03/08/2021-16:20:08] str_optimizer_method_bo: L-BFGS-B\n",
      "[INFO-wrappers_bo-03/08/2021-16:20:08] str_modelselection_method: ml\n",
      "[INFO-wrappers_bo-03/08/2021-16:20:08] num_init: 10\n",
      "[INFO-wrappers_bo-03/08/2021-16:20:08] num_iter: 10\n",
      "[INFO-wrappers_bo-03/08/2021-16:20:08] str_initial_method_bo: uniform\n",
      "[INFO-wrappers_bo-03/08/2021-16:20:08] str_sampling_method_ao: uniform\n",
      "[INFO-wrappers_bo-03/08/2021-16:20:08] num_samples_ao: 100\n",
      "[INFO-wrappers_bo-03/08/2021-16:20:08] str_mlm_method: regular\n",
      "[INFO-wrappers_bo-03/08/2021-16:20:08] seed: None\n",
      "[INFO-wrappers_bo-03/08/2021-16:20:08] Iteration 1\n"
     ]
    },
    {
     "name": "stdout",
     "output_type": "stream",
     "text": [
      "BO Round 5\n"
     ]
    },
    {
     "name": "stderr",
     "output_type": "stream",
     "text": [
      "[INFO-wrappers_bo-03/08/2021-16:20:09] Iteration 2\n",
      "[INFO-wrappers_bo-03/08/2021-16:20:09] Iteration 3\n",
      "[INFO-wrappers_bo-03/08/2021-16:20:09] Iteration 4\n",
      "[INFO-wrappers_bo-03/08/2021-16:20:10] Iteration 5\n",
      "[INFO-wrappers_bo-03/08/2021-16:20:10] Iteration 6\n",
      "[INFO-wrappers_bo-03/08/2021-16:20:10] Iteration 7\n",
      "[INFO-wrappers_bo-03/08/2021-16:20:10] Iteration 8\n",
      "[INFO-wrappers_bo-03/08/2021-16:20:11] Iteration 9\n",
      "[INFO-wrappers_bo-03/08/2021-16:20:11] Iteration 10\n",
      "[INFO-wrappers_bo-03/08/2021-16:20:11] range_X:\n",
      "[[-100, 100],\n",
      "[-100, 100]]\n",
      "[INFO-wrappers_bo-03/08/2021-16:20:11] str_cov: matern52\n",
      "[INFO-wrappers_bo-03/08/2021-16:20:11] str_acq: ei\n",
      "[INFO-wrappers_bo-03/08/2021-16:20:11] str_optimizer_method_gp: BFGS\n",
      "[INFO-wrappers_bo-03/08/2021-16:20:11] str_optimizer_method_bo: L-BFGS-B\n",
      "[INFO-wrappers_bo-03/08/2021-16:20:11] str_modelselection_method: ml\n",
      "[INFO-wrappers_bo-03/08/2021-16:20:11] num_init: 10\n",
      "[INFO-wrappers_bo-03/08/2021-16:20:11] num_iter: 10\n",
      "[INFO-wrappers_bo-03/08/2021-16:20:11] str_initial_method_bo: uniform\n",
      "[INFO-wrappers_bo-03/08/2021-16:20:11] str_sampling_method_ao: uniform\n",
      "[INFO-wrappers_bo-03/08/2021-16:20:11] num_samples_ao: 100\n",
      "[INFO-wrappers_bo-03/08/2021-16:20:11] str_mlm_method: regular\n",
      "[INFO-wrappers_bo-03/08/2021-16:20:11] seed: None\n",
      "[INFO-wrappers_bo-03/08/2021-16:20:11] Iteration 1\n"
     ]
    },
    {
     "name": "stdout",
     "output_type": "stream",
     "text": [
      "BO Round 6\n"
     ]
    },
    {
     "name": "stderr",
     "output_type": "stream",
     "text": [
      "[INFO-wrappers_bo-03/08/2021-16:20:12] Iteration 2\n",
      "[INFO-wrappers_bo-03/08/2021-16:20:12] Iteration 3\n",
      "[INFO-wrappers_bo-03/08/2021-16:20:12] Iteration 4\n",
      "[INFO-wrappers_bo-03/08/2021-16:20:12] Iteration 5\n",
      "[INFO-wrappers_bo-03/08/2021-16:20:13] Iteration 6\n",
      "[INFO-wrappers_bo-03/08/2021-16:20:13] Iteration 7\n",
      "[INFO-wrappers_bo-03/08/2021-16:20:13] Iteration 8\n",
      "[INFO-wrappers_bo-03/08/2021-16:20:14] Iteration 9\n",
      "[INFO-wrappers_bo-03/08/2021-16:20:14] Iteration 10\n",
      "[INFO-wrappers_bo-03/08/2021-16:20:14] range_X:\n",
      "[[-100, 100],\n",
      "[-100, 100]]\n",
      "[INFO-wrappers_bo-03/08/2021-16:20:14] str_cov: matern52\n",
      "[INFO-wrappers_bo-03/08/2021-16:20:14] str_acq: ei\n",
      "[INFO-wrappers_bo-03/08/2021-16:20:14] str_optimizer_method_gp: BFGS\n",
      "[INFO-wrappers_bo-03/08/2021-16:20:14] str_optimizer_method_bo: L-BFGS-B\n",
      "[INFO-wrappers_bo-03/08/2021-16:20:14] str_modelselection_method: ml\n",
      "[INFO-wrappers_bo-03/08/2021-16:20:14] num_init: 10\n",
      "[INFO-wrappers_bo-03/08/2021-16:20:14] num_iter: 10\n",
      "[INFO-wrappers_bo-03/08/2021-16:20:14] str_initial_method_bo: uniform\n",
      "[INFO-wrappers_bo-03/08/2021-16:20:14] str_sampling_method_ao: uniform\n",
      "[INFO-wrappers_bo-03/08/2021-16:20:14] num_samples_ao: 100\n",
      "[INFO-wrappers_bo-03/08/2021-16:20:14] str_mlm_method: regular\n",
      "[INFO-wrappers_bo-03/08/2021-16:20:14] seed: None\n",
      "[INFO-wrappers_bo-03/08/2021-16:20:14] Iteration 1\n"
     ]
    },
    {
     "name": "stdout",
     "output_type": "stream",
     "text": [
      "BO Round 7\n"
     ]
    },
    {
     "name": "stderr",
     "output_type": "stream",
     "text": [
      "[INFO-wrappers_bo-03/08/2021-16:20:14] Iteration 2\n",
      "[INFO-wrappers_bo-03/08/2021-16:20:15] Iteration 3\n",
      "[INFO-wrappers_bo-03/08/2021-16:20:15] Iteration 4\n",
      "[INFO-wrappers_bo-03/08/2021-16:20:15] Iteration 5\n",
      "[INFO-wrappers_bo-03/08/2021-16:20:16] Iteration 6\n",
      "[INFO-wrappers_bo-03/08/2021-16:20:16] Iteration 7\n",
      "[INFO-wrappers_bo-03/08/2021-16:20:16] Iteration 8\n",
      "[INFO-wrappers_bo-03/08/2021-16:20:17] Iteration 9\n",
      "[INFO-wrappers_bo-03/08/2021-16:20:17] Iteration 10\n",
      "[INFO-wrappers_bo-03/08/2021-16:20:17] range_X:\n",
      "[[-100, 100],\n",
      "[-100, 100]]\n",
      "[INFO-wrappers_bo-03/08/2021-16:20:17] str_cov: matern52\n",
      "[INFO-wrappers_bo-03/08/2021-16:20:17] str_acq: ei\n",
      "[INFO-wrappers_bo-03/08/2021-16:20:17] str_optimizer_method_gp: BFGS\n",
      "[INFO-wrappers_bo-03/08/2021-16:20:17] str_optimizer_method_bo: L-BFGS-B\n",
      "[INFO-wrappers_bo-03/08/2021-16:20:17] str_modelselection_method: ml\n",
      "[INFO-wrappers_bo-03/08/2021-16:20:17] num_init: 10\n",
      "[INFO-wrappers_bo-03/08/2021-16:20:17] num_iter: 10\n",
      "[INFO-wrappers_bo-03/08/2021-16:20:17] str_initial_method_bo: uniform\n",
      "[INFO-wrappers_bo-03/08/2021-16:20:17] str_sampling_method_ao: uniform\n",
      "[INFO-wrappers_bo-03/08/2021-16:20:17] num_samples_ao: 100\n",
      "[INFO-wrappers_bo-03/08/2021-16:20:17] str_mlm_method: regular\n",
      "[INFO-wrappers_bo-03/08/2021-16:20:17] seed: None\n",
      "[INFO-wrappers_bo-03/08/2021-16:20:17] Iteration 1\n"
     ]
    },
    {
     "name": "stdout",
     "output_type": "stream",
     "text": [
      "BO Round 8\n"
     ]
    },
    {
     "name": "stderr",
     "output_type": "stream",
     "text": [
      "[INFO-wrappers_bo-03/08/2021-16:20:18] Iteration 2\n",
      "[INFO-wrappers_bo-03/08/2021-16:20:18] Iteration 3\n",
      "[INFO-wrappers_bo-03/08/2021-16:20:18] Iteration 4\n",
      "[INFO-wrappers_bo-03/08/2021-16:20:18] Iteration 5\n",
      "[INFO-wrappers_bo-03/08/2021-16:20:19] Iteration 6\n",
      "[INFO-wrappers_bo-03/08/2021-16:20:19] Iteration 7\n",
      "[INFO-wrappers_bo-03/08/2021-16:20:19] Iteration 8\n",
      "[INFO-wrappers_bo-03/08/2021-16:20:20] Iteration 9\n",
      "[INFO-wrappers_bo-03/08/2021-16:20:20] Iteration 10\n",
      "[INFO-wrappers_bo-03/08/2021-16:20:20] range_X:\n",
      "[[-100, 100],\n",
      "[-100, 100]]\n",
      "[INFO-wrappers_bo-03/08/2021-16:20:20] str_cov: matern52\n",
      "[INFO-wrappers_bo-03/08/2021-16:20:20] str_acq: ei\n",
      "[INFO-wrappers_bo-03/08/2021-16:20:20] str_optimizer_method_gp: BFGS\n",
      "[INFO-wrappers_bo-03/08/2021-16:20:20] str_optimizer_method_bo: L-BFGS-B\n",
      "[INFO-wrappers_bo-03/08/2021-16:20:20] str_modelselection_method: ml\n",
      "[INFO-wrappers_bo-03/08/2021-16:20:20] num_init: 10\n",
      "[INFO-wrappers_bo-03/08/2021-16:20:20] num_iter: 10\n",
      "[INFO-wrappers_bo-03/08/2021-16:20:20] str_initial_method_bo: uniform\n",
      "[INFO-wrappers_bo-03/08/2021-16:20:20] str_sampling_method_ao: uniform\n",
      "[INFO-wrappers_bo-03/08/2021-16:20:20] num_samples_ao: 100\n",
      "[INFO-wrappers_bo-03/08/2021-16:20:20] str_mlm_method: regular\n",
      "[INFO-wrappers_bo-03/08/2021-16:20:20] seed: None\n",
      "[INFO-wrappers_bo-03/08/2021-16:20:20] Iteration 1\n"
     ]
    },
    {
     "name": "stdout",
     "output_type": "stream",
     "text": [
      "BO Round 9\n"
     ]
    },
    {
     "name": "stderr",
     "output_type": "stream",
     "text": [
      "[INFO-wrappers_bo-03/08/2021-16:20:20] Iteration 2\n",
      "[INFO-wrappers_bo-03/08/2021-16:20:21] Iteration 3\n",
      "[INFO-wrappers_bo-03/08/2021-16:20:21] Iteration 4\n",
      "[INFO-wrappers_bo-03/08/2021-16:20:21] Iteration 5\n",
      "[INFO-wrappers_bo-03/08/2021-16:20:21] Iteration 6\n",
      "[INFO-wrappers_bo-03/08/2021-16:20:22] Iteration 7\n",
      "[INFO-wrappers_bo-03/08/2021-16:20:22] Iteration 8\n",
      "[INFO-wrappers_bo-03/08/2021-16:20:22] Iteration 9\n",
      "[INFO-wrappers_bo-03/08/2021-16:20:23] Iteration 10\n",
      "[INFO-wrappers_bo-03/08/2021-16:20:23] range_X:\n",
      "[[-100, 100],\n",
      "[-100, 100]]\n",
      "[INFO-wrappers_bo-03/08/2021-16:20:23] str_cov: matern52\n",
      "[INFO-wrappers_bo-03/08/2021-16:20:23] str_acq: ei\n",
      "[INFO-wrappers_bo-03/08/2021-16:20:23] str_optimizer_method_gp: BFGS\n",
      "[INFO-wrappers_bo-03/08/2021-16:20:23] str_optimizer_method_bo: L-BFGS-B\n",
      "[INFO-wrappers_bo-03/08/2021-16:20:23] str_modelselection_method: ml\n",
      "[INFO-wrappers_bo-03/08/2021-16:20:23] num_init: 10\n",
      "[INFO-wrappers_bo-03/08/2021-16:20:23] num_iter: 10\n",
      "[INFO-wrappers_bo-03/08/2021-16:20:23] str_initial_method_bo: uniform\n",
      "[INFO-wrappers_bo-03/08/2021-16:20:23] str_sampling_method_ao: uniform\n",
      "[INFO-wrappers_bo-03/08/2021-16:20:23] num_samples_ao: 100\n",
      "[INFO-wrappers_bo-03/08/2021-16:20:23] str_mlm_method: regular\n",
      "[INFO-wrappers_bo-03/08/2021-16:20:23] seed: None\n",
      "[INFO-wrappers_bo-03/08/2021-16:20:23] Iteration 1\n"
     ]
    },
    {
     "name": "stdout",
     "output_type": "stream",
     "text": [
      "BO Round 10\n"
     ]
    },
    {
     "name": "stderr",
     "output_type": "stream",
     "text": [
      "[INFO-wrappers_bo-03/08/2021-16:20:23] Iteration 2\n",
      "[INFO-wrappers_bo-03/08/2021-16:20:23] Iteration 3\n",
      "[INFO-wrappers_bo-03/08/2021-16:20:24] Iteration 4\n",
      "[INFO-wrappers_bo-03/08/2021-16:20:24] Iteration 5\n",
      "[INFO-wrappers_bo-03/08/2021-16:20:24] Iteration 6\n",
      "[INFO-wrappers_bo-03/08/2021-16:20:24] Iteration 7\n",
      "[INFO-wrappers_bo-03/08/2021-16:20:25] Iteration 8\n",
      "[INFO-wrappers_bo-03/08/2021-16:20:25] Iteration 9\n",
      "[INFO-wrappers_bo-03/08/2021-16:20:25] Iteration 10\n",
      "[INFO-wrappers_bo-03/08/2021-16:20:26] range_X:\n",
      "[[-100, 100],\n",
      "[-100, 100]]\n",
      "[INFO-wrappers_bo-03/08/2021-16:20:26] str_cov: matern52\n",
      "[INFO-wrappers_bo-03/08/2021-16:20:26] str_acq: ei\n",
      "[INFO-wrappers_bo-03/08/2021-16:20:26] str_optimizer_method_gp: BFGS\n",
      "[INFO-wrappers_bo-03/08/2021-16:20:26] str_optimizer_method_bo: L-BFGS-B\n",
      "[INFO-wrappers_bo-03/08/2021-16:20:26] str_modelselection_method: ml\n",
      "[INFO-wrappers_bo-03/08/2021-16:20:26] num_init: 10\n",
      "[INFO-wrappers_bo-03/08/2021-16:20:26] num_iter: 10\n",
      "[INFO-wrappers_bo-03/08/2021-16:20:26] str_initial_method_bo: uniform\n",
      "[INFO-wrappers_bo-03/08/2021-16:20:26] str_sampling_method_ao: uniform\n",
      "[INFO-wrappers_bo-03/08/2021-16:20:26] num_samples_ao: 100\n",
      "[INFO-wrappers_bo-03/08/2021-16:20:26] str_mlm_method: regular\n",
      "[INFO-wrappers_bo-03/08/2021-16:20:26] seed: None\n",
      "[INFO-wrappers_bo-03/08/2021-16:20:26] Iteration 1\n"
     ]
    },
    {
     "name": "stdout",
     "output_type": "stream",
     "text": [
      "BO Round 11\n"
     ]
    },
    {
     "name": "stderr",
     "output_type": "stream",
     "text": [
      "[INFO-wrappers_bo-03/08/2021-16:20:26] Iteration 2\n",
      "[INFO-wrappers_bo-03/08/2021-16:20:26] Iteration 3\n",
      "[INFO-wrappers_bo-03/08/2021-16:20:26] Iteration 4\n",
      "[INFO-wrappers_bo-03/08/2021-16:20:27] Iteration 5\n",
      "[INFO-wrappers_bo-03/08/2021-16:20:27] Iteration 6\n",
      "[INFO-wrappers_bo-03/08/2021-16:20:27] Iteration 7\n",
      "[INFO-wrappers_bo-03/08/2021-16:20:28] Iteration 8\n",
      "[INFO-wrappers_bo-03/08/2021-16:20:28] Iteration 9\n",
      "[INFO-wrappers_bo-03/08/2021-16:20:28] Iteration 10\n",
      "[INFO-wrappers_bo-03/08/2021-16:20:29] range_X:\n",
      "[[-100, 100],\n",
      "[-100, 100]]\n",
      "[INFO-wrappers_bo-03/08/2021-16:20:29] str_cov: matern52\n",
      "[INFO-wrappers_bo-03/08/2021-16:20:29] str_acq: ei\n",
      "[INFO-wrappers_bo-03/08/2021-16:20:29] str_optimizer_method_gp: BFGS\n",
      "[INFO-wrappers_bo-03/08/2021-16:20:29] str_optimizer_method_bo: L-BFGS-B\n",
      "[INFO-wrappers_bo-03/08/2021-16:20:29] str_modelselection_method: ml\n",
      "[INFO-wrappers_bo-03/08/2021-16:20:29] num_init: 10\n",
      "[INFO-wrappers_bo-03/08/2021-16:20:29] num_iter: 10\n",
      "[INFO-wrappers_bo-03/08/2021-16:20:29] str_initial_method_bo: uniform\n",
      "[INFO-wrappers_bo-03/08/2021-16:20:29] str_sampling_method_ao: uniform\n",
      "[INFO-wrappers_bo-03/08/2021-16:20:29] num_samples_ao: 100\n",
      "[INFO-wrappers_bo-03/08/2021-16:20:29] str_mlm_method: regular\n",
      "[INFO-wrappers_bo-03/08/2021-16:20:29] seed: None\n",
      "[INFO-wrappers_bo-03/08/2021-16:20:29] Iteration 1\n"
     ]
    },
    {
     "name": "stdout",
     "output_type": "stream",
     "text": [
      "BO Round 12\n"
     ]
    },
    {
     "name": "stderr",
     "output_type": "stream",
     "text": [
      "[INFO-wrappers_bo-03/08/2021-16:20:29] Iteration 2\n",
      "[INFO-wrappers_bo-03/08/2021-16:20:29] Iteration 3\n",
      "[INFO-wrappers_bo-03/08/2021-16:20:30] Iteration 4\n",
      "[INFO-wrappers_bo-03/08/2021-16:20:30] Iteration 5\n",
      "[INFO-wrappers_bo-03/08/2021-16:20:30] Iteration 6\n",
      "[INFO-wrappers_bo-03/08/2021-16:20:31] Iteration 7\n",
      "[INFO-wrappers_bo-03/08/2021-16:20:31] Iteration 8\n",
      "[INFO-wrappers_bo-03/08/2021-16:20:32] Iteration 9\n",
      "[INFO-wrappers_bo-03/08/2021-16:20:32] Iteration 10\n",
      "[INFO-wrappers_bo-03/08/2021-16:20:33] range_X:\n",
      "[[-100, 100],\n",
      "[-100, 100]]\n",
      "[INFO-wrappers_bo-03/08/2021-16:20:33] str_cov: matern52\n",
      "[INFO-wrappers_bo-03/08/2021-16:20:33] str_acq: ei\n",
      "[INFO-wrappers_bo-03/08/2021-16:20:33] str_optimizer_method_gp: BFGS\n",
      "[INFO-wrappers_bo-03/08/2021-16:20:33] str_optimizer_method_bo: L-BFGS-B\n",
      "[INFO-wrappers_bo-03/08/2021-16:20:33] str_modelselection_method: ml\n",
      "[INFO-wrappers_bo-03/08/2021-16:20:33] num_init: 10\n",
      "[INFO-wrappers_bo-03/08/2021-16:20:33] num_iter: 10\n",
      "[INFO-wrappers_bo-03/08/2021-16:20:33] str_initial_method_bo: uniform\n",
      "[INFO-wrappers_bo-03/08/2021-16:20:33] str_sampling_method_ao: uniform\n",
      "[INFO-wrappers_bo-03/08/2021-16:20:33] num_samples_ao: 100\n",
      "[INFO-wrappers_bo-03/08/2021-16:20:33] str_mlm_method: regular\n",
      "[INFO-wrappers_bo-03/08/2021-16:20:33] seed: None\n",
      "[INFO-wrappers_bo-03/08/2021-16:20:33] Iteration 1\n"
     ]
    },
    {
     "name": "stdout",
     "output_type": "stream",
     "text": [
      "BO Round 13\n"
     ]
    },
    {
     "name": "stderr",
     "output_type": "stream",
     "text": [
      "[INFO-wrappers_bo-03/08/2021-16:20:33] Iteration 2\n",
      "[INFO-wrappers_bo-03/08/2021-16:20:33] Iteration 3\n",
      "[INFO-wrappers_bo-03/08/2021-16:20:33] Iteration 4\n",
      "[INFO-wrappers_bo-03/08/2021-16:20:34] Iteration 5\n",
      "[INFO-wrappers_bo-03/08/2021-16:20:34] Iteration 6\n",
      "[INFO-wrappers_bo-03/08/2021-16:20:34] Iteration 7\n",
      "[INFO-wrappers_bo-03/08/2021-16:20:34] Iteration 8\n",
      "[INFO-wrappers_bo-03/08/2021-16:20:35] Iteration 9\n",
      "[INFO-wrappers_bo-03/08/2021-16:20:35] Iteration 10\n",
      "[INFO-wrappers_bo-03/08/2021-16:20:35] range_X:\n",
      "[[-100, 100],\n",
      "[-100, 100]]\n",
      "[INFO-wrappers_bo-03/08/2021-16:20:35] str_cov: matern52\n",
      "[INFO-wrappers_bo-03/08/2021-16:20:35] str_acq: ei\n",
      "[INFO-wrappers_bo-03/08/2021-16:20:35] str_optimizer_method_gp: BFGS\n",
      "[INFO-wrappers_bo-03/08/2021-16:20:35] str_optimizer_method_bo: L-BFGS-B\n",
      "[INFO-wrappers_bo-03/08/2021-16:20:35] str_modelselection_method: ml\n",
      "[INFO-wrappers_bo-03/08/2021-16:20:35] num_init: 10\n",
      "[INFO-wrappers_bo-03/08/2021-16:20:35] num_iter: 10\n",
      "[INFO-wrappers_bo-03/08/2021-16:20:35] str_initial_method_bo: uniform\n",
      "[INFO-wrappers_bo-03/08/2021-16:20:35] str_sampling_method_ao: uniform\n",
      "[INFO-wrappers_bo-03/08/2021-16:20:35] num_samples_ao: 100\n",
      "[INFO-wrappers_bo-03/08/2021-16:20:35] str_mlm_method: regular\n",
      "[INFO-wrappers_bo-03/08/2021-16:20:35] seed: None\n",
      "[INFO-wrappers_bo-03/08/2021-16:20:35] Iteration 1\n"
     ]
    },
    {
     "name": "stdout",
     "output_type": "stream",
     "text": [
      "BO Round 14\n"
     ]
    },
    {
     "name": "stderr",
     "output_type": "stream",
     "text": [
      "[INFO-wrappers_bo-03/08/2021-16:20:36] Iteration 2\n",
      "[INFO-wrappers_bo-03/08/2021-16:20:36] Iteration 3\n",
      "[INFO-wrappers_bo-03/08/2021-16:20:36] Iteration 4\n",
      "[INFO-wrappers_bo-03/08/2021-16:20:36] Iteration 5\n",
      "[INFO-wrappers_bo-03/08/2021-16:20:37] Iteration 6\n",
      "[INFO-wrappers_bo-03/08/2021-16:20:37] Iteration 7\n",
      "[INFO-wrappers_bo-03/08/2021-16:20:37] Iteration 8\n",
      "[INFO-wrappers_bo-03/08/2021-16:20:38] Iteration 9\n",
      "[INFO-wrappers_bo-03/08/2021-16:20:38] Iteration 10\n",
      "[INFO-wrappers_bo-03/08/2021-16:20:38] range_X:\n",
      "[[-100, 100],\n",
      "[-100, 100]]\n",
      "[INFO-wrappers_bo-03/08/2021-16:20:38] str_cov: matern52\n",
      "[INFO-wrappers_bo-03/08/2021-16:20:38] str_acq: ei\n",
      "[INFO-wrappers_bo-03/08/2021-16:20:38] str_optimizer_method_gp: BFGS\n",
      "[INFO-wrappers_bo-03/08/2021-16:20:38] str_optimizer_method_bo: L-BFGS-B\n",
      "[INFO-wrappers_bo-03/08/2021-16:20:38] str_modelselection_method: ml\n",
      "[INFO-wrappers_bo-03/08/2021-16:20:38] num_init: 10\n",
      "[INFO-wrappers_bo-03/08/2021-16:20:38] num_iter: 10\n",
      "[INFO-wrappers_bo-03/08/2021-16:20:38] str_initial_method_bo: uniform\n",
      "[INFO-wrappers_bo-03/08/2021-16:20:38] str_sampling_method_ao: uniform\n",
      "[INFO-wrappers_bo-03/08/2021-16:20:38] num_samples_ao: 100\n",
      "[INFO-wrappers_bo-03/08/2021-16:20:38] str_mlm_method: regular\n",
      "[INFO-wrappers_bo-03/08/2021-16:20:38] seed: None\n",
      "[INFO-wrappers_bo-03/08/2021-16:20:38] Iteration 1\n"
     ]
    },
    {
     "name": "stdout",
     "output_type": "stream",
     "text": [
      "BO Round 15\n"
     ]
    },
    {
     "name": "stderr",
     "output_type": "stream",
     "text": [
      "[INFO-wrappers_bo-03/08/2021-16:20:39] Iteration 2\n",
      "[INFO-wrappers_bo-03/08/2021-16:20:39] Iteration 3\n",
      "[INFO-wrappers_bo-03/08/2021-16:20:39] Iteration 4\n",
      "[INFO-wrappers_bo-03/08/2021-16:20:39] Iteration 5\n",
      "[INFO-wrappers_bo-03/08/2021-16:20:40] Iteration 6\n",
      "[INFO-wrappers_bo-03/08/2021-16:20:40] Iteration 7\n",
      "[INFO-wrappers_bo-03/08/2021-16:20:40] Iteration 8\n",
      "[INFO-wrappers_bo-03/08/2021-16:20:41] Iteration 9\n",
      "[INFO-wrappers_bo-03/08/2021-16:20:41] Iteration 10\n",
      "[INFO-wrappers_bo-03/08/2021-16:20:41] range_X:\n",
      "[[-100, 100],\n",
      "[-100, 100]]\n",
      "[INFO-wrappers_bo-03/08/2021-16:20:41] str_cov: matern52\n",
      "[INFO-wrappers_bo-03/08/2021-16:20:41] str_acq: ei\n",
      "[INFO-wrappers_bo-03/08/2021-16:20:41] str_optimizer_method_gp: BFGS\n",
      "[INFO-wrappers_bo-03/08/2021-16:20:41] str_optimizer_method_bo: L-BFGS-B\n",
      "[INFO-wrappers_bo-03/08/2021-16:20:41] str_modelselection_method: ml\n",
      "[INFO-wrappers_bo-03/08/2021-16:20:41] num_init: 10\n",
      "[INFO-wrappers_bo-03/08/2021-16:20:41] num_iter: 10\n",
      "[INFO-wrappers_bo-03/08/2021-16:20:41] str_initial_method_bo: uniform\n",
      "[INFO-wrappers_bo-03/08/2021-16:20:41] str_sampling_method_ao: uniform\n",
      "[INFO-wrappers_bo-03/08/2021-16:20:41] num_samples_ao: 100\n",
      "[INFO-wrappers_bo-03/08/2021-16:20:41] str_mlm_method: regular\n",
      "[INFO-wrappers_bo-03/08/2021-16:20:41] seed: None\n",
      "[INFO-wrappers_bo-03/08/2021-16:20:41] Iteration 1\n"
     ]
    },
    {
     "name": "stdout",
     "output_type": "stream",
     "text": [
      "BO Round 16\n"
     ]
    },
    {
     "name": "stderr",
     "output_type": "stream",
     "text": [
      "[INFO-wrappers_bo-03/08/2021-16:20:41] Iteration 2\n",
      "[INFO-wrappers_bo-03/08/2021-16:20:42] Iteration 3\n",
      "[INFO-wrappers_bo-03/08/2021-16:20:42] Iteration 4\n",
      "[INFO-wrappers_bo-03/08/2021-16:20:42] Iteration 5\n",
      "[INFO-wrappers_bo-03/08/2021-16:20:42] Iteration 6\n",
      "[INFO-wrappers_bo-03/08/2021-16:20:43] Iteration 7\n",
      "[INFO-wrappers_bo-03/08/2021-16:20:43] Iteration 8\n",
      "[INFO-wrappers_bo-03/08/2021-16:20:43] Iteration 9\n",
      "[INFO-wrappers_bo-03/08/2021-16:20:44] Iteration 10\n",
      "[INFO-wrappers_bo-03/08/2021-16:20:44] range_X:\n",
      "[[-100, 100],\n",
      "[-100, 100]]\n",
      "[INFO-wrappers_bo-03/08/2021-16:20:44] str_cov: matern52\n",
      "[INFO-wrappers_bo-03/08/2021-16:20:44] str_acq: ei\n",
      "[INFO-wrappers_bo-03/08/2021-16:20:44] str_optimizer_method_gp: BFGS\n",
      "[INFO-wrappers_bo-03/08/2021-16:20:44] str_optimizer_method_bo: L-BFGS-B\n",
      "[INFO-wrappers_bo-03/08/2021-16:20:44] str_modelselection_method: ml\n",
      "[INFO-wrappers_bo-03/08/2021-16:20:44] num_init: 10\n",
      "[INFO-wrappers_bo-03/08/2021-16:20:44] num_iter: 10\n",
      "[INFO-wrappers_bo-03/08/2021-16:20:44] str_initial_method_bo: uniform\n",
      "[INFO-wrappers_bo-03/08/2021-16:20:44] str_sampling_method_ao: uniform\n",
      "[INFO-wrappers_bo-03/08/2021-16:20:44] num_samples_ao: 100\n",
      "[INFO-wrappers_bo-03/08/2021-16:20:44] str_mlm_method: regular\n",
      "[INFO-wrappers_bo-03/08/2021-16:20:44] seed: None\n",
      "[INFO-wrappers_bo-03/08/2021-16:20:44] Iteration 1\n"
     ]
    },
    {
     "name": "stdout",
     "output_type": "stream",
     "text": [
      "BO Round 17\n"
     ]
    },
    {
     "name": "stderr",
     "output_type": "stream",
     "text": [
      "[INFO-wrappers_bo-03/08/2021-16:20:44] Iteration 2\n",
      "[INFO-wrappers_bo-03/08/2021-16:20:45] Iteration 3\n",
      "[INFO-wrappers_bo-03/08/2021-16:20:45] Iteration 4\n",
      "[INFO-wrappers_bo-03/08/2021-16:20:45] Iteration 5\n",
      "[INFO-wrappers_bo-03/08/2021-16:20:45] Iteration 6\n",
      "[INFO-wrappers_bo-03/08/2021-16:20:46] Iteration 7\n",
      "[INFO-wrappers_bo-03/08/2021-16:20:46] Iteration 8\n",
      "[INFO-wrappers_bo-03/08/2021-16:20:46] Iteration 9\n",
      "[INFO-wrappers_bo-03/08/2021-16:20:47] Iteration 10\n",
      "[INFO-wrappers_bo-03/08/2021-16:20:47] range_X:\n",
      "[[-100, 100],\n",
      "[-100, 100]]\n",
      "[INFO-wrappers_bo-03/08/2021-16:20:47] str_cov: matern52\n",
      "[INFO-wrappers_bo-03/08/2021-16:20:47] str_acq: ei\n",
      "[INFO-wrappers_bo-03/08/2021-16:20:47] str_optimizer_method_gp: BFGS\n",
      "[INFO-wrappers_bo-03/08/2021-16:20:47] str_optimizer_method_bo: L-BFGS-B\n",
      "[INFO-wrappers_bo-03/08/2021-16:20:47] str_modelselection_method: ml\n",
      "[INFO-wrappers_bo-03/08/2021-16:20:47] num_init: 10\n",
      "[INFO-wrappers_bo-03/08/2021-16:20:47] num_iter: 10\n",
      "[INFO-wrappers_bo-03/08/2021-16:20:47] str_initial_method_bo: uniform\n",
      "[INFO-wrappers_bo-03/08/2021-16:20:47] str_sampling_method_ao: uniform\n",
      "[INFO-wrappers_bo-03/08/2021-16:20:47] num_samples_ao: 100\n",
      "[INFO-wrappers_bo-03/08/2021-16:20:47] str_mlm_method: regular\n",
      "[INFO-wrappers_bo-03/08/2021-16:20:47] seed: None\n",
      "[INFO-wrappers_bo-03/08/2021-16:20:47] Iteration 1\n"
     ]
    },
    {
     "name": "stdout",
     "output_type": "stream",
     "text": [
      "BO Round 18\n"
     ]
    },
    {
     "name": "stderr",
     "output_type": "stream",
     "text": [
      "[INFO-wrappers_bo-03/08/2021-16:20:47] Iteration 2\n",
      "[INFO-wrappers_bo-03/08/2021-16:20:47] Iteration 3\n",
      "[INFO-wrappers_bo-03/08/2021-16:20:48] Iteration 4\n",
      "[INFO-wrappers_bo-03/08/2021-16:20:48] Iteration 5\n",
      "[INFO-wrappers_bo-03/08/2021-16:20:48] Iteration 6\n",
      "[INFO-wrappers_bo-03/08/2021-16:20:48] Iteration 7\n",
      "[INFO-wrappers_bo-03/08/2021-16:20:49] Iteration 8\n",
      "[INFO-wrappers_bo-03/08/2021-16:20:49] Iteration 9\n",
      "[INFO-wrappers_bo-03/08/2021-16:20:49] Iteration 10\n",
      "[INFO-wrappers_bo-03/08/2021-16:20:49] range_X:\n",
      "[[-100, 100],\n",
      "[-100, 100]]\n",
      "[INFO-wrappers_bo-03/08/2021-16:20:49] str_cov: matern52\n",
      "[INFO-wrappers_bo-03/08/2021-16:20:49] str_acq: ei\n",
      "[INFO-wrappers_bo-03/08/2021-16:20:50] str_optimizer_method_gp: BFGS\n",
      "[INFO-wrappers_bo-03/08/2021-16:20:50] str_optimizer_method_bo: L-BFGS-B\n",
      "[INFO-wrappers_bo-03/08/2021-16:20:50] str_modelselection_method: ml\n",
      "[INFO-wrappers_bo-03/08/2021-16:20:50] num_init: 10\n",
      "[INFO-wrappers_bo-03/08/2021-16:20:50] num_iter: 10\n",
      "[INFO-wrappers_bo-03/08/2021-16:20:50] str_initial_method_bo: uniform\n",
      "[INFO-wrappers_bo-03/08/2021-16:20:50] str_sampling_method_ao: uniform\n",
      "[INFO-wrappers_bo-03/08/2021-16:20:50] num_samples_ao: 100\n",
      "[INFO-wrappers_bo-03/08/2021-16:20:50] str_mlm_method: regular\n",
      "[INFO-wrappers_bo-03/08/2021-16:20:50] seed: None\n",
      "[INFO-wrappers_bo-03/08/2021-16:20:50] Iteration 1\n"
     ]
    },
    {
     "name": "stdout",
     "output_type": "stream",
     "text": [
      "BO Round 19\n"
     ]
    },
    {
     "name": "stderr",
     "output_type": "stream",
     "text": [
      "[INFO-wrappers_bo-03/08/2021-16:20:50] Iteration 2\n",
      "[INFO-wrappers_bo-03/08/2021-16:20:50] Iteration 3\n",
      "[INFO-wrappers_bo-03/08/2021-16:20:50] Iteration 4\n",
      "[INFO-wrappers_bo-03/08/2021-16:20:51] Iteration 5\n",
      "[INFO-wrappers_bo-03/08/2021-16:20:51] Iteration 6\n",
      "[INFO-wrappers_bo-03/08/2021-16:20:51] Iteration 7\n",
      "[INFO-wrappers_bo-03/08/2021-16:20:52] Iteration 8\n",
      "[INFO-wrappers_bo-03/08/2021-16:20:52] Iteration 9\n",
      "[INFO-wrappers_bo-03/08/2021-16:20:52] Iteration 10\n",
      "[INFO-wrappers_bo-03/08/2021-16:20:52] range_X:\n",
      "[[-100, 100],\n",
      "[-100, 100]]\n",
      "[INFO-wrappers_bo-03/08/2021-16:20:52] str_cov: matern52\n",
      "[INFO-wrappers_bo-03/08/2021-16:20:52] str_acq: ei\n",
      "[INFO-wrappers_bo-03/08/2021-16:20:52] str_optimizer_method_gp: BFGS\n",
      "[INFO-wrappers_bo-03/08/2021-16:20:53] str_optimizer_method_bo: L-BFGS-B\n",
      "[INFO-wrappers_bo-03/08/2021-16:20:53] str_modelselection_method: ml\n",
      "[INFO-wrappers_bo-03/08/2021-16:20:53] num_init: 10\n",
      "[INFO-wrappers_bo-03/08/2021-16:20:53] num_iter: 10\n",
      "[INFO-wrappers_bo-03/08/2021-16:20:53] str_initial_method_bo: uniform\n",
      "[INFO-wrappers_bo-03/08/2021-16:20:53] str_sampling_method_ao: uniform\n",
      "[INFO-wrappers_bo-03/08/2021-16:20:53] num_samples_ao: 100\n",
      "[INFO-wrappers_bo-03/08/2021-16:20:53] str_mlm_method: regular\n",
      "[INFO-wrappers_bo-03/08/2021-16:20:53] seed: None\n",
      "[INFO-wrappers_bo-03/08/2021-16:20:53] Iteration 1\n"
     ]
    },
    {
     "name": "stdout",
     "output_type": "stream",
     "text": [
      "BO Round 20\n"
     ]
    },
    {
     "name": "stderr",
     "output_type": "stream",
     "text": [
      "[INFO-wrappers_bo-03/08/2021-16:20:53] Iteration 2\n",
      "[INFO-wrappers_bo-03/08/2021-16:20:53] Iteration 3\n",
      "[INFO-wrappers_bo-03/08/2021-16:20:53] Iteration 4\n",
      "[INFO-wrappers_bo-03/08/2021-16:20:54] Iteration 5\n",
      "[INFO-wrappers_bo-03/08/2021-16:20:54] Iteration 6\n",
      "[INFO-wrappers_bo-03/08/2021-16:20:54] Iteration 7\n",
      "[INFO-wrappers_bo-03/08/2021-16:20:54] Iteration 8\n",
      "[INFO-wrappers_bo-03/08/2021-16:20:55] Iteration 9\n",
      "[INFO-wrappers_bo-03/08/2021-16:20:55] Iteration 10\n",
      "[INFO-wrappers_bo-03/08/2021-16:20:55] range_X:\n",
      "[[-100, 100],\n",
      "[-100, 100]]\n",
      "[INFO-wrappers_bo-03/08/2021-16:20:55] str_cov: matern52\n",
      "[INFO-wrappers_bo-03/08/2021-16:20:55] str_acq: ei\n",
      "[INFO-wrappers_bo-03/08/2021-16:20:55] str_optimizer_method_gp: BFGS\n",
      "[INFO-wrappers_bo-03/08/2021-16:20:55] str_optimizer_method_bo: L-BFGS-B\n",
      "[INFO-wrappers_bo-03/08/2021-16:20:55] str_modelselection_method: ml\n",
      "[INFO-wrappers_bo-03/08/2021-16:20:55] num_init: 10\n",
      "[INFO-wrappers_bo-03/08/2021-16:20:55] num_iter: 10\n",
      "[INFO-wrappers_bo-03/08/2021-16:20:55] str_initial_method_bo: uniform\n",
      "[INFO-wrappers_bo-03/08/2021-16:20:55] str_sampling_method_ao: uniform\n",
      "[INFO-wrappers_bo-03/08/2021-16:20:55] num_samples_ao: 100\n",
      "[INFO-wrappers_bo-03/08/2021-16:20:55] str_mlm_method: regular\n",
      "[INFO-wrappers_bo-03/08/2021-16:20:55] seed: None\n",
      "[INFO-wrappers_bo-03/08/2021-16:20:55] Iteration 1\n"
     ]
    },
    {
     "name": "stdout",
     "output_type": "stream",
     "text": [
      "BO Round 21\n"
     ]
    },
    {
     "name": "stderr",
     "output_type": "stream",
     "text": [
      "[INFO-wrappers_bo-03/08/2021-16:20:56] Iteration 2\n",
      "[INFO-wrappers_bo-03/08/2021-16:20:56] Iteration 3\n",
      "[INFO-wrappers_bo-03/08/2021-16:20:56] Iteration 4\n",
      "[INFO-wrappers_bo-03/08/2021-16:20:56] Iteration 5\n",
      "[INFO-wrappers_bo-03/08/2021-16:20:57] Iteration 6\n",
      "[INFO-wrappers_bo-03/08/2021-16:20:57] Iteration 7\n",
      "[INFO-wrappers_bo-03/08/2021-16:20:57] Iteration 8\n",
      "[INFO-wrappers_bo-03/08/2021-16:20:57] Iteration 9\n",
      "[INFO-wrappers_bo-03/08/2021-16:20:58] Iteration 10\n",
      "[INFO-wrappers_bo-03/08/2021-16:20:58] range_X:\n",
      "[[-100, 100],\n",
      "[-100, 100]]\n",
      "[INFO-wrappers_bo-03/08/2021-16:20:58] str_cov: matern52\n",
      "[INFO-wrappers_bo-03/08/2021-16:20:58] str_acq: ei\n",
      "[INFO-wrappers_bo-03/08/2021-16:20:58] str_optimizer_method_gp: BFGS\n",
      "[INFO-wrappers_bo-03/08/2021-16:20:58] str_optimizer_method_bo: L-BFGS-B\n",
      "[INFO-wrappers_bo-03/08/2021-16:20:58] str_modelselection_method: ml\n",
      "[INFO-wrappers_bo-03/08/2021-16:20:58] num_init: 10\n",
      "[INFO-wrappers_bo-03/08/2021-16:20:58] num_iter: 10\n",
      "[INFO-wrappers_bo-03/08/2021-16:20:58] str_initial_method_bo: uniform\n",
      "[INFO-wrappers_bo-03/08/2021-16:20:58] str_sampling_method_ao: uniform\n",
      "[INFO-wrappers_bo-03/08/2021-16:20:58] num_samples_ao: 100\n",
      "[INFO-wrappers_bo-03/08/2021-16:20:58] str_mlm_method: regular\n",
      "[INFO-wrappers_bo-03/08/2021-16:20:58] seed: None\n",
      "[INFO-wrappers_bo-03/08/2021-16:20:58] Iteration 1\n"
     ]
    },
    {
     "name": "stdout",
     "output_type": "stream",
     "text": [
      "BO Round 22\n"
     ]
    },
    {
     "name": "stderr",
     "output_type": "stream",
     "text": [
      "[INFO-wrappers_bo-03/08/2021-16:20:58] Iteration 2\n",
      "[INFO-wrappers_bo-03/08/2021-16:20:59] Iteration 3\n",
      "[INFO-wrappers_bo-03/08/2021-16:20:59] Iteration 4\n",
      "[INFO-wrappers_bo-03/08/2021-16:20:59] Iteration 5\n",
      "[INFO-wrappers_bo-03/08/2021-16:20:59] Iteration 6\n",
      "[INFO-wrappers_bo-03/08/2021-16:21:00] Iteration 7\n",
      "[INFO-wrappers_bo-03/08/2021-16:21:00] Iteration 8\n",
      "[INFO-wrappers_bo-03/08/2021-16:21:00] Iteration 9\n",
      "[INFO-wrappers_bo-03/08/2021-16:21:01] Iteration 10\n",
      "[INFO-wrappers_bo-03/08/2021-16:21:01] range_X:\n",
      "[[-100, 100],\n",
      "[-100, 100]]\n",
      "[INFO-wrappers_bo-03/08/2021-16:21:01] str_cov: matern52\n",
      "[INFO-wrappers_bo-03/08/2021-16:21:01] str_acq: ei\n",
      "[INFO-wrappers_bo-03/08/2021-16:21:01] str_optimizer_method_gp: BFGS\n",
      "[INFO-wrappers_bo-03/08/2021-16:21:01] str_optimizer_method_bo: L-BFGS-B\n",
      "[INFO-wrappers_bo-03/08/2021-16:21:01] str_modelselection_method: ml\n",
      "[INFO-wrappers_bo-03/08/2021-16:21:01] num_init: 10\n",
      "[INFO-wrappers_bo-03/08/2021-16:21:01] num_iter: 10\n",
      "[INFO-wrappers_bo-03/08/2021-16:21:01] str_initial_method_bo: uniform\n",
      "[INFO-wrappers_bo-03/08/2021-16:21:01] str_sampling_method_ao: uniform\n",
      "[INFO-wrappers_bo-03/08/2021-16:21:01] num_samples_ao: 100\n",
      "[INFO-wrappers_bo-03/08/2021-16:21:01] str_mlm_method: regular\n",
      "[INFO-wrappers_bo-03/08/2021-16:21:01] seed: None\n",
      "[INFO-wrappers_bo-03/08/2021-16:21:01] Iteration 1\n"
     ]
    },
    {
     "name": "stdout",
     "output_type": "stream",
     "text": [
      "BO Round 23\n"
     ]
    },
    {
     "name": "stderr",
     "output_type": "stream",
     "text": [
      "[INFO-wrappers_bo-03/08/2021-16:21:01] Iteration 2\n",
      "[INFO-wrappers_bo-03/08/2021-16:21:02] Iteration 3\n",
      "[INFO-wrappers_bo-03/08/2021-16:21:02] Iteration 4\n",
      "[INFO-wrappers_bo-03/08/2021-16:21:02] Iteration 5\n",
      "[INFO-wrappers_bo-03/08/2021-16:21:02] Iteration 6\n",
      "[INFO-wrappers_bo-03/08/2021-16:21:02] Iteration 7\n",
      "[INFO-wrappers_bo-03/08/2021-16:21:03] Iteration 8\n",
      "[INFO-wrappers_bo-03/08/2021-16:21:03] Iteration 9\n",
      "[INFO-wrappers_bo-03/08/2021-16:21:03] Iteration 10\n",
      "[INFO-wrappers_bo-03/08/2021-16:21:04] range_X:\n",
      "[[-100, 100],\n",
      "[-100, 100]]\n",
      "[INFO-wrappers_bo-03/08/2021-16:21:04] str_cov: matern52\n",
      "[INFO-wrappers_bo-03/08/2021-16:21:04] str_acq: ei\n",
      "[INFO-wrappers_bo-03/08/2021-16:21:04] str_optimizer_method_gp: BFGS\n",
      "[INFO-wrappers_bo-03/08/2021-16:21:04] str_optimizer_method_bo: L-BFGS-B\n",
      "[INFO-wrappers_bo-03/08/2021-16:21:04] str_modelselection_method: ml\n",
      "[INFO-wrappers_bo-03/08/2021-16:21:04] num_init: 10\n",
      "[INFO-wrappers_bo-03/08/2021-16:21:04] num_iter: 10\n",
      "[INFO-wrappers_bo-03/08/2021-16:21:04] str_initial_method_bo: uniform\n",
      "[INFO-wrappers_bo-03/08/2021-16:21:04] str_sampling_method_ao: uniform\n",
      "[INFO-wrappers_bo-03/08/2021-16:21:04] num_samples_ao: 100\n",
      "[INFO-wrappers_bo-03/08/2021-16:21:04] str_mlm_method: regular\n",
      "[INFO-wrappers_bo-03/08/2021-16:21:04] seed: None\n",
      "[INFO-wrappers_bo-03/08/2021-16:21:04] Iteration 1\n"
     ]
    },
    {
     "name": "stdout",
     "output_type": "stream",
     "text": [
      "BO Round 24\n"
     ]
    },
    {
     "name": "stderr",
     "output_type": "stream",
     "text": [
      "[INFO-wrappers_bo-03/08/2021-16:21:04] Iteration 2\n",
      "[INFO-wrappers_bo-03/08/2021-16:21:04] Iteration 3\n",
      "[INFO-wrappers_bo-03/08/2021-16:21:05] Iteration 4\n",
      "[INFO-wrappers_bo-03/08/2021-16:21:05] Iteration 5\n",
      "[INFO-wrappers_bo-03/08/2021-16:21:05] Iteration 6\n",
      "[INFO-wrappers_bo-03/08/2021-16:21:05] Iteration 7\n",
      "[INFO-wrappers_bo-03/08/2021-16:21:06] Iteration 8\n",
      "[INFO-wrappers_bo-03/08/2021-16:21:06] Iteration 9\n",
      "[INFO-wrappers_bo-03/08/2021-16:21:06] Iteration 10\n",
      "[INFO-wrappers_bo-03/08/2021-16:21:07] range_X:\n",
      "[[-100, 100],\n",
      "[-100, 100]]\n",
      "[INFO-wrappers_bo-03/08/2021-16:21:07] str_cov: matern52\n",
      "[INFO-wrappers_bo-03/08/2021-16:21:07] str_acq: ei\n",
      "[INFO-wrappers_bo-03/08/2021-16:21:07] str_optimizer_method_gp: BFGS\n",
      "[INFO-wrappers_bo-03/08/2021-16:21:07] str_optimizer_method_bo: L-BFGS-B\n",
      "[INFO-wrappers_bo-03/08/2021-16:21:07] str_modelselection_method: ml\n",
      "[INFO-wrappers_bo-03/08/2021-16:21:07] num_init: 10\n",
      "[INFO-wrappers_bo-03/08/2021-16:21:07] num_iter: 10\n",
      "[INFO-wrappers_bo-03/08/2021-16:21:07] str_initial_method_bo: uniform\n",
      "[INFO-wrappers_bo-03/08/2021-16:21:07] str_sampling_method_ao: uniform\n",
      "[INFO-wrappers_bo-03/08/2021-16:21:07] num_samples_ao: 100\n",
      "[INFO-wrappers_bo-03/08/2021-16:21:07] str_mlm_method: regular\n",
      "[INFO-wrappers_bo-03/08/2021-16:21:07] seed: None\n",
      "[INFO-wrappers_bo-03/08/2021-16:21:07] Iteration 1\n"
     ]
    },
    {
     "name": "stdout",
     "output_type": "stream",
     "text": [
      "BO Round 25\n"
     ]
    },
    {
     "name": "stderr",
     "output_type": "stream",
     "text": [
      "[INFO-wrappers_bo-03/08/2021-16:21:07] Iteration 2\n",
      "[INFO-wrappers_bo-03/08/2021-16:21:07] Iteration 3\n",
      "[INFO-wrappers_bo-03/08/2021-16:21:08] Iteration 4\n",
      "[INFO-wrappers_bo-03/08/2021-16:21:08] Iteration 5\n",
      "[INFO-wrappers_bo-03/08/2021-16:21:08] Iteration 6\n",
      "[INFO-wrappers_bo-03/08/2021-16:21:09] Iteration 7\n",
      "[INFO-wrappers_bo-03/08/2021-16:21:09] Iteration 8\n",
      "[INFO-wrappers_bo-03/08/2021-16:21:09] Iteration 9\n",
      "[INFO-wrappers_bo-03/08/2021-16:21:10] Iteration 10\n",
      "[INFO-wrappers_bo-03/08/2021-16:21:10] range_X:\n",
      "[[-100, 100],\n",
      "[-100, 100]]\n",
      "[INFO-wrappers_bo-03/08/2021-16:21:10] str_cov: matern52\n",
      "[INFO-wrappers_bo-03/08/2021-16:21:10] str_acq: ei\n",
      "[INFO-wrappers_bo-03/08/2021-16:21:10] str_optimizer_method_gp: BFGS\n",
      "[INFO-wrappers_bo-03/08/2021-16:21:10] str_optimizer_method_bo: L-BFGS-B\n",
      "[INFO-wrappers_bo-03/08/2021-16:21:10] str_modelselection_method: ml\n",
      "[INFO-wrappers_bo-03/08/2021-16:21:10] num_init: 10\n",
      "[INFO-wrappers_bo-03/08/2021-16:21:10] num_iter: 10\n",
      "[INFO-wrappers_bo-03/08/2021-16:21:10] str_initial_method_bo: uniform\n",
      "[INFO-wrappers_bo-03/08/2021-16:21:10] str_sampling_method_ao: uniform\n",
      "[INFO-wrappers_bo-03/08/2021-16:21:10] num_samples_ao: 100\n",
      "[INFO-wrappers_bo-03/08/2021-16:21:10] str_mlm_method: regular\n",
      "[INFO-wrappers_bo-03/08/2021-16:21:10] seed: None\n",
      "[INFO-wrappers_bo-03/08/2021-16:21:10] Iteration 1\n"
     ]
    },
    {
     "name": "stdout",
     "output_type": "stream",
     "text": [
      "BO Round 26\n"
     ]
    },
    {
     "name": "stderr",
     "output_type": "stream",
     "text": [
      "[INFO-wrappers_bo-03/08/2021-16:21:10] Iteration 2\n",
      "[INFO-wrappers_bo-03/08/2021-16:21:11] Iteration 3\n",
      "[INFO-wrappers_bo-03/08/2021-16:21:11] Iteration 4\n",
      "[INFO-wrappers_bo-03/08/2021-16:21:11] Iteration 5\n",
      "[INFO-wrappers_bo-03/08/2021-16:21:11] Iteration 6\n",
      "[INFO-wrappers_bo-03/08/2021-16:21:12] Iteration 7\n",
      "[INFO-wrappers_bo-03/08/2021-16:21:12] Iteration 8\n",
      "[INFO-wrappers_bo-03/08/2021-16:21:12] Iteration 9\n",
      "[INFO-wrappers_bo-03/08/2021-16:21:13] Iteration 10\n",
      "[INFO-wrappers_bo-03/08/2021-16:21:13] range_X:\n",
      "[[-100, 100],\n",
      "[-100, 100]]\n",
      "[INFO-wrappers_bo-03/08/2021-16:21:13] str_cov: matern52\n",
      "[INFO-wrappers_bo-03/08/2021-16:21:13] str_acq: ei\n",
      "[INFO-wrappers_bo-03/08/2021-16:21:13] str_optimizer_method_gp: BFGS\n",
      "[INFO-wrappers_bo-03/08/2021-16:21:13] str_optimizer_method_bo: L-BFGS-B\n",
      "[INFO-wrappers_bo-03/08/2021-16:21:13] str_modelselection_method: ml\n",
      "[INFO-wrappers_bo-03/08/2021-16:21:13] num_init: 10\n",
      "[INFO-wrappers_bo-03/08/2021-16:21:13] num_iter: 10\n",
      "[INFO-wrappers_bo-03/08/2021-16:21:13] str_initial_method_bo: uniform\n",
      "[INFO-wrappers_bo-03/08/2021-16:21:13] str_sampling_method_ao: uniform\n",
      "[INFO-wrappers_bo-03/08/2021-16:21:13] num_samples_ao: 100\n",
      "[INFO-wrappers_bo-03/08/2021-16:21:13] str_mlm_method: regular\n",
      "[INFO-wrappers_bo-03/08/2021-16:21:13] seed: None\n",
      "[INFO-wrappers_bo-03/08/2021-16:21:13] Iteration 1\n"
     ]
    },
    {
     "name": "stdout",
     "output_type": "stream",
     "text": [
      "BO Round 27\n"
     ]
    },
    {
     "name": "stderr",
     "output_type": "stream",
     "text": [
      "[INFO-wrappers_bo-03/08/2021-16:21:13] Iteration 2\n",
      "[INFO-wrappers_bo-03/08/2021-16:21:13] Iteration 3\n",
      "[INFO-wrappers_bo-03/08/2021-16:21:14] Iteration 4\n",
      "[INFO-wrappers_bo-03/08/2021-16:21:14] Iteration 5\n",
      "[INFO-wrappers_bo-03/08/2021-16:21:14] Iteration 6\n",
      "[INFO-wrappers_bo-03/08/2021-16:21:14] Iteration 7\n",
      "[INFO-wrappers_bo-03/08/2021-16:21:15] Iteration 8\n",
      "[INFO-wrappers_bo-03/08/2021-16:21:15] Iteration 9\n",
      "[INFO-wrappers_bo-03/08/2021-16:21:15] Iteration 10\n",
      "[INFO-wrappers_bo-03/08/2021-16:21:16] range_X:\n",
      "[[-100, 100],\n",
      "[-100, 100]]\n",
      "[INFO-wrappers_bo-03/08/2021-16:21:16] str_cov: matern52\n",
      "[INFO-wrappers_bo-03/08/2021-16:21:16] str_acq: ei\n",
      "[INFO-wrappers_bo-03/08/2021-16:21:16] str_optimizer_method_gp: BFGS\n",
      "[INFO-wrappers_bo-03/08/2021-16:21:16] str_optimizer_method_bo: L-BFGS-B\n",
      "[INFO-wrappers_bo-03/08/2021-16:21:16] str_modelselection_method: ml\n",
      "[INFO-wrappers_bo-03/08/2021-16:21:16] num_init: 10\n",
      "[INFO-wrappers_bo-03/08/2021-16:21:16] num_iter: 10\n",
      "[INFO-wrappers_bo-03/08/2021-16:21:16] str_initial_method_bo: uniform\n",
      "[INFO-wrappers_bo-03/08/2021-16:21:16] str_sampling_method_ao: uniform\n",
      "[INFO-wrappers_bo-03/08/2021-16:21:16] num_samples_ao: 100\n",
      "[INFO-wrappers_bo-03/08/2021-16:21:16] str_mlm_method: regular\n",
      "[INFO-wrappers_bo-03/08/2021-16:21:16] seed: None\n",
      "[INFO-wrappers_bo-03/08/2021-16:21:16] Iteration 1\n"
     ]
    },
    {
     "name": "stdout",
     "output_type": "stream",
     "text": [
      "BO Round 28\n"
     ]
    },
    {
     "name": "stderr",
     "output_type": "stream",
     "text": [
      "[INFO-wrappers_bo-03/08/2021-16:21:16] Iteration 2\n",
      "[INFO-wrappers_bo-03/08/2021-16:21:16] Iteration 3\n",
      "[INFO-wrappers_bo-03/08/2021-16:21:17] Iteration 4\n",
      "[INFO-wrappers_bo-03/08/2021-16:21:17] Iteration 5\n",
      "[INFO-wrappers_bo-03/08/2021-16:21:17] Iteration 6\n",
      "[INFO-wrappers_bo-03/08/2021-16:21:17] Iteration 7\n",
      "[INFO-wrappers_bo-03/08/2021-16:21:18] Iteration 8\n",
      "[INFO-wrappers_bo-03/08/2021-16:21:18] Iteration 9\n",
      "[INFO-wrappers_bo-03/08/2021-16:21:18] Iteration 10\n",
      "[INFO-wrappers_bo-03/08/2021-16:21:19] range_X:\n",
      "[[-100, 100],\n",
      "[-100, 100]]\n",
      "[INFO-wrappers_bo-03/08/2021-16:21:19] str_cov: matern52\n",
      "[INFO-wrappers_bo-03/08/2021-16:21:19] str_acq: ei\n",
      "[INFO-wrappers_bo-03/08/2021-16:21:19] str_optimizer_method_gp: BFGS\n",
      "[INFO-wrappers_bo-03/08/2021-16:21:19] str_optimizer_method_bo: L-BFGS-B\n",
      "[INFO-wrappers_bo-03/08/2021-16:21:19] str_modelselection_method: ml\n",
      "[INFO-wrappers_bo-03/08/2021-16:21:19] num_init: 10\n",
      "[INFO-wrappers_bo-03/08/2021-16:21:19] num_iter: 10\n",
      "[INFO-wrappers_bo-03/08/2021-16:21:19] str_initial_method_bo: uniform\n",
      "[INFO-wrappers_bo-03/08/2021-16:21:19] str_sampling_method_ao: uniform\n",
      "[INFO-wrappers_bo-03/08/2021-16:21:19] num_samples_ao: 100\n",
      "[INFO-wrappers_bo-03/08/2021-16:21:19] str_mlm_method: regular\n",
      "[INFO-wrappers_bo-03/08/2021-16:21:19] seed: None\n",
      "[INFO-wrappers_bo-03/08/2021-16:21:19] Iteration 1\n"
     ]
    },
    {
     "name": "stdout",
     "output_type": "stream",
     "text": [
      "BO Round 29\n"
     ]
    },
    {
     "name": "stderr",
     "output_type": "stream",
     "text": [
      "[INFO-wrappers_bo-03/08/2021-16:21:19] Iteration 2\n",
      "[INFO-wrappers_bo-03/08/2021-16:21:19] Iteration 3\n",
      "[INFO-wrappers_bo-03/08/2021-16:21:20] Iteration 4\n",
      "[INFO-wrappers_bo-03/08/2021-16:21:20] Iteration 5\n",
      "[INFO-wrappers_bo-03/08/2021-16:21:20] Iteration 6\n",
      "[INFO-wrappers_bo-03/08/2021-16:21:20] Iteration 7\n",
      "[INFO-wrappers_bo-03/08/2021-16:21:21] Iteration 8\n",
      "[INFO-wrappers_bo-03/08/2021-16:21:21] Iteration 9\n",
      "[INFO-wrappers_bo-03/08/2021-16:21:21] Iteration 10\n",
      "[INFO-wrappers_bo-03/08/2021-16:21:22] range_X:\n",
      "[[-100, 100],\n",
      "[-100, 100]]\n",
      "[INFO-wrappers_bo-03/08/2021-16:21:22] str_cov: matern52\n",
      "[INFO-wrappers_bo-03/08/2021-16:21:22] str_acq: ei\n",
      "[INFO-wrappers_bo-03/08/2021-16:21:22] str_optimizer_method_gp: BFGS\n",
      "[INFO-wrappers_bo-03/08/2021-16:21:22] str_optimizer_method_bo: L-BFGS-B\n",
      "[INFO-wrappers_bo-03/08/2021-16:21:22] str_modelselection_method: ml\n",
      "[INFO-wrappers_bo-03/08/2021-16:21:22] num_init: 10\n",
      "[INFO-wrappers_bo-03/08/2021-16:21:22] num_iter: 10\n",
      "[INFO-wrappers_bo-03/08/2021-16:21:22] str_initial_method_bo: uniform\n",
      "[INFO-wrappers_bo-03/08/2021-16:21:22] str_sampling_method_ao: uniform\n",
      "[INFO-wrappers_bo-03/08/2021-16:21:22] num_samples_ao: 100\n",
      "[INFO-wrappers_bo-03/08/2021-16:21:22] str_mlm_method: regular\n",
      "[INFO-wrappers_bo-03/08/2021-16:21:22] seed: None\n",
      "[INFO-wrappers_bo-03/08/2021-16:21:22] Iteration 1\n"
     ]
    },
    {
     "name": "stdout",
     "output_type": "stream",
     "text": [
      "BO Round 30\n"
     ]
    },
    {
     "name": "stderr",
     "output_type": "stream",
     "text": [
      "[INFO-wrappers_bo-03/08/2021-16:21:22] Iteration 2\n",
      "[INFO-wrappers_bo-03/08/2021-16:21:22] Iteration 3\n",
      "[INFO-wrappers_bo-03/08/2021-16:21:22] Iteration 4\n",
      "[INFO-wrappers_bo-03/08/2021-16:21:23] Iteration 5\n",
      "[INFO-wrappers_bo-03/08/2021-16:21:23] Iteration 6\n",
      "[INFO-wrappers_bo-03/08/2021-16:21:23] Iteration 7\n",
      "[INFO-wrappers_bo-03/08/2021-16:21:23] Iteration 8\n",
      "[INFO-wrappers_bo-03/08/2021-16:21:24] Iteration 9\n",
      "[INFO-wrappers_bo-03/08/2021-16:21:24] Iteration 10\n",
      "[INFO-wrappers_bo-03/08/2021-16:21:24] range_X:\n",
      "[[-100, 100],\n",
      "[-100, 100]]\n",
      "[INFO-wrappers_bo-03/08/2021-16:21:24] str_cov: matern52\n",
      "[INFO-wrappers_bo-03/08/2021-16:21:24] str_acq: ei\n",
      "[INFO-wrappers_bo-03/08/2021-16:21:24] str_optimizer_method_gp: BFGS\n",
      "[INFO-wrappers_bo-03/08/2021-16:21:24] str_optimizer_method_bo: L-BFGS-B\n",
      "[INFO-wrappers_bo-03/08/2021-16:21:24] str_modelselection_method: ml\n",
      "[INFO-wrappers_bo-03/08/2021-16:21:24] num_init: 10\n",
      "[INFO-wrappers_bo-03/08/2021-16:21:24] num_iter: 10\n",
      "[INFO-wrappers_bo-03/08/2021-16:21:24] str_initial_method_bo: uniform\n",
      "[INFO-wrappers_bo-03/08/2021-16:21:24] str_sampling_method_ao: uniform\n",
      "[INFO-wrappers_bo-03/08/2021-16:21:24] num_samples_ao: 100\n",
      "[INFO-wrappers_bo-03/08/2021-16:21:24] str_mlm_method: regular\n",
      "[INFO-wrappers_bo-03/08/2021-16:21:24] seed: None\n",
      "[INFO-wrappers_bo-03/08/2021-16:21:24] Iteration 1\n"
     ]
    },
    {
     "name": "stdout",
     "output_type": "stream",
     "text": [
      "BO Round 31\n"
     ]
    },
    {
     "name": "stderr",
     "output_type": "stream",
     "text": [
      "[INFO-wrappers_bo-03/08/2021-16:21:25] Iteration 2\n",
      "[INFO-wrappers_bo-03/08/2021-16:21:25] Iteration 3\n",
      "[INFO-wrappers_bo-03/08/2021-16:21:25] Iteration 4\n",
      "[INFO-wrappers_bo-03/08/2021-16:21:26] Iteration 5\n",
      "[INFO-wrappers_bo-03/08/2021-16:21:26] Iteration 6\n",
      "[INFO-wrappers_bo-03/08/2021-16:21:26] Iteration 7\n",
      "[INFO-wrappers_bo-03/08/2021-16:21:26] Iteration 8\n",
      "[INFO-wrappers_bo-03/08/2021-16:21:27] Iteration 9\n",
      "[INFO-wrappers_bo-03/08/2021-16:21:27] Iteration 10\n",
      "[INFO-wrappers_bo-03/08/2021-16:21:27] range_X:\n",
      "[[-100, 100],\n",
      "[-100, 100]]\n",
      "[INFO-wrappers_bo-03/08/2021-16:21:27] str_cov: matern52\n",
      "[INFO-wrappers_bo-03/08/2021-16:21:27] str_acq: ei\n",
      "[INFO-wrappers_bo-03/08/2021-16:21:27] str_optimizer_method_gp: BFGS\n",
      "[INFO-wrappers_bo-03/08/2021-16:21:27] str_optimizer_method_bo: L-BFGS-B\n",
      "[INFO-wrappers_bo-03/08/2021-16:21:27] str_modelselection_method: ml\n",
      "[INFO-wrappers_bo-03/08/2021-16:21:27] num_init: 10\n",
      "[INFO-wrappers_bo-03/08/2021-16:21:27] num_iter: 10\n",
      "[INFO-wrappers_bo-03/08/2021-16:21:27] str_initial_method_bo: uniform\n",
      "[INFO-wrappers_bo-03/08/2021-16:21:27] str_sampling_method_ao: uniform\n",
      "[INFO-wrappers_bo-03/08/2021-16:21:27] num_samples_ao: 100\n",
      "[INFO-wrappers_bo-03/08/2021-16:21:27] str_mlm_method: regular\n",
      "[INFO-wrappers_bo-03/08/2021-16:21:27] seed: None\n",
      "[INFO-wrappers_bo-03/08/2021-16:21:27] Iteration 1\n"
     ]
    },
    {
     "name": "stdout",
     "output_type": "stream",
     "text": [
      "BO Round 32\n"
     ]
    },
    {
     "name": "stderr",
     "output_type": "stream",
     "text": [
      "[INFO-wrappers_bo-03/08/2021-16:21:28] Iteration 2\n",
      "[INFO-wrappers_bo-03/08/2021-16:21:28] Iteration 3\n",
      "[INFO-wrappers_bo-03/08/2021-16:21:28] Iteration 4\n",
      "[INFO-wrappers_bo-03/08/2021-16:21:28] Iteration 5\n",
      "[INFO-wrappers_bo-03/08/2021-16:21:29] Iteration 6\n",
      "[INFO-wrappers_bo-03/08/2021-16:21:29] Iteration 7\n",
      "[INFO-wrappers_bo-03/08/2021-16:21:29] Iteration 8\n",
      "[INFO-wrappers_bo-03/08/2021-16:21:30] Iteration 9\n",
      "[INFO-wrappers_bo-03/08/2021-16:21:30] Iteration 10\n",
      "[INFO-wrappers_bo-03/08/2021-16:21:30] range_X:\n",
      "[[-100, 100],\n",
      "[-100, 100]]\n",
      "[INFO-wrappers_bo-03/08/2021-16:21:30] str_cov: matern52\n",
      "[INFO-wrappers_bo-03/08/2021-16:21:30] str_acq: ei\n",
      "[INFO-wrappers_bo-03/08/2021-16:21:30] str_optimizer_method_gp: BFGS\n",
      "[INFO-wrappers_bo-03/08/2021-16:21:30] str_optimizer_method_bo: L-BFGS-B\n",
      "[INFO-wrappers_bo-03/08/2021-16:21:30] str_modelselection_method: ml\n",
      "[INFO-wrappers_bo-03/08/2021-16:21:30] num_init: 10\n",
      "[INFO-wrappers_bo-03/08/2021-16:21:30] num_iter: 10\n",
      "[INFO-wrappers_bo-03/08/2021-16:21:30] str_initial_method_bo: uniform\n",
      "[INFO-wrappers_bo-03/08/2021-16:21:30] str_sampling_method_ao: uniform\n",
      "[INFO-wrappers_bo-03/08/2021-16:21:30] num_samples_ao: 100\n",
      "[INFO-wrappers_bo-03/08/2021-16:21:30] str_mlm_method: regular\n",
      "[INFO-wrappers_bo-03/08/2021-16:21:30] seed: None\n",
      "[INFO-wrappers_bo-03/08/2021-16:21:30] Iteration 1\n"
     ]
    },
    {
     "name": "stdout",
     "output_type": "stream",
     "text": [
      "BO Round 33\n"
     ]
    },
    {
     "name": "stderr",
     "output_type": "stream",
     "text": [
      "[INFO-wrappers_bo-03/08/2021-16:21:30] Iteration 2\n",
      "[INFO-wrappers_bo-03/08/2021-16:21:31] Iteration 3\n",
      "[INFO-wrappers_bo-03/08/2021-16:21:31] Iteration 4\n",
      "[INFO-wrappers_bo-03/08/2021-16:21:31] Iteration 5\n",
      "[INFO-wrappers_bo-03/08/2021-16:21:31] Iteration 6\n",
      "[INFO-wrappers_bo-03/08/2021-16:21:32] Iteration 7\n",
      "[INFO-wrappers_bo-03/08/2021-16:21:32] Iteration 8\n",
      "[INFO-wrappers_bo-03/08/2021-16:21:32] Iteration 9\n",
      "[INFO-wrappers_bo-03/08/2021-16:21:32] Iteration 10\n",
      "[INFO-wrappers_bo-03/08/2021-16:21:33] range_X:\n",
      "[[-100, 100],\n",
      "[-100, 100]]\n",
      "[INFO-wrappers_bo-03/08/2021-16:21:33] str_cov: matern52\n",
      "[INFO-wrappers_bo-03/08/2021-16:21:33] str_acq: ei\n",
      "[INFO-wrappers_bo-03/08/2021-16:21:33] str_optimizer_method_gp: BFGS\n",
      "[INFO-wrappers_bo-03/08/2021-16:21:33] str_optimizer_method_bo: L-BFGS-B\n",
      "[INFO-wrappers_bo-03/08/2021-16:21:33] str_modelselection_method: ml\n",
      "[INFO-wrappers_bo-03/08/2021-16:21:33] num_init: 10\n",
      "[INFO-wrappers_bo-03/08/2021-16:21:33] num_iter: 10\n",
      "[INFO-wrappers_bo-03/08/2021-16:21:33] str_initial_method_bo: uniform\n",
      "[INFO-wrappers_bo-03/08/2021-16:21:33] str_sampling_method_ao: uniform\n",
      "[INFO-wrappers_bo-03/08/2021-16:21:33] num_samples_ao: 100\n",
      "[INFO-wrappers_bo-03/08/2021-16:21:33] str_mlm_method: regular\n",
      "[INFO-wrappers_bo-03/08/2021-16:21:33] seed: None\n",
      "[INFO-wrappers_bo-03/08/2021-16:21:33] Iteration 1\n"
     ]
    },
    {
     "name": "stdout",
     "output_type": "stream",
     "text": [
      "BO Round 34\n"
     ]
    },
    {
     "name": "stderr",
     "output_type": "stream",
     "text": [
      "[INFO-wrappers_bo-03/08/2021-16:21:33] Iteration 2\n",
      "[INFO-wrappers_bo-03/08/2021-16:21:33] Iteration 3\n",
      "[INFO-wrappers_bo-03/08/2021-16:21:33] Iteration 4\n",
      "[INFO-wrappers_bo-03/08/2021-16:21:34] Iteration 5\n",
      "[INFO-wrappers_bo-03/08/2021-16:21:34] Iteration 6\n",
      "[INFO-wrappers_bo-03/08/2021-16:21:34] Iteration 7\n",
      "[INFO-wrappers_bo-03/08/2021-16:21:34] Iteration 8\n",
      "[INFO-wrappers_bo-03/08/2021-16:21:35] Iteration 9\n",
      "[INFO-wrappers_bo-03/08/2021-16:21:35] Iteration 10\n",
      "[INFO-wrappers_bo-03/08/2021-16:21:35] range_X:\n",
      "[[-100, 100],\n",
      "[-100, 100]]\n",
      "[INFO-wrappers_bo-03/08/2021-16:21:35] str_cov: matern52\n",
      "[INFO-wrappers_bo-03/08/2021-16:21:35] str_acq: ei\n",
      "[INFO-wrappers_bo-03/08/2021-16:21:35] str_optimizer_method_gp: BFGS\n",
      "[INFO-wrappers_bo-03/08/2021-16:21:35] str_optimizer_method_bo: L-BFGS-B\n",
      "[INFO-wrappers_bo-03/08/2021-16:21:35] str_modelselection_method: ml\n",
      "[INFO-wrappers_bo-03/08/2021-16:21:35] num_init: 10\n",
      "[INFO-wrappers_bo-03/08/2021-16:21:35] num_iter: 10\n",
      "[INFO-wrappers_bo-03/08/2021-16:21:35] str_initial_method_bo: uniform\n",
      "[INFO-wrappers_bo-03/08/2021-16:21:35] str_sampling_method_ao: uniform\n",
      "[INFO-wrappers_bo-03/08/2021-16:21:35] num_samples_ao: 100\n",
      "[INFO-wrappers_bo-03/08/2021-16:21:35] str_mlm_method: regular\n",
      "[INFO-wrappers_bo-03/08/2021-16:21:35] seed: None\n",
      "[INFO-wrappers_bo-03/08/2021-16:21:35] Iteration 1\n"
     ]
    },
    {
     "name": "stdout",
     "output_type": "stream",
     "text": [
      "BO Round 35\n"
     ]
    },
    {
     "name": "stderr",
     "output_type": "stream",
     "text": [
      "[INFO-wrappers_bo-03/08/2021-16:21:36] Iteration 2\n",
      "[INFO-wrappers_bo-03/08/2021-16:21:36] Iteration 3\n",
      "[INFO-wrappers_bo-03/08/2021-16:21:36] Iteration 4\n",
      "[INFO-wrappers_bo-03/08/2021-16:21:36] Iteration 5\n",
      "[INFO-wrappers_bo-03/08/2021-16:21:37] Iteration 6\n",
      "[INFO-wrappers_bo-03/08/2021-16:21:37] Iteration 7\n",
      "[INFO-wrappers_bo-03/08/2021-16:21:37] Iteration 8\n",
      "[INFO-wrappers_bo-03/08/2021-16:21:38] Iteration 9\n",
      "[INFO-wrappers_bo-03/08/2021-16:21:38] Iteration 10\n",
      "[INFO-wrappers_bo-03/08/2021-16:21:38] range_X:\n",
      "[[-100, 100],\n",
      "[-100, 100]]\n",
      "[INFO-wrappers_bo-03/08/2021-16:21:38] str_cov: matern52\n",
      "[INFO-wrappers_bo-03/08/2021-16:21:38] str_acq: ei\n",
      "[INFO-wrappers_bo-03/08/2021-16:21:38] str_optimizer_method_gp: BFGS\n",
      "[INFO-wrappers_bo-03/08/2021-16:21:38] str_optimizer_method_bo: L-BFGS-B\n",
      "[INFO-wrappers_bo-03/08/2021-16:21:38] str_modelselection_method: ml\n",
      "[INFO-wrappers_bo-03/08/2021-16:21:38] num_init: 10\n",
      "[INFO-wrappers_bo-03/08/2021-16:21:38] num_iter: 10\n",
      "[INFO-wrappers_bo-03/08/2021-16:21:38] str_initial_method_bo: uniform\n",
      "[INFO-wrappers_bo-03/08/2021-16:21:38] str_sampling_method_ao: uniform\n",
      "[INFO-wrappers_bo-03/08/2021-16:21:38] num_samples_ao: 100\n",
      "[INFO-wrappers_bo-03/08/2021-16:21:38] str_mlm_method: regular\n",
      "[INFO-wrappers_bo-03/08/2021-16:21:38] seed: None\n",
      "[INFO-wrappers_bo-03/08/2021-16:21:38] Iteration 1\n"
     ]
    },
    {
     "name": "stdout",
     "output_type": "stream",
     "text": [
      "BO Round 36\n"
     ]
    },
    {
     "name": "stderr",
     "output_type": "stream",
     "text": [
      "[INFO-wrappers_bo-03/08/2021-16:21:39] Iteration 2\n",
      "[INFO-wrappers_bo-03/08/2021-16:21:39] Iteration 3\n",
      "[INFO-wrappers_bo-03/08/2021-16:21:39] Iteration 4\n",
      "[INFO-wrappers_bo-03/08/2021-16:21:40] Iteration 5\n",
      "[INFO-wrappers_bo-03/08/2021-16:21:40] Iteration 6\n",
      "[INFO-wrappers_bo-03/08/2021-16:21:40] Iteration 7\n",
      "[INFO-wrappers_bo-03/08/2021-16:21:40] Iteration 8\n",
      "[INFO-wrappers_bo-03/08/2021-16:21:41] Iteration 9\n",
      "[INFO-wrappers_bo-03/08/2021-16:21:41] Iteration 10\n",
      "[INFO-wrappers_bo-03/08/2021-16:21:41] range_X:\n",
      "[[-100, 100],\n",
      "[-100, 100]]\n",
      "[INFO-wrappers_bo-03/08/2021-16:21:41] str_cov: matern52\n",
      "[INFO-wrappers_bo-03/08/2021-16:21:41] str_acq: ei\n",
      "[INFO-wrappers_bo-03/08/2021-16:21:41] str_optimizer_method_gp: BFGS\n",
      "[INFO-wrappers_bo-03/08/2021-16:21:41] str_optimizer_method_bo: L-BFGS-B\n",
      "[INFO-wrappers_bo-03/08/2021-16:21:41] str_modelselection_method: ml\n",
      "[INFO-wrappers_bo-03/08/2021-16:21:41] num_init: 10\n",
      "[INFO-wrappers_bo-03/08/2021-16:21:41] num_iter: 10\n",
      "[INFO-wrappers_bo-03/08/2021-16:21:41] str_initial_method_bo: uniform\n",
      "[INFO-wrappers_bo-03/08/2021-16:21:41] str_sampling_method_ao: uniform\n",
      "[INFO-wrappers_bo-03/08/2021-16:21:41] num_samples_ao: 100\n",
      "[INFO-wrappers_bo-03/08/2021-16:21:41] str_mlm_method: regular\n",
      "[INFO-wrappers_bo-03/08/2021-16:21:41] seed: None\n",
      "[INFO-wrappers_bo-03/08/2021-16:21:41] Iteration 1\n"
     ]
    },
    {
     "name": "stdout",
     "output_type": "stream",
     "text": [
      "BO Round 37\n"
     ]
    },
    {
     "name": "stderr",
     "output_type": "stream",
     "text": [
      "[INFO-wrappers_bo-03/08/2021-16:21:42] Iteration 2\n",
      "[INFO-wrappers_bo-03/08/2021-16:21:42] Iteration 3\n",
      "[INFO-wrappers_bo-03/08/2021-16:21:42] Iteration 4\n",
      "[INFO-wrappers_bo-03/08/2021-16:21:43] Iteration 5\n",
      "[INFO-wrappers_bo-03/08/2021-16:21:43] Iteration 6\n",
      "[INFO-wrappers_bo-03/08/2021-16:21:43] Iteration 7\n",
      "[INFO-wrappers_bo-03/08/2021-16:21:43] Iteration 8\n",
      "[INFO-wrappers_bo-03/08/2021-16:21:44] Iteration 9\n",
      "[INFO-wrappers_bo-03/08/2021-16:21:44] Iteration 10\n",
      "[INFO-wrappers_bo-03/08/2021-16:21:44] range_X:\n",
      "[[-100, 100],\n",
      "[-100, 100]]\n",
      "[INFO-wrappers_bo-03/08/2021-16:21:44] str_cov: matern52\n",
      "[INFO-wrappers_bo-03/08/2021-16:21:44] str_acq: ei\n",
      "[INFO-wrappers_bo-03/08/2021-16:21:44] str_optimizer_method_gp: BFGS\n",
      "[INFO-wrappers_bo-03/08/2021-16:21:44] str_optimizer_method_bo: L-BFGS-B\n",
      "[INFO-wrappers_bo-03/08/2021-16:21:44] str_modelselection_method: ml\n",
      "[INFO-wrappers_bo-03/08/2021-16:21:44] num_init: 10\n",
      "[INFO-wrappers_bo-03/08/2021-16:21:44] num_iter: 10\n",
      "[INFO-wrappers_bo-03/08/2021-16:21:44] str_initial_method_bo: uniform\n",
      "[INFO-wrappers_bo-03/08/2021-16:21:44] str_sampling_method_ao: uniform\n",
      "[INFO-wrappers_bo-03/08/2021-16:21:44] num_samples_ao: 100\n",
      "[INFO-wrappers_bo-03/08/2021-16:21:44] str_mlm_method: regular\n",
      "[INFO-wrappers_bo-03/08/2021-16:21:44] seed: None\n",
      "[INFO-wrappers_bo-03/08/2021-16:21:44] Iteration 1\n"
     ]
    },
    {
     "name": "stdout",
     "output_type": "stream",
     "text": [
      "BO Round 38\n"
     ]
    },
    {
     "name": "stderr",
     "output_type": "stream",
     "text": [
      "[INFO-wrappers_bo-03/08/2021-16:21:45] Iteration 2\n",
      "[INFO-wrappers_bo-03/08/2021-16:21:45] Iteration 3\n",
      "[INFO-wrappers_bo-03/08/2021-16:21:45] Iteration 4\n",
      "[INFO-wrappers_bo-03/08/2021-16:21:45] Iteration 5\n",
      "[INFO-wrappers_bo-03/08/2021-16:21:46] Iteration 6\n",
      "[INFO-wrappers_bo-03/08/2021-16:21:46] Iteration 7\n",
      "[INFO-wrappers_bo-03/08/2021-16:21:46] Iteration 8\n",
      "[INFO-wrappers_bo-03/08/2021-16:21:46] Iteration 9\n",
      "[INFO-wrappers_bo-03/08/2021-16:21:47] Iteration 10\n",
      "[INFO-wrappers_bo-03/08/2021-16:21:47] range_X:\n",
      "[[-100, 100],\n",
      "[-100, 100]]\n",
      "[INFO-wrappers_bo-03/08/2021-16:21:47] str_cov: matern52\n",
      "[INFO-wrappers_bo-03/08/2021-16:21:47] str_acq: ei\n",
      "[INFO-wrappers_bo-03/08/2021-16:21:47] str_optimizer_method_gp: BFGS\n",
      "[INFO-wrappers_bo-03/08/2021-16:21:47] str_optimizer_method_bo: L-BFGS-B\n",
      "[INFO-wrappers_bo-03/08/2021-16:21:47] str_modelselection_method: ml\n",
      "[INFO-wrappers_bo-03/08/2021-16:21:47] num_init: 10\n",
      "[INFO-wrappers_bo-03/08/2021-16:21:47] num_iter: 10\n",
      "[INFO-wrappers_bo-03/08/2021-16:21:47] str_initial_method_bo: uniform\n",
      "[INFO-wrappers_bo-03/08/2021-16:21:47] str_sampling_method_ao: uniform\n",
      "[INFO-wrappers_bo-03/08/2021-16:21:47] num_samples_ao: 100\n",
      "[INFO-wrappers_bo-03/08/2021-16:21:47] str_mlm_method: regular\n",
      "[INFO-wrappers_bo-03/08/2021-16:21:47] seed: None\n",
      "[INFO-wrappers_bo-03/08/2021-16:21:47] Iteration 1\n"
     ]
    },
    {
     "name": "stdout",
     "output_type": "stream",
     "text": [
      "BO Round 39\n"
     ]
    },
    {
     "name": "stderr",
     "output_type": "stream",
     "text": [
      "[INFO-wrappers_bo-03/08/2021-16:21:47] Iteration 2\n",
      "[INFO-wrappers_bo-03/08/2021-16:21:47] Iteration 3\n",
      "[INFO-wrappers_bo-03/08/2021-16:21:48] Iteration 4\n",
      "[INFO-wrappers_bo-03/08/2021-16:21:48] Iteration 5\n",
      "[INFO-wrappers_bo-03/08/2021-16:21:48] Iteration 6\n",
      "[INFO-wrappers_bo-03/08/2021-16:21:49] Iteration 7\n",
      "[INFO-wrappers_bo-03/08/2021-16:21:49] Iteration 8\n",
      "[INFO-wrappers_bo-03/08/2021-16:21:49] Iteration 9\n",
      "[INFO-wrappers_bo-03/08/2021-16:21:49] Iteration 10\n",
      "[INFO-wrappers_bo-03/08/2021-16:21:50] range_X:\n",
      "[[-100, 100],\n",
      "[-100, 100]]\n",
      "[INFO-wrappers_bo-03/08/2021-16:21:50] str_cov: matern52\n",
      "[INFO-wrappers_bo-03/08/2021-16:21:50] str_acq: ei\n",
      "[INFO-wrappers_bo-03/08/2021-16:21:50] str_optimizer_method_gp: BFGS\n",
      "[INFO-wrappers_bo-03/08/2021-16:21:50] str_optimizer_method_bo: L-BFGS-B\n",
      "[INFO-wrappers_bo-03/08/2021-16:21:50] str_modelselection_method: ml\n",
      "[INFO-wrappers_bo-03/08/2021-16:21:50] num_init: 10\n",
      "[INFO-wrappers_bo-03/08/2021-16:21:50] num_iter: 10\n",
      "[INFO-wrappers_bo-03/08/2021-16:21:50] str_initial_method_bo: uniform\n",
      "[INFO-wrappers_bo-03/08/2021-16:21:50] str_sampling_method_ao: uniform\n",
      "[INFO-wrappers_bo-03/08/2021-16:21:50] num_samples_ao: 100\n",
      "[INFO-wrappers_bo-03/08/2021-16:21:50] str_mlm_method: regular\n",
      "[INFO-wrappers_bo-03/08/2021-16:21:50] seed: None\n",
      "[INFO-wrappers_bo-03/08/2021-16:21:50] Iteration 1\n"
     ]
    },
    {
     "name": "stdout",
     "output_type": "stream",
     "text": [
      "BO Round 40\n"
     ]
    },
    {
     "name": "stderr",
     "output_type": "stream",
     "text": [
      "[INFO-wrappers_bo-03/08/2021-16:21:50] Iteration 2\n",
      "[INFO-wrappers_bo-03/08/2021-16:21:50] Iteration 3\n",
      "[INFO-wrappers_bo-03/08/2021-16:21:51] Iteration 4\n",
      "[INFO-wrappers_bo-03/08/2021-16:21:51] Iteration 5\n",
      "[INFO-wrappers_bo-03/08/2021-16:21:51] Iteration 6\n",
      "[INFO-wrappers_bo-03/08/2021-16:21:52] Iteration 7\n",
      "[INFO-wrappers_bo-03/08/2021-16:21:52] Iteration 8\n",
      "[INFO-wrappers_bo-03/08/2021-16:21:52] Iteration 9\n",
      "[INFO-wrappers_bo-03/08/2021-16:21:52] Iteration 10\n",
      "[INFO-wrappers_bo-03/08/2021-16:21:53] range_X:\n",
      "[[-100, 100],\n",
      "[-100, 100]]\n",
      "[INFO-wrappers_bo-03/08/2021-16:21:53] str_cov: matern52\n",
      "[INFO-wrappers_bo-03/08/2021-16:21:53] str_acq: ei\n",
      "[INFO-wrappers_bo-03/08/2021-16:21:53] str_optimizer_method_gp: BFGS\n",
      "[INFO-wrappers_bo-03/08/2021-16:21:53] str_optimizer_method_bo: L-BFGS-B\n",
      "[INFO-wrappers_bo-03/08/2021-16:21:53] str_modelselection_method: ml\n",
      "[INFO-wrappers_bo-03/08/2021-16:21:53] num_init: 10\n",
      "[INFO-wrappers_bo-03/08/2021-16:21:53] num_iter: 10\n",
      "[INFO-wrappers_bo-03/08/2021-16:21:53] str_initial_method_bo: uniform\n",
      "[INFO-wrappers_bo-03/08/2021-16:21:53] str_sampling_method_ao: uniform\n",
      "[INFO-wrappers_bo-03/08/2021-16:21:53] num_samples_ao: 100\n",
      "[INFO-wrappers_bo-03/08/2021-16:21:53] str_mlm_method: regular\n",
      "[INFO-wrappers_bo-03/08/2021-16:21:53] seed: None\n",
      "[INFO-wrappers_bo-03/08/2021-16:21:53] Iteration 1\n"
     ]
    },
    {
     "name": "stdout",
     "output_type": "stream",
     "text": [
      "BO Round 41\n"
     ]
    },
    {
     "name": "stderr",
     "output_type": "stream",
     "text": [
      "[INFO-wrappers_bo-03/08/2021-16:21:53] Iteration 2\n",
      "[INFO-wrappers_bo-03/08/2021-16:21:53] Iteration 3\n",
      "[INFO-wrappers_bo-03/08/2021-16:21:54] Iteration 4\n",
      "[INFO-wrappers_bo-03/08/2021-16:21:54] Iteration 5\n",
      "[INFO-wrappers_bo-03/08/2021-16:21:54] Iteration 6\n",
      "[INFO-wrappers_bo-03/08/2021-16:21:54] Iteration 7\n",
      "[INFO-wrappers_bo-03/08/2021-16:21:55] Iteration 8\n",
      "[INFO-wrappers_bo-03/08/2021-16:21:55] Iteration 9\n",
      "[INFO-wrappers_bo-03/08/2021-16:21:55] Iteration 10\n",
      "[INFO-wrappers_bo-03/08/2021-16:21:56] range_X:\n",
      "[[-100, 100],\n",
      "[-100, 100]]\n",
      "[INFO-wrappers_bo-03/08/2021-16:21:56] str_cov: matern52\n",
      "[INFO-wrappers_bo-03/08/2021-16:21:56] str_acq: ei\n",
      "[INFO-wrappers_bo-03/08/2021-16:21:56] str_optimizer_method_gp: BFGS\n",
      "[INFO-wrappers_bo-03/08/2021-16:21:56] str_optimizer_method_bo: L-BFGS-B\n",
      "[INFO-wrappers_bo-03/08/2021-16:21:56] str_modelselection_method: ml\n",
      "[INFO-wrappers_bo-03/08/2021-16:21:56] num_init: 10\n",
      "[INFO-wrappers_bo-03/08/2021-16:21:56] num_iter: 10\n",
      "[INFO-wrappers_bo-03/08/2021-16:21:56] str_initial_method_bo: uniform\n",
      "[INFO-wrappers_bo-03/08/2021-16:21:56] str_sampling_method_ao: uniform\n",
      "[INFO-wrappers_bo-03/08/2021-16:21:56] num_samples_ao: 100\n",
      "[INFO-wrappers_bo-03/08/2021-16:21:56] str_mlm_method: regular\n",
      "[INFO-wrappers_bo-03/08/2021-16:21:56] seed: None\n",
      "[INFO-wrappers_bo-03/08/2021-16:21:56] Iteration 1\n"
     ]
    },
    {
     "name": "stdout",
     "output_type": "stream",
     "text": [
      "BO Round 42\n"
     ]
    },
    {
     "name": "stderr",
     "output_type": "stream",
     "text": [
      "[INFO-wrappers_bo-03/08/2021-16:21:56] Iteration 2\n",
      "[INFO-wrappers_bo-03/08/2021-16:21:56] Iteration 3\n",
      "[INFO-wrappers_bo-03/08/2021-16:21:56] Iteration 4\n",
      "[INFO-wrappers_bo-03/08/2021-16:21:57] Iteration 5\n",
      "[INFO-wrappers_bo-03/08/2021-16:21:57] Iteration 6\n",
      "[INFO-wrappers_bo-03/08/2021-16:21:57] Iteration 7\n",
      "[INFO-wrappers_bo-03/08/2021-16:21:57] Iteration 8\n",
      "[INFO-wrappers_bo-03/08/2021-16:21:58] Iteration 9\n",
      "[INFO-wrappers_bo-03/08/2021-16:21:58] Iteration 10\n",
      "[INFO-wrappers_bo-03/08/2021-16:21:58] range_X:\n",
      "[[-100, 100],\n",
      "[-100, 100]]\n",
      "[INFO-wrappers_bo-03/08/2021-16:21:58] str_cov: matern52\n",
      "[INFO-wrappers_bo-03/08/2021-16:21:58] str_acq: ei\n",
      "[INFO-wrappers_bo-03/08/2021-16:21:58] str_optimizer_method_gp: BFGS\n",
      "[INFO-wrappers_bo-03/08/2021-16:21:58] str_optimizer_method_bo: L-BFGS-B\n",
      "[INFO-wrappers_bo-03/08/2021-16:21:58] str_modelselection_method: ml\n",
      "[INFO-wrappers_bo-03/08/2021-16:21:58] num_init: 10\n",
      "[INFO-wrappers_bo-03/08/2021-16:21:58] num_iter: 10\n",
      "[INFO-wrappers_bo-03/08/2021-16:21:58] str_initial_method_bo: uniform\n",
      "[INFO-wrappers_bo-03/08/2021-16:21:58] str_sampling_method_ao: uniform\n",
      "[INFO-wrappers_bo-03/08/2021-16:21:58] num_samples_ao: 100\n",
      "[INFO-wrappers_bo-03/08/2021-16:21:58] str_mlm_method: regular\n",
      "[INFO-wrappers_bo-03/08/2021-16:21:58] seed: None\n",
      "[INFO-wrappers_bo-03/08/2021-16:21:58] Iteration 1\n"
     ]
    },
    {
     "name": "stdout",
     "output_type": "stream",
     "text": [
      "BO Round 43\n"
     ]
    },
    {
     "name": "stderr",
     "output_type": "stream",
     "text": [
      "[INFO-wrappers_bo-03/08/2021-16:21:59] Iteration 2\n",
      "[INFO-wrappers_bo-03/08/2021-16:21:59] Iteration 3\n",
      "[INFO-wrappers_bo-03/08/2021-16:21:59] Iteration 4\n",
      "[INFO-wrappers_bo-03/08/2021-16:21:59] Iteration 5\n",
      "[INFO-wrappers_bo-03/08/2021-16:22:00] Iteration 6\n",
      "[INFO-wrappers_bo-03/08/2021-16:22:00] Iteration 7\n",
      "[INFO-wrappers_bo-03/08/2021-16:22:00] Iteration 8\n",
      "[INFO-wrappers_bo-03/08/2021-16:22:01] Iteration 9\n",
      "[INFO-wrappers_bo-03/08/2021-16:22:01] Iteration 10\n",
      "[INFO-wrappers_bo-03/08/2021-16:22:01] range_X:\n",
      "[[-100, 100],\n",
      "[-100, 100]]\n",
      "[INFO-wrappers_bo-03/08/2021-16:22:01] str_cov: matern52\n",
      "[INFO-wrappers_bo-03/08/2021-16:22:01] str_acq: ei\n",
      "[INFO-wrappers_bo-03/08/2021-16:22:01] str_optimizer_method_gp: BFGS\n",
      "[INFO-wrappers_bo-03/08/2021-16:22:01] str_optimizer_method_bo: L-BFGS-B\n",
      "[INFO-wrappers_bo-03/08/2021-16:22:01] str_modelselection_method: ml\n",
      "[INFO-wrappers_bo-03/08/2021-16:22:01] num_init: 10\n",
      "[INFO-wrappers_bo-03/08/2021-16:22:01] num_iter: 10\n",
      "[INFO-wrappers_bo-03/08/2021-16:22:01] str_initial_method_bo: uniform\n",
      "[INFO-wrappers_bo-03/08/2021-16:22:01] str_sampling_method_ao: uniform\n",
      "[INFO-wrappers_bo-03/08/2021-16:22:01] num_samples_ao: 100\n",
      "[INFO-wrappers_bo-03/08/2021-16:22:01] str_mlm_method: regular\n",
      "[INFO-wrappers_bo-03/08/2021-16:22:01] seed: None\n",
      "[INFO-wrappers_bo-03/08/2021-16:22:01] Iteration 1\n"
     ]
    },
    {
     "name": "stdout",
     "output_type": "stream",
     "text": [
      "BO Round 44\n"
     ]
    },
    {
     "name": "stderr",
     "output_type": "stream",
     "text": [
      "[INFO-wrappers_bo-03/08/2021-16:22:02] Iteration 2\n",
      "[INFO-wrappers_bo-03/08/2021-16:22:02] Iteration 3\n",
      "[INFO-wrappers_bo-03/08/2021-16:22:02] Iteration 4\n",
      "[INFO-wrappers_bo-03/08/2021-16:22:02] Iteration 5\n",
      "[INFO-wrappers_bo-03/08/2021-16:22:03] Iteration 6\n",
      "[INFO-wrappers_bo-03/08/2021-16:22:03] Iteration 7\n",
      "[INFO-wrappers_bo-03/08/2021-16:22:03] Iteration 8\n",
      "[INFO-wrappers_bo-03/08/2021-16:22:04] Iteration 9\n",
      "[INFO-wrappers_bo-03/08/2021-16:22:04] Iteration 10\n",
      "[INFO-wrappers_bo-03/08/2021-16:22:04] range_X:\n",
      "[[-100, 100],\n",
      "[-100, 100]]\n",
      "[INFO-wrappers_bo-03/08/2021-16:22:04] str_cov: matern52\n",
      "[INFO-wrappers_bo-03/08/2021-16:22:04] str_acq: ei\n",
      "[INFO-wrappers_bo-03/08/2021-16:22:04] str_optimizer_method_gp: BFGS\n",
      "[INFO-wrappers_bo-03/08/2021-16:22:04] str_optimizer_method_bo: L-BFGS-B\n",
      "[INFO-wrappers_bo-03/08/2021-16:22:04] str_modelselection_method: ml\n",
      "[INFO-wrappers_bo-03/08/2021-16:22:04] num_init: 10\n",
      "[INFO-wrappers_bo-03/08/2021-16:22:04] num_iter: 10\n",
      "[INFO-wrappers_bo-03/08/2021-16:22:04] str_initial_method_bo: uniform\n",
      "[INFO-wrappers_bo-03/08/2021-16:22:04] str_sampling_method_ao: uniform\n",
      "[INFO-wrappers_bo-03/08/2021-16:22:04] num_samples_ao: 100\n",
      "[INFO-wrappers_bo-03/08/2021-16:22:04] str_mlm_method: regular\n",
      "[INFO-wrappers_bo-03/08/2021-16:22:04] seed: None\n",
      "[INFO-wrappers_bo-03/08/2021-16:22:04] Iteration 1\n"
     ]
    },
    {
     "name": "stdout",
     "output_type": "stream",
     "text": [
      "BO Round 45\n"
     ]
    },
    {
     "name": "stderr",
     "output_type": "stream",
     "text": [
      "[INFO-wrappers_bo-03/08/2021-16:22:05] Iteration 2\n",
      "[INFO-wrappers_bo-03/08/2021-16:22:05] Iteration 3\n",
      "[INFO-wrappers_bo-03/08/2021-16:22:05] Iteration 4\n",
      "[INFO-wrappers_bo-03/08/2021-16:22:05] Iteration 5\n",
      "[INFO-wrappers_bo-03/08/2021-16:22:06] Iteration 6\n",
      "[INFO-wrappers_bo-03/08/2021-16:22:06] Iteration 7\n",
      "[INFO-wrappers_bo-03/08/2021-16:22:06] Iteration 8\n",
      "[INFO-wrappers_bo-03/08/2021-16:22:06] Iteration 9\n",
      "[INFO-wrappers_bo-03/08/2021-16:22:07] Iteration 10\n",
      "[INFO-wrappers_bo-03/08/2021-16:22:07] range_X:\n",
      "[[-100, 100],\n",
      "[-100, 100]]\n",
      "[INFO-wrappers_bo-03/08/2021-16:22:07] str_cov: matern52\n",
      "[INFO-wrappers_bo-03/08/2021-16:22:07] str_acq: ei\n",
      "[INFO-wrappers_bo-03/08/2021-16:22:07] str_optimizer_method_gp: BFGS\n",
      "[INFO-wrappers_bo-03/08/2021-16:22:07] str_optimizer_method_bo: L-BFGS-B\n",
      "[INFO-wrappers_bo-03/08/2021-16:22:07] str_modelselection_method: ml\n",
      "[INFO-wrappers_bo-03/08/2021-16:22:07] num_init: 10\n",
      "[INFO-wrappers_bo-03/08/2021-16:22:07] num_iter: 10\n",
      "[INFO-wrappers_bo-03/08/2021-16:22:07] str_initial_method_bo: uniform\n",
      "[INFO-wrappers_bo-03/08/2021-16:22:07] str_sampling_method_ao: uniform\n",
      "[INFO-wrappers_bo-03/08/2021-16:22:07] num_samples_ao: 100\n",
      "[INFO-wrappers_bo-03/08/2021-16:22:07] str_mlm_method: regular\n",
      "[INFO-wrappers_bo-03/08/2021-16:22:07] seed: None\n",
      "[INFO-wrappers_bo-03/08/2021-16:22:07] Iteration 1\n"
     ]
    },
    {
     "name": "stdout",
     "output_type": "stream",
     "text": [
      "BO Round 46\n"
     ]
    },
    {
     "name": "stderr",
     "output_type": "stream",
     "text": [
      "[INFO-wrappers_bo-03/08/2021-16:22:07] Iteration 2\n",
      "[INFO-wrappers_bo-03/08/2021-16:22:08] Iteration 3\n",
      "[INFO-wrappers_bo-03/08/2021-16:22:08] Iteration 4\n",
      "[INFO-wrappers_bo-03/08/2021-16:22:08] Iteration 5\n",
      "[INFO-wrappers_bo-03/08/2021-16:22:08] Iteration 6\n",
      "[INFO-wrappers_bo-03/08/2021-16:22:09] Iteration 7\n",
      "[INFO-wrappers_bo-03/08/2021-16:22:09] Iteration 8\n",
      "[INFO-wrappers_bo-03/08/2021-16:22:09] Iteration 9\n",
      "[INFO-wrappers_bo-03/08/2021-16:22:10] Iteration 10\n",
      "[INFO-wrappers_bo-03/08/2021-16:22:10] range_X:\n",
      "[[-100, 100],\n",
      "[-100, 100]]\n",
      "[INFO-wrappers_bo-03/08/2021-16:22:10] str_cov: matern52\n",
      "[INFO-wrappers_bo-03/08/2021-16:22:10] str_acq: ei\n",
      "[INFO-wrappers_bo-03/08/2021-16:22:10] str_optimizer_method_gp: BFGS\n",
      "[INFO-wrappers_bo-03/08/2021-16:22:10] str_optimizer_method_bo: L-BFGS-B\n",
      "[INFO-wrappers_bo-03/08/2021-16:22:10] str_modelselection_method: ml\n",
      "[INFO-wrappers_bo-03/08/2021-16:22:10] num_init: 10\n",
      "[INFO-wrappers_bo-03/08/2021-16:22:10] num_iter: 10\n",
      "[INFO-wrappers_bo-03/08/2021-16:22:10] str_initial_method_bo: uniform\n",
      "[INFO-wrappers_bo-03/08/2021-16:22:10] str_sampling_method_ao: uniform\n",
      "[INFO-wrappers_bo-03/08/2021-16:22:10] num_samples_ao: 100\n",
      "[INFO-wrappers_bo-03/08/2021-16:22:10] str_mlm_method: regular\n",
      "[INFO-wrappers_bo-03/08/2021-16:22:10] seed: None\n",
      "[INFO-wrappers_bo-03/08/2021-16:22:10] Iteration 1\n"
     ]
    },
    {
     "name": "stdout",
     "output_type": "stream",
     "text": [
      "BO Round 47\n"
     ]
    },
    {
     "name": "stderr",
     "output_type": "stream",
     "text": [
      "[INFO-wrappers_bo-03/08/2021-16:22:10] Iteration 2\n",
      "[INFO-wrappers_bo-03/08/2021-16:22:10] Iteration 3\n",
      "[INFO-wrappers_bo-03/08/2021-16:22:11] Iteration 4\n",
      "[INFO-wrappers_bo-03/08/2021-16:22:11] Iteration 5\n",
      "[INFO-wrappers_bo-03/08/2021-16:22:11] Iteration 6\n",
      "[INFO-wrappers_bo-03/08/2021-16:22:12] Iteration 7\n",
      "[INFO-wrappers_bo-03/08/2021-16:22:12] Iteration 8\n",
      "[INFO-wrappers_bo-03/08/2021-16:22:12] Iteration 9\n",
      "[INFO-wrappers_bo-03/08/2021-16:22:12] Iteration 10\n",
      "[INFO-wrappers_bo-03/08/2021-16:22:13] range_X:\n",
      "[[-100, 100],\n",
      "[-100, 100]]\n",
      "[INFO-wrappers_bo-03/08/2021-16:22:13] str_cov: matern52\n",
      "[INFO-wrappers_bo-03/08/2021-16:22:13] str_acq: ei\n",
      "[INFO-wrappers_bo-03/08/2021-16:22:13] str_optimizer_method_gp: BFGS\n",
      "[INFO-wrappers_bo-03/08/2021-16:22:13] str_optimizer_method_bo: L-BFGS-B\n",
      "[INFO-wrappers_bo-03/08/2021-16:22:13] str_modelselection_method: ml\n",
      "[INFO-wrappers_bo-03/08/2021-16:22:13] num_init: 10\n",
      "[INFO-wrappers_bo-03/08/2021-16:22:13] num_iter: 10\n",
      "[INFO-wrappers_bo-03/08/2021-16:22:13] str_initial_method_bo: uniform\n",
      "[INFO-wrappers_bo-03/08/2021-16:22:13] str_sampling_method_ao: uniform\n",
      "[INFO-wrappers_bo-03/08/2021-16:22:13] num_samples_ao: 100\n",
      "[INFO-wrappers_bo-03/08/2021-16:22:13] str_mlm_method: regular\n",
      "[INFO-wrappers_bo-03/08/2021-16:22:13] seed: None\n",
      "[INFO-wrappers_bo-03/08/2021-16:22:13] Iteration 1\n"
     ]
    },
    {
     "name": "stdout",
     "output_type": "stream",
     "text": [
      "BO Round 48\n"
     ]
    },
    {
     "name": "stderr",
     "output_type": "stream",
     "text": [
      "[INFO-wrappers_bo-03/08/2021-16:22:13] Iteration 2\n",
      "[INFO-wrappers_bo-03/08/2021-16:22:13] Iteration 3\n",
      "[INFO-wrappers_bo-03/08/2021-16:22:14] Iteration 4\n",
      "[INFO-wrappers_bo-03/08/2021-16:22:14] Iteration 5\n",
      "[INFO-wrappers_bo-03/08/2021-16:22:14] Iteration 6\n",
      "[INFO-wrappers_bo-03/08/2021-16:22:14] Iteration 7\n",
      "[INFO-wrappers_bo-03/08/2021-16:22:15] Iteration 8\n",
      "[INFO-wrappers_bo-03/08/2021-16:22:15] Iteration 9\n",
      "[INFO-wrappers_bo-03/08/2021-16:22:15] Iteration 10\n",
      "[INFO-wrappers_bo-03/08/2021-16:22:16] range_X:\n",
      "[[-100, 100],\n",
      "[-100, 100]]\n",
      "[INFO-wrappers_bo-03/08/2021-16:22:16] str_cov: matern52\n",
      "[INFO-wrappers_bo-03/08/2021-16:22:16] str_acq: ei\n",
      "[INFO-wrappers_bo-03/08/2021-16:22:16] str_optimizer_method_gp: BFGS\n",
      "[INFO-wrappers_bo-03/08/2021-16:22:16] str_optimizer_method_bo: L-BFGS-B\n",
      "[INFO-wrappers_bo-03/08/2021-16:22:16] str_modelselection_method: ml\n",
      "[INFO-wrappers_bo-03/08/2021-16:22:16] num_init: 10\n",
      "[INFO-wrappers_bo-03/08/2021-16:22:16] num_iter: 10\n",
      "[INFO-wrappers_bo-03/08/2021-16:22:16] str_initial_method_bo: uniform\n",
      "[INFO-wrappers_bo-03/08/2021-16:22:16] str_sampling_method_ao: uniform\n",
      "[INFO-wrappers_bo-03/08/2021-16:22:16] num_samples_ao: 100\n",
      "[INFO-wrappers_bo-03/08/2021-16:22:16] str_mlm_method: regular\n",
      "[INFO-wrappers_bo-03/08/2021-16:22:16] seed: None\n",
      "[INFO-wrappers_bo-03/08/2021-16:22:16] Iteration 1\n"
     ]
    },
    {
     "name": "stdout",
     "output_type": "stream",
     "text": [
      "BO Round 49\n"
     ]
    },
    {
     "name": "stderr",
     "output_type": "stream",
     "text": [
      "[INFO-wrappers_bo-03/08/2021-16:22:16] Iteration 2\n",
      "[INFO-wrappers_bo-03/08/2021-16:22:16] Iteration 3\n",
      "[INFO-wrappers_bo-03/08/2021-16:22:16] Iteration 4\n",
      "[INFO-wrappers_bo-03/08/2021-16:22:17] Iteration 5\n",
      "[INFO-wrappers_bo-03/08/2021-16:22:17] Iteration 6\n",
      "[INFO-wrappers_bo-03/08/2021-16:22:17] Iteration 7\n",
      "[INFO-wrappers_bo-03/08/2021-16:22:18] Iteration 8\n",
      "[INFO-wrappers_bo-03/08/2021-16:22:18] Iteration 9\n",
      "[INFO-wrappers_bo-03/08/2021-16:22:18] Iteration 10\n",
      "[INFO-wrappers_bo-03/08/2021-16:22:19] range_X:\n",
      "[[-100, 100],\n",
      "[-100, 100]]\n",
      "[INFO-wrappers_bo-03/08/2021-16:22:19] str_cov: matern52\n",
      "[INFO-wrappers_bo-03/08/2021-16:22:19] str_acq: ei\n",
      "[INFO-wrappers_bo-03/08/2021-16:22:19] str_optimizer_method_gp: BFGS\n",
      "[INFO-wrappers_bo-03/08/2021-16:22:19] str_optimizer_method_bo: L-BFGS-B\n",
      "[INFO-wrappers_bo-03/08/2021-16:22:19] str_modelselection_method: ml\n",
      "[INFO-wrappers_bo-03/08/2021-16:22:19] num_init: 10\n",
      "[INFO-wrappers_bo-03/08/2021-16:22:19] num_iter: 10\n",
      "[INFO-wrappers_bo-03/08/2021-16:22:19] str_initial_method_bo: uniform\n",
      "[INFO-wrappers_bo-03/08/2021-16:22:19] str_sampling_method_ao: uniform\n",
      "[INFO-wrappers_bo-03/08/2021-16:22:19] num_samples_ao: 100\n",
      "[INFO-wrappers_bo-03/08/2021-16:22:19] str_mlm_method: regular\n",
      "[INFO-wrappers_bo-03/08/2021-16:22:19] seed: None\n",
      "[INFO-wrappers_bo-03/08/2021-16:22:19] Iteration 1\n"
     ]
    },
    {
     "name": "stdout",
     "output_type": "stream",
     "text": [
      "BO Round 50\n"
     ]
    },
    {
     "name": "stderr",
     "output_type": "stream",
     "text": [
      "[INFO-wrappers_bo-03/08/2021-16:22:19] Iteration 2\n",
      "[INFO-wrappers_bo-03/08/2021-16:22:19] Iteration 3\n",
      "[INFO-wrappers_bo-03/08/2021-16:22:20] Iteration 4\n",
      "[INFO-wrappers_bo-03/08/2021-16:22:20] Iteration 5\n",
      "[INFO-wrappers_bo-03/08/2021-16:22:20] Iteration 6\n",
      "[INFO-wrappers_bo-03/08/2021-16:22:20] Iteration 7\n",
      "[INFO-wrappers_bo-03/08/2021-16:22:21] Iteration 8\n",
      "[INFO-wrappers_bo-03/08/2021-16:22:21] Iteration 9\n",
      "[INFO-wrappers_bo-03/08/2021-16:22:21] Iteration 10\n"
     ]
    },
    {
     "name": "stdout",
     "output_type": "stream",
     "text": [
      "-2.0728241397480174\n"
     ]
    }
   ],
   "source": []
  },
  {
   "cell_type": "code",
   "execution_count": 15,
   "metadata": {},
   "outputs": [],
   "source": [
    "Type_of_optimizer = 'CMA-ES'\n",
    "Type_of_function = 'Trig'\n",
    "n_of_params = 2\n",
    "num_bo = 50"
   ]
  },
  {
   "cell_type": "code",
   "execution_count": 8,
   "metadata": {},
   "outputs": [],
   "source": [
    "model_bo = bo.BO(bounds, debug=False,str_optimizer_method_bo='CMA-ES') # types: 'DIRECT' or 'L-BFGS-B' or 'CMA-ES'\n",
    "list_X = []\n",
    "list_Y = []\n",
    "itr_time = []\n",
    "n_of_trials_vector = []\n",
    "z = []"
   ]
  },
  {
   "cell_type": "code",
   "execution_count": 10,
   "metadata": {},
   "outputs": [
    {
     "name": "stderr",
     "output_type": "stream",
     "text": [
      "[INFO-wrappers_bo-03/08/2021-14:39:56] range_X:\n",
      "[[-100, 100],\n",
      "[-100, 100]]\n",
      "[INFO-wrappers_bo-03/08/2021-14:39:56] str_cov: matern52\n",
      "[INFO-wrappers_bo-03/08/2021-14:39:56] str_acq: ei\n",
      "[INFO-wrappers_bo-03/08/2021-14:39:56] str_optimizer_method_gp: BFGS\n",
      "[INFO-wrappers_bo-03/08/2021-14:39:56] str_optimizer_method_bo: CMA-ES\n",
      "[INFO-wrappers_bo-03/08/2021-14:39:56] str_modelselection_method: ml\n",
      "[INFO-wrappers_bo-03/08/2021-14:39:56] num_init: 5\n",
      "[INFO-wrappers_bo-03/08/2021-14:39:56] num_iter: 6\n",
      "[INFO-wrappers_bo-03/08/2021-14:39:56] str_initial_method_bo: uniform\n",
      "[INFO-wrappers_bo-03/08/2021-14:39:56] str_sampling_method_ao: uniform\n",
      "[INFO-wrappers_bo-03/08/2021-14:39:56] num_samples_ao: 100\n",
      "[INFO-wrappers_bo-03/08/2021-14:39:56] str_mlm_method: regular\n",
      "[INFO-wrappers_bo-03/08/2021-14:39:56] seed: None\n",
      "[INFO-wrappers_bo-03/08/2021-14:39:56] Iteration 1\n",
      "[DEBUG-bo-03/08/2021-14:39:56] num_samples is ignored.\n"
     ]
    },
    {
     "name": "stdout",
     "output_type": "stream",
     "text": [
      "BO Round 1\n",
      "Iterat #Fevals   function value  axis ratio  sigma  min&max std  t[m:s]\n",
      "    1      6 -1.871720723753602e+01 1.0e+00 4.68e+01  4e+01  5e+01 0:00.0\n",
      "    2     12 -1.871720723753602e+01 1.1e+00 3.77e+01  3e+01  4e+01 0:00.0\n"
     ]
    },
    {
     "name": "stderr",
     "output_type": "stream",
     "text": [
      "[INFO-wrappers_bo-03/08/2021-14:39:56] Iteration 2\n",
      "[DEBUG-bo-03/08/2021-14:39:56] num_samples is ignored.\n"
     ]
    },
    {
     "name": "stdout",
     "output_type": "stream",
     "text": [
      "termination on tolfun=1e-11 (Mon Mar  8 14:39:56 2021)\n",
      "termination on tolflatfitness=1 (Mon Mar  8 14:39:56 2021)\n",
      "final/bestever f-value = -1.871721e+01 -1.871721e+01\n",
      "incumbent solution: [-60.64894302722347, -39.59836031585514]\n",
      "std deviation: [32.29198388241987, 35.65564228509758]\n",
      "Iterat #Fevals   function value  axis ratio  sigma  min&max std  t[m:s]\n",
      "    1      6 -1.709038214390837e+01 1.0e+00 4.18e+01  4e+01  4e+01 0:00.0\n",
      "    2     12 -1.709038214390837e+01 1.2e+00 4.15e+01  3e+01  4e+01 0:00.0\n",
      "    3     18 -1.709038214390837e+01 1.3e+00 4.15e+01  4e+01  4e+01 0:00.0\n",
      "    4     24 -1.709038214390837e+01 1.3e+00 3.84e+01  3e+01  4e+01 0:00.0\n"
     ]
    },
    {
     "name": "stderr",
     "output_type": "stream",
     "text": [
      "[INFO-wrappers_bo-03/08/2021-14:39:56] Iteration 3\n",
      "[DEBUG-bo-03/08/2021-14:39:56] num_samples is ignored.\n"
     ]
    },
    {
     "name": "stdout",
     "output_type": "stream",
     "text": [
      "termination on tolfun=1e-11 (Mon Mar  8 14:39:56 2021)\n",
      "final/bestever f-value = -1.709038e+01 -1.709038e+01\n",
      "incumbent solution: [-72.13398303211353, -94.32845366825617]\n",
      "std deviation: [37.97028141197096, 26.6812793065465]\n",
      "Iterat #Fevals   function value  axis ratio  sigma  min&max std  t[m:s]\n",
      "    1      6 -1.588111815182000e+01 1.0e+00 8.08e+01  7e+01  1e+02 0:00.0\n",
      "    2     12 -1.588111815182000e+01 1.4e+00 7.62e+01  6e+01  1e+02 0:00.0\n"
     ]
    },
    {
     "name": "stderr",
     "output_type": "stream",
     "text": [
      "[INFO-wrappers_bo-03/08/2021-14:39:56] Iteration 4\n",
      "[DEBUG-bo-03/08/2021-14:39:56] num_samples is ignored.\n"
     ]
    },
    {
     "name": "stdout",
     "output_type": "stream",
     "text": [
      "termination on tolfun=1e-11 (Mon Mar  8 14:39:56 2021)\n",
      "termination on tolflatfitness=1 (Mon Mar  8 14:39:56 2021)\n",
      "final/bestever f-value = -1.588112e+01 -1.588112e+01\n",
      "incumbent solution: [-2.262406150462354, 99.84124191750851]\n",
      "std deviation: [95.96163009067483, 56.153024611084895]\n",
      "Iterat #Fevals   function value  axis ratio  sigma  min&max std  t[m:s]\n",
      "    1      6 -1.486822666037066e+01 1.0e+00 3.89e+01  3e+01  4e+01 0:00.0\n"
     ]
    },
    {
     "name": "stderr",
     "output_type": "stream",
     "text": [
      "[INFO-wrappers_bo-03/08/2021-14:39:56] Iteration 5\n",
      "[DEBUG-bo-03/08/2021-14:39:56] num_samples is ignored.\n"
     ]
    },
    {
     "name": "stdout",
     "output_type": "stream",
     "text": [
      "termination on tolfun=1e-11 (Mon Mar  8 14:39:56 2021)\n",
      "final/bestever f-value = -1.486823e+01 -1.486823e+01\n",
      "incumbent solution: [-44.73844461701045, -35.27312445828796]\n",
      "std deviation: [36.95744261316094, 32.309023262887536]\n",
      "Iterat #Fevals   function value  axis ratio  sigma  min&max std  t[m:s]\n",
      "    1      6 -1.421761774047671e+01 1.0e+00 4.93e+01  5e+01  5e+01 0:00.0\n",
      "    2     12 -1.421761774047671e+01 1.3e+00 7.60e+01  8e+01  9e+01 0:00.0\n"
     ]
    },
    {
     "name": "stderr",
     "output_type": "stream",
     "text": [
      "[INFO-wrappers_bo-03/08/2021-14:39:56] Iteration 6\n",
      "[DEBUG-bo-03/08/2021-14:39:56] num_samples is ignored.\n"
     ]
    },
    {
     "name": "stdout",
     "output_type": "stream",
     "text": [
      "termination on tolfun=1e-11 (Mon Mar  8 14:39:56 2021)\n",
      "final/bestever f-value = -1.421762e+01 -1.421762e+01\n",
      "incumbent solution: [97.37125655611126, 71.49057782787563]\n",
      "std deviation: [80.16877594273303, 91.44950056722044]\n",
      "Iterat #Fevals   function value  axis ratio  sigma  min&max std  t[m:s]\n",
      "    1      6 -1.372288973459142e+01 1.0e+00 4.47e+01  4e+01  4e+01 0:00.0\n",
      "    2     12 -1.372288973459142e+01 1.0e+00 5.10e+01  4e+01  6e+01 0:00.0\n",
      "    3     18 -1.372288973459142e+01 1.6e+00 4.58e+01  3e+01  6e+01 0:00.0\n",
      "    6     36 -1.372288973459142e+01 1.7e+00 3.06e+01  2e+01  3e+01 0:00.0\n"
     ]
    },
    {
     "name": "stderr",
     "output_type": "stream",
     "text": [
      "[INFO-wrappers_bo-03/08/2021-14:39:56] range_X:\n",
      "[[-100, 100],\n",
      "[-100, 100]]\n",
      "[INFO-wrappers_bo-03/08/2021-14:39:56] str_cov: matern52\n",
      "[INFO-wrappers_bo-03/08/2021-14:39:56] str_acq: ei\n",
      "[INFO-wrappers_bo-03/08/2021-14:39:56] str_optimizer_method_gp: BFGS\n",
      "[INFO-wrappers_bo-03/08/2021-14:39:56] str_optimizer_method_bo: CMA-ES\n",
      "[INFO-wrappers_bo-03/08/2021-14:39:56] str_modelselection_method: ml\n",
      "[INFO-wrappers_bo-03/08/2021-14:39:56] num_init: 7\n",
      "[INFO-wrappers_bo-03/08/2021-14:39:56] num_iter: 4\n",
      "[INFO-wrappers_bo-03/08/2021-14:39:56] str_initial_method_bo: uniform\n",
      "[INFO-wrappers_bo-03/08/2021-14:39:56] str_sampling_method_ao: uniform\n"
     ]
    },
    {
     "name": "stdout",
     "output_type": "stream",
     "text": [
      "termination on tolfun=1e-11 (Mon Mar  8 14:39:56 2021)\n",
      "final/bestever f-value = -1.372289e+01 -1.372289e+01\n",
      "incumbent solution: [-57.476993572616365, -60.86930208418547]\n",
      "std deviation: [18.820885633442266, 26.323820129694656]\n",
      "BO Round 2\n"
     ]
    },
    {
     "name": "stderr",
     "output_type": "stream",
     "text": [
      "[INFO-wrappers_bo-03/08/2021-14:39:56] num_samples_ao: 100\n",
      "[INFO-wrappers_bo-03/08/2021-14:39:56] str_mlm_method: regular\n",
      "[INFO-wrappers_bo-03/08/2021-14:39:56] seed: None\n",
      "[INFO-wrappers_bo-03/08/2021-14:39:56] Iteration 1\n",
      "[DEBUG-bo-03/08/2021-14:39:56] num_samples is ignored.\n"
     ]
    },
    {
     "name": "stdout",
     "output_type": "stream",
     "text": [
      "Iterat #Fevals   function value  axis ratio  sigma  min&max std  t[m:s]\n",
      "    1      6 -1.729252926781872e+01 1.0e+00 4.09e+01  3e+01  4e+01 0:00.0\n",
      "    2     12 -1.729252926781872e+01 1.2e+00 3.22e+01  2e+01  3e+01 0:00.0\n"
     ]
    },
    {
     "name": "stderr",
     "output_type": "stream",
     "text": [
      "[INFO-wrappers_bo-03/08/2021-14:39:56] Iteration 2\n",
      "[DEBUG-bo-03/08/2021-14:39:56] num_samples is ignored.\n"
     ]
    },
    {
     "name": "stdout",
     "output_type": "stream",
     "text": [
      "termination on tolflatfitness=1 (Mon Mar  8 14:39:56 2021)\n",
      "final/bestever f-value = -1.729253e+01 -1.729253e+01\n",
      "incumbent solution: [27.530179512918163, 67.03455694566895]\n",
      "std deviation: [31.683615022606443, 23.44199184011259]\n",
      "Iterat #Fevals   function value  axis ratio  sigma  min&max std  t[m:s]\n",
      "    1      6 -1.617694298008144e+01 1.0e+00 4.90e+01  5e+01  5e+01 0:00.0\n",
      "    2     12 -1.617694298008144e+01 1.3e+00 5.95e+01  5e+01  7e+01 0:00.0\n"
     ]
    },
    {
     "name": "stderr",
     "output_type": "stream",
     "text": [
      "[INFO-wrappers_bo-03/08/2021-14:39:56] Iteration 3\n",
      "[DEBUG-bo-03/08/2021-14:39:56] num_samples is ignored.\n"
     ]
    },
    {
     "name": "stdout",
     "output_type": "stream",
     "text": [
      "termination on tolfun=1e-11 (Mon Mar  8 14:39:56 2021)\n",
      "termination on tolflatfitness=1 (Mon Mar  8 14:39:56 2021)\n",
      "final/bestever f-value = -1.617694e+01 -1.617694e+01\n",
      "incumbent solution: [-3.257842492160968, -41.30487770848602]\n",
      "std deviation: [48.01373173763675, 70.64163035486597]\n",
      "Iterat #Fevals   function value  axis ratio  sigma  min&max std  t[m:s]\n",
      "    1      6 -1.547084703214866e+01 1.0e+00 4.96e+01  5e+01  5e+01 0:00.0\n"
     ]
    },
    {
     "name": "stderr",
     "output_type": "stream",
     "text": [
      "[INFO-wrappers_bo-03/08/2021-14:39:56] Iteration 4\n",
      "[DEBUG-bo-03/08/2021-14:39:56] num_samples is ignored.\n"
     ]
    },
    {
     "name": "stdout",
     "output_type": "stream",
     "text": [
      "termination on tolfun=1e-11 (Mon Mar  8 14:39:56 2021)\n",
      "final/bestever f-value = -1.547085e+01 -1.547085e+01\n",
      "incumbent solution: [93.03922417333773, -53.10154416976195]\n",
      "std deviation: [47.11527953244154, 49.9432134929111]\n",
      "Iterat #Fevals   function value  axis ratio  sigma  min&max std  t[m:s]\n",
      "    1      6 -1.483381162531294e+01 1.0e+00 4.80e+01  4e+01  5e+01 0:00.0\n"
     ]
    },
    {
     "name": "stderr",
     "output_type": "stream",
     "text": [
      "[INFO-wrappers_bo-03/08/2021-14:39:56] range_X:\n",
      "[[-100, 100],\n",
      "[-100, 100]]\n"
     ]
    },
    {
     "name": "stdout",
     "output_type": "stream",
     "text": [
      "termination on tolfun=1e-11 (Mon Mar  8 14:39:56 2021)\n",
      "final/bestever f-value = -1.483381e+01 -1.483381e+01\n",
      "incumbent solution: [-53.250773466994076, 58.04596725837378]\n",
      "std deviation: [47.3674641831425, 44.432152692667245]\n",
      "BO Round 3\n"
     ]
    },
    {
     "name": "stderr",
     "output_type": "stream",
     "text": [
      "[INFO-wrappers_bo-03/08/2021-14:39:56] str_cov: matern52\n",
      "[INFO-wrappers_bo-03/08/2021-14:39:56] str_acq: ei\n",
      "[INFO-wrappers_bo-03/08/2021-14:39:56] str_optimizer_method_gp: BFGS\n",
      "[INFO-wrappers_bo-03/08/2021-14:39:56] str_optimizer_method_bo: CMA-ES\n",
      "[INFO-wrappers_bo-03/08/2021-14:39:56] str_modelselection_method: ml\n",
      "[INFO-wrappers_bo-03/08/2021-14:39:56] num_init: 6\n",
      "[INFO-wrappers_bo-03/08/2021-14:39:56] num_iter: 5\n",
      "[INFO-wrappers_bo-03/08/2021-14:39:56] str_initial_method_bo: uniform\n",
      "[INFO-wrappers_bo-03/08/2021-14:39:56] str_sampling_method_ao: uniform\n",
      "[INFO-wrappers_bo-03/08/2021-14:39:56] num_samples_ao: 100\n",
      "[INFO-wrappers_bo-03/08/2021-14:39:56] str_mlm_method: regular\n",
      "[INFO-wrappers_bo-03/08/2021-14:39:56] seed: None\n",
      "[INFO-wrappers_bo-03/08/2021-14:39:56] Iteration 1\n",
      "[DEBUG-bo-03/08/2021-14:39:56] num_samples is ignored.\n"
     ]
    },
    {
     "name": "stdout",
     "output_type": "stream",
     "text": [
      "Iterat #Fevals   function value  axis ratio  sigma  min&max std  t[m:s]\n",
      "    1      6 -2.460070600367001e+01 1.0e+00 5.10e+01  4e+01  6e+01 0:00.0\n",
      "termination on tolfun=1e-11 (Mon Mar  8 14:39:56 2021)\n",
      "final/bestever f-value = -2.460071e+01 -2.460071e+01\n",
      "incumbent solution: [-52.12814129902872, -39.649978323078166]\n",
      "std deviation: [58.55825639379448, 40.67192238914692]\n"
     ]
    },
    {
     "name": "stderr",
     "output_type": "stream",
     "text": [
      "[INFO-wrappers_bo-03/08/2021-14:39:56] Iteration 2\n",
      "[DEBUG-bo-03/08/2021-14:39:56] num_samples is ignored.\n"
     ]
    },
    {
     "name": "stdout",
     "output_type": "stream",
     "text": [
      "Iterat #Fevals   function value  axis ratio  sigma  min&max std  t[m:s]\n",
      "    1      6 -2.315436122439251e+01 1.0e+00 5.15e+01  5e+01  5e+01 0:00.0\n",
      "    2     12 -2.315436122439251e+01 1.3e+00 5.26e+01  5e+01  5e+01 0:00.0\n"
     ]
    },
    {
     "name": "stderr",
     "output_type": "stream",
     "text": [
      "[INFO-wrappers_bo-03/08/2021-14:39:56] Iteration 3\n",
      "[DEBUG-bo-03/08/2021-14:39:56] num_samples is ignored.\n"
     ]
    },
    {
     "name": "stdout",
     "output_type": "stream",
     "text": [
      "termination on tolfun=1e-11 (Mon Mar  8 14:39:56 2021)\n",
      "final/bestever f-value = -2.315436e+01 -2.315436e+01\n",
      "incumbent solution: [12.133405892453688, 40.98706066413135]\n",
      "std deviation: [49.420271947228784, 53.57692547001455]\n",
      "Iterat #Fevals   function value  axis ratio  sigma  min&max std  t[m:s]\n",
      "    1      6 -1.736717026387214e+01 1.0e+00 5.11e+01  4e+01  6e+01 0:00.0\n",
      "    2     12 -1.736717026387214e+01 1.3e+00 5.28e+01  5e+01  5e+01 0:00.0\n",
      "    3     18 -1.736717026387214e+01 1.0e+00 4.58e+01  4e+01  4e+01 0:00.0\n",
      "    4     24 -1.736717026387214e+01 1.2e+00 5.14e+01  4e+01  5e+01 0:00.0\n"
     ]
    },
    {
     "name": "stderr",
     "output_type": "stream",
     "text": [
      "[INFO-wrappers_bo-03/08/2021-14:39:56] Iteration 4\n"
     ]
    },
    {
     "name": "stdout",
     "output_type": "stream",
     "text": [
      "termination on tolfun=1e-11 (Mon Mar  8 14:39:56 2021)\n",
      "termination on tolflatfitness=1 (Mon Mar  8 14:39:56 2021)\n",
      "final/bestever f-value = -1.736717e+01 -1.736717e+01\n",
      "incumbent solution: [-73.93084027375015, 18.13939804730341]\n",
      "std deviation: [41.517887718775995, 53.683251628897594]\n"
     ]
    },
    {
     "name": "stderr",
     "output_type": "stream",
     "text": [
      "[DEBUG-bo-03/08/2021-14:39:56] num_samples is ignored.\n"
     ]
    },
    {
     "name": "stdout",
     "output_type": "stream",
     "text": [
      "Iterat #Fevals   function value  axis ratio  sigma  min&max std  t[m:s]\n",
      "    1      6 -1.665488102183336e+01 1.0e+00 3.83e+01  3e+01  3e+01 0:00.0\n"
     ]
    },
    {
     "name": "stderr",
     "output_type": "stream",
     "text": [
      "[INFO-wrappers_bo-03/08/2021-14:39:56] Iteration 5\n"
     ]
    },
    {
     "name": "stdout",
     "output_type": "stream",
     "text": [
      "termination on tolfun=1e-11 (Mon Mar  8 14:39:56 2021)\n",
      "final/bestever f-value = -1.665488e+01 -1.665488e+01\n",
      "incumbent solution: [82.3088317196103, -46.637371655800166]\n",
      "std deviation: [34.919267842569134, 34.217088316136525]\n"
     ]
    },
    {
     "name": "stderr",
     "output_type": "stream",
     "text": [
      "[DEBUG-bo-03/08/2021-14:39:56] num_samples is ignored.\n"
     ]
    },
    {
     "name": "stdout",
     "output_type": "stream",
     "text": [
      "Iterat #Fevals   function value  axis ratio  sigma  min&max std  t[m:s]\n",
      "    1      6 -1.614905827033392e+01 1.0e+00 5.07e+01  5e+01  5e+01 0:00.0\n"
     ]
    },
    {
     "name": "stderr",
     "output_type": "stream",
     "text": [
      "[INFO-wrappers_bo-03/08/2021-14:39:56] range_X:\n",
      "[[-100, 100],\n",
      "[-100, 100]]\n",
      "[INFO-wrappers_bo-03/08/2021-14:39:56] str_cov: matern52\n",
      "[INFO-wrappers_bo-03/08/2021-14:39:56] str_acq: ei\n"
     ]
    },
    {
     "name": "stdout",
     "output_type": "stream",
     "text": [
      "termination on tolfun=1e-11 (Mon Mar  8 14:39:56 2021)\n",
      "final/bestever f-value = -1.614906e+01 -1.614906e+01\n",
      "incumbent solution: [-18.32176044030355, 2.3176342568168806]\n",
      "std deviation: [53.51241792851581, 47.338903334203415]\n",
      "BO Round 4\n"
     ]
    },
    {
     "name": "stderr",
     "output_type": "stream",
     "text": [
      "[INFO-wrappers_bo-03/08/2021-14:39:56] str_optimizer_method_gp: BFGS\n",
      "[INFO-wrappers_bo-03/08/2021-14:39:56] str_optimizer_method_bo: CMA-ES\n",
      "[INFO-wrappers_bo-03/08/2021-14:39:56] str_modelselection_method: ml\n",
      "[INFO-wrappers_bo-03/08/2021-14:39:56] num_init: 4\n",
      "[INFO-wrappers_bo-03/08/2021-14:39:56] num_iter: 2\n",
      "[INFO-wrappers_bo-03/08/2021-14:39:56] str_initial_method_bo: uniform\n",
      "[INFO-wrappers_bo-03/08/2021-14:39:56] str_sampling_method_ao: uniform\n",
      "[INFO-wrappers_bo-03/08/2021-14:39:56] num_samples_ao: 100\n",
      "[INFO-wrappers_bo-03/08/2021-14:39:56] str_mlm_method: regular\n",
      "[INFO-wrappers_bo-03/08/2021-14:39:56] seed: None\n",
      "[INFO-wrappers_bo-03/08/2021-14:39:56] Iteration 1\n",
      "[DEBUG-bo-03/08/2021-14:39:56] num_samples is ignored.\n"
     ]
    },
    {
     "name": "stdout",
     "output_type": "stream",
     "text": [
      "Iterat #Fevals   function value  axis ratio  sigma  min&max std  t[m:s]\n",
      "    1      6 -1.995673133548199e+01 1.0e+00 4.67e+01  4e+01  4e+01 0:00.0\n"
     ]
    },
    {
     "name": "stderr",
     "output_type": "stream",
     "text": [
      "[INFO-wrappers_bo-03/08/2021-14:39:56] Iteration 2\n"
     ]
    },
    {
     "name": "stdout",
     "output_type": "stream",
     "text": [
      "termination on tolfun=1e-11 (Mon Mar  8 14:39:56 2021)\n",
      "final/bestever f-value = -1.995673e+01 -1.995673e+01\n",
      "incumbent solution: [43.88437028297829, -44.68204411419367]\n",
      "std deviation: [43.52011563308573, 44.106127858948994]\n"
     ]
    },
    {
     "name": "stderr",
     "output_type": "stream",
     "text": [
      "[DEBUG-bo-03/08/2021-14:39:56] num_samples is ignored.\n"
     ]
    },
    {
     "name": "stdout",
     "output_type": "stream",
     "text": [
      "Iterat #Fevals   function value  axis ratio  sigma  min&max std  t[m:s]\n",
      "    1      6 -1.816206438082414e+01 1.0e+00 3.94e+01  3e+01  4e+01 0:00.0\n",
      "    2     12 -1.816206438082414e+01 1.2e+00 4.32e+01  4e+01  4e+01 0:00.0\n"
     ]
    },
    {
     "name": "stderr",
     "output_type": "stream",
     "text": [
      "[INFO-wrappers_bo-03/08/2021-14:39:56] range_X:\n",
      "[[-100, 100],\n",
      "[-100, 100]]\n",
      "[INFO-wrappers_bo-03/08/2021-14:39:56] str_cov: matern52\n",
      "[INFO-wrappers_bo-03/08/2021-14:39:56] str_acq: ei\n",
      "[INFO-wrappers_bo-03/08/2021-14:39:56] str_optimizer_method_gp: BFGS\n",
      "[INFO-wrappers_bo-03/08/2021-14:39:56] str_optimizer_method_bo: CMA-ES\n",
      "[INFO-wrappers_bo-03/08/2021-14:39:56] str_modelselection_method: ml\n",
      "[INFO-wrappers_bo-03/08/2021-14:39:56] num_init: 9\n",
      "[INFO-wrappers_bo-03/08/2021-14:39:56] num_iter: 5\n",
      "[INFO-wrappers_bo-03/08/2021-14:39:56] str_initial_method_bo: uniform\n"
     ]
    },
    {
     "name": "stdout",
     "output_type": "stream",
     "text": [
      "termination on tolfun=1e-11 (Mon Mar  8 14:39:56 2021)\n",
      "termination on tolflatfitness=1 (Mon Mar  8 14:39:56 2021)\n",
      "final/bestever f-value = -1.816206e+01 -1.816206e+01\n",
      "incumbent solution: [85.10635939955746, 84.9478602158337]\n",
      "std deviation: [36.2476310039665, 43.791483432589516]\n",
      "BO Round 5\n"
     ]
    },
    {
     "name": "stderr",
     "output_type": "stream",
     "text": [
      "[INFO-wrappers_bo-03/08/2021-14:39:56] str_sampling_method_ao: uniform\n",
      "[INFO-wrappers_bo-03/08/2021-14:39:56] num_samples_ao: 100\n",
      "[INFO-wrappers_bo-03/08/2021-14:39:56] str_mlm_method: regular\n",
      "[INFO-wrappers_bo-03/08/2021-14:39:56] seed: None\n",
      "[INFO-wrappers_bo-03/08/2021-14:39:56] Iteration 1\n",
      "[DEBUG-bo-03/08/2021-14:39:56] num_samples is ignored.\n"
     ]
    },
    {
     "name": "stdout",
     "output_type": "stream",
     "text": [
      "Iterat #Fevals   function value  axis ratio  sigma  min&max std  t[m:s]\n",
      "    1      6 -2.099540343127491e+01 1.0e+00 6.36e+01  5e+01  9e+01 0:00.0\n"
     ]
    },
    {
     "name": "stderr",
     "output_type": "stream",
     "text": [
      "[INFO-wrappers_bo-03/08/2021-14:39:56] Iteration 2\n"
     ]
    },
    {
     "name": "stdout",
     "output_type": "stream",
     "text": [
      "termination on tolfun=1e-11 (Mon Mar  8 14:39:56 2021)\n",
      "final/bestever f-value = -2.099506e+01 -2.099540e+01\n",
      "incumbent solution: [-22.756822669231152, 80.68233008114069]\n",
      "std deviation: [51.94454712167393, 86.03144382762325]\n"
     ]
    },
    {
     "name": "stderr",
     "output_type": "stream",
     "text": [
      "[DEBUG-bo-03/08/2021-14:39:56] num_samples is ignored.\n"
     ]
    },
    {
     "name": "stdout",
     "output_type": "stream",
     "text": [
      "Iterat #Fevals   function value  axis ratio  sigma  min&max std  t[m:s]\n",
      "    1      6 -2.255854928323535e+01 1.0e+00 4.65e+01  4e+01  4e+01 0:00.0\n"
     ]
    },
    {
     "name": "stderr",
     "output_type": "stream",
     "text": [
      "[INFO-wrappers_bo-03/08/2021-14:39:56] Iteration 3\n",
      "[DEBUG-bo-03/08/2021-14:39:56] num_samples is ignored.\n"
     ]
    },
    {
     "name": "stdout",
     "output_type": "stream",
     "text": [
      "termination on tolfun=1e-11 (Mon Mar  8 14:39:56 2021)\n",
      "final/bestever f-value = -2.255855e+01 -2.255855e+01\n",
      "incumbent solution: [64.94336393902694, 22.421264140626633]\n",
      "std deviation: [43.751829235149515, 43.61882667184746]\n",
      "Iterat #Fevals   function value  axis ratio  sigma  min&max std  t[m:s]\n",
      "    1      6 -2.206638095949479e+01 1.0e+00 7.77e+01  8e+01  8e+01 0:00.0\n",
      "termination on tolfun=1e-11 (Mon Mar  8 14:39:56 2021)\n",
      "final/bestever f-value = -2.206638e+01 -2.206638e+01\n",
      "incumbent solution: [-23.97268640219889, -4.88443537712503]\n",
      "std deviation: [84.83803206891749, 78.75764487324597]\n"
     ]
    },
    {
     "name": "stderr",
     "output_type": "stream",
     "text": [
      "[INFO-wrappers_bo-03/08/2021-14:39:56] Iteration 4\n",
      "[DEBUG-bo-03/08/2021-14:39:57] num_samples is ignored.\n"
     ]
    },
    {
     "name": "stdout",
     "output_type": "stream",
     "text": [
      "Iterat #Fevals   function value  axis ratio  sigma  min&max std  t[m:s]\n",
      "    1      6 -2.134926563990986e+01 1.0e+00 3.98e+01  4e+01  4e+01 0:00.0\n"
     ]
    },
    {
     "name": "stderr",
     "output_type": "stream",
     "text": [
      "[INFO-wrappers_bo-03/08/2021-14:39:57] Iteration 5\n",
      "[DEBUG-bo-03/08/2021-14:39:57] num_samples is ignored.\n"
     ]
    },
    {
     "name": "stdout",
     "output_type": "stream",
     "text": [
      "termination on tolfun=1e-11 (Mon Mar  8 14:39:57 2021)\n",
      "final/bestever f-value = -2.134927e+01 -2.134927e+01\n",
      "incumbent solution: [66.4962614661715, 23.122826355184884]\n",
      "std deviation: [37.477685290629616, 36.06369191042897]\n",
      "Iterat #Fevals   function value  axis ratio  sigma  min&max std  t[m:s]\n",
      "    1      6 -2.063638050381886e+01 1.0e+00 4.47e+01  4e+01  5e+01 0:00.0\n",
      "    2     12 -2.063638050381886e+01 1.4e+00 4.57e+01  4e+01  4e+01 0:00.0\n",
      "    3     18 -2.063638050381886e+01 1.5e+00 7.19e+01  6e+01  8e+01 0:00.0\n",
      "    7     42 -2.063638050381886e+01 2.0e+00 9.47e+01  6e+01  1e+02 0:00.0\n"
     ]
    },
    {
     "name": "stderr",
     "output_type": "stream",
     "text": [
      "[INFO-wrappers_bo-03/08/2021-14:39:57] range_X:\n",
      "[[-100, 100],\n",
      "[-100, 100]]\n",
      "[INFO-wrappers_bo-03/08/2021-14:39:57] str_cov: matern52\n",
      "[INFO-wrappers_bo-03/08/2021-14:39:57] str_acq: ei\n",
      "[INFO-wrappers_bo-03/08/2021-14:39:57] str_optimizer_method_gp: BFGS\n",
      "[INFO-wrappers_bo-03/08/2021-14:39:57] str_optimizer_method_bo: CMA-ES\n",
      "[INFO-wrappers_bo-03/08/2021-14:39:57] str_modelselection_method: ml\n",
      "[INFO-wrappers_bo-03/08/2021-14:39:57] num_init: 6\n",
      "[INFO-wrappers_bo-03/08/2021-14:39:57] num_iter: 9\n",
      "[INFO-wrappers_bo-03/08/2021-14:39:57] str_initial_method_bo: uniform\n",
      "[INFO-wrappers_bo-03/08/2021-14:39:57] str_sampling_method_ao: uniform\n",
      "[INFO-wrappers_bo-03/08/2021-14:39:57] num_samples_ao: 100\n",
      "[INFO-wrappers_bo-03/08/2021-14:39:57] str_mlm_method: regular\n",
      "[INFO-wrappers_bo-03/08/2021-14:39:57] seed: None\n",
      "[INFO-wrappers_bo-03/08/2021-14:39:57] Iteration 1\n"
     ]
    },
    {
     "name": "stdout",
     "output_type": "stream",
     "text": [
      "termination on tolflatfitness=1 (Mon Mar  8 14:39:57 2021)\n",
      "final/bestever f-value = -2.063638e+01 -2.063638e+01\n",
      "incumbent solution: [-73.5639348112847, -88.91667532050059]\n",
      "std deviation: [60.034224944752125, 113.26934302850842]\n",
      "BO Round 6\n"
     ]
    },
    {
     "name": "stderr",
     "output_type": "stream",
     "text": [
      "[DEBUG-bo-03/08/2021-14:39:57] num_samples is ignored.\n"
     ]
    },
    {
     "name": "stdout",
     "output_type": "stream",
     "text": [
      "Iterat #Fevals   function value  axis ratio  sigma  min&max std  t[m:s]\n",
      "    1      6 -1.072069025847613e+01 1.0e+00 3.66e+01  3e+01  3e+01 0:00.0\n",
      "    2     12 -1.544816541683373e+01 1.3e+00 2.85e+01  2e+01  3e+01 0:00.0\n",
      "    3     18 -2.767325522645674e+01 1.5e+00 4.05e+01  4e+01  5e+01 0:00.0\n",
      "   86    516 -2.773571755279971e+01 1.6e+00 3.15e-03  4e-06  6e-06 0:00.4\n"
     ]
    },
    {
     "name": "stderr",
     "output_type": "stream",
     "text": [
      "[INFO-wrappers_bo-03/08/2021-14:39:57] Iteration 2\n",
      "[DEBUG-bo-03/08/2021-14:39:57] num_samples is ignored.\n"
     ]
    },
    {
     "name": "stdout",
     "output_type": "stream",
     "text": [
      "termination on tolfun=1e-11 (Mon Mar  8 14:39:57 2021)\n",
      "final/bestever f-value = -2.773572e+01 -2.773572e+01\n",
      "incumbent solution: [-99.99999999999926, -99.99999999999989]\n",
      "std deviation: [5.834188601075083e-06, 4.214852952496171e-06]\n",
      "Iterat #Fevals   function value  axis ratio  sigma  min&max std  t[m:s]\n",
      "    1      6 -2.161632989130795e+01 1.0e+00 4.07e+01  4e+01  4e+01 0:00.0\n",
      "    2     12 -4.193048537924967e+01 1.1e+00 4.84e+01  4e+01  5e+01 0:00.0\n",
      "    3     18 -4.542259347981876e+01 1.3e+00 4.79e+01  4e+01  5e+01 0:00.0\n",
      "   77    462 -4.720519643759080e+01 1.7e+00 2.01e-03  3e-06  5e-06 0:00.3\n"
     ]
    },
    {
     "name": "stderr",
     "output_type": "stream",
     "text": [
      "[INFO-wrappers_bo-03/08/2021-14:39:58] Iteration 3\n",
      "[DEBUG-bo-03/08/2021-14:39:58] num_samples is ignored.\n"
     ]
    },
    {
     "name": "stdout",
     "output_type": "stream",
     "text": [
      "termination on tolfun=1e-11 (Mon Mar  8 14:39:58 2021)\n",
      "final/bestever f-value = -4.720520e+01 -4.720520e+01\n",
      "incumbent solution: [-99.99999999999947, 99.99999999999987]\n",
      "std deviation: [4.703874235332023e-06, 2.653102502193207e-06]\n",
      "Iterat #Fevals   function value  axis ratio  sigma  min&max std  t[m:s]\n",
      "    1      6 -2.382380634007491e+01 1.0e+00 3.87e+01  3e+01  4e+01 0:00.0\n",
      "    2     12 -2.915982298087734e+01 1.2e+00 2.97e+01  2e+01  3e+01 0:00.0\n",
      "    3     18 -2.929172658739324e+01 1.3e+00 2.44e+01  2e+01  2e+01 0:00.0\n",
      "   74    444 -3.026316324884380e+01 3.3e+00 1.00e-03  8e-07  3e-06 0:00.3\n"
     ]
    },
    {
     "name": "stderr",
     "output_type": "stream",
     "text": [
      "[INFO-wrappers_bo-03/08/2021-14:39:58] Iteration 4\n",
      "[DEBUG-bo-03/08/2021-14:39:58] num_samples is ignored.\n"
     ]
    },
    {
     "name": "stdout",
     "output_type": "stream",
     "text": [
      "termination on tolfun=1e-11 (Mon Mar  8 14:39:58 2021)\n",
      "final/bestever f-value = -3.026316e+01 -3.026316e+01\n",
      "incumbent solution: [99.99999999999991, 17.667520009370836]\n",
      "std deviation: [7.779724437794428e-07, 2.5950025860260175e-06]\n",
      "Iterat #Fevals   function value  axis ratio  sigma  min&max std  t[m:s]\n",
      "    1      6 -3.855483330951206e+01 1.0e+00 5.95e+01  6e+01  7e+01 0:00.0\n",
      "    2     12 -3.961430839315002e+01 1.5e+00 6.23e+01  6e+01  8e+01 0:00.0\n",
      "    3     18 -4.232412085886420e+01 1.8e+00 8.05e+01  8e+01  1e+02 0:00.0\n",
      "   91    546 -4.669646008323209e+01 1.9e+00 1.91e-03  9e-07  1e-06 0:00.3\n"
     ]
    },
    {
     "name": "stderr",
     "output_type": "stream",
     "text": [
      "[INFO-wrappers_bo-03/08/2021-14:39:59] Iteration 5\n",
      "[DEBUG-bo-03/08/2021-14:39:59] num_samples is ignored.\n"
     ]
    },
    {
     "name": "stdout",
     "output_type": "stream",
     "text": [
      "termination on tolfun=1e-11 (Mon Mar  8 14:39:59 2021)\n",
      "final/bestever f-value = -4.669646e+01 -4.669646e+01\n",
      "incumbent solution: [99.99999999999999, 100.0]\n",
      "std deviation: [1.4685364315709886e-06, 9.20944406011137e-07]\n",
      "Iterat #Fevals   function value  axis ratio  sigma  min&max std  t[m:s]\n",
      "    1      6 -4.103507018828140e+01 1.0e+00 4.71e+01  4e+01  5e+01 0:00.0\n",
      "    2     12 -4.091360679217756e+01 1.2e+00 4.40e+01  4e+01  4e+01 0:00.0\n",
      "    3     18 -4.102224937144471e+01 1.0e+00 3.81e+01  3e+01  3e+01 0:00.0\n",
      "   74    444 -4.274416573591796e+01 1.2e+00 5.91e-04  6e-07  6e-07 0:00.3\n"
     ]
    },
    {
     "name": "stderr",
     "output_type": "stream",
     "text": [
      "[INFO-wrappers_bo-03/08/2021-14:39:59] Iteration 6\n",
      "[DEBUG-bo-03/08/2021-14:39:59] num_samples is ignored.\n"
     ]
    },
    {
     "name": "stdout",
     "output_type": "stream",
     "text": [
      "termination on tolfun=1e-11 (Mon Mar  8 14:39:59 2021)\n",
      "final/bestever f-value = -4.274417e+01 -4.274417e+01\n",
      "incumbent solution: [-23.96622144677973, 100.0]\n",
      "std deviation: [6.071843354286864e-07, 6.004681833937021e-07]\n",
      "Iterat #Fevals   function value  axis ratio  sigma  min&max std  t[m:s]\n",
      "    1      6 -3.407999560093656e+01 1.0e+00 4.75e+01  5e+01  5e+01 0:00.0\n",
      "    2     12 -3.301095399096292e+01 1.1e+00 4.83e+01  4e+01  5e+01 0:00.0\n",
      "    3     18 -3.405197344685065e+01 1.3e+00 5.52e+01  5e+01  6e+01 0:00.0\n",
      "   74    444 -3.408962712603753e+01 2.6e+00 5.70e-03  1e-05  3e-05 0:00.3\n"
     ]
    },
    {
     "name": "stderr",
     "output_type": "stream",
     "text": [
      "[INFO-wrappers_bo-03/08/2021-14:40:00] Iteration 7\n",
      "[DEBUG-bo-03/08/2021-14:40:00] num_samples is ignored.\n"
     ]
    },
    {
     "name": "stdout",
     "output_type": "stream",
     "text": [
      "termination on tolfun=1e-11 (Mon Mar  8 14:40:00 2021)\n",
      "final/bestever f-value = -3.408963e+01 -3.408963e+01\n",
      "incumbent solution: [-32.14387155353074, -99.99999999998711]\n",
      "std deviation: [1.2182548895705219e-05, 2.83965917171608e-05]\n",
      "Iterat #Fevals   function value  axis ratio  sigma  min&max std  t[m:s]\n",
      "    1      6 -3.401372413625430e+01 1.0e+00 5.12e+01  5e+01  6e+01 0:00.0\n",
      "    2     12 -3.400902776919817e+01 1.6e+00 4.07e+01  3e+01  4e+01 0:00.0\n",
      "    3     18 -3.402636963053557e+01 1.6e+00 4.54e+01  4e+01  5e+01 0:00.0\n",
      "   76    456 -3.402871972568178e+01 1.6e+00 3.03e-03  4e-06  5e-06 0:00.3\n"
     ]
    },
    {
     "name": "stderr",
     "output_type": "stream",
     "text": [
      "[INFO-wrappers_bo-03/08/2021-14:40:00] Iteration 8\n",
      "[DEBUG-bo-03/08/2021-14:40:00] num_samples is ignored.\n"
     ]
    },
    {
     "name": "stdout",
     "output_type": "stream",
     "text": [
      "termination on tolfun=1e-11 (Mon Mar  8 14:40:00 2021)\n",
      "final/bestever f-value = -3.402872e+01 -3.402872e+01\n",
      "incumbent solution: [7.505282162499364, -5.966047645716539]\n",
      "std deviation: [4.8222542191963495e-06, 3.7948659072107934e-06]\n",
      "Iterat #Fevals   function value  axis ratio  sigma  min&max std  t[m:s]\n",
      "    1      6 -3.020581212021924e+01 1.0e+00 5.82e+01  6e+01  7e+01 0:00.0\n",
      "    2     12 -3.018047851423182e+01 1.5e+00 7.05e+01  6e+01  8e+01 0:00.0\n",
      "    3     18 -3.020252642417288e+01 1.4e+00 7.43e+01  5e+01  9e+01 0:00.0\n",
      "   79    474 -3.020596949139893e+01 2.6e+00 7.50e-03  2e-05  2e-05 0:00.3\n"
     ]
    },
    {
     "name": "stderr",
     "output_type": "stream",
     "text": [
      "[INFO-wrappers_bo-03/08/2021-14:40:01] Iteration 9\n",
      "[DEBUG-bo-03/08/2021-14:40:01] num_samples is ignored.\n"
     ]
    },
    {
     "name": "stdout",
     "output_type": "stream",
     "text": [
      "termination on tolfun=1e-11 (Mon Mar  8 14:40:01 2021)\n",
      "final/bestever f-value = -3.020597e+01 -3.020597e+01\n",
      "incumbent solution: [-61.035895866538525, 48.45598812798141]\n",
      "std deviation: [2.4393692249876923e-05, 1.534048480244903e-05]\n",
      "Iterat #Fevals   function value  axis ratio  sigma  min&max std  t[m:s]\n",
      "    1      6 -2.997517167149903e+01 1.0e+00 4.00e+01  4e+01  4e+01 0:00.0\n",
      "    2     12 -2.996432897373866e+01 1.1e+00 3.07e+01  3e+01  3e+01 0:00.0\n",
      "    3     18 -3.012243073054205e+01 1.1e+00 3.10e+01  2e+01  3e+01 0:00.0\n",
      "   77    462 -3.014230894497952e+01 1.3e+00 1.69e-03  2e-06  2e-06 0:00.3\n"
     ]
    },
    {
     "name": "stderr",
     "output_type": "stream",
     "text": [
      "[INFO-wrappers_bo-03/08/2021-14:40:01] range_X:\n",
      "[[-100, 100],\n",
      "[-100, 100]]\n",
      "[INFO-wrappers_bo-03/08/2021-14:40:01] str_cov: matern52\n",
      "[INFO-wrappers_bo-03/08/2021-14:40:01] str_acq: ei\n",
      "[INFO-wrappers_bo-03/08/2021-14:40:01] str_optimizer_method_gp: BFGS\n",
      "[INFO-wrappers_bo-03/08/2021-14:40:01] str_optimizer_method_bo: CMA-ES\n",
      "[INFO-wrappers_bo-03/08/2021-14:40:01] str_modelselection_method: ml\n",
      "[INFO-wrappers_bo-03/08/2021-14:40:01] num_init: 8\n",
      "[INFO-wrappers_bo-03/08/2021-14:40:01] num_iter: 2\n",
      "[INFO-wrappers_bo-03/08/2021-14:40:01] str_initial_method_bo: uniform\n",
      "[INFO-wrappers_bo-03/08/2021-14:40:01] str_sampling_method_ao: uniform\n",
      "[INFO-wrappers_bo-03/08/2021-14:40:01] num_samples_ao: 100\n",
      "[INFO-wrappers_bo-03/08/2021-14:40:01] str_mlm_method: regular\n",
      "[INFO-wrappers_bo-03/08/2021-14:40:01] seed: None\n",
      "[INFO-wrappers_bo-03/08/2021-14:40:01] Iteration 1\n",
      "[DEBUG-bo-03/08/2021-14:40:01] num_samples is ignored.\n"
     ]
    },
    {
     "name": "stdout",
     "output_type": "stream",
     "text": [
      "termination on tolfun=1e-11 (Mon Mar  8 14:40:01 2021)\n",
      "final/bestever f-value = -3.014231e+01 -3.014231e+01\n",
      "incumbent solution: [-99.9999999999991, 21.08659754544877]\n",
      "std deviation: [1.757921289246064e-06, 2.4382168997632785e-06]\n",
      "BO Round 7\n",
      "Iterat #Fevals   function value  axis ratio  sigma  min&max std  t[m:s]\n",
      "    1      6 -2.970227659703514e+01 1.0e+00 5.78e+01  5e+01  7e+01 0:00.0\n",
      "    2     12 -2.970227659703514e+01 1.4e+00 7.78e+01  6e+01  1e+02 0:00.0\n"
     ]
    },
    {
     "name": "stderr",
     "output_type": "stream",
     "text": [
      "[INFO-wrappers_bo-03/08/2021-14:40:01] Iteration 2\n",
      "[DEBUG-bo-03/08/2021-14:40:01] num_samples is ignored.\n"
     ]
    },
    {
     "name": "stdout",
     "output_type": "stream",
     "text": [
      "termination on tolflatfitness=1 (Mon Mar  8 14:40:01 2021)\n",
      "final/bestever f-value = -2.970228e+01 -2.970228e+01\n",
      "incumbent solution: [15.852038250624219, -55.901434377409714]\n",
      "std deviation: [123.12330603141865, 59.31569385564395]\n",
      "Iterat #Fevals   function value  axis ratio  sigma  min&max std  t[m:s]\n",
      "    1      6 -2.490204354875763e+01 1.0e+00 4.88e+01  4e+01  5e+01 0:00.0\n"
     ]
    },
    {
     "name": "stderr",
     "output_type": "stream",
     "text": [
      "[INFO-wrappers_bo-03/08/2021-14:40:01] range_X:\n",
      "[[-100, 100],\n",
      "[-100, 100]]\n",
      "[INFO-wrappers_bo-03/08/2021-14:40:01] str_cov: matern52\n",
      "[INFO-wrappers_bo-03/08/2021-14:40:01] str_acq: ei\n",
      "[INFO-wrappers_bo-03/08/2021-14:40:01] str_optimizer_method_gp: BFGS\n",
      "[INFO-wrappers_bo-03/08/2021-14:40:01] str_optimizer_method_bo: CMA-ES\n",
      "[INFO-wrappers_bo-03/08/2021-14:40:01] str_modelselection_method: ml\n",
      "[INFO-wrappers_bo-03/08/2021-14:40:01] num_init: 8\n",
      "[INFO-wrappers_bo-03/08/2021-14:40:01] num_iter: 6\n",
      "[INFO-wrappers_bo-03/08/2021-14:40:01] str_initial_method_bo: uniform\n",
      "[INFO-wrappers_bo-03/08/2021-14:40:01] str_sampling_method_ao: uniform\n",
      "[INFO-wrappers_bo-03/08/2021-14:40:01] num_samples_ao: 100\n",
      "[INFO-wrappers_bo-03/08/2021-14:40:01] str_mlm_method: regular\n",
      "[INFO-wrappers_bo-03/08/2021-14:40:01] seed: None\n",
      "[INFO-wrappers_bo-03/08/2021-14:40:01] Iteration 1\n",
      "[DEBUG-bo-03/08/2021-14:40:01] num_samples is ignored.\n"
     ]
    },
    {
     "name": "stdout",
     "output_type": "stream",
     "text": [
      "termination on tolfun=1e-11 (Mon Mar  8 14:40:01 2021)\n",
      "final/bestever f-value = -2.490204e+01 -2.490204e+01\n",
      "incumbent solution: [45.492825532739396, 54.205365985218684]\n",
      "std deviation: [44.240669709359864, 49.82290885361303]\n",
      "BO Round 8\n",
      "Iterat #Fevals   function value  axis ratio  sigma  min&max std  t[m:s]\n",
      "    1      6 -2.081313012842277e+01 1.0e+00 4.11e+01  4e+01  4e+01 0:00.0\n",
      "    2     12 -2.081313012842277e+01 1.2e+00 4.29e+01  4e+01  5e+01 0:00.0\n",
      "    3     18 -2.081313012842277e+01 1.5e+00 3.27e+01  2e+01  3e+01 0:00.0\n"
     ]
    },
    {
     "name": "stderr",
     "output_type": "stream",
     "text": [
      "[INFO-wrappers_bo-03/08/2021-14:40:01] Iteration 2\n",
      "[DEBUG-bo-03/08/2021-14:40:01] num_samples is ignored.\n"
     ]
    },
    {
     "name": "stdout",
     "output_type": "stream",
     "text": [
      "termination on tolfun=1e-11 (Mon Mar  8 14:40:01 2021)\n",
      "termination on tolflatfitness=1 (Mon Mar  8 14:40:01 2021)\n",
      "final/bestever f-value = -2.081313e+01 -2.081313e+01\n",
      "incumbent solution: [-4.110879644496283, -54.39243849717224]\n",
      "std deviation: [24.77705627337367, 30.25881402420481]\n",
      "Iterat #Fevals   function value  axis ratio  sigma  min&max std  t[m:s]\n",
      "    1      6 -2.100013417021696e+01 1.0e+00 5.20e+01  5e+01  5e+01 0:00.0\n"
     ]
    },
    {
     "name": "stderr",
     "output_type": "stream",
     "text": [
      "[INFO-wrappers_bo-03/08/2021-14:40:01] Iteration 3\n",
      "[DEBUG-bo-03/08/2021-14:40:01] num_samples is ignored.\n"
     ]
    },
    {
     "name": "stdout",
     "output_type": "stream",
     "text": [
      "termination on tolfun=1e-11 (Mon Mar  8 14:40:01 2021)\n",
      "final/bestever f-value = -2.100013e+01 -2.100013e+01\n",
      "incumbent solution: [66.41038994384368, 98.52530681937282]\n",
      "std deviation: [49.890707722408145, 54.04020129758567]\n",
      "Iterat #Fevals   function value  axis ratio  sigma  min&max std  t[m:s]\n",
      "    1      6 -2.044971649527173e+01 1.0e+00 7.12e+01  7e+01  8e+01 0:00.0\n",
      "    2     12 -2.044971649527173e+01 1.3e+00 8.53e+01  8e+01  1e+02 0:00.0\n"
     ]
    },
    {
     "name": "stderr",
     "output_type": "stream",
     "text": [
      "[INFO-wrappers_bo-03/08/2021-14:40:01] Iteration 4\n",
      "[DEBUG-bo-03/08/2021-14:40:01] num_samples is ignored.\n"
     ]
    },
    {
     "name": "stdout",
     "output_type": "stream",
     "text": [
      "termination on tolflatfitness=1 (Mon Mar  8 14:40:01 2021)\n",
      "final/bestever f-value = -2.044972e+01 -2.044972e+01\n",
      "incumbent solution: [55.749521329601045, -51.82158687591263]\n",
      "std deviation: [98.42131598761826, 77.11013104001351]\n",
      "Iterat #Fevals   function value  axis ratio  sigma  min&max std  t[m:s]\n",
      "    1      6 -2.033606072331311e+01 1.0e+00 3.81e+01  3e+01  4e+01 0:00.0\n",
      "    2     12 -2.033606072331311e+01 1.3e+00 2.91e+01  2e+01  3e+01 0:00.0\n"
     ]
    },
    {
     "name": "stderr",
     "output_type": "stream",
     "text": [
      "[INFO-wrappers_bo-03/08/2021-14:40:01] Iteration 5\n"
     ]
    },
    {
     "name": "stdout",
     "output_type": "stream",
     "text": [
      "termination on tolfun=1e-11 (Mon Mar  8 14:40:01 2021)\n",
      "final/bestever f-value = -2.033606e+01 -2.033606e+01\n",
      "incumbent solution: [-49.554512184762615, -6.111407722655157]\n",
      "std deviation: [28.14894383186096, 20.627467601288828]\n"
     ]
    },
    {
     "name": "stderr",
     "output_type": "stream",
     "text": [
      "[DEBUG-bo-03/08/2021-14:40:01] num_samples is ignored.\n"
     ]
    },
    {
     "name": "stdout",
     "output_type": "stream",
     "text": [
      "Iterat #Fevals   function value  axis ratio  sigma  min&max std  t[m:s]\n",
      "    1      6 -1.955132236606344e+01 1.0e+00 4.44e+01  4e+01  4e+01 0:00.0\n",
      "termination on tolfun=1e-11 (Mon Mar  8 14:40:01 2021)\n",
      "final/bestever f-value = -1.955132e+01 -1.955132e+01\n",
      "incumbent solution: [99.95637455948923, -88.34414687690317]\n",
      "std deviation: [39.584522423722234, 44.054347994257796]\n"
     ]
    },
    {
     "name": "stderr",
     "output_type": "stream",
     "text": [
      "[INFO-wrappers_bo-03/08/2021-14:40:01] Iteration 6\n",
      "[DEBUG-bo-03/08/2021-14:40:01] num_samples is ignored.\n"
     ]
    },
    {
     "name": "stdout",
     "output_type": "stream",
     "text": [
      "Iterat #Fevals   function value  axis ratio  sigma  min&max std  t[m:s]\n",
      "    1      6 -1.904348127042834e+01 1.0e+00 5.85e+01  5e+01  7e+01 0:00.0\n",
      "    2     12 -1.904348127042834e+01 1.4e+00 5.25e+01  4e+01  6e+01 0:00.0\n"
     ]
    },
    {
     "name": "stderr",
     "output_type": "stream",
     "text": [
      "[INFO-wrappers_bo-03/08/2021-14:40:01] range_X:\n",
      "[[-100, 100],\n",
      "[-100, 100]]\n"
     ]
    },
    {
     "name": "stdout",
     "output_type": "stream",
     "text": [
      "termination on tolfun=1e-11 (Mon Mar  8 14:40:01 2021)\n",
      "final/bestever f-value = -1.904348e+01 -1.904348e+01\n",
      "incumbent solution: [-92.60149087836199, -15.616566519931538]\n",
      "std deviation: [43.683785071053684, 60.66743176027578]\n",
      "BO Round 9\n"
     ]
    },
    {
     "name": "stderr",
     "output_type": "stream",
     "text": [
      "[INFO-wrappers_bo-03/08/2021-14:40:01] str_cov: matern52\n",
      "[INFO-wrappers_bo-03/08/2021-14:40:01] str_acq: ei\n",
      "[INFO-wrappers_bo-03/08/2021-14:40:01] str_optimizer_method_gp: BFGS\n",
      "[INFO-wrappers_bo-03/08/2021-14:40:01] str_optimizer_method_bo: CMA-ES\n",
      "[INFO-wrappers_bo-03/08/2021-14:40:01] str_modelselection_method: ml\n",
      "[INFO-wrappers_bo-03/08/2021-14:40:01] num_init: 10\n",
      "[INFO-wrappers_bo-03/08/2021-14:40:01] num_iter: 2\n",
      "[INFO-wrappers_bo-03/08/2021-14:40:01] str_initial_method_bo: uniform\n",
      "[INFO-wrappers_bo-03/08/2021-14:40:01] str_sampling_method_ao: uniform\n",
      "[INFO-wrappers_bo-03/08/2021-14:40:01] num_samples_ao: 100\n",
      "[INFO-wrappers_bo-03/08/2021-14:40:01] str_mlm_method: regular\n",
      "[INFO-wrappers_bo-03/08/2021-14:40:01] seed: None\n",
      "[INFO-wrappers_bo-03/08/2021-14:40:01] Iteration 1\n",
      "[DEBUG-bo-03/08/2021-14:40:01] num_samples is ignored.\n"
     ]
    },
    {
     "name": "stdout",
     "output_type": "stream",
     "text": [
      "Iterat #Fevals   function value  axis ratio  sigma  min&max std  t[m:s]\n",
      "    1      6 -1.777332360779205e+01 1.0e+00 4.33e+01  4e+01  4e+01 0:00.0\n"
     ]
    },
    {
     "name": "stderr",
     "output_type": "stream",
     "text": [
      "[INFO-wrappers_bo-03/08/2021-14:40:01] Iteration 2\n"
     ]
    },
    {
     "name": "stdout",
     "output_type": "stream",
     "text": [
      "termination on tolfun=1e-11 (Mon Mar  8 14:40:01 2021)\n",
      "final/bestever f-value = -1.777332e+01 -1.777332e+01\n",
      "incumbent solution: [-86.74099988477258, 64.32792070932966]\n",
      "std deviation: [36.75733758009468, 43.17848199953605]\n"
     ]
    },
    {
     "name": "stderr",
     "output_type": "stream",
     "text": [
      "[DEBUG-bo-03/08/2021-14:40:01] num_samples is ignored.\n"
     ]
    },
    {
     "name": "stdout",
     "output_type": "stream",
     "text": [
      "Iterat #Fevals   function value  axis ratio  sigma  min&max std  t[m:s]\n",
      "    1      6 -2.010016842393811e+01 1.0e+00 6.03e+01  6e+01  7e+01 0:00.0\n"
     ]
    },
    {
     "name": "stderr",
     "output_type": "stream",
     "text": [
      "[INFO-wrappers_bo-03/08/2021-14:40:01] range_X:\n",
      "[[-100, 100],\n",
      "[-100, 100]]\n",
      "[INFO-wrappers_bo-03/08/2021-14:40:01] str_cov: matern52\n",
      "[INFO-wrappers_bo-03/08/2021-14:40:01] str_acq: ei\n",
      "[INFO-wrappers_bo-03/08/2021-14:40:01] str_optimizer_method_gp: BFGS\n"
     ]
    },
    {
     "name": "stdout",
     "output_type": "stream",
     "text": [
      "termination on tolfun=1e-11 (Mon Mar  8 14:40:01 2021)\n",
      "final/bestever f-value = -2.010017e+01 -2.010017e+01\n",
      "incumbent solution: [0.7639395463002039, 47.879517967018316]\n",
      "std deviation: [56.359026713929254, 74.33683252074779]\n",
      "BO Round 10\n"
     ]
    },
    {
     "name": "stderr",
     "output_type": "stream",
     "text": [
      "[INFO-wrappers_bo-03/08/2021-14:40:01] str_optimizer_method_bo: CMA-ES\n",
      "[INFO-wrappers_bo-03/08/2021-14:40:01] str_modelselection_method: ml\n",
      "[INFO-wrappers_bo-03/08/2021-14:40:01] num_init: 2\n",
      "[INFO-wrappers_bo-03/08/2021-14:40:01] num_iter: 6\n",
      "[INFO-wrappers_bo-03/08/2021-14:40:01] str_initial_method_bo: uniform\n",
      "[INFO-wrappers_bo-03/08/2021-14:40:01] str_sampling_method_ao: uniform\n",
      "[INFO-wrappers_bo-03/08/2021-14:40:01] num_samples_ao: 100\n",
      "[INFO-wrappers_bo-03/08/2021-14:40:01] str_mlm_method: regular\n",
      "[INFO-wrappers_bo-03/08/2021-14:40:01] seed: None\n",
      "[INFO-wrappers_bo-03/08/2021-14:40:01] Iteration 1\n",
      "[DEBUG-bo-03/08/2021-14:40:01] num_samples is ignored.\n"
     ]
    },
    {
     "name": "stdout",
     "output_type": "stream",
     "text": [
      "Iterat #Fevals   function value  axis ratio  sigma  min&max std  t[m:s]\n",
      "    1      6 -2.820848170587727e+01 1.0e+00 6.18e+01  6e+01  8e+01 0:00.0\n",
      "    2     12 -2.820848170587727e+01 1.3e+00 5.10e+01  4e+01  7e+01 0:00.0\n"
     ]
    },
    {
     "name": "stderr",
     "output_type": "stream",
     "text": [
      "[INFO-wrappers_bo-03/08/2021-14:40:01] Iteration 2\n"
     ]
    },
    {
     "name": "stdout",
     "output_type": "stream",
     "text": [
      "termination on tolfun=1e-11 (Mon Mar  8 14:40:01 2021)\n",
      "termination on tolflatfitness=1 (Mon Mar  8 14:40:01 2021)\n",
      "final/bestever f-value = -2.820848e+01 -2.820848e+01\n",
      "incumbent solution: [-5.5989129131230015, -57.05751909419957]\n",
      "std deviation: [66.1228186928081, 42.475820905247566]\n"
     ]
    },
    {
     "name": "stderr",
     "output_type": "stream",
     "text": [
      "[DEBUG-bo-03/08/2021-14:40:01] num_samples is ignored.\n"
     ]
    },
    {
     "name": "stdout",
     "output_type": "stream",
     "text": [
      "Iterat #Fevals   function value  axis ratio  sigma  min&max std  t[m:s]\n",
      "    1      6 -2.848048001523279e+01 1.0e+00 4.65e+01  4e+01  5e+01 0:00.0\n",
      "termination on tolfun=1e-11 (Mon Mar  8 14:40:01 2021)\n",
      "final/bestever f-value = -2.848048e+01 -2.848048e+01\n",
      "incumbent solution: [44.743853106567826, 43.091146587907396]\n",
      "std deviation: [44.07839490513819, 45.843333299929085]\n"
     ]
    },
    {
     "name": "stderr",
     "output_type": "stream",
     "text": [
      "[INFO-wrappers_bo-03/08/2021-14:40:01] Iteration 3\n",
      "[DEBUG-bo-03/08/2021-14:40:01] num_samples is ignored.\n"
     ]
    },
    {
     "name": "stdout",
     "output_type": "stream",
     "text": [
      "Iterat #Fevals   function value  axis ratio  sigma  min&max std  t[m:s]\n",
      "    1      6 -2.806911983079651e+01 1.0e+00 4.75e+01  4e+01  5e+01 0:00.0\n"
     ]
    },
    {
     "name": "stderr",
     "output_type": "stream",
     "text": [
      "[INFO-wrappers_bo-03/08/2021-14:40:02] Iteration 4\n"
     ]
    },
    {
     "name": "stdout",
     "output_type": "stream",
     "text": [
      "termination on tolfun=1e-11 (Mon Mar  8 14:40:02 2021)\n",
      "final/bestever f-value = -2.806912e+01 -2.806912e+01\n",
      "incumbent solution: [84.7418302419164, -45.43058334310633]\n",
      "std deviation: [48.80487762188235, 43.17906407706257]\n"
     ]
    },
    {
     "name": "stderr",
     "output_type": "stream",
     "text": [
      "[DEBUG-bo-03/08/2021-14:40:02] num_samples is ignored.\n"
     ]
    },
    {
     "name": "stdout",
     "output_type": "stream",
     "text": [
      "Iterat #Fevals   function value  axis ratio  sigma  min&max std  t[m:s]\n",
      "    1      6 -2.566845332484632e+01 1.0e+00 4.30e+01  4e+01  4e+01 0:00.0\n"
     ]
    },
    {
     "name": "stderr",
     "output_type": "stream",
     "text": [
      "[INFO-wrappers_bo-03/08/2021-14:40:02] Iteration 5\n",
      "[DEBUG-bo-03/08/2021-14:40:02] num_samples is ignored.\n"
     ]
    },
    {
     "name": "stdout",
     "output_type": "stream",
     "text": [
      "termination on tolfun=1e-11 (Mon Mar  8 14:40:02 2021)\n",
      "final/bestever f-value = -2.566845e+01 -2.566845e+01\n",
      "incumbent solution: [99.73158879304117, 98.04573268704787]\n",
      "std deviation: [41.62372439769048, 38.25404724050005]\n",
      "Iterat #Fevals   function value  axis ratio  sigma  min&max std  t[m:s]\n",
      "    1      6 -2.406414972381612e+01 1.0e+00 4.12e+01  4e+01  4e+01 0:00.0\n"
     ]
    },
    {
     "name": "stderr",
     "output_type": "stream",
     "text": [
      "[INFO-wrappers_bo-03/08/2021-14:40:02] Iteration 6\n",
      "[DEBUG-bo-03/08/2021-14:40:02] num_samples is ignored.\n"
     ]
    },
    {
     "name": "stdout",
     "output_type": "stream",
     "text": [
      "termination on tolfun=1e-11 (Mon Mar  8 14:40:02 2021)\n",
      "final/bestever f-value = -2.406415e+01 -2.406415e+01\n",
      "incumbent solution: [-87.8839147189633, 71.27848794876797]\n",
      "std deviation: [40.873611512726534, 35.2300275808803]\n",
      "Iterat #Fevals   function value  axis ratio  sigma  min&max std  t[m:s]\n",
      "    1      6 -2.299969966131353e+01 1.0e+00 4.80e+01  5e+01  5e+01 0:00.0\n"
     ]
    },
    {
     "name": "stderr",
     "output_type": "stream",
     "text": [
      "[INFO-wrappers_bo-03/08/2021-14:40:02] range_X:\n",
      "[[-100, 100],\n",
      "[-100, 100]]\n",
      "[INFO-wrappers_bo-03/08/2021-14:40:02] str_cov: matern52\n",
      "[INFO-wrappers_bo-03/08/2021-14:40:02] str_acq: ei\n",
      "[INFO-wrappers_bo-03/08/2021-14:40:02] str_optimizer_method_gp: BFGS\n",
      "[INFO-wrappers_bo-03/08/2021-14:40:02] str_optimizer_method_bo: CMA-ES\n",
      "[INFO-wrappers_bo-03/08/2021-14:40:02] str_modelselection_method: ml\n",
      "[INFO-wrappers_bo-03/08/2021-14:40:02] num_init: 4\n",
      "[INFO-wrappers_bo-03/08/2021-14:40:02] num_iter: 7\n",
      "[INFO-wrappers_bo-03/08/2021-14:40:02] str_initial_method_bo: uniform\n",
      "[INFO-wrappers_bo-03/08/2021-14:40:02] str_sampling_method_ao: uniform\n",
      "[INFO-wrappers_bo-03/08/2021-14:40:02] num_samples_ao: 100\n",
      "[INFO-wrappers_bo-03/08/2021-14:40:02] str_mlm_method: regular\n",
      "[INFO-wrappers_bo-03/08/2021-14:40:02] seed: None\n",
      "[INFO-wrappers_bo-03/08/2021-14:40:02] Iteration 1\n",
      "[DEBUG-bo-03/08/2021-14:40:02] num_samples is ignored.\n"
     ]
    },
    {
     "name": "stdout",
     "output_type": "stream",
     "text": [
      "termination on tolfun=1e-11 (Mon Mar  8 14:40:02 2021)\n",
      "final/bestever f-value = -2.299970e+01 -2.299970e+01\n",
      "incumbent solution: [-6.695176757129246, -23.906615753297658]\n",
      "std deviation: [46.71448173452741, 45.588511241850924]\n",
      "BO Round 11\n",
      "Iterat #Fevals   function value  axis ratio  sigma  min&max std  t[m:s]\n",
      "    1      6 -2.205128200230529e+01 1.0e+00 4.77e+01  4e+01  5e+01 0:00.0\n"
     ]
    },
    {
     "name": "stderr",
     "output_type": "stream",
     "text": [
      "[INFO-wrappers_bo-03/08/2021-14:40:02] Iteration 2\n"
     ]
    },
    {
     "name": "stdout",
     "output_type": "stream",
     "text": [
      "termination on tolfun=1e-11 (Mon Mar  8 14:40:02 2021)\n",
      "final/bestever f-value = -2.205128e+01 -2.205128e+01\n",
      "incumbent solution: [-5.10795232190145, 0.9508640293202362]\n",
      "std deviation: [44.342716770051425, 48.40758204428687]\n"
     ]
    },
    {
     "name": "stderr",
     "output_type": "stream",
     "text": [
      "[DEBUG-bo-03/08/2021-14:40:02] num_samples is ignored.\n"
     ]
    },
    {
     "name": "stdout",
     "output_type": "stream",
     "text": [
      "Iterat #Fevals   function value  axis ratio  sigma  min&max std  t[m:s]\n",
      "    1      6 -1.991808368845064e+01 1.0e+00 4.94e+01  5e+01  5e+01 0:00.0\n",
      "termination on tolfun=1e-11 (Mon Mar  8 14:40:02 2021)\n",
      "final/bestever f-value = -1.991808e+01 -1.991808e+01\n",
      "incumbent solution: [-40.904491081227924, -57.556413598568085]\n",
      "std deviation: [51.22727875323859, 46.34072687303715]\n"
     ]
    },
    {
     "name": "stderr",
     "output_type": "stream",
     "text": [
      "[INFO-wrappers_bo-03/08/2021-14:40:02] Iteration 3\n",
      "[DEBUG-bo-03/08/2021-14:40:02] num_samples is ignored.\n"
     ]
    },
    {
     "name": "stdout",
     "output_type": "stream",
     "text": [
      "Iterat #Fevals   function value  axis ratio  sigma  min&max std  t[m:s]\n",
      "    1      6 -3.186673346502774e+01 1.0e+00 5.44e+01  4e+01  7e+01 0:00.0\n"
     ]
    },
    {
     "name": "stderr",
     "output_type": "stream",
     "text": [
      "[INFO-wrappers_bo-03/08/2021-14:40:02] Iteration 4\n"
     ]
    },
    {
     "name": "stdout",
     "output_type": "stream",
     "text": [
      "termination on tolfun=1e-11 (Mon Mar  8 14:40:02 2021)\n",
      "final/bestever f-value = -3.186673e+01 -3.186673e+01\n",
      "incumbent solution: [-17.10202891752479, 24.822265140220722]\n",
      "std deviation: [44.440930935022244, 68.45626710155156]\n"
     ]
    },
    {
     "name": "stderr",
     "output_type": "stream",
     "text": [
      "[DEBUG-bo-03/08/2021-14:40:02] num_samples is ignored.\n"
     ]
    },
    {
     "name": "stdout",
     "output_type": "stream",
     "text": [
      "Iterat #Fevals   function value  axis ratio  sigma  min&max std  t[m:s]\n",
      "    1      6 -3.229498309997030e+01 1.0e+00 4.13e+01  3e+01  4e+01 0:00.0\n",
      "    2     12 -3.229498309997030e+01 1.1e+00 2.96e+01  2e+01  3e+01 0:00.0\n"
     ]
    },
    {
     "name": "stderr",
     "output_type": "stream",
     "text": [
      "[INFO-wrappers_bo-03/08/2021-14:40:02] Iteration 5\n",
      "[DEBUG-bo-03/08/2021-14:40:02] num_samples is ignored.\n"
     ]
    },
    {
     "name": "stdout",
     "output_type": "stream",
     "text": [
      "termination on tolfun=1e-11 (Mon Mar  8 14:40:02 2021)\n",
      "final/bestever f-value = -3.229498e+01 -3.229498e+01\n",
      "incumbent solution: [-47.09347429550213, -63.26402505809505]\n",
      "std deviation: [25.74719008899687, 21.288461960815106]\n",
      "Iterat #Fevals   function value  axis ratio  sigma  min&max std  t[m:s]\n",
      "    1      6 -3.177880164488654e+01 1.0e+00 5.69e+01  5e+01  7e+01 0:00.0\n"
     ]
    },
    {
     "name": "stderr",
     "output_type": "stream",
     "text": [
      "[INFO-wrappers_bo-03/08/2021-14:40:02] Iteration 6\n",
      "[DEBUG-bo-03/08/2021-14:40:02] num_samples is ignored.\n"
     ]
    },
    {
     "name": "stdout",
     "output_type": "stream",
     "text": [
      "termination on tolfun=1e-11 (Mon Mar  8 14:40:02 2021)\n",
      "final/bestever f-value = -3.177880e+01 -3.177880e+01\n",
      "incumbent solution: [-11.064030060746845, -63.34034110171916]\n",
      "std deviation: [65.9367905543229, 54.80910087559525]\n",
      "Iterat #Fevals   function value  axis ratio  sigma  min&max std  t[m:s]\n",
      "    1      6 -3.182524133890062e+01 1.0e+00 5.47e+01  5e+01  6e+01 0:00.0\n"
     ]
    },
    {
     "name": "stderr",
     "output_type": "stream",
     "text": [
      "[INFO-wrappers_bo-03/08/2021-14:40:02] Iteration 7\n",
      "[DEBUG-bo-03/08/2021-14:40:02] num_samples is ignored.\n"
     ]
    },
    {
     "name": "stdout",
     "output_type": "stream",
     "text": [
      "termination on tolfun=1e-11 (Mon Mar  8 14:40:02 2021)\n",
      "final/bestever f-value = -3.182524e+01 -3.182524e+01\n",
      "incumbent solution: [-78.12362292345136, 9.676771387326767]\n",
      "std deviation: [49.541238129156476, 62.623588404041314]\n",
      "Iterat #Fevals   function value  axis ratio  sigma  min&max std  t[m:s]\n",
      "    1      6 -3.199149588937809e+01 1.0e+00 6.53e+01  6e+01  9e+01 0:00.0\n",
      "    2     12 -3.199149588937809e+01 1.5e+00 6.13e+01  5e+01  8e+01 0:00.0\n",
      "    3     18 -3.199149588937809e+01 1.4e+00 5.82e+01  4e+01  8e+01 0:00.0\n",
      "    6     36 -3.199149588937809e+01 2.6e+00 1.12e+02  9e+01  2e+02 0:00.0\n"
     ]
    },
    {
     "name": "stderr",
     "output_type": "stream",
     "text": [
      "[INFO-wrappers_bo-03/08/2021-14:40:02] range_X:\n",
      "[[-100, 100],\n",
      "[-100, 100]]\n",
      "[INFO-wrappers_bo-03/08/2021-14:40:02] str_cov: matern52\n",
      "[INFO-wrappers_bo-03/08/2021-14:40:02] str_acq: ei\n",
      "[INFO-wrappers_bo-03/08/2021-14:40:02] str_optimizer_method_gp: BFGS\n",
      "[INFO-wrappers_bo-03/08/2021-14:40:02] str_optimizer_method_bo: CMA-ES\n",
      "[INFO-wrappers_bo-03/08/2021-14:40:02] str_modelselection_method: ml\n",
      "[INFO-wrappers_bo-03/08/2021-14:40:02] num_init: 2\n",
      "[INFO-wrappers_bo-03/08/2021-14:40:02] num_iter: 6\n",
      "[INFO-wrappers_bo-03/08/2021-14:40:02] str_initial_method_bo: uniform\n",
      "[INFO-wrappers_bo-03/08/2021-14:40:02] str_sampling_method_ao: uniform\n",
      "[INFO-wrappers_bo-03/08/2021-14:40:02] num_samples_ao: 100\n",
      "[INFO-wrappers_bo-03/08/2021-14:40:02] str_mlm_method: regular\n",
      "[INFO-wrappers_bo-03/08/2021-14:40:02] seed: None\n",
      "[INFO-wrappers_bo-03/08/2021-14:40:02] Iteration 1\n"
     ]
    },
    {
     "name": "stdout",
     "output_type": "stream",
     "text": [
      "termination on tolfun=1e-11 (Mon Mar  8 14:40:02 2021)\n",
      "final/bestever f-value = -3.199150e+01 -3.199150e+01\n",
      "incumbent solution: [56.61007100928683, -66.61017216143497]\n",
      "std deviation: [85.14963077594243, 170.61141278882317]\n",
      "BO Round 12\n"
     ]
    },
    {
     "name": "stderr",
     "output_type": "stream",
     "text": [
      "[DEBUG-bo-03/08/2021-14:40:02] num_samples is ignored.\n"
     ]
    },
    {
     "name": "stdout",
     "output_type": "stream",
     "text": [
      "Iterat #Fevals   function value  axis ratio  sigma  min&max std  t[m:s]\n",
      "    1      6 -2.820848170587727e+01 1.0e+00 5.82e+01  6e+01  6e+01 0:00.0\n",
      "    2     12 -2.820848170587727e+01 1.4e+00 5.70e+01  6e+01  6e+01 0:00.0\n"
     ]
    },
    {
     "name": "stderr",
     "output_type": "stream",
     "text": [
      "[INFO-wrappers_bo-03/08/2021-14:40:02] Iteration 2\n"
     ]
    },
    {
     "name": "stdout",
     "output_type": "stream",
     "text": [
      "termination on tolflatfitness=1 (Mon Mar  8 14:40:02 2021)\n",
      "final/bestever f-value = -2.820848e+01 -2.820848e+01\n",
      "incumbent solution: [86.68217114300725, -72.92654370909702]\n",
      "std deviation: [57.145870887862856, 56.322304955076106]\n"
     ]
    },
    {
     "name": "stderr",
     "output_type": "stream",
     "text": [
      "[DEBUG-bo-03/08/2021-14:40:02] num_samples is ignored.\n"
     ]
    },
    {
     "name": "stdout",
     "output_type": "stream",
     "text": [
      "Iterat #Fevals   function value  axis ratio  sigma  min&max std  t[m:s]\n",
      "    1      6 -2.431852489191753e+01 1.0e+00 4.04e+01  4e+01  4e+01 0:00.0\n"
     ]
    },
    {
     "name": "stderr",
     "output_type": "stream",
     "text": [
      "[INFO-wrappers_bo-03/08/2021-14:40:02] Iteration 3\n",
      "[DEBUG-bo-03/08/2021-14:40:02] num_samples is ignored.\n"
     ]
    },
    {
     "name": "stdout",
     "output_type": "stream",
     "text": [
      "termination on tolfun=1e-11 (Mon Mar  8 14:40:02 2021)\n",
      "final/bestever f-value = -2.431852e+01 -2.431852e+01\n",
      "incumbent solution: [97.8139756863772, -21.331980379401116]\n",
      "std deviation: [35.355693037599785, 36.85953920786139]\n",
      "Iterat #Fevals   function value  axis ratio  sigma  min&max std  t[m:s]\n",
      "    1      6 -2.577943324420085e+01 1.0e+00 4.54e+01  4e+01  4e+01 0:00.0\n",
      "    2     12 -2.577943324420085e+01 1.1e+00 3.90e+01  3e+01  3e+01 0:00.0\n"
     ]
    },
    {
     "name": "stderr",
     "output_type": "stream",
     "text": [
      "[INFO-wrappers_bo-03/08/2021-14:40:02] Iteration 4\n"
     ]
    },
    {
     "name": "stdout",
     "output_type": "stream",
     "text": [
      "termination on tolfun=1e-11 (Mon Mar  8 14:40:02 2021)\n",
      "termination on tolflatfitness=1 (Mon Mar  8 14:40:02 2021)\n",
      "final/bestever f-value = -2.577943e+01 -2.577943e+01\n",
      "incumbent solution: [4.7874017464622405, -11.108978458418008]\n",
      "std deviation: [34.01348036193264, 34.70115189395911]\n"
     ]
    },
    {
     "name": "stderr",
     "output_type": "stream",
     "text": [
      "[DEBUG-bo-03/08/2021-14:40:02] num_samples is ignored.\n"
     ]
    },
    {
     "name": "stdout",
     "output_type": "stream",
     "text": [
      "Iterat #Fevals   function value  axis ratio  sigma  min&max std  t[m:s]\n",
      "    1      6 -2.427547788453893e+01 1.0e+00 7.53e+01  8e+01  9e+01 0:00.0\n"
     ]
    },
    {
     "name": "stderr",
     "output_type": "stream",
     "text": [
      "[INFO-wrappers_bo-03/08/2021-14:40:02] Iteration 5\n",
      "[DEBUG-bo-03/08/2021-14:40:02] num_samples is ignored.\n"
     ]
    },
    {
     "name": "stdout",
     "output_type": "stream",
     "text": [
      "termination on tolfun=1e-11 (Mon Mar  8 14:40:02 2021)\n",
      "final/bestever f-value = -2.427548e+01 -2.427548e+01\n",
      "incumbent solution: [29.088716211778063, 30.983778571080506]\n",
      "std deviation: [76.99799855793802, 85.36828213325025]\n",
      "Iterat #Fevals   function value  axis ratio  sigma  min&max std  t[m:s]\n",
      "    1      6 -2.241621280688120e+01 1.0e+00 5.02e+01  4e+01  6e+01 0:00.0\n"
     ]
    },
    {
     "name": "stderr",
     "output_type": "stream",
     "text": [
      "[INFO-wrappers_bo-03/08/2021-14:40:02] Iteration 6\n"
     ]
    },
    {
     "name": "stdout",
     "output_type": "stream",
     "text": [
      "termination on tolfun=1e-11 (Mon Mar  8 14:40:02 2021)\n",
      "final/bestever f-value = -2.241621e+01 -2.241621e+01\n",
      "incumbent solution: [14.988963128632868, -58.90553420785392]\n",
      "std deviation: [40.93918338911709, 55.358941296002165]\n"
     ]
    },
    {
     "name": "stderr",
     "output_type": "stream",
     "text": [
      "[DEBUG-bo-03/08/2021-14:40:02] num_samples is ignored.\n"
     ]
    },
    {
     "name": "stdout",
     "output_type": "stream",
     "text": [
      "Iterat #Fevals   function value  axis ratio  sigma  min&max std  t[m:s]\n",
      "    1      6 -2.265115035761590e+01 1.0e+00 5.00e+01  4e+01  6e+01 0:00.0\n"
     ]
    },
    {
     "name": "stderr",
     "output_type": "stream",
     "text": [
      "[INFO-wrappers_bo-03/08/2021-14:40:02] range_X:\n",
      "[[-100, 100],\n",
      "[-100, 100]]\n"
     ]
    },
    {
     "name": "stdout",
     "output_type": "stream",
     "text": [
      "termination on tolfun=1e-11 (Mon Mar  8 14:40:02 2021)\n",
      "final/bestever f-value = -2.265115e+01 -2.265115e+01\n",
      "incumbent solution: [-96.6988150199924, 53.16858300495207]\n",
      "std deviation: [56.85961361695944, 43.05706039398357]\n",
      "BO Round 13\n"
     ]
    },
    {
     "name": "stderr",
     "output_type": "stream",
     "text": [
      "[INFO-wrappers_bo-03/08/2021-14:40:02] str_cov: matern52\n",
      "[INFO-wrappers_bo-03/08/2021-14:40:02] str_acq: ei\n",
      "[INFO-wrappers_bo-03/08/2021-14:40:02] str_optimizer_method_gp: BFGS\n",
      "[INFO-wrappers_bo-03/08/2021-14:40:02] str_optimizer_method_bo: CMA-ES\n",
      "[INFO-wrappers_bo-03/08/2021-14:40:02] str_modelselection_method: ml\n",
      "[INFO-wrappers_bo-03/08/2021-14:40:02] num_init: 2\n",
      "[INFO-wrappers_bo-03/08/2021-14:40:02] num_iter: 6\n",
      "[INFO-wrappers_bo-03/08/2021-14:40:02] str_initial_method_bo: uniform\n",
      "[INFO-wrappers_bo-03/08/2021-14:40:02] str_sampling_method_ao: uniform\n",
      "[INFO-wrappers_bo-03/08/2021-14:40:02] num_samples_ao: 100\n",
      "[INFO-wrappers_bo-03/08/2021-14:40:02] str_mlm_method: regular\n",
      "[INFO-wrappers_bo-03/08/2021-14:40:02] seed: None\n",
      "[INFO-wrappers_bo-03/08/2021-14:40:02] Iteration 1\n",
      "[DEBUG-bo-03/08/2021-14:40:02] num_samples is ignored.\n"
     ]
    },
    {
     "name": "stdout",
     "output_type": "stream",
     "text": [
      "Iterat #Fevals   function value  axis ratio  sigma  min&max std  t[m:s]\n",
      "    1      6 -2.820848170587727e+01 1.0e+00 5.07e+01  5e+01  5e+01 0:00.0\n"
     ]
    },
    {
     "name": "stderr",
     "output_type": "stream",
     "text": [
      "[INFO-wrappers_bo-03/08/2021-14:40:02] Iteration 2\n"
     ]
    },
    {
     "name": "stdout",
     "output_type": "stream",
     "text": [
      "termination on tolfun=1e-11 (Mon Mar  8 14:40:02 2021)\n",
      "final/bestever f-value = -2.820848e+01 -2.820848e+01\n",
      "incumbent solution: [-8.285886376783104, 20.16931372784066]\n",
      "std deviation: [49.97183580026797, 50.24207966034132]\n"
     ]
    },
    {
     "name": "stderr",
     "output_type": "stream",
     "text": [
      "[DEBUG-bo-03/08/2021-14:40:02] num_samples is ignored.\n"
     ]
    },
    {
     "name": "stdout",
     "output_type": "stream",
     "text": [
      "Iterat #Fevals   function value  axis ratio  sigma  min&max std  t[m:s]\n",
      "    1      6 -2.604076470948264e+01 1.0e+00 3.90e+01  3e+01  4e+01 0:00.0\n"
     ]
    },
    {
     "name": "stderr",
     "output_type": "stream",
     "text": [
      "[INFO-wrappers_bo-03/08/2021-14:40:02] Iteration 3\n"
     ]
    },
    {
     "name": "stdout",
     "output_type": "stream",
     "text": [
      "termination on tolfun=1e-11 (Mon Mar  8 14:40:02 2021)\n",
      "final/bestever f-value = -2.604076e+01 -2.604076e+01\n",
      "incumbent solution: [46.81767673630743, 44.19971285487936]\n",
      "std deviation: [37.96580468886479, 34.39631119620543]\n"
     ]
    },
    {
     "name": "stderr",
     "output_type": "stream",
     "text": [
      "[DEBUG-bo-03/08/2021-14:40:02] num_samples is ignored.\n"
     ]
    },
    {
     "name": "stdout",
     "output_type": "stream",
     "text": [
      "Iterat #Fevals   function value  axis ratio  sigma  min&max std  t[m:s]\n",
      "    1      6 -2.050572402763618e+01 1.0e+00 5.72e+01  5e+01  6e+01 0:00.0\n",
      "    2     12 -2.050572402763618e+01 1.3e+00 6.75e+01  6e+01  9e+01 0:00.0\n"
     ]
    },
    {
     "name": "stderr",
     "output_type": "stream",
     "text": [
      "[INFO-wrappers_bo-03/08/2021-14:40:02] Iteration 4\n"
     ]
    },
    {
     "name": "stdout",
     "output_type": "stream",
     "text": [
      "termination on tolfun=1e-11 (Mon Mar  8 14:40:02 2021)\n",
      "termination on tolflatfitness=1 (Mon Mar  8 14:40:02 2021)\n",
      "final/bestever f-value = -2.050572e+01 -2.050572e+01\n",
      "incumbent solution: [11.365934016092403, 23.114391156152774]\n",
      "std deviation: [85.21237350623704, 60.57036879681666]\n"
     ]
    },
    {
     "name": "stderr",
     "output_type": "stream",
     "text": [
      "[DEBUG-bo-03/08/2021-14:40:02] num_samples is ignored.\n"
     ]
    },
    {
     "name": "stdout",
     "output_type": "stream",
     "text": [
      "Iterat #Fevals   function value  axis ratio  sigma  min&max std  t[m:s]\n",
      "    1      6 -1.935890654001136e+01 1.0e+00 4.62e+01  4e+01  5e+01 0:00.0\n"
     ]
    },
    {
     "name": "stderr",
     "output_type": "stream",
     "text": [
      "[INFO-wrappers_bo-03/08/2021-14:40:02] Iteration 5\n"
     ]
    },
    {
     "name": "stdout",
     "output_type": "stream",
     "text": [
      "termination on tolfun=1e-11 (Mon Mar  8 14:40:02 2021)\n",
      "final/bestever f-value = -1.935891e+01 -1.935891e+01\n",
      "incumbent solution: [-96.67850884698056, -78.22198700241373]\n",
      "std deviation: [39.568851794949296, 49.58200709139543]\n"
     ]
    },
    {
     "name": "stderr",
     "output_type": "stream",
     "text": [
      "[DEBUG-bo-03/08/2021-14:40:02] num_samples is ignored.\n"
     ]
    },
    {
     "name": "stdout",
     "output_type": "stream",
     "text": [
      "Iterat #Fevals   function value  axis ratio  sigma  min&max std  t[m:s]\n",
      "    1      6 -1.786370819006258e+01 1.0e+00 4.61e+01  4e+01  4e+01 0:00.0\n"
     ]
    },
    {
     "name": "stderr",
     "output_type": "stream",
     "text": [
      "[INFO-wrappers_bo-03/08/2021-14:40:02] Iteration 6\n"
     ]
    },
    {
     "name": "stdout",
     "output_type": "stream",
     "text": [
      "termination on tolfun=1e-11 (Mon Mar  8 14:40:02 2021)\n",
      "final/bestever f-value = -1.786371e+01 -1.786371e+01\n",
      "incumbent solution: [13.786780490995689, -70.1784936184767]\n",
      "std deviation: [43.931371436225426, 43.31515090999045]\n"
     ]
    },
    {
     "name": "stderr",
     "output_type": "stream",
     "text": [
      "[DEBUG-bo-03/08/2021-14:40:02] num_samples is ignored.\n"
     ]
    },
    {
     "name": "stdout",
     "output_type": "stream",
     "text": [
      "Iterat #Fevals   function value  axis ratio  sigma  min&max std  t[m:s]\n",
      "    1      6 -1.697316065753883e+01 1.0e+00 5.67e+01  6e+01  6e+01 0:00.0\n",
      "termination on tolfun=1e-11 (Mon Mar  8 14:40:02 2021)\n",
      "final/bestever f-value = -1.697316e+01 -1.697316e+01\n",
      "incumbent solution: [83.96703762933805, -36.67256438422375]\n",
      "std deviation: [58.71296273768574, 60.116919159589266]\n"
     ]
    },
    {
     "name": "stderr",
     "output_type": "stream",
     "text": [
      "[INFO-wrappers_bo-03/08/2021-14:40:02] range_X:\n",
      "[[-100, 100],\n",
      "[-100, 100]]\n"
     ]
    },
    {
     "name": "stdout",
     "output_type": "stream",
     "text": [
      "BO Round 14\n"
     ]
    },
    {
     "name": "stderr",
     "output_type": "stream",
     "text": [
      "[INFO-wrappers_bo-03/08/2021-14:40:02] str_cov: matern52\n",
      "[INFO-wrappers_bo-03/08/2021-14:40:02] str_acq: ei\n",
      "[INFO-wrappers_bo-03/08/2021-14:40:02] str_optimizer_method_gp: BFGS\n",
      "[INFO-wrappers_bo-03/08/2021-14:40:02] str_optimizer_method_bo: CMA-ES\n",
      "[INFO-wrappers_bo-03/08/2021-14:40:02] str_modelselection_method: ml\n",
      "[INFO-wrappers_bo-03/08/2021-14:40:02] num_init: 2\n",
      "[INFO-wrappers_bo-03/08/2021-14:40:02] num_iter: 4\n",
      "[INFO-wrappers_bo-03/08/2021-14:40:02] str_initial_method_bo: uniform\n",
      "[INFO-wrappers_bo-03/08/2021-14:40:02] str_sampling_method_ao: uniform\n",
      "[INFO-wrappers_bo-03/08/2021-14:40:02] num_samples_ao: 100\n",
      "[INFO-wrappers_bo-03/08/2021-14:40:02] str_mlm_method: regular\n",
      "[INFO-wrappers_bo-03/08/2021-14:40:02] seed: None\n",
      "[INFO-wrappers_bo-03/08/2021-14:40:02] Iteration 1\n",
      "[DEBUG-bo-03/08/2021-14:40:02] num_samples is ignored.\n"
     ]
    },
    {
     "name": "stdout",
     "output_type": "stream",
     "text": [
      "Iterat #Fevals   function value  axis ratio  sigma  min&max std  t[m:s]\n",
      "    1      6 -2.820848170587727e+01 1.0e+00 4.49e+01  4e+01  4e+01 0:00.0\n"
     ]
    },
    {
     "name": "stderr",
     "output_type": "stream",
     "text": [
      "[INFO-wrappers_bo-03/08/2021-14:40:02] Iteration 2\n"
     ]
    },
    {
     "name": "stdout",
     "output_type": "stream",
     "text": [
      "termination on tolfun=1e-11 (Mon Mar  8 14:40:02 2021)\n",
      "final/bestever f-value = -2.820848e+01 -2.820848e+01\n",
      "incumbent solution: [73.08456019068802, 68.40877444364455]\n",
      "std deviation: [39.66287283139356, 43.7265819634329]\n"
     ]
    },
    {
     "name": "stderr",
     "output_type": "stream",
     "text": [
      "[DEBUG-bo-03/08/2021-14:40:02] num_samples is ignored.\n"
     ]
    },
    {
     "name": "stdout",
     "output_type": "stream",
     "text": [
      "Iterat #Fevals   function value  axis ratio  sigma  min&max std  t[m:s]\n",
      "    1      6 -3.063183663802874e+01 1.0e+00 5.20e+01  5e+01  6e+01 0:00.0\n"
     ]
    },
    {
     "name": "stderr",
     "output_type": "stream",
     "text": [
      "[INFO-wrappers_bo-03/08/2021-14:40:02] Iteration 3\n"
     ]
    },
    {
     "name": "stdout",
     "output_type": "stream",
     "text": [
      "termination on tolfun=1e-11 (Mon Mar  8 14:40:02 2021)\n",
      "final/bestever f-value = -3.063184e+01 -3.063184e+01\n",
      "incumbent solution: [-8.421759162439184, 18.598759636764825]\n",
      "std deviation: [52.15408961748289, 56.05081250878341]\n"
     ]
    },
    {
     "name": "stderr",
     "output_type": "stream",
     "text": [
      "[DEBUG-bo-03/08/2021-14:40:02] num_samples is ignored.\n"
     ]
    },
    {
     "name": "stdout",
     "output_type": "stream",
     "text": [
      "Iterat #Fevals   function value  axis ratio  sigma  min&max std  t[m:s]\n",
      "    1      6 -3.314735321269256e+01 1.0e+00 4.43e+01  4e+01  5e+01 0:00.0\n"
     ]
    },
    {
     "name": "stderr",
     "output_type": "stream",
     "text": [
      "[INFO-wrappers_bo-03/08/2021-14:40:02] Iteration 4\n"
     ]
    },
    {
     "name": "stdout",
     "output_type": "stream",
     "text": [
      "termination on tolfun=1e-11 (Mon Mar  8 14:40:02 2021)\n",
      "final/bestever f-value = -3.314735e+01 -3.314735e+01\n",
      "incumbent solution: [53.07513246205304, 99.85452958784752]\n",
      "std deviation: [37.213001387431156, 45.198426363310666]\n"
     ]
    },
    {
     "name": "stderr",
     "output_type": "stream",
     "text": [
      "[DEBUG-bo-03/08/2021-14:40:02] num_samples is ignored.\n"
     ]
    },
    {
     "name": "stdout",
     "output_type": "stream",
     "text": [
      "Iterat #Fevals   function value  axis ratio  sigma  min&max std  t[m:s]\n",
      "    1      6 -2.570828495517976e+01 1.0e+00 4.25e+01  4e+01  4e+01 0:00.0\n",
      "    2     12 -2.570828495517976e+01 1.2e+00 5.19e+01  4e+01  7e+01 0:00.0\n",
      "    3     18 -2.570828495517976e+01 1.7e+00 5.48e+01  4e+01  7e+01 0:00.0\n"
     ]
    },
    {
     "name": "stderr",
     "output_type": "stream",
     "text": [
      "[INFO-wrappers_bo-03/08/2021-14:40:02] range_X:\n",
      "[[-100, 100],\n",
      "[-100, 100]]\n",
      "[INFO-wrappers_bo-03/08/2021-14:40:02] str_cov: matern52\n",
      "[INFO-wrappers_bo-03/08/2021-14:40:02] str_acq: ei\n",
      "[INFO-wrappers_bo-03/08/2021-14:40:02] str_optimizer_method_gp: BFGS\n",
      "[INFO-wrappers_bo-03/08/2021-14:40:02] str_optimizer_method_bo: CMA-ES\n",
      "[INFO-wrappers_bo-03/08/2021-14:40:02] str_modelselection_method: ml\n",
      "[INFO-wrappers_bo-03/08/2021-14:40:02] num_init: 6\n",
      "[INFO-wrappers_bo-03/08/2021-14:40:02] num_iter: 8\n",
      "[INFO-wrappers_bo-03/08/2021-14:40:02] str_initial_method_bo: uniform\n",
      "[INFO-wrappers_bo-03/08/2021-14:40:02] str_sampling_method_ao: uniform\n",
      "[INFO-wrappers_bo-03/08/2021-14:40:02] num_samples_ao: 100\n",
      "[INFO-wrappers_bo-03/08/2021-14:40:02] str_mlm_method: regular\n",
      "[INFO-wrappers_bo-03/08/2021-14:40:02] seed: None\n",
      "[INFO-wrappers_bo-03/08/2021-14:40:02] Iteration 1\n"
     ]
    },
    {
     "name": "stdout",
     "output_type": "stream",
     "text": [
      "termination on tolflatfitness=1 (Mon Mar  8 14:40:02 2021)\n",
      "final/bestever f-value = -2.570828e+01 -2.570828e+01\n",
      "incumbent solution: [4.427220720164229, 41.47453996701043]\n",
      "std deviation: [70.63253416996706, 37.63467681162113]\n",
      "BO Round 15\n"
     ]
    },
    {
     "name": "stderr",
     "output_type": "stream",
     "text": [
      "[DEBUG-bo-03/08/2021-14:40:02] num_samples is ignored.\n"
     ]
    },
    {
     "name": "stdout",
     "output_type": "stream",
     "text": [
      "Iterat #Fevals   function value  axis ratio  sigma  min&max std  t[m:s]\n",
      "    1      6 -2.870494952268505e+01 1.0e+00 3.97e+01  3e+01  4e+01 0:00.0\n",
      "    2     12 -2.870494952268505e+01 1.2e+00 3.11e+01  2e+01  3e+01 0:00.0\n",
      "termination on tolfun=1e-11 (Mon Mar  8 14:40:02 2021)\n",
      "termination on tolflatfitness=1 (Mon Mar  8 14:40:02 2021)\n",
      "final/bestever f-value = -2.870495e+01 -2.870495e+01\n",
      "incumbent solution: [-28.692035317279565, 17.93980031279625]\n",
      "std deviation: [22.642694140756785, 26.72627139188289]\n"
     ]
    },
    {
     "name": "stderr",
     "output_type": "stream",
     "text": [
      "[INFO-wrappers_bo-03/08/2021-14:40:02] Iteration 2\n",
      "[DEBUG-bo-03/08/2021-14:40:02] num_samples is ignored.\n"
     ]
    },
    {
     "name": "stdout",
     "output_type": "stream",
     "text": [
      "Iterat #Fevals   function value  axis ratio  sigma  min&max std  t[m:s]\n",
      "    1      6 -2.523512005845513e+01 1.0e+00 4.55e+01  4e+01  4e+01 0:00.0\n"
     ]
    },
    {
     "name": "stderr",
     "output_type": "stream",
     "text": [
      "[INFO-wrappers_bo-03/08/2021-14:40:02] Iteration 3\n",
      "[DEBUG-bo-03/08/2021-14:40:03] num_samples is ignored.\n"
     ]
    },
    {
     "name": "stdout",
     "output_type": "stream",
     "text": [
      "termination on tolfun=1e-11 (Mon Mar  8 14:40:02 2021)\n",
      "final/bestever f-value = -2.523512e+01 -2.523512e+01\n",
      "incumbent solution: [75.61655121244972, 19.802301728546517]\n",
      "std deviation: [44.37381705759832, 40.376151051891064]\n",
      "Iterat #Fevals   function value  axis ratio  sigma  min&max std  t[m:s]\n",
      "    1      6 -2.428454368173198e+01 1.0e+00 5.66e+01  5e+01  7e+01 0:00.0\n",
      "    2     12 -2.428454368173198e+01 1.4e+00 5.31e+01  5e+01  6e+01 0:00.0\n",
      "    3     18 -2.428454368173198e+01 1.3e+00 4.20e+01  4e+01  4e+01 0:00.0\n",
      "termination on tolflatfitness=1 (Mon Mar  8 14:40:03 2021)\n",
      "final/bestever f-value = -2.428454e+01 -2.428454e+01\n",
      "incumbent solution: [-35.93154580172309, 64.64801213948977]\n",
      "std deviation: [35.20356076492669, 44.4481498977137]\n"
     ]
    },
    {
     "name": "stderr",
     "output_type": "stream",
     "text": [
      "[INFO-wrappers_bo-03/08/2021-14:40:03] Iteration 4\n",
      "[DEBUG-bo-03/08/2021-14:40:03] num_samples is ignored.\n"
     ]
    },
    {
     "name": "stdout",
     "output_type": "stream",
     "text": [
      "Iterat #Fevals   function value  axis ratio  sigma  min&max std  t[m:s]\n",
      "    1      6 -2.289883591143537e+01 1.0e+00 4.68e+01  4e+01  5e+01 0:00.0\n",
      "termination on tolfun=1e-11 (Mon Mar  8 14:40:03 2021)\n",
      "final/bestever f-value = -2.289884e+01 -2.289884e+01\n",
      "incumbent solution: [-51.984818682390106, 83.77483830561283]\n",
      "std deviation: [40.838374908886244, 47.04905003994623]\n"
     ]
    },
    {
     "name": "stderr",
     "output_type": "stream",
     "text": [
      "[INFO-wrappers_bo-03/08/2021-14:40:03] Iteration 5\n",
      "[DEBUG-bo-03/08/2021-14:40:03] num_samples is ignored.\n"
     ]
    },
    {
     "name": "stdout",
     "output_type": "stream",
     "text": [
      "Iterat #Fevals   function value  axis ratio  sigma  min&max std  t[m:s]\n",
      "    1      6 -2.211795559833566e+01 1.0e+00 4.04e+01  3e+01  4e+01 0:00.0\n"
     ]
    },
    {
     "name": "stderr",
     "output_type": "stream",
     "text": [
      "[INFO-wrappers_bo-03/08/2021-14:40:03] Iteration 6\n"
     ]
    },
    {
     "name": "stdout",
     "output_type": "stream",
     "text": [
      "termination on tolfun=1e-11 (Mon Mar  8 14:40:03 2021)\n",
      "final/bestever f-value = -2.211796e+01 -2.211796e+01\n",
      "incumbent solution: [-55.28909126595356, -5.689291855640583]\n",
      "std deviation: [33.64585813366798, 40.05711636587774]\n"
     ]
    },
    {
     "name": "stderr",
     "output_type": "stream",
     "text": [
      "[DEBUG-bo-03/08/2021-14:40:03] num_samples is ignored.\n"
     ]
    },
    {
     "name": "stdout",
     "output_type": "stream",
     "text": [
      "Iterat #Fevals   function value  axis ratio  sigma  min&max std  t[m:s]\n",
      "    1      6 -2.146323706448793e+01 1.0e+00 4.95e+01  5e+01  5e+01 0:00.0\n"
     ]
    },
    {
     "name": "stderr",
     "output_type": "stream",
     "text": [
      "[INFO-wrappers_bo-03/08/2021-14:40:03] Iteration 7\n",
      "[DEBUG-bo-03/08/2021-14:40:03] num_samples is ignored.\n"
     ]
    },
    {
     "name": "stdout",
     "output_type": "stream",
     "text": [
      "termination on tolfun=1e-11 (Mon Mar  8 14:40:03 2021)\n",
      "final/bestever f-value = -2.146324e+01 -2.146324e+01\n",
      "incumbent solution: [78.81144860659197, -78.44051175276672]\n",
      "std deviation: [45.845516885576956, 49.147064789949816]\n",
      "Iterat #Fevals   function value  axis ratio  sigma  min&max std  t[m:s]\n",
      "    1      6 -2.121997724279725e+01 1.0e+00 5.09e+01  5e+01  5e+01 0:00.0\n",
      "    2     12 -2.121997724279725e+01 1.2e+00 4.11e+01  3e+01  4e+01 0:00.0\n",
      "termination on tolfun=1e-11 (Mon Mar  8 14:40:03 2021)\n",
      "final/bestever f-value = -2.121998e+01 -2.121998e+01\n",
      "incumbent solution: [-70.51476364282976, 50.44791141993619]\n",
      "std deviation: [40.46820893253002, 32.70483358731925]\n"
     ]
    },
    {
     "name": "stderr",
     "output_type": "stream",
     "text": [
      "[INFO-wrappers_bo-03/08/2021-14:40:03] Iteration 8\n",
      "[DEBUG-bo-03/08/2021-14:40:03] num_samples is ignored.\n"
     ]
    },
    {
     "name": "stdout",
     "output_type": "stream",
     "text": [
      "Iterat #Fevals   function value  axis ratio  sigma  min&max std  t[m:s]\n",
      "    1      6 -2.098882099955575e+01 1.0e+00 5.40e+01  5e+01  6e+01 0:00.0\n",
      "    2     12 -2.098882099955575e+01 1.3e+00 5.81e+01  5e+01  6e+01 0:00.0\n",
      "    3     18 -2.098882099955575e+01 1.4e+00 4.75e+01  4e+01  5e+01 0:00.0\n",
      "    5     30 -2.098882099955575e+01 1.3e+00 8.00e+01  8e+01  1e+02 0:00.0\n"
     ]
    },
    {
     "name": "stderr",
     "output_type": "stream",
     "text": [
      "[INFO-wrappers_bo-03/08/2021-14:40:03] range_X:\n",
      "[[-100, 100],\n",
      "[-100, 100]]\n",
      "[INFO-wrappers_bo-03/08/2021-14:40:03] str_cov: matern52\n",
      "[INFO-wrappers_bo-03/08/2021-14:40:03] str_acq: ei\n",
      "[INFO-wrappers_bo-03/08/2021-14:40:03] str_optimizer_method_gp: BFGS\n",
      "[INFO-wrappers_bo-03/08/2021-14:40:03] str_optimizer_method_bo: CMA-ES\n",
      "[INFO-wrappers_bo-03/08/2021-14:40:03] str_modelselection_method: ml\n",
      "[INFO-wrappers_bo-03/08/2021-14:40:03] num_init: 8\n",
      "[INFO-wrappers_bo-03/08/2021-14:40:03] num_iter: 2\n"
     ]
    },
    {
     "name": "stdout",
     "output_type": "stream",
     "text": [
      "termination on tolfun=1e-11 (Mon Mar  8 14:40:03 2021)\n",
      "final/bestever f-value = -2.098882e+01 -2.098882e+01\n",
      "incumbent solution: [-46.25119800303132, -84.4447133628909]\n",
      "std deviation: [104.20433357633547, 79.77489055436453]\n",
      "BO Round 16\n"
     ]
    },
    {
     "name": "stderr",
     "output_type": "stream",
     "text": [
      "[INFO-wrappers_bo-03/08/2021-14:40:03] str_initial_method_bo: uniform\n",
      "[INFO-wrappers_bo-03/08/2021-14:40:03] str_sampling_method_ao: uniform\n",
      "[INFO-wrappers_bo-03/08/2021-14:40:03] num_samples_ao: 100\n",
      "[INFO-wrappers_bo-03/08/2021-14:40:03] str_mlm_method: regular\n",
      "[INFO-wrappers_bo-03/08/2021-14:40:03] seed: None\n",
      "[INFO-wrappers_bo-03/08/2021-14:40:03] Iteration 1\n",
      "[DEBUG-bo-03/08/2021-14:40:03] num_samples is ignored.\n"
     ]
    },
    {
     "name": "stdout",
     "output_type": "stream",
     "text": [
      "Iterat #Fevals   function value  axis ratio  sigma  min&max std  t[m:s]\n",
      "    1      6 -1.417344119633858e+01 1.0e+00 3.77e+01  3e+01  3e+01 0:00.0\n"
     ]
    },
    {
     "name": "stderr",
     "output_type": "stream",
     "text": [
      "[INFO-wrappers_bo-03/08/2021-14:40:03] Iteration 2\n"
     ]
    },
    {
     "name": "stdout",
     "output_type": "stream",
     "text": [
      "termination on tolfun=1e-11 (Mon Mar  8 14:40:03 2021)\n",
      "final/bestever f-value = -1.417344e+01 -1.417344e+01\n",
      "incumbent solution: [-7.228926951227554, 31.581445351300882]\n",
      "std deviation: [33.02875575565241, 33.11417257944138]\n"
     ]
    },
    {
     "name": "stderr",
     "output_type": "stream",
     "text": [
      "[DEBUG-bo-03/08/2021-14:40:03] num_samples is ignored.\n"
     ]
    },
    {
     "name": "stdout",
     "output_type": "stream",
     "text": [
      "Iterat #Fevals   function value  axis ratio  sigma  min&max std  t[m:s]\n",
      "    1      6 -1.336818789422878e+01 1.0e+00 4.28e+01  4e+01  4e+01 0:00.0\n",
      "    2     12 -1.336818789422878e+01 1.3e+00 3.12e+01  2e+01  3e+01 0:00.0\n"
     ]
    },
    {
     "name": "stderr",
     "output_type": "stream",
     "text": [
      "[INFO-wrappers_bo-03/08/2021-14:40:03] range_X:\n",
      "[[-100, 100],\n",
      "[-100, 100]]\n",
      "[INFO-wrappers_bo-03/08/2021-14:40:03] str_cov: matern52\n",
      "[INFO-wrappers_bo-03/08/2021-14:40:03] str_acq: ei\n"
     ]
    },
    {
     "name": "stdout",
     "output_type": "stream",
     "text": [
      "termination on tolflatfitness=1 (Mon Mar  8 14:40:03 2021)\n",
      "final/bestever f-value = -1.336819e+01 -1.336819e+01\n",
      "incumbent solution: [9.879650646172623, 47.2183684030126]\n",
      "std deviation: [28.31158415260798, 24.17324877432708]\n",
      "BO Round 17\n"
     ]
    },
    {
     "name": "stderr",
     "output_type": "stream",
     "text": [
      "[INFO-wrappers_bo-03/08/2021-14:40:03] str_optimizer_method_gp: BFGS\n",
      "[INFO-wrappers_bo-03/08/2021-14:40:03] str_optimizer_method_bo: CMA-ES\n",
      "[INFO-wrappers_bo-03/08/2021-14:40:03] str_modelselection_method: ml\n",
      "[INFO-wrappers_bo-03/08/2021-14:40:03] num_init: 4\n",
      "[INFO-wrappers_bo-03/08/2021-14:40:03] num_iter: 8\n",
      "[INFO-wrappers_bo-03/08/2021-14:40:03] str_initial_method_bo: uniform\n",
      "[INFO-wrappers_bo-03/08/2021-14:40:03] str_sampling_method_ao: uniform\n",
      "[INFO-wrappers_bo-03/08/2021-14:40:03] num_samples_ao: 100\n",
      "[INFO-wrappers_bo-03/08/2021-14:40:03] str_mlm_method: regular\n",
      "[INFO-wrappers_bo-03/08/2021-14:40:03] seed: None\n",
      "[INFO-wrappers_bo-03/08/2021-14:40:03] Iteration 1\n",
      "[DEBUG-bo-03/08/2021-14:40:03] num_samples is ignored.\n"
     ]
    },
    {
     "name": "stdout",
     "output_type": "stream",
     "text": [
      "Iterat #Fevals   function value  axis ratio  sigma  min&max std  t[m:s]\n",
      "    1      6 -2.525792805473344e+01 1.0e+00 6.23e+01  5e+01  8e+01 0:00.0\n",
      "    2     12 -2.525792805473344e+01 1.7e+00 6.50e+01  5e+01  8e+01 0:00.0\n"
     ]
    },
    {
     "name": "stderr",
     "output_type": "stream",
     "text": [
      "[INFO-wrappers_bo-03/08/2021-14:40:03] Iteration 2\n"
     ]
    },
    {
     "name": "stdout",
     "output_type": "stream",
     "text": [
      "termination on tolfun=1e-11 (Mon Mar  8 14:40:03 2021)\n",
      "final/bestever f-value = -2.525793e+01 -2.525793e+01\n",
      "incumbent solution: [-10.607030648018947, -86.32904743298621]\n",
      "std deviation: [48.983894365346785, 83.6449075046728]\n"
     ]
    },
    {
     "name": "stderr",
     "output_type": "stream",
     "text": [
      "[DEBUG-bo-03/08/2021-14:40:03] num_samples is ignored.\n"
     ]
    },
    {
     "name": "stdout",
     "output_type": "stream",
     "text": [
      "Iterat #Fevals   function value  axis ratio  sigma  min&max std  t[m:s]\n",
      "    1      6 -2.483511467968250e+01 1.0e+00 4.02e+01  3e+01  4e+01 0:00.0\n"
     ]
    },
    {
     "name": "stderr",
     "output_type": "stream",
     "text": [
      "[INFO-wrappers_bo-03/08/2021-14:40:03] Iteration 3\n"
     ]
    },
    {
     "name": "stdout",
     "output_type": "stream",
     "text": [
      "termination on tolfun=1e-11 (Mon Mar  8 14:40:03 2021)\n",
      "final/bestever f-value = -2.483511e+01 -2.483511e+01\n",
      "incumbent solution: [-0.8732910543675558, -30.986225189413382]\n",
      "std deviation: [36.934003114346716, 34.50390453392185]\n"
     ]
    },
    {
     "name": "stderr",
     "output_type": "stream",
     "text": [
      "[DEBUG-bo-03/08/2021-14:40:03] num_samples is ignored.\n"
     ]
    },
    {
     "name": "stdout",
     "output_type": "stream",
     "text": [
      "Iterat #Fevals   function value  axis ratio  sigma  min&max std  t[m:s]\n",
      "    1      6 -2.441550227582993e+01 1.0e+00 5.39e+01  5e+01  6e+01 0:00.0\n",
      "    2     12 -2.441550227582993e+01 1.4e+00 5.60e+01  6e+01  6e+01 0:00.0\n"
     ]
    },
    {
     "name": "stderr",
     "output_type": "stream",
     "text": [
      "[INFO-wrappers_bo-03/08/2021-14:40:03] Iteration 4\n"
     ]
    },
    {
     "name": "stdout",
     "output_type": "stream",
     "text": [
      "termination on tolfun=1e-11 (Mon Mar  8 14:40:03 2021)\n",
      "termination on tolflatfitness=1 (Mon Mar  8 14:40:03 2021)\n",
      "final/bestever f-value = -2.441550e+01 -2.441550e+01\n",
      "incumbent solution: [-69.47306992832024, 88.71844303268766]\n",
      "std deviation: [55.381235531974525, 57.73203437969463]\n"
     ]
    },
    {
     "name": "stderr",
     "output_type": "stream",
     "text": [
      "[DEBUG-bo-03/08/2021-14:40:03] num_samples is ignored.\n"
     ]
    },
    {
     "name": "stdout",
     "output_type": "stream",
     "text": [
      "Iterat #Fevals   function value  axis ratio  sigma  min&max std  t[m:s]\n",
      "    1      6 -2.040291730534072e+01 1.0e+00 3.87e+01  3e+01  4e+01 0:00.0\n",
      "    2     12 -2.040291730534072e+01 1.1e+00 3.44e+01  3e+01  3e+01 0:00.0\n"
     ]
    },
    {
     "name": "stderr",
     "output_type": "stream",
     "text": [
      "[INFO-wrappers_bo-03/08/2021-14:40:03] Iteration 5\n"
     ]
    },
    {
     "name": "stdout",
     "output_type": "stream",
     "text": [
      "termination on tolfun=1e-11 (Mon Mar  8 14:40:03 2021)\n",
      "final/bestever f-value = -2.040292e+01 -2.040292e+01\n",
      "incumbent solution: [-75.61791722974924, -62.48501926584354]\n",
      "std deviation: [29.21749603289891, 28.61759693123575]\n"
     ]
    },
    {
     "name": "stderr",
     "output_type": "stream",
     "text": [
      "[DEBUG-bo-03/08/2021-14:40:03] num_samples is ignored.\n"
     ]
    },
    {
     "name": "stdout",
     "output_type": "stream",
     "text": [
      "Iterat #Fevals   function value  axis ratio  sigma  min&max std  t[m:s]\n",
      "    1      6 -1.962625146298480e+01 1.0e+00 3.83e+01  3e+01  4e+01 0:00.0\n"
     ]
    },
    {
     "name": "stderr",
     "output_type": "stream",
     "text": [
      "[INFO-wrappers_bo-03/08/2021-14:40:03] Iteration 6\n"
     ]
    },
    {
     "name": "stdout",
     "output_type": "stream",
     "text": [
      "termination on tolfun=1e-11 (Mon Mar  8 14:40:03 2021)\n",
      "final/bestever f-value = -1.962625e+01 -1.962625e+01\n",
      "incumbent solution: [78.34831258483943, 83.23030703029873]\n",
      "std deviation: [36.57489214325532, 31.496540212457287]\n"
     ]
    },
    {
     "name": "stderr",
     "output_type": "stream",
     "text": [
      "[DEBUG-bo-03/08/2021-14:40:03] num_samples is ignored.\n"
     ]
    },
    {
     "name": "stdout",
     "output_type": "stream",
     "text": [
      "Iterat #Fevals   function value  axis ratio  sigma  min&max std  t[m:s]\n",
      "    1      6 -1.956575168851433e+01 1.0e+00 6.31e+01  6e+01  7e+01 0:00.0\n"
     ]
    },
    {
     "name": "stderr",
     "output_type": "stream",
     "text": [
      "[INFO-wrappers_bo-03/08/2021-14:40:03] Iteration 7\n",
      "[DEBUG-bo-03/08/2021-14:40:03] num_samples is ignored.\n"
     ]
    },
    {
     "name": "stdout",
     "output_type": "stream",
     "text": [
      "termination on tolfun=1e-11 (Mon Mar  8 14:40:03 2021)\n",
      "final/bestever f-value = -1.956575e+01 -1.956575e+01\n",
      "incumbent solution: [-32.57420832047121, 58.61555981932011]\n",
      "std deviation: [64.19763997037191, 74.57029751072017]\n",
      "Iterat #Fevals   function value  axis ratio  sigma  min&max std  t[m:s]\n",
      "    1      6 -2.018162488901546e+01 1.0e+00 4.24e+01  4e+01  4e+01 0:00.0\n",
      "    2     12 -2.018162488901546e+01 1.3e+00 3.85e+01  3e+01  4e+01 0:00.0\n",
      "termination on tolfun=1e-11 (Mon Mar  8 14:40:03 2021)\n",
      "termination on tolflatfitness=1 (Mon Mar  8 14:40:03 2021)\n",
      "final/bestever f-value = -2.018162e+01 -2.018162e+01\n",
      "incumbent solution: [80.41746463923049, -59.96335428396306]\n"
     ]
    },
    {
     "name": "stderr",
     "output_type": "stream",
     "text": [
      "[INFO-wrappers_bo-03/08/2021-14:40:03] Iteration 8\n"
     ]
    },
    {
     "name": "stdout",
     "output_type": "stream",
     "text": [
      "std deviation: [37.393835918512046, 29.032211087563073]\n"
     ]
    },
    {
     "name": "stderr",
     "output_type": "stream",
     "text": [
      "[DEBUG-bo-03/08/2021-14:40:03] num_samples is ignored.\n"
     ]
    },
    {
     "name": "stdout",
     "output_type": "stream",
     "text": [
      "Iterat #Fevals   function value  axis ratio  sigma  min&max std  t[m:s]\n",
      "    1      6 -1.951383814673165e+01 1.0e+00 5.07e+01  5e+01  5e+01 0:00.0\n",
      "    2     12 -1.951383814673165e+01 1.3e+00 5.44e+01  5e+01  5e+01 0:00.0\n",
      "    3     18 -1.951383814673165e+01 1.5e+00 5.29e+01  4e+01  6e+01 0:00.0\n",
      "    4     24 -1.951383814673165e+01 1.7e+00 4.93e+01  4e+01  5e+01 0:00.0\n"
     ]
    },
    {
     "name": "stderr",
     "output_type": "stream",
     "text": [
      "[INFO-wrappers_bo-03/08/2021-14:40:03] range_X:\n",
      "[[-100, 100],\n",
      "[-100, 100]]\n",
      "[INFO-wrappers_bo-03/08/2021-14:40:03] str_cov: matern52\n",
      "[INFO-wrappers_bo-03/08/2021-14:40:03] str_acq: ei\n",
      "[INFO-wrappers_bo-03/08/2021-14:40:03] str_optimizer_method_gp: BFGS\n"
     ]
    },
    {
     "name": "stdout",
     "output_type": "stream",
     "text": [
      "termination on tolfun=1e-11 (Mon Mar  8 14:40:03 2021)\n",
      "termination on tolflatfitness=1 (Mon Mar  8 14:40:03 2021)\n",
      "final/bestever f-value = -1.951384e+01 -1.951384e+01\n",
      "incumbent solution: [7.871403501028482, -97.26493443033007]\n",
      "std deviation: [39.908484796677804, 46.24073487202055]\n",
      "BO Round 18\n"
     ]
    },
    {
     "name": "stderr",
     "output_type": "stream",
     "text": [
      "[INFO-wrappers_bo-03/08/2021-14:40:03] str_optimizer_method_bo: CMA-ES\n",
      "[INFO-wrappers_bo-03/08/2021-14:40:03] str_modelselection_method: ml\n",
      "[INFO-wrappers_bo-03/08/2021-14:40:03] num_init: 10\n",
      "[INFO-wrappers_bo-03/08/2021-14:40:03] num_iter: 6\n",
      "[INFO-wrappers_bo-03/08/2021-14:40:03] str_initial_method_bo: uniform\n",
      "[INFO-wrappers_bo-03/08/2021-14:40:03] str_sampling_method_ao: uniform\n",
      "[INFO-wrappers_bo-03/08/2021-14:40:03] num_samples_ao: 100\n",
      "[INFO-wrappers_bo-03/08/2021-14:40:03] str_mlm_method: regular\n",
      "[INFO-wrappers_bo-03/08/2021-14:40:03] seed: None\n",
      "[INFO-wrappers_bo-03/08/2021-14:40:03] Iteration 1\n",
      "[DEBUG-bo-03/08/2021-14:40:03] num_samples is ignored.\n"
     ]
    },
    {
     "name": "stdout",
     "output_type": "stream",
     "text": [
      "Iterat #Fevals   function value  axis ratio  sigma  min&max std  t[m:s]\n",
      "    1      6 -2.924881203808648e+01 1.0e+00 5.90e+01  6e+01  7e+01 0:00.0\n",
      "    2     12 -2.924881203808648e+01 1.5e+00 7.63e+01  8e+01  1e+02 0:00.0\n"
     ]
    },
    {
     "name": "stderr",
     "output_type": "stream",
     "text": [
      "[INFO-wrappers_bo-03/08/2021-14:40:03] Iteration 2\n"
     ]
    },
    {
     "name": "stdout",
     "output_type": "stream",
     "text": [
      "termination on tolfun=1e-11 (Mon Mar  8 14:40:03 2021)\n",
      "termination on tolflatfitness=1 (Mon Mar  8 14:40:03 2021)\n",
      "final/bestever f-value = -2.924881e+01 -2.924881e+01\n",
      "incumbent solution: [-79.9074343009161, -73.4198104887223]\n",
      "std deviation: [75.42282637832787, 106.24149947946022]\n"
     ]
    },
    {
     "name": "stderr",
     "output_type": "stream",
     "text": [
      "[DEBUG-bo-03/08/2021-14:40:03] num_samples is ignored.\n"
     ]
    },
    {
     "name": "stdout",
     "output_type": "stream",
     "text": [
      "Iterat #Fevals   function value  axis ratio  sigma  min&max std  t[m:s]\n",
      "    1      6 -2.925854787690160e+01 1.0e+00 6.40e+01  6e+01  8e+01 0:00.0\n",
      "    2     12 -2.925854787690160e+01 1.4e+00 4.92e+01  4e+01  6e+01 0:00.0\n",
      "    3     18 -2.925854787690160e+01 1.8e+00 5.22e+01  3e+01  7e+01 0:00.0\n",
      "    4     24 -2.925854787690160e+01 2.2e+00 4.47e+01  3e+01  6e+01 0:00.0\n"
     ]
    },
    {
     "name": "stderr",
     "output_type": "stream",
     "text": [
      "[INFO-wrappers_bo-03/08/2021-14:40:03] Iteration 3\n"
     ]
    },
    {
     "name": "stdout",
     "output_type": "stream",
     "text": [
      "termination on tolfun=1e-11 (Mon Mar  8 14:40:03 2021)\n",
      "final/bestever f-value = -2.925855e+01 -2.925855e+01\n",
      "incumbent solution: [-29.054419822172793, -4.155807375231258]\n",
      "std deviation: [59.03666903571016, 25.96363663913044]\n"
     ]
    },
    {
     "name": "stderr",
     "output_type": "stream",
     "text": [
      "[DEBUG-bo-03/08/2021-14:40:03] num_samples is ignored.\n"
     ]
    },
    {
     "name": "stdout",
     "output_type": "stream",
     "text": [
      "Iterat #Fevals   function value  axis ratio  sigma  min&max std  t[m:s]\n",
      "    1      6 -2.472643714561714e+01 1.0e+00 5.70e+01  6e+01  6e+01 0:00.0\n",
      "    2     12 -2.472643714561714e+01 1.5e+00 6.86e+01  7e+01  1e+02 0:00.0\n",
      "    3     18 -2.472643714561714e+01 1.9e+00 9.51e+01  9e+01  1e+02 0:00.0\n"
     ]
    },
    {
     "name": "stderr",
     "output_type": "stream",
     "text": [
      "[INFO-wrappers_bo-03/08/2021-14:40:03] Iteration 4\n",
      "[DEBUG-bo-03/08/2021-14:40:03] num_samples is ignored.\n"
     ]
    },
    {
     "name": "stdout",
     "output_type": "stream",
     "text": [
      "termination on tolfun=1e-11 (Mon Mar  8 14:40:03 2021)\n",
      "final/bestever f-value = -2.472644e+01 -2.472644e+01\n",
      "incumbent solution: [-83.49067675606254, 0.7938875323678758]\n",
      "std deviation: [86.7575306746197, 149.15845347039206]\n",
      "Iterat #Fevals   function value  axis ratio  sigma  min&max std  t[m:s]\n",
      "    1      6 -2.414155800683595e+01 1.0e+00 6.34e+01  7e+01  8e+01 0:00.0\n"
     ]
    },
    {
     "name": "stderr",
     "output_type": "stream",
     "text": [
      "[INFO-wrappers_bo-03/08/2021-14:40:03] Iteration 5\n"
     ]
    },
    {
     "name": "stdout",
     "output_type": "stream",
     "text": [
      "termination on tolfun=1e-11 (Mon Mar  8 14:40:03 2021)\n",
      "final/bestever f-value = -2.413249e+01 -2.414156e+01\n",
      "incumbent solution: [71.25478009667688, 35.11588651133389]\n",
      "std deviation: [76.9562678108878, 65.752670789798]\n"
     ]
    },
    {
     "name": "stderr",
     "output_type": "stream",
     "text": [
      "[DEBUG-bo-03/08/2021-14:40:03] num_samples is ignored.\n"
     ]
    },
    {
     "name": "stdout",
     "output_type": "stream",
     "text": [
      "Iterat #Fevals   function value  axis ratio  sigma  min&max std  t[m:s]\n",
      "    1      6 -2.427116578206147e+01 1.0e+00 7.95e+01  8e+01  9e+01 0:00.0\n",
      "    2     12 -2.427116578206147e+01 1.3e+00 7.93e+01  7e+01  9e+01 0:00.0\n",
      "    3     18 -2.427116578206147e+01 1.2e+00 8.22e+01  7e+01  1e+02 0:00.0\n",
      "    7     42 -2.427116578206147e+01 1.8e+00 1.01e+02  1e+02  1e+02 0:00.0\n",
      "termination on tolfun=1e-11 (Mon Mar  8 14:40:03 2021)\n",
      "final/bestever f-value = -2.427117e+01 -2.427117e+01\n",
      "incumbent solution: [-19.60334445490389, 80.57079310826984]\n",
      "std deviation: [117.68080354761175, 108.46259079527864]\n"
     ]
    },
    {
     "name": "stderr",
     "output_type": "stream",
     "text": [
      "[INFO-wrappers_bo-03/08/2021-14:40:03] Iteration 6\n",
      "[DEBUG-bo-03/08/2021-14:40:03] num_samples is ignored.\n"
     ]
    },
    {
     "name": "stdout",
     "output_type": "stream",
     "text": [
      "Iterat #Fevals   function value  axis ratio  sigma  min&max std  t[m:s]\n",
      "    1      6 -1.228927599969645e+01 1.0e+00 3.60e+01  3e+01  3e+01 0:00.0\n"
     ]
    },
    {
     "name": "stderr",
     "output_type": "stream",
     "text": [
      "[INFO-wrappers_bo-03/08/2021-14:40:03] range_X:\n",
      "[[-100, 100],\n",
      "[-100, 100]]\n",
      "[INFO-wrappers_bo-03/08/2021-14:40:03] str_cov: matern52\n",
      "[INFO-wrappers_bo-03/08/2021-14:40:03] str_acq: ei\n",
      "[INFO-wrappers_bo-03/08/2021-14:40:03] str_optimizer_method_gp: BFGS\n",
      "[INFO-wrappers_bo-03/08/2021-14:40:03] str_optimizer_method_bo: CMA-ES\n",
      "[INFO-wrappers_bo-03/08/2021-14:40:03] str_modelselection_method: ml\n",
      "[INFO-wrappers_bo-03/08/2021-14:40:03] num_init: 6\n",
      "[INFO-wrappers_bo-03/08/2021-14:40:03] num_iter: 4\n"
     ]
    },
    {
     "name": "stdout",
     "output_type": "stream",
     "text": [
      "termination on tolfun=1e-11 (Mon Mar  8 14:40:03 2021)\n",
      "final/bestever f-value = -1.228928e+01 -1.228928e+01\n",
      "incumbent solution: [-15.90420719549326, 25.11102917370229]\n",
      "std deviation: [31.074615801641208, 32.18803252381828]\n",
      "BO Round 19\n"
     ]
    },
    {
     "name": "stderr",
     "output_type": "stream",
     "text": [
      "[INFO-wrappers_bo-03/08/2021-14:40:03] str_initial_method_bo: uniform\n",
      "[INFO-wrappers_bo-03/08/2021-14:40:03] str_sampling_method_ao: uniform\n",
      "[INFO-wrappers_bo-03/08/2021-14:40:03] num_samples_ao: 100\n",
      "[INFO-wrappers_bo-03/08/2021-14:40:03] str_mlm_method: regular\n",
      "[INFO-wrappers_bo-03/08/2021-14:40:03] seed: None\n",
      "[INFO-wrappers_bo-03/08/2021-14:40:03] Iteration 1\n",
      "[DEBUG-bo-03/08/2021-14:40:03] num_samples is ignored.\n"
     ]
    },
    {
     "name": "stdout",
     "output_type": "stream",
     "text": [
      "Iterat #Fevals   function value  axis ratio  sigma  min&max std  t[m:s]\n",
      "    1      6 -3.374122210874012e+01 1.0e+00 4.33e+01  4e+01  4e+01 0:00.0\n",
      "    2     12 -3.374122210874012e+01 1.2e+00 4.10e+01  3e+01  4e+01 0:00.0\n",
      "    3     18 -3.374122210874012e+01 1.6e+00 4.62e+01  4e+01  4e+01 0:00.0\n"
     ]
    },
    {
     "name": "stderr",
     "output_type": "stream",
     "text": [
      "[INFO-wrappers_bo-03/08/2021-14:40:03] Iteration 2\n"
     ]
    },
    {
     "name": "stdout",
     "output_type": "stream",
     "text": [
      "termination on tolfun=1e-11 (Mon Mar  8 14:40:03 2021)\n",
      "final/bestever f-value = -3.374122e+01 -3.374122e+01\n",
      "incumbent solution: [-40.587396197522935, 86.94318929912588]\n",
      "std deviation: [35.06779325912766, 44.288257929842935]\n"
     ]
    },
    {
     "name": "stderr",
     "output_type": "stream",
     "text": [
      "[DEBUG-bo-03/08/2021-14:40:03] num_samples is ignored.\n"
     ]
    },
    {
     "name": "stdout",
     "output_type": "stream",
     "text": [
      "Iterat #Fevals   function value  axis ratio  sigma  min&max std  t[m:s]\n",
      "    1      6 -3.432611999959728e+01 1.0e+00 4.17e+01  4e+01  4e+01 0:00.0\n"
     ]
    },
    {
     "name": "stderr",
     "output_type": "stream",
     "text": [
      "[INFO-wrappers_bo-03/08/2021-14:40:03] Iteration 3\n",
      "[DEBUG-bo-03/08/2021-14:40:03] num_samples is ignored.\n"
     ]
    },
    {
     "name": "stdout",
     "output_type": "stream",
     "text": [
      "termination on tolfun=1e-11 (Mon Mar  8 14:40:03 2021)\n",
      "final/bestever f-value = -3.432612e+01 -3.432612e+01\n",
      "incumbent solution: [-34.61206101999682, -14.241578058274477]\n",
      "std deviation: [37.15125808177593, 39.18005973123504]\n",
      "Iterat #Fevals   function value  axis ratio  sigma  min&max std  t[m:s]\n",
      "    1      6 -3.409782446241568e+01 1.0e+00 5.28e+01  5e+01  6e+01 0:00.0\n"
     ]
    },
    {
     "name": "stderr",
     "output_type": "stream",
     "text": [
      "[INFO-wrappers_bo-03/08/2021-14:40:03] Iteration 4\n",
      "[DEBUG-bo-03/08/2021-14:40:03] num_samples is ignored.\n"
     ]
    },
    {
     "name": "stdout",
     "output_type": "stream",
     "text": [
      "termination on tolfun=1e-11 (Mon Mar  8 14:40:03 2021)\n",
      "final/bestever f-value = -3.409782e+01 -3.409782e+01\n",
      "incumbent solution: [76.33803721828613, 36.99220424610152]\n",
      "std deviation: [60.73419316745367, 45.66450663177022]\n",
      "Iterat #Fevals   function value  axis ratio  sigma  min&max std  t[m:s]\n",
      "    1      6 -3.426017867716592e+01 1.0e+00 5.03e+01  4e+01  7e+01 0:00.0\n"
     ]
    },
    {
     "name": "stderr",
     "output_type": "stream",
     "text": [
      "[INFO-wrappers_bo-03/08/2021-14:40:04] range_X:\n",
      "[[-100, 100],\n",
      "[-100, 100]]\n"
     ]
    },
    {
     "name": "stdout",
     "output_type": "stream",
     "text": [
      "termination on tolfun=1e-11 (Mon Mar  8 14:40:04 2021)\n",
      "final/bestever f-value = -3.426018e+01 -3.426018e+01\n",
      "incumbent solution: [-64.15085441696269, 4.513463216723393]\n",
      "std deviation: [67.64670259016214, 40.526236234382985]\n",
      "BO Round 20\n"
     ]
    },
    {
     "name": "stderr",
     "output_type": "stream",
     "text": [
      "[INFO-wrappers_bo-03/08/2021-14:40:04] str_cov: matern52\n",
      "[INFO-wrappers_bo-03/08/2021-14:40:04] str_acq: ei\n",
      "[INFO-wrappers_bo-03/08/2021-14:40:04] str_optimizer_method_gp: BFGS\n",
      "[INFO-wrappers_bo-03/08/2021-14:40:04] str_optimizer_method_bo: CMA-ES\n",
      "[INFO-wrappers_bo-03/08/2021-14:40:04] str_modelselection_method: ml\n",
      "[INFO-wrappers_bo-03/08/2021-14:40:04] num_init: 9\n",
      "[INFO-wrappers_bo-03/08/2021-14:40:04] num_iter: 4\n",
      "[INFO-wrappers_bo-03/08/2021-14:40:04] str_initial_method_bo: uniform\n",
      "[INFO-wrappers_bo-03/08/2021-14:40:04] str_sampling_method_ao: uniform\n",
      "[INFO-wrappers_bo-03/08/2021-14:40:04] num_samples_ao: 100\n",
      "[INFO-wrappers_bo-03/08/2021-14:40:04] str_mlm_method: regular\n",
      "[INFO-wrappers_bo-03/08/2021-14:40:04] seed: None\n",
      "[INFO-wrappers_bo-03/08/2021-14:40:04] Iteration 1\n",
      "[DEBUG-bo-03/08/2021-14:40:04] num_samples is ignored.\n"
     ]
    },
    {
     "name": "stdout",
     "output_type": "stream",
     "text": [
      "Iterat #Fevals   function value  axis ratio  sigma  min&max std  t[m:s]\n",
      "    1      6 -2.273992154784690e+01 1.0e+00 4.71e+01  4e+01  5e+01 0:00.0\n"
     ]
    },
    {
     "name": "stderr",
     "output_type": "stream",
     "text": [
      "[INFO-wrappers_bo-03/08/2021-14:40:04] Iteration 2\n"
     ]
    },
    {
     "name": "stdout",
     "output_type": "stream",
     "text": [
      "termination on tolfun=1e-11 (Mon Mar  8 14:40:04 2021)\n",
      "final/bestever f-value = -2.273992e+01 -2.273992e+01\n",
      "incumbent solution: [-6.755193365289038, 53.37961751415999]\n",
      "std deviation: [45.76069498045843, 43.364216131339155]\n"
     ]
    },
    {
     "name": "stderr",
     "output_type": "stream",
     "text": [
      "[DEBUG-bo-03/08/2021-14:40:04] num_samples is ignored.\n"
     ]
    },
    {
     "name": "stdout",
     "output_type": "stream",
     "text": [
      "Iterat #Fevals   function value  axis ratio  sigma  min&max std  t[m:s]\n",
      "    1      6 -2.225689537007635e+01 1.0e+00 5.34e+01  5e+01  6e+01 0:00.0\n",
      "    2     12 -2.225689537007635e+01 1.2e+00 6.59e+01  6e+01  8e+01 0:00.0\n",
      "    3     18 -2.225689537007635e+01 1.8e+00 6.80e+01  6e+01  1e+02 0:00.0\n"
     ]
    },
    {
     "name": "stderr",
     "output_type": "stream",
     "text": [
      "[INFO-wrappers_bo-03/08/2021-14:40:04] Iteration 3\n"
     ]
    },
    {
     "name": "stdout",
     "output_type": "stream",
     "text": [
      "termination on tolfun=1e-11 (Mon Mar  8 14:40:04 2021)\n",
      "final/bestever f-value = -2.225689e+01 -2.225690e+01\n",
      "incumbent solution: [-40.03249802303671, 54.69401731035238]\n",
      "std deviation: [63.355079206525964, 104.70477965666325]\n"
     ]
    },
    {
     "name": "stderr",
     "output_type": "stream",
     "text": [
      "[DEBUG-bo-03/08/2021-14:40:04] num_samples is ignored.\n"
     ]
    },
    {
     "name": "stdout",
     "output_type": "stream",
     "text": [
      "Iterat #Fevals   function value  axis ratio  sigma  min&max std  t[m:s]\n",
      "    1      6 -2.256405181438219e+01 1.0e+00 5.04e+01  4e+01  5e+01 0:00.0\n",
      "    2     12 -2.256405181438219e+01 1.4e+00 5.62e+01  5e+01  6e+01 0:00.0\n"
     ]
    },
    {
     "name": "stderr",
     "output_type": "stream",
     "text": [
      "[INFO-wrappers_bo-03/08/2021-14:40:04] Iteration 4\n",
      "[DEBUG-bo-03/08/2021-14:40:04] num_samples is ignored.\n"
     ]
    },
    {
     "name": "stdout",
     "output_type": "stream",
     "text": [
      "termination on tolfun=1e-11 (Mon Mar  8 14:40:04 2021)\n",
      "final/bestever f-value = -2.256405e+01 -2.256405e+01\n",
      "incumbent solution: [-16.728573169632696, -21.76456678524363]\n",
      "std deviation: [64.42792527515917, 47.63401448200558]\n",
      "Iterat #Fevals   function value  axis ratio  sigma  min&max std  t[m:s]\n",
      "    1      6 -2.147001908535213e+01 1.0e+00 5.55e+01  5e+01  7e+01 0:00.0\n",
      "    2     12 -2.147001908535213e+01 1.4e+00 5.54e+01  4e+01  7e+01 0:00.0\n"
     ]
    },
    {
     "name": "stderr",
     "output_type": "stream",
     "text": [
      "[INFO-wrappers_bo-03/08/2021-14:40:04] range_X:\n",
      "[[-100, 100],\n",
      "[-100, 100]]\n",
      "[INFO-wrappers_bo-03/08/2021-14:40:04] str_cov: matern52\n",
      "[INFO-wrappers_bo-03/08/2021-14:40:04] str_acq: ei\n",
      "[INFO-wrappers_bo-03/08/2021-14:40:04] str_optimizer_method_gp: BFGS\n"
     ]
    },
    {
     "name": "stdout",
     "output_type": "stream",
     "text": [
      "termination on tolflatfitness=1 (Mon Mar  8 14:40:04 2021)\n",
      "final/bestever f-value = -2.147002e+01 -2.147002e+01\n",
      "incumbent solution: [95.25744196440971, -27.886818145612583]\n",
      "std deviation: [65.83262233063422, 41.335981071448074]\n",
      "BO Round 21\n"
     ]
    },
    {
     "name": "stderr",
     "output_type": "stream",
     "text": [
      "[INFO-wrappers_bo-03/08/2021-14:40:04] str_optimizer_method_bo: CMA-ES\n",
      "[INFO-wrappers_bo-03/08/2021-14:40:04] str_modelselection_method: ml\n",
      "[INFO-wrappers_bo-03/08/2021-14:40:04] num_init: 7\n",
      "[INFO-wrappers_bo-03/08/2021-14:40:04] num_iter: 9\n",
      "[INFO-wrappers_bo-03/08/2021-14:40:04] str_initial_method_bo: uniform\n",
      "[INFO-wrappers_bo-03/08/2021-14:40:04] str_sampling_method_ao: uniform\n",
      "[INFO-wrappers_bo-03/08/2021-14:40:04] num_samples_ao: 100\n",
      "[INFO-wrappers_bo-03/08/2021-14:40:04] str_mlm_method: regular\n",
      "[INFO-wrappers_bo-03/08/2021-14:40:04] seed: None\n",
      "[INFO-wrappers_bo-03/08/2021-14:40:04] Iteration 1\n",
      "[DEBUG-bo-03/08/2021-14:40:04] num_samples is ignored.\n"
     ]
    },
    {
     "name": "stdout",
     "output_type": "stream",
     "text": [
      "Iterat #Fevals   function value  axis ratio  sigma  min&max std  t[m:s]\n",
      "    1      6 -1.716449509637165e+01 1.0e+00 5.53e+01  6e+01  6e+01 0:00.0\n",
      "    2     12 -1.716449509637165e+01 1.1e+00 7.45e+01  7e+01  1e+02 0:00.0\n"
     ]
    },
    {
     "name": "stderr",
     "output_type": "stream",
     "text": [
      "[INFO-wrappers_bo-03/08/2021-14:40:04] Iteration 2\n",
      "[DEBUG-bo-03/08/2021-14:40:04] num_samples is ignored.\n"
     ]
    },
    {
     "name": "stdout",
     "output_type": "stream",
     "text": [
      "termination on tolfun=1e-11 (Mon Mar  8 14:40:04 2021)\n",
      "final/bestever f-value = -1.716450e+01 -1.716450e+01\n",
      "incumbent solution: [47.46589659568025, -36.40297516740306]\n",
      "std deviation: [74.69902106476603, 100.188217422582]\n",
      "Iterat #Fevals   function value  axis ratio  sigma  min&max std  t[m:s]\n",
      "    1      6 -1.607514874563966e+01 1.0e+00 4.31e+01  4e+01  4e+01 0:00.0\n",
      "termination on tolfun=1e-11 (Mon Mar  8 14:40:04 2021)\n",
      "final/bestever f-value = -1.607515e+01 -1.607515e+01\n",
      "incumbent solution: [-46.99918134765298, 42.93900125371831]\n",
      "std deviation: [42.15017286087228, 38.178664594336844]\n"
     ]
    },
    {
     "name": "stderr",
     "output_type": "stream",
     "text": [
      "[INFO-wrappers_bo-03/08/2021-14:40:04] Iteration 3\n",
      "[DEBUG-bo-03/08/2021-14:40:04] num_samples is ignored.\n"
     ]
    },
    {
     "name": "stdout",
     "output_type": "stream",
     "text": [
      "Iterat #Fevals   function value  axis ratio  sigma  min&max std  t[m:s]\n",
      "    1      6 -1.529891504993411e+01 1.0e+00 4.51e+01  4e+01  5e+01 0:00.0\n"
     ]
    },
    {
     "name": "stderr",
     "output_type": "stream",
     "text": [
      "[INFO-wrappers_bo-03/08/2021-14:40:04] Iteration 4\n"
     ]
    },
    {
     "name": "stdout",
     "output_type": "stream",
     "text": [
      "termination on tolfun=1e-11 (Mon Mar  8 14:40:04 2021)\n",
      "final/bestever f-value = -1.529892e+01 -1.529892e+01\n",
      "incumbent solution: [-12.237803425682921, 84.98969782736607]\n",
      "std deviation: [45.39259078735822, 41.19532703344924]\n"
     ]
    },
    {
     "name": "stderr",
     "output_type": "stream",
     "text": [
      "[DEBUG-bo-03/08/2021-14:40:04] num_samples is ignored.\n"
     ]
    },
    {
     "name": "stdout",
     "output_type": "stream",
     "text": [
      "Iterat #Fevals   function value  axis ratio  sigma  min&max std  t[m:s]\n",
      "    1      6 -1.529225888803914e+01 1.0e+00 7.22e+01  7e+01  8e+01 0:00.0\n",
      "    2     12 -1.529225888803914e+01 1.1e+00 7.32e+01  7e+01  8e+01 0:00.0\n"
     ]
    },
    {
     "name": "stderr",
     "output_type": "stream",
     "text": [
      "[INFO-wrappers_bo-03/08/2021-14:40:04] Iteration 5\n",
      "[DEBUG-bo-03/08/2021-14:40:04] num_samples is ignored.\n"
     ]
    },
    {
     "name": "stdout",
     "output_type": "stream",
     "text": [
      "termination on tolfun=1e-11 (Mon Mar  8 14:40:04 2021)\n",
      "termination on tolflatfitness=1 (Mon Mar  8 14:40:04 2021)\n",
      "final/bestever f-value = -1.529226e+01 -1.529226e+01\n",
      "incumbent solution: [-45.21170172072849, -93.69240565101757]\n",
      "std deviation: [77.62066675430262, 67.92745111016252]\n",
      "Iterat #Fevals   function value  axis ratio  sigma  min&max std  t[m:s]\n",
      "    1      6 -2.478650514766235e+01 1.0e+00 3.86e+01  3e+01  4e+01 0:00.0\n"
     ]
    },
    {
     "name": "stderr",
     "output_type": "stream",
     "text": [
      "[INFO-wrappers_bo-03/08/2021-14:40:04] Iteration 6\n",
      "[DEBUG-bo-03/08/2021-14:40:04] num_samples is ignored.\n"
     ]
    },
    {
     "name": "stdout",
     "output_type": "stream",
     "text": [
      "termination on tolfun=1e-11 (Mon Mar  8 14:40:04 2021)\n",
      "final/bestever f-value = -2.478651e+01 -2.478651e+01\n",
      "incumbent solution: [72.96721383426112, -82.51632571362086]\n",
      "std deviation: [30.93502498099881, 36.90782372806261]\n",
      "Iterat #Fevals   function value  axis ratio  sigma  min&max std  t[m:s]\n",
      "    1      6 -2.485043167192504e+01 1.0e+00 4.05e+01  4e+01  4e+01 0:00.0\n",
      "    2     12 -2.485043167192504e+01 1.1e+00 4.02e+01  4e+01  4e+01 0:00.0\n",
      "    3     18 -2.485043167192504e+01 1.0e+00 3.29e+01  3e+01  3e+01 0:00.0\n",
      "    5     30 -2.485043167192504e+01 1.4e+00 2.61e+01  2e+01  2e+01 0:00.0\n"
     ]
    },
    {
     "name": "stderr",
     "output_type": "stream",
     "text": [
      "[INFO-wrappers_bo-03/08/2021-14:40:04] Iteration 7\n"
     ]
    },
    {
     "name": "stdout",
     "output_type": "stream",
     "text": [
      "termination on tolfun=1e-11 (Mon Mar  8 14:40:04 2021)\n",
      "final/bestever f-value = -2.485043e+01 -2.485043e+01\n",
      "incumbent solution: [96.55936679527518, 27.291887270438348]\n",
      "std deviation: [20.83261589653566, 17.301311087020842]\n"
     ]
    },
    {
     "name": "stderr",
     "output_type": "stream",
     "text": [
      "[DEBUG-bo-03/08/2021-14:40:04] num_samples is ignored.\n"
     ]
    },
    {
     "name": "stdout",
     "output_type": "stream",
     "text": [
      "Iterat #Fevals   function value  axis ratio  sigma  min&max std  t[m:s]\n",
      "    1      6 -2.394940020024312e+01 1.0e+00 4.83e+01  4e+01  5e+01 0:00.0\n"
     ]
    },
    {
     "name": "stderr",
     "output_type": "stream",
     "text": [
      "[INFO-wrappers_bo-03/08/2021-14:40:04] Iteration 8\n"
     ]
    },
    {
     "name": "stdout",
     "output_type": "stream",
     "text": [
      "termination on tolfun=1e-11 (Mon Mar  8 14:40:04 2021)\n",
      "final/bestever f-value = -2.394940e+01 -2.394940e+01\n",
      "incumbent solution: [-11.48716673736147, -80.71131282699542]\n",
      "std deviation: [50.001927764113454, 44.2256467962356]\n"
     ]
    },
    {
     "name": "stderr",
     "output_type": "stream",
     "text": [
      "[DEBUG-bo-03/08/2021-14:40:04] num_samples is ignored.\n"
     ]
    },
    {
     "name": "stdout",
     "output_type": "stream",
     "text": [
      "Iterat #Fevals   function value  axis ratio  sigma  min&max std  t[m:s]\n",
      "    1      6 -2.378867813818397e+01 1.0e+00 5.18e+01  5e+01  6e+01 0:00.0\n"
     ]
    },
    {
     "name": "stderr",
     "output_type": "stream",
     "text": [
      "[INFO-wrappers_bo-03/08/2021-14:40:04] Iteration 9\n"
     ]
    },
    {
     "name": "stdout",
     "output_type": "stream",
     "text": [
      "termination on tolfun=1e-11 (Mon Mar  8 14:40:04 2021)\n",
      "final/bestever f-value = -2.378868e+01 -2.378868e+01\n",
      "incumbent solution: [82.49015641112679, -49.80997557490738]\n",
      "std deviation: [48.14134510554937, 55.43053301653208]\n"
     ]
    },
    {
     "name": "stderr",
     "output_type": "stream",
     "text": [
      "[DEBUG-bo-03/08/2021-14:40:04] num_samples is ignored.\n"
     ]
    },
    {
     "name": "stdout",
     "output_type": "stream",
     "text": [
      "Iterat #Fevals   function value  axis ratio  sigma  min&max std  t[m:s]\n",
      "    1      6 -2.350900473349226e+01 1.0e+00 4.77e+01  4e+01  5e+01 0:00.0\n",
      "    2     12 -2.350900473349226e+01 1.3e+00 6.02e+01  6e+01  6e+01 0:00.0\n",
      "    3     18 -2.350900473349226e+01 1.3e+00 5.60e+01  5e+01  6e+01 0:00.0\n",
      "    7     42 -2.350900473349226e+01 1.4e+00 3.32e+01  2e+01  2e+01 0:00.0\n"
     ]
    },
    {
     "name": "stderr",
     "output_type": "stream",
     "text": [
      "[INFO-wrappers_bo-03/08/2021-14:40:04] range_X:\n",
      "[[-100, 100],\n",
      "[-100, 100]]\n",
      "[INFO-wrappers_bo-03/08/2021-14:40:04] str_cov: matern52\n",
      "[INFO-wrappers_bo-03/08/2021-14:40:04] str_acq: ei\n",
      "[INFO-wrappers_bo-03/08/2021-14:40:04] str_optimizer_method_gp: BFGS\n",
      "[INFO-wrappers_bo-03/08/2021-14:40:04] str_optimizer_method_bo: CMA-ES\n",
      "[INFO-wrappers_bo-03/08/2021-14:40:04] str_modelselection_method: ml\n",
      "[INFO-wrappers_bo-03/08/2021-14:40:04] num_init: 4\n",
      "[INFO-wrappers_bo-03/08/2021-14:40:04] num_iter: 4\n",
      "[INFO-wrappers_bo-03/08/2021-14:40:04] str_initial_method_bo: uniform\n",
      "[INFO-wrappers_bo-03/08/2021-14:40:04] str_sampling_method_ao: uniform\n",
      "[INFO-wrappers_bo-03/08/2021-14:40:04] num_samples_ao: 100\n",
      "[INFO-wrappers_bo-03/08/2021-14:40:04] str_mlm_method: regular\n",
      "[INFO-wrappers_bo-03/08/2021-14:40:04] seed: None\n",
      "[INFO-wrappers_bo-03/08/2021-14:40:04] Iteration 1\n"
     ]
    },
    {
     "name": "stdout",
     "output_type": "stream",
     "text": [
      "termination on tolflatfitness=1 (Mon Mar  8 14:40:04 2021)\n",
      "final/bestever f-value = -2.350900e+01 -2.350900e+01\n",
      "incumbent solution: [75.69377340363634, -26.46156820978608]\n",
      "std deviation: [22.64903779694327, 20.757179718178]\n",
      "BO Round 22\n"
     ]
    },
    {
     "name": "stderr",
     "output_type": "stream",
     "text": [
      "[DEBUG-bo-03/08/2021-14:40:04] num_samples is ignored.\n"
     ]
    },
    {
     "name": "stdout",
     "output_type": "stream",
     "text": [
      "Iterat #Fevals   function value  axis ratio  sigma  min&max std  t[m:s]\n",
      "    1      6 -2.316930013336373e+01 1.0e+00 5.20e+01  5e+01  6e+01 0:00.0\n",
      "    2     12 -2.316930013336373e+01 1.2e+00 4.58e+01  4e+01  4e+01 0:00.0\n"
     ]
    },
    {
     "name": "stderr",
     "output_type": "stream",
     "text": [
      "[INFO-wrappers_bo-03/08/2021-14:40:04] Iteration 2\n"
     ]
    },
    {
     "name": "stdout",
     "output_type": "stream",
     "text": [
      "termination on tolfun=1e-11 (Mon Mar  8 14:40:04 2021)\n",
      "final/bestever f-value = -2.316930e+01 -2.316930e+01\n",
      "incumbent solution: [-36.437470103810135, -30.915369533458502]\n",
      "std deviation: [39.12605085133264, 42.31746533273022]\n"
     ]
    },
    {
     "name": "stderr",
     "output_type": "stream",
     "text": [
      "[DEBUG-bo-03/08/2021-14:40:04] num_samples is ignored.\n"
     ]
    },
    {
     "name": "stdout",
     "output_type": "stream",
     "text": [
      "Iterat #Fevals   function value  axis ratio  sigma  min&max std  t[m:s]\n",
      "    1      6 -2.188177082337863e+01 1.0e+00 5.94e+01  5e+01  7e+01 0:00.0\n",
      "    2     12 -2.188177082337863e+01 1.4e+00 5.06e+01  4e+01  6e+01 0:00.0\n"
     ]
    },
    {
     "name": "stderr",
     "output_type": "stream",
     "text": [
      "[INFO-wrappers_bo-03/08/2021-14:40:04] Iteration 3\n"
     ]
    },
    {
     "name": "stdout",
     "output_type": "stream",
     "text": [
      "termination on tolfun=1e-11 (Mon Mar  8 14:40:04 2021)\n",
      "termination on tolflatfitness=1 (Mon Mar  8 14:40:04 2021)\n",
      "final/bestever f-value = -2.188177e+01 -2.188177e+01\n",
      "incumbent solution: [59.01891854604473, -53.84062400416338]\n",
      "std deviation: [56.622766959886306, 40.58879140350407]\n"
     ]
    },
    {
     "name": "stderr",
     "output_type": "stream",
     "text": [
      "[DEBUG-bo-03/08/2021-14:40:04] num_samples is ignored.\n"
     ]
    },
    {
     "name": "stdout",
     "output_type": "stream",
     "text": [
      "Iterat #Fevals   function value  axis ratio  sigma  min&max std  t[m:s]\n",
      "    1      6 -2.157082024439983e+01 1.0e+00 4.52e+01  4e+01  4e+01 0:00.0\n",
      "termination on tolfun=1e-11 (Mon Mar  8 14:40:04 2021)\n",
      "final/bestever f-value = -2.157082e+01 -2.157082e+01\n",
      "incumbent solution: [74.15624607341033, -51.818794603509176]\n",
      "std deviation: [43.66899077073061, 40.61437666094913]\n"
     ]
    },
    {
     "name": "stderr",
     "output_type": "stream",
     "text": [
      "[INFO-wrappers_bo-03/08/2021-14:40:04] Iteration 4\n",
      "[DEBUG-bo-03/08/2021-14:40:04] num_samples is ignored.\n"
     ]
    },
    {
     "name": "stdout",
     "output_type": "stream",
     "text": [
      "Iterat #Fevals   function value  axis ratio  sigma  min&max std  t[m:s]\n",
      "    1      6 -2.096685517783318e+01 1.0e+00 4.26e+01  4e+01  4e+01 0:00.0\n"
     ]
    },
    {
     "name": "stderr",
     "output_type": "stream",
     "text": [
      "[INFO-wrappers_bo-03/08/2021-14:40:04] range_X:\n",
      "[[-100, 100],\n",
      "[-100, 100]]\n",
      "[INFO-wrappers_bo-03/08/2021-14:40:04] str_cov: matern52\n",
      "[INFO-wrappers_bo-03/08/2021-14:40:04] str_acq: ei\n"
     ]
    },
    {
     "name": "stdout",
     "output_type": "stream",
     "text": [
      "termination on tolfun=1e-11 (Mon Mar  8 14:40:04 2021)\n",
      "final/bestever f-value = -2.096686e+01 -2.096686e+01\n",
      "incumbent solution: [-71.35594569330439, -96.47873699755071]\n",
      "std deviation: [37.952691542802796, 39.341505785571876]\n",
      "BO Round 23\n"
     ]
    },
    {
     "name": "stderr",
     "output_type": "stream",
     "text": [
      "[INFO-wrappers_bo-03/08/2021-14:40:04] str_optimizer_method_gp: BFGS\n",
      "[INFO-wrappers_bo-03/08/2021-14:40:04] str_optimizer_method_bo: CMA-ES\n",
      "[INFO-wrappers_bo-03/08/2021-14:40:04] str_modelselection_method: ml\n",
      "[INFO-wrappers_bo-03/08/2021-14:40:04] num_init: 3\n",
      "[INFO-wrappers_bo-03/08/2021-14:40:04] num_iter: 10\n",
      "[INFO-wrappers_bo-03/08/2021-14:40:04] str_initial_method_bo: uniform\n",
      "[INFO-wrappers_bo-03/08/2021-14:40:04] str_sampling_method_ao: uniform\n",
      "[INFO-wrappers_bo-03/08/2021-14:40:04] num_samples_ao: 100\n",
      "[INFO-wrappers_bo-03/08/2021-14:40:04] str_mlm_method: regular\n",
      "[INFO-wrappers_bo-03/08/2021-14:40:04] seed: None\n",
      "[INFO-wrappers_bo-03/08/2021-14:40:04] Iteration 1\n",
      "[DEBUG-bo-03/08/2021-14:40:04] num_samples is ignored.\n"
     ]
    },
    {
     "name": "stdout",
     "output_type": "stream",
     "text": [
      "Iterat #Fevals   function value  axis ratio  sigma  min&max std  t[m:s]\n",
      "    1      6 -2.707160010701259e+01 1.0e+00 4.48e+01  4e+01  4e+01 0:00.0\n"
     ]
    },
    {
     "name": "stderr",
     "output_type": "stream",
     "text": [
      "[INFO-wrappers_bo-03/08/2021-14:40:04] Iteration 2\n"
     ]
    },
    {
     "name": "stdout",
     "output_type": "stream",
     "text": [
      "termination on tolfun=1e-11 (Mon Mar  8 14:40:04 2021)\n",
      "final/bestever f-value = -2.707160e+01 -2.707160e+01\n",
      "incumbent solution: [96.3762614453986, -66.24718443745921]\n",
      "std deviation: [43.727556067497865, 39.6044651945402]\n"
     ]
    },
    {
     "name": "stderr",
     "output_type": "stream",
     "text": [
      "[DEBUG-bo-03/08/2021-14:40:04] num_samples is ignored.\n"
     ]
    },
    {
     "name": "stdout",
     "output_type": "stream",
     "text": [
      "Iterat #Fevals   function value  axis ratio  sigma  min&max std  t[m:s]\n",
      "    1      6 -3.105840066445488e+01 1.0e+00 5.37e+01  4e+01  6e+01 0:00.0\n",
      "    2     12 -3.105840066445488e+01 1.5e+00 8.12e+01  6e+01  1e+02 0:00.0\n",
      "    3     18 -3.105840066445488e+01 1.7e+00 1.27e+02  1e+02  2e+02 0:00.0\n"
     ]
    },
    {
     "name": "stderr",
     "output_type": "stream",
     "text": [
      "[INFO-wrappers_bo-03/08/2021-14:40:04] Iteration 3\n"
     ]
    },
    {
     "name": "stdout",
     "output_type": "stream",
     "text": [
      "termination on tolfun=1e-11 (Mon Mar  8 14:40:04 2021)\n",
      "termination on tolflatfitness=1 (Mon Mar  8 14:40:04 2021)\n",
      "final/bestever f-value = -3.105840e+01 -3.105840e+01\n",
      "incumbent solution: [-75.37085297258463, -86.54164814083639]\n",
      "std deviation: [164.29137016191936, 98.9573066182783]\n"
     ]
    },
    {
     "name": "stderr",
     "output_type": "stream",
     "text": [
      "[DEBUG-bo-03/08/2021-14:40:04] num_samples is ignored.\n"
     ]
    },
    {
     "name": "stdout",
     "output_type": "stream",
     "text": [
      "Iterat #Fevals   function value  axis ratio  sigma  min&max std  t[m:s]\n",
      "    1      6 -3.087073997552885e+01 1.0e+00 5.18e+01  5e+01  5e+01 0:00.0\n"
     ]
    },
    {
     "name": "stderr",
     "output_type": "stream",
     "text": [
      "[INFO-wrappers_bo-03/08/2021-14:40:04] Iteration 4\n"
     ]
    },
    {
     "name": "stdout",
     "output_type": "stream",
     "text": [
      "termination on tolfun=1e-11 (Mon Mar  8 14:40:04 2021)\n",
      "final/bestever f-value = -3.087074e+01 -3.087074e+01\n",
      "incumbent solution: [-27.085404077319886, 32.20589218214196]\n",
      "std deviation: [52.162681853123445, 50.07416206592552]\n"
     ]
    },
    {
     "name": "stderr",
     "output_type": "stream",
     "text": [
      "[DEBUG-bo-03/08/2021-14:40:04] num_samples is ignored.\n"
     ]
    },
    {
     "name": "stdout",
     "output_type": "stream",
     "text": [
      "Iterat #Fevals   function value  axis ratio  sigma  min&max std  t[m:s]\n",
      "    1      6 -2.950117815589162e+01 1.0e+00 8.14e+01  8e+01  1e+02 0:00.0\n",
      "    2     12 -2.950117815589162e+01 1.3e+00 1.05e+02  1e+02  1e+02 0:00.0\n"
     ]
    },
    {
     "name": "stderr",
     "output_type": "stream",
     "text": [
      "[INFO-wrappers_bo-03/08/2021-14:40:04] Iteration 5\n"
     ]
    },
    {
     "name": "stdout",
     "output_type": "stream",
     "text": [
      "termination on tolfun=1e-11 (Mon Mar  8 14:40:04 2021)\n",
      "final/bestever f-value = -2.950118e+01 -2.950118e+01\n",
      "incumbent solution: [71.26013358542757, -26.894810990203098]\n",
      "std deviation: [96.18251616099934, 129.52064764514228]\n"
     ]
    },
    {
     "name": "stderr",
     "output_type": "stream",
     "text": [
      "[DEBUG-bo-03/08/2021-14:40:04] num_samples is ignored.\n"
     ]
    },
    {
     "name": "stdout",
     "output_type": "stream",
     "text": [
      "Iterat #Fevals   function value  axis ratio  sigma  min&max std  t[m:s]\n",
      "    1      6 -2.915632678907523e+01 1.0e+00 4.37e+01  4e+01  4e+01 0:00.0\n",
      "    2     12 -2.915632678907523e+01 1.2e+00 4.08e+01  4e+01  4e+01 0:00.0\n"
     ]
    },
    {
     "name": "stderr",
     "output_type": "stream",
     "text": [
      "[INFO-wrappers_bo-03/08/2021-14:40:04] Iteration 6\n",
      "[DEBUG-bo-03/08/2021-14:40:04] num_samples is ignored.\n"
     ]
    },
    {
     "name": "stdout",
     "output_type": "stream",
     "text": [
      "termination on tolfun=1e-11 (Mon Mar  8 14:40:04 2021)\n",
      "termination on tolflatfitness=1 (Mon Mar  8 14:40:04 2021)\n",
      "final/bestever f-value = -2.915633e+01 -2.915633e+01\n",
      "incumbent solution: [-88.55289040757741, 26.455618401781074]\n",
      "std deviation: [35.19449678823355, 38.14918253670592]\n",
      "Iterat #Fevals   function value  axis ratio  sigma  min&max std  t[m:s]\n",
      "    1      6 -2.907616136646639e+01 1.0e+00 5.00e+01  4e+01  6e+01 0:00.0\n"
     ]
    },
    {
     "name": "stderr",
     "output_type": "stream",
     "text": [
      "[INFO-wrappers_bo-03/08/2021-14:40:04] Iteration 7\n"
     ]
    },
    {
     "name": "stdout",
     "output_type": "stream",
     "text": [
      "termination on tolfun=1e-11 (Mon Mar  8 14:40:04 2021)\n",
      "final/bestever f-value = -2.907616e+01 -2.907616e+01\n",
      "incumbent solution: [-98.54964780132987, 61.45348170631624]\n",
      "std deviation: [58.6627554066815, 43.48553781791259]\n"
     ]
    },
    {
     "name": "stderr",
     "output_type": "stream",
     "text": [
      "[DEBUG-bo-03/08/2021-14:40:04] num_samples is ignored.\n"
     ]
    },
    {
     "name": "stdout",
     "output_type": "stream",
     "text": [
      "Iterat #Fevals   function value  axis ratio  sigma  min&max std  t[m:s]\n",
      "    1      6 -2.939127580061382e+01 1.0e+00 3.93e+01  3e+01  4e+01 0:00.0\n",
      "    2     12 -2.939127580061382e+01 1.1e+00 3.59e+01  3e+01  3e+01 0:00.0\n",
      "    3     18 -2.939127580061382e+01 1.2e+00 3.08e+01  3e+01  3e+01 0:00.0\n",
      "    4     24 -2.939127580061382e+01 1.3e+00 2.33e+01  2e+01  2e+01 0:00.0\n",
      "termination on tolflatfitness=1 (Mon Mar  8 14:40:04 2021)\n",
      "final/bestever f-value = -2.937363e+01 -2.939128e+01\n",
      "incumbent solution: [92.91304667928452, -11.925512795073917]\n",
      "std deviation: [18.487469046030725, 18.555450094372514]\n"
     ]
    },
    {
     "name": "stderr",
     "output_type": "stream",
     "text": [
      "[INFO-wrappers_bo-03/08/2021-14:40:04] Iteration 8\n",
      "[DEBUG-bo-03/08/2021-14:40:04] num_samples is ignored.\n"
     ]
    },
    {
     "name": "stdout",
     "output_type": "stream",
     "text": [
      "Iterat #Fevals   function value  axis ratio  sigma  min&max std  t[m:s]\n",
      "    1      6 -2.907394956354364e+01 1.0e+00 4.66e+01  4e+01  5e+01 0:00.0\n"
     ]
    },
    {
     "name": "stderr",
     "output_type": "stream",
     "text": [
      "[INFO-wrappers_bo-03/08/2021-14:40:05] Iteration 9\n"
     ]
    },
    {
     "name": "stdout",
     "output_type": "stream",
     "text": [
      "termination on tolfun=1e-11 (Mon Mar  8 14:40:05 2021)\n",
      "final/bestever f-value = -2.907395e+01 -2.907395e+01\n",
      "incumbent solution: [-39.90215285656576, -86.11445471856891]\n",
      "std deviation: [39.55703813614336, 54.318676912694784]\n"
     ]
    },
    {
     "name": "stderr",
     "output_type": "stream",
     "text": [
      "[DEBUG-bo-03/08/2021-14:40:05] num_samples is ignored.\n"
     ]
    },
    {
     "name": "stdout",
     "output_type": "stream",
     "text": [
      "Iterat #Fevals   function value  axis ratio  sigma  min&max std  t[m:s]\n",
      "    1      6 -2.880155340894489e+01 1.0e+00 6.80e+01  7e+01  9e+01 0:00.0\n"
     ]
    },
    {
     "name": "stderr",
     "output_type": "stream",
     "text": [
      "[INFO-wrappers_bo-03/08/2021-14:40:05] Iteration 10\n"
     ]
    },
    {
     "name": "stdout",
     "output_type": "stream",
     "text": [
      "termination on tolfun=1e-11 (Mon Mar  8 14:40:05 2021)\n",
      "final/bestever f-value = -2.880155e+01 -2.880155e+01\n",
      "incumbent solution: [-97.74785372932976, -23.23798163561004]\n",
      "std deviation: [70.55877429854056, 87.35749417565339]\n"
     ]
    },
    {
     "name": "stderr",
     "output_type": "stream",
     "text": [
      "[DEBUG-bo-03/08/2021-14:40:05] num_samples is ignored.\n"
     ]
    },
    {
     "name": "stdout",
     "output_type": "stream",
     "text": [
      "Iterat #Fevals   function value  axis ratio  sigma  min&max std  t[m:s]\n",
      "    1      6 -2.898362091259308e+01 1.0e+00 5.46e+01  5e+01  6e+01 0:00.0\n",
      "    2     12 -2.898362091259308e+01 1.4e+00 6.32e+01  6e+01  9e+01 0:00.0\n",
      "    3     18 -2.898362091259308e+01 2.0e+00 5.88e+01  6e+01  7e+01 0:00.0\n"
     ]
    },
    {
     "name": "stderr",
     "output_type": "stream",
     "text": [
      "[INFO-wrappers_bo-03/08/2021-14:40:05] range_X:\n",
      "[[-100, 100],\n",
      "[-100, 100]]\n",
      "[INFO-wrappers_bo-03/08/2021-14:40:05] str_cov: matern52\n",
      "[INFO-wrappers_bo-03/08/2021-14:40:05] str_acq: ei\n"
     ]
    },
    {
     "name": "stdout",
     "output_type": "stream",
     "text": [
      "termination on tolflatfitness=1 (Mon Mar  8 14:40:05 2021)\n",
      "final/bestever f-value = -2.898362e+01 -2.898362e+01\n",
      "incumbent solution: [0.434850963093421, 13.923617374888284]\n",
      "std deviation: [58.34614016007374, 73.47407206160516]\n",
      "BO Round 24\n"
     ]
    },
    {
     "name": "stderr",
     "output_type": "stream",
     "text": [
      "[INFO-wrappers_bo-03/08/2021-14:40:05] str_optimizer_method_gp: BFGS\n",
      "[INFO-wrappers_bo-03/08/2021-14:40:05] str_optimizer_method_bo: CMA-ES\n",
      "[INFO-wrappers_bo-03/08/2021-14:40:05] str_modelselection_method: ml\n",
      "[INFO-wrappers_bo-03/08/2021-14:40:05] num_init: 5\n",
      "[INFO-wrappers_bo-03/08/2021-14:40:05] num_iter: 9\n",
      "[INFO-wrappers_bo-03/08/2021-14:40:05] str_initial_method_bo: uniform\n",
      "[INFO-wrappers_bo-03/08/2021-14:40:05] str_sampling_method_ao: uniform\n",
      "[INFO-wrappers_bo-03/08/2021-14:40:05] num_samples_ao: 100\n",
      "[INFO-wrappers_bo-03/08/2021-14:40:05] str_mlm_method: regular\n",
      "[INFO-wrappers_bo-03/08/2021-14:40:05] seed: None\n",
      "[INFO-wrappers_bo-03/08/2021-14:40:05] Iteration 1\n",
      "[DEBUG-bo-03/08/2021-14:40:05] num_samples is ignored.\n"
     ]
    },
    {
     "name": "stdout",
     "output_type": "stream",
     "text": [
      "Iterat #Fevals   function value  axis ratio  sigma  min&max std  t[m:s]\n",
      "    1      6 -1.787843202581918e+01 1.0e+00 5.25e+01  5e+01  5e+01 0:00.0\n"
     ]
    },
    {
     "name": "stderr",
     "output_type": "stream",
     "text": [
      "[INFO-wrappers_bo-03/08/2021-14:40:05] Iteration 2\n",
      "[DEBUG-bo-03/08/2021-14:40:05] num_samples is ignored.\n"
     ]
    },
    {
     "name": "stdout",
     "output_type": "stream",
     "text": [
      "termination on tolfun=1e-11 (Mon Mar  8 14:40:05 2021)\n",
      "final/bestever f-value = -1.787843e+01 -1.787843e+01\n",
      "incumbent solution: [-35.71618781969527, -25.46697217112709]\n",
      "std deviation: [51.60466161032808, 52.41620984038976]\n",
      "Iterat #Fevals   function value  axis ratio  sigma  min&max std  t[m:s]\n",
      "    1      6 -1.633369567854085e+01 1.0e+00 4.13e+01  3e+01  4e+01 0:00.0\n",
      "    2     12 -1.633369567854085e+01 1.3e+00 4.02e+01  3e+01  4e+01 0:00.0\n",
      "    3     18 -1.633369567854085e+01 1.4e+00 4.14e+01  3e+01  4e+01 0:00.0\n"
     ]
    },
    {
     "name": "stderr",
     "output_type": "stream",
     "text": [
      "[INFO-wrappers_bo-03/08/2021-14:40:05] Iteration 3\n"
     ]
    },
    {
     "name": "stdout",
     "output_type": "stream",
     "text": [
      "termination on tolfun=1e-11 (Mon Mar  8 14:40:05 2021)\n",
      "final/bestever f-value = -1.633370e+01 -1.633370e+01\n",
      "incumbent solution: [-38.93846269726832, -20.03623886688861]\n",
      "std deviation: [31.404956564462633, 42.00562469738182]\n"
     ]
    },
    {
     "name": "stderr",
     "output_type": "stream",
     "text": [
      "[DEBUG-bo-03/08/2021-14:40:05] num_samples is ignored.\n"
     ]
    },
    {
     "name": "stdout",
     "output_type": "stream",
     "text": [
      "Iterat #Fevals   function value  axis ratio  sigma  min&max std  t[m:s]\n",
      "    1      6 -1.512293796383159e+01 1.0e+00 4.42e+01  4e+01  4e+01 0:00.0\n",
      "    2     12 -1.512293796383159e+01 1.2e+00 3.83e+01  3e+01  4e+01 0:00.0\n"
     ]
    },
    {
     "name": "stderr",
     "output_type": "stream",
     "text": [
      "[INFO-wrappers_bo-03/08/2021-14:40:05] Iteration 4\n",
      "[DEBUG-bo-03/08/2021-14:40:05] num_samples is ignored.\n"
     ]
    },
    {
     "name": "stdout",
     "output_type": "stream",
     "text": [
      "termination on tolflatfitness=1 (Mon Mar  8 14:40:05 2021)\n",
      "final/bestever f-value = -1.512294e+01 -1.512294e+01\n",
      "incumbent solution: [-23.343957635885523, 86.86956118589038]\n",
      "std deviation: [36.874915694426804, 30.112382032833377]\n",
      "Iterat #Fevals   function value  axis ratio  sigma  min&max std  t[m:s]\n",
      "    1      6 -1.414692769725848e+01 1.0e+00 5.51e+01  5e+01  7e+01 0:00.0\n"
     ]
    },
    {
     "name": "stderr",
     "output_type": "stream",
     "text": [
      "[INFO-wrappers_bo-03/08/2021-14:40:05] Iteration 5\n"
     ]
    },
    {
     "name": "stdout",
     "output_type": "stream",
     "text": [
      "termination on tolfun=1e-11 (Mon Mar  8 14:40:05 2021)\n",
      "final/bestever f-value = -1.414693e+01 -1.414693e+01\n",
      "incumbent solution: [-5.939956356362737, 81.57023981393556]\n",
      "std deviation: [45.41257665471323, 65.22046362557693]\n"
     ]
    },
    {
     "name": "stderr",
     "output_type": "stream",
     "text": [
      "[DEBUG-bo-03/08/2021-14:40:05] num_samples is ignored.\n"
     ]
    },
    {
     "name": "stdout",
     "output_type": "stream",
     "text": [
      "Iterat #Fevals   function value  axis ratio  sigma  min&max std  t[m:s]\n",
      "    1      6 -1.333804101477967e+01 1.0e+00 7.29e+01  6e+01  9e+01 0:00.0\n",
      "    2     12 -1.333804101477967e+01 1.3e+00 1.11e+02  1e+02  1e+02 0:00.0\n",
      "termination on tolfun=1e-11 (Mon Mar  8 14:40:05 2021)\n",
      "termination on tolflatfitness=1 (Mon Mar  8 14:40:05 2021)\n",
      "final/bestever f-value = -1.333804e+01 -1.333804e+01\n",
      "incumbent solution: [-24.27747331402631, -62.73185998169831]\n",
      "std deviation: [99.48132968432793, 126.7277601020569]\n"
     ]
    },
    {
     "name": "stderr",
     "output_type": "stream",
     "text": [
      "[INFO-wrappers_bo-03/08/2021-14:40:05] Iteration 6\n",
      "[DEBUG-bo-03/08/2021-14:40:05] num_samples is ignored.\n"
     ]
    },
    {
     "name": "stdout",
     "output_type": "stream",
     "text": [
      "Iterat #Fevals   function value  axis ratio  sigma  min&max std  t[m:s]\n",
      "    1      6 -1.266471033552223e+01 1.0e+00 4.09e+01  4e+01  4e+01 0:00.0\n",
      "    2     12 -1.266471033552223e+01 1.1e+00 3.14e+01  3e+01  3e+01 0:00.0\n"
     ]
    },
    {
     "name": "stderr",
     "output_type": "stream",
     "text": [
      "[INFO-wrappers_bo-03/08/2021-14:40:05] Iteration 7\n"
     ]
    },
    {
     "name": "stdout",
     "output_type": "stream",
     "text": [
      "termination on tolfun=1e-11 (Mon Mar  8 14:40:05 2021)\n",
      "final/bestever f-value = -1.266471e+01 -1.266471e+01\n",
      "incumbent solution: [-98.39306914826025, -66.59679874904208]\n",
      "std deviation: [25.17701976962815, 25.3339313051152]\n"
     ]
    },
    {
     "name": "stderr",
     "output_type": "stream",
     "text": [
      "[DEBUG-bo-03/08/2021-14:40:05] num_samples is ignored.\n"
     ]
    },
    {
     "name": "stdout",
     "output_type": "stream",
     "text": [
      "Iterat #Fevals   function value  axis ratio  sigma  min&max std  t[m:s]\n",
      "    1      6 -1.208453777842556e+01 1.0e+00 5.32e+01  4e+01  6e+01 0:00.0\n"
     ]
    },
    {
     "name": "stderr",
     "output_type": "stream",
     "text": [
      "[INFO-wrappers_bo-03/08/2021-14:40:05] Iteration 8\n",
      "[DEBUG-bo-03/08/2021-14:40:05] num_samples is ignored.\n"
     ]
    },
    {
     "name": "stdout",
     "output_type": "stream",
     "text": [
      "termination on tolfun=1e-11 (Mon Mar  8 14:40:05 2021)\n",
      "final/bestever f-value = -1.208454e+01 -1.208454e+01\n",
      "incumbent solution: [55.64540757998193, -85.8805935519864]\n",
      "std deviation: [44.95023409121689, 64.10009558590892]\n",
      "Iterat #Fevals   function value  axis ratio  sigma  min&max std  t[m:s]\n",
      "    1      6 -1.163219518818705e+01 1.0e+00 3.94e+01  4e+01  4e+01 0:00.0\n",
      "    2     12 -1.163219518818705e+01 1.1e+00 3.49e+01  3e+01  3e+01 0:00.0\n",
      "    3     18 -1.163219518818705e+01 1.1e+00 4.11e+01  3e+01  4e+01 0:00.0\n",
      "    6     36 -1.163219518818705e+01 1.4e+00 2.13e+01  1e+01  2e+01 0:00.0\n"
     ]
    },
    {
     "name": "stderr",
     "output_type": "stream",
     "text": [
      "[INFO-wrappers_bo-03/08/2021-14:40:05] Iteration 9\n"
     ]
    },
    {
     "name": "stdout",
     "output_type": "stream",
     "text": [
      "termination on tolfun=1e-11 (Mon Mar  8 14:40:05 2021)\n",
      "final/bestever f-value = -1.163220e+01 -1.163220e+01\n",
      "incumbent solution: [-44.03617869465946, 59.6555576751431]\n",
      "std deviation: [15.359933099313396, 11.157068245821431]\n"
     ]
    },
    {
     "name": "stderr",
     "output_type": "stream",
     "text": [
      "[DEBUG-bo-03/08/2021-14:40:05] num_samples is ignored.\n"
     ]
    },
    {
     "name": "stdout",
     "output_type": "stream",
     "text": [
      "Iterat #Fevals   function value  axis ratio  sigma  min&max std  t[m:s]\n",
      "    1      6 -1.118446781543843e+01 1.0e+00 4.04e+01  4e+01  4e+01 0:00.0\n"
     ]
    },
    {
     "name": "stderr",
     "output_type": "stream",
     "text": [
      "[INFO-wrappers_bo-03/08/2021-14:40:05] range_X:\n",
      "[[-100, 100],\n",
      "[-100, 100]]\n",
      "[INFO-wrappers_bo-03/08/2021-14:40:05] str_cov: matern52\n",
      "[INFO-wrappers_bo-03/08/2021-14:40:05] str_acq: ei\n"
     ]
    },
    {
     "name": "stdout",
     "output_type": "stream",
     "text": [
      "termination on tolfun=1e-11 (Mon Mar  8 14:40:05 2021)\n",
      "final/bestever f-value = -1.118447e+01 -1.118447e+01\n",
      "incumbent solution: [48.41859787582594, -78.2366749508514]\n",
      "std deviation: [36.70657112598452, 36.86617852286665]\n",
      "BO Round 25\n"
     ]
    },
    {
     "name": "stderr",
     "output_type": "stream",
     "text": [
      "[INFO-wrappers_bo-03/08/2021-14:40:05] str_optimizer_method_gp: BFGS\n",
      "[INFO-wrappers_bo-03/08/2021-14:40:05] str_optimizer_method_bo: CMA-ES\n",
      "[INFO-wrappers_bo-03/08/2021-14:40:05] str_modelselection_method: ml\n",
      "[INFO-wrappers_bo-03/08/2021-14:40:05] num_init: 3\n",
      "[INFO-wrappers_bo-03/08/2021-14:40:05] num_iter: 3\n",
      "[INFO-wrappers_bo-03/08/2021-14:40:05] str_initial_method_bo: uniform\n",
      "[INFO-wrappers_bo-03/08/2021-14:40:05] str_sampling_method_ao: uniform\n",
      "[INFO-wrappers_bo-03/08/2021-14:40:05] num_samples_ao: 100\n",
      "[INFO-wrappers_bo-03/08/2021-14:40:05] str_mlm_method: regular\n",
      "[INFO-wrappers_bo-03/08/2021-14:40:05] seed: None\n",
      "[INFO-wrappers_bo-03/08/2021-14:40:05] Iteration 1\n",
      "[DEBUG-bo-03/08/2021-14:40:05] num_samples is ignored.\n"
     ]
    },
    {
     "name": "stdout",
     "output_type": "stream",
     "text": [
      "Iterat #Fevals   function value  axis ratio  sigma  min&max std  t[m:s]\n",
      "    1      6 -3.175447471301490e+01 1.0e+00 4.53e+01  4e+01  5e+01 0:00.0\n"
     ]
    },
    {
     "name": "stderr",
     "output_type": "stream",
     "text": [
      "[INFO-wrappers_bo-03/08/2021-14:40:05] Iteration 2\n",
      "[DEBUG-bo-03/08/2021-14:40:05] num_samples is ignored.\n"
     ]
    },
    {
     "name": "stdout",
     "output_type": "stream",
     "text": [
      "termination on tolfun=1e-11 (Mon Mar  8 14:40:05 2021)\n",
      "final/bestever f-value = -3.175447e+01 -3.175447e+01\n",
      "incumbent solution: [-50.95587399859148, -47.906108544908896]\n",
      "std deviation: [46.99176316443054, 39.83197172171653]\n",
      "Iterat #Fevals   function value  axis ratio  sigma  min&max std  t[m:s]\n",
      "    1      6 -3.161291630394651e+01 1.0e+00 5.98e+01  6e+01  7e+01 0:00.0\n",
      "termination on tolfun=1e-11 (Mon Mar  8 14:40:05 2021)\n",
      "final/bestever f-value = -3.161292e+01 -3.161292e+01\n",
      "incumbent solution: [-57.80820351006507, -13.236906229237754]\n",
      "std deviation: [70.24224435467353, 62.70561490840929]\n"
     ]
    },
    {
     "name": "stderr",
     "output_type": "stream",
     "text": [
      "[INFO-wrappers_bo-03/08/2021-14:40:05] Iteration 3\n",
      "[DEBUG-bo-03/08/2021-14:40:05] num_samples is ignored.\n"
     ]
    },
    {
     "name": "stdout",
     "output_type": "stream",
     "text": [
      "Iterat #Fevals   function value  axis ratio  sigma  min&max std  t[m:s]\n",
      "    1      6 -3.203894560722436e+01 1.0e+00 5.02e+01  4e+01  5e+01 0:00.0\n"
     ]
    },
    {
     "name": "stderr",
     "output_type": "stream",
     "text": [
      "[INFO-wrappers_bo-03/08/2021-14:40:05] range_X:\n",
      "[[-100, 100],\n",
      "[-100, 100]]\n"
     ]
    },
    {
     "name": "stdout",
     "output_type": "stream",
     "text": [
      "termination on tolfun=1e-11 (Mon Mar  8 14:40:05 2021)\n",
      "final/bestever f-value = -3.203895e+01 -3.203895e+01\n",
      "incumbent solution: [54.28319595082751, 86.23208647480004]\n",
      "std deviation: [43.047643930463444, 53.44622417783319]\n",
      "BO Round 26\n"
     ]
    },
    {
     "name": "stderr",
     "output_type": "stream",
     "text": [
      "[INFO-wrappers_bo-03/08/2021-14:40:05] str_cov: matern52\n",
      "[INFO-wrappers_bo-03/08/2021-14:40:05] str_acq: ei\n",
      "[INFO-wrappers_bo-03/08/2021-14:40:05] str_optimizer_method_gp: BFGS\n",
      "[INFO-wrappers_bo-03/08/2021-14:40:05] str_optimizer_method_bo: CMA-ES\n",
      "[INFO-wrappers_bo-03/08/2021-14:40:05] str_modelselection_method: ml\n",
      "[INFO-wrappers_bo-03/08/2021-14:40:05] num_init: 8\n",
      "[INFO-wrappers_bo-03/08/2021-14:40:05] num_iter: 5\n",
      "[INFO-wrappers_bo-03/08/2021-14:40:05] str_initial_method_bo: uniform\n",
      "[INFO-wrappers_bo-03/08/2021-14:40:05] str_sampling_method_ao: uniform\n",
      "[INFO-wrappers_bo-03/08/2021-14:40:05] num_samples_ao: 100\n",
      "[INFO-wrappers_bo-03/08/2021-14:40:05] str_mlm_method: regular\n",
      "[INFO-wrappers_bo-03/08/2021-14:40:05] seed: None\n",
      "[INFO-wrappers_bo-03/08/2021-14:40:05] Iteration 1\n",
      "[DEBUG-bo-03/08/2021-14:40:05] num_samples is ignored.\n"
     ]
    },
    {
     "name": "stdout",
     "output_type": "stream",
     "text": [
      "Iterat #Fevals   function value  axis ratio  sigma  min&max std  t[m:s]\n",
      "    1      6 -1.872189485947347e+01 1.0e+00 6.03e+01  6e+01  7e+01 0:00.0\n",
      "termination on tolfun=1e-11 (Mon Mar  8 14:40:05 2021)\n",
      "final/bestever f-value = -1.872189e+01 -1.872189e+01\n",
      "incumbent solution: [89.54638756405721, -49.90892578824856]\n",
      "std deviation: [65.07910615082102, 64.8911220095303]\n"
     ]
    },
    {
     "name": "stderr",
     "output_type": "stream",
     "text": [
      "[INFO-wrappers_bo-03/08/2021-14:40:05] Iteration 2\n",
      "[DEBUG-bo-03/08/2021-14:40:05] num_samples is ignored.\n"
     ]
    },
    {
     "name": "stdout",
     "output_type": "stream",
     "text": [
      "Iterat #Fevals   function value  axis ratio  sigma  min&max std  t[m:s]\n",
      "    1      6 -1.799001239220504e+01 1.0e+00 4.13e+01  4e+01  4e+01 0:00.0\n"
     ]
    },
    {
     "name": "stderr",
     "output_type": "stream",
     "text": [
      "[INFO-wrappers_bo-03/08/2021-14:40:05] Iteration 3\n",
      "[DEBUG-bo-03/08/2021-14:40:05] num_samples is ignored.\n"
     ]
    },
    {
     "name": "stdout",
     "output_type": "stream",
     "text": [
      "termination on tolfun=1e-11 (Mon Mar  8 14:40:05 2021)\n",
      "final/bestever f-value = -1.799001e+01 -1.799001e+01\n",
      "incumbent solution: [40.287661245576835, -61.84348569870389]\n",
      "std deviation: [38.881439431363866, 36.658438889915004]\n",
      "Iterat #Fevals   function value  axis ratio  sigma  min&max std  t[m:s]\n",
      "    1      6 -1.729960584598697e+01 1.0e+00 3.73e+01  3e+01  3e+01 0:00.0\n",
      "    2     12 -1.729960584598697e+01 1.0e+00 3.22e+01  2e+01  3e+01 0:00.0\n",
      "    3     18 -1.729960584598697e+01 1.3e+00 2.65e+01  2e+01  2e+01 0:00.0\n"
     ]
    },
    {
     "name": "stderr",
     "output_type": "stream",
     "text": [
      "[INFO-wrappers_bo-03/08/2021-14:40:05] Iteration 4\n",
      "[DEBUG-bo-03/08/2021-14:40:05] num_samples is ignored.\n"
     ]
    },
    {
     "name": "stdout",
     "output_type": "stream",
     "text": [
      "termination on tolfun=1e-11 (Mon Mar  8 14:40:05 2021)\n",
      "final/bestever f-value = -1.729961e+01 -1.729961e+01\n",
      "incumbent solution: [56.75012081150498, -75.91375906018216]\n",
      "std deviation: [17.672302503468128, 21.56725741641067]\n",
      "Iterat #Fevals   function value  axis ratio  sigma  min&max std  t[m:s]\n",
      "    1      6 -1.691603397773584e+01 1.0e+00 6.27e+01  5e+01  8e+01 0:00.0\n",
      "    2     12 -1.691603397773584e+01 1.6e+00 5.34e+01  4e+01  7e+01 0:00.0\n",
      "    3     18 -1.691603397773584e+01 1.7e+00 6.25e+01  6e+01  7e+01 0:00.0\n"
     ]
    },
    {
     "name": "stderr",
     "output_type": "stream",
     "text": [
      "[INFO-wrappers_bo-03/08/2021-14:40:05] Iteration 5\n"
     ]
    },
    {
     "name": "stdout",
     "output_type": "stream",
     "text": [
      "termination on tolfun=1e-11 (Mon Mar  8 14:40:05 2021)\n",
      "termination on tolflatfitness=1 (Mon Mar  8 14:40:05 2021)\n",
      "final/bestever f-value = -1.691603e+01 -1.691603e+01\n",
      "incumbent solution: [30.826804099974815, -53.708424517676235]\n",
      "std deviation: [57.13283886862501, 69.76627694038223]\n"
     ]
    },
    {
     "name": "stderr",
     "output_type": "stream",
     "text": [
      "[DEBUG-bo-03/08/2021-14:40:05] num_samples is ignored.\n"
     ]
    },
    {
     "name": "stdout",
     "output_type": "stream",
     "text": [
      "Iterat #Fevals   function value  axis ratio  sigma  min&max std  t[m:s]\n",
      "    1      6 -1.657293535548978e+01 1.0e+00 5.25e+01  5e+01  6e+01 0:00.0\n",
      "    2     12 -1.657293535548978e+01 1.4e+00 4.34e+01  4e+01  4e+01 0:00.0\n",
      "    3     18 -1.657293535548978e+01 1.7e+00 3.75e+01  3e+01  3e+01 0:00.0\n"
     ]
    },
    {
     "name": "stderr",
     "output_type": "stream",
     "text": [
      "[INFO-wrappers_bo-03/08/2021-14:40:05] range_X:\n",
      "[[-100, 100],\n",
      "[-100, 100]]\n",
      "[INFO-wrappers_bo-03/08/2021-14:40:05] str_cov: matern52\n",
      "[INFO-wrappers_bo-03/08/2021-14:40:05] str_acq: ei\n",
      "[INFO-wrappers_bo-03/08/2021-14:40:05] str_optimizer_method_gp: BFGS\n",
      "[INFO-wrappers_bo-03/08/2021-14:40:05] str_optimizer_method_bo: CMA-ES\n",
      "[INFO-wrappers_bo-03/08/2021-14:40:05] str_modelselection_method: ml\n",
      "[INFO-wrappers_bo-03/08/2021-14:40:05] num_init: 10\n",
      "[INFO-wrappers_bo-03/08/2021-14:40:05] num_iter: 5\n",
      "[INFO-wrappers_bo-03/08/2021-14:40:05] str_initial_method_bo: uniform\n",
      "[INFO-wrappers_bo-03/08/2021-14:40:05] str_sampling_method_ao: uniform\n",
      "[INFO-wrappers_bo-03/08/2021-14:40:05] num_samples_ao: 100\n",
      "[INFO-wrappers_bo-03/08/2021-14:40:05] str_mlm_method: regular\n",
      "[INFO-wrappers_bo-03/08/2021-14:40:05] seed: None\n",
      "[INFO-wrappers_bo-03/08/2021-14:40:05] Iteration 1\n"
     ]
    },
    {
     "name": "stdout",
     "output_type": "stream",
     "text": [
      "termination on tolfun=1e-11 (Mon Mar  8 14:40:05 2021)\n",
      "final/bestever f-value = -1.657294e+01 -1.657294e+01\n",
      "incumbent solution: [-98.67005369385768, 87.27856983219297]\n",
      "std deviation: [34.351718297932266, 34.70971567337392]\n",
      "BO Round 27\n"
     ]
    },
    {
     "name": "stderr",
     "output_type": "stream",
     "text": [
      "[DEBUG-bo-03/08/2021-14:40:05] num_samples is ignored.\n"
     ]
    },
    {
     "name": "stdout",
     "output_type": "stream",
     "text": [
      "Iterat #Fevals   function value  axis ratio  sigma  min&max std  t[m:s]\n",
      "    1      6 -1.288416150715542e+01 1.0e+00 4.35e+01  4e+01  4e+01 0:00.0\n"
     ]
    },
    {
     "name": "stderr",
     "output_type": "stream",
     "text": [
      "[INFO-wrappers_bo-03/08/2021-14:40:05] Iteration 2\n",
      "[DEBUG-bo-03/08/2021-14:40:05] num_samples is ignored.\n"
     ]
    },
    {
     "name": "stdout",
     "output_type": "stream",
     "text": [
      "termination on tolfun=1e-11 (Mon Mar  8 14:40:05 2021)\n",
      "final/bestever f-value = -1.288416e+01 -1.288416e+01\n",
      "incumbent solution: [40.233743970070165, 3.5778414554303524]\n",
      "std deviation: [38.37754507291087, 41.91474942488381]\n",
      "Iterat #Fevals   function value  axis ratio  sigma  min&max std  t[m:s]\n",
      "    1      6 -1.228891319509989e+01 1.0e+00 4.90e+01  4e+01  5e+01 0:00.0\n"
     ]
    },
    {
     "name": "stderr",
     "output_type": "stream",
     "text": [
      "[INFO-wrappers_bo-03/08/2021-14:40:05] Iteration 3\n",
      "[DEBUG-bo-03/08/2021-14:40:05] num_samples is ignored.\n"
     ]
    },
    {
     "name": "stdout",
     "output_type": "stream",
     "text": [
      "termination on tolfun=1e-11 (Mon Mar  8 14:40:05 2021)\n",
      "final/bestever f-value = -1.228891e+01 -1.228891e+01\n",
      "incumbent solution: [86.22980088387844, -21.630667934261453]\n",
      "std deviation: [43.55763798595553, 50.159041662903235]\n",
      "Iterat #Fevals   function value  axis ratio  sigma  min&max std  t[m:s]\n",
      "    1      6 -1.178305260134353e+01 1.0e+00 5.67e+01  6e+01  6e+01 0:00.0\n",
      "    2     12 -1.178305260134353e+01 1.3e+00 6.53e+01  7e+01  8e+01 0:00.0\n",
      "termination on tolfun=1e-11 (Mon Mar  8 14:40:05 2021)\n",
      "final/bestever f-value = -1.178305e+01 -1.178305e+01\n",
      "incumbent solution: [-2.1806005397230237, -49.49050538101538]\n",
      "std deviation: [69.99665848054875, 77.56697502365797]\n"
     ]
    },
    {
     "name": "stderr",
     "output_type": "stream",
     "text": [
      "[INFO-wrappers_bo-03/08/2021-14:40:05] Iteration 4\n",
      "[DEBUG-bo-03/08/2021-14:40:05] num_samples is ignored.\n"
     ]
    },
    {
     "name": "stdout",
     "output_type": "stream",
     "text": [
      "Iterat #Fevals   function value  axis ratio  sigma  min&max std  t[m:s]\n",
      "    1      6 -1.242425154696896e+01 1.0e+00 4.34e+01  4e+01  4e+01 0:00.0\n"
     ]
    },
    {
     "name": "stderr",
     "output_type": "stream",
     "text": [
      "[INFO-wrappers_bo-03/08/2021-14:40:05] Iteration 5\n"
     ]
    },
    {
     "name": "stdout",
     "output_type": "stream",
     "text": [
      "termination on tolfun=1e-11 (Mon Mar  8 14:40:05 2021)\n",
      "final/bestever f-value = -1.242425e+01 -1.242425e+01\n",
      "incumbent solution: [53.96759418882911, -99.23804421115202]\n",
      "std deviation: [39.756463731649944, 39.7777461965014]\n"
     ]
    },
    {
     "name": "stderr",
     "output_type": "stream",
     "text": [
      "[DEBUG-bo-03/08/2021-14:40:05] num_samples is ignored.\n"
     ]
    },
    {
     "name": "stdout",
     "output_type": "stream",
     "text": [
      "Iterat #Fevals   function value  axis ratio  sigma  min&max std  t[m:s]\n",
      "    1      6 -1.205131647023513e+01 1.0e+00 3.87e+01  3e+01  4e+01 0:00.0\n",
      "    2     12 -1.205131647023513e+01 1.3e+00 3.13e+01  2e+01  3e+01 0:00.0\n",
      "    3     18 -1.205131647023513e+01 1.2e+00 3.42e+01  2e+01  3e+01 0:00.0\n"
     ]
    },
    {
     "name": "stderr",
     "output_type": "stream",
     "text": [
      "[INFO-wrappers_bo-03/08/2021-14:40:05] range_X:\n",
      "[[-100, 100],\n",
      "[-100, 100]]\n",
      "[INFO-wrappers_bo-03/08/2021-14:40:05] str_cov: matern52\n",
      "[INFO-wrappers_bo-03/08/2021-14:40:05] str_acq: ei\n",
      "[INFO-wrappers_bo-03/08/2021-14:40:05] str_optimizer_method_gp: BFGS\n",
      "[INFO-wrappers_bo-03/08/2021-14:40:05] str_optimizer_method_bo: CMA-ES\n",
      "[INFO-wrappers_bo-03/08/2021-14:40:05] str_modelselection_method: ml\n",
      "[INFO-wrappers_bo-03/08/2021-14:40:05] num_init: 2\n",
      "[INFO-wrappers_bo-03/08/2021-14:40:05] num_iter: 4\n"
     ]
    },
    {
     "name": "stdout",
     "output_type": "stream",
     "text": [
      "termination on tolfun=1e-11 (Mon Mar  8 14:40:05 2021)\n",
      "final/bestever f-value = -1.205132e+01 -1.205132e+01\n",
      "incumbent solution: [-56.667267761745485, -27.28921809141422]\n",
      "std deviation: [34.837698587438986, 23.38789243731169]\n",
      "BO Round 28\n"
     ]
    },
    {
     "name": "stderr",
     "output_type": "stream",
     "text": [
      "[INFO-wrappers_bo-03/08/2021-14:40:05] str_initial_method_bo: uniform\n",
      "[INFO-wrappers_bo-03/08/2021-14:40:05] str_sampling_method_ao: uniform\n",
      "[INFO-wrappers_bo-03/08/2021-14:40:05] num_samples_ao: 100\n",
      "[INFO-wrappers_bo-03/08/2021-14:40:05] str_mlm_method: regular\n",
      "[INFO-wrappers_bo-03/08/2021-14:40:05] seed: None\n",
      "[INFO-wrappers_bo-03/08/2021-14:40:05] Iteration 1\n",
      "[DEBUG-bo-03/08/2021-14:40:05] num_samples is ignored.\n"
     ]
    },
    {
     "name": "stdout",
     "output_type": "stream",
     "text": [
      "Iterat #Fevals   function value  axis ratio  sigma  min&max std  t[m:s]\n",
      "    1      6 -2.820848170587727e+01 1.0e+00 3.70e+01  3e+01  3e+01 0:00.0\n",
      "    2     12 -2.820848170587727e+01 1.1e+00 3.37e+01  3e+01  3e+01 0:00.0\n"
     ]
    },
    {
     "name": "stderr",
     "output_type": "stream",
     "text": [
      "[INFO-wrappers_bo-03/08/2021-14:40:05] Iteration 2\n"
     ]
    },
    {
     "name": "stdout",
     "output_type": "stream",
     "text": [
      "termination on tolfun=1e-11 (Mon Mar  8 14:40:05 2021)\n",
      "termination on tolflatfitness=1 (Mon Mar  8 14:40:05 2021)\n",
      "final/bestever f-value = -2.820848e+01 -2.820848e+01\n",
      "incumbent solution: [2.928648728958315, 38.36321578150697]\n",
      "std deviation: [28.52677932920548, 27.433990957693325]\n"
     ]
    },
    {
     "name": "stderr",
     "output_type": "stream",
     "text": [
      "[DEBUG-bo-03/08/2021-14:40:05] num_samples is ignored.\n"
     ]
    },
    {
     "name": "stdout",
     "output_type": "stream",
     "text": [
      "Iterat #Fevals   function value  axis ratio  sigma  min&max std  t[m:s]\n",
      "    1      6 -2.634329467465136e+01 1.0e+00 4.16e+01  4e+01  4e+01 0:00.0\n",
      "termination on tolfun=1e-11 (Mon Mar  8 14:40:06 2021)\n",
      "final/bestever f-value = -2.634329e+01 -2.634329e+01\n",
      "incumbent solution: [-22.220683536889112, -30.264888837089586]\n",
      "std deviation: [35.52201648933516, 40.1191223572994]\n"
     ]
    },
    {
     "name": "stderr",
     "output_type": "stream",
     "text": [
      "[INFO-wrappers_bo-03/08/2021-14:40:06] Iteration 3\n",
      "[DEBUG-bo-03/08/2021-14:40:06] num_samples is ignored.\n"
     ]
    },
    {
     "name": "stdout",
     "output_type": "stream",
     "text": [
      "Iterat #Fevals   function value  axis ratio  sigma  min&max std  t[m:s]\n",
      "    1      6 -2.467293614745460e+01 1.0e+00 5.39e+01  5e+01  6e+01 0:00.0\n",
      "    2     12 -2.467293614745460e+01 1.3e+00 4.54e+01  4e+01  4e+01 0:00.0\n",
      "termination on tolflatfitness=1 (Mon Mar  8 14:40:06 2021)\n",
      "final/bestever f-value = -2.467294e+01 -2.467294e+01\n",
      "incumbent solution: [9.514282333309684, -59.110149972332124]\n",
      "std deviation: [40.96929467190522, 40.17901275407693]\n"
     ]
    },
    {
     "name": "stderr",
     "output_type": "stream",
     "text": [
      "[INFO-wrappers_bo-03/08/2021-14:40:06] Iteration 4\n",
      "[DEBUG-bo-03/08/2021-14:40:06] num_samples is ignored.\n"
     ]
    },
    {
     "name": "stdout",
     "output_type": "stream",
     "text": [
      "Iterat #Fevals   function value  axis ratio  sigma  min&max std  t[m:s]\n",
      "    1      6 -2.305502343451273e+01 1.0e+00 6.15e+01  7e+01  7e+01 0:00.0\n"
     ]
    },
    {
     "name": "stderr",
     "output_type": "stream",
     "text": [
      "[INFO-wrappers_bo-03/08/2021-14:40:06] range_X:\n",
      "[[-100, 100],\n",
      "[-100, 100]]\n",
      "[INFO-wrappers_bo-03/08/2021-14:40:06] str_cov: matern52\n",
      "[INFO-wrappers_bo-03/08/2021-14:40:06] str_acq: ei\n",
      "[INFO-wrappers_bo-03/08/2021-14:40:06] str_optimizer_method_gp: BFGS\n",
      "[INFO-wrappers_bo-03/08/2021-14:40:06] str_optimizer_method_bo: CMA-ES\n"
     ]
    },
    {
     "name": "stdout",
     "output_type": "stream",
     "text": [
      "termination on tolfun=1e-11 (Mon Mar  8 14:40:06 2021)\n",
      "final/bestever f-value = -2.305502e+01 -2.305502e+01\n",
      "incumbent solution: [62.587349504909014, -3.8806048927138903]\n",
      "std deviation: [66.58865840228702, 68.05523668517478]\n",
      "BO Round 29\n"
     ]
    },
    {
     "name": "stderr",
     "output_type": "stream",
     "text": [
      "[INFO-wrappers_bo-03/08/2021-14:40:06] str_modelselection_method: ml\n",
      "[INFO-wrappers_bo-03/08/2021-14:40:06] num_init: 8\n",
      "[INFO-wrappers_bo-03/08/2021-14:40:06] num_iter: 10\n",
      "[INFO-wrappers_bo-03/08/2021-14:40:06] str_initial_method_bo: uniform\n",
      "[INFO-wrappers_bo-03/08/2021-14:40:06] str_sampling_method_ao: uniform\n",
      "[INFO-wrappers_bo-03/08/2021-14:40:06] num_samples_ao: 100\n",
      "[INFO-wrappers_bo-03/08/2021-14:40:06] str_mlm_method: regular\n",
      "[INFO-wrappers_bo-03/08/2021-14:40:06] seed: None\n",
      "[INFO-wrappers_bo-03/08/2021-14:40:06] Iteration 1\n",
      "[DEBUG-bo-03/08/2021-14:40:06] num_samples is ignored.\n"
     ]
    },
    {
     "name": "stdout",
     "output_type": "stream",
     "text": [
      "Iterat #Fevals   function value  axis ratio  sigma  min&max std  t[m:s]\n",
      "    1      6 -3.031202203735625e+01 1.0e+00 4.05e+01  4e+01  4e+01 0:00.0\n",
      "    2     12 -3.031202203735625e+01 1.1e+00 3.69e+01  3e+01  3e+01 0:00.0\n",
      "termination on tolfun=1e-11 (Mon Mar  8 14:40:06 2021)\n",
      "final/bestever f-value = -3.031202e+01 -3.031202e+01\n",
      "incumbent solution: [-41.50254683439751, -36.85194784869006]\n",
      "std deviation: [33.36178905784191, 28.16658208616648]\n"
     ]
    },
    {
     "name": "stderr",
     "output_type": "stream",
     "text": [
      "[INFO-wrappers_bo-03/08/2021-14:40:06] Iteration 2\n",
      "[DEBUG-bo-03/08/2021-14:40:06] num_samples is ignored.\n"
     ]
    },
    {
     "name": "stdout",
     "output_type": "stream",
     "text": [
      "Iterat #Fevals   function value  axis ratio  sigma  min&max std  t[m:s]\n",
      "    1      6 -3.083621176087830e+01 1.0e+00 4.18e+01  3e+01  4e+01 0:00.0\n",
      "    2     12 -3.083621176087830e+01 1.3e+00 5.11e+01  5e+01  5e+01 0:00.0\n",
      "    3     18 -3.083621176087830e+01 1.4e+00 6.87e+01  6e+01  9e+01 0:00.0\n",
      "    5     30 -3.083621176087830e+01 2.5e+00 5.79e+01  4e+01  8e+01 0:00.0\n"
     ]
    },
    {
     "name": "stderr",
     "output_type": "stream",
     "text": [
      "[INFO-wrappers_bo-03/08/2021-14:40:06] Iteration 3\n",
      "[DEBUG-bo-03/08/2021-14:40:06] num_samples is ignored.\n"
     ]
    },
    {
     "name": "stdout",
     "output_type": "stream",
     "text": [
      "termination on tolfun=1e-11 (Mon Mar  8 14:40:06 2021)\n",
      "final/bestever f-value = -3.083621e+01 -3.083621e+01\n",
      "incumbent solution: [-23.2265849913791, 28.887027853958372]\n",
      "std deviation: [35.87026948987557, 80.25669192333858]\n",
      "Iterat #Fevals   function value  axis ratio  sigma  min&max std  t[m:s]\n",
      "    1      6 -3.099316691098581e+01 1.0e+00 3.99e+01  3e+01  4e+01 0:00.0\n",
      "    2     12 -3.099316691098581e+01 1.2e+00 3.52e+01  3e+01  3e+01 0:00.0\n",
      "    3     18 -3.099316691098581e+01 1.4e+00 3.19e+01  2e+01  3e+01 0:00.0\n"
     ]
    },
    {
     "name": "stderr",
     "output_type": "stream",
     "text": [
      "[INFO-wrappers_bo-03/08/2021-14:40:06] Iteration 4\n"
     ]
    },
    {
     "name": "stdout",
     "output_type": "stream",
     "text": [
      "termination on tolfun=1e-11 (Mon Mar  8 14:40:06 2021)\n",
      "termination on tolflatfitness=1 (Mon Mar  8 14:40:06 2021)\n",
      "final/bestever f-value = -3.099317e+01 -3.099317e+01\n",
      "incumbent solution: [-88.79138598980812, 10.859306777340162]\n",
      "std deviation: [28.67271768007769, 20.706094666841988]\n"
     ]
    },
    {
     "name": "stderr",
     "output_type": "stream",
     "text": [
      "[DEBUG-bo-03/08/2021-14:40:06] num_samples is ignored.\n"
     ]
    },
    {
     "name": "stdout",
     "output_type": "stream",
     "text": [
      "Iterat #Fevals   function value  axis ratio  sigma  min&max std  t[m:s]\n",
      "    1      6 -3.093443424838012e+01 1.0e+00 4.76e+01  4e+01  5e+01 0:00.0\n",
      "termination on tolfun=1e-11 (Mon Mar  8 14:40:06 2021)\n",
      "final/bestever f-value = -3.018265e+01 -3.093443e+01\n",
      "incumbent solution: [1.5754294292784863, -38.67049578580923]\n",
      "std deviation: [50.48161917343744, 42.61229379798395]\n"
     ]
    },
    {
     "name": "stderr",
     "output_type": "stream",
     "text": [
      "[INFO-wrappers_bo-03/08/2021-14:40:06] Iteration 5\n",
      "[DEBUG-bo-03/08/2021-14:40:06] num_samples is ignored.\n"
     ]
    },
    {
     "name": "stdout",
     "output_type": "stream",
     "text": [
      "Iterat #Fevals   function value  axis ratio  sigma  min&max std  t[m:s]\n",
      "    1      6 -2.999781592673345e+01 1.0e+00 5.22e+01  5e+01  6e+01 0:00.0\n"
     ]
    },
    {
     "name": "stderr",
     "output_type": "stream",
     "text": [
      "[INFO-wrappers_bo-03/08/2021-14:40:06] Iteration 6\n"
     ]
    },
    {
     "name": "stdout",
     "output_type": "stream",
     "text": [
      "termination on tolfun=1e-11 (Mon Mar  8 14:40:06 2021)\n",
      "final/bestever f-value = -2.999782e+01 -2.999782e+01\n",
      "incumbent solution: [77.73982035725294, -11.773049209929335]\n",
      "std deviation: [55.08255556581806, 48.66167629956933]\n"
     ]
    },
    {
     "name": "stderr",
     "output_type": "stream",
     "text": [
      "[DEBUG-bo-03/08/2021-14:40:06] num_samples is ignored.\n"
     ]
    },
    {
     "name": "stdout",
     "output_type": "stream",
     "text": [
      "Iterat #Fevals   function value  axis ratio  sigma  min&max std  t[m:s]\n",
      "    1      6 -3.021440667815940e+01 1.0e+00 4.25e+01  4e+01  4e+01 0:00.0\n"
     ]
    },
    {
     "name": "stderr",
     "output_type": "stream",
     "text": [
      "[INFO-wrappers_bo-03/08/2021-14:40:06] Iteration 7\n",
      "[DEBUG-bo-03/08/2021-14:40:06] num_samples is ignored.\n"
     ]
    },
    {
     "name": "stdout",
     "output_type": "stream",
     "text": [
      "termination on tolfun=1e-11 (Mon Mar  8 14:40:06 2021)\n",
      "final/bestever f-value = -3.021441e+01 -3.021441e+01\n",
      "incumbent solution: [29.85784596052484, -72.15479566593459]\n",
      "std deviation: [38.83227769544575, 38.59092234531345]\n",
      "Iterat #Fevals   function value  axis ratio  sigma  min&max std  t[m:s]\n",
      "    1      6 -3.046980999049138e+01 1.0e+00 7.35e+01  7e+01  8e+01 0:00.0\n"
     ]
    },
    {
     "name": "stderr",
     "output_type": "stream",
     "text": [
      "[INFO-wrappers_bo-03/08/2021-14:40:06] Iteration 8\n"
     ]
    },
    {
     "name": "stdout",
     "output_type": "stream",
     "text": [
      "termination on tolfun=1e-11 (Mon Mar  8 14:40:06 2021)\n",
      "final/bestever f-value = -3.046981e+01 -3.046981e+01\n",
      "incumbent solution: [67.48778924126518, 92.21512924130414]\n",
      "std deviation: [71.63474635364635, 82.7200435560384]\n"
     ]
    },
    {
     "name": "stderr",
     "output_type": "stream",
     "text": [
      "[DEBUG-bo-03/08/2021-14:40:06] num_samples is ignored.\n"
     ]
    },
    {
     "name": "stdout",
     "output_type": "stream",
     "text": [
      "Iterat #Fevals   function value  axis ratio  sigma  min&max std  t[m:s]\n",
      "    1      6 -3.039096577512927e+01 1.0e+00 3.68e+01  3e+01  3e+01 0:00.0\n",
      "    2     12 -3.039096577512927e+01 1.1e+00 4.68e+01  4e+01  5e+01 0:00.0\n",
      "    3     18 -3.039096577512927e+01 1.5e+00 3.60e+01  3e+01  4e+01 0:00.0\n",
      "termination on tolfun=1e-11 (Mon Mar  8 14:40:06 2021)\n",
      "final/bestever f-value = -3.039097e+01 -3.039097e+01\n",
      "incumbent solution: [-31.186629905582492, 42.29559711432871]\n",
      "std deviation: [25.959003700611973, 36.60094804022354]\n"
     ]
    },
    {
     "name": "stderr",
     "output_type": "stream",
     "text": [
      "[INFO-wrappers_bo-03/08/2021-14:40:06] Iteration 9\n",
      "[DEBUG-bo-03/08/2021-14:40:06] num_samples is ignored.\n"
     ]
    },
    {
     "name": "stdout",
     "output_type": "stream",
     "text": [
      "Iterat #Fevals   function value  axis ratio  sigma  min&max std  t[m:s]\n",
      "    1      6 -3.049612269222487e+01 1.0e+00 4.88e+01  5e+01  5e+01 0:00.0\n"
     ]
    },
    {
     "name": "stderr",
     "output_type": "stream",
     "text": [
      "[INFO-wrappers_bo-03/08/2021-14:40:06] Iteration 10\n",
      "[DEBUG-bo-03/08/2021-14:40:06] num_samples is ignored.\n"
     ]
    },
    {
     "name": "stdout",
     "output_type": "stream",
     "text": [
      "termination on tolfun=1e-11 (Mon Mar  8 14:40:06 2021)\n",
      "final/bestever f-value = -3.049612e+01 -3.049612e+01\n",
      "incumbent solution: [-81.02243049686184, -91.34850039392884]\n",
      "std deviation: [45.4346356826903, 49.3634901788591]\n",
      "Iterat #Fevals   function value  axis ratio  sigma  min&max std  t[m:s]\n",
      "    1      6 -3.084853285768812e+01 1.0e+00 5.72e+01  6e+01  6e+01 0:00.0\n",
      "    2     12 -3.084853285768812e+01 1.4e+00 5.08e+01  5e+01  5e+01 0:00.0\n",
      "    3     18 -3.084853285768812e+01 1.1e+00 4.15e+01  3e+01  4e+01 0:00.0\n",
      "   10     60 -3.084853285768812e+01 1.6e+00 2.54e+02  2e+02  3e+02 0:00.1\n"
     ]
    },
    {
     "name": "stderr",
     "output_type": "stream",
     "text": [
      "[INFO-wrappers_bo-03/08/2021-14:40:06] range_X:\n",
      "[[-100, 100],\n",
      "[-100, 100]]\n",
      "[INFO-wrappers_bo-03/08/2021-14:40:06] str_cov: matern52\n",
      "[INFO-wrappers_bo-03/08/2021-14:40:06] str_acq: ei\n",
      "[INFO-wrappers_bo-03/08/2021-14:40:06] str_optimizer_method_gp: BFGS\n",
      "[INFO-wrappers_bo-03/08/2021-14:40:06] str_optimizer_method_bo: CMA-ES\n",
      "[INFO-wrappers_bo-03/08/2021-14:40:06] str_modelselection_method: ml\n",
      "[INFO-wrappers_bo-03/08/2021-14:40:06] num_init: 3\n",
      "[INFO-wrappers_bo-03/08/2021-14:40:06] num_iter: 7\n",
      "[INFO-wrappers_bo-03/08/2021-14:40:06] str_initial_method_bo: uniform\n",
      "[INFO-wrappers_bo-03/08/2021-14:40:06] str_sampling_method_ao: uniform\n",
      "[INFO-wrappers_bo-03/08/2021-14:40:06] num_samples_ao: 100\n",
      "[INFO-wrappers_bo-03/08/2021-14:40:06] str_mlm_method: regular\n",
      "[INFO-wrappers_bo-03/08/2021-14:40:06] seed: None\n",
      "[INFO-wrappers_bo-03/08/2021-14:40:06] Iteration 1\n"
     ]
    },
    {
     "name": "stdout",
     "output_type": "stream",
     "text": [
      "termination on tolfun=1e-11 (Mon Mar  8 14:40:06 2021)\n",
      "termination on tolfunhist=1e-12 (Mon Mar  8 14:40:06 2021)\n",
      "final/bestever f-value = -3.084853e+01 -3.084853e+01\n",
      "incumbent solution: [60.7832977214058, 85.3878467653125]\n",
      "std deviation: [282.8596297450197, 242.09339822044657]\n",
      "BO Round 30\n"
     ]
    },
    {
     "name": "stderr",
     "output_type": "stream",
     "text": [
      "[DEBUG-bo-03/08/2021-14:40:06] num_samples is ignored.\n"
     ]
    },
    {
     "name": "stdout",
     "output_type": "stream",
     "text": [
      "Iterat #Fevals   function value  axis ratio  sigma  min&max std  t[m:s]\n",
      "    1      6 -2.856110471478087e+01 1.0e+00 5.95e+01  6e+01  7e+01 0:00.0\n",
      "    2     12 -2.856110471478087e+01 1.2e+00 5.21e+01  5e+01  5e+01 0:00.0\n"
     ]
    },
    {
     "name": "stderr",
     "output_type": "stream",
     "text": [
      "[INFO-wrappers_bo-03/08/2021-14:40:06] Iteration 2\n"
     ]
    },
    {
     "name": "stdout",
     "output_type": "stream",
     "text": [
      "termination on tolflatfitness=1 (Mon Mar  8 14:40:06 2021)\n",
      "final/bestever f-value = -2.856110e+01 -2.856110e+01\n",
      "incumbent solution: [94.72344837278632, 42.4901653400248]\n",
      "std deviation: [50.469511625026584, 50.086387056946]\n"
     ]
    },
    {
     "name": "stderr",
     "output_type": "stream",
     "text": [
      "[DEBUG-bo-03/08/2021-14:40:06] num_samples is ignored.\n"
     ]
    },
    {
     "name": "stdout",
     "output_type": "stream",
     "text": [
      "Iterat #Fevals   function value  axis ratio  sigma  min&max std  t[m:s]\n",
      "    1      6 -2.488329141818763e+01 1.0e+00 8.08e+01  8e+01  1e+02 0:00.0\n"
     ]
    },
    {
     "name": "stderr",
     "output_type": "stream",
     "text": [
      "[INFO-wrappers_bo-03/08/2021-14:40:06] Iteration 3\n",
      "[DEBUG-bo-03/08/2021-14:40:06] num_samples is ignored.\n"
     ]
    },
    {
     "name": "stdout",
     "output_type": "stream",
     "text": [
      "termination on tolfun=1e-11 (Mon Mar  8 14:40:06 2021)\n",
      "final/bestever f-value = -2.488329e+01 -2.488329e+01\n",
      "incumbent solution: [-14.772534848501323, -96.5428914566864]\n",
      "std deviation: [103.32998704211035, 77.88517452256252]\n",
      "Iterat #Fevals   function value  axis ratio  sigma  min&max std  t[m:s]\n",
      "    1      6 -2.333460162328717e+01 1.0e+00 4.91e+01  5e+01  5e+01 0:00.0\n"
     ]
    },
    {
     "name": "stderr",
     "output_type": "stream",
     "text": [
      "[INFO-wrappers_bo-03/08/2021-14:40:06] Iteration 4\n",
      "[DEBUG-bo-03/08/2021-14:40:06] num_samples is ignored.\n"
     ]
    },
    {
     "name": "stdout",
     "output_type": "stream",
     "text": [
      "termination on tolfun=1e-11 (Mon Mar  8 14:40:06 2021)\n",
      "final/bestever f-value = -2.333460e+01 -2.333460e+01\n",
      "incumbent solution: [60.873031511961166, -33.17515545794237]\n",
      "std deviation: [48.46978784443914, 45.74735333682201]\n",
      "Iterat #Fevals   function value  axis ratio  sigma  min&max std  t[m:s]\n",
      "    1      6 -2.134141558354289e+01 1.0e+00 4.52e+01  4e+01  4e+01 0:00.0\n"
     ]
    },
    {
     "name": "stderr",
     "output_type": "stream",
     "text": [
      "[INFO-wrappers_bo-03/08/2021-14:40:06] Iteration 5\n"
     ]
    },
    {
     "name": "stdout",
     "output_type": "stream",
     "text": [
      "termination on tolfun=1e-11 (Mon Mar  8 14:40:06 2021)\n",
      "final/bestever f-value = -2.134142e+01 -2.134142e+01\n",
      "incumbent solution: [-3.6483080046886958, 66.4868344689431]\n",
      "std deviation: [42.36197379155701, 42.927113034444844]\n"
     ]
    },
    {
     "name": "stderr",
     "output_type": "stream",
     "text": [
      "[DEBUG-bo-03/08/2021-14:40:06] num_samples is ignored.\n"
     ]
    },
    {
     "name": "stdout",
     "output_type": "stream",
     "text": [
      "Iterat #Fevals   function value  axis ratio  sigma  min&max std  t[m:s]\n",
      "    1      6 -2.101029884093345e+01 1.0e+00 4.62e+01  4e+01  5e+01 0:00.0\n"
     ]
    },
    {
     "name": "stderr",
     "output_type": "stream",
     "text": [
      "[INFO-wrappers_bo-03/08/2021-14:40:06] Iteration 6\n",
      "[DEBUG-bo-03/08/2021-14:40:06] num_samples is ignored.\n"
     ]
    },
    {
     "name": "stdout",
     "output_type": "stream",
     "text": [
      "termination on tolfun=1e-11 (Mon Mar  8 14:40:06 2021)\n",
      "final/bestever f-value = -2.100997e+01 -2.101030e+01\n",
      "incumbent solution: [-24.38174272832836, 90.15644770110495]\n",
      "std deviation: [40.366191405605264, 48.21778142345214]\n",
      "Iterat #Fevals   function value  axis ratio  sigma  min&max std  t[m:s]\n",
      "    1      6 -1.977624540263736e+01 1.0e+00 4.53e+01  4e+01  4e+01 0:00.0\n",
      "    2     12 -1.977624540263736e+01 1.1e+00 6.41e+01  6e+01  8e+01 0:00.0\n"
     ]
    },
    {
     "name": "stderr",
     "output_type": "stream",
     "text": [
      "[INFO-wrappers_bo-03/08/2021-14:40:06] Iteration 7\n",
      "[DEBUG-bo-03/08/2021-14:40:06] num_samples is ignored.\n"
     ]
    },
    {
     "name": "stdout",
     "output_type": "stream",
     "text": [
      "termination on tolflatfitness=1 (Mon Mar  8 14:40:06 2021)\n",
      "final/bestever f-value = -1.977625e+01 -1.977625e+01\n",
      "incumbent solution: [3.306289060200889, 80.71243796844874]\n",
      "std deviation: [64.87634104972122, 78.92323732210735]\n",
      "Iterat #Fevals   function value  axis ratio  sigma  min&max std  t[m:s]\n",
      "    1      6 -2.023978606739724e+01 1.0e+00 4.12e+01  4e+01  4e+01 0:00.0\n",
      "    2     12 -2.023978606739724e+01 1.2e+00 4.10e+01  4e+01  4e+01 0:00.0\n",
      "    3     18 -2.023978606739724e+01 1.5e+00 3.07e+01  2e+01  3e+01 0:00.0\n",
      "    5     30 -2.023978606739724e+01 2.0e+00 2.53e+01  2e+01  2e+01 0:00.0\n"
     ]
    },
    {
     "name": "stderr",
     "output_type": "stream",
     "text": [
      "[INFO-wrappers_bo-03/08/2021-14:40:06] range_X:\n",
      "[[-100, 100],\n",
      "[-100, 100]]\n",
      "[INFO-wrappers_bo-03/08/2021-14:40:06] str_cov: matern52\n"
     ]
    },
    {
     "name": "stdout",
     "output_type": "stream",
     "text": [
      "termination on tolfun=1e-11 (Mon Mar  8 14:40:06 2021)\n",
      "termination on tolflatfitness=1 (Mon Mar  8 14:40:06 2021)\n",
      "final/bestever f-value = -2.023979e+01 -2.023979e+01\n",
      "incumbent solution: [28.998198918703817, 79.11083397797319]\n",
      "std deviation: [18.165004768750773, 18.831105599830703]\n",
      "BO Round 31\n"
     ]
    },
    {
     "name": "stderr",
     "output_type": "stream",
     "text": [
      "[INFO-wrappers_bo-03/08/2021-14:40:06] str_acq: ei\n",
      "[INFO-wrappers_bo-03/08/2021-14:40:06] str_optimizer_method_gp: BFGS\n",
      "[INFO-wrappers_bo-03/08/2021-14:40:06] str_optimizer_method_bo: CMA-ES\n",
      "[INFO-wrappers_bo-03/08/2021-14:40:06] str_modelselection_method: ml\n",
      "[INFO-wrappers_bo-03/08/2021-14:40:06] num_init: 10\n",
      "[INFO-wrappers_bo-03/08/2021-14:40:06] num_iter: 10\n",
      "[INFO-wrappers_bo-03/08/2021-14:40:06] str_initial_method_bo: uniform\n",
      "[INFO-wrappers_bo-03/08/2021-14:40:06] str_sampling_method_ao: uniform\n",
      "[INFO-wrappers_bo-03/08/2021-14:40:06] num_samples_ao: 100\n",
      "[INFO-wrappers_bo-03/08/2021-14:40:06] str_mlm_method: regular\n",
      "[INFO-wrappers_bo-03/08/2021-14:40:06] seed: None\n",
      "[INFO-wrappers_bo-03/08/2021-14:40:06] Iteration 1\n",
      "[DEBUG-bo-03/08/2021-14:40:06] num_samples is ignored.\n"
     ]
    },
    {
     "name": "stdout",
     "output_type": "stream",
     "text": [
      "Iterat #Fevals   function value  axis ratio  sigma  min&max std  t[m:s]\n",
      "    1      6 -1.449760587454783e+01 1.0e+00 5.78e+01  6e+01  7e+01 0:00.0\n",
      "    2     12 -1.449760587454783e+01 1.5e+00 6.80e+01  7e+01  8e+01 0:00.0\n"
     ]
    },
    {
     "name": "stderr",
     "output_type": "stream",
     "text": [
      "[INFO-wrappers_bo-03/08/2021-14:40:06] Iteration 2\n",
      "[DEBUG-bo-03/08/2021-14:40:06] num_samples is ignored.\n"
     ]
    },
    {
     "name": "stdout",
     "output_type": "stream",
     "text": [
      "termination on tolfun=1e-11 (Mon Mar  8 14:40:06 2021)\n",
      "termination on tolflatfitness=1 (Mon Mar  8 14:40:06 2021)\n",
      "final/bestever f-value = -1.449761e+01 -1.449761e+01\n",
      "incumbent solution: [-80.51845751624259, -24.422940592120742]\n",
      "std deviation: [75.77004900879491, 73.2460154296293]\n",
      "Iterat #Fevals   function value  axis ratio  sigma  min&max std  t[m:s]\n",
      "    1      6 -1.385604198521331e+01 1.0e+00 3.52e+01  3e+01  3e+01 0:00.0\n",
      "    2     12 -1.385604198521331e+01 1.2e+00 4.25e+01  3e+01  5e+01 0:00.0\n",
      "termination on tolfun=1e-11 (Mon Mar  8 14:40:06 2021)\n",
      "termination on tolflatfitness=1 (Mon Mar  8 14:40:06 2021)\n",
      "final/bestever f-value = -1.385604e+01 -1.385604e+01\n",
      "incumbent solution: [0.5898933283317067, 20.105347715718022]\n",
      "std deviation: [32.54393687592982, 49.11807438603762]\n"
     ]
    },
    {
     "name": "stderr",
     "output_type": "stream",
     "text": [
      "[INFO-wrappers_bo-03/08/2021-14:40:06] Iteration 3\n",
      "[DEBUG-bo-03/08/2021-14:40:06] num_samples is ignored.\n"
     ]
    },
    {
     "name": "stdout",
     "output_type": "stream",
     "text": [
      "Iterat #Fevals   function value  axis ratio  sigma  min&max std  t[m:s]\n",
      "    1      6 -1.335106753539058e+01 1.0e+00 5.07e+01  4e+01  6e+01 0:00.0\n",
      "    2     12 -1.335106753539058e+01 1.3e+00 7.10e+01  6e+01  1e+02 0:00.0\n",
      "    3     18 -1.335106753539058e+01 1.8e+00 6.68e+01  5e+01  1e+02 0:00.0\n",
      "    5     30 -1.335106753539058e+01 2.3e+00 7.16e+01  5e+01  1e+02 0:00.0\n"
     ]
    },
    {
     "name": "stderr",
     "output_type": "stream",
     "text": [
      "[INFO-wrappers_bo-03/08/2021-14:40:06] Iteration 4\n",
      "[DEBUG-bo-03/08/2021-14:40:06] num_samples is ignored.\n"
     ]
    },
    {
     "name": "stdout",
     "output_type": "stream",
     "text": [
      "termination on tolfun=1e-11 (Mon Mar  8 14:40:06 2021)\n",
      "final/bestever f-value = -1.335107e+01 -1.335107e+01\n",
      "incumbent solution: [-29.53793500374568, 70.87125077727075]\n",
      "std deviation: [106.97239319355873, 48.99947097574789]\n",
      "Iterat #Fevals   function value  axis ratio  sigma  min&max std  t[m:s]\n",
      "    1      6 -1.321358947489496e+01 1.0e+00 4.40e+01  4e+01  4e+01 0:00.0\n",
      "    2     12 -1.321358947489496e+01 1.3e+00 5.05e+01  4e+01  5e+01 0:00.0\n",
      "    3     18 -1.321358947489496e+01 1.3e+00 7.31e+01  6e+01  1e+02 0:00.0\n",
      "   10     60 -1.321358947489496e+01 1.8e+00 5.54e+01  5e+01  6e+01 0:00.1\n"
     ]
    },
    {
     "name": "stderr",
     "output_type": "stream",
     "text": [
      "[INFO-wrappers_bo-03/08/2021-14:40:07] Iteration 5\n"
     ]
    },
    {
     "name": "stdout",
     "output_type": "stream",
     "text": [
      "termination on tolfun=1e-11 (Mon Mar  8 14:40:07 2021)\n",
      "termination on tolfunhist=1e-12 (Mon Mar  8 14:40:07 2021)\n",
      "final/bestever f-value = -1.321359e+01 -1.321359e+01\n",
      "incumbent solution: [-98.24604413149177, 61.53692704940238]\n",
      "std deviation: [49.49077513541616, 59.40174191190997]\n"
     ]
    },
    {
     "name": "stderr",
     "output_type": "stream",
     "text": [
      "[DEBUG-bo-03/08/2021-14:40:07] num_samples is ignored.\n"
     ]
    },
    {
     "name": "stdout",
     "output_type": "stream",
     "text": [
      "Iterat #Fevals   function value  axis ratio  sigma  min&max std  t[m:s]\n",
      "    1      6 -1.285133627345793e+01 1.0e+00 4.92e+01  4e+01  5e+01 0:00.0\n",
      "termination on tolfun=1e-11 (Mon Mar  8 14:40:07 2021)\n",
      "final/bestever f-value = -1.285134e+01 -1.285134e+01\n",
      "incumbent solution: [64.28736110911368, 45.00122114329028]\n",
      "std deviation: [53.4365101076722, 44.66662849675374]\n"
     ]
    },
    {
     "name": "stderr",
     "output_type": "stream",
     "text": [
      "[INFO-wrappers_bo-03/08/2021-14:40:07] Iteration 6\n",
      "[DEBUG-bo-03/08/2021-14:40:07] num_samples is ignored.\n"
     ]
    },
    {
     "name": "stdout",
     "output_type": "stream",
     "text": [
      "Iterat #Fevals   function value  axis ratio  sigma  min&max std  t[m:s]\n",
      "    1      6 -1.256102855966402e+01 1.0e+00 4.38e+01  4e+01  4e+01 0:00.0\n",
      "    2     12 -1.256102855966402e+01 1.2e+00 3.95e+01  3e+01  4e+01 0:00.0\n",
      "    3     18 -1.256102855966402e+01 1.1e+00 4.07e+01  3e+01  4e+01 0:00.0\n",
      "    4     24 -1.256102855966402e+01 1.2e+00 3.61e+01  3e+01  3e+01 0:00.0\n"
     ]
    },
    {
     "name": "stderr",
     "output_type": "stream",
     "text": [
      "[INFO-wrappers_bo-03/08/2021-14:40:07] Iteration 7\n"
     ]
    },
    {
     "name": "stdout",
     "output_type": "stream",
     "text": [
      "termination on tolflatfitness=1 (Mon Mar  8 14:40:07 2021)\n",
      "final/bestever f-value = -1.256103e+01 -1.256103e+01\n",
      "incumbent solution: [34.20088580534165, -99.90200763137639]\n",
      "std deviation: [32.73248975821014, 25.250319619511917]\n"
     ]
    },
    {
     "name": "stderr",
     "output_type": "stream",
     "text": [
      "[DEBUG-bo-03/08/2021-14:40:07] num_samples is ignored.\n"
     ]
    },
    {
     "name": "stdout",
     "output_type": "stream",
     "text": [
      "Iterat #Fevals   function value  axis ratio  sigma  min&max std  t[m:s]\n",
      "    1      6 -1.243362956167332e+01 1.0e+00 6.83e+01  7e+01  9e+01 0:00.0\n",
      "    2     12 -1.243362956167332e+01 1.5e+00 7.52e+01  9e+01  1e+02 0:00.0\n",
      "    3     18 -1.243362956167332e+01 1.9e+00 1.01e+02  1e+02  2e+02 0:00.0\n",
      "    6     36 -1.243362956167332e+01 4.5e+00 7.76e+01  1e+02  2e+02 0:00.0\n"
     ]
    },
    {
     "name": "stderr",
     "output_type": "stream",
     "text": [
      "[INFO-wrappers_bo-03/08/2021-14:40:07] Iteration 8\n",
      "[DEBUG-bo-03/08/2021-14:40:07] num_samples is ignored.\n"
     ]
    },
    {
     "name": "stdout",
     "output_type": "stream",
     "text": [
      "termination on tolfun=1e-11 (Mon Mar  8 14:40:07 2021)\n",
      "final/bestever f-value = -1.238529e+01 -1.243363e+01\n",
      "incumbent solution: [28.203013764948835, 60.17399668088572]\n",
      "std deviation: [106.2239415901326, 150.4107354743837]\n",
      "Iterat #Fevals   function value  axis ratio  sigma  min&max std  t[m:s]\n",
      "    1      6 -1.206243228245427e+01 1.0e+00 4.06e+01  4e+01  4e+01 0:00.0\n"
     ]
    },
    {
     "name": "stderr",
     "output_type": "stream",
     "text": [
      "[INFO-wrappers_bo-03/08/2021-14:40:07] Iteration 9\n",
      "[DEBUG-bo-03/08/2021-14:40:07] num_samples is ignored.\n"
     ]
    },
    {
     "name": "stdout",
     "output_type": "stream",
     "text": [
      "termination on tolfun=1e-11 (Mon Mar  8 14:40:07 2021)\n",
      "final/bestever f-value = -1.206243e+01 -1.206243e+01\n",
      "incumbent solution: [13.83110612070372, 85.85058658604808]\n",
      "std deviation: [35.128878426157364, 37.28234311373664]\n",
      "Iterat #Fevals   function value  axis ratio  sigma  min&max std  t[m:s]\n",
      "    1      6 -1.205550757030383e+01 1.0e+00 4.03e+01  3e+01  4e+01 0:00.0\n"
     ]
    },
    {
     "name": "stderr",
     "output_type": "stream",
     "text": [
      "[INFO-wrappers_bo-03/08/2021-14:40:07] Iteration 10\n",
      "[DEBUG-bo-03/08/2021-14:40:07] num_samples is ignored.\n"
     ]
    },
    {
     "name": "stdout",
     "output_type": "stream",
     "text": [
      "termination on tolfun=1e-11 (Mon Mar  8 14:40:07 2021)\n",
      "final/bestever f-value = -1.205551e+01 -1.205551e+01\n",
      "incumbent solution: [-85.96721968726929, -23.26414573424176]\n",
      "std deviation: [37.519245386453136, 34.812288488035854]\n",
      "Iterat #Fevals   function value  axis ratio  sigma  min&max std  t[m:s]\n",
      "    1      6 -1.204001038909620e+01 1.0e+00 5.21e+01  4e+01  6e+01 0:00.0\n",
      "    2     12 -1.204001038909620e+01 1.4e+00 5.23e+01  5e+01  5e+01 0:00.0\n",
      "    3     18 -1.204001038909620e+01 1.1e+00 4.76e+01  4e+01  4e+01 0:00.0\n",
      "termination on tolfun=1e-11 (Mon Mar  8 14:40:07 2021)\n",
      "final/bestever f-value = -1.204001e+01 -1.204001e+01\n",
      "incumbent solution: [58.6693489154092, 49.698306686905234]\n",
      "std deviation: [40.88411112679244, 39.91077836987465]\n"
     ]
    },
    {
     "name": "stderr",
     "output_type": "stream",
     "text": [
      "[INFO-wrappers_bo-03/08/2021-14:40:07] range_X:\n",
      "[[-100, 100],\n",
      "[-100, 100]]\n",
      "[INFO-wrappers_bo-03/08/2021-14:40:07] str_cov: matern52\n",
      "[INFO-wrappers_bo-03/08/2021-14:40:07] str_acq: ei\n",
      "[INFO-wrappers_bo-03/08/2021-14:40:07] str_optimizer_method_gp: BFGS\n",
      "[INFO-wrappers_bo-03/08/2021-14:40:07] str_optimizer_method_bo: CMA-ES\n",
      "[INFO-wrappers_bo-03/08/2021-14:40:07] str_modelselection_method: ml\n",
      "[INFO-wrappers_bo-03/08/2021-14:40:07] num_init: 5\n",
      "[INFO-wrappers_bo-03/08/2021-14:40:07] num_iter: 10\n",
      "[INFO-wrappers_bo-03/08/2021-14:40:07] str_initial_method_bo: uniform\n",
      "[INFO-wrappers_bo-03/08/2021-14:40:07] str_sampling_method_ao: uniform\n",
      "[INFO-wrappers_bo-03/08/2021-14:40:07] num_samples_ao: 100\n",
      "[INFO-wrappers_bo-03/08/2021-14:40:07] str_mlm_method: regular\n"
     ]
    },
    {
     "name": "stdout",
     "output_type": "stream",
     "text": [
      "BO Round 32\n"
     ]
    },
    {
     "name": "stderr",
     "output_type": "stream",
     "text": [
      "[INFO-wrappers_bo-03/08/2021-14:40:07] seed: None\n",
      "[INFO-wrappers_bo-03/08/2021-14:40:07] Iteration 1\n",
      "[DEBUG-bo-03/08/2021-14:40:07] num_samples is ignored.\n"
     ]
    },
    {
     "name": "stdout",
     "output_type": "stream",
     "text": [
      "Iterat #Fevals   function value  axis ratio  sigma  min&max std  t[m:s]\n",
      "    1      6 -2.532657901975198e+01 1.0e+00 4.54e+01  4e+01  5e+01 0:00.0\n",
      "    2     12 -2.532657901975198e+01 1.2e+00 4.04e+01  3e+01  4e+01 0:00.0\n"
     ]
    },
    {
     "name": "stderr",
     "output_type": "stream",
     "text": [
      "[INFO-wrappers_bo-03/08/2021-14:40:07] Iteration 2\n"
     ]
    },
    {
     "name": "stdout",
     "output_type": "stream",
     "text": [
      "termination on tolfun=1e-11 (Mon Mar  8 14:40:07 2021)\n",
      "final/bestever f-value = -2.532658e+01 -2.532658e+01\n",
      "incumbent solution: [17.08372047722583, -1.0766717154065937]\n",
      "std deviation: [37.419587116846685, 31.213782245147645]\n"
     ]
    },
    {
     "name": "stderr",
     "output_type": "stream",
     "text": [
      "[DEBUG-bo-03/08/2021-14:40:07] num_samples is ignored.\n"
     ]
    },
    {
     "name": "stdout",
     "output_type": "stream",
     "text": [
      "Iterat #Fevals   function value  axis ratio  sigma  min&max std  t[m:s]\n",
      "    1      6 -2.775631059291180e+01 1.0e+00 3.82e+01  4e+01  4e+01 0:00.0\n"
     ]
    },
    {
     "name": "stderr",
     "output_type": "stream",
     "text": [
      "[INFO-wrappers_bo-03/08/2021-14:40:07] Iteration 3\n",
      "[DEBUG-bo-03/08/2021-14:40:07] num_samples is ignored.\n"
     ]
    },
    {
     "name": "stdout",
     "output_type": "stream",
     "text": [
      "termination on tolfun=1e-11 (Mon Mar  8 14:40:07 2021)\n",
      "final/bestever f-value = -2.775631e+01 -2.775631e+01\n",
      "incumbent solution: [26.811699390552068, -56.1097136925425]\n",
      "std deviation: [35.49095751923972, 35.66461438830141]\n",
      "Iterat #Fevals   function value  axis ratio  sigma  min&max std  t[m:s]\n",
      "    1      6 -2.823256884972152e+01 1.0e+00 4.47e+01  4e+01  4e+01 0:00.0\n",
      "    2     12 -2.823256884972152e+01 1.1e+00 3.88e+01  3e+01  3e+01 0:00.0\n",
      "termination on tolfun=1e-11 (Mon Mar  8 14:40:07 2021)\n",
      "final/bestever f-value = -2.823257e+01 -2.823257e+01\n",
      "incumbent solution: [50.37641278867089, -70.81908787310971]\n",
      "std deviation: [33.25873916748601, 33.04282611385929]\n"
     ]
    },
    {
     "name": "stderr",
     "output_type": "stream",
     "text": [
      "[INFO-wrappers_bo-03/08/2021-14:40:07] Iteration 4\n",
      "[DEBUG-bo-03/08/2021-14:40:07] num_samples is ignored.\n"
     ]
    },
    {
     "name": "stdout",
     "output_type": "stream",
     "text": [
      "Iterat #Fevals   function value  axis ratio  sigma  min&max std  t[m:s]\n",
      "    1      6 -2.754902717980654e+01 1.0e+00 4.04e+01  4e+01  4e+01 0:00.0\n",
      "    2     12 -2.754902717980654e+01 1.0e+00 3.20e+01  2e+01  3e+01 0:00.0\n",
      "    3     18 -2.754902717980654e+01 1.2e+00 3.59e+01  3e+01  3e+01 0:00.0\n"
     ]
    },
    {
     "name": "stderr",
     "output_type": "stream",
     "text": [
      "[INFO-wrappers_bo-03/08/2021-14:40:07] Iteration 5\n"
     ]
    },
    {
     "name": "stdout",
     "output_type": "stream",
     "text": [
      "termination on tolfun=1e-11 (Mon Mar  8 14:40:07 2021)\n",
      "final/bestever f-value = -2.754903e+01 -2.754903e+01\n",
      "incumbent solution: [51.76506914358421, -3.2656346835410943]\n",
      "std deviation: [30.29255724829684, 29.769046323441376]\n"
     ]
    },
    {
     "name": "stderr",
     "output_type": "stream",
     "text": [
      "[DEBUG-bo-03/08/2021-14:40:07] num_samples is ignored.\n"
     ]
    },
    {
     "name": "stdout",
     "output_type": "stream",
     "text": [
      "Iterat #Fevals   function value  axis ratio  sigma  min&max std  t[m:s]\n",
      "    1      6 -2.785284859474970e+01 1.0e+00 4.05e+01  4e+01  4e+01 0:00.0\n",
      "    2     12 -2.785284859474970e+01 1.1e+00 4.33e+01  3e+01  4e+01 0:00.0\n"
     ]
    },
    {
     "name": "stderr",
     "output_type": "stream",
     "text": [
      "[INFO-wrappers_bo-03/08/2021-14:40:07] Iteration 6\n",
      "[DEBUG-bo-03/08/2021-14:40:07] num_samples is ignored.\n"
     ]
    },
    {
     "name": "stdout",
     "output_type": "stream",
     "text": [
      "termination on tolfun=1e-11 (Mon Mar  8 14:40:07 2021)\n",
      "termination on tolflatfitness=1 (Mon Mar  8 14:40:07 2021)\n",
      "final/bestever f-value = -2.785285e+01 -2.785285e+01\n",
      "incumbent solution: [-86.76551847342728, 29.583979969916243]\n",
      "std deviation: [34.881745259708495, 42.10483587217063]\n",
      "Iterat #Fevals   function value  axis ratio  sigma  min&max std  t[m:s]\n",
      "    1      6 -2.824867418480106e+01 1.0e+00 3.91e+01  3e+01  4e+01 0:00.0\n"
     ]
    },
    {
     "name": "stderr",
     "output_type": "stream",
     "text": [
      "[INFO-wrappers_bo-03/08/2021-14:40:07] Iteration 7\n"
     ]
    },
    {
     "name": "stdout",
     "output_type": "stream",
     "text": [
      "termination on tolfun=1e-11 (Mon Mar  8 14:40:07 2021)\n",
      "final/bestever f-value = -2.824867e+01 -2.824867e+01\n",
      "incumbent solution: [-24.586137208580766, -74.8292260770109]\n",
      "std deviation: [34.03723305269767, 36.487136828645546]\n"
     ]
    },
    {
     "name": "stderr",
     "output_type": "stream",
     "text": [
      "[DEBUG-bo-03/08/2021-14:40:07] num_samples is ignored.\n"
     ]
    },
    {
     "name": "stdout",
     "output_type": "stream",
     "text": [
      "Iterat #Fevals   function value  axis ratio  sigma  min&max std  t[m:s]\n",
      "    1      6 -2.856411299377863e+01 1.0e+00 4.52e+01  4e+01  4e+01 0:00.0\n"
     ]
    },
    {
     "name": "stderr",
     "output_type": "stream",
     "text": [
      "[INFO-wrappers_bo-03/08/2021-14:40:07] Iteration 8\n"
     ]
    },
    {
     "name": "stdout",
     "output_type": "stream",
     "text": [
      "termination on tolfun=1e-11 (Mon Mar  8 14:40:07 2021)\n",
      "final/bestever f-value = -2.856411e+01 -2.856411e+01\n",
      "incumbent solution: [63.46807381659594, 50.596756467199995]\n",
      "std deviation: [41.05471946306484, 43.18204038929946]\n"
     ]
    },
    {
     "name": "stderr",
     "output_type": "stream",
     "text": [
      "[DEBUG-bo-03/08/2021-14:40:07] num_samples is ignored.\n"
     ]
    },
    {
     "name": "stdout",
     "output_type": "stream",
     "text": [
      "Iterat #Fevals   function value  axis ratio  sigma  min&max std  t[m:s]\n",
      "    1      6 -2.928469156888945e+01 1.0e+00 3.75e+01  3e+01  4e+01 0:00.0\n",
      "    2     12 -2.928469156888945e+01 1.2e+00 2.71e+01  2e+01  2e+01 0:00.0\n",
      "    3     18 -2.928469156888945e+01 1.4e+00 2.52e+01  2e+01  2e+01 0:00.0\n",
      "    5     30 -2.928469156888945e+01 1.8e+00 2.65e+01  2e+01  3e+01 0:00.0\n"
     ]
    },
    {
     "name": "stderr",
     "output_type": "stream",
     "text": [
      "[INFO-wrappers_bo-03/08/2021-14:40:07] Iteration 9\n"
     ]
    },
    {
     "name": "stdout",
     "output_type": "stream",
     "text": [
      "termination on tolfun=1e-11 (Mon Mar  8 14:40:07 2021)\n",
      "final/bestever f-value = -2.928469e+01 -2.928469e+01\n",
      "incumbent solution: [-29.846783424776177, -49.56346825729901]\n",
      "std deviation: [25.68300689556699, 17.772268019960475]\n"
     ]
    },
    {
     "name": "stderr",
     "output_type": "stream",
     "text": [
      "[DEBUG-bo-03/08/2021-14:40:07] num_samples is ignored.\n"
     ]
    },
    {
     "name": "stdout",
     "output_type": "stream",
     "text": [
      "Iterat #Fevals   function value  axis ratio  sigma  min&max std  t[m:s]\n",
      "    1      6 -2.982630805521692e+01 1.0e+00 4.67e+01  4e+01  5e+01 0:00.0\n",
      "    2     12 -2.982630805521692e+01 1.2e+00 4.50e+01  4e+01  4e+01 0:00.0\n",
      "    3     18 -2.982630805521692e+01 1.2e+00 5.43e+01  4e+01  6e+01 0:00.0\n"
     ]
    },
    {
     "name": "stderr",
     "output_type": "stream",
     "text": [
      "[INFO-wrappers_bo-03/08/2021-14:40:07] Iteration 10\n"
     ]
    },
    {
     "name": "stdout",
     "output_type": "stream",
     "text": [
      "termination on tolfun=1e-11 (Mon Mar  8 14:40:07 2021)\n",
      "final/bestever f-value = -2.982631e+01 -2.982631e+01\n",
      "incumbent solution: [77.18239127285594, -19.75739181719709]\n",
      "std deviation: [42.92392095179143, 60.767167381135565]\n"
     ]
    },
    {
     "name": "stderr",
     "output_type": "stream",
     "text": [
      "[DEBUG-bo-03/08/2021-14:40:07] num_samples is ignored.\n"
     ]
    },
    {
     "name": "stdout",
     "output_type": "stream",
     "text": [
      "Iterat #Fevals   function value  axis ratio  sigma  min&max std  t[m:s]\n",
      "    1      6 -2.943885606573559e+01 1.0e+00 5.06e+01  4e+01  6e+01 0:00.0\n",
      "    2     12 -2.943885606573559e+01 1.3e+00 4.99e+01  4e+01  5e+01 0:00.0\n",
      "    3     18 -2.943885606573559e+01 1.4e+00 3.75e+01  3e+01  3e+01 0:00.0\n",
      "    5     30 -2.943885606573559e+01 1.3e+00 3.02e+01  2e+01  2e+01 0:00.0\n"
     ]
    },
    {
     "name": "stderr",
     "output_type": "stream",
     "text": [
      "[INFO-wrappers_bo-03/08/2021-14:40:07] range_X:\n",
      "[[-100, 100],\n",
      "[-100, 100]]\n",
      "[INFO-wrappers_bo-03/08/2021-14:40:07] str_cov: matern52\n",
      "[INFO-wrappers_bo-03/08/2021-14:40:07] str_acq: ei\n",
      "[INFO-wrappers_bo-03/08/2021-14:40:07] str_optimizer_method_gp: BFGS\n",
      "[INFO-wrappers_bo-03/08/2021-14:40:07] str_optimizer_method_bo: CMA-ES\n",
      "[INFO-wrappers_bo-03/08/2021-14:40:07] str_modelselection_method: ml\n",
      "[INFO-wrappers_bo-03/08/2021-14:40:07] num_init: 6\n",
      "[INFO-wrappers_bo-03/08/2021-14:40:07] num_iter: 2\n",
      "[INFO-wrappers_bo-03/08/2021-14:40:07] str_initial_method_bo: uniform\n",
      "[INFO-wrappers_bo-03/08/2021-14:40:07] str_sampling_method_ao: uniform\n",
      "[INFO-wrappers_bo-03/08/2021-14:40:07] num_samples_ao: 100\n",
      "[INFO-wrappers_bo-03/08/2021-14:40:07] str_mlm_method: regular\n",
      "[INFO-wrappers_bo-03/08/2021-14:40:07] seed: None\n",
      "[INFO-wrappers_bo-03/08/2021-14:40:07] Iteration 1\n"
     ]
    },
    {
     "name": "stdout",
     "output_type": "stream",
     "text": [
      "termination on tolfun=1e-11 (Mon Mar  8 14:40:07 2021)\n",
      "final/bestever f-value = -2.943886e+01 -2.943886e+01\n",
      "incumbent solution: [30.09790656540115, 98.11895145968637]\n",
      "std deviation: [22.252620984313165, 21.168625473559707]\n",
      "BO Round 33\n"
     ]
    },
    {
     "name": "stderr",
     "output_type": "stream",
     "text": [
      "[DEBUG-bo-03/08/2021-14:40:07] num_samples is ignored.\n"
     ]
    },
    {
     "name": "stdout",
     "output_type": "stream",
     "text": [
      "Iterat #Fevals   function value  axis ratio  sigma  min&max std  t[m:s]\n",
      "    1      6 -2.514890191752385e+01 1.0e+00 3.97e+01  3e+01  4e+01 0:00.0\n",
      "termination on tolfun=1e-11 (Mon Mar  8 14:40:07 2021)\n",
      "final/bestever f-value = -2.514890e+01 -2.514890e+01\n",
      "incumbent solution: [-59.25127187996943, -76.47731112993698]\n",
      "std deviation: [32.281849915794076, 38.79716507149383]\n"
     ]
    },
    {
     "name": "stderr",
     "output_type": "stream",
     "text": [
      "[INFO-wrappers_bo-03/08/2021-14:40:07] Iteration 2\n",
      "[DEBUG-bo-03/08/2021-14:40:07] num_samples is ignored.\n"
     ]
    },
    {
     "name": "stdout",
     "output_type": "stream",
     "text": [
      "Iterat #Fevals   function value  axis ratio  sigma  min&max std  t[m:s]\n",
      "    1      6 -2.564202851870838e+01 1.0e+00 4.81e+01  4e+01  5e+01 0:00.0\n",
      "    2     12 -2.564202851870838e+01 1.2e+00 6.68e+01  6e+01  9e+01 0:00.0\n",
      "termination on tolfun=1e-11 (Mon Mar  8 14:40:07 2021)\n",
      "final/bestever f-value = -2.564203e+01 -2.564203e+01\n",
      "incumbent solution: [43.58266138464753, 99.99993608628735]\n",
      "std deviation: [57.37247387851648, 90.21262780200928]\n"
     ]
    },
    {
     "name": "stderr",
     "output_type": "stream",
     "text": [
      "[INFO-wrappers_bo-03/08/2021-14:40:07] range_X:\n",
      "[[-100, 100],\n",
      "[-100, 100]]\n",
      "[INFO-wrappers_bo-03/08/2021-14:40:07] str_cov: matern52\n",
      "[INFO-wrappers_bo-03/08/2021-14:40:07] str_acq: ei\n",
      "[INFO-wrappers_bo-03/08/2021-14:40:07] str_optimizer_method_gp: BFGS\n",
      "[INFO-wrappers_bo-03/08/2021-14:40:07] str_optimizer_method_bo: CMA-ES\n",
      "[INFO-wrappers_bo-03/08/2021-14:40:07] str_modelselection_method: ml\n",
      "[INFO-wrappers_bo-03/08/2021-14:40:07] num_init: 7\n",
      "[INFO-wrappers_bo-03/08/2021-14:40:07] num_iter: 10\n",
      "[INFO-wrappers_bo-03/08/2021-14:40:07] str_initial_method_bo: uniform\n",
      "[INFO-wrappers_bo-03/08/2021-14:40:07] str_sampling_method_ao: uniform\n",
      "[INFO-wrappers_bo-03/08/2021-14:40:07] num_samples_ao: 100\n",
      "[INFO-wrappers_bo-03/08/2021-14:40:07] str_mlm_method: regular\n",
      "[INFO-wrappers_bo-03/08/2021-14:40:07] seed: None\n",
      "[INFO-wrappers_bo-03/08/2021-14:40:07] Iteration 1\n"
     ]
    },
    {
     "name": "stdout",
     "output_type": "stream",
     "text": [
      "BO Round 34\n"
     ]
    },
    {
     "name": "stderr",
     "output_type": "stream",
     "text": [
      "[DEBUG-bo-03/08/2021-14:40:07] num_samples is ignored.\n"
     ]
    },
    {
     "name": "stdout",
     "output_type": "stream",
     "text": [
      "Iterat #Fevals   function value  axis ratio  sigma  min&max std  t[m:s]\n",
      "    1      6 -2.821124627563286e+01 1.0e+00 4.18e+01  4e+01  4e+01 0:00.0\n",
      "    2     12 -2.821124627563286e+01 1.2e+00 3.88e+01  3e+01  4e+01 0:00.0\n",
      "    3     18 -2.821124627563286e+01 1.1e+00 6.97e+01  6e+01  7e+01 0:00.0\n",
      "    4     24 -2.821124627563286e+01 1.3e+00 1.06e+02  1e+02  1e+02 0:00.0\n"
     ]
    },
    {
     "name": "stderr",
     "output_type": "stream",
     "text": [
      "[INFO-wrappers_bo-03/08/2021-14:40:07] Iteration 2\n"
     ]
    },
    {
     "name": "stdout",
     "output_type": "stream",
     "text": [
      "termination on tolfun=1e-11 (Mon Mar  8 14:40:07 2021)\n",
      "termination on tolflatfitness=1 (Mon Mar  8 14:40:07 2021)\n",
      "final/bestever f-value = -2.821125e+01 -2.821125e+01\n",
      "incumbent solution: [-92.16280934070022, -85.96343605085366]\n",
      "std deviation: [98.04368309065585, 97.33745114132057]\n"
     ]
    },
    {
     "name": "stderr",
     "output_type": "stream",
     "text": [
      "[DEBUG-bo-03/08/2021-14:40:07] num_samples is ignored.\n"
     ]
    },
    {
     "name": "stdout",
     "output_type": "stream",
     "text": [
      "Iterat #Fevals   function value  axis ratio  sigma  min&max std  t[m:s]\n",
      "    1      6 -2.989033907864972e+01 1.0e+00 6.58e+01  7e+01  8e+01 0:00.0\n",
      "    2     12 -2.989033907864972e+01 1.3e+00 8.07e+01  8e+01  1e+02 0:00.0\n"
     ]
    },
    {
     "name": "stderr",
     "output_type": "stream",
     "text": [
      "[INFO-wrappers_bo-03/08/2021-14:40:07] Iteration 3\n"
     ]
    },
    {
     "name": "stdout",
     "output_type": "stream",
     "text": [
      "termination on tolfun=1e-11 (Mon Mar  8 14:40:07 2021)\n",
      "termination on tolflatfitness=1 (Mon Mar  8 14:40:07 2021)\n",
      "final/bestever f-value = -2.989034e+01 -2.989034e+01\n",
      "incumbent solution: [-23.932584224030307, -57.37230865030212]\n",
      "std deviation: [145.65304947690342, 80.9328590966666]\n"
     ]
    },
    {
     "name": "stderr",
     "output_type": "stream",
     "text": [
      "[DEBUG-bo-03/08/2021-14:40:07] num_samples is ignored.\n"
     ]
    },
    {
     "name": "stdout",
     "output_type": "stream",
     "text": [
      "Iterat #Fevals   function value  axis ratio  sigma  min&max std  t[m:s]\n",
      "    1      6 -2.719986333833960e+01 1.0e+00 4.09e+01  4e+01  4e+01 0:00.0\n",
      "    2     12 -2.719986333833960e+01 1.2e+00 3.34e+01  3e+01  3e+01 0:00.0\n",
      "    3     18 -2.719986333833960e+01 1.6e+00 3.63e+01  2e+01  4e+01 0:00.0\n"
     ]
    },
    {
     "name": "stderr",
     "output_type": "stream",
     "text": [
      "[INFO-wrappers_bo-03/08/2021-14:40:08] Iteration 4\n"
     ]
    },
    {
     "name": "stdout",
     "output_type": "stream",
     "text": [
      "termination on tolfun=1e-11 (Mon Mar  8 14:40:08 2021)\n",
      "final/bestever f-value = -2.719986e+01 -2.719986e+01\n",
      "incumbent solution: [77.87169145977434, -44.01838039692158]\n",
      "std deviation: [23.877842831595547, 35.68590971010509]\n"
     ]
    },
    {
     "name": "stderr",
     "output_type": "stream",
     "text": [
      "[DEBUG-bo-03/08/2021-14:40:08] num_samples is ignored.\n"
     ]
    },
    {
     "name": "stdout",
     "output_type": "stream",
     "text": [
      "Iterat #Fevals   function value  axis ratio  sigma  min&max std  t[m:s]\n",
      "    1      6 -2.656100614225485e+01 1.0e+00 4.71e+01  4e+01  5e+01 0:00.0\n",
      "    2     12 -2.656100614225485e+01 1.3e+00 4.44e+01  3e+01  4e+01 0:00.0\n"
     ]
    },
    {
     "name": "stderr",
     "output_type": "stream",
     "text": [
      "[INFO-wrappers_bo-03/08/2021-14:40:08] Iteration 5\n"
     ]
    },
    {
     "name": "stdout",
     "output_type": "stream",
     "text": [
      "termination on tolfun=1e-11 (Mon Mar  8 14:40:08 2021)\n",
      "final/bestever f-value = -2.656101e+01 -2.656101e+01\n",
      "incumbent solution: [-3.2467084828999395, 12.03369832280211]\n",
      "std deviation: [34.31095715578469, 44.37080738565421]\n"
     ]
    },
    {
     "name": "stderr",
     "output_type": "stream",
     "text": [
      "[DEBUG-bo-03/08/2021-14:40:08] num_samples is ignored.\n"
     ]
    },
    {
     "name": "stdout",
     "output_type": "stream",
     "text": [
      "Iterat #Fevals   function value  axis ratio  sigma  min&max std  t[m:s]\n",
      "    1      6 -2.595693107180246e+01 1.0e+00 4.37e+01  4e+01  4e+01 0:00.0\n",
      "    2     12 -2.595693107180246e+01 1.2e+00 4.15e+01  4e+01  4e+01 0:00.0\n",
      "    3     18 -2.595693107180246e+01 1.2e+00 4.49e+01  4e+01  4e+01 0:00.0\n",
      "    4     24 -2.595693107180246e+01 1.3e+00 6.29e+01  5e+01  8e+01 0:00.0\n"
     ]
    },
    {
     "name": "stderr",
     "output_type": "stream",
     "text": [
      "[INFO-wrappers_bo-03/08/2021-14:40:08] Iteration 6\n"
     ]
    },
    {
     "name": "stdout",
     "output_type": "stream",
     "text": [
      "termination on tolfun=1e-11 (Mon Mar  8 14:40:08 2021)\n",
      "final/bestever f-value = -2.595693e+01 -2.595693e+01\n",
      "incumbent solution: [-89.46373390780931, -62.880907487351735]\n",
      "std deviation: [78.5833423464727, 45.98283462849912]\n"
     ]
    },
    {
     "name": "stderr",
     "output_type": "stream",
     "text": [
      "[DEBUG-bo-03/08/2021-14:40:08] num_samples is ignored.\n"
     ]
    },
    {
     "name": "stdout",
     "output_type": "stream",
     "text": [
      "Iterat #Fevals   function value  axis ratio  sigma  min&max std  t[m:s]\n",
      "    1      6 -2.636396127561654e+01 1.0e+00 5.27e+01  5e+01  6e+01 0:00.0\n",
      "    2     12 -2.636396127561654e+01 1.3e+00 4.63e+01  4e+01  5e+01 0:00.0\n",
      "    3     18 -2.636396127561654e+01 1.3e+00 4.87e+01  4e+01  5e+01 0:00.0\n",
      "    5     30 -2.636396127561654e+01 1.4e+00 4.38e+01  3e+01  4e+01 0:00.0\n"
     ]
    },
    {
     "name": "stderr",
     "output_type": "stream",
     "text": [
      "[INFO-wrappers_bo-03/08/2021-14:40:08] Iteration 7\n",
      "[DEBUG-bo-03/08/2021-14:40:08] num_samples is ignored.\n"
     ]
    },
    {
     "name": "stdout",
     "output_type": "stream",
     "text": [
      "termination on tolfun=1e-11 (Mon Mar  8 14:40:08 2021)\n",
      "final/bestever f-value = -2.636396e+01 -2.636396e+01\n",
      "incumbent solution: [71.05936922914064, 55.00172739509111]\n",
      "std deviation: [30.197299670152, 44.51830986064079]\n",
      "Iterat #Fevals   function value  axis ratio  sigma  min&max std  t[m:s]\n",
      "    1      6 -2.744492332556725e+01 1.0e+00 5.28e+01  5e+01  6e+01 0:00.0\n",
      "    2     12 -2.744492332556725e+01 1.3e+00 5.61e+01  5e+01  6e+01 0:00.0\n",
      "    3     18 -2.744492332556725e+01 1.3e+00 6.78e+01  5e+01  1e+02 0:00.0\n"
     ]
    },
    {
     "name": "stderr",
     "output_type": "stream",
     "text": [
      "[INFO-wrappers_bo-03/08/2021-14:40:08] Iteration 8\n",
      "[DEBUG-bo-03/08/2021-14:40:08] num_samples is ignored.\n"
     ]
    },
    {
     "name": "stdout",
     "output_type": "stream",
     "text": [
      "termination on tolfun=1e-11 (Mon Mar  8 14:40:08 2021)\n",
      "final/bestever f-value = -2.744492e+01 -2.744492e+01\n",
      "incumbent solution: [-89.78132134168818, -70.20187914950785]\n",
      "std deviation: [54.8771043053274, 97.9325241310372]\n",
      "Iterat #Fevals   function value  axis ratio  sigma  min&max std  t[m:s]\n",
      "    1      6 -2.733535794757841e+01 1.0e+00 6.29e+01  7e+01  7e+01 0:00.0\n",
      "    2     12 -2.733535794757841e+01 1.6e+00 6.90e+01  6e+01  8e+01 0:00.0\n",
      "    3     18 -2.733535794757841e+01 1.3e+00 5.46e+01  4e+01  6e+01 0:00.0\n"
     ]
    },
    {
     "name": "stderr",
     "output_type": "stream",
     "text": [
      "[INFO-wrappers_bo-03/08/2021-14:40:08] Iteration 9\n",
      "[DEBUG-bo-03/08/2021-14:40:08] num_samples is ignored.\n"
     ]
    },
    {
     "name": "stdout",
     "output_type": "stream",
     "text": [
      "termination on tolfun=1e-11 (Mon Mar  8 14:40:08 2021)\n",
      "final/bestever f-value = -2.733536e+01 -2.733536e+01\n",
      "incumbent solution: [-20.791644653140338, 90.46576204191697]\n",
      "std deviation: [44.55581098588619, 57.009121088049454]\n",
      "Iterat #Fevals   function value  axis ratio  sigma  min&max std  t[m:s]\n",
      "    1      6 -2.752323354453296e+01 1.0e+00 4.14e+01  4e+01  4e+01 0:00.0\n",
      "    2     12 -2.752323354453296e+01 1.2e+00 3.16e+01  2e+01  3e+01 0:00.0\n",
      "    3     18 -2.752323354453296e+01 1.3e+00 2.95e+01  2e+01  3e+01 0:00.0\n",
      "    4     24 -2.752323354453296e+01 1.4e+00 2.32e+01  1e+01  2e+01 0:00.0\n"
     ]
    },
    {
     "name": "stderr",
     "output_type": "stream",
     "text": [
      "[INFO-wrappers_bo-03/08/2021-14:40:08] Iteration 10\n",
      "[DEBUG-bo-03/08/2021-14:40:08] num_samples is ignored.\n"
     ]
    },
    {
     "name": "stdout",
     "output_type": "stream",
     "text": [
      "termination on tolfun=1e-11 (Mon Mar  8 14:40:08 2021)\n",
      "final/bestever f-value = -2.752323e+01 -2.752323e+01\n",
      "incumbent solution: [19.501501847613326, 69.28030555567605]\n",
      "std deviation: [21.568922912264302, 13.671701343581175]\n",
      "Iterat #Fevals   function value  axis ratio  sigma  min&max std  t[m:s]\n",
      "    1      6 -2.674389050950896e+01 1.0e+00 3.97e+01  3e+01  4e+01 0:00.0\n",
      "    2     12 -2.674389050950896e+01 1.2e+00 3.15e+01  2e+01  3e+01 0:00.0\n",
      "    3     18 -2.674389050950896e+01 1.2e+00 3.82e+01  3e+01  4e+01 0:00.0\n",
      "    9     54 -2.674389050950896e+01 1.5e+00 4.04e+01  2e+01  3e+01 0:00.0\n"
     ]
    },
    {
     "name": "stderr",
     "output_type": "stream",
     "text": [
      "[INFO-wrappers_bo-03/08/2021-14:40:08] range_X:\n",
      "[[-100, 100],\n",
      "[-100, 100]]\n",
      "[INFO-wrappers_bo-03/08/2021-14:40:08] str_cov: matern52\n",
      "[INFO-wrappers_bo-03/08/2021-14:40:08] str_acq: ei\n",
      "[INFO-wrappers_bo-03/08/2021-14:40:08] str_optimizer_method_gp: BFGS\n",
      "[INFO-wrappers_bo-03/08/2021-14:40:08] str_optimizer_method_bo: CMA-ES\n"
     ]
    },
    {
     "name": "stdout",
     "output_type": "stream",
     "text": [
      "termination on tolfun=1e-11 (Mon Mar  8 14:40:08 2021)\n",
      "final/bestever f-value = -2.674389e+01 -2.674389e+01\n",
      "incumbent solution: [-54.87325251853552, -20.42998370628667]\n",
      "std deviation: [21.03676192111135, 34.42172083029722]\n",
      "BO Round 35\n"
     ]
    },
    {
     "name": "stderr",
     "output_type": "stream",
     "text": [
      "[INFO-wrappers_bo-03/08/2021-14:40:08] str_modelselection_method: ml\n",
      "[INFO-wrappers_bo-03/08/2021-14:40:08] num_init: 3\n",
      "[INFO-wrappers_bo-03/08/2021-14:40:08] num_iter: 6\n",
      "[INFO-wrappers_bo-03/08/2021-14:40:08] str_initial_method_bo: uniform\n",
      "[INFO-wrappers_bo-03/08/2021-14:40:08] str_sampling_method_ao: uniform\n",
      "[INFO-wrappers_bo-03/08/2021-14:40:08] num_samples_ao: 100\n",
      "[INFO-wrappers_bo-03/08/2021-14:40:08] str_mlm_method: regular\n",
      "[INFO-wrappers_bo-03/08/2021-14:40:08] seed: None\n",
      "[INFO-wrappers_bo-03/08/2021-14:40:08] Iteration 1\n",
      "[DEBUG-bo-03/08/2021-14:40:08] num_samples is ignored.\n"
     ]
    },
    {
     "name": "stdout",
     "output_type": "stream",
     "text": [
      "Iterat #Fevals   function value  axis ratio  sigma  min&max std  t[m:s]\n",
      "    1      6 -2.316979358602146e+01 1.0e+00 5.46e+01  5e+01  6e+01 0:00.0\n"
     ]
    },
    {
     "name": "stderr",
     "output_type": "stream",
     "text": [
      "[INFO-wrappers_bo-03/08/2021-14:40:08] Iteration 2\n"
     ]
    },
    {
     "name": "stdout",
     "output_type": "stream",
     "text": [
      "termination on tolfun=1e-11 (Mon Mar  8 14:40:08 2021)\n",
      "final/bestever f-value = -2.316979e+01 -2.316979e+01\n",
      "incumbent solution: [99.95214236896969, 73.38685414923424]\n",
      "std deviation: [54.62533895621509, 56.716065031498246]\n"
     ]
    },
    {
     "name": "stderr",
     "output_type": "stream",
     "text": [
      "[DEBUG-bo-03/08/2021-14:40:08] num_samples is ignored.\n"
     ]
    },
    {
     "name": "stdout",
     "output_type": "stream",
     "text": [
      "Iterat #Fevals   function value  axis ratio  sigma  min&max std  t[m:s]\n",
      "    1      6 -2.574693419890667e+01 1.0e+00 4.07e+01  4e+01  4e+01 0:00.0\n",
      "termination on tolfun=1e-11 (Mon Mar  8 14:40:08 2021)\n",
      "final/bestever f-value = -2.574693e+01 -2.574693e+01\n",
      "incumbent solution: [3.864251117793593, 16.394992565387934]\n",
      "std deviation: [36.99352724403215, 38.025120130317404]\n"
     ]
    },
    {
     "name": "stderr",
     "output_type": "stream",
     "text": [
      "[INFO-wrappers_bo-03/08/2021-14:40:08] Iteration 3\n",
      "[DEBUG-bo-03/08/2021-14:40:08] num_samples is ignored.\n"
     ]
    },
    {
     "name": "stdout",
     "output_type": "stream",
     "text": [
      "Iterat #Fevals   function value  axis ratio  sigma  min&max std  t[m:s]\n",
      "    1      6 -2.708534174518537e+01 1.0e+00 5.20e+01  5e+01  6e+01 0:00.0\n",
      "termination on tolfun=1e-11 (Mon Mar  8 14:40:08 2021)\n",
      "final/bestever f-value = -2.708534e+01 -2.708534e+01\n",
      "incumbent solution: [82.39014247226834, -15.30146842794405]\n",
      "std deviation: [55.1536585926597, 47.63088871921717]\n"
     ]
    },
    {
     "name": "stderr",
     "output_type": "stream",
     "text": [
      "[INFO-wrappers_bo-03/08/2021-14:40:08] Iteration 4\n",
      "[DEBUG-bo-03/08/2021-14:40:08] num_samples is ignored.\n"
     ]
    },
    {
     "name": "stdout",
     "output_type": "stream",
     "text": [
      "Iterat #Fevals   function value  axis ratio  sigma  min&max std  t[m:s]\n",
      "    1      6 -2.621857813290623e+01 1.0e+00 3.63e+01  3e+01  4e+01 0:00.0\n",
      "termination on tolfun=1e-11 (Mon Mar  8 14:40:08 2021)\n",
      "final/bestever f-value = -2.621858e+01 -2.621858e+01\n",
      "incumbent solution: [88.8822882738995, 78.08797798598879]\n",
      "std deviation: [35.558314746645294, 28.56286998145223]\n"
     ]
    },
    {
     "name": "stderr",
     "output_type": "stream",
     "text": [
      "[INFO-wrappers_bo-03/08/2021-14:40:08] Iteration 5\n",
      "[DEBUG-bo-03/08/2021-14:40:08] num_samples is ignored.\n"
     ]
    },
    {
     "name": "stdout",
     "output_type": "stream",
     "text": [
      "Iterat #Fevals   function value  axis ratio  sigma  min&max std  t[m:s]\n",
      "    1      6 -3.690777770221727e+01 1.0e+00 4.05e+01  3e+01  4e+01 0:00.0\n",
      "    2     12 -3.690777770221727e+01 1.1e+00 3.66e+01  3e+01  3e+01 0:00.0\n",
      "    3     18 -3.690777770221727e+01 1.2e+00 3.40e+01  3e+01  3e+01 0:00.0\n",
      "    5     30 -3.690777770221727e+01 1.2e+00 2.26e+01  1e+01  2e+01 0:00.0\n"
     ]
    },
    {
     "name": "stderr",
     "output_type": "stream",
     "text": [
      "[INFO-wrappers_bo-03/08/2021-14:40:08] Iteration 6\n",
      "[DEBUG-bo-03/08/2021-14:40:08] num_samples is ignored.\n"
     ]
    },
    {
     "name": "stdout",
     "output_type": "stream",
     "text": [
      "termination on tolfun=1e-11 (Mon Mar  8 14:40:08 2021)\n",
      "final/bestever f-value = -3.690778e+01 -3.690778e+01\n",
      "incumbent solution: [42.55555806489292, -57.0293840656827]\n",
      "std deviation: [16.332786572939806, 13.360141020980942]\n",
      "Iterat #Fevals   function value  axis ratio  sigma  min&max std  t[m:s]\n",
      "    1      6 -3.728635219971956e+01 1.0e+00 5.15e+01  5e+01  5e+01 0:00.0\n",
      "    2     12 -3.728635219971956e+01 1.2e+00 4.43e+01  4e+01  4e+01 0:00.0\n"
     ]
    },
    {
     "name": "stderr",
     "output_type": "stream",
     "text": [
      "[INFO-wrappers_bo-03/08/2021-14:40:08] range_X:\n",
      "[[-100, 100],\n",
      "[-100, 100]]\n",
      "[INFO-wrappers_bo-03/08/2021-14:40:08] str_cov: matern52\n",
      "[INFO-wrappers_bo-03/08/2021-14:40:08] str_acq: ei\n",
      "[INFO-wrappers_bo-03/08/2021-14:40:08] str_optimizer_method_gp: BFGS\n",
      "[INFO-wrappers_bo-03/08/2021-14:40:08] str_optimizer_method_bo: CMA-ES\n",
      "[INFO-wrappers_bo-03/08/2021-14:40:08] str_modelselection_method: ml\n",
      "[INFO-wrappers_bo-03/08/2021-14:40:08] num_init: 4\n",
      "[INFO-wrappers_bo-03/08/2021-14:40:08] num_iter: 6\n",
      "[INFO-wrappers_bo-03/08/2021-14:40:08] str_initial_method_bo: uniform\n",
      "[INFO-wrappers_bo-03/08/2021-14:40:08] str_sampling_method_ao: uniform\n",
      "[INFO-wrappers_bo-03/08/2021-14:40:08] num_samples_ao: 100\n",
      "[INFO-wrappers_bo-03/08/2021-14:40:08] str_mlm_method: regular\n",
      "[INFO-wrappers_bo-03/08/2021-14:40:08] seed: None\n",
      "[INFO-wrappers_bo-03/08/2021-14:40:08] Iteration 1\n"
     ]
    },
    {
     "name": "stdout",
     "output_type": "stream",
     "text": [
      "termination on tolflatfitness=1 (Mon Mar  8 14:40:08 2021)\n",
      "final/bestever f-value = -3.728635e+01 -3.728635e+01\n",
      "incumbent solution: [-17.48161469488658, 89.69785185995158]\n",
      "std deviation: [42.04396472519964, 38.361713270245545]\n",
      "BO Round 36\n"
     ]
    },
    {
     "name": "stderr",
     "output_type": "stream",
     "text": [
      "[DEBUG-bo-03/08/2021-14:40:08] num_samples is ignored.\n"
     ]
    },
    {
     "name": "stdout",
     "output_type": "stream",
     "text": [
      "Iterat #Fevals   function value  axis ratio  sigma  min&max std  t[m:s]\n",
      "    1      6 -2.793045505724356e+01 1.0e+00 4.89e+01  5e+01  5e+01 0:00.0\n"
     ]
    },
    {
     "name": "stderr",
     "output_type": "stream",
     "text": [
      "[INFO-wrappers_bo-03/08/2021-14:40:08] Iteration 2\n"
     ]
    },
    {
     "name": "stdout",
     "output_type": "stream",
     "text": [
      "termination on tolfun=1e-11 (Mon Mar  8 14:40:08 2021)\n",
      "final/bestever f-value = -2.793046e+01 -2.793046e+01\n",
      "incumbent solution: [-54.32697512423178, 42.2316795255913]\n",
      "std deviation: [47.40404101505222, 46.04667185558502]\n"
     ]
    },
    {
     "name": "stderr",
     "output_type": "stream",
     "text": [
      "[DEBUG-bo-03/08/2021-14:40:08] num_samples is ignored.\n"
     ]
    },
    {
     "name": "stdout",
     "output_type": "stream",
     "text": [
      "Iterat #Fevals   function value  axis ratio  sigma  min&max std  t[m:s]\n",
      "    1      6 -2.742618878632562e+01 1.0e+00 4.70e+01  4e+01  5e+01 0:00.0\n"
     ]
    },
    {
     "name": "stderr",
     "output_type": "stream",
     "text": [
      "[INFO-wrappers_bo-03/08/2021-14:40:08] Iteration 3\n"
     ]
    },
    {
     "name": "stdout",
     "output_type": "stream",
     "text": [
      "termination on tolfun=1e-11 (Mon Mar  8 14:40:08 2021)\n",
      "final/bestever f-value = -2.742619e+01 -2.742619e+01\n",
      "incumbent solution: [44.635627334219116, -92.21947514193992]\n",
      "std deviation: [44.531607384371966, 45.84949421689016]\n"
     ]
    },
    {
     "name": "stderr",
     "output_type": "stream",
     "text": [
      "[DEBUG-bo-03/08/2021-14:40:08] num_samples is ignored.\n"
     ]
    },
    {
     "name": "stdout",
     "output_type": "stream",
     "text": [
      "Iterat #Fevals   function value  axis ratio  sigma  min&max std  t[m:s]\n",
      "    1      6 -2.472653508503119e+01 1.0e+00 4.26e+01  4e+01  4e+01 0:00.0\n"
     ]
    },
    {
     "name": "stderr",
     "output_type": "stream",
     "text": [
      "[INFO-wrappers_bo-03/08/2021-14:40:08] Iteration 4\n"
     ]
    },
    {
     "name": "stdout",
     "output_type": "stream",
     "text": [
      "termination on tolfun=1e-11 (Mon Mar  8 14:40:08 2021)\n",
      "final/bestever f-value = -2.472654e+01 -2.472654e+01\n",
      "incumbent solution: [79.22377966122126, 98.19524939298167]\n",
      "std deviation: [41.09145950116598, 36.25456324574468]\n"
     ]
    },
    {
     "name": "stderr",
     "output_type": "stream",
     "text": [
      "[DEBUG-bo-03/08/2021-14:40:08] num_samples is ignored.\n"
     ]
    },
    {
     "name": "stdout",
     "output_type": "stream",
     "text": [
      "Iterat #Fevals   function value  axis ratio  sigma  min&max std  t[m:s]\n",
      "    1      6 -2.321156297998058e+01 1.0e+00 6.11e+01  6e+01  8e+01 0:00.0\n",
      "    2     12 -2.321156297998058e+01 1.3e+00 7.07e+01  7e+01  8e+01 0:00.0\n",
      "    3     18 -2.321156297998058e+01 1.2e+00 8.80e+01  1e+02  1e+02 0:00.0\n",
      "    4     24 -2.321156297998058e+01 1.4e+00 7.74e+01  8e+01  8e+01 0:00.0\n",
      "termination on tolfun=1e-11 (Mon Mar  8 14:40:08 2021)\n",
      "final/bestever f-value = -2.321156e+01 -2.321156e+01\n",
      "incumbent solution: [36.1165430165274, -84.47204607724292]\n",
      "std deviation: [76.12399962124937, 81.4127551369994]\n"
     ]
    },
    {
     "name": "stderr",
     "output_type": "stream",
     "text": [
      "[INFO-wrappers_bo-03/08/2021-14:40:08] Iteration 5\n",
      "[DEBUG-bo-03/08/2021-14:40:08] num_samples is ignored.\n"
     ]
    },
    {
     "name": "stdout",
     "output_type": "stream",
     "text": [
      "Iterat #Fevals   function value  axis ratio  sigma  min&max std  t[m:s]\n",
      "    1      6 -2.255877551854163e+01 1.0e+00 4.33e+01  4e+01  4e+01 0:00.0\n"
     ]
    },
    {
     "name": "stderr",
     "output_type": "stream",
     "text": [
      "[INFO-wrappers_bo-03/08/2021-14:40:08] Iteration 6\n"
     ]
    },
    {
     "name": "stdout",
     "output_type": "stream",
     "text": [
      "termination on tolfun=1e-11 (Mon Mar  8 14:40:08 2021)\n",
      "final/bestever f-value = -2.255878e+01 -2.255878e+01\n",
      "incumbent solution: [5.719046775575652, 68.56222376453634]\n",
      "std deviation: [38.76300033705891, 41.64019098651402]\n"
     ]
    },
    {
     "name": "stderr",
     "output_type": "stream",
     "text": [
      "[DEBUG-bo-03/08/2021-14:40:08] num_samples is ignored.\n"
     ]
    },
    {
     "name": "stdout",
     "output_type": "stream",
     "text": [
      "Iterat #Fevals   function value  axis ratio  sigma  min&max std  t[m:s]\n",
      "    1      6 -2.149079275673642e+01 1.0e+00 4.55e+01  4e+01  4e+01 0:00.0\n",
      "    2     12 -2.149079275673642e+01 1.2e+00 4.03e+01  3e+01  3e+01 0:00.0\n"
     ]
    },
    {
     "name": "stderr",
     "output_type": "stream",
     "text": [
      "[INFO-wrappers_bo-03/08/2021-14:40:08] range_X:\n",
      "[[-100, 100],\n",
      "[-100, 100]]\n",
      "[INFO-wrappers_bo-03/08/2021-14:40:08] str_cov: matern52\n",
      "[INFO-wrappers_bo-03/08/2021-14:40:08] str_acq: ei\n",
      "[INFO-wrappers_bo-03/08/2021-14:40:08] str_optimizer_method_gp: BFGS\n",
      "[INFO-wrappers_bo-03/08/2021-14:40:08] str_optimizer_method_bo: CMA-ES\n",
      "[INFO-wrappers_bo-03/08/2021-14:40:08] str_modelselection_method: ml\n",
      "[INFO-wrappers_bo-03/08/2021-14:40:08] num_init: 9\n",
      "[INFO-wrappers_bo-03/08/2021-14:40:08] num_iter: 9\n",
      "[INFO-wrappers_bo-03/08/2021-14:40:08] str_initial_method_bo: uniform\n",
      "[INFO-wrappers_bo-03/08/2021-14:40:08] str_sampling_method_ao: uniform\n",
      "[INFO-wrappers_bo-03/08/2021-14:40:08] num_samples_ao: 100\n",
      "[INFO-wrappers_bo-03/08/2021-14:40:08] str_mlm_method: regular\n",
      "[INFO-wrappers_bo-03/08/2021-14:40:08] seed: None\n",
      "[INFO-wrappers_bo-03/08/2021-14:40:08] Iteration 1\n"
     ]
    },
    {
     "name": "stdout",
     "output_type": "stream",
     "text": [
      "termination on tolfun=1e-11 (Mon Mar  8 14:40:08 2021)\n",
      "final/bestever f-value = -2.149079e+01 -2.149079e+01\n",
      "incumbent solution: [-1.1692417033713483, 48.06485484434661]\n",
      "std deviation: [34.54377741944207, 33.35567127277699]\n",
      "BO Round 37\n"
     ]
    },
    {
     "name": "stderr",
     "output_type": "stream",
     "text": [
      "[DEBUG-bo-03/08/2021-14:40:08] num_samples is ignored.\n"
     ]
    },
    {
     "name": "stdout",
     "output_type": "stream",
     "text": [
      "Iterat #Fevals   function value  axis ratio  sigma  min&max std  t[m:s]\n",
      "    1      6 -2.830760063608977e+01 1.0e+00 3.86e+01  3e+01  4e+01 0:00.0\n",
      "    2     12 -2.830760063608977e+01 1.3e+00 4.34e+01  3e+01  5e+01 0:00.0\n",
      "    3     18 -2.830760063608977e+01 1.6e+00 5.70e+01  5e+01  7e+01 0:00.0\n"
     ]
    },
    {
     "name": "stderr",
     "output_type": "stream",
     "text": [
      "[INFO-wrappers_bo-03/08/2021-14:40:08] Iteration 2\n",
      "[DEBUG-bo-03/08/2021-14:40:08] num_samples is ignored.\n"
     ]
    },
    {
     "name": "stdout",
     "output_type": "stream",
     "text": [
      "termination on tolfun=1e-11 (Mon Mar  8 14:40:08 2021)\n",
      "final/bestever f-value = -2.830760e+01 -2.830760e+01\n",
      "incumbent solution: [-24.37038642189642, 14.120612023516728]\n",
      "std deviation: [51.099132889112155, 74.78505933209146]\n",
      "Iterat #Fevals   function value  axis ratio  sigma  min&max std  t[m:s]\n",
      "    1      6 -2.862010984209508e+01 1.0e+00 4.58e+01  4e+01  5e+01 0:00.0\n",
      "    2     12 -2.862010984209508e+01 1.1e+00 4.13e+01  3e+01  4e+01 0:00.0\n"
     ]
    },
    {
     "name": "stderr",
     "output_type": "stream",
     "text": [
      "[INFO-wrappers_bo-03/08/2021-14:40:08] Iteration 3\n"
     ]
    },
    {
     "name": "stdout",
     "output_type": "stream",
     "text": [
      "termination on tolflatfitness=1 (Mon Mar  8 14:40:08 2021)\n",
      "final/bestever f-value = -2.862011e+01 -2.862011e+01\n",
      "incumbent solution: [-60.361853460212, 77.30326308317343]\n",
      "std deviation: [40.52020631597495, 33.802350420321]\n"
     ]
    },
    {
     "name": "stderr",
     "output_type": "stream",
     "text": [
      "[DEBUG-bo-03/08/2021-14:40:08] num_samples is ignored.\n"
     ]
    },
    {
     "name": "stdout",
     "output_type": "stream",
     "text": [
      "Iterat #Fevals   function value  axis ratio  sigma  min&max std  t[m:s]\n",
      "    1      6 -2.875901299913436e+01 1.0e+00 5.22e+01  5e+01  6e+01 0:00.0\n",
      "    2     12 -2.875901299913436e+01 1.2e+00 4.06e+01  3e+01  4e+01 0:00.0\n",
      "    3     18 -2.875901299913436e+01 1.3e+00 3.69e+01  3e+01  3e+01 0:00.0\n"
     ]
    },
    {
     "name": "stderr",
     "output_type": "stream",
     "text": [
      "[INFO-wrappers_bo-03/08/2021-14:40:09] Iteration 4\n",
      "[DEBUG-bo-03/08/2021-14:40:09] num_samples is ignored.\n"
     ]
    },
    {
     "name": "stdout",
     "output_type": "stream",
     "text": [
      "termination on tolfun=1e-11 (Mon Mar  8 14:40:09 2021)\n",
      "final/bestever f-value = -2.875901e+01 -2.875901e+01\n",
      "incumbent solution: [71.7127897556487, 69.99649987871197]\n",
      "std deviation: [34.64712896094927, 28.71997662242489]\n",
      "Iterat #Fevals   function value  axis ratio  sigma  min&max std  t[m:s]\n",
      "    1      6 -2.897188433765442e+01 1.0e+00 6.19e+01  5e+01  8e+01 0:00.0\n",
      "    2     12 -2.897188433765442e+01 1.5e+00 5.99e+01  5e+01  6e+01 0:00.0\n",
      "    3     18 -2.897188433765442e+01 1.2e+00 8.29e+01  8e+01  1e+02 0:00.0\n",
      "    5     30 -2.897188433765442e+01 1.3e+00 8.92e+01  9e+01  1e+02 0:00.0\n"
     ]
    },
    {
     "name": "stderr",
     "output_type": "stream",
     "text": [
      "[INFO-wrappers_bo-03/08/2021-14:40:09] Iteration 5\n",
      "[DEBUG-bo-03/08/2021-14:40:09] num_samples is ignored.\n"
     ]
    },
    {
     "name": "stdout",
     "output_type": "stream",
     "text": [
      "termination on tolflatfitness=1 (Mon Mar  8 14:40:09 2021)\n",
      "final/bestever f-value = -2.897188e+01 -2.897188e+01\n",
      "incumbent solution: [-62.251377140758144, 26.290235726084887]\n",
      "std deviation: [85.88496998379729, 104.14600387597503]\n",
      "Iterat #Fevals   function value  axis ratio  sigma  min&max std  t[m:s]\n",
      "    1      6 -2.941023450690660e+01 1.0e+00 5.81e+01  5e+01  7e+01 0:00.0\n",
      "termination on tolfun=1e-11 (Mon Mar  8 14:40:09 2021)\n",
      "final/bestever f-value = -2.941023e+01 -2.941023e+01\n",
      "incumbent solution: [21.46098980460411, -97.18125921601415]\n",
      "std deviation: [72.59918133501779, 49.357600873090156]\n"
     ]
    },
    {
     "name": "stderr",
     "output_type": "stream",
     "text": [
      "[INFO-wrappers_bo-03/08/2021-14:40:09] Iteration 6\n",
      "[DEBUG-bo-03/08/2021-14:40:09] num_samples is ignored.\n"
     ]
    },
    {
     "name": "stdout",
     "output_type": "stream",
     "text": [
      "Iterat #Fevals   function value  axis ratio  sigma  min&max std  t[m:s]\n",
      "    1      6 -2.922488527153570e+01 1.0e+00 4.22e+01  4e+01  4e+01 0:00.0\n",
      "    2     12 -2.922488527153570e+01 1.2e+00 4.27e+01  4e+01  4e+01 0:00.0\n",
      "    3     18 -2.922488527153570e+01 1.3e+00 3.78e+01  3e+01  3e+01 0:00.0\n",
      "    6     36 -2.922488527153570e+01 1.2e+00 2.90e+01  2e+01  2e+01 0:00.0\n"
     ]
    },
    {
     "name": "stderr",
     "output_type": "stream",
     "text": [
      "[INFO-wrappers_bo-03/08/2021-14:40:09] Iteration 7\n",
      "[DEBUG-bo-03/08/2021-14:40:09] num_samples is ignored.\n"
     ]
    },
    {
     "name": "stdout",
     "output_type": "stream",
     "text": [
      "termination on tolfun=1e-11 (Mon Mar  8 14:40:09 2021)\n",
      "final/bestever f-value = -2.922489e+01 -2.922489e+01\n",
      "incumbent solution: [66.36221965772327, -38.618330070248376]\n",
      "std deviation: [19.789067960187996, 21.622431419155767]\n",
      "Iterat #Fevals   function value  axis ratio  sigma  min&max std  t[m:s]\n",
      "    1      6 -2.932974462000283e+01 1.0e+00 3.99e+01  3e+01  4e+01 0:00.0\n",
      "    2     12 -2.932974462000283e+01 1.3e+00 3.54e+01  3e+01  3e+01 0:00.0\n",
      "termination on tolfun=1e-11 (Mon Mar  8 14:40:09 2021)\n",
      "final/bestever f-value = -2.932974e+01 -2.932974e+01\n",
      "incumbent solution: [71.11245690715369, 31.540503986926392]\n",
      "std deviation: [30.197143919465734, 26.73186404913379]\n"
     ]
    },
    {
     "name": "stderr",
     "output_type": "stream",
     "text": [
      "[INFO-wrappers_bo-03/08/2021-14:40:09] Iteration 8\n",
      "[DEBUG-bo-03/08/2021-14:40:09] num_samples is ignored.\n"
     ]
    },
    {
     "name": "stdout",
     "output_type": "stream",
     "text": [
      "Iterat #Fevals   function value  axis ratio  sigma  min&max std  t[m:s]\n",
      "    1      6 -2.950031405429801e+01 1.0e+00 4.27e+01  4e+01  4e+01 0:00.0\n",
      "    2     12 -2.950031405429801e+01 1.2e+00 4.68e+01  4e+01  5e+01 0:00.0\n",
      "termination on tolfun=1e-11 (Mon Mar  8 14:40:09 2021)\n",
      "final/bestever f-value = -2.950031e+01 -2.950031e+01\n",
      "incumbent solution: [-27.010938619820507, -40.881680250589255]\n",
      "std deviation: [48.55367478440616, 43.04338947025875]\n"
     ]
    },
    {
     "name": "stderr",
     "output_type": "stream",
     "text": [
      "[INFO-wrappers_bo-03/08/2021-14:40:09] Iteration 9\n",
      "[DEBUG-bo-03/08/2021-14:40:09] num_samples is ignored.\n"
     ]
    },
    {
     "name": "stdout",
     "output_type": "stream",
     "text": [
      "Iterat #Fevals   function value  axis ratio  sigma  min&max std  t[m:s]\n",
      "    1      6 -1.077636575593574e+01 1.0e+00 7.07e+01  8e+01  8e+01 0:00.0\n",
      "    2     12 -1.077636575593574e+01 1.2e+00 7.44e+01  7e+01  8e+01 0:00.0\n",
      "    3     18 -1.077636575593574e+01 1.1e+00 7.31e+01  6e+01  8e+01 0:00.0\n",
      "    7     42 -1.077636575593574e+01 1.9e+00 5.31e+01  3e+01  5e+01 0:00.0\n"
     ]
    },
    {
     "name": "stderr",
     "output_type": "stream",
     "text": [
      "[INFO-wrappers_bo-03/08/2021-14:40:09] range_X:\n",
      "[[-100, 100],\n",
      "[-100, 100]]\n",
      "[INFO-wrappers_bo-03/08/2021-14:40:09] str_cov: matern52\n",
      "[INFO-wrappers_bo-03/08/2021-14:40:09] str_acq: ei\n",
      "[INFO-wrappers_bo-03/08/2021-14:40:09] str_optimizer_method_gp: BFGS\n",
      "[INFO-wrappers_bo-03/08/2021-14:40:09] str_optimizer_method_bo: CMA-ES\n",
      "[INFO-wrappers_bo-03/08/2021-14:40:09] str_modelselection_method: ml\n",
      "[INFO-wrappers_bo-03/08/2021-14:40:09] num_init: 7\n",
      "[INFO-wrappers_bo-03/08/2021-14:40:09] num_iter: 5\n",
      "[INFO-wrappers_bo-03/08/2021-14:40:09] str_initial_method_bo: uniform\n",
      "[INFO-wrappers_bo-03/08/2021-14:40:09] str_sampling_method_ao: uniform\n"
     ]
    },
    {
     "name": "stdout",
     "output_type": "stream",
     "text": [
      "termination on tolfun=1e-11 (Mon Mar  8 14:40:09 2021)\n",
      "final/bestever f-value = -1.077637e+01 -1.077637e+01\n",
      "incumbent solution: [-99.97054860009752, 95.77480076529926]\n",
      "std deviation: [27.80786289362412, 52.784185493691616]\n",
      "BO Round 38\n"
     ]
    },
    {
     "name": "stderr",
     "output_type": "stream",
     "text": [
      "[INFO-wrappers_bo-03/08/2021-14:40:09] num_samples_ao: 100\n",
      "[INFO-wrappers_bo-03/08/2021-14:40:09] str_mlm_method: regular\n",
      "[INFO-wrappers_bo-03/08/2021-14:40:09] seed: None\n",
      "[INFO-wrappers_bo-03/08/2021-14:40:09] Iteration 1\n",
      "[DEBUG-bo-03/08/2021-14:40:09] num_samples is ignored.\n"
     ]
    },
    {
     "name": "stdout",
     "output_type": "stream",
     "text": [
      "Iterat #Fevals   function value  axis ratio  sigma  min&max std  t[m:s]\n",
      "    1      6 -1.834029114674473e+01 1.0e+00 4.36e+01  4e+01  4e+01 0:00.0\n"
     ]
    },
    {
     "name": "stderr",
     "output_type": "stream",
     "text": [
      "[INFO-wrappers_bo-03/08/2021-14:40:09] Iteration 2\n"
     ]
    },
    {
     "name": "stdout",
     "output_type": "stream",
     "text": [
      "termination on tolfun=1e-11 (Mon Mar  8 14:40:09 2021)\n",
      "final/bestever f-value = -1.834029e+01 -1.834029e+01\n",
      "incumbent solution: [-67.91026182361334, 94.40473869632012]\n",
      "std deviation: [38.95171592599183, 40.58629207932769]\n"
     ]
    },
    {
     "name": "stderr",
     "output_type": "stream",
     "text": [
      "[DEBUG-bo-03/08/2021-14:40:09] num_samples is ignored.\n"
     ]
    },
    {
     "name": "stdout",
     "output_type": "stream",
     "text": [
      "Iterat #Fevals   function value  axis ratio  sigma  min&max std  t[m:s]\n",
      "    1      6 -2.261894092352536e+01 1.0e+00 5.16e+01  5e+01  6e+01 0:00.0\n",
      "    2     12 -2.261894092352536e+01 1.2e+00 5.08e+01  4e+01  5e+01 0:00.0\n"
     ]
    },
    {
     "name": "stderr",
     "output_type": "stream",
     "text": [
      "[INFO-wrappers_bo-03/08/2021-14:40:09] Iteration 3\n"
     ]
    },
    {
     "name": "stdout",
     "output_type": "stream",
     "text": [
      "termination on tolfun=1e-11 (Mon Mar  8 14:40:09 2021)\n",
      "termination on tolflatfitness=1 (Mon Mar  8 14:40:09 2021)\n",
      "final/bestever f-value = -2.261894e+01 -2.261894e+01\n",
      "incumbent solution: [99.78805031892011, -14.972081057175913]\n",
      "std deviation: [53.095456692238564, 41.16169740035716]\n"
     ]
    },
    {
     "name": "stderr",
     "output_type": "stream",
     "text": [
      "[DEBUG-bo-03/08/2021-14:40:09] num_samples is ignored.\n"
     ]
    },
    {
     "name": "stdout",
     "output_type": "stream",
     "text": [
      "Iterat #Fevals   function value  axis ratio  sigma  min&max std  t[m:s]\n",
      "    1      6 -2.210388701811727e+01 1.0e+00 4.53e+01  4e+01  4e+01 0:00.0\n",
      "    2     12 -2.210388701811727e+01 1.1e+00 3.98e+01  3e+01  4e+01 0:00.0\n",
      "    3     18 -2.210388701811727e+01 1.2e+00 3.24e+01  2e+01  3e+01 0:00.0\n",
      "termination on tolfun=1e-11 (Mon Mar  8 14:40:09 2021)\n",
      "final/bestever f-value = -2.210389e+01 -2.210389e+01\n",
      "incumbent solution: [97.92481952382198, 41.67523643035091]\n",
      "std deviation: [27.635147423628133, 22.762412821145492]\n"
     ]
    },
    {
     "name": "stderr",
     "output_type": "stream",
     "text": [
      "[INFO-wrappers_bo-03/08/2021-14:40:09] Iteration 4\n",
      "[DEBUG-bo-03/08/2021-14:40:09] num_samples is ignored.\n"
     ]
    },
    {
     "name": "stdout",
     "output_type": "stream",
     "text": [
      "Iterat #Fevals   function value  axis ratio  sigma  min&max std  t[m:s]\n",
      "    1      6 -2.330293683757334e+01 1.0e+00 4.47e+01  4e+01  4e+01 0:00.0\n",
      "    2     12 -2.330293683757334e+01 1.2e+00 5.61e+01  6e+01  6e+01 0:00.0\n"
     ]
    },
    {
     "name": "stderr",
     "output_type": "stream",
     "text": [
      "[INFO-wrappers_bo-03/08/2021-14:40:09] Iteration 5\n"
     ]
    },
    {
     "name": "stdout",
     "output_type": "stream",
     "text": [
      "termination on tolfun=1e-11 (Mon Mar  8 14:40:09 2021)\n",
      "termination on tolflatfitness=1 (Mon Mar  8 14:40:09 2021)\n",
      "final/bestever f-value = -2.330294e+01 -2.330294e+01\n",
      "incumbent solution: [87.28778951264502, -99.47984547018561]\n",
      "std deviation: [62.516663459444466, 55.484533721760066]\n"
     ]
    },
    {
     "name": "stderr",
     "output_type": "stream",
     "text": [
      "[DEBUG-bo-03/08/2021-14:40:09] num_samples is ignored.\n"
     ]
    },
    {
     "name": "stdout",
     "output_type": "stream",
     "text": [
      "Iterat #Fevals   function value  axis ratio  sigma  min&max std  t[m:s]\n",
      "    1      6 -2.254641655344930e+01 1.0e+00 4.64e+01  4e+01  5e+01 0:00.0\n",
      "    2     12 -2.254641655344930e+01 1.1e+00 4.49e+01  4e+01  4e+01 0:00.0\n"
     ]
    },
    {
     "name": "stderr",
     "output_type": "stream",
     "text": [
      "[INFO-wrappers_bo-03/08/2021-14:40:09] range_X:\n",
      "[[-100, 100],\n",
      "[-100, 100]]\n",
      "[INFO-wrappers_bo-03/08/2021-14:40:09] str_cov: matern52\n",
      "[INFO-wrappers_bo-03/08/2021-14:40:09] str_acq: ei\n",
      "[INFO-wrappers_bo-03/08/2021-14:40:09] str_optimizer_method_gp: BFGS\n",
      "[INFO-wrappers_bo-03/08/2021-14:40:09] str_optimizer_method_bo: CMA-ES\n",
      "[INFO-wrappers_bo-03/08/2021-14:40:09] str_modelselection_method: ml\n",
      "[INFO-wrappers_bo-03/08/2021-14:40:09] num_init: 3\n",
      "[INFO-wrappers_bo-03/08/2021-14:40:09] num_iter: 6\n",
      "[INFO-wrappers_bo-03/08/2021-14:40:09] str_initial_method_bo: uniform\n",
      "[INFO-wrappers_bo-03/08/2021-14:40:09] str_sampling_method_ao: uniform\n",
      "[INFO-wrappers_bo-03/08/2021-14:40:09] num_samples_ao: 100\n",
      "[INFO-wrappers_bo-03/08/2021-14:40:09] str_mlm_method: regular\n",
      "[INFO-wrappers_bo-03/08/2021-14:40:09] seed: None\n",
      "[INFO-wrappers_bo-03/08/2021-14:40:09] Iteration 1\n",
      "[DEBUG-bo-03/08/2021-14:40:09] num_samples is ignored.\n"
     ]
    },
    {
     "name": "stdout",
     "output_type": "stream",
     "text": [
      "termination on tolfun=1e-11 (Mon Mar  8 14:40:09 2021)\n",
      "final/bestever f-value = -2.254642e+01 -2.254642e+01\n",
      "incumbent solution: [-34.94344491703546, 58.87902053617601]\n",
      "std deviation: [41.13166593153318, 40.09288654406969]\n",
      "BO Round 39\n",
      "Iterat #Fevals   function value  axis ratio  sigma  min&max std  t[m:s]\n",
      "    1      6 -2.303254993174168e+01 1.0e+00 4.60e+01  4e+01  5e+01 0:00.0\n",
      "    2     12 -2.303254993174168e+01 1.2e+00 4.22e+01  3e+01  4e+01 0:00.0\n"
     ]
    },
    {
     "name": "stderr",
     "output_type": "stream",
     "text": [
      "[INFO-wrappers_bo-03/08/2021-14:40:09] Iteration 2\n",
      "[DEBUG-bo-03/08/2021-14:40:09] num_samples is ignored.\n"
     ]
    },
    {
     "name": "stdout",
     "output_type": "stream",
     "text": [
      "termination on tolfun=1e-11 (Mon Mar  8 14:40:09 2021)\n",
      "termination on tolflatfitness=1 (Mon Mar  8 14:40:09 2021)\n",
      "final/bestever f-value = -2.303255e+01 -2.303255e+01\n",
      "incumbent solution: [11.374717114088774, -35.78381145650787]\n",
      "std deviation: [38.47272480835467, 34.975407262279965]\n",
      "Iterat #Fevals   function value  axis ratio  sigma  min&max std  t[m:s]\n",
      "    1      6 -1.994758173972776e+01 1.0e+00 5.75e+01  5e+01  7e+01 0:00.0\n"
     ]
    },
    {
     "name": "stderr",
     "output_type": "stream",
     "text": [
      "[INFO-wrappers_bo-03/08/2021-14:40:09] Iteration 3\n",
      "[DEBUG-bo-03/08/2021-14:40:09] num_samples is ignored.\n"
     ]
    },
    {
     "name": "stdout",
     "output_type": "stream",
     "text": [
      "termination on tolfun=1e-11 (Mon Mar  8 14:40:09 2021)\n",
      "final/bestever f-value = -1.994758e+01 -1.994758e+01\n",
      "incumbent solution: [22.622096611383853, 17.442904459903083]\n",
      "std deviation: [70.96845691279464, 48.656231731290426]\n",
      "Iterat #Fevals   function value  axis ratio  sigma  min&max std  t[m:s]\n",
      "    1      6 -2.053753642171909e+01 1.0e+00 7.00e+01  7e+01  7e+01 0:00.0\n"
     ]
    },
    {
     "name": "stderr",
     "output_type": "stream",
     "text": [
      "[INFO-wrappers_bo-03/08/2021-14:40:09] Iteration 4\n"
     ]
    },
    {
     "name": "stdout",
     "output_type": "stream",
     "text": [
      "termination on tolfun=1e-11 (Mon Mar  8 14:40:09 2021)\n",
      "final/bestever f-value = -2.053754e+01 -2.053754e+01\n",
      "incumbent solution: [-55.86795747130805, 45.980583187811845]\n",
      "std deviation: [74.61117720217631, 70.21834875412947]\n"
     ]
    },
    {
     "name": "stderr",
     "output_type": "stream",
     "text": [
      "[DEBUG-bo-03/08/2021-14:40:09] num_samples is ignored.\n"
     ]
    },
    {
     "name": "stdout",
     "output_type": "stream",
     "text": [
      "Iterat #Fevals   function value  axis ratio  sigma  min&max std  t[m:s]\n",
      "    1      6 -1.901874205102114e+01 1.0e+00 6.52e+01  7e+01  8e+01 0:00.0\n",
      "    2     12 -1.901874205102114e+01 1.5e+00 9.14e+01  9e+01  2e+02 0:00.0\n"
     ]
    },
    {
     "name": "stderr",
     "output_type": "stream",
     "text": [
      "[INFO-wrappers_bo-03/08/2021-14:40:09] Iteration 5\n"
     ]
    },
    {
     "name": "stdout",
     "output_type": "stream",
     "text": [
      "termination on tolfun=1e-11 (Mon Mar  8 14:40:09 2021)\n",
      "final/bestever f-value = -1.901874e+01 -1.901874e+01\n",
      "incumbent solution: [-29.68740092555487, -68.66567700888758]\n",
      "std deviation: [153.47445328302257, 85.41285148967646]\n"
     ]
    },
    {
     "name": "stderr",
     "output_type": "stream",
     "text": [
      "[DEBUG-bo-03/08/2021-14:40:09] num_samples is ignored.\n"
     ]
    },
    {
     "name": "stdout",
     "output_type": "stream",
     "text": [
      "Iterat #Fevals   function value  axis ratio  sigma  min&max std  t[m:s]\n",
      "    1      6 -1.886806277355444e+01 1.0e+00 5.23e+01  5e+01  6e+01 0:00.0\n",
      "    2     12 -1.886806277355444e+01 1.3e+00 5.45e+01  5e+01  6e+01 0:00.0\n"
     ]
    },
    {
     "name": "stderr",
     "output_type": "stream",
     "text": [
      "[INFO-wrappers_bo-03/08/2021-14:40:09] Iteration 6\n"
     ]
    },
    {
     "name": "stdout",
     "output_type": "stream",
     "text": [
      "termination on tolfun=1e-11 (Mon Mar  8 14:40:09 2021)\n",
      "termination on tolflatfitness=1 (Mon Mar  8 14:40:09 2021)\n",
      "final/bestever f-value = -1.886806e+01 -1.886806e+01\n",
      "incumbent solution: [84.46746500404058, 28.70673577728376]\n",
      "std deviation: [62.96792904621556, 51.13464849700056]\n"
     ]
    },
    {
     "name": "stderr",
     "output_type": "stream",
     "text": [
      "[DEBUG-bo-03/08/2021-14:40:09] num_samples is ignored.\n"
     ]
    },
    {
     "name": "stdout",
     "output_type": "stream",
     "text": [
      "Iterat #Fevals   function value  axis ratio  sigma  min&max std  t[m:s]\n",
      "    1      6 -1.962778415022374e+01 1.0e+00 4.03e+01  4e+01  4e+01 0:00.0\n",
      "    2     12 -1.962778415022374e+01 1.1e+00 4.57e+01  4e+01  5e+01 0:00.0\n",
      "    3     18 -1.962778415022374e+01 1.1e+00 3.73e+01  3e+01  3e+01 0:00.0\n"
     ]
    },
    {
     "name": "stderr",
     "output_type": "stream",
     "text": [
      "[INFO-wrappers_bo-03/08/2021-14:40:09] range_X:\n",
      "[[-100, 100],\n",
      "[-100, 100]]\n",
      "[INFO-wrappers_bo-03/08/2021-14:40:09] str_cov: matern52\n",
      "[INFO-wrappers_bo-03/08/2021-14:40:09] str_acq: ei\n",
      "[INFO-wrappers_bo-03/08/2021-14:40:09] str_optimizer_method_gp: BFGS\n",
      "[INFO-wrappers_bo-03/08/2021-14:40:09] str_optimizer_method_bo: CMA-ES\n",
      "[INFO-wrappers_bo-03/08/2021-14:40:09] str_modelselection_method: ml\n",
      "[INFO-wrappers_bo-03/08/2021-14:40:09] num_init: 2\n"
     ]
    },
    {
     "name": "stdout",
     "output_type": "stream",
     "text": [
      "termination on tolfun=1e-11 (Mon Mar  8 14:40:09 2021)\n",
      "final/bestever f-value = -1.962778e+01 -1.962778e+01\n",
      "incumbent solution: [39.87458533740026, -31.913675596184703]\n",
      "std deviation: [29.20868052289569, 33.10084272572727]\n",
      "BO Round 40\n"
     ]
    },
    {
     "name": "stderr",
     "output_type": "stream",
     "text": [
      "[INFO-wrappers_bo-03/08/2021-14:40:09] num_iter: 4\n",
      "[INFO-wrappers_bo-03/08/2021-14:40:09] str_initial_method_bo: uniform\n",
      "[INFO-wrappers_bo-03/08/2021-14:40:09] str_sampling_method_ao: uniform\n",
      "[INFO-wrappers_bo-03/08/2021-14:40:09] num_samples_ao: 100\n",
      "[INFO-wrappers_bo-03/08/2021-14:40:09] str_mlm_method: regular\n",
      "[INFO-wrappers_bo-03/08/2021-14:40:09] seed: None\n",
      "[INFO-wrappers_bo-03/08/2021-14:40:09] Iteration 1\n",
      "[DEBUG-bo-03/08/2021-14:40:09] num_samples is ignored.\n"
     ]
    },
    {
     "name": "stdout",
     "output_type": "stream",
     "text": [
      "Iterat #Fevals   function value  axis ratio  sigma  min&max std  t[m:s]\n",
      "    1      6 -2.820848170587727e+01 1.0e+00 5.31e+01  5e+01  6e+01 0:00.0\n",
      "termination on tolfun=1e-11 (Mon Mar  8 14:40:09 2021)\n",
      "final/bestever f-value = -2.820848e+01 -2.820848e+01\n",
      "incumbent solution: [49.07460343690221, 36.700557303263935]\n",
      "std deviation: [45.81303077722212, 61.15958501577279]\n"
     ]
    },
    {
     "name": "stderr",
     "output_type": "stream",
     "text": [
      "[INFO-wrappers_bo-03/08/2021-14:40:09] Iteration 2\n",
      "[DEBUG-bo-03/08/2021-14:40:09] num_samples is ignored.\n"
     ]
    },
    {
     "name": "stdout",
     "output_type": "stream",
     "text": [
      "Iterat #Fevals   function value  axis ratio  sigma  min&max std  t[m:s]\n",
      "    1      6 -3.036291246771547e+01 1.0e+00 3.89e+01  3e+01  4e+01 0:00.0\n"
     ]
    },
    {
     "name": "stderr",
     "output_type": "stream",
     "text": [
      "[INFO-wrappers_bo-03/08/2021-14:40:09] Iteration 3\n",
      "[DEBUG-bo-03/08/2021-14:40:09] num_samples is ignored.\n"
     ]
    },
    {
     "name": "stdout",
     "output_type": "stream",
     "text": [
      "termination on tolfun=1e-11 (Mon Mar  8 14:40:09 2021)\n",
      "final/bestever f-value = -3.036291e+01 -3.036291e+01\n",
      "incumbent solution: [16.396146869033693, 99.12618256336388]\n",
      "std deviation: [35.70709501628221, 34.70859346599816]\n",
      "Iterat #Fevals   function value  axis ratio  sigma  min&max std  t[m:s]\n",
      "    1      6 -3.164571629493842e+01 1.0e+00 5.54e+01  5e+01  7e+01 0:00.0\n"
     ]
    },
    {
     "name": "stderr",
     "output_type": "stream",
     "text": [
      "[INFO-wrappers_bo-03/08/2021-14:40:09] Iteration 4\n"
     ]
    },
    {
     "name": "stdout",
     "output_type": "stream",
     "text": [
      "termination on tolfun=1e-11 (Mon Mar  8 14:40:09 2021)\n",
      "final/bestever f-value = -3.164572e+01 -3.164572e+01\n",
      "incumbent solution: [-22.140097422409482, -92.30829848411439]\n",
      "std deviation: [45.70865265220934, 67.05656440268154]\n"
     ]
    },
    {
     "name": "stderr",
     "output_type": "stream",
     "text": [
      "[DEBUG-bo-03/08/2021-14:40:09] num_samples is ignored.\n"
     ]
    },
    {
     "name": "stdout",
     "output_type": "stream",
     "text": [
      "Iterat #Fevals   function value  axis ratio  sigma  min&max std  t[m:s]\n",
      "    1      6 -3.038664822731128e+01 1.0e+00 4.14e+01  4e+01  4e+01 0:00.0\n"
     ]
    },
    {
     "name": "stderr",
     "output_type": "stream",
     "text": [
      "[INFO-wrappers_bo-03/08/2021-14:40:09] range_X:\n",
      "[[-100, 100],\n",
      "[-100, 100]]\n",
      "[INFO-wrappers_bo-03/08/2021-14:40:09] str_cov: matern52\n",
      "[INFO-wrappers_bo-03/08/2021-14:40:09] str_acq: ei\n",
      "[INFO-wrappers_bo-03/08/2021-14:40:09] str_optimizer_method_gp: BFGS\n",
      "[INFO-wrappers_bo-03/08/2021-14:40:09] str_optimizer_method_bo: CMA-ES\n",
      "[INFO-wrappers_bo-03/08/2021-14:40:09] str_modelselection_method: ml\n",
      "[INFO-wrappers_bo-03/08/2021-14:40:09] num_init: 2\n",
      "[INFO-wrappers_bo-03/08/2021-14:40:09] num_iter: 6\n",
      "[INFO-wrappers_bo-03/08/2021-14:40:09] str_initial_method_bo: uniform\n"
     ]
    },
    {
     "name": "stdout",
     "output_type": "stream",
     "text": [
      "termination on tolfun=1e-11 (Mon Mar  8 14:40:09 2021)\n",
      "final/bestever f-value = -3.038665e+01 -3.038665e+01\n",
      "incumbent solution: [86.24716147380043, -73.82436798361957]\n",
      "std deviation: [35.829184017400536, 39.68585152211795]\n",
      "BO Round 41\n"
     ]
    },
    {
     "name": "stderr",
     "output_type": "stream",
     "text": [
      "[INFO-wrappers_bo-03/08/2021-14:40:09] str_sampling_method_ao: uniform\n",
      "[INFO-wrappers_bo-03/08/2021-14:40:09] num_samples_ao: 100\n",
      "[INFO-wrappers_bo-03/08/2021-14:40:09] str_mlm_method: regular\n",
      "[INFO-wrappers_bo-03/08/2021-14:40:09] seed: None\n",
      "[INFO-wrappers_bo-03/08/2021-14:40:09] Iteration 1\n",
      "[DEBUG-bo-03/08/2021-14:40:09] num_samples is ignored.\n"
     ]
    },
    {
     "name": "stdout",
     "output_type": "stream",
     "text": [
      "Iterat #Fevals   function value  axis ratio  sigma  min&max std  t[m:s]\n",
      "    1      6 -2.820848170587727e+01 1.0e+00 4.35e+01  4e+01  4e+01 0:00.0\n",
      "termination on tolfun=1e-11 (Mon Mar  8 14:40:09 2021)\n",
      "final/bestever f-value = -2.820848e+01 -2.820848e+01\n",
      "incumbent solution: [-20.75099423696123, -5.977270078887585]\n",
      "std deviation: [39.034977351461826, 40.96118702289723]\n"
     ]
    },
    {
     "name": "stderr",
     "output_type": "stream",
     "text": [
      "[INFO-wrappers_bo-03/08/2021-14:40:09] Iteration 2\n",
      "[DEBUG-bo-03/08/2021-14:40:09] num_samples is ignored.\n"
     ]
    },
    {
     "name": "stdout",
     "output_type": "stream",
     "text": [
      "Iterat #Fevals   function value  axis ratio  sigma  min&max std  t[m:s]\n",
      "    1      6 -2.303507994400426e+01 1.0e+00 4.04e+01  3e+01  4e+01 0:00.0\n"
     ]
    },
    {
     "name": "stderr",
     "output_type": "stream",
     "text": [
      "[INFO-wrappers_bo-03/08/2021-14:40:09] Iteration 3\n",
      "[DEBUG-bo-03/08/2021-14:40:09] num_samples is ignored.\n"
     ]
    },
    {
     "name": "stdout",
     "output_type": "stream",
     "text": [
      "termination on tolfun=1e-11 (Mon Mar  8 14:40:09 2021)\n",
      "final/bestever f-value = -2.303508e+01 -2.303508e+01\n",
      "incumbent solution: [-69.34798703740228, -56.945548838417125]\n",
      "std deviation: [37.823370847947885, 34.30445301324771]\n",
      "Iterat #Fevals   function value  axis ratio  sigma  min&max std  t[m:s]\n",
      "    1      6 -2.069663908648153e+01 1.0e+00 5.82e+01  6e+01  7e+01 0:00.0\n"
     ]
    },
    {
     "name": "stderr",
     "output_type": "stream",
     "text": [
      "[INFO-wrappers_bo-03/08/2021-14:40:10] Iteration 4\n"
     ]
    },
    {
     "name": "stdout",
     "output_type": "stream",
     "text": [
      "termination on tolfun=1e-11 (Mon Mar  8 14:40:10 2021)\n",
      "final/bestever f-value = -2.069664e+01 -2.069664e+01\n",
      "incumbent solution: [84.58792128415043, 89.86592940105123]\n",
      "std deviation: [67.1086851846951, 55.886729925675006]\n"
     ]
    },
    {
     "name": "stderr",
     "output_type": "stream",
     "text": [
      "[DEBUG-bo-03/08/2021-14:40:10] num_samples is ignored.\n"
     ]
    },
    {
     "name": "stdout",
     "output_type": "stream",
     "text": [
      "Iterat #Fevals   function value  axis ratio  sigma  min&max std  t[m:s]\n",
      "    1      6 -1.869074449228966e+01 1.0e+00 7.05e+01  7e+01  8e+01 0:00.0\n"
     ]
    },
    {
     "name": "stderr",
     "output_type": "stream",
     "text": [
      "[INFO-wrappers_bo-03/08/2021-14:40:10] Iteration 5\n"
     ]
    },
    {
     "name": "stdout",
     "output_type": "stream",
     "text": [
      "termination on tolfun=1e-11 (Mon Mar  8 14:40:10 2021)\n",
      "final/bestever f-value = -1.869074e+01 -1.869074e+01\n",
      "incumbent solution: [-2.700473012156124, -35.119884921437574]\n",
      "std deviation: [65.17097574330087, 83.03865299639364]\n"
     ]
    },
    {
     "name": "stderr",
     "output_type": "stream",
     "text": [
      "[DEBUG-bo-03/08/2021-14:40:10] num_samples is ignored.\n"
     ]
    },
    {
     "name": "stdout",
     "output_type": "stream",
     "text": [
      "Iterat #Fevals   function value  axis ratio  sigma  min&max std  t[m:s]\n",
      "    1      6 -1.741329534103104e+01 1.0e+00 4.97e+01  4e+01  6e+01 0:00.0\n",
      "    2     12 -1.741329534103104e+01 1.3e+00 6.69e+01  5e+01  1e+02 0:00.0\n"
     ]
    },
    {
     "name": "stderr",
     "output_type": "stream",
     "text": [
      "[INFO-wrappers_bo-03/08/2021-14:40:10] Iteration 6\n",
      "[DEBUG-bo-03/08/2021-14:40:10] num_samples is ignored.\n"
     ]
    },
    {
     "name": "stdout",
     "output_type": "stream",
     "text": [
      "termination on tolfun=1e-11 (Mon Mar  8 14:40:10 2021)\n",
      "termination on tolflatfitness=1 (Mon Mar  8 14:40:10 2021)\n",
      "final/bestever f-value = -1.741330e+01 -1.741330e+01\n",
      "incumbent solution: [96.88888271981395, 61.0647901576187]\n",
      "std deviation: [47.16002409446138, 101.2717702113031]\n",
      "Iterat #Fevals   function value  axis ratio  sigma  min&max std  t[m:s]\n",
      "    1      6 -1.668931793323914e+01 1.0e+00 4.27e+01  4e+01  4e+01 0:00.0\n",
      "termination on tolfun=1e-11 (Mon Mar  8 14:40:10 2021)\n",
      "final/bestever f-value = -1.668932e+01 -1.668932e+01\n",
      "incumbent solution: [-99.47741900552704, 70.6709049881655]\n",
      "std deviation: [39.37253549057749, 41.36926827407749]\n"
     ]
    },
    {
     "name": "stderr",
     "output_type": "stream",
     "text": [
      "[INFO-wrappers_bo-03/08/2021-14:40:10] range_X:\n",
      "[[-100, 100],\n",
      "[-100, 100]]\n",
      "[INFO-wrappers_bo-03/08/2021-14:40:10] str_cov: matern52\n",
      "[INFO-wrappers_bo-03/08/2021-14:40:10] str_acq: ei\n",
      "[INFO-wrappers_bo-03/08/2021-14:40:10] str_optimizer_method_gp: BFGS\n",
      "[INFO-wrappers_bo-03/08/2021-14:40:10] str_optimizer_method_bo: CMA-ES\n",
      "[INFO-wrappers_bo-03/08/2021-14:40:10] str_modelselection_method: ml\n",
      "[INFO-wrappers_bo-03/08/2021-14:40:10] num_init: 9\n",
      "[INFO-wrappers_bo-03/08/2021-14:40:10] num_iter: 6\n",
      "[INFO-wrappers_bo-03/08/2021-14:40:10] str_initial_method_bo: uniform\n",
      "[INFO-wrappers_bo-03/08/2021-14:40:10] str_sampling_method_ao: uniform\n",
      "[INFO-wrappers_bo-03/08/2021-14:40:10] num_samples_ao: 100\n",
      "[INFO-wrappers_bo-03/08/2021-14:40:10] str_mlm_method: regular\n",
      "[INFO-wrappers_bo-03/08/2021-14:40:10] seed: None\n",
      "[INFO-wrappers_bo-03/08/2021-14:40:10] Iteration 1\n"
     ]
    },
    {
     "name": "stdout",
     "output_type": "stream",
     "text": [
      "BO Round 42\n"
     ]
    },
    {
     "name": "stderr",
     "output_type": "stream",
     "text": [
      "[DEBUG-bo-03/08/2021-14:40:10] num_samples is ignored.\n"
     ]
    },
    {
     "name": "stdout",
     "output_type": "stream",
     "text": [
      "Iterat #Fevals   function value  axis ratio  sigma  min&max std  t[m:s]\n",
      "    1      6 -3.166124058662736e+01 1.0e+00 8.06e+01  8e+01  1e+02 0:00.0\n",
      "    2     12 -3.166124058662736e+01 1.5e+00 7.71e+01  8e+01  9e+01 0:00.0\n",
      "    3     18 -3.166124058662736e+01 1.3e+00 8.34e+01  8e+01  1e+02 0:00.0\n",
      "   10     60 -3.166124058662736e+01 1.2e+00 6.76e+01  5e+01  5e+01 0:00.1\n"
     ]
    },
    {
     "name": "stderr",
     "output_type": "stream",
     "text": [
      "[INFO-wrappers_bo-03/08/2021-14:40:10] Iteration 2\n"
     ]
    },
    {
     "name": "stdout",
     "output_type": "stream",
     "text": [
      "termination on tolfunhist=1e-12 (Mon Mar  8 14:40:10 2021)\n",
      "termination on tolflatfitness=1 (Mon Mar  8 14:40:10 2021)\n",
      "final/bestever f-value = -3.166124e+01 -3.166124e+01\n",
      "incumbent solution: [88.99525226841286, 96.00126278335578]\n",
      "std deviation: [51.363687340912584, 54.742367971141555]\n"
     ]
    },
    {
     "name": "stderr",
     "output_type": "stream",
     "text": [
      "[DEBUG-bo-03/08/2021-14:40:10] num_samples is ignored.\n"
     ]
    },
    {
     "name": "stdout",
     "output_type": "stream",
     "text": [
      "Iterat #Fevals   function value  axis ratio  sigma  min&max std  t[m:s]\n",
      "    1      6 -3.204712422314705e+01 1.0e+00 5.88e+01  5e+01  7e+01 0:00.0\n",
      "    2     12 -3.204712422314705e+01 1.4e+00 6.15e+01  5e+01  7e+01 0:00.0\n",
      "    3     18 -3.204712422314705e+01 1.6e+00 5.72e+01  4e+01  6e+01 0:00.0\n"
     ]
    },
    {
     "name": "stderr",
     "output_type": "stream",
     "text": [
      "[INFO-wrappers_bo-03/08/2021-14:40:10] Iteration 3\n",
      "[DEBUG-bo-03/08/2021-14:40:10] num_samples is ignored.\n"
     ]
    },
    {
     "name": "stdout",
     "output_type": "stream",
     "text": [
      "termination on tolflatfitness=1 (Mon Mar  8 14:40:10 2021)\n",
      "final/bestever f-value = -3.204712e+01 -3.204712e+01\n",
      "incumbent solution: [58.734815673749225, -9.072243992697477]\n",
      "std deviation: [64.691479662402, 42.66422285605732]\n",
      "Iterat #Fevals   function value  axis ratio  sigma  min&max std  t[m:s]\n",
      "    1      6 -3.441929930205514e+01 1.0e+00 4.26e+01  4e+01  4e+01 0:00.0\n",
      "    2     12 -3.441929930205514e+01 1.1e+00 4.37e+01  3e+01  4e+01 0:00.0\n",
      "termination on tolfun=1e-11 (Mon Mar  8 14:40:10 2021)\n",
      "final/bestever f-value = -3.441930e+01 -3.441930e+01\n",
      "incumbent solution: [3.9156026061506495, -38.865855909963685]\n",
      "std deviation: [43.727227592334856, 33.76504321399166]\n"
     ]
    },
    {
     "name": "stderr",
     "output_type": "stream",
     "text": [
      "[INFO-wrappers_bo-03/08/2021-14:40:10] Iteration 4\n",
      "[DEBUG-bo-03/08/2021-14:40:10] num_samples is ignored.\n"
     ]
    },
    {
     "name": "stdout",
     "output_type": "stream",
     "text": [
      "Iterat #Fevals   function value  axis ratio  sigma  min&max std  t[m:s]\n",
      "    1      6 -2.597270231414338e+01 1.0e+00 3.87e+01  3e+01  4e+01 0:00.0\n",
      "    2     12 -2.597270231414338e+01 1.2e+00 3.53e+01  3e+01  3e+01 0:00.0\n"
     ]
    },
    {
     "name": "stderr",
     "output_type": "stream",
     "text": [
      "[INFO-wrappers_bo-03/08/2021-14:40:10] Iteration 5\n"
     ]
    },
    {
     "name": "stdout",
     "output_type": "stream",
     "text": [
      "termination on tolfun=1e-11 (Mon Mar  8 14:40:10 2021)\n",
      "final/bestever f-value = -2.597270e+01 -2.597270e+01\n",
      "incumbent solution: [-64.27271811802015, 92.00346365101514]\n",
      "std deviation: [30.029046241962437, 31.078690750543743]\n"
     ]
    },
    {
     "name": "stderr",
     "output_type": "stream",
     "text": [
      "[DEBUG-bo-03/08/2021-14:40:10] num_samples is ignored.\n"
     ]
    },
    {
     "name": "stdout",
     "output_type": "stream",
     "text": [
      "Iterat #Fevals   function value  axis ratio  sigma  min&max std  t[m:s]\n",
      "    1      6 -2.601149262908509e+01 1.0e+00 4.19e+01  4e+01  4e+01 0:00.0\n",
      "    2     12 -2.601149262908509e+01 1.2e+00 4.48e+01  4e+01  4e+01 0:00.0\n",
      "    3     18 -2.601149262908509e+01 1.2e+00 4.77e+01  4e+01  5e+01 0:00.0\n",
      "    4     24 -2.601149262908509e+01 1.3e+00 4.81e+01  4e+01  4e+01 0:00.0\n"
     ]
    },
    {
     "name": "stderr",
     "output_type": "stream",
     "text": [
      "[INFO-wrappers_bo-03/08/2021-14:40:10] Iteration 6\n"
     ]
    },
    {
     "name": "stdout",
     "output_type": "stream",
     "text": [
      "termination on tolfun=1e-11 (Mon Mar  8 14:40:10 2021)\n",
      "final/bestever f-value = -2.601149e+01 -2.601149e+01\n",
      "incumbent solution: [-8.0744077089432, 25.485396635627183]\n",
      "std deviation: [41.789825086753424, 41.150174653157684]\n"
     ]
    },
    {
     "name": "stderr",
     "output_type": "stream",
     "text": [
      "[DEBUG-bo-03/08/2021-14:40:10] num_samples is ignored.\n"
     ]
    },
    {
     "name": "stdout",
     "output_type": "stream",
     "text": [
      "Iterat #Fevals   function value  axis ratio  sigma  min&max std  t[m:s]\n",
      "    1      6 -2.512403594384901e+01 1.0e+00 3.68e+01  3e+01  4e+01 0:00.0\n",
      "    2     12 -2.512403594384901e+01 1.2e+00 3.97e+01  3e+01  4e+01 0:00.0\n"
     ]
    },
    {
     "name": "stderr",
     "output_type": "stream",
     "text": [
      "[INFO-wrappers_bo-03/08/2021-14:40:10] range_X:\n",
      "[[-100, 100],\n",
      "[-100, 100]]\n"
     ]
    },
    {
     "name": "stdout",
     "output_type": "stream",
     "text": [
      "termination on tolfun=1e-11 (Mon Mar  8 14:40:10 2021)\n",
      "termination on tolflatfitness=1 (Mon Mar  8 14:40:10 2021)\n",
      "final/bestever f-value = -2.512404e+01 -2.512404e+01\n",
      "incumbent solution: [-48.730126989689566, 94.21911385520933]\n",
      "std deviation: [28.055577324532162, 43.53547035223144]\n",
      "BO Round 43\n"
     ]
    },
    {
     "name": "stderr",
     "output_type": "stream",
     "text": [
      "[INFO-wrappers_bo-03/08/2021-14:40:10] str_cov: matern52\n",
      "[INFO-wrappers_bo-03/08/2021-14:40:10] str_acq: ei\n",
      "[INFO-wrappers_bo-03/08/2021-14:40:10] str_optimizer_method_gp: BFGS\n",
      "[INFO-wrappers_bo-03/08/2021-14:40:10] str_optimizer_method_bo: CMA-ES\n",
      "[INFO-wrappers_bo-03/08/2021-14:40:10] str_modelselection_method: ml\n",
      "[INFO-wrappers_bo-03/08/2021-14:40:10] num_init: 8\n",
      "[INFO-wrappers_bo-03/08/2021-14:40:10] num_iter: 5\n",
      "[INFO-wrappers_bo-03/08/2021-14:40:10] str_initial_method_bo: uniform\n",
      "[INFO-wrappers_bo-03/08/2021-14:40:10] str_sampling_method_ao: uniform\n",
      "[INFO-wrappers_bo-03/08/2021-14:40:10] num_samples_ao: 100\n",
      "[INFO-wrappers_bo-03/08/2021-14:40:10] str_mlm_method: regular\n",
      "[INFO-wrappers_bo-03/08/2021-14:40:10] seed: None\n",
      "[INFO-wrappers_bo-03/08/2021-14:40:10] Iteration 1\n",
      "[DEBUG-bo-03/08/2021-14:40:10] num_samples is ignored.\n"
     ]
    },
    {
     "name": "stdout",
     "output_type": "stream",
     "text": [
      "Iterat #Fevals   function value  axis ratio  sigma  min&max std  t[m:s]\n",
      "    1      6 -1.781651592310619e+01 1.0e+00 4.16e+01  4e+01  4e+01 0:00.0\n"
     ]
    },
    {
     "name": "stderr",
     "output_type": "stream",
     "text": [
      "[INFO-wrappers_bo-03/08/2021-14:40:10] Iteration 2\n"
     ]
    },
    {
     "name": "stdout",
     "output_type": "stream",
     "text": [
      "termination on tolfun=1e-11 (Mon Mar  8 14:40:10 2021)\n",
      "final/bestever f-value = -1.781652e+01 -1.781652e+01\n",
      "incumbent solution: [-76.53650911449779, -72.3723205555356]\n",
      "std deviation: [35.98660852126034, 38.66236639070542]\n"
     ]
    },
    {
     "name": "stderr",
     "output_type": "stream",
     "text": [
      "[DEBUG-bo-03/08/2021-14:40:10] num_samples is ignored.\n"
     ]
    },
    {
     "name": "stdout",
     "output_type": "stream",
     "text": [
      "Iterat #Fevals   function value  axis ratio  sigma  min&max std  t[m:s]\n",
      "    1      6 -2.081547978602088e+01 1.0e+00 4.18e+01  4e+01  4e+01 0:00.0\n",
      "    2     12 -2.081547978602088e+01 1.2e+00 6.47e+01  5e+01  7e+01 0:00.0\n",
      "    3     18 -2.081547978602088e+01 1.5e+00 7.20e+01  6e+01  8e+01 0:00.0\n",
      "    4     24 -2.081547978602088e+01 1.6e+00 5.41e+01  4e+01  5e+01 0:00.0\n"
     ]
    },
    {
     "name": "stderr",
     "output_type": "stream",
     "text": [
      "[INFO-wrappers_bo-03/08/2021-14:40:10] Iteration 3\n",
      "[DEBUG-bo-03/08/2021-14:40:10] num_samples is ignored.\n"
     ]
    },
    {
     "name": "stdout",
     "output_type": "stream",
     "text": [
      "termination on tolfun=1e-11 (Mon Mar  8 14:40:10 2021)\n",
      "final/bestever f-value = -2.081548e+01 -2.081548e+01\n",
      "incumbent solution: [5.6237951094749725, -5.19240357066743]\n",
      "std deviation: [41.44551590199751, 49.84629768044501]\n",
      "Iterat #Fevals   function value  axis ratio  sigma  min&max std  t[m:s]\n",
      "    1      6 -2.014058052394563e+01 1.0e+00 3.94e+01  3e+01  4e+01 0:00.0\n",
      "termination on tolfun=1e-11 (Mon Mar  8 14:40:10 2021)\n",
      "final/bestever f-value = -2.014058e+01 -2.014058e+01\n",
      "incumbent solution: [61.471089229040956, -78.34302113423821]\n",
      "std deviation: [32.37658740156338, 38.99213480309834]\n"
     ]
    },
    {
     "name": "stderr",
     "output_type": "stream",
     "text": [
      "[INFO-wrappers_bo-03/08/2021-14:40:10] Iteration 4\n",
      "[DEBUG-bo-03/08/2021-14:40:10] num_samples is ignored.\n"
     ]
    },
    {
     "name": "stdout",
     "output_type": "stream",
     "text": [
      "Iterat #Fevals   function value  axis ratio  sigma  min&max std  t[m:s]\n",
      "    1      6 -1.955077769417602e+01 1.0e+00 4.94e+01  5e+01  5e+01 0:00.0\n",
      "    2     12 -1.955077769417602e+01 1.2e+00 6.52e+01  6e+01  9e+01 0:00.0\n",
      "    3     18 -1.955077769417602e+01 1.9e+00 6.83e+01  6e+01  9e+01 0:00.0\n"
     ]
    },
    {
     "name": "stderr",
     "output_type": "stream",
     "text": [
      "[INFO-wrappers_bo-03/08/2021-14:40:10] Iteration 5\n",
      "[DEBUG-bo-03/08/2021-14:40:10] num_samples is ignored.\n"
     ]
    },
    {
     "name": "stdout",
     "output_type": "stream",
     "text": [
      "termination on tolfun=1e-11 (Mon Mar  8 14:40:10 2021)\n",
      "final/bestever f-value = -1.955078e+01 -1.955078e+01\n",
      "incumbent solution: [82.93550128302925, -99.99082390610258]\n",
      "std deviation: [58.23105558530753, 88.38807198445406]\n",
      "Iterat #Fevals   function value  axis ratio  sigma  min&max std  t[m:s]\n",
      "    1      6 -1.883994607876174e+01 1.0e+00 5.31e+01  5e+01  6e+01 0:00.0\n"
     ]
    },
    {
     "name": "stderr",
     "output_type": "stream",
     "text": [
      "[INFO-wrappers_bo-03/08/2021-14:40:10] range_X:\n",
      "[[-100, 100],\n",
      "[-100, 100]]\n",
      "[INFO-wrappers_bo-03/08/2021-14:40:10] str_cov: matern52\n"
     ]
    },
    {
     "name": "stdout",
     "output_type": "stream",
     "text": [
      "termination on tolfun=1e-11 (Mon Mar  8 14:40:10 2021)\n",
      "final/bestever f-value = -1.883995e+01 -1.883995e+01\n",
      "incumbent solution: [-73.1261151892147, -19.635123662261094]\n",
      "std deviation: [48.15629430330687, 58.54289129147301]\n",
      "BO Round 44\n"
     ]
    },
    {
     "name": "stderr",
     "output_type": "stream",
     "text": [
      "[INFO-wrappers_bo-03/08/2021-14:40:10] str_acq: ei\n",
      "[INFO-wrappers_bo-03/08/2021-14:40:10] str_optimizer_method_gp: BFGS\n",
      "[INFO-wrappers_bo-03/08/2021-14:40:10] str_optimizer_method_bo: CMA-ES\n",
      "[INFO-wrappers_bo-03/08/2021-14:40:10] str_modelselection_method: ml\n",
      "[INFO-wrappers_bo-03/08/2021-14:40:10] num_init: 10\n",
      "[INFO-wrappers_bo-03/08/2021-14:40:10] num_iter: 4\n",
      "[INFO-wrappers_bo-03/08/2021-14:40:10] str_initial_method_bo: uniform\n",
      "[INFO-wrappers_bo-03/08/2021-14:40:10] str_sampling_method_ao: uniform\n",
      "[INFO-wrappers_bo-03/08/2021-14:40:10] num_samples_ao: 100\n",
      "[INFO-wrappers_bo-03/08/2021-14:40:10] str_mlm_method: regular\n",
      "[INFO-wrappers_bo-03/08/2021-14:40:10] seed: None\n",
      "[INFO-wrappers_bo-03/08/2021-14:40:10] Iteration 1\n",
      "[DEBUG-bo-03/08/2021-14:40:10] num_samples is ignored.\n"
     ]
    },
    {
     "name": "stdout",
     "output_type": "stream",
     "text": [
      "Iterat #Fevals   function value  axis ratio  sigma  min&max std  t[m:s]\n",
      "    1      6 -2.604579349112085e+01 1.0e+00 3.83e+01  3e+01  4e+01 0:00.0\n"
     ]
    },
    {
     "name": "stderr",
     "output_type": "stream",
     "text": [
      "[INFO-wrappers_bo-03/08/2021-14:40:10] Iteration 2\n"
     ]
    },
    {
     "name": "stdout",
     "output_type": "stream",
     "text": [
      "termination on tolfun=1e-11 (Mon Mar  8 14:40:10 2021)\n",
      "final/bestever f-value = -2.604579e+01 -2.604579e+01\n",
      "incumbent solution: [-84.8578925653821, -99.80759679158392]\n",
      "std deviation: [30.90268526537201, 36.93100721983]\n"
     ]
    },
    {
     "name": "stderr",
     "output_type": "stream",
     "text": [
      "[DEBUG-bo-03/08/2021-14:40:10] num_samples is ignored.\n"
     ]
    },
    {
     "name": "stdout",
     "output_type": "stream",
     "text": [
      "Iterat #Fevals   function value  axis ratio  sigma  min&max std  t[m:s]\n",
      "    1      6 -2.689100008658800e+01 1.0e+00 5.74e+01  5e+01  6e+01 0:00.0\n"
     ]
    },
    {
     "name": "stderr",
     "output_type": "stream",
     "text": [
      "[INFO-wrappers_bo-03/08/2021-14:40:10] Iteration 3\n"
     ]
    },
    {
     "name": "stdout",
     "output_type": "stream",
     "text": [
      "termination on tolfun=1e-11 (Mon Mar  8 14:40:10 2021)\n",
      "final/bestever f-value = -2.689100e+01 -2.689100e+01\n",
      "incumbent solution: [10.853845160522368, 57.31465492961007]\n",
      "std deviation: [54.74879721158542, 64.93439803029668]\n"
     ]
    },
    {
     "name": "stderr",
     "output_type": "stream",
     "text": [
      "[DEBUG-bo-03/08/2021-14:40:10] num_samples is ignored.\n"
     ]
    },
    {
     "name": "stdout",
     "output_type": "stream",
     "text": [
      "Iterat #Fevals   function value  axis ratio  sigma  min&max std  t[m:s]\n",
      "    1      6 -2.606437931938156e+01 1.0e+00 5.45e+01  4e+01  7e+01 0:00.0\n",
      "    2     12 -2.606437931938156e+01 1.5e+00 4.70e+01  4e+01  5e+01 0:00.0\n"
     ]
    },
    {
     "name": "stderr",
     "output_type": "stream",
     "text": [
      "[INFO-wrappers_bo-03/08/2021-14:40:10] Iteration 4\n"
     ]
    },
    {
     "name": "stdout",
     "output_type": "stream",
     "text": [
      "termination on tolfun=1e-11 (Mon Mar  8 14:40:10 2021)\n",
      "final/bestever f-value = -2.606438e+01 -2.606438e+01\n",
      "incumbent solution: [-60.74252321889197, 8.631880982594616]\n",
      "std deviation: [36.408750306354406, 49.32033291080312]\n"
     ]
    },
    {
     "name": "stderr",
     "output_type": "stream",
     "text": [
      "[DEBUG-bo-03/08/2021-14:40:10] num_samples is ignored.\n"
     ]
    },
    {
     "name": "stdout",
     "output_type": "stream",
     "text": [
      "Iterat #Fevals   function value  axis ratio  sigma  min&max std  t[m:s]\n",
      "    1      6 -3.313993574995894e+01 1.0e+00 5.45e+01  5e+01  6e+01 0:00.0\n",
      "    2     12 -3.313993574995894e+01 1.5e+00 7.05e+01  8e+01  1e+02 0:00.0\n",
      "    3     18 -3.313993574995894e+01 2.4e+00 5.97e+01  6e+01  8e+01 0:00.0\n",
      "termination on tolflatfitness=1 (Mon Mar  8 14:40:10 2021)\n",
      "final/bestever f-value = -3.313994e+01 -3.313994e+01\n",
      "incumbent solution: [71.56307111575204, 92.00849239395589]\n",
      "std deviation: [55.287193652201886, 82.7352402301043]\n"
     ]
    },
    {
     "name": "stderr",
     "output_type": "stream",
     "text": [
      "[INFO-wrappers_bo-03/08/2021-14:40:10] range_X:\n",
      "[[-100, 100],\n",
      "[-100, 100]]\n",
      "[INFO-wrappers_bo-03/08/2021-14:40:10] str_cov: matern52\n",
      "[INFO-wrappers_bo-03/08/2021-14:40:10] str_acq: ei\n",
      "[INFO-wrappers_bo-03/08/2021-14:40:10] str_optimizer_method_gp: BFGS\n",
      "[INFO-wrappers_bo-03/08/2021-14:40:10] str_optimizer_method_bo: CMA-ES\n",
      "[INFO-wrappers_bo-03/08/2021-14:40:10] str_modelselection_method: ml\n",
      "[INFO-wrappers_bo-03/08/2021-14:40:10] num_init: 8\n"
     ]
    },
    {
     "name": "stdout",
     "output_type": "stream",
     "text": [
      "BO Round 45\n"
     ]
    },
    {
     "name": "stderr",
     "output_type": "stream",
     "text": [
      "[INFO-wrappers_bo-03/08/2021-14:40:10] num_iter: 10\n",
      "[INFO-wrappers_bo-03/08/2021-14:40:10] str_initial_method_bo: uniform\n",
      "[INFO-wrappers_bo-03/08/2021-14:40:10] str_sampling_method_ao: uniform\n",
      "[INFO-wrappers_bo-03/08/2021-14:40:10] num_samples_ao: 100\n",
      "[INFO-wrappers_bo-03/08/2021-14:40:10] str_mlm_method: regular\n",
      "[INFO-wrappers_bo-03/08/2021-14:40:10] seed: None\n",
      "[INFO-wrappers_bo-03/08/2021-14:40:10] Iteration 1\n",
      "[DEBUG-bo-03/08/2021-14:40:10] num_samples is ignored.\n"
     ]
    },
    {
     "name": "stdout",
     "output_type": "stream",
     "text": [
      "Iterat #Fevals   function value  axis ratio  sigma  min&max std  t[m:s]\n",
      "    1      6 -2.263396639421904e+01 1.0e+00 4.67e+01  4e+01  5e+01 0:00.0\n",
      "termination on tolfun=1e-11 (Mon Mar  8 14:40:10 2021)\n",
      "final/bestever f-value = -2.263397e+01 -2.263397e+01\n",
      "incumbent solution: [97.97931520287993, 60.964604409835125]\n",
      "std deviation: [40.78786545234984, 47.66174903770224]\n"
     ]
    },
    {
     "name": "stderr",
     "output_type": "stream",
     "text": [
      "[INFO-wrappers_bo-03/08/2021-14:40:10] Iteration 2\n",
      "[DEBUG-bo-03/08/2021-14:40:10] num_samples is ignored.\n"
     ]
    },
    {
     "name": "stdout",
     "output_type": "stream",
     "text": [
      "Iterat #Fevals   function value  axis ratio  sigma  min&max std  t[m:s]\n",
      "    1      6 -1.428225464381199e+01 1.0e+00 5.07e+01  5e+01  5e+01 0:00.0\n",
      "    2     12 -1.428225464381199e+01 1.1e+00 5.18e+01  5e+01  5e+01 0:00.0\n"
     ]
    },
    {
     "name": "stderr",
     "output_type": "stream",
     "text": [
      "[INFO-wrappers_bo-03/08/2021-14:40:11] Iteration 3\n"
     ]
    },
    {
     "name": "stdout",
     "output_type": "stream",
     "text": [
      "termination on tolfun=1e-11 (Mon Mar  8 14:40:11 2021)\n",
      "termination on tolflatfitness=1 (Mon Mar  8 14:40:11 2021)\n",
      "final/bestever f-value = -1.428225e+01 -1.428225e+01\n",
      "incumbent solution: [-99.94706293296817, 90.527149690739]\n",
      "std deviation: [50.75175248253933, 52.04903837152439]\n"
     ]
    },
    {
     "name": "stderr",
     "output_type": "stream",
     "text": [
      "[DEBUG-bo-03/08/2021-14:40:11] num_samples is ignored.\n"
     ]
    },
    {
     "name": "stdout",
     "output_type": "stream",
     "text": [
      "Iterat #Fevals   function value  axis ratio  sigma  min&max std  t[m:s]\n",
      "    1      6 -1.477962000698012e+01 1.0e+00 4.61e+01  4e+01  4e+01 0:00.0\n",
      "termination on tolfun=1e-11 (Mon Mar  8 14:40:11 2021)\n",
      "final/bestever f-value = -1.477962e+01 -1.477962e+01\n",
      "incumbent solution: [-53.624528622733976, 48.1411305732742]\n",
      "std deviation: [43.61898131058518, 42.29730393600128]\n"
     ]
    },
    {
     "name": "stderr",
     "output_type": "stream",
     "text": [
      "[INFO-wrappers_bo-03/08/2021-14:40:11] Iteration 4\n",
      "[DEBUG-bo-03/08/2021-14:40:11] num_samples is ignored.\n"
     ]
    },
    {
     "name": "stdout",
     "output_type": "stream",
     "text": [
      "Iterat #Fevals   function value  axis ratio  sigma  min&max std  t[m:s]\n",
      "    1      6 -1.423789932556303e+01 1.0e+00 3.89e+01  4e+01  4e+01 0:00.0\n",
      "    2     12 -1.423789932556303e+01 1.1e+00 3.33e+01  3e+01  3e+01 0:00.0\n"
     ]
    },
    {
     "name": "stderr",
     "output_type": "stream",
     "text": [
      "[INFO-wrappers_bo-03/08/2021-14:40:11] Iteration 5\n"
     ]
    },
    {
     "name": "stdout",
     "output_type": "stream",
     "text": [
      "termination on tolfun=1e-11 (Mon Mar  8 14:40:11 2021)\n",
      "final/bestever f-value = -1.423790e+01 -1.423790e+01\n",
      "incumbent solution: [92.46204040598222, 31.635065194627337]\n",
      "std deviation: [28.868674314802533, 27.29980035632741]\n"
     ]
    },
    {
     "name": "stderr",
     "output_type": "stream",
     "text": [
      "[DEBUG-bo-03/08/2021-14:40:11] num_samples is ignored.\n"
     ]
    },
    {
     "name": "stdout",
     "output_type": "stream",
     "text": [
      "Iterat #Fevals   function value  axis ratio  sigma  min&max std  t[m:s]\n",
      "    1      6 -1.373761060021796e+01 1.0e+00 5.15e+01  5e+01  5e+01 0:00.0\n",
      "    2     12 -1.373761060021796e+01 1.4e+00 4.84e+01  4e+01  5e+01 0:00.0\n",
      "termination on tolfun=1e-11 (Mon Mar  8 14:40:11 2021)\n",
      "final/bestever f-value = -1.373761e+01 -1.373761e+01\n",
      "incumbent solution: [68.74567580605185, 6.743735460865846]\n",
      "std deviation: [36.09561412870755, 51.577475785311194]\n"
     ]
    },
    {
     "name": "stderr",
     "output_type": "stream",
     "text": [
      "[INFO-wrappers_bo-03/08/2021-14:40:11] Iteration 6\n",
      "[DEBUG-bo-03/08/2021-14:40:11] num_samples is ignored.\n"
     ]
    },
    {
     "name": "stdout",
     "output_type": "stream",
     "text": [
      "Iterat #Fevals   function value  axis ratio  sigma  min&max std  t[m:s]\n",
      "    1      6 -2.062049096120438e+01 1.0e+00 6.01e+01  6e+01  7e+01 0:00.0\n",
      "    2     12 -2.062049096120438e+01 1.4e+00 7.54e+01  8e+01  9e+01 0:00.0\n"
     ]
    },
    {
     "name": "stderr",
     "output_type": "stream",
     "text": [
      "[INFO-wrappers_bo-03/08/2021-14:40:11] Iteration 7\n",
      "[DEBUG-bo-03/08/2021-14:40:11] num_samples is ignored.\n"
     ]
    },
    {
     "name": "stdout",
     "output_type": "stream",
     "text": [
      "termination on tolfun=1e-11 (Mon Mar  8 14:40:11 2021)\n",
      "termination on tolflatfitness=1 (Mon Mar  8 14:40:11 2021)\n",
      "final/bestever f-value = -2.062049e+01 -2.062049e+01\n",
      "incumbent solution: [89.38716211111196, -35.8400649801129]\n",
      "std deviation: [94.0577479894281, 81.49560748163509]\n",
      "Iterat #Fevals   function value  axis ratio  sigma  min&max std  t[m:s]\n",
      "    1      6 -2.069159276294314e+01 1.0e+00 5.35e+01  5e+01  6e+01 0:00.0\n",
      "    2     12 -2.069159276294314e+01 1.3e+00 5.33e+01  4e+01  6e+01 0:00.0\n"
     ]
    },
    {
     "name": "stderr",
     "output_type": "stream",
     "text": [
      "[INFO-wrappers_bo-03/08/2021-14:40:11] Iteration 8\n"
     ]
    },
    {
     "name": "stdout",
     "output_type": "stream",
     "text": [
      "termination on tolfun=1e-11 (Mon Mar  8 14:40:11 2021)\n",
      "final/bestever f-value = -2.069159e+01 -2.069159e+01\n",
      "incumbent solution: [16.679031133561313, 99.56117964082078]\n",
      "std deviation: [44.75876698138332, 58.28086210363986]\n"
     ]
    },
    {
     "name": "stderr",
     "output_type": "stream",
     "text": [
      "[DEBUG-bo-03/08/2021-14:40:11] num_samples is ignored.\n"
     ]
    },
    {
     "name": "stdout",
     "output_type": "stream",
     "text": [
      "Iterat #Fevals   function value  axis ratio  sigma  min&max std  t[m:s]\n",
      "    1      6 -2.044942159036895e+01 1.0e+00 6.08e+01  5e+01  8e+01 0:00.0\n",
      "    2     12 -2.044942159036895e+01 1.6e+00 4.97e+01  4e+01  5e+01 0:00.0\n"
     ]
    },
    {
     "name": "stderr",
     "output_type": "stream",
     "text": [
      "[INFO-wrappers_bo-03/08/2021-14:40:11] Iteration 9\n"
     ]
    },
    {
     "name": "stdout",
     "output_type": "stream",
     "text": [
      "termination on tolfun=1e-11 (Mon Mar  8 14:40:11 2021)\n",
      "final/bestever f-value = -2.044942e+01 -2.044942e+01\n",
      "incumbent solution: [91.88400550353812, 39.90178775238901]\n",
      "std deviation: [43.8513403661501, 51.067549768732015]\n"
     ]
    },
    {
     "name": "stderr",
     "output_type": "stream",
     "text": [
      "[DEBUG-bo-03/08/2021-14:40:11] num_samples is ignored.\n"
     ]
    },
    {
     "name": "stdout",
     "output_type": "stream",
     "text": [
      "Iterat #Fevals   function value  axis ratio  sigma  min&max std  t[m:s]\n",
      "    1      6 -2.004260985653209e+01 1.0e+00 3.85e+01  3e+01  4e+01 0:00.0\n",
      "    2     12 -2.004260985653209e+01 1.2e+00 5.70e+01  5e+01  6e+01 0:00.0\n"
     ]
    },
    {
     "name": "stderr",
     "output_type": "stream",
     "text": [
      "[INFO-wrappers_bo-03/08/2021-14:40:11] Iteration 10\n"
     ]
    },
    {
     "name": "stdout",
     "output_type": "stream",
     "text": [
      "termination on tolfun=1e-11 (Mon Mar  8 14:40:11 2021)\n",
      "final/bestever f-value = -2.004261e+01 -2.004261e+01\n",
      "incumbent solution: [-72.28521759277362, 59.499470635390296]\n",
      "std deviation: [56.925988166010484, 49.0964443641214]\n"
     ]
    },
    {
     "name": "stderr",
     "output_type": "stream",
     "text": [
      "[DEBUG-bo-03/08/2021-14:40:11] num_samples is ignored.\n"
     ]
    },
    {
     "name": "stdout",
     "output_type": "stream",
     "text": [
      "Iterat #Fevals   function value  axis ratio  sigma  min&max std  t[m:s]\n",
      "    1      6 -2.025606162122593e+01 1.0e+00 4.65e+01  4e+01  4e+01 0:00.0\n",
      "    2     12 -2.025606162122593e+01 1.1e+00 6.21e+01  6e+01  7e+01 0:00.0\n"
     ]
    },
    {
     "name": "stderr",
     "output_type": "stream",
     "text": [
      "[INFO-wrappers_bo-03/08/2021-14:40:11] range_X:\n",
      "[[-100, 100],\n",
      "[-100, 100]]\n"
     ]
    },
    {
     "name": "stdout",
     "output_type": "stream",
     "text": [
      "termination on tolfun=1e-11 (Mon Mar  8 14:40:11 2021)\n",
      "final/bestever f-value = -2.025606e+01 -2.025606e+01\n",
      "incumbent solution: [-1.9601845164893419, -9.333563848204335]\n",
      "std deviation: [58.57384734564906, 74.33060897451375]\n",
      "BO Round 46\n"
     ]
    },
    {
     "name": "stderr",
     "output_type": "stream",
     "text": [
      "[INFO-wrappers_bo-03/08/2021-14:40:11] str_cov: matern52\n",
      "[INFO-wrappers_bo-03/08/2021-14:40:11] str_acq: ei\n",
      "[INFO-wrappers_bo-03/08/2021-14:40:11] str_optimizer_method_gp: BFGS\n",
      "[INFO-wrappers_bo-03/08/2021-14:40:11] str_optimizer_method_bo: CMA-ES\n",
      "[INFO-wrappers_bo-03/08/2021-14:40:11] str_modelselection_method: ml\n",
      "[INFO-wrappers_bo-03/08/2021-14:40:11] num_init: 5\n",
      "[INFO-wrappers_bo-03/08/2021-14:40:11] num_iter: 8\n",
      "[INFO-wrappers_bo-03/08/2021-14:40:11] str_initial_method_bo: uniform\n",
      "[INFO-wrappers_bo-03/08/2021-14:40:11] str_sampling_method_ao: uniform\n",
      "[INFO-wrappers_bo-03/08/2021-14:40:11] num_samples_ao: 100\n",
      "[INFO-wrappers_bo-03/08/2021-14:40:11] str_mlm_method: regular\n",
      "[INFO-wrappers_bo-03/08/2021-14:40:11] seed: None\n",
      "[INFO-wrappers_bo-03/08/2021-14:40:11] Iteration 1\n",
      "[DEBUG-bo-03/08/2021-14:40:11] num_samples is ignored.\n"
     ]
    },
    {
     "name": "stdout",
     "output_type": "stream",
     "text": [
      "Iterat #Fevals   function value  axis ratio  sigma  min&max std  t[m:s]\n",
      "    1      6 -2.458028531262828e+01 1.0e+00 3.80e+01  3e+01  4e+01 0:00.0\n"
     ]
    },
    {
     "name": "stderr",
     "output_type": "stream",
     "text": [
      "[INFO-wrappers_bo-03/08/2021-14:40:11] Iteration 2\n"
     ]
    },
    {
     "name": "stdout",
     "output_type": "stream",
     "text": [
      "termination on tolfun=1e-11 (Mon Mar  8 14:40:11 2021)\n",
      "final/bestever f-value = -2.458029e+01 -2.458029e+01\n",
      "incumbent solution: [50.85757133925304, -52.77720565666838]\n",
      "std deviation: [30.057093930832778, 37.14954577202213]\n"
     ]
    },
    {
     "name": "stderr",
     "output_type": "stream",
     "text": [
      "[DEBUG-bo-03/08/2021-14:40:11] num_samples is ignored.\n"
     ]
    },
    {
     "name": "stdout",
     "output_type": "stream",
     "text": [
      "Iterat #Fevals   function value  axis ratio  sigma  min&max std  t[m:s]\n",
      "    1      6 -2.372187823129196e+01 1.0e+00 5.16e+01  5e+01  5e+01 0:00.0\n",
      "    2     12 -2.372187823129196e+01 1.3e+00 6.16e+01  5e+01  8e+01 0:00.0\n",
      "termination on tolflatfitness=1 (Mon Mar  8 14:40:11 2021)\n",
      "final/bestever f-value = -2.372188e+01 -2.372188e+01\n",
      "incumbent solution: [-11.197582016835206, 24.380192841446814]\n",
      "std deviation: [52.98472068274421, 78.6542373250458]\n"
     ]
    },
    {
     "name": "stderr",
     "output_type": "stream",
     "text": [
      "[INFO-wrappers_bo-03/08/2021-14:40:11] Iteration 3\n",
      "[DEBUG-bo-03/08/2021-14:40:11] num_samples is ignored.\n"
     ]
    },
    {
     "name": "stdout",
     "output_type": "stream",
     "text": [
      "Iterat #Fevals   function value  axis ratio  sigma  min&max std  t[m:s]\n",
      "    1      6 -2.224791785461300e+01 1.0e+00 6.60e+01  6e+01  9e+01 0:00.0\n",
      "termination on tolfun=1e-11 (Mon Mar  8 14:40:11 2021)\n",
      "final/bestever f-value = -2.224792e+01 -2.224792e+01\n",
      "incumbent solution: [-49.28501701827474, 69.54773609179055]\n",
      "std deviation: [64.37243790799616, 87.33436715385118]\n"
     ]
    },
    {
     "name": "stderr",
     "output_type": "stream",
     "text": [
      "[INFO-wrappers_bo-03/08/2021-14:40:11] Iteration 4\n",
      "[DEBUG-bo-03/08/2021-14:40:11] num_samples is ignored.\n"
     ]
    },
    {
     "name": "stdout",
     "output_type": "stream",
     "text": [
      "Iterat #Fevals   function value  axis ratio  sigma  min&max std  t[m:s]\n",
      "    1      6 -2.513102235572431e+01 1.0e+00 3.96e+01  4e+01  4e+01 0:00.0\n",
      "    2     12 -2.513102235572431e+01 1.1e+00 3.59e+01  3e+01  3e+01 0:00.0\n",
      "    3     18 -2.513102235572431e+01 1.1e+00 3.15e+01  3e+01  3e+01 0:00.0\n",
      "    5     30 -2.513102235572431e+01 1.6e+00 2.26e+01  2e+01  2e+01 0:00.0\n"
     ]
    },
    {
     "name": "stderr",
     "output_type": "stream",
     "text": [
      "[INFO-wrappers_bo-03/08/2021-14:40:11] Iteration 5\n",
      "[DEBUG-bo-03/08/2021-14:40:11] num_samples is ignored.\n"
     ]
    },
    {
     "name": "stdout",
     "output_type": "stream",
     "text": [
      "termination on tolfun=1e-11 (Mon Mar  8 14:40:11 2021)\n",
      "final/bestever f-value = -2.513102e+01 -2.513102e+01\n",
      "incumbent solution: [-77.7662566110191, 65.76706634741703]\n",
      "std deviation: [15.524637861251817, 19.11068405501092]\n",
      "Iterat #Fevals   function value  axis ratio  sigma  min&max std  t[m:s]\n",
      "    1      6 -2.406662426141457e+01 1.0e+00 6.00e+01  6e+01  6e+01 0:00.0\n"
     ]
    },
    {
     "name": "stderr",
     "output_type": "stream",
     "text": [
      "[INFO-wrappers_bo-03/08/2021-14:40:11] Iteration 6\n"
     ]
    },
    {
     "name": "stdout",
     "output_type": "stream",
     "text": [
      "termination on tolfun=1e-11 (Mon Mar  8 14:40:11 2021)\n",
      "final/bestever f-value = -2.406662e+01 -2.406662e+01\n",
      "incumbent solution: [-4.556709609001757, 28.315168460742264]\n",
      "std deviation: [64.87102136919007, 64.10965943023261]\n"
     ]
    },
    {
     "name": "stderr",
     "output_type": "stream",
     "text": [
      "[DEBUG-bo-03/08/2021-14:40:11] num_samples is ignored.\n"
     ]
    },
    {
     "name": "stdout",
     "output_type": "stream",
     "text": [
      "Iterat #Fevals   function value  axis ratio  sigma  min&max std  t[m:s]\n",
      "    1      6 -2.317294004167038e+01 1.0e+00 3.71e+01  3e+01  3e+01 0:00.0\n"
     ]
    },
    {
     "name": "stderr",
     "output_type": "stream",
     "text": [
      "[INFO-wrappers_bo-03/08/2021-14:40:11] Iteration 7\n"
     ]
    },
    {
     "name": "stdout",
     "output_type": "stream",
     "text": [
      "termination on tolfun=1e-11 (Mon Mar  8 14:40:11 2021)\n",
      "final/bestever f-value = -2.317294e+01 -2.317294e+01\n",
      "incumbent solution: [-43.68293912523342, -32.07256300209736]\n",
      "std deviation: [30.10057012981781, 34.828225023271315]\n"
     ]
    },
    {
     "name": "stderr",
     "output_type": "stream",
     "text": [
      "[DEBUG-bo-03/08/2021-14:40:11] num_samples is ignored.\n"
     ]
    },
    {
     "name": "stdout",
     "output_type": "stream",
     "text": [
      "Iterat #Fevals   function value  axis ratio  sigma  min&max std  t[m:s]\n",
      "    1      6 -2.371503316793886e+01 1.0e+00 4.66e+01  4e+01  5e+01 0:00.0\n",
      "    2     12 -2.371503316793886e+01 1.2e+00 5.48e+01  5e+01  6e+01 0:00.0\n",
      "    3     18 -2.371503316793886e+01 1.3e+00 7.18e+01  8e+01  8e+01 0:00.0\n",
      "termination on tolflatfitness=1 (Mon Mar  8 14:40:11 2021)\n",
      "final/bestever f-value = -2.371503e+01 -2.371503e+01\n",
      "incumbent solution: [-99.6095809988128, -82.96536474039502]\n",
      "std deviation: [76.62819873862377, 82.35367546258664]\n"
     ]
    },
    {
     "name": "stderr",
     "output_type": "stream",
     "text": [
      "[INFO-wrappers_bo-03/08/2021-14:40:11] Iteration 8\n",
      "[DEBUG-bo-03/08/2021-14:40:11] num_samples is ignored.\n"
     ]
    },
    {
     "name": "stdout",
     "output_type": "stream",
     "text": [
      "Iterat #Fevals   function value  axis ratio  sigma  min&max std  t[m:s]\n",
      "    1      6 -2.342622929026780e+01 1.0e+00 4.84e+01  4e+01  5e+01 0:00.0\n",
      "    2     12 -2.342622929026780e+01 1.3e+00 5.51e+01  5e+01  6e+01 0:00.0\n"
     ]
    },
    {
     "name": "stderr",
     "output_type": "stream",
     "text": [
      "[INFO-wrappers_bo-03/08/2021-14:40:11] range_X:\n",
      "[[-100, 100],\n",
      "[-100, 100]]\n",
      "[INFO-wrappers_bo-03/08/2021-14:40:11] str_cov: matern52\n",
      "[INFO-wrappers_bo-03/08/2021-14:40:11] str_acq: ei\n",
      "[INFO-wrappers_bo-03/08/2021-14:40:11] str_optimizer_method_gp: BFGS\n",
      "[INFO-wrappers_bo-03/08/2021-14:40:11] str_optimizer_method_bo: CMA-ES\n",
      "[INFO-wrappers_bo-03/08/2021-14:40:11] str_modelselection_method: ml\n",
      "[INFO-wrappers_bo-03/08/2021-14:40:11] num_init: 2\n",
      "[INFO-wrappers_bo-03/08/2021-14:40:11] num_iter: 4\n",
      "[INFO-wrappers_bo-03/08/2021-14:40:11] str_initial_method_bo: uniform\n",
      "[INFO-wrappers_bo-03/08/2021-14:40:11] str_sampling_method_ao: uniform\n",
      "[INFO-wrappers_bo-03/08/2021-14:40:11] num_samples_ao: 100\n",
      "[INFO-wrappers_bo-03/08/2021-14:40:11] str_mlm_method: regular\n",
      "[INFO-wrappers_bo-03/08/2021-14:40:11] seed: None\n",
      "[INFO-wrappers_bo-03/08/2021-14:40:11] Iteration 1\n"
     ]
    },
    {
     "name": "stdout",
     "output_type": "stream",
     "text": [
      "termination on tolfun=1e-11 (Mon Mar  8 14:40:11 2021)\n",
      "final/bestever f-value = -2.342623e+01 -2.342623e+01\n",
      "incumbent solution: [99.93788265002031, -95.1599081097909]\n",
      "std deviation: [59.35119825974756, 49.553066903044474]\n",
      "BO Round 47\n"
     ]
    },
    {
     "name": "stderr",
     "output_type": "stream",
     "text": [
      "[DEBUG-bo-03/08/2021-14:40:11] num_samples is ignored.\n"
     ]
    },
    {
     "name": "stdout",
     "output_type": "stream",
     "text": [
      "Iterat #Fevals   function value  axis ratio  sigma  min&max std  t[m:s]\n",
      "    1      6 -2.820848170587727e+01 1.0e+00 4.95e+01  4e+01  5e+01 0:00.0\n"
     ]
    },
    {
     "name": "stderr",
     "output_type": "stream",
     "text": [
      "[INFO-wrappers_bo-03/08/2021-14:40:11] Iteration 2\n"
     ]
    },
    {
     "name": "stdout",
     "output_type": "stream",
     "text": [
      "termination on tolfun=1e-11 (Mon Mar  8 14:40:11 2021)\n",
      "final/bestever f-value = -2.820848e+01 -2.820848e+01\n",
      "incumbent solution: [-41.13845162213918, 4.022062829245954]\n",
      "std deviation: [43.124853489273406, 52.67448255050375]\n"
     ]
    },
    {
     "name": "stderr",
     "output_type": "stream",
     "text": [
      "[DEBUG-bo-03/08/2021-14:40:11] num_samples is ignored.\n"
     ]
    },
    {
     "name": "stdout",
     "output_type": "stream",
     "text": [
      "Iterat #Fevals   function value  axis ratio  sigma  min&max std  t[m:s]\n",
      "    1      6 -2.619655409160448e+01 1.0e+00 3.77e+01  3e+01  4e+01 0:00.0\n"
     ]
    },
    {
     "name": "stderr",
     "output_type": "stream",
     "text": [
      "[INFO-wrappers_bo-03/08/2021-14:40:11] Iteration 3\n"
     ]
    },
    {
     "name": "stdout",
     "output_type": "stream",
     "text": [
      "termination on tolfun=1e-11 (Mon Mar  8 14:40:11 2021)\n",
      "final/bestever f-value = -2.619655e+01 -2.619655e+01\n",
      "incumbent solution: [-40.38650716547301, -71.56086538786396]\n",
      "std deviation: [35.54784666648737, 32.81304611164121]\n"
     ]
    },
    {
     "name": "stderr",
     "output_type": "stream",
     "text": [
      "[DEBUG-bo-03/08/2021-14:40:11] num_samples is ignored.\n"
     ]
    },
    {
     "name": "stdout",
     "output_type": "stream",
     "text": [
      "Iterat #Fevals   function value  axis ratio  sigma  min&max std  t[m:s]\n",
      "    1      6 -2.383311271367617e+01 1.0e+00 4.10e+01  3e+01  4e+01 0:00.0\n"
     ]
    },
    {
     "name": "stderr",
     "output_type": "stream",
     "text": [
      "[INFO-wrappers_bo-03/08/2021-14:40:11] Iteration 4\n",
      "[DEBUG-bo-03/08/2021-14:40:11] num_samples is ignored.\n"
     ]
    },
    {
     "name": "stdout",
     "output_type": "stream",
     "text": [
      "termination on tolfun=1e-11 (Mon Mar  8 14:40:11 2021)\n",
      "final/bestever f-value = -2.383311e+01 -2.383311e+01\n",
      "incumbent solution: [74.24004495093537, 0.364036564863639]\n",
      "std deviation: [40.95793651343385, 32.65089997986688]\n",
      "Iterat #Fevals   function value  axis ratio  sigma  min&max std  t[m:s]\n",
      "    1      6 -2.296082108848163e+01 1.0e+00 4.02e+01  4e+01  4e+01 0:00.0\n"
     ]
    },
    {
     "name": "stderr",
     "output_type": "stream",
     "text": [
      "[INFO-wrappers_bo-03/08/2021-14:40:11] range_X:\n",
      "[[-100, 100],\n",
      "[-100, 100]]\n",
      "[INFO-wrappers_bo-03/08/2021-14:40:11] str_cov: matern52\n",
      "[INFO-wrappers_bo-03/08/2021-14:40:11] str_acq: ei\n",
      "[INFO-wrappers_bo-03/08/2021-14:40:11] str_optimizer_method_gp: BFGS\n",
      "[INFO-wrappers_bo-03/08/2021-14:40:11] str_optimizer_method_bo: CMA-ES\n",
      "[INFO-wrappers_bo-03/08/2021-14:40:11] str_modelselection_method: ml\n",
      "[INFO-wrappers_bo-03/08/2021-14:40:11] num_init: 8\n",
      "[INFO-wrappers_bo-03/08/2021-14:40:11] num_iter: 5\n",
      "[INFO-wrappers_bo-03/08/2021-14:40:11] str_initial_method_bo: uniform\n",
      "[INFO-wrappers_bo-03/08/2021-14:40:11] str_sampling_method_ao: uniform\n",
      "[INFO-wrappers_bo-03/08/2021-14:40:11] num_samples_ao: 100\n",
      "[INFO-wrappers_bo-03/08/2021-14:40:11] str_mlm_method: regular\n"
     ]
    },
    {
     "name": "stdout",
     "output_type": "stream",
     "text": [
      "termination on tolfun=1e-11 (Mon Mar  8 14:40:11 2021)\n",
      "final/bestever f-value = -2.296082e+01 -2.296082e+01\n",
      "incumbent solution: [69.09690132276502, -61.91109909758529]\n",
      "std deviation: [35.22970652555695, 38.41561887004578]\n",
      "BO Round 48\n"
     ]
    },
    {
     "name": "stderr",
     "output_type": "stream",
     "text": [
      "[INFO-wrappers_bo-03/08/2021-14:40:11] seed: None\n",
      "[INFO-wrappers_bo-03/08/2021-14:40:11] Iteration 1\n",
      "[DEBUG-bo-03/08/2021-14:40:11] num_samples is ignored.\n"
     ]
    },
    {
     "name": "stdout",
     "output_type": "stream",
     "text": [
      "Iterat #Fevals   function value  axis ratio  sigma  min&max std  t[m:s]\n",
      "    1      6 -3.005723683816313e+01 1.0e+00 4.04e+01  4e+01  4e+01 0:00.0\n"
     ]
    },
    {
     "name": "stderr",
     "output_type": "stream",
     "text": [
      "[INFO-wrappers_bo-03/08/2021-14:40:11] Iteration 2\n",
      "[DEBUG-bo-03/08/2021-14:40:11] num_samples is ignored.\n"
     ]
    },
    {
     "name": "stdout",
     "output_type": "stream",
     "text": [
      "termination on tolfun=1e-11 (Mon Mar  8 14:40:11 2021)\n",
      "final/bestever f-value = -3.005724e+01 -3.005724e+01\n",
      "incumbent solution: [96.541736264351, -38.773057767896454]\n",
      "std deviation: [35.70573682381586, 37.79395943821701]\n",
      "Iterat #Fevals   function value  axis ratio  sigma  min&max std  t[m:s]\n",
      "    1      6 -1.438183025023649e+01 1.0e+00 4.78e+01  4e+01  5e+01 0:00.0\n",
      "termination on tolfun=1e-11 (Mon Mar  8 14:40:11 2021)\n",
      "final/bestever f-value = -1.438183e+01 -1.438183e+01\n",
      "incumbent solution: [5.441171217311741, -8.597785167668981]\n",
      "std deviation: [44.079141878520126, 49.871128521946694]\n"
     ]
    },
    {
     "name": "stderr",
     "output_type": "stream",
     "text": [
      "[INFO-wrappers_bo-03/08/2021-14:40:11] Iteration 3\n",
      "[DEBUG-bo-03/08/2021-14:40:11] num_samples is ignored.\n"
     ]
    },
    {
     "name": "stdout",
     "output_type": "stream",
     "text": [
      "Iterat #Fevals   function value  axis ratio  sigma  min&max std  t[m:s]\n",
      "    1      6 -1.376319665186045e+01 1.0e+00 3.87e+01  3e+01  4e+01 0:00.0\n",
      "    2     12 -1.376319665186045e+01 1.2e+00 4.86e+01  4e+01  6e+01 0:00.0\n",
      "    3     18 -1.376319665186045e+01 1.9e+00 5.44e+01  4e+01  7e+01 0:00.0\n"
     ]
    },
    {
     "name": "stderr",
     "output_type": "stream",
     "text": [
      "[INFO-wrappers_bo-03/08/2021-14:40:11] Iteration 4\n",
      "[DEBUG-bo-03/08/2021-14:40:11] num_samples is ignored.\n"
     ]
    },
    {
     "name": "stdout",
     "output_type": "stream",
     "text": [
      "termination on tolfun=1e-11 (Mon Mar  8 14:40:11 2021)\n",
      "final/bestever f-value = -1.376320e+01 -1.376320e+01\n",
      "incumbent solution: [50.859606715368294, -69.94143668654144]\n",
      "std deviation: [37.90127768600202, 72.18659233390225]\n",
      "Iterat #Fevals   function value  axis ratio  sigma  min&max std  t[m:s]\n",
      "    1      6 -1.315614342046891e+01 1.0e+00 4.77e+01  4e+01  5e+01 0:00.0\n"
     ]
    },
    {
     "name": "stderr",
     "output_type": "stream",
     "text": [
      "[INFO-wrappers_bo-03/08/2021-14:40:11] Iteration 5\n",
      "[DEBUG-bo-03/08/2021-14:40:11] num_samples is ignored.\n"
     ]
    },
    {
     "name": "stdout",
     "output_type": "stream",
     "text": [
      "termination on tolfun=1e-11 (Mon Mar  8 14:40:11 2021)\n",
      "final/bestever f-value = -1.315614e+01 -1.315614e+01\n",
      "incumbent solution: [-4.288454309622626, 1.0840288315870765]\n",
      "std deviation: [44.06121712852761, 50.01372773059767]\n",
      "Iterat #Fevals   function value  axis ratio  sigma  min&max std  t[m:s]\n",
      "    1      6 -1.371430417054718e+01 1.0e+00 4.47e+01  4e+01  4e+01 0:00.0\n",
      "    2     12 -1.371430417054718e+01 1.1e+00 4.32e+01  4e+01  4e+01 0:00.0\n",
      "    3     18 -1.371430417054718e+01 1.1e+00 3.08e+01  2e+01  3e+01 0:00.0\n"
     ]
    },
    {
     "name": "stderr",
     "output_type": "stream",
     "text": [
      "[INFO-wrappers_bo-03/08/2021-14:40:11] range_X:\n",
      "[[-100, 100],\n",
      "[-100, 100]]\n",
      "[INFO-wrappers_bo-03/08/2021-14:40:11] str_cov: matern52\n",
      "[INFO-wrappers_bo-03/08/2021-14:40:11] str_acq: ei\n",
      "[INFO-wrappers_bo-03/08/2021-14:40:11] str_optimizer_method_gp: BFGS\n"
     ]
    },
    {
     "name": "stdout",
     "output_type": "stream",
     "text": [
      "termination on tolfun=1e-11 (Mon Mar  8 14:40:11 2021)\n",
      "final/bestever f-value = -1.371430e+01 -1.371430e+01\n",
      "incumbent solution: [-0.2511889193454735, -29.6079304445632]\n",
      "std deviation: [27.45045907725141, 22.37736135905403]\n",
      "BO Round 49\n"
     ]
    },
    {
     "name": "stderr",
     "output_type": "stream",
     "text": [
      "[INFO-wrappers_bo-03/08/2021-14:40:11] str_optimizer_method_bo: CMA-ES\n",
      "[INFO-wrappers_bo-03/08/2021-14:40:11] str_modelselection_method: ml\n",
      "[INFO-wrappers_bo-03/08/2021-14:40:11] num_init: 2\n",
      "[INFO-wrappers_bo-03/08/2021-14:40:11] num_iter: 6\n",
      "[INFO-wrappers_bo-03/08/2021-14:40:11] str_initial_method_bo: uniform\n",
      "[INFO-wrappers_bo-03/08/2021-14:40:11] str_sampling_method_ao: uniform\n",
      "[INFO-wrappers_bo-03/08/2021-14:40:11] num_samples_ao: 100\n",
      "[INFO-wrappers_bo-03/08/2021-14:40:11] str_mlm_method: regular\n",
      "[INFO-wrappers_bo-03/08/2021-14:40:11] seed: None\n",
      "[INFO-wrappers_bo-03/08/2021-14:40:11] Iteration 1\n",
      "[DEBUG-bo-03/08/2021-14:40:11] num_samples is ignored.\n"
     ]
    },
    {
     "name": "stdout",
     "output_type": "stream",
     "text": [
      "Iterat #Fevals   function value  axis ratio  sigma  min&max std  t[m:s]\n",
      "    1      6 -2.820848170587727e+01 1.0e+00 4.07e+01  4e+01  4e+01 0:00.0\n"
     ]
    },
    {
     "name": "stderr",
     "output_type": "stream",
     "text": [
      "[INFO-wrappers_bo-03/08/2021-14:40:11] Iteration 2\n"
     ]
    },
    {
     "name": "stdout",
     "output_type": "stream",
     "text": [
      "termination on tolfun=1e-11 (Mon Mar  8 14:40:11 2021)\n",
      "final/bestever f-value = -2.820848e+01 -2.820848e+01\n",
      "incumbent solution: [97.03883028464217, 87.13680387747034]\n",
      "std deviation: [35.11090070870504, 37.321615978242036]\n"
     ]
    },
    {
     "name": "stderr",
     "output_type": "stream",
     "text": [
      "[DEBUG-bo-03/08/2021-14:40:11] num_samples is ignored.\n"
     ]
    },
    {
     "name": "stdout",
     "output_type": "stream",
     "text": [
      "Iterat #Fevals   function value  axis ratio  sigma  min&max std  t[m:s]\n",
      "    1      6 -2.324404644899439e+01 1.0e+00 5.44e+01  5e+01  6e+01 0:00.0\n"
     ]
    },
    {
     "name": "stderr",
     "output_type": "stream",
     "text": [
      "[INFO-wrappers_bo-03/08/2021-14:40:12] Iteration 3\n"
     ]
    },
    {
     "name": "stdout",
     "output_type": "stream",
     "text": [
      "termination on tolfun=1e-11 (Mon Mar  8 14:40:12 2021)\n",
      "final/bestever f-value = -2.324405e+01 -2.324405e+01\n",
      "incumbent solution: [60.0794832618328, -94.05952560287977]\n",
      "std deviation: [62.96450543694244, 54.68001582205394]\n"
     ]
    },
    {
     "name": "stderr",
     "output_type": "stream",
     "text": [
      "[DEBUG-bo-03/08/2021-14:40:12] num_samples is ignored.\n"
     ]
    },
    {
     "name": "stdout",
     "output_type": "stream",
     "text": [
      "Iterat #Fevals   function value  axis ratio  sigma  min&max std  t[m:s]\n",
      "    1      6 -2.441455521018188e+01 1.0e+00 4.87e+01  5e+01  5e+01 0:00.0\n"
     ]
    },
    {
     "name": "stderr",
     "output_type": "stream",
     "text": [
      "[INFO-wrappers_bo-03/08/2021-14:40:12] Iteration 4\n"
     ]
    },
    {
     "name": "stdout",
     "output_type": "stream",
     "text": [
      "termination on tolfun=1e-11 (Mon Mar  8 14:40:12 2021)\n",
      "final/bestever f-value = -2.441456e+01 -2.441456e+01\n",
      "incumbent solution: [-91.01139297106778, 20.216227239179233]\n",
      "std deviation: [45.5669555587672, 48.415668626547436]\n"
     ]
    },
    {
     "name": "stderr",
     "output_type": "stream",
     "text": [
      "[DEBUG-bo-03/08/2021-14:40:12] num_samples is ignored.\n"
     ]
    },
    {
     "name": "stdout",
     "output_type": "stream",
     "text": [
      "Iterat #Fevals   function value  axis ratio  sigma  min&max std  t[m:s]\n",
      "    1      6 -2.583462469144545e+01 1.0e+00 4.91e+01  5e+01  5e+01 0:00.0\n",
      "termination on tolfun=1e-11 (Mon Mar  8 14:40:12 2021)\n",
      "final/bestever f-value = -2.583462e+01 -2.583462e+01\n",
      "incumbent solution: [8.722813260125108, -92.65429571201796]\n",
      "std deviation: [50.38232639925595, 47.324751081999764]\n"
     ]
    },
    {
     "name": "stderr",
     "output_type": "stream",
     "text": [
      "[INFO-wrappers_bo-03/08/2021-14:40:12] Iteration 5\n",
      "[DEBUG-bo-03/08/2021-14:40:12] num_samples is ignored.\n"
     ]
    },
    {
     "name": "stdout",
     "output_type": "stream",
     "text": [
      "Iterat #Fevals   function value  axis ratio  sigma  min&max std  t[m:s]\n",
      "    1      6 -2.368437387988841e+01 1.0e+00 5.31e+01  5e+01  6e+01 0:00.0\n",
      "termination on tolfun=1e-11 (Mon Mar  8 14:40:12 2021)\n",
      "final/bestever f-value = -2.368437e+01 -2.368437e+01\n",
      "incumbent solution: [98.99319085622459, 61.249764127204884]\n",
      "std deviation: [48.874665382611774, 56.92352879392176]\n"
     ]
    },
    {
     "name": "stderr",
     "output_type": "stream",
     "text": [
      "[INFO-wrappers_bo-03/08/2021-14:40:12] Iteration 6\n",
      "[DEBUG-bo-03/08/2021-14:40:12] num_samples is ignored.\n"
     ]
    },
    {
     "name": "stdout",
     "output_type": "stream",
     "text": [
      "Iterat #Fevals   function value  axis ratio  sigma  min&max std  t[m:s]\n",
      "    1      6 -2.287718299717946e+01 1.0e+00 4.12e+01  4e+01  4e+01 0:00.0\n",
      "termination on tolfun=1e-11 (Mon Mar  8 14:40:12 2021)\n",
      "final/bestever f-value = -2.287718e+01 -2.287718e+01\n",
      "incumbent solution: [-99.47982947396422, 85.80682841961594]\n",
      "std deviation: [35.23171441545509, 38.63840330025426]\n"
     ]
    },
    {
     "name": "stderr",
     "output_type": "stream",
     "text": [
      "[INFO-wrappers_bo-03/08/2021-14:40:12] range_X:\n",
      "[[-100, 100],\n",
      "[-100, 100]]\n",
      "[INFO-wrappers_bo-03/08/2021-14:40:12] str_cov: matern52\n",
      "[INFO-wrappers_bo-03/08/2021-14:40:12] str_acq: ei\n",
      "[INFO-wrappers_bo-03/08/2021-14:40:12] str_optimizer_method_gp: BFGS\n",
      "[INFO-wrappers_bo-03/08/2021-14:40:12] str_optimizer_method_bo: CMA-ES\n",
      "[INFO-wrappers_bo-03/08/2021-14:40:12] str_modelselection_method: ml\n",
      "[INFO-wrappers_bo-03/08/2021-14:40:12] num_init: 9\n",
      "[INFO-wrappers_bo-03/08/2021-14:40:12] num_iter: 9\n",
      "[INFO-wrappers_bo-03/08/2021-14:40:12] str_initial_method_bo: uniform\n",
      "[INFO-wrappers_bo-03/08/2021-14:40:12] str_sampling_method_ao: uniform\n",
      "[INFO-wrappers_bo-03/08/2021-14:40:12] num_samples_ao: 100\n",
      "[INFO-wrappers_bo-03/08/2021-14:40:12] str_mlm_method: regular\n",
      "[INFO-wrappers_bo-03/08/2021-14:40:12] seed: None\n",
      "[INFO-wrappers_bo-03/08/2021-14:40:12] Iteration 1\n"
     ]
    },
    {
     "name": "stdout",
     "output_type": "stream",
     "text": [
      "BO Round 50\n"
     ]
    },
    {
     "name": "stderr",
     "output_type": "stream",
     "text": [
      "[DEBUG-bo-03/08/2021-14:40:12] num_samples is ignored.\n"
     ]
    },
    {
     "name": "stdout",
     "output_type": "stream",
     "text": [
      "Iterat #Fevals   function value  axis ratio  sigma  min&max std  t[m:s]\n",
      "    1      6 -2.615110993138011e+01 1.0e+00 5.06e+01  5e+01  5e+01 0:00.0\n"
     ]
    },
    {
     "name": "stderr",
     "output_type": "stream",
     "text": [
      "[INFO-wrappers_bo-03/08/2021-14:40:12] Iteration 2\n"
     ]
    },
    {
     "name": "stdout",
     "output_type": "stream",
     "text": [
      "termination on tolfun=1e-11 (Mon Mar  8 14:40:12 2021)\n",
      "final/bestever f-value = -2.615111e+01 -2.615111e+01\n",
      "incumbent solution: [-86.38566483048146, 64.68231439708511]\n",
      "std deviation: [51.607438809949215, 49.0909654789817]\n"
     ]
    },
    {
     "name": "stderr",
     "output_type": "stream",
     "text": [
      "[DEBUG-bo-03/08/2021-14:40:12] num_samples is ignored.\n"
     ]
    },
    {
     "name": "stdout",
     "output_type": "stream",
     "text": [
      "Iterat #Fevals   function value  axis ratio  sigma  min&max std  t[m:s]\n",
      "    1      6 -2.587560771440580e+01 1.0e+00 9.03e+01  9e+01  1e+02 0:00.0\n",
      "    2     12 -2.587560771440580e+01 1.5e+00 7.77e+01  7e+01  9e+01 0:00.0\n",
      "    3     18 -2.587560771440580e+01 1.5e+00 5.85e+01  5e+01  6e+01 0:00.0\n",
      "    4     24 -2.587560771440580e+01 1.4e+00 5.27e+01  4e+01  5e+01 0:00.0\n"
     ]
    },
    {
     "name": "stderr",
     "output_type": "stream",
     "text": [
      "[INFO-wrappers_bo-03/08/2021-14:40:12] Iteration 3\n"
     ]
    },
    {
     "name": "stdout",
     "output_type": "stream",
     "text": [
      "termination on tolfun=1e-11 (Mon Mar  8 14:40:12 2021)\n",
      "final/bestever f-value = -2.587561e+01 -2.587561e+01\n",
      "incumbent solution: [94.2397122472812, 26.170061145394918]\n",
      "std deviation: [40.50543108333968, 50.675756835406894]\n"
     ]
    },
    {
     "name": "stderr",
     "output_type": "stream",
     "text": [
      "[DEBUG-bo-03/08/2021-14:40:12] num_samples is ignored.\n"
     ]
    },
    {
     "name": "stdout",
     "output_type": "stream",
     "text": [
      "Iterat #Fevals   function value  axis ratio  sigma  min&max std  t[m:s]\n",
      "    1      6 -2.559661797294899e+01 1.0e+00 6.28e+01  6e+01  8e+01 0:00.0\n",
      "    2     12 -2.559661797294899e+01 1.4e+00 4.60e+01  4e+01  5e+01 0:00.0\n",
      "    3     18 -2.559661797294899e+01 1.4e+00 5.02e+01  5e+01  5e+01 0:00.0\n",
      "    4     24 -2.559661797294899e+01 1.1e+00 4.51e+01  4e+01  5e+01 0:00.0\n"
     ]
    },
    {
     "name": "stderr",
     "output_type": "stream",
     "text": [
      "[INFO-wrappers_bo-03/08/2021-14:40:12] Iteration 4\n"
     ]
    },
    {
     "name": "stdout",
     "output_type": "stream",
     "text": [
      "termination on tolfun=1e-11 (Mon Mar  8 14:40:12 2021)\n",
      "final/bestever f-value = -2.559662e+01 -2.559662e+01\n",
      "incumbent solution: [-37.141444635576605, 25.8744350318635]\n",
      "std deviation: [46.35692228315457, 36.235998627021154]\n"
     ]
    },
    {
     "name": "stderr",
     "output_type": "stream",
     "text": [
      "[DEBUG-bo-03/08/2021-14:40:12] num_samples is ignored.\n"
     ]
    },
    {
     "name": "stdout",
     "output_type": "stream",
     "text": [
      "Iterat #Fevals   function value  axis ratio  sigma  min&max std  t[m:s]\n",
      "    1      6 -2.599744427040207e+01 1.0e+00 7.67e+01  8e+01  9e+01 0:00.0\n",
      "    2     12 -2.599744427040207e+01 1.2e+00 7.94e+01  7e+01  8e+01 0:00.0\n",
      "    3     18 -2.599744427040207e+01 1.2e+00 7.65e+01  6e+01  8e+01 0:00.0\n",
      "    4     24 -2.599744427040207e+01 1.4e+00 9.12e+01  6e+01  1e+02 0:00.0\n"
     ]
    },
    {
     "name": "stderr",
     "output_type": "stream",
     "text": [
      "[INFO-wrappers_bo-03/08/2021-14:40:12] Iteration 5\n"
     ]
    },
    {
     "name": "stdout",
     "output_type": "stream",
     "text": [
      "termination on tolflatfitness=1 (Mon Mar  8 14:40:12 2021)\n",
      "final/bestever f-value = -2.599744e+01 -2.599744e+01\n",
      "incumbent solution: [-10.136643410061659, -74.65372421809329]\n",
      "std deviation: [59.865870351296294, 105.06234715355617]\n"
     ]
    },
    {
     "name": "stderr",
     "output_type": "stream",
     "text": [
      "[DEBUG-bo-03/08/2021-14:40:12] num_samples is ignored.\n"
     ]
    },
    {
     "name": "stdout",
     "output_type": "stream",
     "text": [
      "Iterat #Fevals   function value  axis ratio  sigma  min&max std  t[m:s]\n",
      "    1      6 -2.547331347207718e+01 1.0e+00 4.31e+01  4e+01  4e+01 0:00.0\n",
      "    2     12 -2.547331347207718e+01 1.1e+00 3.71e+01  3e+01  3e+01 0:00.0\n",
      "    3     18 -2.547331347207718e+01 1.2e+00 3.23e+01  2e+01  3e+01 0:00.0\n"
     ]
    },
    {
     "name": "stderr",
     "output_type": "stream",
     "text": [
      "[INFO-wrappers_bo-03/08/2021-14:40:12] Iteration 6\n"
     ]
    },
    {
     "name": "stdout",
     "output_type": "stream",
     "text": [
      "termination on tolfun=1e-11 (Mon Mar  8 14:40:12 2021)\n",
      "final/bestever f-value = -2.547331e+01 -2.547331e+01\n",
      "incumbent solution: [-28.209079106281898, -29.100941060363045]\n",
      "std deviation: [28.379413626186324, 23.06117025581499]\n"
     ]
    },
    {
     "name": "stderr",
     "output_type": "stream",
     "text": [
      "[DEBUG-bo-03/08/2021-14:40:12] num_samples is ignored.\n"
     ]
    },
    {
     "name": "stdout",
     "output_type": "stream",
     "text": [
      "Iterat #Fevals   function value  axis ratio  sigma  min&max std  t[m:s]\n",
      "    1      6 -2.486826748543757e+01 1.0e+00 7.25e+01  7e+01  8e+01 0:00.0\n",
      "    2     12 -2.486826748543757e+01 1.1e+00 7.60e+01  7e+01  7e+01 0:00.0\n",
      "    3     18 -2.486826748543757e+01 1.1e+00 6.74e+01  5e+01  6e+01 0:00.0\n"
     ]
    },
    {
     "name": "stderr",
     "output_type": "stream",
     "text": [
      "[INFO-wrappers_bo-03/08/2021-14:40:12] Iteration 7\n"
     ]
    },
    {
     "name": "stdout",
     "output_type": "stream",
     "text": [
      "termination on tolfun=1e-11 (Mon Mar  8 14:40:12 2021)\n",
      "final/bestever f-value = -2.486827e+01 -2.486827e+01\n",
      "incumbent solution: [-3.87042918293335, -50.63299252438875]\n",
      "std deviation: [61.92409895243777, 54.72748842947632]\n"
     ]
    },
    {
     "name": "stderr",
     "output_type": "stream",
     "text": [
      "[DEBUG-bo-03/08/2021-14:40:12] num_samples is ignored.\n"
     ]
    },
    {
     "name": "stdout",
     "output_type": "stream",
     "text": [
      "Iterat #Fevals   function value  axis ratio  sigma  min&max std  t[m:s]\n",
      "    1      6 -2.449164223040705e+01 1.0e+00 4.47e+01  4e+01  4e+01 0:00.0\n"
     ]
    },
    {
     "name": "stderr",
     "output_type": "stream",
     "text": [
      "[INFO-wrappers_bo-03/08/2021-14:40:12] Iteration 8\n"
     ]
    },
    {
     "name": "stdout",
     "output_type": "stream",
     "text": [
      "termination on tolfun=1e-11 (Mon Mar  8 14:40:12 2021)\n",
      "final/bestever f-value = -2.449164e+01 -2.449164e+01\n",
      "incumbent solution: [-83.9937977007526, 70.26407851059433]\n",
      "std deviation: [44.73359451448805, 39.56711237262842]\n"
     ]
    },
    {
     "name": "stderr",
     "output_type": "stream",
     "text": [
      "[DEBUG-bo-03/08/2021-14:40:12] num_samples is ignored.\n"
     ]
    },
    {
     "name": "stdout",
     "output_type": "stream",
     "text": [
      "Iterat #Fevals   function value  axis ratio  sigma  min&max std  t[m:s]\n",
      "    1      6 -2.481971223090693e+01 1.0e+00 3.71e+01  3e+01  3e+01 0:00.0\n",
      "    2     12 -2.481971223090693e+01 1.1e+00 2.93e+01  2e+01  3e+01 0:00.0\n",
      "    3     18 -2.481971223090693e+01 1.2e+00 3.98e+01  4e+01  4e+01 0:00.0\n",
      "    4     24 -2.481971223090693e+01 1.5e+00 3.86e+01  3e+01  3e+01 0:00.0\n"
     ]
    },
    {
     "name": "stderr",
     "output_type": "stream",
     "text": [
      "[INFO-wrappers_bo-03/08/2021-14:40:12] Iteration 9\n"
     ]
    },
    {
     "name": "stdout",
     "output_type": "stream",
     "text": [
      "termination on tolfun=1e-11 (Mon Mar  8 14:40:12 2021)\n",
      "final/bestever f-value = -2.481971e+01 -2.481971e+01\n",
      "incumbent solution: [83.29481232973168, -7.3404867398744695]\n",
      "std deviation: [33.86816353456188, 33.01992672562108]\n"
     ]
    },
    {
     "name": "stderr",
     "output_type": "stream",
     "text": [
      "[DEBUG-bo-03/08/2021-14:40:12] num_samples is ignored.\n"
     ]
    },
    {
     "name": "stdout",
     "output_type": "stream",
     "text": [
      "Iterat #Fevals   function value  axis ratio  sigma  min&max std  t[m:s]\n",
      "    1      6 -2.545282024379189e+01 1.0e+00 4.07e+01  3e+01  4e+01 0:00.0\n",
      "termination on tolfun=1e-11 (Mon Mar  8 14:40:12 2021)\n",
      "final/bestever f-value = -2.545282e+01 -2.545282e+01\n",
      "incumbent solution: [-55.26126977057635, 10.928229170729397]\n",
      "std deviation: [40.91993588715562, 32.24096037342734]\n"
     ]
    }
   ],
   "source": [
    "for ind_bo in range(0, num_bo):\n",
    "    start = time.time()\n",
    "    print('BO Round', ind_bo + 1)\n",
    "    random1 = abs(int(np.round(np.random.randint(1, 10) + 1)))\n",
    "    random2 = abs(int(np.round(np.random.randint(1, 10) + 1)))\n",
    "    X_final, Y_final, time_final, _, _ = wrappers_bo.run_single_round(\n",
    "        model_bo, func, num_init=random1, num_iter=random2,\n",
    "        str_initial_method_bo='uniform', str_sampling_method_ao='uniform', num_samples_ao=100)\n",
    "    n_of_trials = random1 + random2\n",
    "    bx_best, y_best = utils_bo.get_best_acquisition_by_history(X_final, Y_final)\n",
    "    list_X.append(bx_best[0])\n",
    "    list_Y.append(bx_best[1])\n",
    "    z.append((func(bx_best) / max_value))\n",
    "    end = time.time()\n",
    "    timetaken = (end - start) / n_of_trials\n",
    "    itr_time.append(timetaken)\n",
    "    n_of_trials_vector.append(n_of_trials)\n",
    "    accuracy = z\n",
    "    mean_time = itr_time"
   ]
  },
  {
   "cell_type": "code",
   "execution_count": 11,
   "metadata": {},
   "outputs": [],
   "source": [
    "n_of_trials_vector = np.asarray(n_of_trials_vector).reshape(-1,1)\n",
    "accuracy = np.asarray(accuracy).reshape(-1,1)\n",
    "mean_time = np.asarray(mean_time).reshape(-1,1)\n",
    "type_of_opt = np.asarray([Type_of_optimizer]*accuracy.shape[0]).reshape(-1,1)\n",
    "num_of_params = np.asarray([n_of_params]*accuracy.shape[0]).reshape(-1,1)\n",
    "type_of_func = np.asarray([Type_of_function]*accuracy.shape[0]).reshape(-1,1)\n",
    "data1 = np.hstack((n_of_trials_vector, num_of_params, type_of_func,accuracy, mean_time, type_of_opt))\n",
    "df_CmaEs = pd.DataFrame(data1, columns=['number of trials','number of parameters','type of function','accuracy [calc. max/ actual max]', 'time per trial [s]', 'type_of_opt'])\n",
    "# print(df_CmaEs)\n",
    "df_CmaEs.to_csv('Data_CMA-ES_2P.csv')"
   ]
  },
  {
   "cell_type": "code",
   "execution_count": null,
   "metadata": {},
   "outputs": [],
   "source": []
  }
 ],
 "metadata": {
  "kernelspec": {
   "display_name": "env_BayesO",
   "language": "python",
   "name": "env_bayeso"
  },
  "language_info": {
   "codemirror_mode": {
    "name": "ipython",
    "version": 3
   },
   "file_extension": ".py",
   "mimetype": "text/x-python",
   "name": "python",
   "nbconvert_exporter": "python",
   "pygments_lexer": "ipython3",
   "version": "3.7.10"
  }
 },
 "nbformat": 4,
 "nbformat_minor": 4
}
